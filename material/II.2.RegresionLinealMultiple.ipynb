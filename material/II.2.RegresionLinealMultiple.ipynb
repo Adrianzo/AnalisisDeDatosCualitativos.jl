{
 "cells": [
  {
   "cell_type": "markdown",
   "metadata": {},
   "source": [
    "### Unidad II. Regresiones y reducción de dimensionalidad.\n",
    "\n",
    "## Regresión Lineal Múltiple por el método de los Mínimos Cuadrados.\n",
    "\n",
    "- Examen de los residuos. Prueba de normalidad de los residuales. \n",
    "- Prueba de homogeneidad de varianza. \n",
    "- Mínimos Cuadrados Ponderados. \n",
    "- Observaciones extremas. \n",
    "- Búsqueda de la mejor ecuación de regresión. Stepwise regression"
   ]
  },
  {
   "cell_type": "markdown",
   "metadata": {},
   "source": [
    "### Regresión Lineal Múltiple"
   ]
  },
  {
   "cell_type": "code",
   "execution_count": 1,
   "metadata": {
    "collapsed": false
   },
   "outputs": [
    {
     "data": {
      "text/plain": [
       "10"
      ]
     },
     "execution_count": 1,
     "metadata": {},
     "output_type": "execute_result"
    }
   ],
   "source": [
    "k = 2  # variables independientes\n",
    "N = 10 # observaciones"
   ]
  },
  {
   "cell_type": "code",
   "execution_count": 2,
   "metadata": {
    "collapsed": false
   },
   "outputs": [
    {
     "data": {
      "text/plain": [
       "10x2 Array{Float64,2}:\n",
       " 0.629431  0.450741 \n",
       " 0.361827  0.0340923\n",
       " 0.648814  0.38683  \n",
       " 0.850182  0.479027 \n",
       " 0.195096  0.183894 \n",
       " 0.556738  0.792507 \n",
       " 0.369619  0.920438 \n",
       " 0.759165  0.908434 \n",
       " 0.939834  0.842273 \n",
       " 0.069978  0.889898 "
      ]
     },
     "execution_count": 2,
     "metadata": {},
     "output_type": "execute_result"
    }
   ],
   "source": [
    "X = rand(N, k) # simulación: valores observados para las variables independientes"
   ]
  },
  {
   "cell_type": "code",
   "execution_count": 3,
   "metadata": {
    "collapsed": false
   },
   "outputs": [
    {
     "data": {
      "text/plain": [
       "0.3301683547620873"
      ]
     },
     "execution_count": 3,
     "metadata": {},
     "output_type": "execute_result"
    }
   ],
   "source": [
    "α = rand() # simulación: valor real de la intersección"
   ]
  },
  {
   "cell_type": "code",
   "execution_count": 4,
   "metadata": {
    "collapsed": false
   },
   "outputs": [
    {
     "data": {
      "text/plain": [
       "2-element Array{Float64,1}:\n",
       " 0.30421 \n",
       " 0.391893"
      ]
     },
     "execution_count": 4,
     "metadata": {},
     "output_type": "execute_result"
    }
   ],
   "source": [
    "β = rand(k) # simulación: valores reales de los coeficientes"
   ]
  },
  {
   "cell_type": "code",
   "execution_count": 5,
   "metadata": {
    "collapsed": false
   },
   "outputs": [
    {
     "data": {
      "text/plain": [
       "10-element Array{Float64,1}:\n",
       " 0.0183284 \n",
       " 0.0968581 \n",
       " 0.0823867 \n",
       " 0.00971326\n",
       " 0.0143502 \n",
       " 0.0980046 \n",
       " 0.0576521 \n",
       " 0.0378605 \n",
       " 0.0291259 \n",
       " 0.028625  "
      ]
     },
     "execution_count": 5,
     "metadata": {},
     "output_type": "execute_result"
    }
   ],
   "source": [
    "E = 0.1 .* rand(N) # simulación: agrega errores al azar al modelo"
   ]
  },
  {
   "cell_type": "code",
   "execution_count": 6,
   "metadata": {
    "collapsed": false
   },
   "outputs": [
    {
     "data": {
      "text/plain": [
       "10-element Array{Float64,1}:\n",
       " 0.716618\n",
       " 0.550458\n",
       " 0.761527\n",
       " 0.786242\n",
       " 0.475935\n",
       " 0.908116\n",
       " 0.860975\n",
       " 0.954983\n",
       " 0.975282\n",
       " 0.728826"
      ]
     },
     "execution_count": 6,
     "metadata": {},
     "output_type": "execute_result"
    }
   ],
   "source": [
    "Y = α + X * β + E # valores para la variable dependiente con el modelo lineal que acabamos de armar"
   ]
  },
  {
   "cell_type": "markdown",
   "metadata": {},
   "source": [
    "La biblioteca [**MultivariateStats**](https://github.com/JuliaStats/MultivariateStats.jl) de Julia\n",
    "implementa la regresión lineal por cuadrados mínimos en su función `llsq`. Este método toma la matriz de valores de la variable dependiente y el vector de la independiente. Retorna un vector de la forma $[\\beta_{1}, …, \\beta_{k}, \\alpha]$."
   ]
  },
  {
   "cell_type": "code",
   "execution_count": 7,
   "metadata": {
    "collapsed": false
   },
   "outputs": [
    {
     "data": {
      "text/plain": [
       "3-element Array{Float64,1}:\n",
       " 0.293632\n",
       " 0.380297\n",
       " 0.389978"
      ]
     },
     "execution_count": 7,
     "metadata": {},
     "output_type": "execute_result"
    }
   ],
   "source": [
    "using MultivariateStats\n",
    "\n",
    "predicción = llsq(X, Y)"
   ]
  },
  {
   "cell_type": "code",
   "execution_count": 8,
   "metadata": {
    "collapsed": false
   },
   "outputs": [
    {
     "data": {
      "text/plain": [
       "0.38997782496661726"
      ]
     },
     "execution_count": 8,
     "metadata": {},
     "output_type": "execute_result"
    }
   ],
   "source": [
    "αₚ = predicción[end] # valor de la intersección del ajuste"
   ]
  },
  {
   "cell_type": "code",
   "execution_count": 9,
   "metadata": {
    "collapsed": false
   },
   "outputs": [
    {
     "data": {
      "text/plain": [
       "2-element Array{Float64,1}:\n",
       " 0.293632\n",
       " 0.380297"
      ]
     },
     "execution_count": 9,
     "metadata": {},
     "output_type": "execute_result"
    }
   ],
   "source": [
    "βₚ = predicción[1:end-1] # valores de los coeficientes del ajuste"
   ]
  },
  {
   "cell_type": "code",
   "execution_count": 10,
   "metadata": {
    "collapsed": false
   },
   "outputs": [
    {
     "data": {
      "text/plain": [
       "10-element Array{Float64,1}:\n",
       " 0.746215\n",
       " 0.509187\n",
       " 0.727601\n",
       " 0.821791\n",
       " 0.517199\n",
       " 0.854842\n",
       " 0.84855 \n",
       " 0.958368\n",
       " 0.986258\n",
       " 0.748951"
      ]
     },
     "execution_count": 10,
     "metadata": {},
     "output_type": "execute_result"
    }
   ],
   "source": [
    "Yₚ = αₚ + X*βₚ # valores predichos para la variable dependiente"
   ]
  },
  {
   "cell_type": "markdown",
   "metadata": {},
   "source": [
    "Diferencias entre los valores reales y los ajustados"
   ]
  },
  {
   "cell_type": "code",
   "execution_count": 11,
   "metadata": {
    "collapsed": false
   },
   "outputs": [
    {
     "data": {
      "text/plain": [
       "-0.05980947020452998"
      ]
     },
     "execution_count": 11,
     "metadata": {},
     "output_type": "execute_result"
    }
   ],
   "source": [
    "α - αₚ"
   ]
  },
  {
   "cell_type": "code",
   "execution_count": 12,
   "metadata": {
    "collapsed": false
   },
   "outputs": [
    {
     "data": {
      "text/plain": [
       "2-element Array{Float64,1}:\n",
       " 0.0105772\n",
       " 0.0115958"
      ]
     },
     "execution_count": 12,
     "metadata": {},
     "output_type": "execute_result"
    }
   ],
   "source": [
    "β - βₚ"
   ]
  },
  {
   "cell_type": "code",
   "execution_count": 13,
   "metadata": {
    "collapsed": false
   },
   "outputs": [
    {
     "data": {
      "text/plain": [
       "10-element Array{Float64,1}:\n",
       " -0.0295968 \n",
       "  0.0412711 \n",
       "  0.0339255 \n",
       " -0.035549  \n",
       " -0.0412633 \n",
       "  0.0532736 \n",
       "  0.0124254 \n",
       " -0.00338515\n",
       " -0.010976  \n",
       " -0.0201253 "
      ]
     },
     "execution_count": 13,
     "metadata": {},
     "output_type": "execute_result"
    }
   ],
   "source": [
    "Eₚ = Y - Yₚ # son los valores residuales de la regresión"
   ]
  },
  {
   "cell_type": "code",
   "execution_count": 15,
   "metadata": {
    "collapsed": false
   },
   "outputs": [
    {
     "data": {
      "text/html": [
       "<img src=\"data:image/png;base64,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\" />"
      ]
     },
     "execution_count": 15,
     "metadata": {},
     "output_type": "execute_result"
    }
   ],
   "source": [
    "using Plots\n",
    "pyplot(size=(500,250))\n",
    "\n",
    "plot(\n",
    "scatter(Y, Yₚ, legend=false, \n",
    "        xlab=\"Valores\", ylab=\"Predicciones\"),\n",
    "histogram(Eₚ, label=\"Residuales\", bins=5)\n",
    ")"
   ]
  },
  {
   "cell_type": "markdown",
   "metadata": {},
   "source": [
    "### Análisis de regresión"
   ]
  },
  {
   "cell_type": "markdown",
   "metadata": {},
   "source": [
    "[**Supuestos**](http://www.itl.nist.gov/div898/handbook/pri/section2/pri24.htm), muchos de los cuales aplican a los residuos:  \n",
    "\n",
    "- **Linealidad**: Si no se cumple se comete un error de <a href=\"https://en.wikipedia.org/wiki/Specification_(regression)\">especificación</a>, dado que el modelo será incorrecto. En el caso de una o dos variables independientes, ayuda observar un gráfico de dispersión en busca de una tendencia lineal (línea, plano).   \n",
    "- **Independencia de los residuos**: Los residuos no deben estar correlacionados (deben ser una variable aleatoria), algo que puede suceder cuando se trabaja con series temporales. El [estadístico de Durbin-Watson](https://en.wikipedia.org/wiki/Durbin%E2%80%93Watson_statistic) puede ayudar en la detección de autocorrelaciones.  \n",
    "- **Homocedasticidad**: Igualdad de varianza para cada valor o grupo de valores de la/s variable/s independiente/s  \n",
    "- **Normalidad**: Para cada valor o grupo de valores de la/s variable/s independiente/s los residuos se distribuyen de manera normal con $\\mu = 0$   \n",
    "- **No-colinealidad**: Las variables independientes no pueden ser combinaciones lineales unas de otras, no debe haber correlación entre ellas.   "
   ]
  },
  {
   "cell_type": "code",
   "execution_count": 16,
   "metadata": {
    "collapsed": true
   },
   "outputs": [],
   "source": [
    "using GLM"
   ]
  },
  {
   "cell_type": "code",
   "execution_count": 17,
   "metadata": {
    "collapsed": false
   },
   "outputs": [
    {
     "data": {
      "text/plain": [
       "10x3 Array{Float64,2}:\n",
       " 1.0  0.629431  0.450741 \n",
       " 1.0  0.361827  0.0340923\n",
       " 1.0  0.648814  0.38683  \n",
       " 1.0  0.850182  0.479027 \n",
       " 1.0  0.195096  0.183894 \n",
       " 1.0  0.556738  0.792507 \n",
       " 1.0  0.369619  0.920438 \n",
       " 1.0  0.759165  0.908434 \n",
       " 1.0  0.939834  0.842273 \n",
       " 1.0  0.069978  0.889898 "
      ]
     },
     "execution_count": 17,
     "metadata": {},
     "output_type": "execute_result"
    }
   ],
   "source": [
    "Xₐ = hcat(ones(N), X) # Y = 1*α + β₁X₁ + β₂X₂ + ..."
   ]
  },
  {
   "cell_type": "code",
   "execution_count": 18,
   "metadata": {
    "collapsed": false
   },
   "outputs": [
    {
     "data": {
      "text/plain": [
       "GLM.LinearModel{GLM.LmResp{Array{Float64,1}},GLM.DensePredQR{Float64}}:\n",
       "\n",
       "Coefficients:\n",
       "     Estimate Std.Error t value Pr(>|t|)\n",
       "x1   0.389978  0.033078 11.7896    <1e-5\n",
       "x2   0.293632 0.0456119 6.43762   0.0004\n",
       "x3   0.380297 0.0397978 9.55572    <1e-4\n",
       "\n"
      ]
     },
     "execution_count": 18,
     "metadata": {},
     "output_type": "execute_result"
    }
   ],
   "source": [
    "modelo = lm(Xₐ,Y)"
   ]
  },
  {
   "cell_type": "code",
   "execution_count": 19,
   "metadata": {
    "collapsed": false
   },
   "outputs": [
    {
     "data": {
      "text/plain": [
       "10-element Array{Float64,1}:\n",
       " -0.0295968 \n",
       "  0.0412711 \n",
       "  0.0339255 \n",
       " -0.035549  \n",
       " -0.0412633 \n",
       "  0.0532736 \n",
       "  0.0124254 \n",
       " -0.00338515\n",
       " -0.010976  \n",
       " -0.0201253 "
      ]
     },
     "execution_count": 19,
     "metadata": {},
     "output_type": "execute_result"
    }
   ],
   "source": [
    "residuos = residuals(modelo)"
   ]
  },
  {
   "cell_type": "markdown",
   "metadata": {},
   "source": [
    "### Mínimos Cuadrados Ponderados."
   ]
  },
  {
   "cell_type": "markdown",
   "metadata": {},
   "source": [
    "En el caso de no cumplirse con la homocedacia, es posible darle a cada observación un peso inversamente proporcional a la varianza para ese valor o grupo de valores de la/s variable/s independiente/s en una regresion por [minimos cuadrados ponderados](https://en.wikipedia.org/wiki/Least_squares#Weighted_least_squares). Lo óptimo es conocer de antemano cual es la varianza de cada medición. Por ejemplo si medimos cada dato con una herramienta diferente y conocemos su error. Sino existen maneras de determinar los posibles valores de la varianza (o de un estimador robusto correlacionado con ésta) con respecto a las variables independientes.  "
   ]
  },
  {
   "cell_type": "code",
   "execution_count": 20,
   "metadata": {
    "collapsed": true
   },
   "outputs": [],
   "source": [
    "using DataFrames"
   ]
  },
  {
   "cell_type": "code",
   "execution_count": 21,
   "metadata": {
    "collapsed": false
   },
   "outputs": [
    {
     "data": {
      "text/html": [
       "<table class=\"data-frame\"><tr><th></th><th>X</th><th>Y</th></tr><tr><th>1</th><td>0.56273022287607</td><td>5.94838411536056</td></tr><tr><th>2</th><td>0.7084749093766898</td><td>6.149688591485289</td></tr><tr><th>3</th><td>0.7011744226769079</td><td>5.605203404759204</td></tr><tr><th>4</th><td>0.2546850750270937</td><td>5.586800444075184</td></tr><tr><th>5</th><td>0.369879545639052</td><td>5.727483077320894</td></tr><tr><th>6</th><td>0.7301955650444896</td><td>6.716683037985142</td></tr><tr><th>7</th><td>0.5647358030282399</td><td>5.9124931575757085</td></tr><tr><th>8</th><td>0.15962795538283814</td><td>5.344786142554019</td></tr><tr><th>9</th><td>0.1997544958124131</td><td>5.308482041315156</td></tr><tr><th>10</th><td>0.9910014388035344</td><td>6.597542141028769</td></tr><tr><th>11</th><td>0.8827563033895545</td><td>7.056237528163553</td></tr><tr><th>12</th><td>0.6696788980340711</td><td>6.360644849136796</td></tr><tr><th>13</th><td>0.42044844407897086</td><td>5.879068348399444</td></tr><tr><th>14</th><td>0.4247236402045578</td><td>5.679663903616295</td></tr><tr><th>15</th><td>0.8021377274338981</td><td>6.861554757417133</td></tr><tr><th>16</th><td>0.9758693616961105</td><td>6.9515384850681565</td></tr><tr><th>17</th><td>0.14377184335976634</td><td>5.195448987288495</td></tr><tr><th>18</th><td>0.8940761797272752</td><td>6.163497298696846</td></tr><tr><th>19</th><td>0.36812269032208444</td><td>5.592971271501092</td></tr><tr><th>20</th><td>0.8522672280143828</td><td>6.452368911977409</td></tr><tr><th>21</th><td>0.2451326304743231</td><td>5.594769225311631</td></tr><tr><th>22</th><td>0.7362066551106443</td><td>6.208932950780282</td></tr><tr><th>23</th><td>0.2328909982430747</td><td>5.3027047401815315</td></tr><tr><th>24</th><td>0.6683851258665214</td><td>6.084931615806214</td></tr><tr><th>25</th><td>0.6224666749609327</td><td>6.182443704375516</td></tr><tr><th>26</th><td>0.30968227704911944</td><td>5.568006415408782</td></tr><tr><th>27</th><td>0.9174134322882734</td><td>7.20104791138494</td></tr><tr><th>28</th><td>0.7322280315103955</td><td>6.498530538667054</td></tr><tr><th>29</th><td>0.36947870600050314</td><td>5.607817259519335</td></tr><tr><th>30</th><td>0.005647735236542939</td><td>5.010070614378827</td></tr><tr><th>&vellip;</th><td>&vellip;</td><td>&vellip;</td></tr></table>"
      ],
      "text/plain": [
       "100×2 DataFrames.DataFrame\n",
       "│ Row │ X         │ Y       │\n",
       "├─────┼───────────┼─────────┤\n",
       "│ 1   │ 0.56273   │ 5.94838 │\n",
       "│ 2   │ 0.708475  │ 6.14969 │\n",
       "│ 3   │ 0.701174  │ 5.6052  │\n",
       "│ 4   │ 0.254685  │ 5.5868  │\n",
       "│ 5   │ 0.36988   │ 5.72748 │\n",
       "│ 6   │ 0.730196  │ 6.71668 │\n",
       "│ 7   │ 0.564736  │ 5.91249 │\n",
       "│ 8   │ 0.159628  │ 5.34479 │\n",
       "│ 9   │ 0.199754  │ 5.30848 │\n",
       "│ 10  │ 0.991001  │ 6.59754 │\n",
       "│ 11  │ 0.882756  │ 7.05624 │\n",
       "⋮\n",
       "│ 89  │ 0.586249  │ 5.57385 │\n",
       "│ 90  │ 0.674564  │ 6.2797  │\n",
       "│ 91  │ 0.872347  │ 5.40077 │\n",
       "│ 92  │ 0.298184  │ 5.51838 │\n",
       "│ 93  │ 0.519703  │ 6.38571 │\n",
       "│ 94  │ 0.709462  │ 6.04842 │\n",
       "│ 95  │ 0.741969  │ 6.56394 │\n",
       "│ 96  │ 0.0445224 │ 5.09578 │\n",
       "│ 97  │ 0.295177  │ 5.29952 │\n",
       "│ 98  │ 0.135184  │ 5.2176  │\n",
       "│ 99  │ 0.425736  │ 5.61176 │\n",
       "│ 100 │ 0.15253   │ 5.45747 │"
      ]
     },
     "execution_count": 21,
     "metadata": {},
     "output_type": "execute_result"
    }
   ],
   "source": [
    "N = 100\n",
    "X = rand(N)\n",
    "β = rand()\n",
    "α = 5\n",
    "\n",
    "E = rand(Normal(1,0.5),N) .* X # heterocedasticidad\n",
    "\n",
    "Y = α + X * β + E\n",
    "\n",
    "datos = DataFrame(hcat(X, Y))\n",
    "names!(datos, [:X, :Y])"
   ]
  },
  {
   "cell_type": "code",
   "execution_count": 22,
   "metadata": {
    "collapsed": false
   },
   "outputs": [
    {
     "data": {
      "text/plain": [
       "DataFrames.DataFrameRegressionModel{GLM.GeneralizedLinearModel{GLM.GlmResp{Array{Float64,1},Distributions.Normal{Float64},GLM.IdentityLink},GLM.DensePredChol{Float64,Base.LinAlg.Cholesky{Float64,Array{Float64,2}}}},Float64}\n",
       "\n",
       "Formula: Y ~ 1 + X\n",
       "\n",
       "Coefficients:\n",
       "             Estimate Std.Error z value Pr(>|z|)\n",
       "(Intercept)   4.97604  0.054932 90.5854   <1e-99\n",
       "X             1.92648 0.0938146  20.535   <1e-92\n"
      ]
     },
     "execution_count": 22,
     "metadata": {},
     "output_type": "execute_result"
    }
   ],
   "source": [
    "modelo = glm(Y ~ X, datos, Normal(), IdentityLink())"
   ]
  },
  {
   "cell_type": "code",
   "execution_count": 23,
   "metadata": {
    "collapsed": false
   },
   "outputs": [
    {
     "data": {
      "text/plain": [
       "2-element Array{Float64,1}:\n",
       " 4.97604\n",
       " 1.92648"
      ]
     },
     "execution_count": 23,
     "metadata": {},
     "output_type": "execute_result"
    }
   ],
   "source": [
    "coeficientes = coef(modelo)"
   ]
  },
  {
   "cell_type": "code",
   "execution_count": 24,
   "metadata": {
    "collapsed": false
   },
   "outputs": [
    {
     "data": {
      "text/html": [
       "<img src=\"data:image/png;base64,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\" />"
      ]
     },
     "execution_count": 24,
     "metadata": {},
     "output_type": "execute_result"
    }
   ],
   "source": [
    "pyplot(size=(300,300))\n",
    "\n",
    "scatter(datos, :X, :Y, legend=false)\n",
    "Plots.abline!(coeficientes[2], coeficientes[1])"
   ]
  },
  {
   "cell_type": "code",
   "execution_count": 25,
   "metadata": {
    "collapsed": false
   },
   "outputs": [
    {
     "data": {
      "text/plain": [
       "100-element Array{Float64,1}:\n",
       " -0.111747  \n",
       " -0.191218  \n",
       " -0.721639  \n",
       "  0.120113  \n",
       "  0.0388754 \n",
       "  0.333932  \n",
       " -0.151502  \n",
       "  0.0612248 \n",
       " -0.0523825 \n",
       " -0.287647  \n",
       "  0.379581  \n",
       "  0.0944785 \n",
       "  0.0930405 \n",
       "  ⋮         \n",
       " -0.531593  \n",
       "  0.00412744\n",
       " -1.25583   \n",
       " -0.0321105 \n",
       "  0.408466  \n",
       " -0.294383  \n",
       "  0.158512  \n",
       "  0.0339676 \n",
       " -0.24517   \n",
       " -0.0188709 \n",
       " -0.184453  \n",
       "  0.187584  "
      ]
     },
     "execution_count": 25,
     "metadata": {},
     "output_type": "execute_result"
    }
   ],
   "source": [
    "residuos = Y - predict(modelo)"
   ]
  },
  {
   "cell_type": "code",
   "execution_count": 26,
   "metadata": {
    "collapsed": false
   },
   "outputs": [
    {
     "data": {
      "text/html": [
       "<img src=\"data:image/png;base64,iVBORw0KGgoAAAANSUhEUgAAASwAAAEsCAYAAAB5fY51AAAABHNCSVQICAgIfAhkiAAAAAlwSFlzAAAPYQAAD2EBqD+naQAAIABJREFUeJzsnXd8TecbwL93ZMtAkIi9R2yxV20pMWrXiNGW2nsWRc362SOxVVG7RZWqTdWIWauqVhJCKojse5/fH4fIde/NkkSi+X4++Yhz3vE85z33ybnnfYZKRIRMMskkkwyA+n0LkEkmmWSSWDINViaZZJJhyDRYmWSSSYYh02BlkkkmGYZMg5VJJplkGDINViaZZJJh0KbVRIGBgQQGBqbVdJlkkkkGxNXVFVdXV/MNJA0ICAiQunXrCpD5k/mT+ZP5Y/anbt26EhAQYNaWpMkTVmBgIEeOHGH9+vWULFnS6PzgwYOZN29eWoiSqnwoekCmLumVD1mXa9eu0aVLFwIDA80+ZaXZV0KAkiVLUrFiRaPjtra2Jo9nND4UPSDj6CIi3L9/n5iYGPLmzYuFhYVRm4yiS2L4r+uSLl66X7hw4X2LkCJ8KHpA+tdFRFixYgXFSpQif/78FC5cmNx58/H1118TGRlp0Da965IU/uu6pAuDVbx48fctQorwoegB6V+XUaNG8dlnn/G3fWnotx0G/8yTkq2Z/M10mnu1JDo6OrZtetclKfzXdYnXYG3YsIHSpUtTtGhRFi9ebHTex8cHNzc3KlSoQIUKFfjqq6+SLACAo6NjsvqlNz4UPSB963Lu3Dlmz54N7WYjX2yEcs2hVEPoPB99/x858Ot+1q1bF9s+PeuSVP7ruph9h+Xv78/YsWM5f/48VlZW1KhRg7p16+Lu7h7b5syZMyxZsoSWLVsmT+JXdOrU6Z36pxc+FD0gfevi6+uL1jkfMQ36G58sWR91mWYsXupDr169gPStS1L5r+ti9gnrwIEDNGzYkKxZs2Jra0vbtm3ZunWrQZvTp0/j4+NDuXLl6N69O8+ePUu61Hw4i/Ch6AHpW5drN24SU6gGqDUmz+uL1eHmzRux/0/PuiSV/7ouZg3W21uLrq6uBo6fer2efPnyMWXKFC5evEiePHkYOHBgkgUAWLlyZbL6pTc+FD0gfeviaG+P+lmA+QZPA7C3d4j9b3rWJamktC4iwunTp1mzZg1btmxJ9kNHckiOLmYNlqm8fmq12uD33bt3U6lSJQBGjhzJ7t27kywAgJ+fX7L6pTc+FD0gfevSvn079DeOgv8V45Nhz9Cc/p7OHdvHHkrPuiSVlNTl/PnzlKtYiapVq9KjRw/at2+Pi2tuxo4di06nS7F5zJEcXcwaLDc3Nx4+fBj7/4CAANzc3GL//+TJExYtWhT7/5iYGLTa+N26PD098fLyMvipXr06jRo1Mmi3f/9+vLy8jPr369fPyCr7+fnh5eXFkydPDI5PnDiRmTNnGhy7d+8eXl5eXL9+3eD4woULGTFihMGxsLAwvLy8OH78uMHxjRs30qNHDyPZOnTo8MHosXPnToNNlvSmR7t27ShaoiTaxa3g6m/w+o/r/YtoFrbAVq3jxo0b7Ny5EyBWl/SmR1wSWo/XLF68OEX06NevH9Vq1OTqU4GBu2DJS5h5m4iPBjJ95kwGDBiQqnps3LgRPz8/XFxcYm3B4MGDjfoZYc4F3t/fXwoUKCBBQUESGhoqZcuWlTNnzsSeDwsLE2dnZzl37pyIiEyYMEH69Oljcqxz584JENs2k0zelfv370v5ipUFEG1WV7HIWVAAcc2TV/7444/3LV6SiYmJkR9//FFatmotFSpXkY+bt5CtW7dKdHR0qszXqVNn0eYoIMx/IvhGGf50mCOA/PXXX/Lo0SPZv3+/HDx4UF6+fJkqsrwmMXYi3ljCDRs2SOnSpaVYsWIye/ZsERHx9PSMHfDXX3+VcuXKSYkSJaR169by/PnzZAuSSSZJRa/Xy5EjR2TMmDEyYsQI2bZtm0RFRb1vsZJMWFiYNGzcRADRFKwk1OohmsLVBJCateuY/Vwll5cvX4rWwkJoO8PYWPlGCYueicbOSdzdyyjtXsX52Ts6ybhx41LNiCbGTsT7Ha5Tp05Gb/L37NkT+3vDhg0/KM/bTDIWKpWKOnXqUKdOnfctyjsxdOhQDh45CoN2oyvdGAAdwI2jnFrahj59v+T79d+l2HwhISHEREeDSwnTDSxt0GXNy583/kJaT1f83KLCePH7eqZNn8E//9xh/frvUKlUKSZTYkkXnu6mvo9nRD4UPSBTl7Ti33//ZdXqNeibjYFXxiqW4nXQeX3NDz9sIiBA2RVNCV2yZcuGpZU1PLhkukFEKATdRmr1hIYDIUchcHOHtjMQ7xVs2PA9J06ceGc5kqNLujBY/fubcADMgHwoekCmLmnFyZMniYqMgKpmfJKqdkIXE8ORI0eAlNHF2tqazp06oj3qAy+eGDc4uAiiwqDxEONzVTqhzVWEVatWvbMcydElXRisxo0bJ9woA/Ch6AGZuqQVse4DGkvTDV4dj4mJAVJOlwkTJuCgjkLzbT04vQmeB8GDy7BhIOycACXqQfb8xh3VamLylufO3XvvLENydEkXBiuTTP6reHh4oNZo4PxO0w38tgNQvXr1FJ23YMGCnDx+jJrF3WBFNxieByZXwunyVhwcnSBXMdMdRdAE3SRXzhwpKk9iyTRYmaQbRISXL1/GPk38F8idOzdtP2mLZs8U5QknLo9uov1xAk2aeVKkSJEUn7t48eIcOXSQ69evs2PHDvbv30/gg/v07/clmjMbIcRESvNrv6G7d4muXbumuDyJIlX2J5O4Xbljx460ECPV+VD0EElbXUJDQ2Xy5MnikjuPsrWv1conn7Q18Pt7F9L7ugQHB0vpsuVEpdGKqlIboeUkwaO9qLQWUqR4CQkMDIxtmxa6PHz4UHLldhOta1Hhy23CsnBhwb/Cp4tEY+sgdep9JDExMe88z9u6vLMfVkqRkCDt27dPCzFSnQ9FD5G00+XFixdS0aOKqK1shNq9hd7rhHazRJu7uGgtLWX37t3vPEdGWJfQ0FCZP3++lClXQbI655SS7mXl22+/lWfPnhm0Sytdbt26JR7VqgsgKrXm1b9q6dCxU4r5hb2tS2IMlkrERNBgCuPn50elSpU4d+7cB5PeNZOUYfTo0Xw7fxG6Yb9B/jj3RkwUKp8O2N89SaD/A2xtbd+fkP9h/Pz8OHPmDBYWFjRs2JB8+fKl6lwJ2Yk0zemeSSZxiYqKYtnyFehqf2ZorAC0lkj7OTwfX5LNmzfj7e39XmT8r1OxYsV09ZCR+dI9k/eGv78/z/4NhlKNTDfIUQgL12JcvHgxbQX7D+Dv789XX32FR9XqVKhchUGDBnHjxo2EO75nMg1WJu8NGxsb5ZeX/5puoNchYc/etMskRdi/fz9FixVn+px5nKUAF6xKsmTNRkqVLs3q1avft3jxki4Mlql0FBmRD0UPSBtdXFxcqOhRBfWJ1W9SxMTl0s/EhDx85xTc/9V1CQ4OZt68efTp04fhw4dz6tQpAgICaNW6DRGFaqObcQd6rwPvFcRMv42+Rg969e7N2bNnU0+BOCRnXdKFwUrPnshJ4UPRA9JOl6/GjkF/7SBsHg7hz5WDInD1NzTrv6BOvY+oUqXKO83xX1yX1atXk9stD8NGjmLlvtPMX7WR6tWrU6tOXSJ1gvReBzZvsrJiYQWfLkTjnJ958+enkvSGJGddMncJM3nvLFy4kCFDh4LWCvJXRPUskJiHt6havQZ7dv1E9uzZ37eIGYq9e/fi6ekJtXpA66lgnwP0Ori4C1b3BCt7mH3XdOcd48lxfj1Bgf5pKzSZu4SZZBAGDBhAmzZtWL16NdeuXcPevhTt2i2jfv367yWFSXpGr9cbpCo3xeSp36AuVgt912Xw+vqpNVChlWK4fDrBXT/jnVkAjQV6vT4VJE8ZMg1WJukCNzc3xo8fnypjv3jxApVKRZYsWVJl/IQIDQ0lPDycbNmyodGYrvQTH//++y9z587Fd+UqggIDcMyaje5duzB8+HDy5s1r0Pbx48ecOnkCeq5+Y6ziUr4l2GaFM1uMDZYI2vPbqVOrZpJlNMWLFy+IiYnByckpxf7wpIt3WG/nhc6ofCh6QMbXRURYu3YtZctXxMHBAXt7e8pVrMR3331nssBKanDs2DGaNG2Gvb09OXPmJKdrbsaPH8+LFy8SPcbDhw+pXKUa0+fMI6i4F3Tz4ZmHN0vWbKB8pcpGeeRfvnyp/OKQy/SAGi3YZYNLuyHmTXVsROCnr4nxv8aggQNM900kO3fupHrNWjg4OJAtWzYKFS3G/PnzjWJEk3WPpYiPfQIk5HLfokWLtBAj1flQ9BDJ2Lro9XoZMGCAAKIu6yn0WCn0WCnqMs0EkEGDBoler09VGX744QdRazSiyV9e+HSR0Hez8NGXoraylfIVKyc6vOWTtu1Em9VVmHrNMI3xHH/RuJWU8hUrG+gSEREh9o5OQpNhptMfT78lqNSiUqtFm81NaDRYaDZStK7FBJAZM2a8k94zZsxQrnuJeoL3CuHz70VVpaOo1Bpp3eYTgxjEt++xDBNLmNrJ7dOKD0UPkYyty4EDB5Q85J0XGn9gO84TQA4dOpRq84eEhIitXRZRebRXAofjzj/+D9FY28no0aMTHMff31/UGo3QeYFp49N/pwBy+vRpg35DhgwRja2DMOm8YfulYaKq3Fbs7B3k1KlT0qtXL8mTv6C4uOWV9u07yLFjx95J76tXryrXvdkowSfScO4vtwoga9asiW3/9j2WGIOVLr4SfihxYh+KHpCxdVm8ZCnaPKWh7ufGJz/qizZ3CRYvXpJq82/YsIHw8HCk3Szj6tT5KqCr2ZNly1cQHR1teoBXXL58Gb1OB+5NTTdwbwJqtVF9v4kTJ1KicEE0M+vA5hFwYRccWY5mRg1U53ewZtVKqlatyooVK7h/5zaBD+7xww+bqFWr1ruojY+PD1rHnNB8vPH7s/JeqN0bs2jJsthDybnH0oXByiSTlOT8pcvElGxk+qWzSkVMyUacv2yiCGsKceXKFbR5SoFTbtMNSjYgJPgJjx8/jnccS8tXWUgjnptuEBEKej1WVlYGhx0dHTlx7AjDBvTFyW89LPkEvu9HgxIuHD50iLZt2yZVpURx6fIVYorUVny6TKAv2ZA//3y3655psDJJEiLCqVOn+Pzzz2natBndunVj//796Wor3M7WFkJN5Cp/TWgwdqkY7mNra4u8CAZz1+SFYqgSCjmqVq0ajlmzwYm1phucXItGqzXpgOno6MjMmTN5/OghgYGBPH/+nH2/7KV27dpJ0iUp2Nnaoo7vur94jI3Nuz25pwuD9XZV2YzKh6IHmNZFp9PRo0dPqlevzuqdv7LvkSUbDp6jSZMmNGzc5M0O1XumbeuWqM/vMB2j+OIJ6gs7adumVarN37p1a2KeBsDln41P6vVojq+kdt16ZM2aNd5xbGxsGDZkMKpDi+HIctDFxI6B3w7UP35Ft65dyZ3bzJMcoNVqcXFxwd7e/l1UShStW7dCf/MoPDQRRB0VjvaP7w2ue7I+L+/0li2RJPQybcGCBWkhRqrzoeghYlqXiRMnikqtFrr5vnmZ7BMpDPhJNDZZpFPnT9+DpMYEBASIY9ZsoilcVZjy55sXv1OuiKaQhzhlyy4PHz5Mtfn1er3UqfeRaOyzCwN+fPMCeo6/UNNbVCqV7Nu3L1FjxcTEyGeffaZUuM7mJrg3EW2uIgKI58fNJSwsLNX0SCovX76UfAULicaliDDulMHOpNq9iVhZ28jVq1dj2799j2WYXcJM0j9hYWHikDWb0HCQ6R2rzgtEpVbLvXv33reoIiJy+vRpyZHLRfmgF6gg2vzlBZAcLq5y9uzZVJ8/ODhYatetp8yfI79oC1UWtYWlWFpbG+yUJZZz585J//79pWXLltK7d285cuRIqrtmJIdbt25J4aLFFb3dSoi2YEVRqdXi4JRVfv3113j7vnPl50wyec3p06d5/vRfqN7FdINqnyIbBrJ//3569eqVtsKZwMPDg7v/3GbLli0cPXoUgLp1h9KuXTusra1Tff5s2bJx5NBBTpw4wbZt2wgNDaVUqc5069YtWbGR6S2RnjkKFy7M9atX2LNnD/v27SM6OpoqVfrQqVOnFIk0yDRYmSSKqKgo5RcrMzedpS0qteZNu3SAjY0N3bp1o1u3bu9lfpVKRa1atd7ZXSCjodVqadmy5TunBTJFunjp/nZ4QUblQ9EDjHUpW7YsGq3W9ItkgCu/IHodlStXTgPpksaHvC7vgl6v5+TJk+zcuZOzZ8+mWcjSa5KjS7owWCNHjnzfIqQIH4oeYKxLrly5aN+uPZq9MyDwrRvt+SM020dTsXIVPDw8TI63f/9+mrfwwjmXKy5ueenduzeXL1822Tal+ZDXJbls27aNQkWKUbNmTVq3bo2Hhwely5Tj4MGDKTJ+YkiWLin8zi1ZL9Pu3r2bFmKkOh+KHiKmdXn8+LEUL1laKclV01sJGWkwQDR2TuKcy0Vu3LhhcqwxY8YoL2HzlROajxcaDxVt9jyitbCQbdu2pbYqH8y6hIWFydGjR995h3PTpk1KCE1ZT2HEQeHbB8KgPaIuVlu0FhZy8ODBFJI4ft5el8xdwkxSnJCQEJk6darkLVBINFqt5MjlKiNHjhR/f3+T7Xft2qV8ONrONIwvWxIqKo92YmFlZbZvJgqPHz+Wvn37io1dFuVaglSvWSvRrhFxiYqKkhwurkKlNsbxfkteirpoLXEvW/697EBmmFjCTDIOjo6OjBs3jnv//E1MdDRBDwOYOXOmWefFufMXoClcFRoPMQyV0Voiny5Br9KyfPnyNJI+4/HkyROq1qiJ73c/EF5vIAzdB73W8EeQnqZNm/L9998nabz9+/fz+GEgfDzWOHRJa4G+6UiuXLqQbisVZRqsTFKV33//HV05M7tFto7oitfn+ImTaStUBmLixIncDXyCbvRxaDkJSnwEVTujH3YQqdqJz77ow/PnZmINTeDv/yr1sVsZ0w3ylgPgwYMH7yS3Xq/n4cOHBAUFpejL/HRhsGbOnPm+RUgRPhQ9IOV00Wg0oIvH1UEXjTYZWTiTQkZdl/DwcFavXYeubh/IWcTwpFoNracSER7Oxo0bEz1mrlyvEvuZCp8BCLxm2C6J6HQ65s6dS8HCRXF1dSVXrlyUci/L6tWrjQxXctYlXRissLCw9y1CsgkLC2PHjh2x+ciT+9ckIiKCffv2sXnzZi5cuJDCUiadlFqTRg0boj37g+lA4GcPUV3/jcaNzRRSTSEy6v0VGBhI+MtQKFbHdIOsedC6FElSAdQmTZrglN0ZfpltXFpNr4d935LDxTXBOEdT6PV6unTpyrDhw7nnUg36bobPN3DDqhA9e/Zk+PDhBu2TtS7p5WVaRkOv18usWbOU7I6vXoQCUqRYiSQlh9Pr9fK///1PnLI7G4xToZLHB3G9jh07JiqVSqjXV1j8Ik7GzABRF6stDk5Z5d9//33fYqZLHj16pNwPPVaZDodaEiqaLNlkwoQJBv1CQ0Nl+fLl4u3tLT169JDvvvtOwsPDY8/7+voq41b7VEnytyxcGHtSKOOpHFepBJDmXi2TtDabN29W+n+x0VjWDnMEkJMnT5rtn7lLmIpMnjxZWZz6/ZT0tUteCsMOiLpYbbGwspLff/89aePU+UyY6CfMCxL6bRdN/vJim8VeLl++nMqapD4+Pj6iVqtF4+CsfEgqtBK1pbXYOzrJiRMnUm3e8PBw2bt3r2zatEnOnTuXLmPvEqJWnbqiLlzNOHOpb5RiyEAuXboU2/748eOSNbuzoFKJtpCHaAtUFEBy5XaT8+fPx7ZbsWKFZMuR0+CPJPY5FGOz6JnQfblosmSTylWqSlRUVKJkrVe/gWiK1TJtXJdFiDZXYenarZvZ/pkGK5lcuXJFJk6cKIMHD5alS5dKSEiIwfnHjx+LhZWV0HSE8cIsfiGa/OWlXv0GCc7z6NEj0VpYKCll3x5nwb+icSkqXi1bpZaaacr169elX79+UqR4SSlctJh079491dwZ9Hq9zJ071+iptVzFSnLmzJlUmTO1+PXXX5UMGVU6CjP+jn2yoscq0VjbSavWbWLb3r17V+zsHURdvI4w7aZhloqClSRbjpzy+PHj2PaRkZHSpUsXUWkthJ5rjI3iqKMCyA8//JAoWXO45Fb87EwZLN8ooVZPKVexstn+Gcat4cmTeJJ+pSFhYWG0bdced3d3vvnfQhZv3suX/QfgmtuNtWvfJFHbsmULMTo9NBpiPIiFFbr6Azl88LcEd1o2btyIHrWy5f821lnQ1R/Irl0/ERwc/K6qJZmUXpNDhw6xfuMmbt24xt+3/mLt2rVUqOzBli1bUnQegGnTpjFkyBBCSrWCSedh/hPov5Mr/wp16n3EpUuXUnzO1KJhw4Z8v349tlf3oBpbFIuJpdGOygere9KiWRPWf7cutu3ixYuJ0KvRf7kdnAu8GSRXMXT9dhIS8oxVq1bFHra0tOTU6bNIlU5QrbNxOufC1dAUrcG679YnKGdkZKRSDehFkNk2qhePcLB/E4uanHssXRisnj17vm8RAPDu0ZMdu/aA9wpiZt4jetJlZPotwst/gre3Nz//rMTRPXr0CK1DDrB3Nj1Q7lIABAWZXzyAgIAANNnyKGWXTOHmjuj1CY6TGqTkmixbtoy+ffvyrJQXTLkCyyLgqzMEuVahQ4cO7Ny5M8Xmevz4MZMmT4amI6DrEshdWinJXtYT3bDfiHJ0Y+y41Kl/mFp06tSJhwH++CxbRl4bHeOGDuDy5cvs2L4NOzu72HZbd/yIrlI7wxL0r3HIhb7sx2zb8aPB4SfBTyBHYbNz63IU5VFQ/KmcASZMmEBEeBj8sQnCQowbPLkDl3+hQ7s36ZmTc4+lC4M1adKk9y0C169fZ8vmH9B3mAc1uoH2VT5tp9zQzRd18TpMmjIVUIp+xoQ8gpBA04Pdv4hKpcLV1dXgsF6v5/vvv6d6zVrYZrFnwaLFRAc/ML3AAAFXUanV5MiRI6XUTDQptSYRERGMHjceanpDNx/IVUxxWMxbDj7fBKWbMGzEqBTz1dm0aRN6ARoPNT5pZYeu/iB+3rM7wXzq6Q17e3s+++wztmzZwqRJk3B3dzdqEx4eDnbx7O5lcSYsPNzgUL68+VDdP2+6vQia++comD9fvLKFh4ez1McXavdSntIWtICAP980+OcMzGtG9hw56Nq1a+zh5Nxj6cJgpYc8P9u2bUNj5whVOxmfVKvR1/2CM6d+x9/fn3bt2imJ/3+ZZdw28iWa3+bRuElTA4Ol1+vp0rUbXbp04XSINeHNviKieg/FR+nAAhPjhKE5tBBPz49xdjbzJIeSYz2lPuxxSak12bt3L8/+DYamw41PqtVI46HcvnWTM2fOpMh8gYGBaJxyQxYzOafcSiMiPHr0KEXmSwrR0dEcP36cffv2cffu3WSNEd+6VChXFs21X43dFQD0erTXDlChnKHD6Oe9eypVde76Gffx24Hu/hV6944/v9nVq1d58SxE+aM0eA/8ex8mVYAJZWBcSZheE4Lv0b3Lpzg4vHn6S849li4MVnrgxYsXqLNkN1vxA0fF+Dx//hwnJyemT/sGDi6GVT3gzjmlsMD5H9F8Wx/LkPvMnDHdoPvKlSvZuHEDfLYe/eC9ynurDv+DJiNg91TYNAQe3YTIMLiyD/XcRliG3OebqVOMRBER1q1bRyWPqmgtLLC2saVV6zacOHEixa/LuxL7JJOzqOkGLsWAhL8+JxYXFxd0IQEQaua9X8BVVCoVOXPmTJH5EoOIsHDhQvLkL0Dt2rVp2rQpBQsWpJnnx9y+fTvF5un3ZV90d87D8dXGJ3+dS0zQbb7s29fgcM+ePalQqRKauU1g7yzlHnxwGbaPRbWyK61at6Fhw4bxzhtbhl6vgwKVYdpN6P0dlGoIZT3hy62oLSyT7YxqQKJe/78jGWGXcPXq1Yr/Sdzdlbg/LSeJtY2tvHjxIraPr6+v5HTNbbATVdGjismdqFLuZUVVwct4XJ9IwXOMoNYYjFO6TDn5448/jMbR6XTSvbu3Ul3XvbGSMaHNNNG4lRKVWi2rV69OzcuUZPbs2aPo9NXpeIuBXrhwIUXmi3fndWGIaNxKSjPPj1NkrsQyceJE5RrU6C6MOSFM/0txG8hZSHK4uKZYNgm9Xi9ffPGFcm+U81QqL3fzFXXphgLI2LFjTfYLCQmRnj17iqWVdez9l8XBUUaNGiWRkZEJzhsRESFZnXMI9fubXuNXRVQTSk2dYdwaVqxYkRZixEtoaKhkcXAUVeW2xtu7026I1iGH9O7d26hfVFSUHDp0SHbs2CGTJk0yOXZERIRyI3ivMLvlqypSXerUqSPr16+X06dPm/UZWr9+vTJWz9VGfi7U6ikarTZF8qqn1JpER0crRr1CS0XGtxwf1UWqS5nyFVLUR+rrr79WrlG9PsLXl4SFT4WBu0RdyENsbO0M/JFSm/v37ytuCaa2+7+9L1onF+nVq1eix0toXfR6vaxevVrcy5WPNT6Vq1RNlGtCcHCwHDhwQA4fPiyhoaGJlklEZNKkSaLSaBU/rrhZICZdEG22PFK9Vu0EdckwBuvLL79MCzESZPPmzaJSq0VTqIrQY6UwdJ/QfLxoHZwlf6HCCeYhMqdHVFSU4u1truS4b5SQt5x07do1QRk9qlUXdakGpsdYECwaG3sZP358svRPjC7JYcuWLaJSqUTl3kS5prPuCP13iLpIddFaWsrhw4cTHEOn08mTJ0+MypubQq/Xy+zZs8Uxazajp9ZTp06lhEqJ5ptvvhGNTRZhQbDpNfOaKFbWNgae6PGRlHUJDQ1N1PVKCaKjo6Vtu/YCiCZ/eaHuF8p6q1RStERJkz53b+uSYQxWeuK3336TOvU+ir3JbeyySJ8+feTRo0fvNK5b3nxC/krGOYhe/RUCZOjQoQmOY2FlpYQ5mDN85ZpLzly5JHtOF8np6ibdundPF9f9xx9/lCLFShgYkDLlK8iRI0fi7Rd/a6LfAAAgAElEQVQaGipfffWVOL+qgKNSqaRJ02YJ9hNREt7t2rVLvv/++3ifWlOTPn36iEWB8ubX69VX4gcPHqS5bCmNTqeTn3/+WVq2ai2lypSTOvU+El9f30QbzcyqOcmgfv361K9fn8ePH/P8+XNcXV2xtX23arUAz549g+f3YOtoaPU1WLyq3PL4Nvh2BgubRAWxWlhYEh3xwnyDsGcEPQuDBgNAF8WGn7eyfv161qxebbClnNZ4eXnRokULzp49S1BQEHny5KFs2bJvXtiaIDQ0lI8aNMTv4iX01bpB6/rI8yAOnFjJr/Xrs3HDBtq3b2+2v42NDc2bN08NdRJNjhw5kOB7EB1pekPn0V9otFqcnJzSXrgURq1W06xZM5o1a5Z6k6SUdX1Xy/mho7WwECq2UV7s22UXKn0ilKgvqNRC1rxCSeX3hIqxdujQUbQuRYSlYcZ/rb+5LqASui6N824rXKjVQ9Qajfz1119ppG3KMG7cONFY2RoW5Xylk6pKB7GxtTMKm0pvXLt2TXmi7LzQxCbAU9HmKiLt2rV/32KmCzJMaM5/gYKFiqDSaGHyFcUxNSwELK2hy2KYcA4CroKbOwMHDmT79u1mxxk2bCj6x//A2t6GDqdBt2BxG8jqBlU6vjmu1kDHeahsHFm2bFkqapiyxMTEsNR3ObqaPSD/W/46ag3SdiYRERGsX59w2Mj74ty5c7Rq88qze+Ng2P2N4v4iAjeOoJnXFIvQh0yY8NX7FTQDkS4MlpeXV4qP+Trj4ZMnT9KsfFF8evT94jPw2w4vn0K7mTBkL/TfqXgHn1gNzx5Cj1WoSzVkyjfTzY7j4eHB9+vXY3F+G+pRBWBBC9SzP4LxpeGpPwzaBVZ2hp0sbdCVbsrR44nP7Jkaa5IUHj9+zL+Pg6BkA9MNnHKjzevOn3/+afp8HN6HLjdu3KBe/QbcirCGwT9D/S/h5xkwzA362MCcRhTUPOPQbwdMeq0/ePCAc+fOERAQYHD8fa9LUtHpdGY/f8nRJV0YrP79+6fYWNHR0cycOZO8+Qvi6upKjhw5qFDZgx9++CHF5jBHfHr06dOHqlWrovpfY9g2Bm6dhD/3w4qusHWUEkqStyz6Wj254Hf2TSpbE3Ts2JF7d+7w9fgxeBWyok05VxycnKBmdyV2zhQxkWi1ic/sGVcXPz8/hgwZQufOnRkxYkSijMS7Evve8IWZAFm9HgkNTtT7xXe5v06cOEGnTp0pUKQYxUu5M2LECP75558E+02bPp0IS0d0g/cpDpQd5sDMf6DHqthoii0/bKRq1aoG/U6fPk39ho3ImzcvlStXxs3NjUaNm+Dn5/fOuqQVUVFRzJ8/n6LFS6LVarG2taVTp86cP28YApQsXdLLd9OUIDo6Wj5u3kLUWgulDNWXW4Xe6xQHS5ApU6ak6vwJERoaKpUqVRI0Fm92y3IUFj5d9Gb3cOh+Acy+b/rrr79kxIgR0qRJU2nTpo2sXbtWwsPDxdvbW7TO+Uy/25oXJGorW/n666+TJG9UVJR06vypUqIra27RlKgrWkclh1KfPn0kJiYmJS6LWerU+0g0hasa+2/5RgkDfhRAjh07lmrzv/bn0roWFRoNFmr3Fk2WbGJtYyv79+832y8yMlLZzW09xfTO4NIw0Tq5yPDhww36HTt2TCytrEWTr5yS62rcH4L3CtHkcRdrG9tE51h7n0REREj9ho1EpdGKyqOd0HWZ0GqyaHMVEa2lpezevdts3/+cW8OKFSuUl9oDdxnfJM3HCyBXrlxJVRkSYu3atYqh6v+jMPmy8Yex6XDJ4uBo0i9n3rx5olKpRJMlm1DeS9RFawogBQoXkZ9++knUGo1Qo5uSgC2OsVK5NxZbuywSEBCQJFkHDhyo5EryXvHGEC4JFTrNF5VabdZRNqXYv3+/4r9W01uY4/8mMmDQbtE4OEutOnVTzVUh1kO/5SRDV5SFT0VdpqnY2mUxyC0Vl+DgYPOZN1/9aItUl+7du8f20ev1Ss3HIjWExc+NPPTVhTykbIWK6T4J4TfffCNqC0vlD+9bTsKq8i3Ezt5Bnj9/brLvf+6l+6Ily1CXbQbuTYxPeo5G45gTX1/ftBcsDu3atcMxazZUR33AuaBSTOA1Dy6hOepL7549sLa2Nui3Z88eBg8ejDQcjG7GP/DlVvQjDsGkCzwIhaHDR7Jq5Uo0pzegGV0AVnYHn06oRxXA5p+T/PTjTqPsEfERHBzMMh9f5ONxyiaB5pUHjNYSPuqLNBjInLnzUjVfeqNGjVi1ahWW5zahHl0Q7YyaaMcXh/nNqVKmBDu3b4vXLeJdmDtvPppCHuA5xrAclpUdeu+VRERGsXq1iZg9wMHBATt7B7hnJgtCZBjy8Dr58r3JgnDq1CluXPsTffOv3ri8xM5pi/7j8Vw672f0tSo9odfrWbRkGfqqn0KJeoYntZZIx3mEvQxNcmmyuKQLg5VS+ZCuX7uKvthHpk9qLdEVqc2VP6+myFymSIweNjY2bFj/HZrrB9BMrQy/zoezW2DDQDSz6lKqWGGTaTdmzJqNpmhNaDsDLG3enMhdiphe33Hr5nWcnJy4eeMGQ/r0oorqLjVsgpg4dhS3/rpJgwZmXl6bYfr06URFRkAtMzmLavXgxbMQjh07lqRxk4q3tzcBDx4we8Z0utUrQ9+OLTh8+DAnjh0le3YzGRneIjn319GjR9FVbGtcuw/APgf6Eh9x5OhRk321Wi09vbujOb4SnppI4nhwEfqXIXTv3j320N9//638UqSGaYEKVwdIUoWctCY4OJhA//tQxowfVra8aPOWjTW6yVmXdGGwUmoRbOzs4IX5tCHqF4+wj5PxMD7++OMPOnToiL2jE9Y2ttSqU5ctW7bEu+OYWD08PT35/cQJvKqVRr19NPh+ivO1nYwdMZQTR4/g6Oho0D4sLIzjR4+gq9bV9AeoQCW0biX5+eefKVSoELNnz+aP309w4thRJkyYkKQnq9ccff1hNJdc8NXxiIiIJI+dVLJnz87QoUNZuXIlCxYsoG7dukl6skrO/aWMH8/usl6POh4ZxowZQy4nO7Sz68GR5fDkH7hzFr7rCzvGM3LkSAoXfpM4L7ZKTbCZtDOvjp8+fTqJmqQdlpavcsiFm6mTKIKEP1dSM5G8dUkXBiuldvDaf9IG7R/fQ+RL45P+V9DfPM4nbdokOM769eupXqMG24/5EVpvMJEtvub3IGjfvj39+vUza7SSokflypXZvm0r4WFhhISE8CjAn8mTJ2Nvb2/UNjo6WvnFKp4dMassREXFU/8vifj4+Ci/XNlnusGr42XKmCnImY5Izv1Vr149NGc3m84t9fwRqpuHqVevntn+rq6u/H78GM1qVEC1cQCMLQ7TauB8cw//+9//mD7d0HWlQYMGOGbNBgcXmR7wt0Vkz5mLX3/9Ncm6pBWOjo5Ur1kL9ck1pq/bzWPEBN2OjT5I1uc+dV69Jf1lWkpw48YNsba1E3XJ+sLUq29e0o44JNocBaVQ0WIJBpnevXtX8Uqv0d04a0PXZQLI5s2bU1WPt9Hr9VKgcBFRVelg+iXuzNuiUmtk8eLFKTpvpSpVReNWUvhfoOF8s+6INkdBadSkaYrOl57Yt2+f8uL847GG98H8J6Iu1UCyODhKcHBwosa6d++e+Pj4yIIFC+T69etm282dO1eZs/FQ4dsHynyz7wkNBwmQ4uubGuzatUvRocEAYcG/b67b2JOizZZHylaoKDqdzmTf/9wuoYjI4cOHlTJHIBZ5Sos2Z0EBpKR7Gblz506C/cePHy8aG3vDix3nR1O8ttSsXSfV9XibuXPnikqtEfptN5Rp8QtRlftY7Owd5NmzZwmOc/nyZRkyZIi0atVKevXqJQcPHjS783T16lXJmt1ZtI65hI/HCL3WCk2GicY+u7i45ZF//vknhbVMX8yYMUNxa8hRQKmrWL2raGzsxcYuS6JrT+7Zs0dKlSlrEPRdu249k58FvV4v06ZNE0sra1FptGKR1VVUGq1YWdvI7Nmz0/0O4WsWLFiglHWzdRBV6cZK9oZXn8H4grwzhMF6+vSpbNy4UXx9feXIkSNGi6LX62Xjxo1So1Ztsba1E4es2aRL167x5jQKCwuTNWvWSL9+/WTw4MHyyy+/GFj14OBgmTZtmhQv5S7OuVzFo1p1WbFihURGRkrjxk2Eci3MR9e3myVW1jYpd3ESSXR0tLRs1VpQqURd1lPoOFdoPk60zvnFwspKfv7553j76/V6GTRI+UutdXIRlXsTxb8IpH7DRgaJCePyzz//SN++fcXGLosAYu/oJIMHD06yi0RG5fTp0+Lt7S3FSpYW93IVZPz48XL//v1E9d26dauSVqdkfcVvbMqfQu91oslbRmxs7cx+MIODg8XHx0cmTZokvr6+8vTp05RUKU24c+eOjB8/Xtq0aSNdunSR7du3S3R0dLx90rXBiomJkbFjx4qltY1BtdkixUrEFtfU6/XSo0cPJYNiyY+EtjOVD2nOgqK1sJBt27YlWZbbt2+LW778ora0Vop6Nh8v6jJNBZVKatWpK82aNRNVSTP5pnyjBK8JksXB0eTY3t7esXIfPHhQOn/6qVSrUUtatmwlmzdvTnRBSnPExMTIihUrpFzFSmJhZSX2jk7i7e1tUEjTHHPmKJV3af+tUvT19dfl/jtEY5NF2nfoaFKX1+h0Onnx4oXZx/n0zNu6pAWRkZFKSpyKrYx97RY+FU2+ssl6Un9XXfR6vTx79ixRmURTm7d1SdcG67PPPlMyFXiOVhK6LYsQhh0QClcTS2sbOXbs2Bsny7dLdS95KarKbcXS2lqCgoISLYder5dKVaqKNldhYfotwzFHHBKNtZ3UrVtX+er1umjlW1kCtK5FpcNbH+7XbNiwQaKjo6Vjx07Kk0zuEkK1T0VTuFps5sf3UZY9KipKcri4CrV7mTbCXZaISqWS27dvG+jyoZASuuj1egkJCUnU124RkZ07lTxXTPQzfc0/Wx9vRIM5kqtLaGioTJo0KTalt1qjEa+WrdI8oWFc3tYl3TqOXrlyheXLl8Mn06DVZKWUlloNxevAkH1EObhRu05dBgweisq9MVTvYjiA1gLpvJDoGD0rV65M9Lxnzpzh3Ok/iGk3B7K/VbqoaE10DQZx+uw5smbLhsanPQTfe3M+4gWs+wJ90G2GDjVR+BSlftzkyZP5YcsW6L2OmIkXoedqdKOOwqgjnL/6F127eyda3pTiwoULPH4YCDW6m25QtTNotLF1F0HR5UPBlC7R0dHodLoE+4oIK1eupHSZcjg5OeHo6Ei5ipX47rvv4nVxuXPnDmorG3AzDmwGlGINr9olheSsS2hoKPXqN2Dy9JkEFfGE3t+h/2Qme87epFbt2vz4448JD5IKJEeX92KwRo8eDRY2UPcL45OWNtBwEIie50+DkXJmIrqzZEeK1MTX1zfBbAx+fn54e3vTsHET0FqZ9oQHqNia8JehzJk9C6eXD1CNK45qblNY/AmaUfnRntnI2jVrqFKlisnu4eHhzF+0GKnfX0nxEtdPp3B1dG1nsWfXT/z111/xypvSREZGKr+YKrAJYGmDWmv5pt0Hik6nw8fHh1LuZbG0tMTS0pJmnh9z+PBhk+1FhL59+9K7d2+uRdhBmaZQqhGXn+jo1q0bI0aMMDuXs7Mz+shwJYOGKR4r1XK2bNnCvHnzEqwS/i5MmzaN85euoB9+SCkuW6UDNByIbtwZdO6edOnWndDQ0FSbPyWJ12Bt2LCB0qVLU7RoURYvXmx0/sKFC1SuXJnixYvTu3dvYmJiEjXpqT9OK3mb3k6D8ppXpZ9QqSAqntCPqHD++eefN06OJlizZg2VPTz4/ucjvHCtAIhSjsgUOkX+EiVK8M+tv1i8aCEfF7Gjca4oxg4fwu2//6ZLly6m+6LkP3r+9F/TtQ0BPNqj0mjf2ZcmJiaGkydPsm/fvkRlDihZsiRaS0u48ovpBjePoot4SYUKFd5JrvSMTqejY6fO9P3yS65bFoJuvujbzebXqwHUr1+fFStWGPXZt2+f4o+WPT/8fQoe/AnBd5H7F8HGgTlz5pj19G/RogU2dlngwHzjk3o97J8Lai2rtuxm2Kgx5C9QgAEDBiT6M5RYoqOjX+UV62mcV0xrgbT/lpehL9K1B31czBosf39/xo4dy/Hjx7l48SLLly/nypUrBm26dOnCwoULY1P7JjZBXEREhFJs8eVT0w3uXQCVGop/BCfXKQv8No/+gtunUDvmwsfHdHzg9evX6dW7N1KzBzFTrikpPmKi4LyZkIDTm3DMmo1y5cphb29P37592fXTT+zb9wuTJ08mb9688eoVG+f1dizYazQWqNSaZN+UIoKPjw958xekZs2aNG3alEKFCtGwUWNu3rxptl/27Nnp1LEjmv3fwsO30jCHhaDZOpJiJUsZOEIeP348WTKmR44fP87atWvZunUL8vlGpO8WqOUNDQagG3MKqfMZX/Tpw/379w36LVi4CCxfOesO+xVm3IIpV+DrS5C3PKi1zJxpopguSjzhV+PGwq/zYMsoCHmV1yrwOqzoAld/hc4LiJl5B/3sB+hbf8PiJUsZNmxYgrokhYcPHxIS/ARKNTLdIHt+tLlLcPny5SSNmxIk5x4za7AOHDhAw4YNyZo1K7a2trRt25atW7fGnr979y7h4eFUr67EOHl7exucj4/8BQoqTzP75xiffPmv8lepRH34eAz4X1GKjEbGedJ6cgd8OkHWPOhLNeHqDdMf1iVLlijFUTvOUzJvurlDyYbwwzC4f+FNw8gw5S/ewUX06N6NTZs2sXDhQg4cOIDelLE0w549e7CytoELP5lucGUf+ujI2GuWVGbOnEmfPn14mLcOjD4G029Bj1UcvvIP1WrUfBOPZoL/zZlDYbecaKZVg/X94Pga2PEV2kllsXt2hx82fG8Q7jJrlukPYkZk1qxZLFy8VAmMr9ja8KRaDZ/MQGVpq7xXjcMfp08rT/j9tkPxum++4ruWUJIv2jpx4nfzSRFHjx7NN998g/UJXxhVEM2gbDCxLFzcDb3WQZ3eSkMbB2g8FGn5NYuXLCEwMDBeXZKCjc2ruNOXZgrL6vVIWMibdmlIcu4xswYrMDDQIAbN1dXV4EIGBASQO3fu2P+7uLjEe6Hj8mWfzwG9Uml2TW+lcnJIAPyxEWbUhudB0Hm+cpPY54Qjy2BUAVjaHuY2g3EllMq+A39CFfoYJ0fT72aOHD9JjLunYfL/XmvAIRdMqQKzG8DkSjA4p5JET69j3sJF9OzZk0FDh9OoUSMKFSkW71fOuGzfvp2uXT5Fs+9b49LfT/3RbhtBxcpV8PDwSNR4cQkKCuKrCROgyTBFh0JVlY2D6l3QjTzGC5UtE00ETb/G2dmZP06eYPyo4bjc2gvrPifLiWV83rkN58+dpXz58gbtN23alGQZ0yubNm3i8qUL6Es3Nd3AOgu6orWNMiFERkZC4RqQx0T4kXUWqNGNF6HmX1moVCrGjh3LwwB/1q5Zw/CB/ZQTvdZC1Y7GHep+jh4VO3bsiFeXpODs7EzV6jVQn1htOlzmyl5i/g2gZcuWSRo3JUjOPWbWYJl6ka2OkwolofPx4e3tjXvZcqis7JSnkWnVYWQBJSUKKE9D2V7t4tXpBRa2UPVTiAhVjE/nhTD5svLV6899dGzfzuQ8Wo0GdNGGBx1ywpjj0G0Z3D0HD29Cg/4w8jAM3gseyo0ktXrBqKPct8hN4yZNYzM+xoetrS1z5syhfOniqKbXROXTEX6ZDev6oJnojrM6nM2bNiTqGr3N+vXr0YkKitZRvk7HJUt2Yup9yQ+bN/PihfmKOk5OTkyaNIlA//tER0fz4lkIixcvplChQiZ1+VCwtbXF0tLKMAf+W6jDQoxS+jg7ZweneALHHV1RxRcg/bqZoyPdunWjdetXT3c5jK+3IqgTGltHQkLMy5mcdRk/dgz6G0dh46A310AErh5As+4zatetl+yn/nchObqYtTBubm48fPgw9v8BAQG4ubmZPR8YGGjwxGUKT09PvLy86NSpE24uuXB1djK8iWp4KylkYyLh3Kuvl3X7KEG/t05A6ynKo3id3nD3HNqFLcjlmpuffvqJJ08MU+lOnDgRhyy2aC7tUgxdXCysISoCosNhyC9KypYiNaBUA+i5CjovgMNLQa1BP3A3MdnyM+nryYASYd6jRw8j3Tp06MDOnTtxcHDg6OFDLJg/j/xPL6HdPYX8AUf5avQILp33o3DhwvTr18/IHcPPzw8vLy+TenTr1o2p02cgMVGwqCWMLgzzW0DgtTcN81UgJiqKIUMMXS7CwsLw8vIyel+wZcuWePWIy/79+03m306qHjNnzjQ4du/ePby8vLh+/brB8YULFxrtwJnTI6H1eI1XixZofl8Xu7FiQOB19LdO4uXlRUREBEuWLKFo8ZLcvXMXbhyFmGjjPgDXfqNEyZKJ1qNAgQKoNRr4+3fT4z28QczzJwZZHFJiPXx9fZk9ezbaEytRj8qP5tuPUI8vAfM88XAvzo5tW1GpVGm6Hhs3bqR69eq4uLjg5eWFl5cXgwcPNn1d4mLOQcvf318KFCggQUFBEhoaKmXLlpUzZ84YtHF3d49NUduzZ0/59ttvTY4Vn0OYv7+/7NixQ3r06CEarYWorWxEZeskWDsoVYJ9IoUJZ4UchRRHPEcXUTu6xFbyjevs+DZ37twRK2sbUZVvblh5d9EzIYuzUK65aae+ZeFC9gJCrR7K/zvNF7VanaySUnq9XoKCgiQgICBZXuLr1q1T9C7dWMmk+vUloftyIVcxwTar8PVFRcZPF4lKrX4vjqkZgTNnzohGqxWVR3thTsCbtZ7oJ5rcxSVvgYLy5MkTqV6zlqjUGlFVaBkbdEyrycb3yOCfBZVKli9fniQ5WrZqLdocBd9kUI1buqxia8ma3VkiIiJS5RoEBgbKtGnTpGvXrtK3b1/57bff0lV84jt7um/YsEFKly4txYoVk9mzZ4uIiKenZ+yAFy9elCpVqkiJEiXk008/NRt6kpAgr3NbBwYGyqxZs6RHjx5KpWQQTV53oezHonFyVbzFK1eWMWPGJPpi79mzR6ysbZSA5iodFM/zLFkFtUYJ9TEXglOlg1Cs7pubE8wG++p0Ojl79qy0b98+NsBar9fLd999J+5ly8cGvebJV0Bmz56dYEzVa16+fCn2jk5Ctc7GFaPnBQm5igplPYVFz0TjVlKat/BK1LiJYciQIfL06dMMGYrzNq/vry1btoiltbWoLaxEXaKeaApWEkDyFSwkN2/elMGDB4vG2k4YdfTNdf54rLJ+7k2FzzcolZpr9xK1haU0btosyeFWt27dkmw5corGOb8SDzr2pPD5BlEXrSkqtVq2bt2aKF0+BN7WJV2H5sTFVPHQ12Wvu3btKp4ffywDBgyQixcvJmv+e/fuybhx48SjWnWpXKWaDB8+XHK45Bbq9zNvsArXeBME3XqKWFpZS2hoqNHY69evl/yFChtE4zdq3ET69OmjlFYv66mEYXy5VajRTVQarbRs1TpRBRzWr1fCN/jmumkZuy4VVCpRFaoiVtY2KZIN4+LFi9KhQ0dRa7QCSNbszjJq1KgM/eQW9/4KCgqSmTNnSvv27aVLly6yceNGiYyMlNDQULGzdxCajTK+zj1XK8VCXq1vTtfcMmXKlGTH4/3999/Stm070Wi1sWNWqVY93sIWpnTJ6LytS4YxWO+D4cOHK09acx8a36DjTik3Uu/vhG8fiCarq8mg0yVLlijtKrRUku5PvSp4rxB19rzK8dZTjcfuv0MAWbduXYIyTp06VbSOOcwb1a/OCCCubnnl6NGj73xNDh8+LFbWNqLNVUT4ZLrw+fdCgwGisXWQoiVKmi268CFw9uxZZc3GnjTzmiBC1LaOMnLkyBSrFvT48WPx8/NLVNqj/wLpNpYwPTBw4EDsrTSo/tdE8WKWVx7wF36ChS3BtaSS6nVaDSwiXxjlWX/27BlDhw2Hup9Dn81K0v2cRaBGNyWvvKOLUmvwbcp+jLpUAxYv9UlQxuzZs6MLfar4ppniieLlfvjgAWrXrp3EK2BITEwMHT/tQnSBqsR8dU5xn6jcDjrMQTfmJLf9gxg1atQ7zZGe0WpfFdmINpPyWfSoRIezszMaTeLrO8aHs7MzFSpUIH/+/Cky3n+B/6zByps3L4d/O4Dq4XWYWQdG5IMhLrCkrVK8M/AabOgPItja2hrcVCLC9OnTiQgPh38fwOYR8CCOp/CT21DiozeVZt5CX6I+V68lXAyjTZs2aNQqOLTExCA61L8tpKJHFYoVK5Yk3QMCAjh//rxBVeHdu3fz0P8B+nazDItcAOQqhq7+QL7fsJFnz54laa6MQqlSpcjpmhtOmanocuEndOGhNG7cOMXmPHToEM1beGFtY4ullRW169Zj+/btaVapPCOSLgzW29uoaUW5cuWwsLCECq2VJ6XGQxUP8lFHFHeH6begdEOexwkMjYyM5JO27ZQteqfcigvGmc2KA+r6fkoYkaUdPDNfDINnj7CzS7gYRs6cORk+bBjsmgI/fQ0vHisnAv5E5dMRuXWC6VOnJFrfc+fO0ahxE9zc3KhYsWJsVeFz585x+fJltI45lZATU5RuTGREeLze9OmVxNxfFhYWDB8yGI6vgmOrDMPB7pxDu2kQHzVoSLly5VJEpoULF1K/fn1+uXSXSM+viG41jd8f6vjkk08YOXKkWaP1vj4rqUGydEkP301btGiRFmKYxDlHTiFrXuP87a/SD2OXTSwsrWLbf/HFF6K2sFLeb71OzLbkpdB5gZLfy2uCkvtdpRKmXDEec0GwaBycZdCgQYmST6fTyZgxY8TCykpUr9LOApI9Z65EJzAMCgqSL774QimKamUnFPAQOi8Sui8XTd4yYmVtI/369VN2yN4u4qCbIaMAACAASURBVPn6Z9BuAeTq1avJus7vk8TeXzqdTnr37q3kMstVWKjSUdRFqgsgZStUTFLutfj4888/lQKxDQcZ7/52UBIt7t279510yQi8rUuGeYe1aJGZSiFpQNUqHvD0vhKgGvevqi4GNgyAsBAKFykKKOExK1etQu81SUnR8dqzX2sB9fpA/f7w2yIo4wkW1qjmN3/zfgyUwOMFXuhfPiM6Ohp/fzOpR+KgVquZNm0agf7+LPf1Zfqk8WzZsoUjB3+jZMmSCaaEuXDhAsVLlcZn5WqkQmuo2QMiXyhfd+9fRDfyGNG5y/LLrwfQRbyE06YrmaiOraRw0eKUKFEiQZnTG4m9v9RqNb6+vpw4cYIuzWpTyzqQ5qVysmnTJs6c+p0cOXKkiDxLly5F45AT2nxjXLatfn80+cuzcJFxdhR4v5+VlCY5uph+yZLGxK2Am9oEBQWxadOm2FjJPn36sGfPHvhtAVzcBRVaKS/fz22D5w8BYfDA/oDiYRwTHQ21jD15ASUDwG8LYElrNPpoctupuD+zDmrnAujVFhD0F1hlQUo1xGf1d6xb/z37f9mbqLCI7Nmz07NnT5YuXcqwEaO4d0fJp+SULTt9v/icCRMmGIWWREVF4dnCi2d2bjDaT4mhBMWAHl6mhGrkK4++xVf8Pb85HzVoyNHNQ9HZOkI5L8UgR4TCL7MQvx18tWZNqlVajouIcOLECfbv349Op6NatWp4enom+2V3Uu4vlUpFjRo1qFHDTEHTFODU6bPElGqkVNE2FgBdmeb8cdo43Q2k7WcltUmOLunCYKUFIsLUqVOZPGUKetRosuZG9zQANXoqVqyoxAqq1HDmB+Wvnl02VC+fUKtGdby9vYE4ifCszSTCs1WKYWZ9cZeNu3fTqFEjRo8ezezZs6FobWg+Dip9AhZW6MJCCFvShuZeLbl35x/s7MzkBovD4MGDWbBggZIc0Gs+WNgQcnEXM+fM5fc/TrNv789vilkC27ZtI/DBfZi0642xAkW/j/rCn/vhwAIYcQiArp92xtLSkn1L26N1zodkzQMPLiORL5k6bRrt27fH398fJyenRMmbHPz9/WnZ+hPOnfkDrUMOVBZWRE+bRr4Chdi5fSsVKlQgNDSUzZs3c+vWLZycnGjbtq3JeMj0ipWVJcSXMC8y1GAdM3lDuvhKmBbMmzePCRMmENNwCPqZd4ieegP9rLvENBqGn58fzZs3x8UiUska8dQf+9D7DB3Yn317f46tVBub0eDP/aYnufILKpWac2dO06RJE9RqNb/+dgi1exMY8RtU6/wmc4StE3rvlfwb/CRRUetnzpxRjFWH/0HvdUrW1OJ1oP1s9AN2c+TwIVavXm3Q58iRI1jkdYfcpUwP6tEeHlyCgD8BJePG3j27OXnyJF92bsWn1YswYfRwjh07xl9//YVT1mzkyZMHRycn2rfvwJ9//pnwhU8CERER1G/UmIu3A2DQbmJm3Sd6+m0Y+zv+qqzUb9iI+fPn45Lbjd6ffca3KzYydtIUihQpQs+ePVO0kGxq0uJjT9RX9r7ZRIlLdCTaM5to2dwz7QXLAKQLg/V2UGxKExERwddTv1F2AltPhSzZlRN22ZSc8nW/4NiJk9y8fpXLly9z/vx5Hgb48+233xrkCapUqRIVKnmg2TFWcX2IS/A91Lun0LxFCwoWLBg77wW/s+grtTUtmHNBNIU8OHLkSII6+Pr6onXOrzwZvU3xOlDWk6U+hvmcRASJ7yvc63NHloNaS7169VCp/t/eeYc1db1x/JuBDBHFyVBARURRQXGAYlFrEVFwV62rDhyIrbtqtWqrraPDCtpiHW21YrVafnW04qLgqhM3joqggiIulJ3k/f1xCxpITICQ3Nycz/PkeST33Hveb07u15sz3iOCr68vHBwc8NNPP+G9995DSL/+2BzzFwoC5wJT/gd5vy/we/xZtPfxxenTpzXGri3bt2/HjWtXIQv/H+AR8KqP0MUb8g/2IitPhqlTpyK7eW/QqPUobNgB8vqtQc7e+PHnzZg0ScVng8r/fpWVsWPHopp1VYi/G6icQjn7CUTrh0OU+xQffPCBynP5pqUilEcLLwwrJ+cNaZB1wJEjR/D8yWOga5jqAt3C8PzpE8THx6NFixbw8vJSm/ril80/wSb/EaSfegG/zwdObAZ+nQnJEm9YUx7WrnnVkVj8E/JN82oUCq36hZJu3ISskS+XekcF5OqHW7eUc8W/9dZbkKVe4rJcquLMb1y+sZObYW1tpWTORW0yaXI4nomqQfbxaS6hYsuewDsfQvbxaeTXdceIUaN1Nm9o26/bIXbvonrjhqo1oegwjJsy8jIT2DQGSLvKpX/JzwbJZdi4aVNx9tvXef379eLFC6xduxbd3wmAT0c/TJo0CYmJiaXOqUxq166N/X/uQ/WnNyGa68rtG7A6BOKPXGCedAA7d+xAs2bNVJ5b2feKPimPFl4Y1uLFiyv1+sWTHWuqSXFsy72flZWl8VrNmjXD+TOnMXHEu7A+FgVsGgvbxK2YMXkCbl6/hvr16xeXjYyM5CaPnlY98oaMfyFPPoOuXbtqrNe2enWIn71ho4In91CtmnLf2sCBA1HX3gHiH8dwCQ+LIAISNnCz+rOfQCStgg+nTFE6d/Hixbh9+zYOxu6HPGgul0fsdSysIe/zGa5fu4Jjx45pjF8bnj57DkUNR/UFbB0BhQy4eZRLM7TgDBC6BViUCEz8FRBLMW7cuFKnFX2/kpKS4NasOcKnfIDDD6X4Bw2xfvtutG7dGp9++qlONGhLhw4dcOf2v1j97SqEuFVDLxcpliz6BCl3khEcHKz2vMq+V/RJebSYRKd7kybctATcPMo9IZTk5lHlchpwdnZGREQEVq9ejYKCAlSpUqXUU5JCoUDk2u8BVz/g2iEut3f3D1/9DHuRCawfgao21TF48GCNdQ4e/C52Dx8OpJ4HnEpsFpH9FJJTv2DYhDFKb5ubm2Pf7j/QPaAHns9pBPIeCFSrA1zez/Vb1XGFuOAlGtSqWiqPFvDaxD53NYbatAsgEuHq1avw8/PTqEETzZo2wZm9cZApFK9+Dr7O9b+5Edy+i4FWr/XxiERc6uNec3Hiz2V49uwZatSooXRqYWEhegT1wiPYgJYcBmq7AABkskJg80QsXLgQiYmJCA0NLe5/rGxsbGwQHh6O8PDwSq9LKPDiCauyadOmDVq1bgPJnk+B/Gzlg/nZEO/5FC29WsPb27tM1xWJRDA3N1f5k+7x48d4kHaP63MKnAXsmA180oLLT79+JDDXFbh3Ee9066pVPu2BAwfC3aMFpGv6ARf3vZozducMJKuDYG0mUtnv4e3tjWtXLmPBnFmoffsgREfWcD+lACDzX/Tu4oPjCfGoVatWqXOLRwKzMlQH9fIRQARra82z9rVh/PjxkGUkA3+rWGd57TBw5QD3hOWjZucin+GQFxao3MkmJiYGqcm3IR/7c7FZ4dFtLtvtic2AdW38fug4goKC4ObeHFeval46xdA/vDCsktkpdY1IJMKGdVGoknEdki98uE7mf08A8esh+cIX5g+vYcO6qArPMXpdR9HIInKzuAmCs44Azt5AUhy340/gbEhq2Gk9F8Xc3ByHD8TC270hENkX0lmOkM5xAT7vCEd6iiOHDqq9lp2dHRYvXoxHD9Lw8tkTHDgQiz179iA1JQX/i/ldZabYzMxM+Pr6olbdesDfqnclQlwUqphbIDBQTa70MuLj48M9bUR/yJn6pb+4z2vbNIgj+8Cm6Kmp5FrHIv7b4abkrkSZmZk4cOAApA1aAPVbcW/mZnH7AxTkcDvifHUfWJkKfBSPO3lm8O/2NjIy1Bi1Aanse0WflEtLZU6913bKvb6WG1y4cIF69Q7mlkUAJBKJqFfvYEpMTNTJ9Uvq6OjXmcRufqWXX6wrIMw4SAC0yoH0OgqFgk6cOEGLFi2i+fPn0+7du+n58+d0//59nWaqLNKyatUqLu1K8IJXWVvXZBGGrCKRWEIzZszQWZ1EnL7IyEhybvgq/1TNOnVpwYIFtHfvXu69sT+qXj40fC2JxGJKSUkppWXMmDEkbdjmVdkh3xDEUtW5xlamktjckj777DON8ebk5NDu3btpy5YtdOrUqUrP4KntvVL0PZk+fTqNHTuWli9fTg8ePKjU2MpKeZbm8MKw9J0nKyMjgy5fvqyztWFFlNSxZw+3/g5vTyGsfvLqhph7jKQ165NnG+8KZfRMTEykAQMGklgiIQBkaVWVJkyYQPfu3auolGItCoWCFixYwK1jtLQmM2dPLo8YQKGhoVpnTy0rcrmcbt26RUlJScWJ8qKjo7n1mrb1CZ/fUDaZz64QrOtQPXsHlVrWrVvHre8sOq+J36sEjapevsPJ3aOl2vgUCgUtX76cbGrYKiVv9GjpSSdPnqyUz6RIiyaysrLonR6B3JrIWvVJ2qgdic0tSWpmRpGRkZUWW1kpqcVoDEvIREREkFgiIYllNRJ5vENSJ08CQM1btqL79++X+7oJCQlkYWlFErsm3ILZ8BhC7/kkrV6X7Bzrl3rKqCipqam0dOlSmjhxIn3yySd0/fp1nV5fG4YNG0biBi0JtRsRqlhxOfcHrST4jiCYWRBs6pFYIlH5lPPy5UuqbluTxM26ESKeEuq3JHSZqN6wen5EDg2c6fz58/Thhx/SgAEDKCwsjE6ePEkKhYIWLlzImVTXMG6Re8Qzwod7SNyoHVlaVaXz58/r/fMpoldwCLdIftL2Vwv0v3nIZdgFtF40r2+08QkRUeUn3zl37hy8vb1x9uxZtGnTRvMJAuPu3btYv349rly5AisrKwwYMAC9evV6lTSujCgUCjRydcNdM3sopuzhdhUq4lkapCveQi8/b8T8vktHCoDjx49j7drvcOZ8IiwtLNC/bwjGjx+PevXqaT5ZRwwaNAg7rzwBhf7CrYU8sYVb71nDAeg4EjC3BrZNQ2FhocrPNi4uDkG9eqNQagWZRQ1u0frC86UXIAOQrOyKujkpSL9/D1JbB8gdPCB5eAOyzBT06h2M/fv/gixgFtBnkfKJ+TmQLPNFD6/G2LtnNwBud6D169fj4sWLsLS0RJ8+fdC/f/9KWX5z6dIltGrV6r+9D4cqHySCaHVvtKzyGIlnz+hlXWhZ0MYnTGJag6Fp0KCBTufPHDp0CCnJ/wJzflQ2KwCo4QBZj9n4I/qDUpvdlpf58+dj6dKlkNZzhax5AJDzFBeXLsOXX3+DA/v/Qvv27StchzZ4eXlh1+6lILGEW5fZ+2Ol46LvBsHdo6Xa/wi6dOmCSxcvICIiAj9v2YqnGY+4EcKOI5ULJv4B+c1jSBeJgGFrIPMbDUik3HSLM9uxb+NoLobuKmajm1tB3nUK9v0yGdevX8eRI0cwOTwcoipWkDfuCEn2fWzbNhSNmzTFwdi/4OLioqNPhyMmJgYSa1vIVa2uEIlAfmNxMWoI7t69a5QLqXkxSlhyLzVjRV86rly5ArG5JdBQjVG4dwUpFLhx40a56yjSsnPnTixduhTovxSyxZeBoauAsT9B8cW/eFnbHUG9g5Gdna3harph7NixkJAc+HUGNx/rdRJ3Axd244Pw0qsZXm+Xxo0bY9WqVXj86CG3qP2nUGDTWG596NVDwOYwiKKGQGJWBXj7Q8A/9FXmWLEYaD8E5NqJm89WtabqQB2aA0TwbtcekyZNgqLzeMiXpwAf7IZ87nFgwWmkPOfmhZUc0dSEpu9YTk4OxFb/PT2q4r8JwHyYMV+e+4UXhqXNrsrGgL50VK1aFYrCfCBXTbri/+ZNVSSjQpGWL7/+hlsuEzhLeTKndS0oxvyIx5mPEB0dXe56yoKdnR02btgA0T+/QLqkLRD7DZCwEaLvBkH0/SD06dMXoaGharW8jkgkwoYNG/D1V1/B8X488G1vYFVP1L21DyOHD4O8sADorCaNULO3uYyyr68eeJ37VwCRGNkFCm4qy9BV3Nb2RTTwhGzcFty4dhX79u0r02eg6TvWokULFGYkAxm3VBe4ehBW1tV48XRVnvuFF4a1Zo3qZGXGhr50BAcHQyIWc+l8VRG/Do5OzhXqL1yzZg0KCwtx8vgxKLwHqS5UuyEkjdojLi6u3PWUleHDhyMhPh692rpBEvMxsHkimhUm47u1a/Hbju0qc2apaxexWIxp06Yh5fa/uHnzJm7cuIH7qSkYMGAAV8Cyhsrz0HEEQHLgwDelj+W9BA5+C7QIBPJfcrnTVPUVubSFtH5z7N69W1vpb9RSxIABA1CjZi2IdswCZCWyV6Rfg+Tv7zB61MhybROva8pzv7A+LCPEzs4OoePGYd2GT6CwrA74juCSweU8B/Z/CfwTjU+ionS2u4vKZTJFiMR63zShU6dO6NSpE4gIcrm83IMXRUgkEri6uhb/3bJlS4hEItDl/VxSxpKknOPWY/65Ash+yq1msG0A3EwA9izhUhS9vx64tA+wqKa2XrKorjFjbFmxsLDAlp9/Qt9+/UCfd4DcL5Rbg3nzKCTHN8HVuYHe103qEl48YTHKzrfffov3hgwBNk+C9CNnmH3eAZI5LhDHfoklS5ao/GlUVszMzNCugw/E53aqLvA4FYrb/+Ctt96qcF3lQSQSVdisVOHi4oLAnkGQ7P0MeHJX+eCLR5DEzEfbDj7cQMrRjcDiNsDUOsCa/gBEwMyDQKMO3LZvF9X85Hv+AIo7Z8q8HEwbevXqhaMJCQhq4wrx9unAd4NQ49wWzAifiBPHElCzppq+NyOATWswcq5evYqtW7fi8ePHcHZ2xogRI+Do+IaMB2Vk27ZtGDp0KJc4sNvkVz9vcp5D/N0A2Dy6grspd3S2npAv3L17F75+nfHg8XPIfUcB9VsCD65DevxHVLcQ41j833Bzc0Mj1ya4I3UEukwA6jVR3nXot4+AA99ymSVavrZ8SVYI0YYRsLi2H/fv3YWtrW2l6cjJyUF2djZsbW21NnciQlxcHH766SfcT0uHg70dRo0aha5du1bqVAitfIIPE8KEshOIUHQQvdKiUCho+vTp3Kzp+h6EgOkEvzEksbKhqtVsKCEhwcCRaqa87fLw4UOaPXs22dauQwCoWvUa9MEHH1BqampxmYiICG4G/egNykuwvrxHYidPMreqSiKxmESt+xCGryX0/ZSkdq4kNTOjXbt26U2LtuTl5VGfvv249rZ3I7TpRxKHpgSAegeHUG5urs7qMtqlOfv379dHGJVOZejIy8uj9evXU7sOvlS7nj01bd6CPv/8c3r8+LHO63qd17UoFAo6dOgQ9es/gJwaNqamzVvQvHnzlG5cPqOLdsnPz1c5g14ul9P7779PAEji3JozdJ9hJDa3pJp16tKZM2do7dq11MyjJYlEIjK3sKTBg4fQ6dOnyxVHZd8rU6ZM4baxmxD9yoCj8gkTfyWxmTmFhYXprK6SWthMdyMnOzsbPXoG4djRBIhbBELh0hZ4dBviczvhYG+HhLgjOp94yCg7RIQ///wT330fhYtXrqKatTWGDBqA8ePHo27dV4kPFf9ll+XbDPMinj59Cjt7BxT0+KjUpFwAwJ/LUWXfUqTdv6cyHVFFYTPdjZw5c+bg5OmzwKwjULi+2nZK0WcxHnwTgHeHvodTJ44bMEIGwHX+BwUFISjozRtH6CMpYEWIj49HQX4eN+qsCp/hKPh9AeLi4l5N/dAz/P4ETZisrCys37gJ8u7TANcSe+TVcoJs0Jc4ffKETjeBYJg2xbsOWagZQDG3Vi5nAHhhWDExMYYOQSfoUselS5eQl5PNpf5VRcueEFexwPHjlfOEJZQ2AZgWbSmeYnFhj+oCF7hJrm3bttVJfeXRwgvD0tfSjspGlzqKfz7I1aw1U8hBCkWl/cwQSpsATIu2NGrUCD16BkH6xyIgM1n54OMUSHcvQveAHlrvfaCJ8mhhne48JTc3F3YOjshq9z4wSMX+bae2AetH4vLly/Dw8NB7fAxhcv/+fXTs/Bbupz+EvN1Qbsu1tCuQnNoKB7u6OJ4Qr7QzlLbcvHkTmzZtQnJyMmrXro333nsPPj4+SgMQ2vgEL56wGKWxtLREeNgkiI5EAmd3Ke9tmHoe0h2z0D2gBzMrnvDy5UtERUVh2LBhGD58OH744Qe9ZbHQJY6Ojjh3+hTmfzQT9VMOwmzXbDgmx+Lj2TNw7vSpMpsVEWHu3Llwc3PDiogo7EhMx/fbdqNjx47oHRxS9qwROptU8QZMOeNoRSgoKKB+/Qdwc3ycPAmdx5LYvSsBoBaeXjpP8cwoH0ePHqUaNWtxaaRdfUni6kMQiahWnbqVmi7ZGIiIiOAys/Zbwu0FsK6Ay4I6YRuJza3ovWHDi8tq4xPsCYvHmJmZ4bcd27Fv3z6EtHVFq5eJ6NbADD/99BNOnzyBOnXqGDpEk+fevXvo0TMIWbWbg5begHz235DPjgeWJuFp9cYICOyJBw8eGDpMgyCTybD0i+VcgsSeswEzC+6AWAx494diwDJER29FSkqK1tfkhWGNHq0m75CRURk6xGIxevbsiV07f8OFc2dwIHY/Ro4cCQsLC53X9TpCaROgcrV89913yJMDirBdQK3XckzVbghF2C68zM3HunVqtkkrB8bULomJidzenJ3UxOwzHBCJsXfvXq2vyQvDCggIMHQIOkEoOgCmRVt2/W835K37A1bVSx+0rgWFV1/sivlDZ/UZU7vk5uZy/6iqZnG3eVWIq1ggLy9P62vywrCGDh2quZARIBQdANOiLbl5eYDVG7ItVLXlyugIY2qXZs2aQWpmxu3YrYpbxyHPfcltmqElvDAsBsNY8fbyhPTqX8qjuEUoFJBe2Q9vL0/9B8YDateujXcHvQtp7JdAxr/KB/NeQLLzIzRydUO3bt20viYzLAajAkwOmwTZ/WvAoYjSB2O/huzhLUyeXHpjDFPh66+/QoM6NpB83oHbPOSfaGDv55Au9oLFoyRs27qlTJOfeWFYR48eNXQIOkEoOgCmRVu6deuGmTNnAttnQryqJ5CwAYhfD/HXAcCueZg3bx46deqks/qMrV3q1auH0ydPYOaUSbC9sA3YMArm+5djePDbWPf9d2jXrl3ZLqiPuRgsgZ/xwbRoj0KhoG3btlG7Dj7FW9b7dOxEO3bs0HldxtwuCoWCXrx4QTKZjIjKl8CPF0tzcnJyeLGLR0URig6AaSkvhYWFALg5dJWBkNvFaPJhCaUBhKIDYFrKS2UZVRGm3i686MNiMBgMbWCGxWAwjAZeGNasWbMMHYJOEIoOgGnhK6auhRd9WE5OTpoLGQFC0QEwLfqAiHD06FFcvnwZVlZW6Nmzp9KmFargq5byUC4tlTeIWbbhSgbDlDhz5gw1beZBAEgklnD7AJqZUVhYGOXn5xs6PIOgjU/w4gmLwTAlkpKS4N+1G/JquwHTY0FN/YGcp5AlbMD3PyzGs+dZ+GXLZkOHyUt40YfFYJgSS5YuRb5FTcin7QfcuwAiEVC1JhA4C4qhkdj6yxZcunTJ0GHyEl4YVlJSkqFD0AlC0QEwLZVFfn4+tm/fDlnnUMCiWukCPsMgrV4XW7ZsUXk+n7RUlPJo4YVhzZ4929Ah6ASh6ACYlsrixYsXKCwoAOq6qi4gNQNqN8SjR49UHuaTlopSHi28MKzIyEhDh6AThKIDYFoqi+rVq8PKuhqQel51gfxs0IMktSNofNJSUcqjhReGJZShWqHoAJiWysLMzAyjR42E9OgG4Fla6QKHI6HIycKoUaNUns8nLRWlPFp4YVgMhikxb9481K5mDukKfy4dzeMU4M5Z4OeJwO8L8NFHH6Fhw4aGDpOXsGkNDIaecXBwwMljRzE5fAr2bQkD/ZcwpXY9O8z7+mtMnTrVwBHyF148YS1frmJnYyNEKDoApqWiXLhwAevWrcPGjRuRmppa6rizszP27P4Dd+7cwf79+5GQkIC0u6mYNm2a0m7IJTH1duHFE1aZd3/lKULRATAt5SU5ORnDRo7CiaMJ3PwqIojEYgwcOAjrf1gHGxsbpfJOTk5l6ssx9XbhRQI/BkMIZGZmwsu7LR7mSyHr/wXQshcgywf+iYbk93nw8fbE30cOQyKRGDpUXqKNT/DiJyGDIQQiIyPxICMTsukHgNZ9uTlVFtaAfyjkE3fgWEJ8mTYNZZSGGRbDpHj+/Dm2bduGqKgoHD58GAqFQmfX3vTzFsjbDQFs65c+6N4Fkobe+HkzWyNYEdQa1rNnz9CrVy80b94c/v7+ePDggcpyjo6OaN26dfHr3r17ZQ4iMzOzzOfwEaHoAISnRaFQYNGiRbBzcMTQoUMxcdIkvP3222js1hRxcXE6qedx5iOgXhO1x+V1muDBw4wK1SG0dikrag1r/vz58PPzw9WrVxEaGorw8PBSZe7evYs6derg/Pnzxa/69VX876KBMWPGlPkcPiIUHYDwtMydOxeLP/0UeW+FASvuAN/nAR/9jVSpIwICA3Hq1KkK11O/fgP1M9iJIL2XCBenBhWqQ2jtUmbU5Z1p2LAh3b17l4iICgsLydramgoLC5XK7Ny5k5o3b06+vr7k7e1Nu3btKleeG6HkyRKKDiJhafnrr79IIpUS+iwmrCtQfq15QRKnVtQ9oEeF6/nyyy9JbFaFsPBc6XrG/0IA6PDhwxWqQ0jtUlKLNvmw1D5hpaWlwcHBAQAglUpRo0aNUo9whYWFCAoKwt9//42dO3di2rRpuH79eplNUygjh0LRAQhLy5UrV0BiKdBVxQ7MZuaQdwnHwdj9ePjwYYXqmTBhApq5N4Pk63eAA98CmclA2lVg18cQbXwfAwYOQpcuXSpUh5DapTxaxL/++ivs7e2VXu3bt1dduMSW0oMHD8bKlSthZmYGZ2dn9OvXD7GxseUKnsFQh0KhwJUrV3Dq1Ck8fvy4zOc/evQIkup2gFV11QXs3ABUvH/I2toa8XGHMSSkOgn1RgAAE2dJREFUJ6Qx84B5TYFFXqh6LAqzZ0xH9NZf3jgplKEZ8eDBg5Genq70OnXqFBwcHJCeng4AkMlkyMrKQq1atZRO3rVrl1KiMZlM9sZ92YKCghASEqL08vX1RUxMjFK52NhYhISElDp/8uTJ2LBhg9J7586dQ0hISKkv28KFC0vNpE1NTUVISEipPDwRERGlEuLn5OQgJCSk1Nbg0dHRGD16dKnYBg8ezHRUgo7NmzejSdNmaNGiBTp06IB6dvYYNnx48SBQkQ4iQkJCAkaOGgWfjn5wcHTEtGnTkJ+fjwYNGkD29D6QpabDOzURIrEYdnZ2FdZRs2ZNbNmyGffv3cOkSZPw7rvv4mF6GpYtWwYzMzPetsfTp0+xbds2dOzYEWfPnlUqWxnfq+joaPj6+sLOzq7YC7RakqTut+LkyZNpyZIlRET0888/U+/evUuVWbZsGQ0YMIAUCgWlpaWRk5MTpaamqvytijf8Nl2/fr3a36zGhFB0EPFDy8qVK7mt39v0JXy4l7DgNGHgcpLUsCOnho3owYMHREQkl8tp7NixXF50O1eC73ASu3UmAOTRypM+++wzqmJuQXj7g9J9S6sekaReY+rXf4CB1WqHrtslKyuLQkNDydzCkvusAapazYZmzpxZ6bnlS2rRpg9LrWE9efKEQkJCyMPDg/z8/CglJYWIiP744w8aN24cERHl5+fTqFGjqHnz5uTu7k47duxQeS1NgYSFhb1ZmZEgFB1EhteSlpbGdZQHTC9tMl/cJGm1WjRlyhQiIlqxYgVBJCKMjCJ8n/eq3Mf/kKSGHdk7NqCvvvqKuyE7DCXMSSAsTyaM20wSx+ZUrXoNunbtmkH1aosu2yU3N5c6+HYkiWU1Qt9PCZ9e4gYMes4msVkV6h0cQnK5XGf1laSklgoZli5hu+YwysqyZctIbG5FWJVR2rDWFRB6fkRVq9lQdnY21bV3IPiNUV1u0vbi794PP/xA9vUbFD9JAKDO/l3o0qVLhpZrENatW8cZ/ZyjpT+3ybsIAO3Zs0dv8VRolJDBMCS3b9+GxMEdsKqhukCjDsh+kYUTJ04gIz0N6PCe6nKtekNiWQ0HDhzAuHHjkJp8G0ePHsXevXtx48YNxMcdQYsWLSpPCI+J+mEDRC17Ao1UDLK16gWJc2v8sH5D6WMGhBfZGhiMktja2oKe3ANkhdyavJI8ToFYLIalpSX3t5mF6guJJRBJzSCTyQBwU3Q6depUSVEbFympqaD2AaoPikSQO3kjOUXNRFgDwZ6wGLxkyJAhkD3PAE7/WvpgYR4k8VEIDukDLy8vWNtUBxJjSpcDgBsJkL14Ah8fn8oN2AipU7s2kHFL7XHxo1uwq1tHjxFphheGpWqI1hgRig7A8Fq8vLwwYOAgiH8JA+K+B/KzuQN3EyFe0w+Sx3fwyYL5sLKywoTQcRAfWQvcPKZ8kawMSLZPRVWb6ujWrZv+RVQCumyX90cOh/jcLm6Ca0nunIUiKQ4jRwzXWX0lKZcWPnSm7d+/Xx9hVDpC0UHEDy25ubk0YuQoEolEJDYzJ2m1WgSA7Bzr06FDh4rL5eTkUGf/LiQSi0nk1ZvQbwnBfzxJLKtRrbr1aN26dQZUoVt02S5Pnz4l50aNSVrbmTBhG2FtNmFNFmH0BpLY1CbPNt6Ul5ens/pKUlILGyVkCILk5GRatWoVLV26lGJiYkqtaSUiysvLo6ioKPJq05ZsbGtSA5dG9PHHH1NaWpoBIjYeUlNTqVPntwgAicQSglhMAKhnr96UmZmp11i08QmWcZTBYODChQs4fvw4xGIxunbtCjc3N73HoI1PsFFCBoMBT09PeHp6GjoMjfCi073kWiljRSg6AKaFr5i6Fl4YVnR0tKFD0AlC0QEwLXzF1LWwPiwGg8EL2K45DAZDUDDDYjAYRgMzLAaDYTTwwrBUZSg0RoSiA2Ba+Iqpa+GFYQUEqFkxbmQIRQfAtPAVU9fCRgkZDAYvYKOEDAZDUDDDYjAYRgMvDKvkVkHGilB0AEwLXzF1LbwwrBUrVhg6BJ0gFB0A08JXTF0LLzrdc3JyYGVlVdlhVDpC0QEwLXxFyFqMptNdKA0gFB0A08JXTF0LLwyLwWAwtIEZFoNRAS5evIiJEyeiVWtvtOvgi8WLFyM9Pd3QYQkWXhjWrFmzDB2CThCKDoBp0YZvv/0Wnp6e2LBjDy5Va40zcMGny1bC1a0p4uPjK6VOU28XXqRIdnJyMnQIOkEoOgCmRRNHjhzB1KlTgYDpkPVbAki4W0mR8wx53w9Gr+AQpCTfRs2aNXVar6m3Cy9GCRkMYyM4pA/+SkyGbP4ZQCRSPpiVAdGchli57AvMmDHDMAEaIUYzSshgGBuHDh+GrO3g0mYFADZ1Qe7dcOjQYf0HJnCYYTEY5YCIALFEfQGxBHr48WJy8MKwkpKSDB2CThCKDoBp0YSfnx8k53epPpj9FOKkw+jc2U/n9Zp6u/DCsGbPnm3oEHSCUHQATIsmpn34AeS3TwN/rgBef5IqzIPo51BUkYgxduxYnddr8u1SybtPE5HmLahTUlL0EUalIxQdREyLNnzyyScEgKSOzQiBswhdw0havS6ZmZvT7t27K6VOIbeLNlvV8+IJSyhDtULRATAt2rB48WLExcWhj48H7C//CueUWISNGoLLFy+id+/elVKnqbcLL+ZhMRjGir+/P/z9/Q0dhsnAiycsBoPB0AZeGNby5csNHYJOEIoOgGnhK6auhReGlZOTY+gQdIJQdABMC18xdS1saQ6DweAFbGkOg8EQFMywGAyG0cALw8rMzDR0CDpBKDoApoWvmLoWXhjWmDFjDB2CThCKDoBp4SumroUXhrVo0SJDh6AThKIDYFr4iqlr4YVhCWXkUCg6AKaFr5i6Fl4YFoPBYGgDMywGg2E08MKwNmzYYOgQdIJQdABMC18xdS28MKxz584ZOgSdIBQdANPCV0xdC1uaw2AweAFbmsNgMAQFMywGg2E0MMNiMBhGAy8MKyQkxNAh6ASh6ACYFr5i6lp4YVjh4eGGDkEnCEUHwLTwFVPXwkYJGQwGL2CjhAwGQ1Aww2IwGEYDLwwrJibG0CHoBKHoAJgWvmLqWnhhWNHR0YYOQScIRQfAtPAVU9fCOt0ZDAYvYJ3uDAZDUDDDYjAYRgMzLAaDYTTwwrBGjx5t6BB0glB0AEwLXzF1LRoN68cff3zjhWfOnIlmzZrBw8MDx44dK3MAABAQEFCu8/iGUHQATAtfMXktpIa8vDyaM2cO2djY0OjRo1WW2bFjBwUGBhIR0Y0bN6hRo0ZUWFhYqtzZs2cJAJ09e1ZddQwGw8TRxifUPmEdOXIECoUCy5cvB6mZ+bBv3z4MGzYMANCkSRM0bNgQR48eLbtrMhgMhhaoNazAwEAsX74cFhYWak9OS0uDg4ND8d/29vZIT0/XbYQMBoPxH+Jff/0V9vb2Sq8OHTpodbKqJy+JRFLmIITyVCYUHQDTwldMXYt48ODBSE9PV3r9888/xQVEIpHakx0dHZWeqNLT05WeuEoSFBSEkJAQpZevry+mTZumVC42NlZlcq/JkyeX2hro3LlzCAkJQWZmptL7CxcuxPLly5XeS01NRUhICJKSkpTej4iIwKxZs5Tey8nJQUhISKkPNTo6WuUgxODBgwWjIyYmBitWrBCEDgDFWoxdR5EWIeiIjo5GcHAw7Ozsir1g6tSppc4rhaaOsE2bNtH777+v8tiOHTuoR48eJJfL6fr169SgQQPKy8src2dadna2pjCMAqHoIGJa+IqQtVSo070IkUik9JS1e/duhIaGAgAGDhyIli1bomXLlujfvz82btwIc3NzzS5ZAisrqzKfw0eEogNgWviKqWthi58ZDAYvYIufGQyGoOCFYZXs0DNWhKIDYFr4iqlr4YVhOTk5GToEnSAUHQDTwldMXQvrw2IwGLyA9WExGAxBwQyLwWAYDbwwrJIza40VoegAmBa+YupaeGFYs2fPNnQIOkEoOgCmha+YuhZeGFZkZKShQ9AJQtEBMC18xdS18MKwhDJUKxQdANPCV0xdCy8Mi8FgMLSBGRaDwTAaeGFYJfPyGCtC0QEwLXzF1LXwwrBycnIMHYJOEIoOgGnhK6auhS3NYTAYvIAtzWEwGIKCGRaDwTAaeGFYJRPkGytC0QEwLXzF1LXwwrDGjBlj6BB0glB0AEwLXzF1LbwwrEWLFhk6BJ0gFB0A08JXTF0LLwxLKCOHQtEBMC18xdS18MKwGAwGQxuYYTEYDKOBF4ZVcnttY0UoOgCmha+YuhZeGNa5c+cMHYJOEIoOgGnhK6auhS3NYTAYvIAtzWEwGIKCGRaDwTAapIYOgMFg6Jfr168jMzMTDRo0MLqUy7x4wgoJCTF0CDpBKDoApoWvVETLgQMH0Nq7Hdzd3eHn5wdnZ2d06/4OEhMTdRih9pRHCy8MKzw83NAh6ASh6ACYFr5SXi1//PEHegQG4uJLSyDsN2BRIjB6I+Kvp6OjX2eDmFZ5tLBRQgZD4MhkMtR3dkFGHS/QpN8AseTVwbyXkKz0h4+LLY7G/224IMFGCRkMBoC//voLD9Pug0IWKpsVAFhYQ95jNo4lxOPmzZuGCbAMMMNiMAROcnIyRNIqQAMv1QUatQcA3LlzR39BlRNeGFZMTIyhQ9AJQtEBMC18pTxaatasCZIVAE/vqy6QeQcAUKtWrQpEVnbKo4UXhiWUrYuEogNgWvhKebQEBwfDwqoqcHB16YNEEB38Fo2bNEXr1q11EKH2GO02X3Xq1DF0CDpBKDoApoWvlEeLjY0N5s+bCxz4Btg1D8h6yB3I+BfYNAZ0cR+Wfb4EIpFIx9G+mfJoYRNHGQwTYN68eVAoFFj6+RcoiP0aYksbyLOfwaaGLVb/+CMGDhxo6BC1ghkWg2ECiEQiLFiwAOHh4fj999/x6NEjODk5oW/fvrC0tDR0eFrDDIvBMCFsbW2NeiMLvRrWtWvXVL5/6tQpQeT5EYoOgGnhK0LWos4flCA9kJaWRv7+/gSAvdiLvdhL7cvf35/S0tLUeoleluYAQHp6OtLT0/VRFYPBMFLs7e1hb2+v9rjeDIvBYDAqCi/mYTEYDIY2MMNiMBhGAzMsBoNhNOjNsLZu3QoPDw80adIEa9asKXU8MTERbdu2RdOmTTFu3DjIZDJ9hVZmNGk5cOAAvL294eXlhe7duyM1NdUAUWqHJi1F7N27F40aNdJjZGVHk5br16+jS5cu8PLyQmBgIJ49e2aAKLVDk5bTp0/D29sbnp6eCA4OxvPnzw0QpXa8ePECLVu2VHkflPm+18e0hnv37pGzszM9efKEsrOzydPTky5duqRUxsPDg44fP05ERGPHjqWIiAh9hFZmNGnJz88nOzs7unnzJhER/fDDD9SnTx9DhftGtGkXIqIHDx6Qu7s7NWzY0ABRaocmLQqFgtzc3Gj//v1ERDRv3jyaNWuWocJ9I9q0i6+vL/35559ERDRjxgyaP3++IULVyMmTJ8nT05PMzc0pJSWl1PGy3vd6ecI6ePAgunfvDltbW1hZWWHgwIH47bffio+npKQgNzcXvr6+AID3339f6Tif0KSloKAAq1evhqurKwDAy8uLt09YmrQUERoaikWLFoF4PKCsScu5c+dgbW2NgIAAAMCcOXN4mzpZm3axsrJCVlYWACA3NxdWVlaGCFUjUVFRiIyMVDlVoTz3vV4MKz09XSlge3t7pTlZaWlpcHBwKP7bzs6Ot3O2NGmxtrbGoEGDAAByuRyLFi1Cnz599B6nNmjSAgCrV6+Gt7c3fHx89B1emdCk5datW7C3t8eYMWPg6emJiRMnolq1aoYIVSPatMvixYsxbtw4ODg44MCBA5gwYYK+w9SKjRs3ws/PT+Wx8tz3ejEsVf8zi8VirY/zCW1jzc3NxbvvvgsAmD9/fqXHVR40abl8+TJ27dqF+fPn8/rpCtCsRSaT4dChQwgLC8OFCxfQuHFjTJ8+XZ8hao0mLVlZWRgyZAgOHz6MtLQ0jB8/HiNHjtRniDqhPPe9XlzB0dERDx48KP47LS0Njo6Oao+np6crOS+f0KQFAJ4+fYq3334bVatWxf/+9z9IJJKSl+EFmrT89ttvSE9PR9u2bdGrVy+kpaWp/d/S0GjSYm9vj8aNG6Nt27YAgCFDhuDUqVN6j1MbNGlJSkpCvXr1irVMnDgRcXFx+g6zwpTrvtdlB5s67t+/Ty4uLpSRkUEvX76kVq1a0enTp5XKtGjRghISEoiIaMyYMfTll1/qI7Qyo0mLQqGgLl260LRp0wwYpXZo0y5F3Llzh1xcXPQcofZo0pKTk0N2dnZ09uxZIiJauXIljRgxwlDhvhFNWp49e0b16tWjK1euEBHRL7/8Qv7+/gaKVjtcXFxUdrqX9b7Xi2EREW3dupU8PDzIzc2NVq5cSUREQUFBxV+gCxcuUPv27cnd3Z2GDRtGBQUF+gqtzKjTcubMGYqNjSWRSESenp7k5eVFXl5eFBgYaOCI1aOpXYpITk7m9SghkWYt//zzD7Vv3548PDwoICCAMjIyDBnuG9GkJTY2llq1akWtWrWi7t270+3btw0ZrkZeN6yK3PdsLSGDwTAa+NmzzWAwGCr4PxI2wrNsrAZmAAAAAElFTkSuQmCC\" />"
      ]
     },
     "execution_count": 26,
     "metadata": {},
     "output_type": "execute_result"
    }
   ],
   "source": [
    "scatter(X, residuos, legend=false)"
   ]
  },
  {
   "cell_type": "code",
   "execution_count": 35,
   "metadata": {
    "collapsed": false
   },
   "outputs": [
    {
     "data": {
      "text/html": [
       "<table class=\"data-frame\"><tr><th></th><th>x</th><th>y</th></tr><tr><th>1</th><td>0.0</td><td>0.04956334024050179</td></tr><tr><th>2</th><td>0.05</td><td>0.08829564240747546</td></tr><tr><th>3</th><td>0.1</td><td>0.10122137941044472</td></tr><tr><th>4</th><td>0.15</td><td>0.17888825066914482</td></tr><tr><th>5</th><td>0.2</td><td>0.13774192254380221</td></tr><tr><th>6</th><td>0.25</td><td>0.17616406571499774</td></tr><tr><th>7</th><td>0.3</td><td>0.14480951828912725</td></tr><tr><th>8</th><td>0.35</td><td>0.19382763519956683</td></tr><tr><th>9</th><td>0.4</td><td>0.28289546827815787</td></tr><tr><th>10</th><td>0.45</td><td>0.4320908335209055</td></tr><tr><th>11</th><td>0.5</td><td>0.16626404689313173</td></tr><tr><th>12</th><td>0.55</td><td>0.21697943924430985</td></tr><tr><th>13</th><td>0.6</td><td>0.2339196873085717</td></tr><tr><th>14</th><td>0.65</td><td>0.2711226838784223</td></tr><tr><th>15</th><td>0.7</td><td>0.3825967010427204</td></tr><tr><th>16</th><td>0.75</td><td>0.29362814380977414</td></tr><tr><th>17</th><td>0.8</td><td>0.23357627322241126</td></tr></table>"
      ],
      "text/plain": [
       "17×2 DataFrames.DataFrame\n",
       "│ Row │ x    │ y         │\n",
       "├─────┼──────┼───────────┤\n",
       "│ 1   │ 0.0  │ 0.0495633 │\n",
       "│ 2   │ 0.05 │ 0.0882956 │\n",
       "│ 3   │ 0.1  │ 0.101221  │\n",
       "│ 4   │ 0.15 │ 0.178888  │\n",
       "│ 5   │ 0.2  │ 0.137742  │\n",
       "│ 6   │ 0.25 │ 0.176164  │\n",
       "│ 7   │ 0.3  │ 0.14481   │\n",
       "│ 8   │ 0.35 │ 0.193828  │\n",
       "│ 9   │ 0.4  │ 0.282895  │\n",
       "│ 10  │ 0.45 │ 0.432091  │\n",
       "│ 11  │ 0.5  │ 0.166264  │\n",
       "│ 12  │ 0.55 │ 0.216979  │\n",
       "│ 13  │ 0.6  │ 0.23392   │\n",
       "│ 14  │ 0.65 │ 0.271123  │\n",
       "│ 15  │ 0.7  │ 0.382597  │\n",
       "│ 16  │ 0.75 │ 0.293628  │\n",
       "│ 17  │ 0.8  │ 0.233576  │"
      ]
     },
     "execution_count": 35,
     "metadata": {},
     "output_type": "execute_result"
    }
   ],
   "source": [
    "residuos_modelo = DataFrame(\n",
    "x = collect(0:0.05:0.8),\n",
    "y = Float64[ mad( residuos[i .<= X .<= i+0.2] ) for i in collect(0:0.05:0.8) ]\n",
    ")"
   ]
  },
  {
   "cell_type": "code",
   "execution_count": 33,
   "metadata": {
    "collapsed": false
   },
   "outputs": [
    {
     "data": {
      "text/plain": [
       "DataFrames.DataFrameRegressionModel{GLM.GeneralizedLinearModel{GLM.GlmResp{Array{Float64,1},Distributions.Normal{Float64},GLM.IdentityLink},GLM.DensePredChol{Float64,Base.LinAlg.Cholesky{Float64,Array{Float64,2}}}},Float64}\n",
       "\n",
       "Formula: y ~ 1 + x\n",
       "\n",
       "Coefficients:\n",
       "              Estimate Std.Error z value Pr(>|z|)\n",
       "(Intercept)  0.0961484  0.033633 2.85876   0.0043\n",
       "x             0.286627 0.0717057 3.99726    <1e-4\n"
      ]
     },
     "execution_count": 33,
     "metadata": {},
     "output_type": "execute_result"
    }
   ],
   "source": [
    "modelo = glm(y ~ x, residuos_modelo, Normal(), IdentityLink())"
   ]
  },
  {
   "cell_type": "code",
   "execution_count": 38,
   "metadata": {
    "collapsed": false
   },
   "outputs": [
    {
     "data": {
      "text/html": [
       "<img src=\"data:image/png;base64,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\" />"
      ]
     },
     "execution_count": 38,
     "metadata": {},
     "output_type": "execute_result"
    }
   ],
   "source": [
    "plot(\n",
    "scatter(residuos_modelo, :x,:y),\n",
    "scatter(residuos_modelo[:x],residuos_modelo[:y]-predict(modelo)),\n",
    "legend=false, size=(400,200))"
   ]
  },
  {
   "cell_type": "code",
   "execution_count": 39,
   "metadata": {
    "collapsed": false
   },
   "outputs": [
    {
     "data": {
      "text/plain": [
       "2-element Array{Float64,1}:\n",
       " 0.0961484\n",
       " 0.286627 "
      ]
     },
     "execution_count": 39,
     "metadata": {},
     "output_type": "execute_result"
    }
   ],
   "source": [
    "C = coef(modelo)"
   ]
  },
  {
   "cell_type": "code",
   "execution_count": 40,
   "metadata": {
    "collapsed": false
   },
   "outputs": [
    {
     "data": {
      "text/plain": [
       "100-element Array{Float64,1}:\n",
       " 3.88437\n",
       " 3.34206\n",
       " 3.3656 \n",
       " 5.91198\n",
       " 4.94644\n",
       " 3.27394\n",
       " 3.87572\n",
       " 7.04711\n",
       " 6.51876\n",
       " 2.63022\n",
       " 2.86393\n",
       " 3.47106\n",
       " 4.61552\n",
       " ⋮      \n",
       " 3.78525\n",
       " 3.45427\n",
       " 2.88862\n",
       " 5.50612\n",
       " 4.07981\n",
       " 3.33891\n",
       " 3.23817\n",
       " 9.18191\n",
       " 5.53238\n",
       " 7.41313\n",
       " 4.58346\n",
       " 7.14962"
      ]
     },
     "execution_count": 40,
     "metadata": {},
     "output_type": "execute_result"
    }
   ],
   "source": [
    "pesos = Float64[ 1/(C[1] + C[2]*x) for x in datos[:X] ]"
   ]
  },
  {
   "cell_type": "code",
   "execution_count": 41,
   "metadata": {
    "collapsed": false
   },
   "outputs": [
    {
     "data": {
      "text/plain": [
       "DataFrames.DataFrameRegressionModel{GLM.GeneralizedLinearModel{GLM.GlmResp{Array{Float64,1},Distributions.Normal{Float64},GLM.IdentityLink},GLM.DensePredChol{Float64,Base.LinAlg.Cholesky{Float64,Array{Float64,2}}}},Float64}\n",
       "\n",
       "Formula: Y ~ 1 + X\n",
       "\n",
       "Coefficients:\n",
       "             Estimate Std.Error z value Pr(>|z|)\n",
       "(Intercept)   4.98857 0.0179254 278.297   <1e-99\n",
       "X             1.90201 0.0363663 52.3014   <1e-99\n"
      ]
     },
     "execution_count": 41,
     "metadata": {},
     "output_type": "execute_result"
    }
   ],
   "source": [
    "glm(Y ~ X, datos, Normal(), IdentityLink(), wts=pesos)"
   ]
  },
  {
   "cell_type": "markdown",
   "metadata": {},
   "source": [
    "### Ridge Regression \n",
    "\n",
    "[Ridge regression](https://en.wikipedia.org/wiki/Tikhonov_regularization) en [MultivariateStats](http://multivariatestatsjl.readthedocs.io/en/latest/lreg.html#ridge-regression) y [en ScikitLearn](http://scikit-learn.org/stable/modules/linear_model.html#ridge-regression).  \n",
    "Esta regresión es mucho más robusta a la presencia de variables explicativas correlacionadas (colineales)."
   ]
  },
  {
   "cell_type": "markdown",
   "metadata": {},
   "source": [
    "*Ridge Regression* usando **ScikitLearn.jl**, el valor de α es seleccionado usando *validación cruzada*:"
   ]
  },
  {
   "cell_type": "code",
   "execution_count": 42,
   "metadata": {
    "collapsed": false
   },
   "outputs": [
    {
     "data": {
      "text/plain": [
       "10-element Array{Float64,1}:\n",
       " 0.789255\n",
       " 1.60645 \n",
       " 1.42648 \n",
       " 1.11923 \n",
       " 0.915625\n",
       " 1.12924 \n",
       " 0.826748\n",
       " 1.39492 \n",
       " 1.05511 \n",
       " 1.10098 "
      ]
     },
     "execution_count": 42,
     "metadata": {},
     "output_type": "execute_result"
    }
   ],
   "source": [
    "k = 3  # variables independientes\n",
    "@assert k > 2\n",
    "N = 10 # observaciones\n",
    "X = rand(N, k) # simulación: valores observados para las variables independientes\n",
    "X[:,1] = X[:,1].*X[:,2] + X[:,1] # colineales\n",
    "α = rand() # simulación: valor real de la intersección\n",
    "β = rand(k) # simulación: valores reales de los coeficientes\n",
    "E = 0.1 .* rand(N) # simulación: agrega errores al azar al modelo\n",
    "Y = α + X * β + E # valores para la variable dependiente con el modelo lineal que acabamos de armar"
   ]
  },
  {
   "cell_type": "code",
   "execution_count": 43,
   "metadata": {
    "collapsed": false
   },
   "outputs": [
    {
     "name": "stderr",
     "output_type": "stream",
     "text": [
      "WARNING: using ScikitLearn.predict in module Main conflicts with an existing identifier.\n"
     ]
    }
   ],
   "source": [
    "using ScikitLearn\n",
    "@sk_import linear_model: RidgeCV"
   ]
  },
  {
   "cell_type": "code",
   "execution_count": 44,
   "metadata": {
    "collapsed": false
   },
   "outputs": [
    {
     "data": {
      "text/plain": [
       "PyObject RidgeCV(alphas=[0.01, 0.02, 0.03, 0.04, 0.05, 0.06, 0.07, 0.08, 0.09, 0.1, 0.11, 0.12, 0.13, 0.14, 0.15, 0.16, 0.17, 0.18, 0.19, 0.2, 0.21, 0.22, 0.23, 0.24, 0.25, 0.26, 0.27, 0.28, 0.29, 0.3, 0.31, 0.32, 0.33, 0.34, 0.35, 0.36, 0.37, 0.38, 0.39, 0.4, 0.41, 0.42, 0.43, 0.44, 0.45, 0.46, 0.47, 0.48, 0.49, 0....9.84, 9.85, 9.86, 9.87, 9.88, 9.89, 9.9, 9.91, 9.92, 9.93, 9.94, 9.95, 9.96, 9.97, 9.98, 9.99, 10.0],\n",
       "    cv=None, fit_intercept=True, gcv_mode=None, loss_func=None,\n",
       "    normalize=False, score_func=None, scoring=None, store_cv_values=False)"
      ]
     },
     "execution_count": 44,
     "metadata": {},
     "output_type": "execute_result"
    }
   ],
   "source": [
    "rcv = RidgeCV(alphas=0.01:0.01:10.0)"
   ]
  },
  {
   "cell_type": "code",
   "execution_count": 45,
   "metadata": {
    "collapsed": false
   },
   "outputs": [
    {
     "data": {
      "text/plain": [
       "PyObject RidgeCV(alphas=[0.01, 0.02, 0.03, 0.04, 0.05, 0.06, 0.07, 0.08, 0.09, 0.1, 0.11, 0.12, 0.13, 0.14, 0.15, 0.16, 0.17, 0.18, 0.19, 0.2, 0.21, 0.22, 0.23, 0.24, 0.25, 0.26, 0.27, 0.28, 0.29, 0.3, 0.31, 0.32, 0.33, 0.34, 0.35, 0.36, 0.37, 0.38, 0.39, 0.4, 0.41, 0.42, 0.43, 0.44, 0.45, 0.46, 0.47, 0.48, 0.49, 0....9.84, 9.85, 9.86, 9.87, 9.88, 9.89, 9.9, 9.91, 9.92, 9.93, 9.94, 9.95, 9.96, 9.97, 9.98, 9.99, 10.0],\n",
       "    cv=None, fit_intercept=True, gcv_mode=None, loss_func=None,\n",
       "    normalize=False, score_func=None, scoring=None, store_cv_values=False)"
      ]
     },
     "execution_count": 45,
     "metadata": {},
     "output_type": "execute_result"
    }
   ],
   "source": [
    "ScikitLearn.fit!(rcv, X, Y)"
   ]
  },
  {
   "cell_type": "code",
   "execution_count": 46,
   "metadata": {
    "collapsed": false
   },
   "outputs": [
    {
     "data": {
      "text/plain": [
       "3-element Array{Float64,1}:\n",
       " 0.462786\n",
       " 0.779849\n",
       " 0.310134"
      ]
     },
     "execution_count": 46,
     "metadata": {},
     "output_type": "execute_result"
    }
   ],
   "source": [
    "rcv[:coef_]"
   ]
  },
  {
   "cell_type": "code",
   "execution_count": 47,
   "metadata": {
    "collapsed": false
   },
   "outputs": [
    {
     "data": {
      "text/plain": [
       "0.3141417397957643"
      ]
     },
     "execution_count": 47,
     "metadata": {},
     "output_type": "execute_result"
    }
   ],
   "source": [
    "rcv[:intercept_]"
   ]
  },
  {
   "cell_type": "code",
   "execution_count": 48,
   "metadata": {
    "collapsed": false
   },
   "outputs": [
    {
     "data": {
      "text/plain": [
       "0.01"
      ]
     },
     "execution_count": 48,
     "metadata": {},
     "output_type": "execute_result"
    }
   ],
   "source": [
    "α = rcv[:alpha_]"
   ]
  },
  {
   "cell_type": "markdown",
   "metadata": {},
   "source": [
    "*Ridge Regression* usando **ScikitLearn.jl**:"
   ]
  },
  {
   "cell_type": "code",
   "execution_count": 49,
   "metadata": {
    "collapsed": true
   },
   "outputs": [],
   "source": [
    "@sk_import linear_model: Ridge"
   ]
  },
  {
   "cell_type": "code",
   "execution_count": 50,
   "metadata": {
    "collapsed": false
   },
   "outputs": [
    {
     "data": {
      "text/plain": [
       "PyObject Ridge(alpha=0.01, copy_X=True, fit_intercept=True, max_iter=None,\n",
       "   normalize=False, solver='auto', tol=0.001)"
      ]
     },
     "execution_count": 50,
     "metadata": {},
     "output_type": "execute_result"
    }
   ],
   "source": [
    "r = Ridge(alpha = α)"
   ]
  },
  {
   "cell_type": "code",
   "execution_count": 51,
   "metadata": {
    "collapsed": false
   },
   "outputs": [
    {
     "data": {
      "text/plain": [
       "PyObject Ridge(alpha=0.01, copy_X=True, fit_intercept=True, max_iter=None,\n",
       "   normalize=False, solver='auto', tol=0.001)"
      ]
     },
     "execution_count": 51,
     "metadata": {},
     "output_type": "execute_result"
    }
   ],
   "source": [
    "ScikitLearn.fit!(r, X, Y)"
   ]
  },
  {
   "cell_type": "code",
   "execution_count": 52,
   "metadata": {
    "collapsed": false
   },
   "outputs": [
    {
     "data": {
      "text/plain": [
       "3-element Array{Float64,1}:\n",
       " 0.462786\n",
       " 0.779849\n",
       " 0.310134"
      ]
     },
     "execution_count": 52,
     "metadata": {},
     "output_type": "execute_result"
    }
   ],
   "source": [
    "r[:coef_]"
   ]
  },
  {
   "cell_type": "code",
   "execution_count": 53,
   "metadata": {
    "collapsed": false
   },
   "outputs": [
    {
     "data": {
      "text/plain": [
       "0.3141417397957643"
      ]
     },
     "execution_count": 53,
     "metadata": {},
     "output_type": "execute_result"
    }
   ],
   "source": [
    "rcv[:intercept_]"
   ]
  },
  {
   "cell_type": "markdown",
   "metadata": {},
   "source": [
    "*Ridge Regression* usando **MultivariateStats**:"
   ]
  },
  {
   "cell_type": "code",
   "execution_count": 54,
   "metadata": {
    "collapsed": false
   },
   "outputs": [
    {
     "data": {
      "text/plain": [
       "4-element Array{Float64,1}:\n",
       " 0.462786\n",
       " 0.779849\n",
       " 0.310134\n",
       " 0.314142"
      ]
     },
     "execution_count": 54,
     "metadata": {},
     "output_type": "execute_result"
    }
   ],
   "source": [
    "MultivariateStats.ridge(X, Y, α)"
   ]
  },
  {
   "cell_type": "markdown",
   "metadata": {},
   "source": [
    "*Ridge Regression* usando **R** and **RCall**:"
   ]
  },
  {
   "cell_type": "code",
   "execution_count": 55,
   "metadata": {
    "collapsed": false
   },
   "outputs": [
    {
     "data": {
      "text/plain": [
       "RCall.RObject{RCall.VecSxp}\n",
       "           `#JL`$X1  `#JL`$X2  `#JL`$X3 \n",
       "0.2782288 0.4752646 0.8084697 0.3462845 \n"
      ]
     },
     "execution_count": 55,
     "metadata": {},
     "output_type": "execute_result"
    }
   ],
   "source": [
    "using RCall\n",
    "\n",
    "a = α\n",
    "\n",
    "R\"\"\"\n",
    "library(MASS)\n",
    "lmr <- lm.ridge($Y ~ $X, lambda=$a)\n",
    "\"\"\""
   ]
  }
 ],
 "metadata": {
  "kernelspec": {
   "display_name": "Julia 0.4.5",
   "language": "julia",
   "name": "julia-0.4"
  },
  "language_info": {
   "file_extension": ".jl",
   "mimetype": "application/julia",
   "name": "julia",
   "version": "0.4.5"
  }
 },
 "nbformat": 4,
 "nbformat_minor": 0
}
