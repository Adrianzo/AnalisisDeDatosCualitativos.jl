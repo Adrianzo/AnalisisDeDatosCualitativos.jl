{
 "cells": [
  {
   "cell_type": "markdown",
   "metadata": {},
   "source": [
    "### Unidad II. Regresiones y reducción de dimensionalidad.\n",
    "\n",
    "## Regresión Lineal Múltiple por el método de los Mínimos Cuadrados.\n",
    "\n",
    "- Examen de los residuos. Prueba de normalidad de los residuales. \n",
    "- Prueba de homogeneidad de varianza. \n",
    "- Mínimos Cuadrados Ponderados. \n",
    "- Observaciones extremas. \n",
    "- Búsqueda de la mejor ecuación de regresión. Stepwise regression"
   ]
  },
  {
   "cell_type": "markdown",
   "metadata": {},
   "source": [
    "### Regresión Lineal Múltiple"
   ]
  },
  {
   "cell_type": "code",
   "execution_count": 1,
   "metadata": {
    "collapsed": false
   },
   "outputs": [
    {
     "data": {
      "text/plain": [
       "10"
      ]
     },
     "execution_count": 1,
     "metadata": {},
     "output_type": "execute_result"
    }
   ],
   "source": [
    "k = 2  # variables independientes\n",
    "N = 10 # observaciones"
   ]
  },
  {
   "cell_type": "code",
   "execution_count": 2,
   "metadata": {
    "collapsed": false
   },
   "outputs": [
    {
     "data": {
      "text/plain": [
       "10x2 Array{Float64,2}:\n",
       " 0.81579   0.995322 \n",
       " 0.278731  0.0282361\n",
       " 0.48045   0.380756 \n",
       " 0.461093  0.173802 \n",
       " 0.5591    0.154985 \n",
       " 0.942583  0.373553 \n",
       " 0.379823  0.191148 \n",
       " 0.850074  0.761619 \n",
       " 0.704299  0.191507 \n",
       " 0.17188   0.4537   "
      ]
     },
     "execution_count": 2,
     "metadata": {},
     "output_type": "execute_result"
    }
   ],
   "source": [
    "X = rand(N, k) # simulación: valores observados para las variables independientes"
   ]
  },
  {
   "cell_type": "code",
   "execution_count": 3,
   "metadata": {
    "collapsed": false
   },
   "outputs": [
    {
     "data": {
      "text/plain": [
       "0.8560936140148967"
      ]
     },
     "execution_count": 3,
     "metadata": {},
     "output_type": "execute_result"
    }
   ],
   "source": [
    "α = rand() # simulación: valor real de la intersección"
   ]
  },
  {
   "cell_type": "code",
   "execution_count": 4,
   "metadata": {
    "collapsed": false
   },
   "outputs": [
    {
     "data": {
      "text/plain": [
       "2-element Array{Float64,1}:\n",
       " 0.763408\n",
       " 0.13545 "
      ]
     },
     "execution_count": 4,
     "metadata": {},
     "output_type": "execute_result"
    }
   ],
   "source": [
    "β = rand(k) # simulación: valores reales de los coeficientes"
   ]
  },
  {
   "cell_type": "code",
   "execution_count": 5,
   "metadata": {
    "collapsed": false
   },
   "outputs": [
    {
     "data": {
      "text/plain": [
       "10-element Array{Float64,1}:\n",
       " 0.0277966\n",
       " 0.019319 \n",
       " 0.0942902\n",
       " 0.0297284\n",
       " 0.085972 \n",
       " 0.0880551\n",
       " 0.0466095\n",
       " 0.0350374\n",
       " 0.0363632\n",
       " 0.0937151"
      ]
     },
     "execution_count": 5,
     "metadata": {},
     "output_type": "execute_result"
    }
   ],
   "source": [
    "E = 0.1 .* rand(N) # simulación: agrega errores al azar al modelo"
   ]
  },
  {
   "cell_type": "code",
   "execution_count": 6,
   "metadata": {
    "collapsed": false
   },
   "outputs": [
    {
     "data": {
      "text/plain": [
       "10-element Array{Float64,1}:\n",
       " 1.64149\n",
       " 1.09202\n",
       " 1.36874\n",
       " 1.26137\n",
       " 1.38988\n",
       " 1.71432\n",
       " 1.21855\n",
       " 1.64325\n",
       " 1.45606\n",
       " 1.14248"
      ]
     },
     "execution_count": 6,
     "metadata": {},
     "output_type": "execute_result"
    }
   ],
   "source": [
    "Y = α + X * β + E # valores para la variable dependiente con el modelo lineal que acabamos de armar"
   ]
  },
  {
   "cell_type": "markdown",
   "metadata": {},
   "source": [
    "La biblioteca [**MultivariateStats**](https://github.com/JuliaStats/MultivariateStats.jl) de Julia\n",
    "implementa la regresión lineal por cuadrados mínimos en su función `llsq`. Este método toma la matriz de valores de la variable dependiente y el vector de la independiente. Retorna un vector de la forma $[\\beta_{1}, …, \\beta_{k}, \\alpha]$."
   ]
  },
  {
   "cell_type": "code",
   "execution_count": 7,
   "metadata": {
    "collapsed": false
   },
   "outputs": [
    {
     "data": {
      "text/plain": [
       "3-element Array{Float64,1}:\n",
       " 0.753239\n",
       " 0.132963\n",
       " 0.918443"
      ]
     },
     "execution_count": 7,
     "metadata": {},
     "output_type": "execute_result"
    }
   ],
   "source": [
    "using MultivariateStats\n",
    "\n",
    "predicción = llsq(X, Y)"
   ]
  },
  {
   "cell_type": "code",
   "execution_count": 8,
   "metadata": {
    "collapsed": false
   },
   "outputs": [
    {
     "data": {
      "text/plain": [
       "0.9184430434775053"
      ]
     },
     "execution_count": 8,
     "metadata": {},
     "output_type": "execute_result"
    }
   ],
   "source": [
    "αₚ = predicción[end] # valor de la intersección del ajuste"
   ]
  },
  {
   "cell_type": "code",
   "execution_count": 9,
   "metadata": {
    "collapsed": false
   },
   "outputs": [
    {
     "data": {
      "text/plain": [
       "2-element Array{Float64,1}:\n",
       " 0.753239\n",
       " 0.132963"
      ]
     },
     "execution_count": 9,
     "metadata": {},
     "output_type": "execute_result"
    }
   ],
   "source": [
    "βₚ = predicción[1:end-1] # valores de los coeficientes del ajuste"
   ]
  },
  {
   "cell_type": "code",
   "execution_count": 10,
   "metadata": {
    "collapsed": false
   },
   "outputs": [
    {
     "data": {
      "text/plain": [
       "10-element Array{Float64,1}:\n",
       " 1.66527\n",
       " 1.13215\n",
       " 1.33096\n",
       " 1.28887\n",
       " 1.36019\n",
       " 1.6781 \n",
       " 1.22996\n",
       " 1.66002\n",
       " 1.47441\n",
       " 1.10824"
      ]
     },
     "execution_count": 10,
     "metadata": {},
     "output_type": "execute_result"
    }
   ],
   "source": [
    "Yₚ = αₚ + X*βₚ # valores predichos para la variable dependiente"
   ]
  },
  {
   "cell_type": "markdown",
   "metadata": {},
   "source": [
    "Diferencias entre los valores reales y los ajustados"
   ]
  },
  {
   "cell_type": "code",
   "execution_count": 11,
   "metadata": {
    "collapsed": false
   },
   "outputs": [
    {
     "data": {
      "text/plain": [
       "-0.062349429462608574"
      ]
     },
     "execution_count": 11,
     "metadata": {},
     "output_type": "execute_result"
    }
   ],
   "source": [
    "α - αₚ"
   ]
  },
  {
   "cell_type": "code",
   "execution_count": 12,
   "metadata": {
    "collapsed": false
   },
   "outputs": [
    {
     "data": {
      "text/plain": [
       "2-element Array{Float64,1}:\n",
       " 0.0101693\n",
       " 0.0024872"
      ]
     },
     "execution_count": 12,
     "metadata": {},
     "output_type": "execute_result"
    }
   ],
   "source": [
    "β - βₚ"
   ]
  },
  {
   "cell_type": "code",
   "execution_count": 13,
   "metadata": {
    "collapsed": false
   },
   "outputs": [
    {
     "data": {
      "text/plain": [
       "10-element Array{Float64,1}:\n",
       " -0.0237812\n",
       " -0.0401258\n",
       "  0.0377736\n",
       " -0.0274998\n",
       "  0.0296937\n",
       "  0.0362201\n",
       " -0.011402 \n",
       " -0.0167731\n",
       " -0.0183477\n",
       "  0.0342421"
      ]
     },
     "execution_count": 13,
     "metadata": {},
     "output_type": "execute_result"
    }
   ],
   "source": [
    "Eₚ = Y - Yₚ # son los valores residuales de la regresión"
   ]
  },
  {
   "cell_type": "code",
   "execution_count": 14,
   "metadata": {
    "collapsed": false
   },
   "outputs": [
    {
     "name": "stdout",
     "output_type": "stream",
     "text": [
      "[Plots.jl] Initializing backend: pyplot\n"
     ]
    },
    {
     "data": {
      "text/html": [
       "<img src=\"data:image/png;base64,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\" />"
      ]
     },
     "execution_count": 14,
     "metadata": {},
     "output_type": "execute_result"
    }
   ],
   "source": [
    "using Plots\n",
    "pyplot(size=(500,250))\n",
    "\n",
    "plot(\n",
    "scatter(Y, Yₚ, legend=false, \n",
    "        xlab=\"Valores\", ylab=\"Predicciones\"),\n",
    "histogram(Eₚ, label=\"Residuales\", bins=5)\n",
    ")"
   ]
  },
  {
   "cell_type": "markdown",
   "metadata": {},
   "source": [
    "### Análisis de regresión"
   ]
  },
  {
   "cell_type": "markdown",
   "metadata": {},
   "source": [
    "[**Supuestos**](http://www.itl.nist.gov/div898/handbook/pri/section2/pri24.htm), muchos de los cuales aplican a los residuos:  \n",
    "\n",
    "- **Linealidad**: Si no se cumple se comete un error de <a href=\"https://en.wikipedia.org/wiki/Specification_(regression)\">especificación</a>, dado que el modelo será incorrecto. En el caso de una o dos variables independientes, ayuda observar un gráfico de dispersión en busca de una tendencia lineal (línea, plano).   \n",
    "- **Independencia de los residuos**: Los residuos no deben estar correlacionados (deben ser una variable aleatoria), algo que puede suceder cuando se trabaja con series temporales. El [estadístico de Durbin-Watson](https://en.wikipedia.org/wiki/Durbin%E2%80%93Watson_statistic) puede ayudar en la detección de autocorrelaciones.  \n",
    "- **Homocedasticidad**: Igualdad de varianza para cada valor o grupo de valores de la/s variable/s independiente/s  \n",
    "- **Normalidad**: Para cada valor o grupo de valores de la/s variable/s independiente/s los residuos se distribuyen de manera normal con $\\mu = 0$   \n",
    "- **No-colinealidad**: Las variables independientes no pueden ser combinaciones lineales unas de otras, no debe haber correlación entre ellas.   "
   ]
  },
  {
   "cell_type": "code",
   "execution_count": 15,
   "metadata": {
    "collapsed": true
   },
   "outputs": [],
   "source": [
    "using GLM"
   ]
  },
  {
   "cell_type": "code",
   "execution_count": 16,
   "metadata": {
    "collapsed": false
   },
   "outputs": [
    {
     "data": {
      "text/plain": [
       "10x3 Array{Float64,2}:\n",
       " 1.0  0.81579   0.995322 \n",
       " 1.0  0.278731  0.0282361\n",
       " 1.0  0.48045   0.380756 \n",
       " 1.0  0.461093  0.173802 \n",
       " 1.0  0.5591    0.154985 \n",
       " 1.0  0.942583  0.373553 \n",
       " 1.0  0.379823  0.191148 \n",
       " 1.0  0.850074  0.761619 \n",
       " 1.0  0.704299  0.191507 \n",
       " 1.0  0.17188   0.4537   "
      ]
     },
     "execution_count": 16,
     "metadata": {},
     "output_type": "execute_result"
    }
   ],
   "source": [
    "Xₐ = hcat(ones(N), X) # Y = 1*α + β₁X₁ + β₂X₂ + ..."
   ]
  },
  {
   "cell_type": "code",
   "execution_count": 17,
   "metadata": {
    "collapsed": false
   },
   "outputs": [
    {
     "data": {
      "text/plain": [
       "GLM.LinearModel{GLM.LmResp{Array{Float64,1}},GLM.DensePredQR{Float64}}:\n",
       "\n",
       "Coefficients:\n",
       "     Estimate Std.Error t value Pr(>|t|)\n",
       "x1   0.918443 0.0277568 33.0889    <1e-8\n",
       "x2   0.753239 0.0528756 14.2455    <1e-5\n",
       "x3   0.132963 0.0451223 2.94673   0.0215\n",
       "\n"
      ]
     },
     "execution_count": 17,
     "metadata": {},
     "output_type": "execute_result"
    }
   ],
   "source": [
    "modelo = lm(Xₐ,Y)"
   ]
  },
  {
   "cell_type": "code",
   "execution_count": 18,
   "metadata": {
    "collapsed": false
   },
   "outputs": [
    {
     "data": {
      "text/plain": [
       "10-element Array{Float64,1}:\n",
       " -0.0237812\n",
       " -0.0401258\n",
       "  0.0377736\n",
       " -0.0274998\n",
       "  0.0296937\n",
       "  0.0362201\n",
       " -0.011402 \n",
       " -0.0167731\n",
       " -0.0183477\n",
       "  0.0342421"
      ]
     },
     "execution_count": 18,
     "metadata": {},
     "output_type": "execute_result"
    }
   ],
   "source": [
    "residuos = residuals(modelo)"
   ]
  },
  {
   "cell_type": "markdown",
   "metadata": {},
   "source": [
    "### Mínimos Cuadrados Ponderados."
   ]
  },
  {
   "cell_type": "markdown",
   "metadata": {},
   "source": [
    "En el caso de no cumplirse con la homocedacia, es posible darle a cada observación un peso inversamente proporcional a la varianza para ese valor o grupo de valores de la/s variable/s independiente/s en una regresion por [minimos cuadrados ponderados](https://en.wikipedia.org/wiki/Least_squares#Weighted_least_squares). Lo óptimo es conocer de antemano cual es la varianza de cada medición. Por ejemplo si medimos cada dato con una herramienta diferente y conocemos su error. Sino existen maneras de determinar los posibles valores de la varianza (o de un estimador robusto correlacionado con ésta) con respecto a las variables independientes.  "
   ]
  },
  {
   "cell_type": "code",
   "execution_count": 19,
   "metadata": {
    "collapsed": true
   },
   "outputs": [],
   "source": [
    "using DataFrames"
   ]
  },
  {
   "cell_type": "code",
   "execution_count": 20,
   "metadata": {
    "collapsed": false
   },
   "outputs": [
    {
     "data": {
      "text/html": [
       "<table class=\"data-frame\"><tr><th></th><th>X</th><th>Y</th></tr><tr><th>1</th><td>0.8354443162960048</td><td>6.0504188633832365</td></tr><tr><th>2</th><td>0.47839841022032314</td><td>5.041046443163276</td></tr><tr><th>3</th><td>0.352781701852501</td><td>5.512202012648103</td></tr><tr><th>4</th><td>0.937588526813286</td><td>5.972344543251144</td></tr><tr><th>5</th><td>0.8933644926809343</td><td>5.690320017739361</td></tr><tr><th>6</th><td>0.44519156848596464</td><td>5.568563086118854</td></tr><tr><th>7</th><td>0.2169172288611776</td><td>5.09548371342323</td></tr><tr><th>8</th><td>0.7471375064532673</td><td>5.803659848585297</td></tr><tr><th>9</th><td>0.6679409282097368</td><td>5.4562434562582185</td></tr><tr><th>10</th><td>0.1154692520513323</td><td>5.196278621918961</td></tr><tr><th>11</th><td>0.21032529213714124</td><td>5.158496635602458</td></tr><tr><th>12</th><td>0.6002198290769449</td><td>5.464896854102525</td></tr><tr><th>13</th><td>0.6915789430793484</td><td>6.128761352161616</td></tr><tr><th>14</th><td>0.8891515279611095</td><td>6.239816646306359</td></tr><tr><th>15</th><td>0.0405896895303679</td><td>5.0658012450835646</td></tr><tr><th>16</th><td>0.2694469708591034</td><td>5.362270872934191</td></tr><tr><th>17</th><td>0.1609374038910365</td><td>5.215238758736749</td></tr><tr><th>18</th><td>0.15333586745959016</td><td>5.16660634661531</td></tr><tr><th>19</th><td>0.8318587354905229</td><td>5.788474015465036</td></tr><tr><th>20</th><td>0.08595333270466954</td><td>5.005148357976332</td></tr><tr><th>21</th><td>0.6543887549579632</td><td>5.783493816640925</td></tr><tr><th>22</th><td>0.21275481400717178</td><td>5.293002328320465</td></tr><tr><th>23</th><td>0.8296945934303557</td><td>5.404596847737989</td></tr><tr><th>24</th><td>0.21416982727492728</td><td>5.185938837563499</td></tr><tr><th>25</th><td>0.7909295256691762</td><td>5.749635750407141</td></tr><tr><th>26</th><td>0.710098119934556</td><td>6.161873394607605</td></tr><tr><th>27</th><td>0.9999504702767792</td><td>6.181646023233472</td></tr><tr><th>28</th><td>0.4613291516527198</td><td>5.540835074415445</td></tr><tr><th>29</th><td>0.4802914866029715</td><td>5.462888190017927</td></tr><tr><th>30</th><td>0.9465403672368515</td><td>6.520941595182944</td></tr><tr><th>&vellip;</th><td>&vellip;</td><td>&vellip;</td></tr></table>"
      ],
      "text/plain": [
       "100×2 DataFrames.DataFrame\n",
       "│ Row │ X         │ Y       │\n",
       "├─────┼───────────┼─────────┤\n",
       "│ 1   │ 0.835444  │ 6.05042 │\n",
       "│ 2   │ 0.478398  │ 5.04105 │\n",
       "│ 3   │ 0.352782  │ 5.5122  │\n",
       "│ 4   │ 0.937589  │ 5.97234 │\n",
       "│ 5   │ 0.893364  │ 5.69032 │\n",
       "│ 6   │ 0.445192  │ 5.56856 │\n",
       "│ 7   │ 0.216917  │ 5.09548 │\n",
       "│ 8   │ 0.747138  │ 5.80366 │\n",
       "│ 9   │ 0.667941  │ 5.45624 │\n",
       "│ 10  │ 0.115469  │ 5.19628 │\n",
       "│ 11  │ 0.210325  │ 5.1585  │\n",
       "⋮\n",
       "│ 89  │ 0.914792  │ 6.46238 │\n",
       "│ 90  │ 0.014843  │ 5.01649 │\n",
       "│ 91  │ 0.711819  │ 5.99941 │\n",
       "│ 92  │ 0.355513  │ 5.43484 │\n",
       "│ 93  │ 0.9265    │ 5.63652 │\n",
       "│ 94  │ 0.281148  │ 5.15103 │\n",
       "│ 95  │ 0.460874  │ 5.25    │\n",
       "│ 96  │ 0.465445  │ 5.54681 │\n",
       "│ 97  │ 0.090356  │ 5.11138 │\n",
       "│ 98  │ 0.859941  │ 5.7538  │\n",
       "│ 99  │ 0.540311  │ 5.34071 │\n",
       "│ 100 │ 0.0659727 │ 5.08282 │"
      ]
     },
     "execution_count": 20,
     "metadata": {},
     "output_type": "execute_result"
    }
   ],
   "source": [
    "N = 100\n",
    "X = rand(N)\n",
    "β = rand()\n",
    "α = 5\n",
    "\n",
    "E = rand(Normal(1,0.5),N) .* X # heterocedasticidad\n",
    "\n",
    "Y = α + X * β + E\n",
    "\n",
    "datos = DataFrame(hcat(X, Y))\n",
    "names!(datos, [:X, :Y])"
   ]
  },
  {
   "cell_type": "code",
   "execution_count": 21,
   "metadata": {
    "collapsed": false
   },
   "outputs": [
    {
     "data": {
      "text/plain": [
       "DataFrames.DataFrameRegressionModel{GLM.GeneralizedLinearModel{GLM.GlmResp{Array{Float64,1},Distributions.Normal{Float64},GLM.IdentityLink},GLM.DensePredChol{Float64,Base.LinAlg.Cholesky{Float64,Array{Float64,2}}}},Float64}\n",
       "\n",
       "Formula: Y ~ 1 + X\n",
       "\n",
       "Coefficients:\n",
       "             Estimate Std.Error z value Pr(>|z|)\n",
       "(Intercept)   5.02694 0.0471757 106.558   <1e-99\n",
       "X             1.02037 0.0864782 11.7992   <1e-31\n"
      ]
     },
     "execution_count": 21,
     "metadata": {},
     "output_type": "execute_result"
    }
   ],
   "source": [
    "modelo = glm(Y ~ X, datos, Normal(), IdentityLink())"
   ]
  },
  {
   "cell_type": "code",
   "execution_count": 22,
   "metadata": {
    "collapsed": false
   },
   "outputs": [
    {
     "data": {
      "text/plain": [
       "2-element Array{Float64,1}:\n",
       " 5.02694\n",
       " 1.02037"
      ]
     },
     "execution_count": 22,
     "metadata": {},
     "output_type": "execute_result"
    }
   ],
   "source": [
    "coeficientes = coef(modelo)"
   ]
  },
  {
   "cell_type": "code",
   "execution_count": 23,
   "metadata": {
    "collapsed": false
   },
   "outputs": [
    {
     "data": {
      "text/html": [
       "<img src=\"data:image/png;base64,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\" />"
      ]
     },
     "execution_count": 23,
     "metadata": {},
     "output_type": "execute_result"
    }
   ],
   "source": [
    "pyplot(size=(300,300))\n",
    "\n",
    "scatter(datos, :X, :Y, legend=false)\n",
    "Plots.abline!(coeficientes[2], coeficientes[1])"
   ]
  },
  {
   "cell_type": "code",
   "execution_count": 24,
   "metadata": {
    "collapsed": false
   },
   "outputs": [
    {
     "data": {
      "text/plain": [
       "100-element Array{Float64,1}:\n",
       "  0.171012  \n",
       " -0.474042  \n",
       "  0.12529   \n",
       " -0.0112876 \n",
       " -0.248187  \n",
       "  0.0873583 \n",
       " -0.152797  \n",
       "  0.0143583 \n",
       " -0.252248  \n",
       "  0.0515128 \n",
       " -0.0830575 \n",
       " -0.174494  \n",
       "  0.39615   \n",
       "  ⋮         \n",
       "  0.502009  \n",
       " -0.025598  \n",
       "  0.246145  \n",
       "  0.0451442 \n",
       " -0.335798  \n",
       " -0.162787  \n",
       " -0.24721   \n",
       "  0.0449409 \n",
       " -0.00775898\n",
       " -0.1506    \n",
       " -0.237551  \n",
       " -0.0114418 "
      ]
     },
     "execution_count": 24,
     "metadata": {},
     "output_type": "execute_result"
    }
   ],
   "source": [
    "residuos = Y - predict(modelo)"
   ]
  },
  {
   "cell_type": "code",
   "execution_count": 25,
   "metadata": {
    "collapsed": false
   },
   "outputs": [
    {
     "data": {
      "text/html": [
       "<img src=\"data:image/png;base64,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\" />"
      ]
     },
     "execution_count": 25,
     "metadata": {},
     "output_type": "execute_result"
    }
   ],
   "source": [
    "scatter(X, residuos, legend=false)"
   ]
  },
  {
   "cell_type": "code",
   "execution_count": 26,
   "metadata": {
    "collapsed": false
   },
   "outputs": [
    {
     "data": {
      "text/html": [
       "<table class=\"data-frame\"><tr><th></th><th>x</th><th>y</th></tr><tr><th>1</th><td>0.1</td><td>0.04720231531500852</td></tr><tr><th>2</th><td>0.15000000000000002</td><td>0.07787225237424426</td></tr><tr><th>3</th><td>0.2</td><td>0.09852661888920018</td></tr><tr><th>4</th><td>0.25</td><td>0.10890268409725458</td></tr><tr><th>5</th><td>0.30000000000000004</td><td>0.12568337368722918</td></tr><tr><th>6</th><td>0.35</td><td>0.10971374006712621</td></tr><tr><th>7</th><td>0.4</td><td>0.12175935291181769</td></tr><tr><th>8</th><td>0.44999999999999996</td><td>0.18168516745710908</td></tr><tr><th>9</th><td>0.5</td><td>0.33677830190194463</td></tr><tr><th>10</th><td>0.55</td><td>0.27154420943986995</td></tr><tr><th>11</th><td>0.6</td><td>0.3298823803766048</td></tr><tr><th>12</th><td>0.65</td><td>0.31420990732499604</td></tr><tr><th>13</th><td>0.7</td><td>0.36281739396781826</td></tr><tr><th>14</th><td>0.75</td><td>0.33463279972182425</td></tr><tr><th>15</th><td>0.7999999999999999</td><td>0.3107521352407045</td></tr><tr><th>16</th><td>0.85</td><td>0.26270944029406174</td></tr><tr><th>17</th><td>0.9</td><td>0.2670455930291004</td></tr></table>"
      ],
      "text/plain": [
       "17×2 DataFrames.DataFrame\n",
       "│ Row │ x    │ y         │\n",
       "├─────┼──────┼───────────┤\n",
       "│ 1   │ 0.1  │ 0.0472023 │\n",
       "│ 2   │ 0.15 │ 0.0778723 │\n",
       "│ 3   │ 0.2  │ 0.0985266 │\n",
       "│ 4   │ 0.25 │ 0.108903  │\n",
       "│ 5   │ 0.3  │ 0.125683  │\n",
       "│ 6   │ 0.35 │ 0.109714  │\n",
       "│ 7   │ 0.4  │ 0.121759  │\n",
       "│ 8   │ 0.45 │ 0.181685  │\n",
       "│ 9   │ 0.5  │ 0.336778  │\n",
       "│ 10  │ 0.55 │ 0.271544  │\n",
       "│ 11  │ 0.6  │ 0.329882  │\n",
       "│ 12  │ 0.65 │ 0.31421   │\n",
       "│ 13  │ 0.7  │ 0.362817  │\n",
       "│ 14  │ 0.75 │ 0.334633  │\n",
       "│ 15  │ 0.8  │ 0.310752  │\n",
       "│ 16  │ 0.85 │ 0.262709  │\n",
       "│ 17  │ 0.9  │ 0.267046  │"
      ]
     },
     "execution_count": 26,
     "metadata": {},
     "output_type": "execute_result"
    }
   ],
   "source": [
    "residuos_modelo = DataFrame(\n",
    "x = collect(0:0.05:0.8).+0.1, # inicio + paso/2 = centro de la ventana\n",
    "y = Float64[ mad( residuos[i .<= X .<= i+0.2] ) for i in collect(0:0.05:0.8) ] # paso = 0.2\n",
    ")"
   ]
  },
  {
   "cell_type": "code",
   "execution_count": 27,
   "metadata": {
    "collapsed": false
   },
   "outputs": [
    {
     "data": {
      "text/plain": [
       "DataFrames.DataFrameRegressionModel{GLM.GeneralizedLinearModel{GLM.GlmResp{Array{Float64,1},Distributions.Normal{Float64},GLM.IdentityLink},GLM.DensePredChol{Float64,Base.LinAlg.Cholesky{Float64,Array{Float64,2}}}},Float64}\n",
       "\n",
       "Formula: y ~ 1 + x\n",
       "\n",
       "Coefficients:\n",
       "              Estimate Std.Error  z value Pr(>|z|)\n",
       "(Intercept)  0.0310143   0.03287 0.943544   0.3454\n",
       "x             0.368762 0.0590362  6.24637    <1e-9\n"
      ]
     },
     "execution_count": 27,
     "metadata": {},
     "output_type": "execute_result"
    }
   ],
   "source": [
    "modelo = glm(y ~ x, residuos_modelo, Normal(), IdentityLink())"
   ]
  },
  {
   "cell_type": "code",
   "execution_count": 28,
   "metadata": {
    "collapsed": false
   },
   "outputs": [
    {
     "data": {
      "text/html": [
       "<img src=\"data:image/png;base64,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\" />"
      ]
     },
     "execution_count": 28,
     "metadata": {},
     "output_type": "execute_result"
    }
   ],
   "source": [
    "plot(\n",
    "scatter(residuos_modelo, :x,:y),\n",
    "scatter(residuos_modelo[:x],residuos_modelo[:y]-predict(modelo)),\n",
    "legend=false, size=(400,200))"
   ]
  },
  {
   "cell_type": "code",
   "execution_count": 29,
   "metadata": {
    "collapsed": false
   },
   "outputs": [
    {
     "data": {
      "text/plain": [
       "2-element Array{Float64,1}:\n",
       " 0.0310143\n",
       " 0.368762 "
      ]
     },
     "execution_count": 29,
     "metadata": {},
     "output_type": "execute_result"
    }
   ],
   "source": [
    "C = coef(modelo)"
   ]
  },
  {
   "cell_type": "code",
   "execution_count": 30,
   "metadata": {
    "collapsed": false
   },
   "outputs": [
    {
     "data": {
      "text/plain": [
       "100-element Array{Float64,1}:\n",
       "  2.94903\n",
       "  4.82092\n",
       "  6.20707\n",
       "  2.6542 \n",
       "  2.77429\n",
       "  5.12337\n",
       "  9.0086 \n",
       "  3.26232\n",
       "  3.60587\n",
       " 13.5879 \n",
       "  9.21029\n",
       "  3.96271\n",
       "  3.49599\n",
       "  ⋮      \n",
       "  2.71477\n",
       " 27.4064 \n",
       "  3.40709\n",
       "  6.16851\n",
       "  2.68332\n",
       "  7.4244 \n",
       "  4.97594\n",
       "  4.93455\n",
       " 15.5439 \n",
       "  2.87251\n",
       "  4.34291\n",
       " 18.0693 "
      ]
     },
     "execution_count": 30,
     "metadata": {},
     "output_type": "execute_result"
    }
   ],
   "source": [
    "pesos = Float64[ 1/(C[1] + C[2]*x) for x in datos[:X] ]"
   ]
  },
  {
   "cell_type": "code",
   "execution_count": 31,
   "metadata": {
    "collapsed": false
   },
   "outputs": [
    {
     "data": {
      "text/plain": [
       "DataFrames.DataFrameRegressionModel{GLM.GeneralizedLinearModel{GLM.GlmResp{Array{Float64,1},Distributions.Normal{Float64},GLM.IdentityLink},GLM.DensePredChol{Float64,Base.LinAlg.Cholesky{Float64,Array{Float64,2}}}},Float64}\n",
       "\n",
       "Formula: Y ~ 1 + X\n",
       "\n",
       "Coefficients:\n",
       "             Estimate  Std.Error z value Pr(>|z|)\n",
       "(Intercept)   5.01442 0.00976967 513.264   <1e-99\n",
       "X             1.04756  0.0257271  40.718   <1e-99\n"
      ]
     },
     "execution_count": 31,
     "metadata": {},
     "output_type": "execute_result"
    }
   ],
   "source": [
    "lineal_ponderada = glm(Y ~ X, datos, Normal(), IdentityLink(), wts=pesos)"
   ]
  },
  {
   "cell_type": "code",
   "execution_count": 32,
   "metadata": {
    "collapsed": false
   },
   "outputs": [
    {
     "data": {
      "text/html": [
       "<img src=\"data:image/png;base64,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\" />"
      ]
     },
     "execution_count": 32,
     "metadata": {},
     "output_type": "execute_result"
    }
   ],
   "source": [
    "reg_plot = scatter(datos, :X, :Y)\n",
    "Plots.abline!(reg_plot, coef(lineal_ponderada)[2], coef(lineal_ponderada)[1])\n",
    "\n",
    "residuos = ( datos[:Y] - predict(lineal_ponderada) ) .* pesos\n",
    "\n",
    "normal = Normal(0,std(residuos))\n",
    "\n",
    "res_plot = histogram(residuos, bins=10, normed=true)\n",
    "plot!(res_plot, res -> pdf(normal, res), minimum(residuos), maximum(residuos))\n",
    "\n",
    "res_scatter = scatter(datos[:X], residuos)\n",
    "\n",
    "plot(reg_plot, res_scatter, res_plot, legend=false, size=(800,200), layout=grid(1,3))"
   ]
  },
  {
   "cell_type": "markdown",
   "metadata": {},
   "source": [
    "En general es preferible usar pesos cuando éstos se conocen de antemano. Por ejemplo si se conoce el error experimental de los instrumentos, B factors o resolución en estructuras cristalográficas, etc.  Tratar de encontrar pesos puede ser complicado. En este caso, los pesos hacen que los residuales ponderados cumplan homocedacia, pero quizás a costa de la normalidad."
   ]
  },
  {
   "cell_type": "markdown",
   "metadata": {},
   "source": [
    "### Ridge Regression \n",
    "\n",
    "[Ridge regression](https://en.wikipedia.org/wiki/Tikhonov_regularization) en [MultivariateStats](http://multivariatestatsjl.readthedocs.io/en/latest/lreg.html#ridge-regression) y [en ScikitLearn](http://scikit-learn.org/stable/modules/linear_model.html#ridge-regression).  \n",
    "Esta regresión es mucho más robusta a la presencia de variables explicativas correlacionadas (colineales)."
   ]
  },
  {
   "cell_type": "markdown",
   "metadata": {},
   "source": [
    "*Ridge Regression* usando **ScikitLearn.jl**, el valor de α es seleccionado usando *validación cruzada*:"
   ]
  },
  {
   "cell_type": "code",
   "execution_count": 33,
   "metadata": {
    "collapsed": false
   },
   "outputs": [
    {
     "data": {
      "text/plain": [
       "10-element Array{Float64,1}:\n",
       " 1.16531\n",
       " 2.23758\n",
       " 1.951  \n",
       " 1.27621\n",
       " 2.23972\n",
       " 1.9664 \n",
       " 2.26546\n",
       " 2.24364\n",
       " 2.73325\n",
       " 1.68982"
      ]
     },
     "execution_count": 33,
     "metadata": {},
     "output_type": "execute_result"
    }
   ],
   "source": [
    "k = 3  # variables independientes\n",
    "@assert k > 2\n",
    "N = 10 # observaciones\n",
    "X = rand(N, k) # simulación: valores observados para las variables independientes\n",
    "X[:,1] = X[:,1].*X[:,2] + X[:,1] # colineales\n",
    "α = rand() # simulación: valor real de la intersección\n",
    "β = rand(k) # simulación: valores reales de los coeficientes\n",
    "E = 0.1 .* rand(N) # simulación: agrega errores al azar al modelo\n",
    "Y = α + X * β + E # valores para la variable dependiente con el modelo lineal que acabamos de armar"
   ]
  },
  {
   "cell_type": "code",
   "execution_count": 34,
   "metadata": {
    "collapsed": false
   },
   "outputs": [
    {
     "name": "stderr",
     "output_type": "stream",
     "text": [
      "WARNING: using ScikitLearn.predict in module Main conflicts with an existing identifier.\n"
     ]
    }
   ],
   "source": [
    "using ScikitLearn\n",
    "@sk_import linear_model: RidgeCV"
   ]
  },
  {
   "cell_type": "code",
   "execution_count": 35,
   "metadata": {
    "collapsed": false
   },
   "outputs": [
    {
     "data": {
      "text/plain": [
       "PyObject RidgeCV(alphas=[0.01, 0.02, 0.03, 0.04, 0.05, 0.06, 0.07, 0.08, 0.09, 0.1, 0.11, 0.12, 0.13, 0.14, 0.15, 0.16, 0.17, 0.18, 0.19, 0.2, 0.21, 0.22, 0.23, 0.24, 0.25, 0.26, 0.27, 0.28, 0.29, 0.3, 0.31, 0.32, 0.33, 0.34, 0.35, 0.36, 0.37, 0.38, 0.39, 0.4, 0.41, 0.42, 0.43, 0.44, 0.45, 0.46, 0.47, 0.48, 0.49, 0....9.84, 9.85, 9.86, 9.87, 9.88, 9.89, 9.9, 9.91, 9.92, 9.93, 9.94, 9.95, 9.96, 9.97, 9.98, 9.99, 10.0],\n",
       "    cv=None, fit_intercept=True, gcv_mode=None, loss_func=None,\n",
       "    normalize=False, score_func=None, scoring=None, store_cv_values=False)"
      ]
     },
     "execution_count": 35,
     "metadata": {},
     "output_type": "execute_result"
    }
   ],
   "source": [
    "rcv = RidgeCV(alphas=0.01:0.01:10.0)"
   ]
  },
  {
   "cell_type": "code",
   "execution_count": 36,
   "metadata": {
    "collapsed": false
   },
   "outputs": [
    {
     "data": {
      "text/plain": [
       "PyObject RidgeCV(alphas=[0.01, 0.02, 0.03, 0.04, 0.05, 0.06, 0.07, 0.08, 0.09, 0.1, 0.11, 0.12, 0.13, 0.14, 0.15, 0.16, 0.17, 0.18, 0.19, 0.2, 0.21, 0.22, 0.23, 0.24, 0.25, 0.26, 0.27, 0.28, 0.29, 0.3, 0.31, 0.32, 0.33, 0.34, 0.35, 0.36, 0.37, 0.38, 0.39, 0.4, 0.41, 0.42, 0.43, 0.44, 0.45, 0.46, 0.47, 0.48, 0.49, 0....9.84, 9.85, 9.86, 9.87, 9.88, 9.89, 9.9, 9.91, 9.92, 9.93, 9.94, 9.95, 9.96, 9.97, 9.98, 9.99, 10.0],\n",
       "    cv=None, fit_intercept=True, gcv_mode=None, loss_func=None,\n",
       "    normalize=False, score_func=None, scoring=None, store_cv_values=False)"
      ]
     },
     "execution_count": 36,
     "metadata": {},
     "output_type": "execute_result"
    }
   ],
   "source": [
    "ScikitLearn.fit!(rcv, X, Y)"
   ]
  },
  {
   "cell_type": "code",
   "execution_count": 37,
   "metadata": {
    "collapsed": false
   },
   "outputs": [
    {
     "data": {
      "text/plain": [
       "3-element Array{Float64,1}:\n",
       " 0.861269\n",
       " 0.610195\n",
       " 0.735451"
      ]
     },
     "execution_count": 37,
     "metadata": {},
     "output_type": "execute_result"
    }
   ],
   "source": [
    "rcv[:coef_]"
   ]
  },
  {
   "cell_type": "code",
   "execution_count": 38,
   "metadata": {
    "collapsed": false
   },
   "outputs": [
    {
     "data": {
      "text/plain": [
       "0.6011371318183596"
      ]
     },
     "execution_count": 38,
     "metadata": {},
     "output_type": "execute_result"
    }
   ],
   "source": [
    "rcv[:intercept_]"
   ]
  },
  {
   "cell_type": "code",
   "execution_count": 39,
   "metadata": {
    "collapsed": false
   },
   "outputs": [
    {
     "data": {
      "text/plain": [
       "0.01"
      ]
     },
     "execution_count": 39,
     "metadata": {},
     "output_type": "execute_result"
    }
   ],
   "source": [
    "α = rcv[:alpha_]"
   ]
  },
  {
   "cell_type": "markdown",
   "metadata": {},
   "source": [
    "*Ridge Regression* usando **ScikitLearn.jl**:"
   ]
  },
  {
   "cell_type": "code",
   "execution_count": 40,
   "metadata": {
    "collapsed": true
   },
   "outputs": [],
   "source": [
    "@sk_import linear_model: Ridge"
   ]
  },
  {
   "cell_type": "code",
   "execution_count": 41,
   "metadata": {
    "collapsed": false
   },
   "outputs": [
    {
     "data": {
      "text/plain": [
       "PyObject Ridge(alpha=0.01, copy_X=True, fit_intercept=True, max_iter=None,\n",
       "   normalize=False, solver='auto', tol=0.001)"
      ]
     },
     "execution_count": 41,
     "metadata": {},
     "output_type": "execute_result"
    }
   ],
   "source": [
    "r = Ridge(alpha = α)"
   ]
  },
  {
   "cell_type": "code",
   "execution_count": 42,
   "metadata": {
    "collapsed": false
   },
   "outputs": [
    {
     "data": {
      "text/plain": [
       "PyObject Ridge(alpha=0.01, copy_X=True, fit_intercept=True, max_iter=None,\n",
       "   normalize=False, solver='auto', tol=0.001)"
      ]
     },
     "execution_count": 42,
     "metadata": {},
     "output_type": "execute_result"
    }
   ],
   "source": [
    "ScikitLearn.fit!(r, X, Y)"
   ]
  },
  {
   "cell_type": "code",
   "execution_count": 43,
   "metadata": {
    "collapsed": false
   },
   "outputs": [
    {
     "data": {
      "text/plain": [
       "3-element Array{Float64,1}:\n",
       " 0.861269\n",
       " 0.610195\n",
       " 0.735451"
      ]
     },
     "execution_count": 43,
     "metadata": {},
     "output_type": "execute_result"
    }
   ],
   "source": [
    "r[:coef_]"
   ]
  },
  {
   "cell_type": "code",
   "execution_count": 44,
   "metadata": {
    "collapsed": false
   },
   "outputs": [
    {
     "data": {
      "text/plain": [
       "0.6011371318183596"
      ]
     },
     "execution_count": 44,
     "metadata": {},
     "output_type": "execute_result"
    }
   ],
   "source": [
    "rcv[:intercept_]"
   ]
  },
  {
   "cell_type": "markdown",
   "metadata": {},
   "source": [
    "*Ridge Regression* usando **MultivariateStats**:"
   ]
  },
  {
   "cell_type": "code",
   "execution_count": 45,
   "metadata": {
    "collapsed": false
   },
   "outputs": [
    {
     "data": {
      "text/plain": [
       "4-element Array{Float64,1}:\n",
       " 0.861269\n",
       " 0.610195\n",
       " 0.735451\n",
       " 0.601137"
      ]
     },
     "execution_count": 45,
     "metadata": {},
     "output_type": "execute_result"
    }
   ],
   "source": [
    "MultivariateStats.ridge(X, Y, α)"
   ]
  },
  {
   "cell_type": "markdown",
   "metadata": {},
   "source": [
    "*Ridge Regression* usando **R** and **RCall**:"
   ]
  },
  {
   "cell_type": "code",
   "execution_count": 46,
   "metadata": {
    "collapsed": false
   },
   "outputs": [
    {
     "data": {
      "text/plain": [
       "RCall.RObject{RCall.VecSxp}\n",
       "           `#JL`$X1  `#JL`$X2  `#JL`$X3 \n",
       "0.5775352 0.8661207 0.6396501 0.7465127 \n"
      ]
     },
     "execution_count": 46,
     "metadata": {},
     "output_type": "execute_result"
    }
   ],
   "source": [
    "using RCall\n",
    "\n",
    "a = α\n",
    "\n",
    "R\"\"\"\n",
    "library(MASS)\n",
    "lmr <- lm.ridge($Y ~ $X, lambda=$a)\n",
    "\"\"\""
   ]
  }
 ],
 "metadata": {
  "kernelspec": {
   "display_name": "Julia 0.4.5",
   "language": "julia",
   "name": "julia-0.4"
  },
  "language_info": {
   "file_extension": ".jl",
   "mimetype": "application/julia",
   "name": "julia",
   "version": "0.4.5"
  }
 },
 "nbformat": 4,
 "nbformat_minor": 0
}
