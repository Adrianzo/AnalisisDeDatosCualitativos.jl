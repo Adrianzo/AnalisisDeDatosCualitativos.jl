{
 "cells": [
  {
   "cell_type": "markdown",
   "metadata": {},
   "source": [
    "### Unidad II. Regresiones y reducción de dimensionalidad.\n",
    "\n",
    "## Regresión Lineal Múltiple por el método de los Mínimos Cuadrados.\n",
    "\n",
    "- Mínimos Cuadrados Ponderados. \n",
    " - Examen de los residuos. Prueba de normalidad de los residuales. \n",
    " - Prueba de homogeneidad de varianza. \n",
    " - Observaciones extremas. \n",
    " - Búsqueda de la mejor ecuación de regresión. Stepwise regression"
   ]
  },
  {
   "cell_type": "code",
   "execution_count": null,
   "metadata": {
    "collapsed": true
   },
   "outputs": [],
   "source": []
  }
 ],
 "metadata": {
  "kernelspec": {
   "display_name": "Julia 0.4.5",
   "language": "julia",
   "name": "julia-0.4"
  },
  "language_info": {
   "file_extension": ".jl",
   "mimetype": "application/julia",
   "name": "julia",
   "version": "0.4.5"
  }
 },
 "nbformat": 4,
 "nbformat_minor": 0
}
