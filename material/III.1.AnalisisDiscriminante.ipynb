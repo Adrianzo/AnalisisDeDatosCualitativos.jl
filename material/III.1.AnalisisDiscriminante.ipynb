{
 "cells": [
  {
   "cell_type": "markdown",
   "metadata": {},
   "source": [
    "### Unidad III. Agrupamiento y clasificación. \n",
    "\n",
    "## El análisis discriminante de dos poblaciones como método de comparación Multivariada y técnicas de clasificación. Ideas generales de Fischer.\n",
    "\n",
    "- El análisis discriminante de dos poblaciones por técnicas de regresión. \n",
    "- Generalización del problema de clasificación a más de dos poblaciones.\n",
    "- Otras técnicas paramétricas.\n",
    "- Alternativas no paramétricas del análisis discriminante. Modelos Log-lineales."
   ]
  },
  {
   "cell_type": "code",
   "execution_count": 1,
   "metadata": {
    "collapsed": true
   },
   "outputs": [],
   "source": [
    "# Truncate IJulia outputs at:\n",
    "ENV[\"LINES\"]   = 15 \n",
    "ENV[\"COLUMNS\"] = 60;"
   ]
  },
  {
   "cell_type": "code",
   "execution_count": 2,
   "metadata": {
    "collapsed": false
   },
   "outputs": [
    {
     "data": {
      "text/html": [
       "<table class=\"data-frame\"><tr><th></th><th>Location</th><th>Town</th><th>Mortality</th><th>Hardness</th></tr><tr><th>1</th><td>South</td><td>Bath</td><td>1247</td><td>105</td></tr><tr><th>2</th><td>North</td><td>Birkenhead</td><td>1668</td><td>17</td></tr><tr><th>3</th><td>South</td><td>Birmingham</td><td>1466</td><td>5</td></tr><tr><th>4</th><td>North</td><td>Blackburn</td><td>1800</td><td>14</td></tr><tr><th>5</th><td>North</td><td>Blackpool</td><td>1609</td><td>18</td></tr><tr><th>6</th><td>North</td><td>Bolton</td><td>1558</td><td>10</td></tr></table>"
      ],
      "text/plain": [
       "6×4 DataFrames.DataFrame\n",
       "│ Row │ Location │ Town         │ Mortality │ Hardness │\n",
       "├─────┼──────────┼──────────────┼───────────┼──────────┤\n",
       "│ 1   │ \"South\"  │ \"Bath\"       │ 1247      │ 105      │\n",
       "│ 2   │ \"North\"  │ \"Birkenhead\" │ 1668      │ 17       │\n",
       "│ 3   │ \"South\"  │ \"Birmingham\" │ 1466      │ 5        │\n",
       "│ 4   │ \"North\"  │ \"Blackburn\"  │ 1800      │ 14       │\n",
       "│ 5   │ \"North\"  │ \"Blackpool\"  │ 1609      │ 18       │\n",
       "│ 6   │ \"North\"  │ \"Bolton\"     │ 1558      │ 10       │"
      ]
     },
     "execution_count": 2,
     "metadata": {},
     "output_type": "execute_result"
    }
   ],
   "source": [
    "using RCall\n",
    "using RDatasets\n",
    "\n",
    "water = dataset(\"HSAUR\", \"water\")\n",
    "\n",
    "head(water)"
   ]
  },
  {
   "cell_type": "markdown",
   "metadata": {},
   "source": [
    "### [Análisis discriminante lineal](https://en.wikipedia.org/wiki/Linear_discriminant_analysis)"
   ]
  },
  {
   "cell_type": "markdown",
   "metadata": {},
   "source": [
    "> As I have described before, Linear Discriminant Analysis (LDA) can be seen from two different angles. The first classify a given sample of predictors $x$ to the class $C_l$ with highest posterior probability $\\pi(y = C_l|x)$. **It minimizes the total probability of misclassification.** To compute $\\pi(y = C_l|x)$ it uses Bayes’ rule and assume that $\\pi(x|y = C_l)$ follows a Gaussian distribution with class-specific mean $\\mu_l$ and common covariance matrix $\\Sigma$. The second tries to find **a linear combination of the predictors that gives maximum separation between the centers of the data while at the same time minimizing the variation within each group of data.**  \n",
    "*[...]* pre-processing of the data is important for the application of LDA. **Users should transform, center and scale the data prior to the application of LDA.** It is also useful to remove near-zero variance predictors (almost constant predictors across units). Given that we need to invert the covariance matrix, it is necessary to have less predictors than samples. Attention is therefore needed when using cross-validation.  \n",
    ">> - [*Thiago G. Martins, Computing and visualizing LDA in R*](https://tgmstat.wordpress.com/2014/01/15/computing-and-visualizing-lda-in-r/)"
   ]
  },
  {
   "cell_type": "markdown",
   "metadata": {},
   "source": [
    "LDA tiene como supuesto principal que las variables independientes se distribuyen de manera normal. La biblioteca de Julia [**DiscriminantAnalysis**](https://github.com/trthatcher/DiscriminantAnalysis.jl) posee los métodos necesarios para realizar **LDA** y [**QDA** *(Quadratic discriminant analysis)*](https://en.wikipedia.org/wiki/Quadratic_classifier#Quadratic_discriminant_analysis).  \n",
    "\n",
    "```julia\n",
    "Pkg.add(\"DiscriminantAnalysis\")\n",
    "```"
   ]
  },
  {
   "cell_type": "code",
   "execution_count": 3,
   "metadata": {
    "collapsed": true
   },
   "outputs": [],
   "source": [
    "using DiscriminantAnalysis"
   ]
  },
  {
   "cell_type": "code",
   "execution_count": 4,
   "metadata": {
    "collapsed": false
   },
   "outputs": [
    {
     "data": {
      "text/plain": [
       "61x2 Array{Float64,2}:\n",
       " 1247.0  105.0\n",
       " 1668.0   17.0\n",
       " 1466.0    5.0\n",
       " 1800.0   14.0\n",
       " 1609.0   18.0\n",
       "    ⋮         \n",
       " 1527.0   60.0\n",
       " 1627.0   53.0\n",
       " 1486.0  122.0\n",
       " 1485.0   81.0\n",
       " 1378.0   71.0"
      ]
     },
     "execution_count": 4,
     "metadata": {},
     "output_type": "execute_result"
    }
   ],
   "source": [
    "X = convert(Matrix{Float64}, water[:,[:Mortality, :Hardness]])"
   ]
  },
  {
   "cell_type": "code",
   "execution_count": 5,
   "metadata": {
    "collapsed": false
   },
   "outputs": [
    {
     "data": {
      "text/plain": [
       "1x2 Array{Float64,2}:\n",
       " 1524.15  47.1803"
      ]
     },
     "execution_count": 5,
     "metadata": {},
     "output_type": "execute_result"
    }
   ],
   "source": [
    "X̄ = mean(X, 1)"
   ]
  },
  {
   "cell_type": "code",
   "execution_count": 6,
   "metadata": {
    "collapsed": false
   },
   "outputs": [
    {
     "data": {
      "text/plain": [
       "1x2 Array{Float64,2}:\n",
       " 187.669  38.094"
      ]
     },
     "execution_count": 6,
     "metadata": {},
     "output_type": "execute_result"
    }
   ],
   "source": [
    "σₓ = std(X,1)"
   ]
  },
  {
   "cell_type": "code",
   "execution_count": 7,
   "metadata": {
    "collapsed": false
   },
   "outputs": [
    {
     "data": {
      "text/plain": [
       "61x2 Array{Float64,2}:\n",
       " -1.47679     1.51782 \n",
       "  0.766523   -0.79226 \n",
       " -0.309841   -1.10727 \n",
       "  1.46989    -0.871013\n",
       "  0.45214    -0.766009\n",
       "  ⋮                   \n",
       "  0.0151994   0.336528\n",
       "  0.548053    0.152771\n",
       " -0.203271    1.96408 \n",
       " -0.208599    0.887796\n",
       " -0.778753    0.625287"
      ]
     },
     "execution_count": 7,
     "metadata": {},
     "output_type": "execute_result"
    }
   ],
   "source": [
    "X = (X .- X̄) ./ σₓ"
   ]
  },
  {
   "cell_type": "code",
   "execution_count": 9,
   "metadata": {
    "collapsed": false
   },
   "outputs": [
    {
     "data": {
      "text/plain": [
       "2-element DataArrays.DataArray{ByteString,1}:\n",
       " \"South\"\n",
       " \"North\""
      ]
     },
     "execution_count": 9,
     "metadata": {},
     "output_type": "execute_result"
    }
   ],
   "source": [
    "unique(water[:Location])"
   ]
  },
  {
   "cell_type": "code",
   "execution_count": 10,
   "metadata": {
    "collapsed": false
   },
   "outputs": [
    {
     "data": {
      "text/plain": [
       "61-element Array{Int64,1}:\n",
       " 2\n",
       " 1\n",
       " 2\n",
       " 1\n",
       " 1\n",
       " ⋮\n",
       " 2\n",
       " 2\n",
       " 2\n",
       " 2\n",
       " 1"
      ]
     },
     "execution_count": 10,
     "metadata": {},
     "output_type": "execute_result"
    }
   ],
   "source": [
    "y = [ Int(level == \"South\") + 1 for level in water[:Location] ] # Necesita niveles: 1 2 3 ..."
   ]
  },
  {
   "cell_type": "code",
   "execution_count": 11,
   "metadata": {
    "collapsed": false
   },
   "outputs": [
    {
     "data": {
      "text/plain": [
       "Linear Discriminant Model\n",
       "\n",
       "Regularization Parameters:\n",
       "    γ = N/A\n",
       "\n",
       "Class Priors:\n",
       "    Class 1 Probability: 50.0%\n",
       "    Class 2 Probability: 50.0%\n",
       "\n",
       "Class Means:\n",
       "    Class 1 Mean: [0.583222, -0.440498]\n",
       "    Class 2 Mean: [-0.785106, 0.592978]\n",
       "\n"
      ]
     },
     "execution_count": 11,
     "metadata": {},
     "output_type": "execute_result"
    }
   ],
   "source": [
    "LDA = lda(X,y)"
   ]
  },
  {
   "cell_type": "code",
   "execution_count": 12,
   "metadata": {
    "collapsed": false
   },
   "outputs": [
    {
     "name": "stdout",
     "output_type": "stream",
     "text": [
      "[Plots.jl] Initializing backend: pyplot\n"
     ]
    },
    {
     "data": {
      "text/html": [
       "<img src=\"data:image/png;base64,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\" />"
      ]
     },
     "execution_count": 12,
     "metadata": {},
     "output_type": "execute_result"
    }
   ],
   "source": [
    "using Plots\n",
    "pyplot(size=(400,300))\n",
    "\n",
    "xmin, xmax = extrema(X[:,1])\n",
    "ymin, ymax = extrema(X[:,2])\n",
    "\n",
    "function value(modelo, x, y)\n",
    "    a, b = discriminants(modelo,[x y])\n",
    "    a - b\n",
    "end\n",
    "\n",
    "Plots.scatter(X[:,1], X[:,2], group=y)\n",
    "Plots.contour!(xmin:xmax, ymin:ymax, (x, y)->value(LDA,x,y))  "
   ]
  },
  {
   "cell_type": "code",
   "execution_count": 13,
   "metadata": {
    "collapsed": false
   },
   "outputs": [
    {
     "data": {
      "text/plain": [
       "2-element Array{Int64,1}:\n",
       " 2\n",
       " 1"
      ]
     },
     "execution_count": 13,
     "metadata": {},
     "output_type": "execute_result"
    }
   ],
   "source": [
    "classify(LDA, [ -1.  1.\n",
    "                 1. -1. ] )"
   ]
  },
  {
   "cell_type": "markdown",
   "metadata": {},
   "source": [
    "#### Más de dos niveles"
   ]
  },
  {
   "cell_type": "code",
   "execution_count": 14,
   "metadata": {
    "collapsed": false
   },
   "outputs": [
    {
     "data": {
      "text/html": [
       "<table class=\"data-frame\"><tr><th></th><th>SepalLength</th><th>SepalWidth</th><th>PetalLength</th><th>PetalWidth</th><th>Species</th></tr><tr><th>1</th><td>5.1</td><td>3.5</td><td>1.4</td><td>0.2</td><td>setosa</td></tr><tr><th>2</th><td>4.9</td><td>3.0</td><td>1.4</td><td>0.2</td><td>setosa</td></tr><tr><th>3</th><td>4.7</td><td>3.2</td><td>1.3</td><td>0.2</td><td>setosa</td></tr><tr><th>4</th><td>4.6</td><td>3.1</td><td>1.5</td><td>0.2</td><td>setosa</td></tr><tr><th>5</th><td>5.0</td><td>3.6</td><td>1.4</td><td>0.2</td><td>setosa</td></tr><tr><th>6</th><td>5.4</td><td>3.9</td><td>1.7</td><td>0.4</td><td>setosa</td></tr></table>"
      ],
      "text/plain": [
       "6×5 DataFrames.DataFrame\n",
       "│ Row │ SepalLength │ SepalWidth │ PetalLength │\n",
       "├─────┼─────────────┼────────────┼─────────────┤\n",
       "│ 1   │ 5.1         │ 3.5        │ 1.4         │\n",
       "│ 2   │ 4.9         │ 3.0        │ 1.4         │\n",
       "│ 3   │ 4.7         │ 3.2        │ 1.3         │\n",
       "│ 4   │ 4.6         │ 3.1        │ 1.5         │\n",
       "│ 5   │ 5.0         │ 3.6        │ 1.4         │\n",
       "│ 6   │ 5.4         │ 3.9        │ 1.7         │\n",
       "\n",
       "│ Row │ PetalWidth │ Species  │\n",
       "├─────┼────────────┼──────────┤\n",
       "│ 1   │ 0.2        │ \"setosa\" │\n",
       "│ 2   │ 0.2        │ \"setosa\" │\n",
       "│ 3   │ 0.2        │ \"setosa\" │\n",
       "│ 4   │ 0.2        │ \"setosa\" │\n",
       "│ 5   │ 0.2        │ \"setosa\" │\n",
       "│ 6   │ 0.4        │ \"setosa\" │"
      ]
     },
     "execution_count": 14,
     "metadata": {},
     "output_type": "execute_result"
    }
   ],
   "source": [
    "iris = dataset(\"datasets\",\"iris\")\n",
    "head(iris)"
   ]
  },
  {
   "cell_type": "code",
   "execution_count": 15,
   "metadata": {
    "collapsed": false
   },
   "outputs": [
    {
     "data": {
      "text/plain": [
       "150x2 Array{Float64,2}:\n",
       " 1.4  0.2\n",
       " 1.4  0.2\n",
       " 1.3  0.2\n",
       " 1.5  0.2\n",
       " 1.4  0.2\n",
       " ⋮       \n",
       " 5.2  2.3\n",
       " 5.0  1.9\n",
       " 5.2  2.0\n",
       " 5.4  2.3\n",
       " 5.1  1.8"
      ]
     },
     "execution_count": 15,
     "metadata": {},
     "output_type": "execute_result"
    }
   ],
   "source": [
    "X = convert(Matrix{Float64}, iris[:,3:4])"
   ]
  },
  {
   "cell_type": "code",
   "execution_count": 16,
   "metadata": {
    "collapsed": false
   },
   "outputs": [
    {
     "data": {
      "text/plain": [
       "150x2 Array{Float64,2}:\n",
       " -1.33575   -1.31105 \n",
       " -1.33575   -1.31105 \n",
       " -1.3924    -1.31105 \n",
       " -1.2791    -1.31105 \n",
       " -1.33575   -1.31105 \n",
       "  ⋮                  \n",
       "  0.816859   1.44399 \n",
       "  0.703564   0.919223\n",
       "  0.816859   1.05042 \n",
       "  0.930154   1.44399 \n",
       "  0.760211   0.788031"
      ]
     },
     "execution_count": 16,
     "metadata": {},
     "output_type": "execute_result"
    }
   ],
   "source": [
    "X = (X .- mean(X,1)) ./ std(X,1)"
   ]
  },
  {
   "cell_type": "code",
   "execution_count": 17,
   "metadata": {
    "collapsed": false
   },
   "outputs": [
    {
     "data": {
      "text/plain": [
       "3-element DataArrays.DataArray{ByteString,1}:\n",
       " \"setosa\"    \n",
       " \"versicolor\"\n",
       " \"virginica\" "
      ]
     },
     "execution_count": 17,
     "metadata": {},
     "output_type": "execute_result"
    }
   ],
   "source": [
    "unique(iris[:Species])"
   ]
  },
  {
   "cell_type": "code",
   "execution_count": 18,
   "metadata": {
    "collapsed": false
   },
   "outputs": [
    {
     "data": {
      "text/plain": [
       "150-element Array{Int64,1}:\n",
       " 1\n",
       " 1\n",
       " 1\n",
       " 1\n",
       " 1\n",
       " ⋮\n",
       " 3\n",
       " 3\n",
       " 3\n",
       " 3\n",
       " 3"
      ]
     },
     "execution_count": 18,
     "metadata": {},
     "output_type": "execute_result"
    }
   ],
   "source": [
    "y = [ sp == \"setosa\" ? 1 : sp == \"versicolor\" ? 2 : 3 for sp in iris[:Species] ] "
   ]
  },
  {
   "cell_type": "code",
   "execution_count": 19,
   "metadata": {
    "collapsed": false
   },
   "outputs": [
    {
     "data": {
      "text/plain": [
       "Linear Discriminant Model\n",
       "\n",
       "Regularization Parameters:\n",
       "    γ = N/A\n",
       "\n",
       "Class Priors:\n",
       "    Class 1 Probability: 33.3333%\n",
       "    Class 2 Probability: 33.3333%\n",
       "    Class 3 Probability: 33.3333%\n",
       "\n",
       "Class Means:\n",
       "    Class 1 Mean: [-1.30063, -1.2507]\n",
       "    Class 2 Mean: [0.284371, 0.166177]\n",
       "    Class 3 Mean: [1.01626, 1.08453]\n",
       "\n"
      ]
     },
     "execution_count": 19,
     "metadata": {},
     "output_type": "execute_result"
    }
   ],
   "source": [
    "LDA = lda(X,y)"
   ]
  },
  {
   "cell_type": "code",
   "execution_count": 20,
   "metadata": {
    "collapsed": false
   },
   "outputs": [
    {
     "data": {
      "text/html": [
       "<img src=\"data:image/png;base64,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\" />"
      ]
     },
     "execution_count": 20,
     "metadata": {},
     "output_type": "execute_result"
    }
   ],
   "source": [
    "xmin, xmax = extrema(X[:,1])\n",
    "ymin, ymax = extrema(X[:,2])\n",
    "\n",
    "Plots.scatter(X[:,1], X[:,2], group=y)\n",
    "Plots.heatmap!(xmin:0.05:xmax, ymin:0.05:ymax, (x, y) -> classify(LDA,[x y])[1], cbar=false, seriescolor=:grays) \n",
    "Plots.scatter!(LDA.M[:,1], LDA.M[:,2], label=\"means\", markercolor=:white, legend=:bottom)"
   ]
  },
  {
   "cell_type": "markdown",
   "metadata": {},
   "source": [
    "### [MultivariateStats.jl](http://multivariatestatsjl.readthedocs.io/en/latest/index.html)"
   ]
  },
  {
   "cell_type": "code",
   "execution_count": 21,
   "metadata": {
    "collapsed": true
   },
   "outputs": [],
   "source": [
    "using MultivariateStats"
   ]
  },
  {
   "cell_type": "code",
   "execution_count": 23,
   "metadata": {
    "collapsed": false
   },
   "outputs": [
    {
     "data": {
      "text/plain": [
       "150x4 Array{Float64,2}:\n",
       " -0.897674    1.0156     -1.33575   -1.31105 \n",
       " -1.1392     -0.131539   -1.33575   -1.31105 \n",
       " -1.38073     0.327318   -1.3924    -1.31105 \n",
       " -1.50149     0.0978893  -1.2791    -1.31105 \n",
       " -1.01844     1.24503    -1.33575   -1.31105 \n",
       "  ⋮                                          \n",
       "  1.03454    -0.131539    0.816859   1.44399 \n",
       "  0.551486   -1.27868     0.703564   0.919223\n",
       "  0.793012   -0.131539    0.816859   1.05042 \n",
       "  0.430722    0.786174    0.930154   1.44399 \n",
       "  0.0684325  -0.131539    0.760211   0.788031"
      ]
     },
     "execution_count": 23,
     "metadata": {},
     "output_type": "execute_result"
    }
   ],
   "source": [
    "X = convert(Matrix{Float64}, iris[:,1:4])\n",
    "X = (X .- mean(X,1)) ./ std(X,1)"
   ]
  },
  {
   "cell_type": "code",
   "execution_count": 24,
   "metadata": {
    "collapsed": false
   },
   "outputs": [
    {
     "data": {
      "text/plain": [
       "4x150 Array{Float64,2}:\n",
       " -0.897674  -1.1392    -1.38073   …  0.430722   0.0684325\n",
       "  1.0156    -0.131539   0.327318     0.786174  -0.131539 \n",
       " -1.33575   -1.33575   -1.3924       0.930154   0.760211 \n",
       " -1.31105   -1.31105   -1.31105      1.44399    0.788031 "
      ]
     },
     "execution_count": 24,
     "metadata": {},
     "output_type": "execute_result"
    }
   ],
   "source": [
    "X = X'"
   ]
  },
  {
   "cell_type": "code",
   "execution_count": 25,
   "metadata": {
    "collapsed": false
   },
   "outputs": [
    {
     "data": {
      "text/plain": [
       "4x2 Array{Float64,2}:\n",
       " -0.0566417   0.00164458\n",
       " -0.0551643   0.0778146 \n",
       "  0.320487   -0.135681  \n",
       "  0.17669     0.178491  "
      ]
     },
     "execution_count": 25,
     "metadata": {},
     "output_type": "execute_result"
    }
   ],
   "source": [
    "LDA = fit(MulticlassLDA, 3, X, y)\n",
    "projection(LDA)"
   ]
  },
  {
   "cell_type": "code",
   "execution_count": 26,
   "metadata": {
    "collapsed": false
   },
   "outputs": [
    {
     "data": {
      "text/plain": [
       "150x2 Array{Float64,2}:\n",
       " -0.66492    0.0247782\n",
       " -0.587959  -0.0648833\n",
       " -0.617745  -0.0218888\n",
       " -0.561939  -0.0553123\n",
       " -0.670736   0.0424325\n",
       "  ⋮                   \n",
       "  0.465591   0.138373 \n",
       "  0.427201  -0.0299806\n",
       "  0.40973    0.0677256\n",
       "  0.485477   0.193419 \n",
       "  0.386255   0.0273866"
      ]
     },
     "execution_count": 26,
     "metadata": {},
     "output_type": "execute_result"
    }
   ],
   "source": [
    "XY = transform(LDA, X)'"
   ]
  },
  {
   "cell_type": "code",
   "execution_count": 27,
   "metadata": {
    "collapsed": false
   },
   "outputs": [
    {
     "data": {
      "text/html": [
       "<img src=\"data:image/png;base64,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\" />"
      ]
     },
     "execution_count": 27,
     "metadata": {},
     "output_type": "execute_result"
    }
   ],
   "source": [
    "Plots.scatter(XY[:,1], XY[:,2], group=y)\n",
    "Plots.scatter!(LDA.pmeans[1,:]', LDA.pmeans[2,:]', label=\"means\", markercolor=:white, legend=:top)"
   ]
  },
  {
   "cell_type": "markdown",
   "metadata": {},
   "source": [
    "> In the pratice of **classification**, one can transform testing samples using this transform method, and compare them with `M.pmeans`."
   ]
  },
  {
   "cell_type": "markdown",
   "metadata": {},
   "source": [
    "> When these distributions are assumed to be normal, it turns out that the model is very **similar to logistic regression.** Why do we need this method?  \n",
    " - When the classes are well-separated, the parameter estimates for the logistic model are surprisingly unstable. LDA does not suffer from this.  \n",
    " - If n is small and the distribution of the predictors X is approximately normal in each of the classes, the LDA model is more stable than logistic.  \n",
    " - *[...]* LDA is the preferred method when dealing with > 2 response classes.  \n",
    ">> [Ryan Kelly, Classification: Linear Discriminant Analysis](https://rpubs.com/ryankelly/LDA-QDA)"
   ]
  },
  {
   "cell_type": "markdown",
   "metadata": {},
   "source": [
    "### [Modelos Log-Lineales](https://en.wikipedia.org/wiki/Log-linear_model): [Regresión de Poisson](https://en.wikipedia.org/wiki/Poisson_regression)"
   ]
  },
  {
   "cell_type": "markdown",
   "metadata": {},
   "source": [
    "> Poisson regression is a form of regression analysis used to model count data and contingency tables. Poisson regression assumes the response variable Y has a Poisson distribution, and assumes the logarithm of its expected value can be modeled by a linear combination of unknown parameters. A Poisson regression model is sometimes known as a log-linear model, especially when used to model contingency tables.  \n",
    "Poisson regression models are generalized linear models with the logarithm as the (canonical) link function, and the Poisson distribution function as the assumed probability distribution of the response."
   ]
  },
  {
   "cell_type": "code",
   "execution_count": 29,
   "metadata": {
    "collapsed": false
   },
   "outputs": [
    {
     "name": "stdout",
     "output_type": "stream",
     "text": [
      "  1        2        3     28.3     3.05        8\r\n",
      "  2        3        3     26.0     2.60        4\r\n",
      "  3        3        3     25.6     2.15        0\r\n",
      "  4        4        2     21.0     1.85        0\r\n",
      "  5        2        3     29.0     3.00        1\r\n",
      "  6        1        2     25.0     2.30        3\r\n",
      "  7        4        3     26.2     1.30        0\r\n",
      "  8        2        3     24.9     2.10        0\r\n",
      "  9        2        1     25.7     2.00        8\r\n",
      " 10        2        3     27.5     3.15        6\r\n"
     ]
    }
   ],
   "source": [
    ";head crab.txt"
   ]
  },
  {
   "cell_type": "markdown",
   "metadata": {},
   "source": [
    "> This problem refers to data from a study of nesting [horseshoe crabs](https://en.wikipedia.org/wiki/Horseshoe_crab) (J. Brockmann, Ethology 1996); see also Agresti (1996) Sec. 4.3 and Agresti (2002) Sec. 4.3.  \n",
    "Each female horseshoe crab in the study had a male crab attached to her in her nest. The study investigated factors that affect whether the female crab had any other males, called satellites, residing near her. Explanatory variables that are thought to affect this included the female crab’s color (C), spine condition (S), weight (Wt), and carapace width (W). The response outcome for each female crab is her number of satellites (Sa). There are 173 females in this study.\n",
    ">> - *https://onlinecourses.science.psu.edu/stat504/node/169*"
   ]
  },
  {
   "cell_type": "code",
   "execution_count": 40,
   "metadata": {
    "collapsed": false
   },
   "outputs": [
    {
     "data": {
      "text/html": [
       "<table class=\"data-frame\"><tr><th></th><th>x1</th><th>x2</th><th>x3</th><th>x4</th><th>x5</th><th>x6</th></tr><tr><th>1</th><td>1</td><td>2</td><td>3</td><td>28.3</td><td>3.05</td><td>8</td></tr><tr><th>2</th><td>2</td><td>3</td><td>3</td><td>26.0</td><td>2.6</td><td>4</td></tr><tr><th>3</th><td>3</td><td>3</td><td>3</td><td>25.6</td><td>2.15</td><td>0</td></tr></table>"
      ],
      "text/plain": [
       "3×6 DataFrames.DataFrame\n",
       "│ Row │ x1 │ x2 │ x3 │ x4   │ x5   │ x6 │\n",
       "├─────┼────┼────┼────┼──────┼──────┼────┤\n",
       "│ 1   │ 1  │ 2  │ 3  │ 28.3 │ 3.05 │ 8  │\n",
       "│ 2   │ 2  │ 3  │ 3  │ 26.0 │ 2.6  │ 4  │\n",
       "│ 3   │ 3  │ 3  │ 3  │ 25.6 │ 2.15 │ 0  │"
      ]
     },
     "execution_count": 40,
     "metadata": {},
     "output_type": "execute_result"
    }
   ],
   "source": [
    "using DataFrames\n",
    "crab = readtable(\"crab.txt\", separator=' ', header=false)\n",
    "head(crab,3)"
   ]
  },
  {
   "cell_type": "code",
   "execution_count": 41,
   "metadata": {
    "collapsed": false
   },
   "outputs": [
    {
     "data": {
      "text/html": [
       "<table class=\"data-frame\"><tr><th></th><th>Obs</th><th>C</th><th>S</th><th>W</th><th>Wt</th><th>Sa</th></tr><tr><th>1</th><td>1</td><td>2</td><td>3</td><td>28.3</td><td>3.05</td><td>8</td></tr><tr><th>2</th><td>2</td><td>3</td><td>3</td><td>26.0</td><td>2.6</td><td>4</td></tr><tr><th>3</th><td>3</td><td>3</td><td>3</td><td>25.6</td><td>2.15</td><td>0</td></tr><tr><th>4</th><td>4</td><td>4</td><td>2</td><td>21.0</td><td>1.85</td><td>0</td></tr><tr><th>5</th><td>5</td><td>2</td><td>3</td><td>29.0</td><td>3.0</td><td>1</td></tr><tr><th>6</th><td>6</td><td>1</td><td>2</td><td>25.0</td><td>2.3</td><td>3</td></tr></table>"
      ],
      "text/plain": [
       "6×6 DataFrames.DataFrame\n",
       "│ Row │ Obs │ C │ S │ W    │ Wt   │ Sa │\n",
       "├─────┼─────┼───┼───┼──────┼──────┼────┤\n",
       "│ 1   │ 1   │ 2 │ 3 │ 28.3 │ 3.05 │ 8  │\n",
       "│ 2   │ 2   │ 3 │ 3 │ 26.0 │ 2.6  │ 4  │\n",
       "│ 3   │ 3   │ 3 │ 3 │ 25.6 │ 2.15 │ 0  │\n",
       "│ 4   │ 4   │ 4 │ 2 │ 21.0 │ 1.85 │ 0  │\n",
       "│ 5   │ 5   │ 2 │ 3 │ 29.0 │ 3.0  │ 1  │\n",
       "│ 6   │ 6   │ 1 │ 2 │ 25.0 │ 2.3  │ 3  │"
      ]
     },
     "execution_count": 41,
     "metadata": {},
     "output_type": "execute_result"
    }
   ],
   "source": [
    "names!(crab,[:Obs,:C,:S,:W,:Wt,:Sa])\n",
    "head(crab)"
   ]
  },
  {
   "cell_type": "code",
   "execution_count": 42,
   "metadata": {
    "collapsed": true
   },
   "outputs": [],
   "source": [
    "using GLM"
   ]
  },
  {
   "cell_type": "code",
   "execution_count": 48,
   "metadata": {
    "collapsed": false
   },
   "outputs": [
    {
     "data": {
      "text/plain": [
       "DataFrames.DataFrameRegressionModel{GLM.GeneralizedLinearModel{GLM.GlmResp{Array{Float64,1},Distributions.Poisson,GLM.LogLink},GLM.DensePredChol{Float64,Base.LinAlg.Cholesky{Float64,Array{Float64,2}}}},Float64}\n",
       "\n",
       "Formula: Sa ~ 1 + W\n",
       "\n",
       "Coefficients:\n",
       "             Estimate Std.Error  z value Pr(>|z|)\n",
       "(Intercept)  -3.30476  0.542219 -6.09488    <1e-8\n",
       "W            0.164045 0.0199646  8.21678   <1e-15\n"
      ]
     },
     "execution_count": 48,
     "metadata": {},
     "output_type": "execute_result"
    }
   ],
   "source": [
    "modelo = glm(Sa ~ W, crab, Poisson(), LogLink()) # Number of satellites ~ Carapace width"
   ]
  },
  {
   "cell_type": "code",
   "execution_count": 54,
   "metadata": {
    "collapsed": false
   },
   "outputs": [
    {
     "data": {
      "text/plain": [
       "(-3.304757145244757,0.16404508398650955)"
      ]
     },
     "execution_count": 54,
     "metadata": {},
     "output_type": "execute_result"
    }
   ],
   "source": [
    "α, β = (coef(modelo)...)"
   ]
  },
  {
   "cell_type": "code",
   "execution_count": 61,
   "metadata": {
    "collapsed": false
   },
   "outputs": [
    {
     "data": {
      "text/plain": [
       "log_μ (generic function with 1 method)"
      ]
     },
     "execution_count": 61,
     "metadata": {},
     "output_type": "execute_result"
    }
   ],
   "source": [
    "log_μ(Wᵢ) = α + β*Wᵢ # ̄μ"
   ]
  },
  {
   "cell_type": "code",
   "execution_count": 62,
   "metadata": {
    "collapsed": false
   },
   "outputs": [
    {
     "data": {
      "text/plain": [
       "1.1782674348884263"
      ]
     },
     "execution_count": 62,
     "metadata": {},
     "output_type": "execute_result"
    }
   ],
   "source": [
    "exp(β)"
   ]
  },
  {
   "cell_type": "code",
   "execution_count": 63,
   "metadata": {
    "collapsed": false
   },
   "outputs": [
    {
     "data": {
      "text/plain": [
       "μ (generic function with 1 method)"
      ]
     },
     "execution_count": 63,
     "metadata": {},
     "output_type": "execute_result"
    }
   ],
   "source": [
    "μ(Wᵢ) = exp(α) * exp(β*Wᵢ)"
   ]
  },
  {
   "cell_type": "code",
   "execution_count": 68,
   "metadata": {
    "collapsed": false
   },
   "outputs": [
    {
     "data": {
      "text/plain": [
       "(21.0,33.5)"
      ]
     },
     "execution_count": 68,
     "metadata": {},
     "output_type": "execute_result"
    }
   ],
   "source": [
    "xmin, xmax = extrema(crab[:W])"
   ]
  },
  {
   "cell_type": "code",
   "execution_count": 72,
   "metadata": {
    "collapsed": false
   },
   "outputs": [
    {
     "data": {
      "text/html": [
       "<img src=\"data:image/png;base64,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\" />"
      ]
     },
     "execution_count": 72,
     "metadata": {},
     "output_type": "execute_result"
    }
   ],
   "source": [
    "plot(\n",
    "scatter(crab[:W], crab[:Sa]),\n",
    "scatter(x -> log_μ(x), xmin, xmax),\n",
    "scatter(x -> μ(x), xmin, xmax),\n",
    "xlim=(xmin,xmax), layout=grid(1,3), size=(600,200), legend=false)"
   ]
  },
  {
   "cell_type": "markdown",
   "metadata": {},
   "source": [
    "#### Tablas de contingencia"
   ]
  },
  {
   "cell_type": "code",
   "execution_count": 80,
   "metadata": {
    "collapsed": false
   },
   "outputs": [
    {
     "data": {
      "text/html": [
       "<table class=\"data-frame\"><tr><th></th><th>Survived</th><th>Age</th><th>Sex</th><th>Class</th></tr><tr><th>1</th><td>1</td><td>1</td><td>1</td><td>1</td></tr><tr><th>2</th><td>1</td><td>1</td><td>1</td><td>1</td></tr><tr><th>3</th><td>1</td><td>1</td><td>1</td><td>1</td></tr><tr><th>4</th><td>1</td><td>1</td><td>1</td><td>1</td></tr><tr><th>5</th><td>1</td><td>1</td><td>1</td><td>1</td></tr><tr><th>6</th><td>1</td><td>1</td><td>1</td><td>1</td></tr></table>"
      ],
      "text/plain": [
       "6×4 DataFrames.DataFrame\n",
       "│ Row │ Survived │ Age │ Sex │ Class │\n",
       "├─────┼──────────┼─────┼─────┼───────┤\n",
       "│ 1   │ 1        │ 1   │ 1   │ 1     │\n",
       "│ 2   │ 1        │ 1   │ 1   │ 1     │\n",
       "│ 3   │ 1        │ 1   │ 1   │ 1     │\n",
       "│ 4   │ 1        │ 1   │ 1   │ 1     │\n",
       "│ 5   │ 1        │ 1   │ 1   │ 1     │\n",
       "│ 6   │ 1        │ 1   │ 1   │ 1     │"
      ]
     },
     "execution_count": 80,
     "metadata": {},
     "output_type": "execute_result"
    }
   ],
   "source": [
    "using RDatasets\n",
    "\n",
    "titanic = dataset(\"COUNT\",\"titanic\")\n",
    "head(titanic)"
   ]
  },
  {
   "cell_type": "code",
   "execution_count": 103,
   "metadata": {
    "collapsed": false
   },
   "outputs": [
    {
     "data": {
      "text/html": [
       "<table class=\"data-frame\"><tr><th></th><th>Sex</th><th>Class</th><th>x1</th></tr><tr><th>1</th><td>0</td><td>1</td><td>141</td></tr><tr><th>2</th><td>0</td><td>2</td><td>93</td></tr><tr><th>3</th><td>0</td><td>3</td><td>90</td></tr><tr><th>4</th><td>1</td><td>1</td><td>62</td></tr><tr><th>5</th><td>1</td><td>2</td><td>25</td></tr><tr><th>6</th><td>1</td><td>3</td><td>88</td></tr></table>"
      ],
      "text/plain": [
       "6×3 DataFrames.DataFrame\n",
       "│ Row │ Sex │ Class │ x1  │\n",
       "├─────┼─────┼───────┼─────┤\n",
       "│ 1   │ 0   │ 1     │ 141 │\n",
       "│ 2   │ 0   │ 2     │ 93  │\n",
       "│ 3   │ 0   │ 3     │ 90  │\n",
       "│ 4   │ 1   │ 1     │ 62  │\n",
       "│ 5   │ 1   │ 2     │ 25  │\n",
       "│ 6   │ 1   │ 3     │ 88  │"
      ]
     },
     "execution_count": 103,
     "metadata": {},
     "output_type": "execute_result"
    }
   ],
   "source": [
    "datos = by(titanic, [:Sex, :Class], df -> sum(df[:Survived]))"
   ]
  },
  {
   "cell_type": "code",
   "execution_count": 112,
   "metadata": {
    "collapsed": false
   },
   "outputs": [
    {
     "data": {
      "text/plain": [
       "DataFrames.DataFrameRegressionModel{GLM.GeneralizedLinearModel{GLM.GlmResp{Array{Float64,1},Distributions.Poisson,GLM.LogLink},GLM.DensePredChol{Float64,Base.LinAlg.Cholesky{Float64,Array{Float64,2}}}},Float64}\n",
       "\n",
       "Formula: x1 ~ 1 + Sex + Class\n",
       "\n",
       "Coefficients:\n",
       "               Estimate Std.Error  z value Pr(>|z|)\n",
       "(Intercept)     4.83069  0.120615  40.0506   <1e-99\n",
       "Sex           -0.615958 0.0938114 -6.56591   <1e-10\n",
       "Class        -0.0752212 0.0549045 -1.37004   0.1707\n"
      ]
     },
     "execution_count": 112,
     "metadata": {},
     "output_type": "execute_result"
    }
   ],
   "source": [
    "glm(x1 ~  Sex + Class, datos, Poisson(), LogLink())"
   ]
  }
 ],
 "metadata": {
  "kernelspec": {
   "display_name": "Julia 0.4.5",
   "language": "julia",
   "name": "julia-0.4"
  },
  "language_info": {
   "file_extension": ".jl",
   "mimetype": "application/julia",
   "name": "julia",
   "version": "0.4.5"
  }
 },
 "nbformat": 4,
 "nbformat_minor": 0
}
