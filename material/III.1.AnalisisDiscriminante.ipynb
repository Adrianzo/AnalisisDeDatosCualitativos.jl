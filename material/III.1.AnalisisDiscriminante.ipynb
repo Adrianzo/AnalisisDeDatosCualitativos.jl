{
 "cells": [
  {
   "cell_type": "markdown",
   "metadata": {},
   "source": [
    "### Unidad III. Agrupamiento y clasificación. \n",
    "\n",
    "## El análisis discriminante de dos poblaciones como método de comparación Multivariada y técnicas de clasificación. Ideas generales de Fischer.\n",
    "\n",
    "- El análisis discriminante de dos poblaciones por técnicas de regresión. \n",
    "- Generalización del problema de clasificación a más de dos poblaciones.\n",
    "- Otras técnicas paramétricas.\n",
    "- Alternativas no paramétricas del análisis discriminante. Modelos Log-lineales."
   ]
  },
  {
   "cell_type": "code",
   "execution_count": null,
   "metadata": {
    "collapsed": true
   },
   "outputs": [],
   "source": []
  }
 ],
 "metadata": {
  "kernelspec": {
   "display_name": "Julia 0.4.5",
   "language": "julia",
   "name": "julia-0.4"
  },
  "language_info": {
   "file_extension": ".jl",
   "mimetype": "application/julia",
   "name": "julia",
   "version": "0.4.5"
  }
 },
 "nbformat": 4,
 "nbformat_minor": 0
}
