{
 "cells": [
  {
   "cell_type": "markdown",
   "metadata": {},
   "source": [
    "### Unidad I. Variables, distribuciones y pruebas de hipótesis. \n",
    "\n",
    "## Análisis descriptivo de datos. \n",
    "\n",
    "- Características numéricas de las variables aleatorias.\n",
    "- Concepto de muestra\n",
    "- Estimación estadística de los parámetros de una distribución a partir de los datos de una muestra"
   ]
  },
  {
   "cell_type": "code",
   "execution_count": null,
   "metadata": {
    "collapsed": true
   },
   "outputs": [],
   "source": []
  }
 ],
 "metadata": {
  "kernelspec": {
   "display_name": "Julia 0.4.5",
   "language": "julia",
   "name": "julia-0.4"
  },
  "language_info": {
   "file_extension": ".jl",
   "mimetype": "application/julia",
   "name": "julia",
   "version": "0.4.5"
  }
 },
 "nbformat": 4,
 "nbformat_minor": 0
}
