{
 "cells": [
  {
   "cell_type": "markdown",
   "metadata": {},
   "source": [
    "### Unidad III. Agrupamiento y clasificación. \n",
    "\n",
    "## Técnicas topológicas de agrupación (clustering) jerárquicas y lineales. "
   ]
  },
  {
   "cell_type": "markdown",
   "metadata": {},
   "source": [
    "### Clustering"
   ]
  },
  {
   "cell_type": "markdown",
   "metadata": {},
   "source": [
    "Una buena descripción y comparación de diferentes algoritmos de clustering se encuentra en el sitio de *Scikit Learn*: [**Clustering**](http://scikit-learn.org/stable/modules/clustering.html)"
   ]
  },
  {
   "cell_type": "markdown",
   "metadata": {},
   "source": [
    "Existen diversas bibliotecas en diferentes leguaje (*R*, *Python*, *Julia*) que implementen diferentes algoritmos de clustering. En **Julia** tenemos, principalmente:\n",
    "- [**Clustering**](https://github.com/JuliaStats/Clustering.jl) \n",
    "    - K-means\n",
    "    - K-medoids\n",
    "    - Affinity Propagation\n",
    "    - DBSCAN\n",
    "- [**Distances**](https://github.com/JuliaStats/Distances.jl) No tiene algoritmos de clustering, pero implementa diferentes <a href=”https://en.wikipedia.org/wiki/Metric_(mathematics)”>métricas</a> o medidas de distancia.\n",
    "- [**ScikitLearn**](https://github.com/cstjean/ScikitLearn.jl)"
   ]
  },
  {
   "cell_type": "code",
   "execution_count": 1,
   "metadata": {
    "collapsed": false
   },
   "outputs": [
    {
     "data": {
      "text/html": [
       "<table class=\"data-frame\"><tr><th></th><th>SepalLength</th><th>SepalWidth</th><th>PetalLength</th><th>PetalWidth</th><th>Species</th></tr><tr><th>1</th><td>5.1</td><td>3.5</td><td>1.4</td><td>0.2</td><td>setosa</td></tr><tr><th>2</th><td>4.9</td><td>3.0</td><td>1.4</td><td>0.2</td><td>setosa</td></tr><tr><th>3</th><td>4.7</td><td>3.2</td><td>1.3</td><td>0.2</td><td>setosa</td></tr><tr><th>4</th><td>4.6</td><td>3.1</td><td>1.5</td><td>0.2</td><td>setosa</td></tr><tr><th>5</th><td>5.0</td><td>3.6</td><td>1.4</td><td>0.2</td><td>setosa</td></tr><tr><th>6</th><td>5.4</td><td>3.9</td><td>1.7</td><td>0.4</td><td>setosa</td></tr></table>"
      ],
      "text/plain": [
       "6×5 DataFrames.DataFrame\n",
       "│ Row │ SepalLength │ SepalWidth │ PetalLength │ PetalWidth │ Species  │\n",
       "├─────┼─────────────┼────────────┼─────────────┼────────────┼──────────┤\n",
       "│ 1   │ 5.1         │ 3.5        │ 1.4         │ 0.2        │ \"setosa\" │\n",
       "│ 2   │ 4.9         │ 3.0        │ 1.4         │ 0.2        │ \"setosa\" │\n",
       "│ 3   │ 4.7         │ 3.2        │ 1.3         │ 0.2        │ \"setosa\" │\n",
       "│ 4   │ 4.6         │ 3.1        │ 1.5         │ 0.2        │ \"setosa\" │\n",
       "│ 5   │ 5.0         │ 3.6        │ 1.4         │ 0.2        │ \"setosa\" │\n",
       "│ 6   │ 5.4         │ 3.9        │ 1.7         │ 0.4        │ \"setosa\" │"
      ]
     },
     "execution_count": 1,
     "metadata": {},
     "output_type": "execute_result"
    }
   ],
   "source": [
    "using RDatasets \n",
    "\n",
    "iris = dataset(\"datasets\", \"iris\")\n",
    "\n",
    "head(iris)"
   ]
  },
  {
   "cell_type": "code",
   "execution_count": 2,
   "metadata": {
    "collapsed": false
   },
   "outputs": [
    {
     "data": {
      "text/plain": [
       "150x4 Array{Float64,2}:\n",
       " 5.1  3.5  1.4  0.2\n",
       " 4.9  3.0  1.4  0.2\n",
       " 4.7  3.2  1.3  0.2\n",
       " 4.6  3.1  1.5  0.2\n",
       " 5.0  3.6  1.4  0.2\n",
       " 5.4  3.9  1.7  0.4\n",
       " 4.6  3.4  1.4  0.3\n",
       " 5.0  3.4  1.5  0.2\n",
       " 4.4  2.9  1.4  0.2\n",
       " 4.9  3.1  1.5  0.1\n",
       " 5.4  3.7  1.5  0.2\n",
       " 4.8  3.4  1.6  0.2\n",
       " 4.8  3.0  1.4  0.1\n",
       " ⋮                 \n",
       " 6.0  3.0  4.8  1.8\n",
       " 6.9  3.1  5.4  2.1\n",
       " 6.7  3.1  5.6  2.4\n",
       " 6.9  3.1  5.1  2.3\n",
       " 5.8  2.7  5.1  1.9\n",
       " 6.8  3.2  5.9  2.3\n",
       " 6.7  3.3  5.7  2.5\n",
       " 6.7  3.0  5.2  2.3\n",
       " 6.3  2.5  5.0  1.9\n",
       " 6.5  3.0  5.2  2.0\n",
       " 6.2  3.4  5.4  2.3\n",
       " 5.9  3.0  5.1  1.8"
      ]
     },
     "execution_count": 2,
     "metadata": {},
     "output_type": "execute_result"
    }
   ],
   "source": [
    "X = convert(Matrix{Float64}, iris[:,1:4])"
   ]
  },
  {
   "cell_type": "code",
   "execution_count": 3,
   "metadata": {
    "collapsed": false
   },
   "outputs": [],
   "source": [
    "using Distances"
   ]
  },
  {
   "cell_type": "code",
   "execution_count": 4,
   "metadata": {
    "collapsed": false
   },
   "outputs": [
    {
     "data": {
      "text/plain": [
       "4x4 Array{Float64,2}:\n",
       "  0.0     36.1578  28.9662  57.183 \n",
       " 36.1578   0.0     25.7781  25.8641\n",
       " 28.9662  25.7781   0.0     33.8647\n",
       " 57.183   25.8641  33.8647   0.0   "
      ]
     },
     "execution_count": 4,
     "metadata": {},
     "output_type": "execute_result"
    }
   ],
   "source": [
    "distancia = pairwise(Euclidean(), X)"
   ]
  },
  {
   "cell_type": "code",
   "execution_count": 5,
   "metadata": {
    "collapsed": false
   },
   "outputs": [],
   "source": [
    "using RCall"
   ]
  },
  {
   "cell_type": "code",
   "execution_count": 6,
   "metadata": {
    "collapsed": false
   },
   "outputs": [
    {
     "data": {
      "text/plain": [
       "RCall.RObject{RCall.VecSxp}\n",
       "\n",
       "Call:\n",
       "hclust(d = as.dist(`#JL`$distancia), method = \"complete\")\n",
       "\n",
       "Cluster method   : complete \n",
       "Number of objects: 4 \n",
       "\n"
      ]
     },
     "execution_count": 6,
     "metadata": {},
     "output_type": "execute_result"
    }
   ],
   "source": [
    "R\"\"\"\n",
    "hc <- hclust(as.dist($distancia), method=\"complete\")\n",
    "\"\"\""
   ]
  },
  {
   "cell_type": "code",
   "execution_count": 7,
   "metadata": {
    "collapsed": false
   },
   "outputs": [
    {
     "data": {
      "image/png": "[encoded data removed]"
     },
     "metadata": {},
     "output_type": "display_data"
    }
   ],
   "source": [
    "R\"\"\"\n",
    "plot(hc, label=$(names(iris)[1:4]))\n",
    "rect.hclust(hc, h=30, border=\"gray\")\n",
    "\"\"\";"
   ]
  },
  {
   "cell_type": "code",
   "execution_count": 8,
   "metadata": {
    "collapsed": false
   },
   "outputs": [
    {
     "data": {
      "image/png": "[encoded data removed]"
     },
     "metadata": {},
     "output_type": "display_data"
    }
   ],
   "source": [
    "R\"\"\"\n",
    "hc <- hclust(as.dist($distancia), method=\"single\")\n",
    "plot(hc, label=$(names(iris)[1:4]))\n",
    "rect.hclust(hc, h=30, border=\"gray\")\n",
    "\"\"\";"
   ]
  },
  {
   "cell_type": "code",
   "execution_count": null,
   "metadata": {
    "collapsed": true
   },
   "outputs": [],
   "source": []
  },
  {
   "cell_type": "code",
   "execution_count": 9,
   "metadata": {
    "collapsed": false
   },
   "outputs": [
    {
     "data": {
      "text/plain": [
       "150x150 Array{Float64,2}:\n",
       " 0.0       0.538516  0.509902  0.648074  …  4.45982   4.65081   4.14005 \n",
       " 0.538516  0.0       0.3       0.331662     4.49889   4.71805   4.15331 \n",
       " 0.509902  0.3       0.0       0.244949     4.66154   4.84871   4.29884 \n",
       " 0.648074  0.331662  0.244949  0.0          4.53321   4.71911   4.1497  \n",
       " 0.141421  0.608276  0.509902  0.648074     4.50444   4.67868   4.17373 \n",
       " 0.616441  1.09087   1.08628   1.16619   …  4.10244   4.26497   3.81838 \n",
       " 0.519615  0.509902  0.264575  0.331662     4.59347   4.74974   4.21782 \n",
       " 0.173205  0.424264  0.412311  0.5          4.39773   4.58912   4.06079 \n",
       " 0.921954  0.509902  0.43589   0.3          4.70106   4.88876   4.30232 \n",
       " 0.469042  0.173205  0.316228  0.316228     4.45758   4.67226   4.10609 \n",
       " 0.374166  0.866025  0.883176  1.0       …  4.31625   4.5111    4.03237 \n",
       " 0.374166  0.458258  0.374166  0.374166     4.38748   4.5618    4.02244 \n",
       " 0.591608  0.141421  0.264575  0.264575     4.57602   4.79166   4.21782 \n",
       " ⋮                                       ⋱                              \n",
       " 3.89615   3.91535   4.06694   3.92683      0.67082   0.9       0.316228\n",
       " 4.79687   4.86004   5.02693   4.91019      0.469042  0.787401  1.09087 \n",
       " 5.01996   5.07247   5.22877   5.1049    …  0.608276  0.6245    1.1225  \n",
       " 4.63681   4.70213   4.86826   4.76025      0.519615  0.818535  1.1225  \n",
       " 4.20833   4.18091   4.33474   4.17732      0.774597  0.948683  0.331662\n",
       " 5.25738   5.32071   5.4754    5.34977      0.842615  0.806226  1.31909 \n",
       " 5.13615   5.20673   5.3535    5.23259      0.793725  0.6245    1.25698 \n",
       " 4.65403   4.7       4.86415   4.74552   …  0.360555  0.67082   0.948683\n",
       " 4.27668   4.24971   4.43058   4.28836      0.583095  1.06771   0.655744\n",
       " 4.45982   4.49889   4.66154   4.53321      0.0       0.616441  0.640312\n",
       " 4.65081   4.71805   4.84871   4.71911      0.616441  0.0       0.768115\n",
       " 4.14005   4.15331   4.29884   4.1497       0.640312  0.768115  0.0     "
      ]
     },
     "execution_count": 9,
     "metadata": {},
     "output_type": "execute_result"
    }
   ],
   "source": [
    "distancia = pairwise(Euclidean(), X')"
   ]
  },
  {
   "cell_type": "code",
   "execution_count": 10,
   "metadata": {
    "collapsed": false
   },
   "outputs": [
    {
     "data": {
      "image/png": "[encoded data removed]"
     },
     "metadata": {},
     "output_type": "display_data"
    }
   ],
   "source": [
    "R\"\"\"\n",
    "hcomplete <- hclust(as.dist($distancia), method=\"complete\")\n",
    "plot(hcomplete)\n",
    "rect.hclust(hcomplete, h=1.0, border=\"gray\")\n",
    "\"\"\";"
   ]
  },
  {
   "cell_type": "code",
   "execution_count": 11,
   "metadata": {
    "collapsed": false
   },
   "outputs": [
    {
     "data": {
      "image/png": "[encoded data removed]"
     },
     "metadata": {},
     "output_type": "display_data"
    }
   ],
   "source": [
    "R\"\"\"\n",
    "hsingle <- hclust(as.dist($distancia), method=\"single\")\n",
    "plot(hsingle)\n",
    "rect.hclust(hsingle, h=1.0, border=\"gray\")\n",
    "\"\"\";"
   ]
  },
  {
   "cell_type": "code",
   "execution_count": 12,
   "metadata": {
    "collapsed": false
   },
   "outputs": [
    {
     "data": {
      "text/plain": [
       "150-element Array{Int32,1}:\n",
       " 1\n",
       " 1\n",
       " 1\n",
       " 1\n",
       " 1\n",
       " 1\n",
       " 1\n",
       " 1\n",
       " 1\n",
       " 1\n",
       " 1\n",
       " 1\n",
       " 1\n",
       " ⋮\n",
       " 2\n",
       " 2\n",
       " 2\n",
       " 2\n",
       " 2\n",
       " 2\n",
       " 2\n",
       " 2\n",
       " 2\n",
       " 2\n",
       " 2\n",
       " 2"
      ]
     },
     "execution_count": 12,
     "metadata": {},
     "output_type": "execute_result"
    }
   ],
   "source": [
    "hsingle = rcopy( R\"cutree(hsingle, h=1.0)\" )"
   ]
  },
  {
   "cell_type": "code",
   "execution_count": 13,
   "metadata": {
    "collapsed": false
   },
   "outputs": [
    {
     "data": {
      "text/plain": [
       "150-element Array{Int32,1}:\n",
       "  1\n",
       "  1\n",
       "  2\n",
       "  2\n",
       "  1\n",
       "  3\n",
       "  1\n",
       "  1\n",
       "  2\n",
       "  1\n",
       "  3\n",
       "  1\n",
       "  1\n",
       "  ⋮\n",
       " 13\n",
       " 21\n",
       " 15\n",
       " 21\n",
       " 13\n",
       " 15\n",
       " 15\n",
       " 21\n",
       " 14\n",
       " 21\n",
       " 15\n",
       " 13"
      ]
     },
     "execution_count": 13,
     "metadata": {},
     "output_type": "execute_result"
    }
   ],
   "source": [
    "hcomplete = rcopy( R\"cutree(hcomplete, h=1.0)\" )"
   ]
  },
  {
   "cell_type": "code",
   "execution_count": 15,
   "metadata": {
    "collapsed": false
   },
   "outputs": [],
   "source": [
    "using FreqTables"
   ]
  },
  {
   "cell_type": "code",
   "execution_count": 16,
   "metadata": {
    "collapsed": false
   },
   "outputs": [
    {
     "data": {
      "text/plain": [
       "22x2 NamedArray{Int64,2}:\n",
       "Dim1 ╲ Dim2 │  1   2\n",
       "────────────┼───────\n",
       "1           │ 22   0\n",
       "2           │  8   0\n",
       "3           │ 14   0\n",
       "4           │  5   0\n",
       "5           │  1   0\n",
       "6           │  0   9\n",
       "7           │  0   9\n",
       "8           │  0   8\n",
       "9           │  0  14\n",
       "10          │  0   4\n",
       "11          │  0   1\n",
       "12          │  0   3\n",
       "13          │  0   9\n",
       "14          │  0   8\n",
       "15          │  0   8\n",
       "16          │  0   5\n",
       "17          │  0   7\n",
       "18          │  0   3\n",
       "19          │  0   1\n",
       "20          │  0   2\n",
       "21          │  0   7\n",
       "22          │  0   2"
      ]
     },
     "execution_count": 16,
     "metadata": {},
     "output_type": "execute_result"
    }
   ],
   "source": [
    "freqtable(hcomplete, hsingle)"
   ]
  },
  {
   "cell_type": "code",
   "execution_count": 17,
   "metadata": {
    "collapsed": true
   },
   "outputs": [],
   "source": [
    "using Clustering"
   ]
  },
  {
   "cell_type": "code",
   "execution_count": 18,
   "metadata": {
    "collapsed": false
   },
   "outputs": [
    {
     "ename": "LoadError",
     "evalue": "LoadError: MethodError: `varinfo` has no method matching varinfo(::Int32, ::Array{Int32,1}, ::Int32, ::Array{Int32,1})\nwhile loading In[18], in expression starting on line 1",
     "output_type": "error",
     "traceback": [
      "LoadError: MethodError: `varinfo` has no method matching varinfo(::Int32, ::Array{Int32,1}, ::Int32, ::Array{Int32,1})\nwhile loading In[18], in expression starting on line 1",
      ""
     ]
    }
   ],
   "source": [
    "varinfo(maximum(hcomplete), hcomplete, maximum(hsingle), hsingle)"
   ]
  },
  {
   "cell_type": "code",
   "execution_count": 19,
   "metadata": {
    "collapsed": false
   },
   "outputs": [
    {
     "data": {
      "text/html": [
       "3 methods for generic function <b>varinfo</b>:<ul><li> varinfo(k1::<b>Int64</b>, a1::<b>AbstractArray{Int64,1}</b>, k2::<b>Int64</b>, a2::<b>AbstractArray{Int64,1}</b>) at <a href=\"https://github.com/JuliaStats/Clustering.jl/tree/3f1fd76d943cc8a4ab600f692cc6622d1b8fba76/src/varinfo.jl#L7\" target=\"_blank\">/home/dzea/.julia/v0.4/Clustering/src/varinfo.jl:7</a><li> varinfo(R::<b>Clustering.ClusteringResult</b>, k0::<b>Int64</b>, a0::<b>AbstractArray{Int64,1}</b>) at <a href=\"https://github.com/JuliaStats/Clustering.jl/tree/3f1fd76d943cc8a4ab600f692cc6622d1b8fba76/src/varinfo.jl#L51\" target=\"_blank\">/home/dzea/.julia/v0.4/Clustering/src/varinfo.jl:51</a><li> varinfo(R1::<b>Clustering.ClusteringResult</b>, R2::<b>Clustering.ClusteringResult</b>) at <a href=\"https://github.com/JuliaStats/Clustering.jl/tree/3f1fd76d943cc8a4ab600f692cc6622d1b8fba76/src/varinfo.jl#L54\" target=\"_blank\">/home/dzea/.julia/v0.4/Clustering/src/varinfo.jl:54</a></ul>"
      ],
      "text/plain": [
       "# 3 methods for generic function \"varinfo\":\n",
       "varinfo(k1::Int64, a1::AbstractArray{Int64,1}, k2::Int64, a2::AbstractArray{Int64,1}) at /home/dzea/.julia/v0.4/Clustering/src/varinfo.jl:7\n",
       "varinfo(R::Clustering.ClusteringResult, k0::Int64, a0::AbstractArray{Int64,1}) at /home/dzea/.julia/v0.4/Clustering/src/varinfo.jl:51\n",
       "varinfo(R1::Clustering.ClusteringResult, R2::Clustering.ClusteringResult) at /home/dzea/.julia/v0.4/Clustering/src/varinfo.jl:54"
      ]
     },
     "execution_count": 19,
     "metadata": {},
     "output_type": "execute_result"
    }
   ],
   "source": [
    "methods(varinfo)"
   ]
  },
  {
   "cell_type": "code",
   "execution_count": 20,
   "metadata": {
    "collapsed": false
   },
   "outputs": [
    {
     "data": {
      "text/plain": [
       "150-element Array{Int64,1}:\n",
       " 1\n",
       " 1\n",
       " 1\n",
       " 1\n",
       " 1\n",
       " 1\n",
       " 1\n",
       " 1\n",
       " 1\n",
       " 1\n",
       " 1\n",
       " 1\n",
       " 1\n",
       " ⋮\n",
       " 2\n",
       " 2\n",
       " 2\n",
       " 2\n",
       " 2\n",
       " 2\n",
       " 2\n",
       " 2\n",
       " 2\n",
       " 2\n",
       " 2\n",
       " 2"
      ]
     },
     "execution_count": 20,
     "metadata": {},
     "output_type": "execute_result"
    }
   ],
   "source": [
    "hcomplete = convert(Vector{Int64}, hcomplete)\n",
    "hsingle   = convert(Vector{Int64}, hsingle)"
   ]
  },
  {
   "cell_type": "code",
   "execution_count": 21,
   "metadata": {
    "collapsed": false
   },
   "outputs": [
    {
     "data": {
      "text/plain": [
       "2.2007191709028677"
      ]
     },
     "execution_count": 21,
     "metadata": {},
     "output_type": "execute_result"
    }
   ],
   "source": [
    "varinfo(maximum(hcomplete), hcomplete, maximum(hsingle), hsingle)"
   ]
  },
  {
   "cell_type": "code",
   "execution_count": 22,
   "metadata": {
    "collapsed": false
   },
   "outputs": [],
   "source": [
    "using Bootstrap"
   ]
  },
  {
   "cell_type": "code",
   "execution_count": 23,
   "metadata": {
    "collapsed": false
   },
   "outputs": [
    {
     "data": {
      "text/plain": [
       "(8.881784197001252e-16,0.0)"
      ]
     },
     "execution_count": 23,
     "metadata": {},
     "output_type": "execute_result"
    }
   ],
   "source": [
    "( varinfo(maximum(hcomplete), hcomplete, maximum(hcomplete), hcomplete), \n",
    "  varinfo(maximum(hsingle), hsingle, maximum(hsingle), hsingle) )"
   ]
  },
  {
   "cell_type": "code",
   "execution_count": 24,
   "metadata": {
    "collapsed": false
   },
   "outputs": [
    {
     "data": {
      "text/plain": [
       "150x2 Array{Int64,2}:\n",
       "  1  1\n",
       "  1  1\n",
       "  2  1\n",
       "  2  1\n",
       "  1  1\n",
       "  3  1\n",
       "  1  1\n",
       "  1  1\n",
       "  2  1\n",
       "  1  1\n",
       "  3  1\n",
       "  1  1\n",
       "  1  1\n",
       "  ⋮   \n",
       " 13  2\n",
       " 21  2\n",
       " 15  2\n",
       " 21  2\n",
       " 13  2\n",
       " 15  2\n",
       " 15  2\n",
       " 21  2\n",
       " 14  2\n",
       " 21  2\n",
       " 15  2\n",
       " 13  2"
      ]
     },
     "execution_count": 24,
     "metadata": {},
     "output_type": "execute_result"
    }
   ],
   "source": [
    "asignaciones = hcat(hcomplete, hsingle)"
   ]
  },
  {
   "cell_type": "code",
   "execution_count": 25,
   "metadata": {
    "collapsed": false
   },
   "outputs": [
    {
     "data": {
      "text/plain": [
       "VI (generic function with 1 method)"
      ]
     },
     "execution_count": 25,
     "metadata": {},
     "output_type": "execute_result"
    }
   ],
   "source": [
    "function VI(indices)\n",
    "    A = asignaciones[indices,1]\n",
    "    B = asignaciones[indices,2]\n",
    "    varinfo(maximum(A), A, maximum(B), B)\n",
    "end"
   ]
  },
  {
   "cell_type": "code",
   "execution_count": 26,
   "metadata": {
    "collapsed": false
   },
   "outputs": [
    {
     "data": {
      "text/plain": [
       "Bootstrap Sampling\n",
       "  Estimate: 2.2007\n",
       "  Bias:     -0.071318\n",
       "  StdError: 0.071914\n",
       "  Samples:  10000\n",
       "  Method:   basic\n",
       "  Data:     UnitRange{Int64}: { 150 }\n"
      ]
     },
     "execution_count": 26,
     "metadata": {},
     "output_type": "execute_result"
    }
   ],
   "source": [
    "VI_boot = boot_basic(1:size(asignaciones,1), VI, 10_000)"
   ]
  },
  {
   "cell_type": "code",
   "execution_count": 27,
   "metadata": {
    "collapsed": false
   },
   "outputs": [
    {
     "data": {
      "text/plain": [
       "Bootstrap Confidence Interval\n",
       "  Estimate: 2.2007\n",
       "  Interval: [2.133259307361124,2.393042258978316]\n",
       "  Level:    0.95\n",
       "  Method:   bca\n"
      ]
     },
     "execution_count": 27,
     "metadata": {},
     "output_type": "execute_result"
    }
   ],
   "source": [
    "ci_bca(VI_boot)"
   ]
  },
  {
   "cell_type": "code",
   "execution_count": 28,
   "metadata": {
    "collapsed": false
   },
   "outputs": [
    {
     "name": "stdout",
     "output_type": "stream",
     "text": [
      "[Plots.jl] Initializing backend: pyplot\n"
     ]
    },
    {
     "data": {
      "text/html": [
       "<img src=\"data:image/png;base64,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\" />"
      ]
     },
     "execution_count": 28,
     "metadata": {},
     "output_type": "execute_result"
    }
   ],
   "source": [
    "using Plots\n",
    "pyplot(size=(300,300))\n",
    "\n",
    "histogram(VI_boot.t1, linecolor=:gray, fillcolor=:gray, legend=false)\n",
    "vline!([0, VI_boot.t0])"
   ]
  }
 ],
 "metadata": {
  "kernelspec": {
   "display_name": "Julia 0.4.5",
   "language": "julia",
   "name": "julia-0.4"
  },
  "language_info": {
   "file_extension": ".jl",
   "mimetype": "application/julia",
   "name": "julia",
   "version": "0.4.5"
  }
 },
 "nbformat": 4,
 "nbformat_minor": 0
}
