{
 "cells": [
  {
   "cell_type": "markdown",
   "metadata": {},
   "source": [
    "### Unidad I. Variables, distribuciones y pruebas de hipótesis. \n",
    "\n",
    "## Análisis descriptivo de datos. \n",
    "\n",
    "- [Características numéricas de las variables aleatorias.](#Estadísticos-de-resumen)\n",
    "- [Concepto de muestra](#Muestra-estadística)\n",
    "- Estimación estadística de los parámetros de una distribución a partir de los datos de una muestra"
   ]
  },
  {
   "cell_type": "markdown",
   "metadata": {
    "collapsed": true
   },
   "source": [
    "La [estadística descriptiva](https://en.wikipedia.org/wiki/Descriptive_statistics) tiene más que ver con describir una muestra de manera cualitativa (gráfica) o cuantitativa (numérica) que con inferir propiedades acerca de la población de la cual proviene esa muestra ([estadística inferencial](https://en.wikipedia.org/wiki/Statistical_inference)).  "
   ]
  },
  {
   "cell_type": "markdown",
   "metadata": {},
   "source": [
    "La estadística descriptiva está fuertemente ligada al [análisis exploratorio de datos](https://en.wikipedia.org/wiki/Exploratory_data_analysis) (*EDA* for *Exploratory Data Analysis*) y al [análisis inicial de datos](https://en.wikipedia.org/wiki/Data_analysis#Initial_data_analysis) (*IDA* por *Initial Data Analysis*). El primero focaliza en explorar los datos en busca de nuevas hipótesis, las cuales pueden terminar en nuevos muestreos y experimentos, mientras el segundo se focaliza en asegurar la calidad de los datos, chequear las asunciones y realizar las transformaciones necesarias para testear la hipótesis que teníamos en mente a la hora de recolectar los datos."
   ]
  },
  {
   "cell_type": "markdown",
   "metadata": {},
   "source": [
    "El análisis inicial de datos no es necesario solamente para el testeo de hipótesis de la estadística inferencial, sino también como un paso previo para el [aprendizaje automático](https://en.wikipedia.org/wiki/Machine_learning) (*ML* por *Machine Learning*) y forma parte importante de las primeras fases de la [minería de datos](https://en.wikipedia.org/wiki/Data_mining) (*Data mining*)."
   ]
  },
  {
   "cell_type": "markdown",
   "metadata": {},
   "source": [
    "### Muestra estadística"
   ]
  },
  {
   "cell_type": "markdown",
   "metadata": {},
   "source": [
    "Se denomina <a href=\"https://en.wikipedia.org/wiki/Sample_(statistics)\">muestra</a> a un subconjunto de datos tomados o seleccionados de una [población estadística](https://en.wikipedia.org/wiki/Statistical_population) mediante un <a href=\"https://en.wikipedia.org/wiki/Sampling_(statistics)\">proceso de muestreo</a> determinado. Cada una de las [unidades muestrales](https://en.wikipedia.org/wiki/Statistical_unit) suele llamarse observación, y es posible medir variables aleatorias para cada una de ellas."
   ]
  },
  {
   "cell_type": "markdown",
   "metadata": {},
   "source": [
    "### Estadísticos de resumen"
   ]
  },
  {
   "cell_type": "markdown",
   "metadata": {},
   "source": [
    "Los [estadísticos de resumen](https://en.wikipedia.org/wiki/Summary_statistics) (*Summary statistics*) describen de manera cuantitativa la distribución de una muestra. Normalmente se obtiene un conjunto de estadísticos que describen cada variable aleatoria/dimensión de los datos de manera independiente (si excluimos medidas de dependencia como las correlaciones).  "
   ]
  },
  {
   "cell_type": "markdown",
   "metadata": {},
   "source": [
    "Existen **estadísticos de**: \n",
    "- tendencia central (*location or central tendency*)\n",
    "- dispersión (*spread or dispersion*)\n",
    "- forma (*shape*):\n",
    " - asimetría (*Skewness*)\n",
    " - apuntamiento (*Kurtosis*)"
   ]
  },
  {
   "cell_type": "markdown",
   "metadata": {},
   "source": [
    "Estos estadísticos pueden ser [robustos](https://en.wikipedia.org/wiki/Robust_statistics) o no, llamándose robustos a los estadísticos menos afectados por [valores atípicos](https://en.wikipedia.org/wiki/Outlier) (*outliers*). Estos estadísticos describen la muestra de una manera más robusta cuando su distribución se aleja de una distribución normal (por ejemplo, si la distribución es asimétrica). "
   ]
  },
  {
   "cell_type": "code",
   "execution_count": null,
   "metadata": {
    "collapsed": true
   },
   "outputs": [],
   "source": []
  }
 ],
 "metadata": {
  "kernelspec": {
   "display_name": "Julia 0.4.5",
   "language": "julia",
   "name": "julia-0.4"
  },
  "language_info": {
   "file_extension": ".jl",
   "mimetype": "application/julia",
   "name": "julia",
   "version": "0.4.5"
  }
 },
 "nbformat": 4,
 "nbformat_minor": 0
}
