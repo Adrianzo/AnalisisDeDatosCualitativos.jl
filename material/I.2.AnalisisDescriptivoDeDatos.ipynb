{
 "cells": [
  {
   "cell_type": "markdown",
   "metadata": {},
   "source": [
    "### Unidad I. Variables, distribuciones y pruebas de hipótesis. \n",
    "\n",
    "## Análisis descriptivo de datos. \n",
    "\n",
    "- [Características numéricas de las variables aleatorias.](#Estadísticos-de-resumen)\n",
    "- [Concepto de muestra](#Muestra-estadística)\n",
    "- Estimación estadística de los parámetros de una distribución a partir de los datos de una muestra"
   ]
  },
  {
   "cell_type": "markdown",
   "metadata": {
    "collapsed": true
   },
   "source": [
    "La [estadística descriptiva](https://en.wikipedia.org/wiki/Descriptive_statistics) tiene más que ver con describir una muestra de manera cualitativa (gráfica) o cuantitativa (numérica) que con inferir propiedades acerca de la población de la cual proviene esa muestra ([estadística inferencial](https://en.wikipedia.org/wiki/Statistical_inference)).  "
   ]
  },
  {
   "cell_type": "markdown",
   "metadata": {},
   "source": [
    "La estadística descriptiva está fuertemente ligada al [análisis exploratorio de datos](https://en.wikipedia.org/wiki/Exploratory_data_analysis) (*EDA* for *Exploratory Data Analysis*) y al [análisis inicial de datos](https://en.wikipedia.org/wiki/Data_analysis#Initial_data_analysis) (*IDA* por *Initial Data Analysis*). El primero focaliza en explorar los datos en busca de nuevas hipótesis, las cuales pueden terminar en nuevos muestreos y experimentos, mientras el segundo se focaliza en asegurar la calidad de los datos, chequear las asunciones y realizar las transformaciones necesarias para testear la hipótesis que teníamos en mente a la hora de recolectar los datos."
   ]
  },
  {
   "cell_type": "markdown",
   "metadata": {},
   "source": [
    "El análisis inicial de datos no es necesario solamente para el testeo de hipótesis de la estadística inferencial, sino también como un paso previo para el [aprendizaje automático](https://en.wikipedia.org/wiki/Machine_learning) (*ML* por *Machine Learning*) y forma parte importante de las primeras fases de la [minería de datos](https://en.wikipedia.org/wiki/Data_mining) (*Data mining*)."
   ]
  },
  {
   "cell_type": "markdown",
   "metadata": {},
   "source": [
    "### Muestra estadística"
   ]
  },
  {
   "cell_type": "markdown",
   "metadata": {},
   "source": [
    "Se denomina <a href=\"https://en.wikipedia.org/wiki/Sample_(statistics)\">muestra</a> a un subconjunto de datos tomados o seleccionados de una [población estadística](https://en.wikipedia.org/wiki/Statistical_population) mediante un <a href=\"https://en.wikipedia.org/wiki/Sampling_(statistics)\">proceso de muestreo</a> determinado. Cada una de las [unidades muestrales](https://en.wikipedia.org/wiki/Statistical_unit) suele llamarse observación, y es posible medir variables aleatorias para cada una de ellas."
   ]
  },
  {
   "cell_type": "markdown",
   "metadata": {},
   "source": [
    "Las **muestras** pueden ser:  \n",
    "- **Completas**: Incluye a todos los casos, individuos u objetos de la población que cumplen con un criterio (de selección) determinado. Generalmente es difícil o imposible disponer de muestras completas.  \n",
    "- **Representativas** (*representative or unbiased*): Un conjunto de unidades muestrales seleccionados de una muestra completa usando un proceso de selección/muestreo que no depende de las propiedades de estas unidades. Una manera de obtener muestras no sesgadas es seleccionando una **muestra aleatoria** (*random/probability sample*).  "
   ]
  },
  {
   "cell_type": "markdown",
   "metadata": {},
   "source": [
    "#### Técnicas de muestreo"
   ]
  },
  {
   "cell_type": "markdown",
   "metadata": {},
   "source": [
    "##### Muestreo aleatorio simple"
   ]
  },
  {
   "cell_type": "markdown",
   "metadata": {},
   "source": [
    "En el [muestreo aleatorio simple](https://en.wikipedia.org/wiki/Simple_random_sample) se selecciona un número k de unidades muestrales de manera aleatoria, teniendo cada elemento de la población la misma probabilidad de ser seleccionado. El muestreo puede ser **con o sin reposición** (*with or without replacement*). Si el muestreo se efectúa con reposición, cada elemento de la población puede ser seleccionado más de una vez. En el muestreo aleatorio sin reposición, donde los elementos no son devueltos a la población y no pueden ser elegidos más de una vez, la probabilidad de sacar un determinado elemento cambia con la extracción del anterior (no son independientes). Sin embargo el muestreo aleatorio simple sin reposición satisface [intercambiabilidad](https://en.wikipedia.org/wiki/Exchangeable_random_variables), es que cualquier orden de los elementos extraídos es igualmente probable. Si el tamaño de la población es mucho más grande que el tamaño de la muestra, el muestreo aleatorio simple sin reposición se aproxima a un muestreo simple con reposición, dada la baja probabilidad de elegir un mismo elemento dos veces."
   ]
  },
  {
   "cell_type": "markdown",
   "metadata": {},
   "source": [
    "La manera más sencilla de hacer un muestreo aleatorio simple con o sin reposición en **Julia**, es usando la función `sample` de **StatsBase**. Ésta es similar a la función `sample` de **R**. Ambas toman una lista de valores, el tamaño de la muestra a tomar (`size`) y se les debe indicar si queremos que sea con o sin reemplazo (`replace`). Una diferencia entre ambas funciones es que mientras R por defecto hace el muestreo sin reemplazo, Julia lo hace con reemplazo si no le indicamos lo contrario."
   ]
  },
  {
   "cell_type": "code",
   "execution_count": 1,
   "metadata": {
    "collapsed": false
   },
   "outputs": [
    {
     "data": {
      "text/plain": [
       "1:10"
      ]
     },
     "execution_count": 1,
     "metadata": {},
     "output_type": "execute_result"
    }
   ],
   "source": [
    "individuos = 1:10"
   ]
  },
  {
   "cell_type": "code",
   "execution_count": 2,
   "metadata": {
    "collapsed": false
   },
   "outputs": [
    {
     "data": {
      "text/plain": [
       "5-element Array{Int64,1}:\n",
       " 6\n",
       " 3\n",
       " 8\n",
       " 7\n",
       " 5"
      ]
     },
     "execution_count": 2,
     "metadata": {},
     "output_type": "execute_result"
    }
   ],
   "source": [
    "using StatsBase\n",
    "\n",
    "sample(individuos, 5, replace=true)"
   ]
  },
  {
   "cell_type": "code",
   "execution_count": 3,
   "metadata": {
    "collapsed": false
   },
   "outputs": [
    {
     "data": {
      "text/plain": [
       "RCall.RObject{RCall.IntSxp}\n",
       "[1] 6 5 5 9 1\n"
      ]
     },
     "execution_count": 3,
     "metadata": {},
     "output_type": "execute_result"
    }
   ],
   "source": [
    "using RCall\n",
    "\n",
    "R\"sample($individuos, size=5, replace=TRUE)\""
   ]
  },
  {
   "cell_type": "markdown",
   "metadata": {},
   "source": [
    "##### Muestreo sistemático"
   ]
  },
  {
   "cell_type": "markdown",
   "metadata": {},
   "source": [
    "El [muestreo sistemático](https://en.wikipedia.org/wiki/Systematic_sampling) consiste en ordenar los elementos de una población según alguna variable de interés, para luego tomar *n* unidades muestrales equiespaciadas. El primer elemento debe ser seleccionado al azar, quedando los otros determinados en relación a este. Una ventaja de este tipo de muestreo es que permite muestrear una variable de intereses en todo su rango. Pero debe tenerse cuidado si la variable muestra alguna característica periódica, dado que puede generarse una muestra sesgada de la población. Además debe tenerse en cuenta que no se verá la variación entre dos elementos contiguos en la lista, dado que nunca son seleccionados a la vez."
   ]
  },
  {
   "cell_type": "markdown",
   "metadata": {},
   "source": [
    "Por ejemplo, si queremos hacer un muestreo sistemático de las plantas del [conjunto de datos iris](https://es.wikipedia.org/wiki/Iris_flor_conjunto_de_datos) según largo de sus pétalos:  "
   ]
  },
  {
   "cell_type": "code",
   "execution_count": 4,
   "metadata": {
    "collapsed": false
   },
   "outputs": [
    {
     "data": {
      "text/html": [
       "<table class=\"data-frame\"><tr><th></th><th>SepalLength</th><th>SepalWidth</th><th>PetalLength</th><th>PetalWidth</th><th>Species</th></tr><tr><th>1</th><td>5.1</td><td>3.5</td><td>1.4</td><td>0.2</td><td>setosa</td></tr><tr><th>2</th><td>4.9</td><td>3.0</td><td>1.4</td><td>0.2</td><td>setosa</td></tr><tr><th>3</th><td>4.7</td><td>3.2</td><td>1.3</td><td>0.2</td><td>setosa</td></tr><tr><th>4</th><td>4.6</td><td>3.1</td><td>1.5</td><td>0.2</td><td>setosa</td></tr><tr><th>5</th><td>5.0</td><td>3.6</td><td>1.4</td><td>0.2</td><td>setosa</td></tr><tr><th>6</th><td>5.4</td><td>3.9</td><td>1.7</td><td>0.4</td><td>setosa</td></tr></table>"
      ],
      "text/plain": [
       "6×5 DataFrames.DataFrame\n",
       "│ Row │ SepalLength │ SepalWidth │ PetalLength │ PetalWidth │ Species  │\n",
       "├─────┼─────────────┼────────────┼─────────────┼────────────┼──────────┤\n",
       "│ 1   │ 5.1         │ 3.5        │ 1.4         │ 0.2        │ \"setosa\" │\n",
       "│ 2   │ 4.9         │ 3.0        │ 1.4         │ 0.2        │ \"setosa\" │\n",
       "│ 3   │ 4.7         │ 3.2        │ 1.3         │ 0.2        │ \"setosa\" │\n",
       "│ 4   │ 4.6         │ 3.1        │ 1.5         │ 0.2        │ \"setosa\" │\n",
       "│ 5   │ 5.0         │ 3.6        │ 1.4         │ 0.2        │ \"setosa\" │\n",
       "│ 6   │ 5.4         │ 3.9        │ 1.7         │ 0.4        │ \"setosa\" │"
      ]
     },
     "execution_count": 4,
     "metadata": {},
     "output_type": "execute_result"
    }
   ],
   "source": [
    "using RDatasets\n",
    "iris = dataset(\"datasets\",\"iris\")\n",
    "head(iris)"
   ]
  },
  {
   "cell_type": "code",
   "execution_count": 5,
   "metadata": {
    "collapsed": false
   },
   "outputs": [
    {
     "data": {
      "text/html": [
       "<table class=\"data-frame\"><tr><th></th><th>SepalLength</th><th>SepalWidth</th><th>PetalLength</th><th>PetalWidth</th><th>Species</th></tr><tr><th>1</th><td>4.6</td><td>3.6</td><td>1.0</td><td>0.2</td><td>setosa</td></tr><tr><th>2</th><td>4.3</td><td>3.0</td><td>1.1</td><td>0.1</td><td>setosa</td></tr><tr><th>3</th><td>5.8</td><td>4.0</td><td>1.2</td><td>0.2</td><td>setosa</td></tr><tr><th>4</th><td>5.0</td><td>3.2</td><td>1.2</td><td>0.2</td><td>setosa</td></tr><tr><th>5</th><td>4.7</td><td>3.2</td><td>1.3</td><td>0.2</td><td>setosa</td></tr><tr><th>6</th><td>5.4</td><td>3.9</td><td>1.3</td><td>0.4</td><td>setosa</td></tr></table>"
      ],
      "text/plain": [
       "6×5 DataFrames.DataFrame\n",
       "│ Row │ SepalLength │ SepalWidth │ PetalLength │ PetalWidth │ Species  │\n",
       "├─────┼─────────────┼────────────┼─────────────┼────────────┼──────────┤\n",
       "│ 1   │ 4.6         │ 3.6        │ 1.0         │ 0.2        │ \"setosa\" │\n",
       "│ 2   │ 4.3         │ 3.0        │ 1.1         │ 0.1        │ \"setosa\" │\n",
       "│ 3   │ 5.8         │ 4.0        │ 1.2         │ 0.2        │ \"setosa\" │\n",
       "│ 4   │ 5.0         │ 3.2        │ 1.2         │ 0.2        │ \"setosa\" │\n",
       "│ 5   │ 4.7         │ 3.2        │ 1.3         │ 0.2        │ \"setosa\" │\n",
       "│ 6   │ 5.4         │ 3.9        │ 1.3         │ 0.4        │ \"setosa\" │"
      ]
     },
     "execution_count": 5,
     "metadata": {},
     "output_type": "execute_result"
    }
   ],
   "source": [
    "sort!(iris, cols=:PetalLength) # Ordena la variable de interés\n",
    "head(iris)"
   ]
  },
  {
   "cell_type": "code",
   "execution_count": 6,
   "metadata": {
    "collapsed": false
   },
   "outputs": [
    {
     "data": {
      "text/plain": [
       "150"
      ]
     },
     "execution_count": 6,
     "metadata": {},
     "output_type": "execute_result"
    }
   ],
   "source": [
    "N = nrow(iris) # Número de elementos en mi población"
   ]
  },
  {
   "cell_type": "code",
   "execution_count": 7,
   "metadata": {
    "collapsed": false
   },
   "outputs": [
    {
     "data": {
      "text/plain": [
       "7"
      ]
     },
     "execution_count": 7,
     "metadata": {},
     "output_type": "execute_result"
    }
   ],
   "source": [
    "n = 7 # Número de muestras"
   ]
  },
  {
   "cell_type": "code",
   "execution_count": 8,
   "metadata": {
    "collapsed": false
   },
   "outputs": [
    {
     "data": {
      "text/plain": [
       "21"
      ]
     },
     "execution_count": 8,
     "metadata": {},
     "output_type": "execute_result"
    }
   ],
   "source": [
    "@assert n != 0 \"El tamaño de la muestra no puede ser 0\"\n",
    "\n",
    "@assert n <= N \"La muestra no puede ser superior en tamaño a la población\"\n",
    "\n",
    "k = div(N,n) # Intervalo de muestreo (sampling interval or skip)"
   ]
  },
  {
   "cell_type": "code",
   "execution_count": 9,
   "metadata": {
    "collapsed": false
   },
   "outputs": [
    {
     "data": {
      "text/plain": [
       "3"
      ]
     },
     "execution_count": 9,
     "metadata": {},
     "output_type": "execute_result"
    }
   ],
   "source": [
    "primero = sample(1:k) # Elijo al azar (con igual probabilidad) un elemento de 1 a k para comenzar "
   ]
  },
  {
   "cell_type": "code",
   "execution_count": 10,
   "metadata": {
    "collapsed": false
   },
   "outputs": [
    {
     "data": {
      "text/plain": [
       "7-element Array{Int64,1}:\n",
       "   3\n",
       "  24\n",
       "  45\n",
       "  66\n",
       "  87\n",
       " 108\n",
       " 129"
      ]
     },
     "execution_count": 10,
     "metadata": {},
     "output_type": "execute_result"
    }
   ],
   "source": [
    "# Selecciono los elementos restante a k pasos del primero\n",
    "índices = Int[ primero + ((muestra-1) * k) for muestra in 1:n ]"
   ]
  },
  {
   "cell_type": "code",
   "execution_count": 11,
   "metadata": {
    "collapsed": false
   },
   "outputs": [
    {
     "data": {
      "text/html": [
       "<table class=\"data-frame\"><tr><th></th><th>SepalLength</th><th>SepalWidth</th><th>PetalLength</th><th>PetalWidth</th><th>Species</th></tr><tr><th>1</th><td>5.8</td><td>4.0</td><td>1.2</td><td>0.2</td><td>setosa</td></tr><tr><th>2</th><td>5.0</td><td>3.3</td><td>1.4</td><td>0.2</td><td>setosa</td></tr><tr><th>3</th><td>5.4</td><td>3.9</td><td>1.7</td><td>0.4</td><td>setosa</td></tr><tr><th>4</th><td>5.8</td><td>2.6</td><td>4.0</td><td>1.2</td><td>versicolor</td></tr><tr><th>5</th><td>4.9</td><td>2.5</td><td>4.5</td><td>1.7</td><td>virginica</td></tr><tr><th>6</th><td>6.3</td><td>2.5</td><td>5.0</td><td>1.9</td><td>virginica</td></tr><tr><th>7</th><td>6.1</td><td>2.6</td><td>5.6</td><td>1.4</td><td>virginica</td></tr></table>"
      ],
      "text/plain": [
       "7×5 DataFrames.DataFrame\n",
       "│ Row │ SepalLength │ SepalWidth │ PetalLength │ PetalWidth │ Species      │\n",
       "├─────┼─────────────┼────────────┼─────────────┼────────────┼──────────────┤\n",
       "│ 1   │ 5.8         │ 4.0        │ 1.2         │ 0.2        │ \"setosa\"     │\n",
       "│ 2   │ 5.0         │ 3.3        │ 1.4         │ 0.2        │ \"setosa\"     │\n",
       "│ 3   │ 5.4         │ 3.9        │ 1.7         │ 0.4        │ \"setosa\"     │\n",
       "│ 4   │ 5.8         │ 2.6        │ 4.0         │ 1.2        │ \"versicolor\" │\n",
       "│ 5   │ 4.9         │ 2.5        │ 4.5         │ 1.7        │ \"virginica\"  │\n",
       "│ 6   │ 6.3         │ 2.5        │ 5.0         │ 1.9        │ \"virginica\"  │\n",
       "│ 7   │ 6.1         │ 2.6        │ 5.6         │ 1.4        │ \"virginica\"  │"
      ]
     },
     "execution_count": 11,
     "metadata": {},
     "output_type": "execute_result"
    }
   ],
   "source": [
    "iris[índices,:]"
   ]
  },
  {
   "cell_type": "markdown",
   "metadata": {},
   "source": [
    "##### Muestreo estratificado"
   ]
  },
  {
   "cell_type": "markdown",
   "metadata": {},
   "source": [
    "En el [muestreo estratificado](https://en.wikipedia.org/wiki/Stratified_sampling), se estratifica la población antes de tomar las muestras. En este proceso se divide a los miembros de la población en estratos, grupos o subpoblaciones homogéneas. Estos estratos deben ser mutuamente excluyentes, dado que un miembro de la población no podrá pertenecer a más de una subpoblación. Todos los miembros de la población deben pertenecer a un estrato determinado, no pueden quedar miembros sin clasificar (estratificación exhaustiva). Una vez que se estratifico la población, se realizar un muestreo aleatorio simple o sistemático  dentro de cada estrato."
   ]
  },
  {
   "cell_type": "markdown",
   "metadata": {},
   "source": [
    "Existen tres posibles estrategias:  \n",
    "- **Asignación proporcional**: El número de unidades muestrales de cada estrato es proporcional al número de individuos del estrato dentro de la población. Es decir, se respeta las proporciones de los estratos en la población.  \n",
    "- **Asignación óptima**: El número de muestras seleccionadas para cada estrato es proporcional a la desviación estándar de la variable de interés en cada estrato. Ésto requiere un conocimiento previo de la población.  \n",
    "- **Asignación uniforme**: Se selecciona un igual número de elementos para cada estrato. Ésto permite, cuando el tamaño de los estratos varía en la población, equiparar el poder de los test utilizados en cada estratos a la hora de compararlos. El conjunto de datos *iris* fue generado en un muestreo estratificado uniforme (50 flores de cada especie), en el que cada especie conforma un estrato.  "
   ]
  },
  {
   "cell_type": "markdown",
   "metadata": {},
   "source": [
    "###### Media"
   ]
  },
  {
   "cell_type": "markdown",
   "metadata": {},
   "source": [
    "$$ \\mu_{s} = \\frac{1}{N} \\sum_{h=1}^{L} N_{h} \\mu_{h} $$"
   ]
  },
  {
   "cell_type": "markdown",
   "metadata": {},
   "source": [
    "Por ejemplo, si consideramos que todas las filas del conjunto de datos *iris* es nuestra población:"
   ]
  },
  {
   "cell_type": "code",
   "execution_count": 12,
   "metadata": {
    "collapsed": false
   },
   "outputs": [
    {
     "data": {
      "text/plain": [
       "3.7580000000000005"
      ]
     },
     "execution_count": 12,
     "metadata": {},
     "output_type": "execute_result"
    }
   ],
   "source": [
    "μₛ = mean(iris[:PetalLength])"
   ]
  },
  {
   "cell_type": "code",
   "execution_count": 13,
   "metadata": {
    "collapsed": false
   },
   "outputs": [
    {
     "data": {
      "text/html": [
       "<table class=\"data-frame\"><tr><th></th><th>Species</th><th>μₕ</th><th>Nₕ</th></tr><tr><th>1</th><td>setosa</td><td>1.462</td><td>50</td></tr><tr><th>2</th><td>versicolor</td><td>4.26</td><td>50</td></tr><tr><th>3</th><td>virginica</td><td>5.552</td><td>50</td></tr></table>"
      ],
      "text/plain": [
       "3×3 DataFrames.DataFrame\n",
       "│ Row │ Species      │ μₕ    │ Nₕ │\n",
       "├─────┼──────────────┼───────┼────┤\n",
       "│ 1   │ \"setosa\"     │ 1.462 │ 50 │\n",
       "│ 2   │ \"versicolor\" │ 4.26  │ 50 │\n",
       "│ 3   │ \"virginica\"  │ 5.552 │ 50 │"
      ]
     },
     "execution_count": 13,
     "metadata": {},
     "output_type": "execute_result"
    }
   ],
   "source": [
    "estratos = by(iris, :Species) do df \n",
    "    DataFrame(\n",
    "    μₕ = mean(df[:PetalLength]),\n",
    "    Nₕ = nrow(df)\n",
    "    )\n",
    "end"
   ]
  },
  {
   "cell_type": "code",
   "execution_count": 14,
   "metadata": {
    "collapsed": false
   },
   "outputs": [
    {
     "data": {
      "text/plain": [
       "150"
      ]
     },
     "execution_count": 14,
     "metadata": {},
     "output_type": "execute_result"
    }
   ],
   "source": [
    "N = nrow(iris)"
   ]
  },
  {
   "cell_type": "code",
   "execution_count": 15,
   "metadata": {
    "collapsed": false
   },
   "outputs": [
    {
     "data": {
      "text/plain": [
       "3.7580000000000005"
      ]
     },
     "execution_count": 15,
     "metadata": {},
     "output_type": "execute_result"
    }
   ],
   "source": [
    "(1/N) * sum(estratos[:μₕ] .* estratos[:Nₕ])"
   ]
  },
  {
   "cell_type": "markdown",
   "metadata": {},
   "source": [
    "### Estadísticos de resumen"
   ]
  },
  {
   "cell_type": "markdown",
   "metadata": {},
   "source": [
    "Los [estadísticos de resumen](https://en.wikipedia.org/wiki/Summary_statistics) (*Summary statistics*) describen de manera cuantitativa la distribución de una muestra. Normalmente se obtiene un conjunto de estadísticos que describen cada variable aleatoria/dimensión de los datos de manera independiente (si excluimos medidas de dependencia como las correlaciones).  "
   ]
  },
  {
   "cell_type": "markdown",
   "metadata": {},
   "source": [
    "Existen **estadísticos de**: \n",
    "- tendencia central (*location or central tendency*)\n",
    "- dispersión (*spread or dispersion*)\n",
    "- forma (*shape*):\n",
    " - asimetría (*Skewness*)\n",
    " - apuntamiento (*Kurtosis*)"
   ]
  },
  {
   "cell_type": "markdown",
   "metadata": {},
   "source": [
    "Estos estadísticos pueden ser [robustos](https://en.wikipedia.org/wiki/Robust_statistics) o no, llamándose robustos a los estadísticos menos afectados por [valores atípicos](https://en.wikipedia.org/wiki/Outlier) (*outliers*). Estos estadísticos describen la muestra de una manera más robusta cuando su distribución se aleja de una distribución normal (por ejemplo, si la distribución es asimétrica). "
   ]
  },
  {
   "cell_type": "markdown",
   "metadata": {},
   "source": [
    "#### Estadísticos de tendencia central"
   ]
  },
  {
   "cell_type": "markdown",
   "metadata": {},
   "source": [
    "Existen diversos [estadísticos de tendencia central](https://en.wikipedia.org/wiki/Central_tendency), siendo la [media](https://en.wikipedia.org/wiki/Arithmetic_mean) el más popular de ellos a pesar de no ser un estadístico robusto. La medidas de ubicación robusta más popular es la [mediana](https://en.wikipedia.org/wiki/Median). La <a href=https://en.wikipedia.org/wiki/Mode_(statistics)>moda</a> es el único estadístico de tendencia central para datos nominales, pero es difícil de estimar correctamente para variables continuos."
   ]
  },
  {
   "cell_type": "code",
   "execution_count": 16,
   "metadata": {
    "collapsed": false
   },
   "outputs": [
    {
     "name": "stdout",
     "output_type": "stream",
     "text": [
      "SepalLength\n",
      "  Media   : 5.843333333333334\n",
      "  Mediana : 5.8\n",
      "  Moda    : 5.0\n",
      "SepalWidth\n",
      "  Media   : 3.0573333333333332\n",
      "  Mediana : 3.0\n",
      "  Moda    : 3.0\n",
      "PetalLength\n",
      "  Media   : 3.7580000000000005\n",
      "  Mediana : 4.35\n",
      "  Moda    : 1.4\n",
      "PetalWidth\n",
      "  Media   : 1.1993333333333331\n",
      "  Mediana : 1.3\n",
      "  Moda    : 0.2\n",
      "Species\n",
      "  Moda    : setosa\n"
     ]
    }
   ],
   "source": [
    "for (nombre, valores) in eachcol(iris)\n",
    "    println(nombre)\n",
    "    \n",
    "    if eltype(valores) <: Real\n",
    "        println(\"  Media   : \", mean(valores))\n",
    "        println(\"  Mediana : \", median(valores))\n",
    "        println(\"  Moda    : \", mode(valores))\n",
    "    else\n",
    "        println(\"  Moda    : \", mode(valores))\n",
    "    end \n",
    "    \n",
    "end"
   ]
  },
  {
   "cell_type": "markdown",
   "metadata": {},
   "source": [
    "#### Estadísticos de dispersión"
   ]
  },
  {
   "cell_type": "markdown",
   "metadata": {},
   "source": [
    "De los [estadísticos de dispersión](https://en.wikipedia.org/wiki/Statistical_dispersion), la [desviación estándar](https://en.wikipedia.org/wiki/Standard_deviation) es el más popular acompañando a la media. No debe confundirse con el [error estadístico o estándar](https://en.wikipedia.org/wiki/Standard_error), que en realidad habla de la dispersión de las medias muestrales, y no de la variable de interés. La desviación estándar no es un estimador robusto. Alternativas más robustas son el [rango entre cuartiles](https://en.wikipedia.org/wiki/Interquartile_range) y la [*Median Absolute Deviation*](https://en.wikipedia.org/wiki/Median_absolute_deviation) (*MAD*)."
   ]
  },
  {
   "cell_type": "code",
   "execution_count": 129,
   "metadata": {
    "collapsed": false
   },
   "outputs": [
    {
     "name": "stdout",
     "output_type": "stream",
     "text": [
      "SepalLength\n",
      "  Varianza                  : 0.6856935123042507\n",
      "  Desviación estándar       : 0.828066127977863\n",
      "  Rango intercuartílico     : 1.3000000000000007\n",
      "  Median Absolute Deviation : 1.0378200000000002\n",
      "SepalWidth\n",
      "  Varianza                  : 0.18997941834451898\n",
      "  Desviación estándar       : 0.4358662849366982\n",
      "  Rango intercuartílico     : 0.5\n",
      "  Median Absolute Deviation : 0.44477999999999973\n",
      "PetalLength\n",
      "  Varianza                  : 3.116277852348993\n",
      "  Desviación estándar       : 1.7652982332594662\n",
      "  Rango intercuartílico     : 3.4999999999999996\n",
      "  Median Absolute Deviation : 1.8532499999999998\n",
      "PetalWidth\n",
      "  Varianza                  : 0.5810062639821029\n",
      "  Desviación estándar       : 0.7622376689603465\n",
      "  Rango intercuartílico     : 1.5\n",
      "  Median Absolute Deviation : 1.03782\n"
     ]
    }
   ],
   "source": [
    "for (nombre, valores) in eachcol(iris)\n",
    "    if eltype(valores) <: Real\n",
    "        \n",
    "        println(nombre)\n",
    "        \n",
    "        println(\"  Varianza                  : \", var(valores))\n",
    "        println(\"  Desviación estándar       : \", std(valores))\n",
    "        println(\"  Rango intercuartílico     : \", iqr(valores))\n",
    "        println(\"  Median Absolute Deviation : \", mad(valores))\n",
    "        \n",
    "    end\n",
    "end"
   ]
  },
  {
   "cell_type": "markdown",
   "metadata": {},
   "source": [
    "#### Estadísticos de forma"
   ]
  },
  {
   "cell_type": "markdown",
   "metadata": {},
   "source": [
    "Las dos medidas de forma de la distribución principales son el [*Skewness*](https://en.wikipedia.org/wiki/Skewness) o *asimetría* y la [curtosis](https://en.wikipedia.org/wiki/Kurtosis) (*Kurtosis*) que habla de la concentración de datos cerca de la media."
   ]
  },
  {
   "cell_type": "code",
   "execution_count": 18,
   "metadata": {
    "collapsed": false
   },
   "outputs": [
    {
     "name": "stdout",
     "output_type": "stream",
     "text": [
      "SepalLength\n",
      "  Skewness : 0.31175305850229645\n",
      "  Kurtosis : -0.573567948924977\n",
      "SepalWidth\n",
      "  Skewness : 0.31576710633893856\n",
      "  Kurtosis : 0.18097631752246546\n",
      "PetalLength\n",
      "  Skewness : -0.27212766645672154\n",
      "  Kurtosis : -1.3955358863990097\n",
      "PetalWidth\n",
      "  Skewness : -0.10193420656559918\n",
      "  Kurtosis : -1.3360674052315484\n"
     ]
    }
   ],
   "source": [
    "for (nombre, valores) in eachcol(iris)\n",
    "    if eltype(valores) <: Real\n",
    "        \n",
    "        println(nombre)\n",
    "        \n",
    "        println(\"  Skewness : \", skewness(valores))\n",
    "        println(\"  Kurtosis : \", kurtosis(valores))\n",
    "        \n",
    "    end\n",
    "end"
   ]
  },
  {
   "cell_type": "markdown",
   "metadata": {},
   "source": [
    "### Descripción gráfica"
   ]
  },
  {
   "cell_type": "code",
   "execution_count": 62,
   "metadata": {
    "collapsed": false
   },
   "outputs": [
    {
     "data": {
      "text/plain": [
       "Plots.PlotlyBackend()"
      ]
     },
     "execution_count": 62,
     "metadata": {},
     "output_type": "execute_result"
    }
   ],
   "source": [
    "using Plots\n",
    "plotly(size=(600,300))"
   ]
  },
  {
   "cell_type": "code",
   "execution_count": 63,
   "metadata": {
    "collapsed": false
   },
   "outputs": [
    {
     "data": {
      "text/plain": [
       "4-element Array{Symbol,1}:\n",
       " :SepalLength\n",
       " :SepalWidth \n",
       " :PetalLength\n",
       " :PetalWidth "
      ]
     },
     "execution_count": 63,
     "metadata": {},
     "output_type": "execute_result"
    }
   ],
   "source": [
    "columnas = [:SepalLength, :SepalWidth, :PetalLength, :PetalWidth]"
   ]
  },
  {
   "cell_type": "markdown",
   "metadata": {},
   "source": [
    "Los **[Histogramas](https://en.wikipedia.org/wiki/Histogram)** permiten tener una visión de cómo sería la forma de una distribución de densidad para una variable aleatoria continua. Se construyen dividiendo la variable en grupos (*bins*) y contando el número de observaciones dentro de cada uno (representada por la altura de la barra).\n",
    "El siguiente paso de complejidad que podríamos dar para tener una mejor estimación de la función de densidad de probabilidad, es utilizar *[Averaged Shifted Histograms](https://github.com/joshday/AverageShiftedHistograms.jl)* (*ASH*) o el estimador por núcleo (*KDE* por **[Kernel Density Estimator](https://en.wikipedia.org/wiki/Kernel_density_estimation)**). En Julia, si la biblioteca [KernelDensity](https://github.com/JuliaStats/KernelDensity.jl) está instalada, *Plots* la utilizará en su función `density`. *R* también posee una función *density* que puede observarse usado `plot(density(...`.  \n",
    "*KDE* tiene dos parámetros importantes, uno es la función *kernel* a utilizar que deber ser una distribución de probabilidad, por defecto se utiliza la distribución *Normal*. El otro parámetro es el ancho de banda a utilizar.\n"
   ]
  },
  {
   "cell_type": "code",
   "execution_count": 72,
   "metadata": {
    "collapsed": false
   },
   "outputs": [
    {
     "data": {
      "text/html": [
       "<script src=\"/home/dzea/.julia/v0.4/Plots/deps/plotly-latest.min.js\"></script>    <div id=\"8e0ea948-33fa-408c-a723-aeab2febd5ce\" style=\"width:600px;height:300px;\"></div>\n",
       "    <script>\n",
       "    PLOT = document.getElementById('8e0ea948-33fa-408c-a723-aeab2febd5ce');\n",
       "    Plotly.plot(PLOT, [{\"yaxis\":\"y\",\"y\":[4.0,1.0,4.0,2.0,11.0,10.0,9.0,4.0,1.0,13.0,6.0,8.0,7.0,3.0,12.0,4.0,9.0,7.0,5.0,10.0,3.0,4.0,1.0,1.0,4.0,1.0,0.0,1.0,4.0,1.0],\"showlegend\":true,\"name\":\"SepalLength\",\"type\":\"bar\",\"xaxis\":\"x\",\"orientation\":\"v\",\"x\":[4.3,4.42,4.54,4.66,4.78,4.9,5.02,5.14,5.26,5.38,5.5,5.62,5.74,5.86,5.98,6.1,6.22,6.34,6.46,6.58,6.7,6.82,6.94,7.06,7.18,7.3,7.42,7.54,7.66,7.78,7.9]},{\"yaxis\":\"y\",\"y\":[1.0,0.0,3.0,4.0,3.0,0.0,8.0,5.0,9.0,14.0,0.0,10.0,26.0,11.0,13.0,0.0,6.0,12.0,6.0,4.0,0.0,3.0,6.0,2.0,1.0,0.0,1.0,1.0,0.0,1.0],\"showlegend\":true,\"name\":\"SepalWidth\",\"type\":\"bar\",\"xaxis\":\"x\",\"orientation\":\"v\",\"x\":[2.0,2.08,2.16,2.24,2.32,2.4,2.48,2.56,2.64,2.72,2.8,2.88,2.96,3.04,3.12,3.2,3.28,3.36,3.44,3.52,3.6,3.68,3.76,3.84,3.92,4.0,4.08,4.16,4.24,4.32,4.4]},{\"yaxis\":\"y\",\"y\":[2.0,9.0,26.0,11.0,2.0,0.0,0.0,0.0,0.0,0.0,1.0,2.0,2.0,2.0,4.0,8.0,6.0,12.0,8.0,9.0,12.0,4.0,5.0,9.0,5.0,5.0,1.0,1.0,3.0,1.0],\"showlegend\":true,\"name\":\"PetalLength\",\"type\":\"bar\",\"xaxis\":\"x\",\"orientation\":\"v\",\"x\":[1.0,1.1966666666666668,1.3933333333333333,1.59,1.7866666666666666,1.9833333333333334,2.18,2.3766666666666665,2.5733333333333333,2.77,2.966666666666667,3.1633333333333336,3.36,3.5566666666666666,3.7533333333333334,3.95,4.1466666666666665,4.343333333333334,4.54,4.736666666666666,4.933333333333334,5.13,5.326666666666667,5.523333333333333,5.72,5.916666666666667,6.113333333333333,6.31,6.506666666666667,6.703333333333333,6.9]},{\"yaxis\":\"y\",\"y\":[5.0,29.0,7.0,7.0,1.0,0.0,1.0,0.0,0.0,0.0,0.0,7.0,3.0,5.0,13.0,0.0,8.0,12.0,4.0,2.0,0.0,12.0,5.0,6.0,6.0,0.0,3.0,8.0,3.0,3.0],\"showlegend\":true,\"name\":\"PetalWidth\",\"type\":\"bar\",\"xaxis\":\"x\",\"orientation\":\"v\",\"x\":[0.1,0.18,0.26,0.34,0.42,0.5,0.58,0.66,0.74,0.82,0.9,0.98,1.06,1.14,1.22,1.3,1.38,1.46,1.54,1.62,1.7,1.78,1.86,1.94,2.02,2.1,2.18,2.26,2.34,2.42,2.5]},{\"yaxis\":\"y2\",\"showlegend\":true,\"type\":\"scatter\",\"xaxis\":\"x2\",\"name\":\"SepalLength\",\"fillcolor\":\"rgba(0, 154, 250, 0.500)\",\"y\":[8.208687982822482e-6,1.0424506940722722e-5,1.4534903476075556e-5,2.1144447070184925e-5,3.117680152389113e-5,4.595882439001997e-5,6.733181251565412e-5,9.77922453832747e-5,0.00014066384528724996,0.00020030169234892982,0.0002823274187442126,0.0003938921150360941,0.0005439605270976467,0.0007436065014205018,0.001006305646662069,0.0013482071286662922,0.0017883628241935768,0.002348889237865386,0.0030550362066377157,0.0039351370451429,0.005020417916567475,0.006344650177803004,0.007943638323197399,0.009854547687286788,0.012115089629987131,0.014762596489522774,0.017833032764632134,0.02136000113482991,0.02537381029598749,0.02990067452112341,0.03496211101451622,0.040574589717424364,0.04674947119340205,0.05349324239435652,0.06080802923270972,0.06869233157283401,0.0771418938127806,0.08615059637950787,0.09571123398936376,0.1058160388583439,0.11645681383449975,0.12762456315229093,0.13930854718185776,0.1514947404977781,0.16416373643345256,0.17728821102977957,0.19083012863662313,0.2047379332493628,0.21894401659892815,0.23336277919163176,0.2478895983073302,0.26240098382024446,0.2767561376852566,0.29080003824683354,0.3043680517168659,0.31729193894784224,0.32940698736546187,0.34055986873495214,0.3506167169578815,0.3594708490563099,0.36704952720510065,0.3733191866227961,0.37828863494683945,0.3820098595430736,0.3845762507072497,0.3861182467803077,0.38679661417672356,0.3867937718411065,0.38630373667096624,0.3855213873996814,0.38463180708954087,0.38380046224863984,0.38316490964477873,0.38282859658751633,0.3828571489115023,0.3832773395153575,0.38407871790116077,0.3852176768964294,0.38662355418331745,0.388206227672415,0.3898645749098639,0.391495132251889,0.3930003089984651,0.39429557993643216,0.3953151879784551,0.3960160254325137,0.3963795152511324,0.3964114696685214,0.3961400511752687,0.3956120897966877,0.39488811340391233,0.39403651910863396,0.3931273510596707,0.3922261529888369,0.3913883346238404,0.3906544334000344,0.3900465720189032,0.38956631466120806,0.3891940171314898,0.3888896563231007,0.3885950196008917,0.388237042101853,0.38773200590662577,0.38699026472812365,0.38592113480349527,0.38443759869363575,0.3824605030466347,0.37992199100297896,0.3767679893960891,0.37295966280017095,0.36847384195705907,0.3633025237725918,0.35745161495937733,0.35093914406787624,0.3437931920933389,0.33604978821770914,0.3277509861465739,0.31894328285292767,0.30967647297909956,0.3000029580305181,0.28997745963253213,0.2796570294437407,0.26910121165301354,0.25837220114385934,0.24753485171970543,0.2366564211498659,0.22580598725288434,0.21505352392114951,0.20446867938574123,0.19411934323550362,0.1840701176468118,0.1743808185025056,0.1651051231933146,0.15628945650923867,0.1479721692139875,0.14018302229913818,0.13294295064954395,0.12626404935233188,0.12014970889823046,0.11459482440545667,0.10958601837124635,0.1051018433443297,0.10111296524503305,0.09758236351994345,0.09446561435809034,0.09171134208299637,0.08926192755756752,0.08705454933543853,0.08502260431719563,0.08309751325600466,0.08121086800772581,0.07929682851093592,0.07729463489957654,0.07515106991878476,0.07282269334800559,0.07027767564834767,0.06749708229248766,0.06447550058271977,0.06122095264101524,0.057754095805562324,0.05410676855762269,0.050319990346951005,0.04644156237331561,0.04252344020797441,0.03861905667388707,0.034780765108083526,0.03105755112307149,0.0274931286275001,0.024124497239296848,0.02098099757791907,0.018083862181226484,0.015446226167747296,0.013073535507929801,0.010964273075208598,0.009110913705582223,0.007501018630644288,0.0061183855548064695,0.004944181628703852,0.003958000792573344,0.0031388026599193618,0.0024657057445855914,0.0019186221919747482,0.0014787334164743538,0.0011288156965776697,0.0008534316862791247,0.0006390080776844264,0.00047382159606870647,0.0003479155416308011,0.0002529676796763436,0.00018212788856804884,0.00012984102730255077,9.166734120499731e-5,6.410966655747696e-5,4.4453925130170105e-5,3.06270459739455e-5,2.1074579703519446e-5,1.4658894820733792e-5,1.0577944312437638e-5,8.304116752377855e-6,7.54257711741424e-6],\"line\":{\"width\":1,\"dash\":\"solid\",\"color\":\"rgba(0, 0, 0, 0.502)\",\"shape\":\"linear\"},\"fill\":\"tozeroy\",\"mode\":\"lines\",\"x\":[3.205667570899549,3.234756339031212,3.2638451071628745,3.2929338752945374,3.3220226434262004,3.3511114115578633,3.380200179689526,3.4092889478211887,3.4383777159528517,3.4674664840845146,3.496555252216177,3.52564402034784,3.554732788479503,3.5838215566111655,3.6129103247428285,3.6419990928744914,3.6710878610061544,3.700176629137817,3.72926539726948,3.7583541654011428,3.7874429335328053,3.816531701664468,3.845620469796131,3.874709237927794,3.903798006059457,3.9328867741911195,3.9619755423227825,3.991064310454445,4.020153078586108,4.049241846717771,4.078330614849434,4.107419382981097,4.13650815111276,4.165596919244422,4.194685687376085,4.223774455507748,4.252863223639411,4.2819519917710736,4.3110407599027365,4.340129528034399,4.369218296166062,4.398307064297725,4.427395832429387,4.45648460056105,4.485573368692713,4.514662136824376,4.543750904956039,4.572839673087701,4.601928441219364,4.631017209351027,4.66010597748269,4.689194745614353,4.718283513746016,4.747372281877679,4.776461050009342,4.805549818141005,4.834638586272667,4.86372735440433,4.892816122535993,4.921904890667656,4.950993658799319,4.980082426930982,5.009171195062644,5.038259963194307,5.0673487313259695,5.0964374994576325,5.125526267589295,5.154615035720958,5.183703803852621,5.212792571984284,5.241881340115947,5.27097010824761,5.300058876379272,5.329147644510935,5.358236412642598,5.38732518077426,5.416413948905923,5.445502717037586,5.474591485169249,5.503680253300912,5.532769021432575,5.561857789564238,5.590946557695901,5.620035325827564,5.649124093959227,5.67821286209089,5.707301630222552,5.736390398354215,5.7654791664858775,5.7945679346175405,5.8236567027492026,5.8527454708808655,5.881834239012528,5.910923007144191,5.940011775275854,5.969100543407517,5.99818931153918,6.027278079670843,6.056366847802506,6.085455615934169,6.114544384065832,6.143633152197494,6.172721920329157,6.20181068846082,6.230899456592483,6.259988224724145,6.289076992855808,6.318165760987471,6.347254529119134,6.376343297250797,6.40543206538246,6.434520833514123,6.463609601645786,6.4926983697774485,6.5217871379091115,6.550875906040774,6.5799646741724365,6.609053442304099,6.638142210435762,6.667230978567424,6.696319746699087,6.72540851483075,6.754497282962413,6.783586051094076,6.812674819225739,6.841763587357402,6.870852355489065,6.899941123620728,6.929029891752391,6.958118659884054,6.987207428015716,7.016296196147379,7.045384964279042,7.074473732410705,7.103562500542367,7.13265126867403,7.161740036805693,7.190828804937356,7.219917573069019,7.2490063412006815,7.2780951093323445,7.307183877464007,7.33627264559567,7.365361413727332,7.394450181858995,7.423538949990658,7.452627718122321,7.481716486253984,7.510805254385647,7.53989402251731,7.568982790648972,7.598071558780635,7.627160326912298,7.656249095043961,7.685337863175624,7.714426631307287,7.74351539943895,7.772604167570613,7.801692935702275,7.830781703833938,7.859870471965601,7.888959240097264,7.918048008228927,7.94713677636059,7.9762255444922525,8.005314312623915,8.034403080755578,8.06349184888724,8.092580617018903,8.121669385150566,8.15075815328223,8.179846921413892,8.208935689545555,8.238024457677216,8.267113225808881,8.296201993940542,8.325290762072207,8.354379530203868,8.383468298335533,8.412557066467194,8.441645834598857,8.47073460273052,8.499823370862183,8.528912138993846,8.558000907125509,8.587089675257172,8.616178443388835,8.645267211520498,8.674355979652159,8.703444747783823,8.732533515915485,8.76162228404715,8.79071105217881,8.819799820310475,8.848888588442136,8.8779773565738,8.907066124705462,8.936154892837125,8.965243660968788,8.994332429100451]},{\"yaxis\":\"y2\",\"showlegend\":true,\"type\":\"scatter\",\"xaxis\":\"x2\",\"name\":\"SepalWidth\",\"fillcolor\":\"rgba(227, 111, 71, 0.500)\",\"y\":[1.1415350846419869e-5,1.4830058486801079e-5,2.239504117866886e-5,3.567566947605627e-5,5.723966177068718e-5,9.091456880582882e-5,0.00014211536636317136,0.00021822111915057008,0.00032896664933375065,0.0004867999604863371,0.0007071414061489279,0.001008470183300716,0.0014121626121662346,0.0019420199647842652,0.0026234553623142353,0.0034823608007735806,0.004543743675743901,0.0058302987622954735,0.007361152372583782,0.009151062065868895,0.01121035843889734,0.01354585927257375,0.016162863468353397,0.01906814895998034,0.022273677251483985,0.025800484609483955,0.029682063533299632,0.03396645656261011,0.03871633654524301,0.044006551048382275,0.04991895249999093,0.056534777151455114,0.06392530520841205,0.07214194587215067,0.08120715941878176,0.09110768683440189,0.10179137229472854,0.11316844378385577,0.12511751463069395,0.13749587176042363,0.1501529344897159,0.16294521340837811,0.1757507695559545,0.18848113572800532,0.20108893810154754,0.21357002395324315,0.22595969044325592,0.2383235116365056,0.25074414119305927,0.2633061828534611,0.27608163905852884,0.2891184745182772,0.30243442765858214,0.3160174011631724,0.32983267050946913,0.3438359376869856,0.3579901360781421,0.3722830735501724,0.386742656233618,0.4014466601313821,0.41652480478125226,0.4321521190993232,0.4485340705420948,0.4658853963837147,0.48440576395821366,0.5042560699421972,0.5255392240951514,0.5482886156426074,0.5724662120229327,0.5979705766278923,0.6246532799716614,0.6523405241078729,0.6808556061903059,0.7100373659557774,0.7397501492807509,0.7698820974277746,0.8003306040941996,0.8309762786061576,0.8616492958743475,0.8920941190738265,0.9219397880381547,0.9506829337972351,0.9776892754872725,1.0022167131714828,1.02345965039085,1.0406104744294442,1.0529308961110935,1.0598237569361697,1.0608954008596283,1.0559999208565094,1.0452593125037626,1.0290572697415497,1.0080083142398488,0.9829073963446651,0.9546674155405809,0.9242529277679173,0.8926176225615341,0.8606512758627011,0.8291393556856445,0.7987359041804922,0.7699482966148053,0.7431313423218207,0.7184880348111926,0.6960749060382676,0.6758110306639314,0.6574908213546314,0.6408014658178871,0.6253459405861866,0.6106719594475195,0.5963061385589699,0.581791389853439,0.5667244445774503,0.5507897687612185,0.5337861472136262,0.5156429035408964,0.4964239534315514,0.47631940601224204,0.455625937736952,0.4347183976793852,0.4140158812773517,0.39394576674181847,0.37490899332571026,0.35724930570463465,0.3412284631526444,0.327008674088291,0.31464287569963034,0.304072978725055,0.2951358215740051,0.28757626889133114,0.28106658238703836,0.27523084355144284,0.2696728186580025,0.2640052734268764,0.2578784506355642,0.2510053128972157,0.24318130087469095,0.23429679670078066,0.2243411871403292,0.21339830673903593,0.20163398091561868,0.1892772394988593,0.17659740345944602,0.1638795728490305,0.15140103019046444,0.13941074809508963,0.12811362910315427,0.11766041540270099,0.10814349785780096,0.0995982239742973,0.0920088193882884,0.08531772789958245,0.07943703907132857,0.07426068463629963,0.06967620854673674,0.0655751131947928,0.06186102590358063,0.05845519481959903,0.055299099398753084,0.05235423861281447,0.04959942851421605,0.04702618263068331,0.04463294002144709,0.04241901957892788,0.04037919112771118,0.038499650461823194,0.0367559702461484,0.03511329570447371,0.033528706137013524,0.0319553257723509,0.030347497368204943,0.028666176471034924,0.02688369015323845,0.02498713173302072,0.0229799060462979,0.020881250815591255,0.018723880303668387,0.016550171052482163,0.01440749231005702,0.012343352685915701,0.010400990024043022,0.008615894666778968,0.007013562562125522,0.005608564689034363,0.004404830281577663,0.003396900527103268,0.002571830529987711,0.0019114005940345713,0.001394332704510326,0.0009982774219072788,0.0007014213312067064,0.00048364889062984417,0.000327262757940332,0.00021731677241380255,0.00014164426527784712,9.067372976273802e-5,5.711888744356131e-5,3.561638381922805e-5,2.2366838896896725e-5,1.4817710529619888e-5,1.1411899625475287e-5],\"line\":{\"width\":1,\"dash\":\"solid\",\"color\":\"rgba(0, 0, 0, 0.502)\",\"shape\":\"linear\"},\"fill\":\"tozeroy\",\"mode\":\"lines\",\"x\":[1.5068835904082287,1.5238998357307592,1.5409160810532894,1.5579323263758198,1.5749485716983502,1.5919648170208807,1.6089810623434109,1.6259973076659413,1.6430135529884717,1.660029798311002,1.6770460436335324,1.6940622889560628,1.7110785342785932,1.7280947796011235,1.7451110249236539,1.7621272702461843,1.7791435155687148,1.796159760891245,1.8131760062137754,1.8301922515363058,1.847208496858836,1.8642247421813665,1.881240987503897,1.898257232826427,1.9152734781489575,1.932289723471488,1.9493059687940184,1.9663222141165488,1.983338459439079,2.0003547047616093,2.01737095008414,2.03438719540667,2.0514034407292003,2.068419686051731,2.085435931374261,2.102452176696792,2.119468422019322,2.1364846673418523,2.153500912664383,2.170517157986913,2.187533403309444,2.204549648631974,2.221565893954504,2.2385821392770344,2.255598384599565,2.2726146299220953,2.289630875244626,2.306647120567156,2.3236633658896864,2.3406796112122166,2.3576958565347472,2.3747121018572774,2.391728347179808,2.4087445925023383,2.4257608378248685,2.442777083147399,2.4597933284699294,2.47680957379246,2.4938258191149902,2.5108420644375204,2.5278583097600507,2.5448745550825813,2.561890800405112,2.578907045727642,2.5959232910501724,2.6129395363727026,2.629955781695233,2.6469720270177635,2.663988272340294,2.6810045176628243,2.6980207629853545,2.7150370083078847,2.7320532536304154,2.7490694989529456,2.7660857442754763,2.7831019895980065,2.8001182349205367,2.817134480243067,2.8341507255655976,2.851166970888128,2.8681832162106584,2.8851994615331886,2.902215706855719,2.9192319521782495,2.9362481975007797,2.9532644428233104,2.9702806881458406,2.9872969334683708,3.004313178790901,3.0213294241134316,3.0383456694359623,3.0553619147584925,3.0723781600810227,3.089394405403553,3.1064106507260836,3.123426896048614,3.1404431413711444,3.1574593866936747,3.174475632016205,3.191491877338735,3.2085081226612657,3.2255243679837964,3.2425406133063266,3.259556858628857,3.276573103951387,3.293589349273917,3.310605594596448,3.3276218399189785,3.3446380852415087,3.361654330564039,3.378670575886569,3.3956868212091,3.41270306653163,3.4297193118541607,3.446735557176691,3.463751802499221,3.4807680478217513,3.497784293144282,3.514800538466812,3.531816783789343,3.548833029111873,3.5658492744344032,3.582865519756934,3.599881765079464,3.6168980104019948,3.633914255724525,3.650930501047055,3.667946746369586,3.684962991692116,3.7019792370146463,3.718995482337177,3.736011727659707,3.7530279729822373,3.770044218304768,3.787060463627298,3.804076708949829,3.821092954272359,3.8381091995948893,3.85512544491742,3.87214169023995,3.8891579355624804,3.906174180885011,3.923190426207541,3.9402066715300714,3.957222916852602,3.9742391621751323,3.9912554074976625,4.008271652820193,4.025287898142723,4.042304143465254,4.059320388787784,4.076336634110314,4.093352879432845,4.110369124755375,4.1273853700779055,4.144401615400437,4.161417860722967,4.178434106045497,4.195450351368027,4.2124665966905575,4.229482842013088,4.246499087335618,4.263515332658148,4.280531577980679,4.297547823303209,4.31456406862574,4.331580313948271,4.348596559270801,4.365612804593331,4.382629049915861,4.3996452952383915,4.416661540560922,4.433677785883452,4.450694031205982,4.467710276528513,4.4847265218510435,4.501742767173574,4.518759012496105,4.535775257818635,4.552791503141165,4.569807748463695,4.586823993786226,4.603840239108756,4.620856484431286,4.637872729753816,4.6548889750763465,4.671905220398878,4.688921465721408,4.705937711043939,4.722953956366469,4.739970201688999,4.7569864470115295,4.77400269233406,4.79101893765659,4.80803518297912,4.82505142830165,4.842067673624181,4.859083918946712,4.876100164269242,4.893116409591773]},{\"yaxis\":\"y2\",\"showlegend\":true,\"type\":\"scatter\",\"xaxis\":\"x2\",\"name\":\"PetalLength\",\"fillcolor\":\"rgba(62, 164, 78, 0.500)\",\"y\":[7.605628408917653e-6,9.900961417095289e-6,1.3650861530862812e-5,1.9332907657609866e-5,2.763674308418729e-5,3.952453950633483e-5,5.6309901473259314e-5,7.975839033397492e-5,0.00011221307956622795,0.00015674860540038082,0.000217356969949023,0.00029916780027875237,0.00040870477135745097,0.000554178369100331,0.0007458130168384969,0.000996203750977136,0.0013206940819671643,0.0017377624398156933,0.0022693997730129658,0.0029414556242049893,0.0037839246198477427,0.00483114016148125,0.006121837669740221,0.0076990465708579635,0.009609768949424054,0.011904404057324514,0.014635882265107656,0.017858480060742404,0.021626299654134946,0.02599141269084553,0.031001687248623774,0.03669834004353306,0.043113280564684456,0.05026633925081634,0.05816249603747313,0.06678924661048909,0.0761142593583915,0.08608348424443692,0.09661987380126912,0.10762286483904684,0.1189687465647106,0.13051200676898733,0.14208770360179146,0.15351485822273997,0.16460080615777734,0.17514638611424357,0.1849517883837037,0.1938228350403073,0.20157742497907485,0.20805185193384249,0.2131066955720687,0.21663199601161584,0.21855145071309698,0.2188254183178584,0.21745257391650577,0.21447013057309744,0.2099526179651733,0.20400928553094225,0.19678026931028314,0.18843172389812196,0.17915016957067376,0.16913633678880083,0.15859880434691456,0.1477477232479626,0.1367888971340448,0.12591845417167133,0.11531829799495319,0.1051524705646043,0.09556450176288842,0.08667576326151094,0.07858479129525707,0.07136749740472835,0.06507815010130832,0.05975098497671783,0.05540228635770889,0.0520327797207146,0.04963017960139471,0.048171751052752274,0.04762676193200023,0.04795872644254593,0.04912736550083375,0.05109023490958608,0.053803996551875316,0.057225329755477235,0.061311498833576845,0.06602060812456374,0.07131158744742885,0.07714395880395246,0.08347743960956633,0.09027143905569944,0.09748450280593499,0.1050737575534064,0.11299440147703589,0.12119927978338706,0.12963857674511747,0.13825964735571172,0.14700700328884062,0.15582245961398766,0.16464544096479689,0.17341343881577104,0.18206260537067442,0.19052846441624968,0.19874671540394212,0.2066541039960846,0.21418933031831394,0.22129396513951666,0.2279133440885366,0.23399741075353647,0.23950148105230284,0.2443869035881572,0.24862159381297094,0.252180423710149,0.25504545338071544,0.25720599632812524,0.25865851630228476,0.25940636011889334,0.25945933767210344,0.2588331670790638,0.257548809136511,0.25563172059097156,0.253111059679049,0.25001887957825425,0.24638934550931793,0.24225800907413933,0.23766116900152134,0.2326353410049159,0.22721685133017266,0.2214415593615074,0.2153447050693999,0.20896086790634372,0.20232401576547537,0.19546761651367747,0.18842478094180506,0.18122840507305749,0.1739112817149749,0.16650615574203392,0.15904570441207536,0.15156243239725845,0.14408848034894753,0.13665535485034055,0.12929359569724638,0.12203240284957956,0.11489924955657678,0.10791950975192642,0.10111612677400451,0.09450934698192327,0.08811653633041752,0.08195209103461538,0.07602744580925638,0.0703511755503291,0.06492917944312071,0.05976493092233381,0.05485977310769162,0.0502132375273192,0.04582336415004667,0.04168700281077243,0.0378000797001291,0.03415781725194778,0.03075490098535619,0.027585592119769745,0.024643789600785972,0.021923049159718603,0.019416569902518218,0.01711716054059022,0.015017197724636607,0.01310858813086135,0.011382744180417941,0.00983058081688517,0.008442537923575468,0.007208630032324095,0.00611852222826216,0.005161628809725394,0.004327229472458533,0.0036045966354967176,0.0029831270269842494,0.00245247075638245,0.002002651723082378,0.0016241742274730876,0.0013081119212915483,0.0010461766219430136,0.0008307658952044106,0.0006549895785748927,0.0005126764966541752,0.0003983634622463006,0.0003072692419836165,0.00023525649694837282,0.00017878481006952773,0.00013485781957093157,0.00010096723587098122,7.50361751772255e-5,5.536384212735612e-5,4.057317707712116e-5,2.9562685292736646e-5,2.146331215987729e-5,1.5600939918840594e-5,1.146486994465512e-5,8.68252710383377e-6,7.000581675402629e-6,6.272728891358881e-6,6.454493150984675e-6],\"line\":{\"width\":1,\"dash\":\"solid\",\"color\":\"rgba(0, 0, 0, 0.502)\",\"shape\":\"linear\"},\"fill\":\"tozeroy\",\"mode\":\"lines\",\"x\":[-1.3329333714048621,-1.2798385636520495,-1.2267437558992367,-1.173648948146424,-1.1205541403936115,-1.0674593326407986,-1.014364524887986,-0.9612697171351733,-0.9081749093823606,-0.855080101629548,-0.8019852938767352,-0.7488904861239225,-0.6957956783711099,-0.6427008706182972,-0.5896060628654844,-0.5365112551126718,-0.4834164473598591,-0.4303216396070464,-0.3772268318542338,-0.32413202410142095,-0.27103721634860833,-0.21794240859579572,-0.1648476008429829,-0.11175279309017028,-0.058657985337357665,-0.005563177584544832,0.04753163016826778,0.10062643792108039,0.15372124567389323,0.20681605342670584,0.25991086117951845,0.3130056689323313,0.3661004766851439,0.4191952844379565,0.47229009219076934,0.525384899943582,0.5784797076963946,0.6315745154492074,0.6846693232020202,0.7377641309548326,0.7908589387076455,0.8439537464604583,0.8970485542132707,0.9501433619660835,1.0032381697188963,1.0563329774717087,1.1094277852245216,1.1625225929773344,1.2156174007301468,1.2687122084829596,1.3218070162357725,1.3749018239885848,1.4279966317413977,1.4810914394942105,1.534186247247023,1.5872810549998357,1.6403758627526486,1.693470670505461,1.7465654782582738,1.7996602860110866,1.852755093763899,1.9058499015167119,1.9589447092695247,2.012039517022337,2.06513432477515,2.1182291325279627,2.171323940280775,2.224418748033588,2.277513555786401,2.330608363539213,2.383703171292026,2.436797979044839,2.4898927867976512,2.542987594550464,2.596082402303277,2.6491772100560893,2.7022720178089026,2.7553668255617145,2.8084616333145274,2.86155644106734,2.914651248820153,2.967746056572966,3.0208408643257787,3.0739356720785906,3.1270304798314035,3.1801252875842163,3.233220095337029,3.286314903089842,3.339409710842655,3.3925045185954668,3.4455993263482796,3.4986941341010924,3.5517889418539053,3.604883749606718,3.657978557359531,3.711073365112343,3.7641681728651557,3.8172629806179685,3.8703577883707814,3.923452596123594,3.976547403876407,4.029642211629219,4.082737019382032,4.135831827134845,4.1889266348876575,4.24202144264047,4.295116250393283,4.348211058146095,4.401305865898908,4.454400673651721,4.507495481404534,4.560590289157346,4.613685096910159,4.666779904662971,4.719874712415784,4.772969520168597,4.82606432792141,4.8791591356742225,4.932253943427035,4.985348751179847,5.03844355893266,5.091538366685473,5.144633174438286,5.197727982191099,5.2508227899439115,5.303917597696723,5.357012405449536,5.410107213202349,5.463202020955162,5.516296828707975,5.569391636460788,5.6224864442136,5.675581251966412,5.728676059719225,5.781770867472038,5.834865675224851,5.887960482977664,5.941055290730477,5.9941500984832885,6.047244906236101,6.100339713988914,6.153434521741727,6.20652932949454,6.259624137247353,6.312718945000165,6.3658137527529775,6.41890856050579,6.472003368258603,6.525098176011416,6.578192983764229,6.631287791517041,6.684382599269854,6.737477407022667,6.790572214775479,6.843667022528291,6.896761830281105,6.949856638033917,7.002951445786731,7.0560462535395425,7.1091410612923545,7.162235869045168,7.21533067679798,7.268425484550794,7.321520292303606,7.3746151000564195,7.4277099078092315,7.480804715562043,7.533899523314857,7.586994331067669,7.640089138820483,7.693183946573295,7.746278754326107,7.79937356207892,7.852468369831732,7.905563177584546,7.958657985337358,8.01175279309017,8.064847600842985,8.117942408595795,8.171037216348608,8.224132024101422,8.277226831854236,8.330321639607046,8.38341644735986,8.436511255112674,8.489606062865484,8.542700870618297,8.595795678371111,8.648890486123925,8.701985293876735,8.755080101629549,8.808174909382362,8.861269717135173,8.914364524887986,8.9674593326408,9.020554140393614,9.073648948146424,9.126743755899238,9.179838563652051,9.232933371404862]},{\"yaxis\":\"y2\",\"showlegend\":true,\"type\":\"scatter\",\"xaxis\":\"x2\",\"name\":\"PetalWidth\",\"fillcolor\":\"rgba(195, 113, 210, 0.500)\",\"y\":[4.787611754050403e-5,6.195503534961233e-5,8.391128431686213e-5,0.00011609121382672783,0.00016177068337711376,0.00022537850001810966,0.0003127766139664345,0.00043160244130831417,0.000591677827567274,0.0008054875328141975,0.001088727545563666,0.0014609198747135334,0.0019460856196368327,0.002573462032417604,0.003378242003984713,0.0044023060813578145,0.005694908047383632,0.007313265713943795,0.009322999506163575,0.011798353420278606,0.014822126931419497,0.018485243415604997,0.022885881671043117,0.028128103163652322,0.034319919512730813,0.04157076303995691,0.049988348111192064,0.0596749422009204,0.07072310222838153,0.08321097226130174,0.09719728105400025,0.11271621942851569,0.12977241514501509,0.14833625333434028,0.16833981048844973,0.18967367643016808,0.21218492921916557,0.23567650109412427,0.2599081289373374,0.2845990213253496,0.30943229833191094,0.3340611735530642,0.3581167551731045,0.3812172500019196,0.4029782674783003,0.4230238458358132,0.44099776564055904,0.4565746813986046,0.4694705931208476,0.47945219808800704,0.48634470810108144,0.4900377868032441,0.4904893509961849,0.4877270835549247,0.48184761685895233,0.47301345741520534,0.4614478274607717,0.44742769137009514,0.43127530836993017,0.41334870462223267,0.3940314851538079,0.37372240918585387,0.35282513265598925,0.3317384821176053,0.3108475688644616,0.29051598589303573,0.2710792582817681,0.25283964468161796,0.2360623183028001,0.22097289367505427,0.2077562132053675,0.19655626676874974,0.18747708885042144,0.18058446083328988,0.17590823991157697,0.17344513933958247,0.17316179555271297,0.17499797431211953,0.17886978869599643,0.18467282495376103,0.19228509666295143,0.20156977223897243,0.21237764481095542,0.2245493361073387,0.23791724668600073,0.25230728300908345,0.2675404068978726,0.28343406418143957,0.2998035562540386,0.3164634202276729,0.3332288800057666,0.3499174217533274,0.36635053307135684,0.3823556262687622,0.39776814346186895,0.41243381623211073,0.42621102699947166,0.43897319512503613,0.4506110901308775,0.46103495931945565,0.4701763492091267,0.47798950084135094,0.48445220881549844,0.48956605281444526,0.4933559375888089,0.4958689113278663,0.49717227087877547,0.49735100271529364,0.49650464795644894,0.49474371510958565,0.49218579278999053,0.4889515341363055,0.485160693347465,0.4809283918831331,0.476361777471022,0.4715572141385462,0.46659810785853006,0.4615534325837324,0.456476978435679,0.4514073008273575,0.44636830950647877,0.4413704027614185,0.4364120266404439,0.4314815235673937,0.42655912991592515,0.4216189877662626,0.4166310512061969,0.411562790416925,0.40638062511695255,0.4010510501012709,0.39554144688837223,0.38982060429179916,0.38385899483227093,0.37762887158676556,0.3711042602536493,0.3642609235101045,0.357076369445539,0.3495299638874285,0.3416031892160029,0.3332800715722844,0.32454777617240554,0.3153973487405819,0.305824561709908,0.2958308083756228,0.28542397778758277,0.27461923854178,0.263439660986957,0.2519166144331813,0.24008988803400683,0.22800750005864615,0.21572517896920562,0.20330551962589063,0.1908168375941017,0.17833176254497815,0.1659256269349408,0.1536747175924217,0.14165446491726816,0.12993764683427167,0.11859268249612244,0.10768208436984585,0.09726112739121494,0.08737678115683478,0.07806693659028617,0.06935994316163621,0.06127445752893859,0.05381959028729263,0.04699532509591311,0.040793174368911486,0.03519702832498961,0.03018414965597682,0.025726264362559675,0.021790700216474813,0.018341527503294593,0.015340661740915697,0.012748894459483157,0.010526825353190451,0.008635676674590816,0.007037978186086083,0.005698117929217439,0.004582760222832398,0.003661137449997689,0.002905226225246821,0.002289821417056004,0.0017925232766095567,0.0013936536923039578,0.0010761174913715933,0.0008252239126465355,0.0006284820557847848,0.0004753824479775482,0.00035717502271626956,0.0002666519199646356,0.00019794171237483393,0.00014632003089246837,0.00010804017230937823,8.018616406191059e-5,6.0549959757985054e-5,4.7533946697501107e-5,4.007975358615246e-5,3.762443042735208e-5,4.008540078874967e-5],\"line\":{\"width\":1,\"dash\":\"solid\",\"color\":\"rgba(0, 0, 0, 0.502)\",\"shape\":\"linear\"},\"fill\":\"tozeroy\",\"mode\":\"lines\",\"x\":[-0.9073366988965171,-0.8851524104653964,-0.8629681220342755,-0.8407838336031548,-0.818599545172034,-0.7964152567409133,-0.7742309683097924,-0.7520466798786717,-0.7298623914475509,-0.7076781030164301,-0.6854938145853093,-0.6633095261541886,-0.6411252377230678,-0.6189409492919471,-0.5967566608608262,-0.5745723724297055,-0.5523880839985846,-0.5302037955674639,-0.5080195071363431,-0.48583521870522234,-0.4636509302741016,-0.4414666418429808,-0.41928235341186004,-0.3970980649807393,-0.37491377654961844,-0.3527294881184977,-0.33054519968737694,-0.3083609112562561,-0.28617662282513534,-0.2639923343940146,-0.24180804596289385,-0.219623757531773,-0.19743946910065224,-0.1752551806695315,-0.15307089223841064,-0.1308866038072899,-0.10870231537616915,-0.0865180269450484,-0.06433373851392754,-0.042149450082806794,-0.019965161651686048,0.00221912677943481,0.024403415210555557,0.046587703641676304,0.06877199207279705,0.09095628050391791,0.11314056893503854,0.1353248573661595,0.15750914579728026,0.179693434228401,0.20187772265952175,0.2240620110906425,0.24624629952176325,0.268430587952884,0.29061487638400496,0.3127991648151257,0.33498345324624645,0.3571677416773672,0.37935203010848795,0.4015363185396087,0.42372060697072944,0.4459048954018504,0.46808918383297116,0.4902734722640919,0.5124577606952126,0.5346420491263334,0.5568263375574541,0.5790106259885749,0.6011949144196959,0.6233792028508166,0.6455634912819374,0.6677477797130581,0.6899320681441788,0.7121163565752996,0.7343006450064203,0.7564849334375413,0.778669221868662,0.8008535102997828,0.8230377987309035,0.8452220871620243,0.867406375593145,0.8895906640242658,0.9117749524553868,0.9339592408865075,0.9561435293176282,0.978327817748749,1.0005121061798699,1.0226963946109904,1.0448806830421113,1.0670649714732323,1.0892492599043528,1.1114335483354738,1.1336178367665943,1.1558021251977153,1.1779864136288363,1.2001707020599568,1.2223549904910778,1.2445392789221983,1.2667235673533193,1.2889078557844398,1.3110921442155608,1.3332764326466817,1.3554607210778022,1.3776450095089232,1.3998292979400437,1.4220135863711647,1.4441978748022852,1.4663821632334062,1.4885664516645272,1.5107507400956477,1.5329350285267687,1.5551193169578892,1.5773036053890102,1.5994878938201307,1.6216721822512516,1.6438564706823726,1.6660407591134931,1.688225047544614,1.7104093359757346,1.7325936244068556,1.7547779128379761,1.776962201269097,1.799146489700218,1.8213307781313386,1.8435150665624596,1.86569935499358,1.887883643424701,1.9100679318558216,1.9322522202869425,1.9544365087180635,1.976620797149184,1.998805085580305,2.0209893740114255,2.0431736624425465,2.065357950873667,2.087542239304788,2.109726527735909,2.1319108161670295,2.1540951045981505,2.176279393029271,2.198463681460392,2.2206479698915125,2.2428322583226334,2.2650165467537544,2.287200835184875,2.309385123615996,2.3315694120471164,2.3537537004782374,2.375937988909358,2.398122277340479,2.4203065657716,2.4424908542027204,2.4646751426338414,2.486859431064962,2.509043719496083,2.5312280079272034,2.5534122963583243,2.5755965847894453,2.597780873220566,2.619965161651687,2.6421494500828073,2.6643337385139283,2.686518026945049,2.70870231537617,2.7308866038072908,2.7530708922384113,2.7752551806695323,2.7974394691006528,2.8196237575317737,2.8418080459628943,2.8639923343940152,2.886176622825136,2.9083609112562567,2.9305451996873777,2.9527294881184982,2.974913776549619,2.9970980649807397,3.0192823534118607,3.0414666418429817,3.063650930274102,3.085835218705223,3.1080195071363437,3.1302037955674646,3.1523880839985856,3.1745723724297057,3.1967566608608267,3.2189409492919476,3.2411252377230686,3.2633095261541896,3.2854938145853096,3.3076781030164306,3.3298623914475516,3.3520466798786726,3.3742309683097935,3.3964152567409136,3.4185995451720346,3.4407838336031555,3.4629681220342765,3.4851524104653966,3.5073366988965176]}], {\"yaxis\":{\"linecolor\":\"rgb(0, 0, 0)\",\"type\":\"-\",\"domain\":[0.09186351706036745,0.94750656167979],\"titlefont\":{\"size\":15,\"color\":\"rgb(0, 0, 0)\",\"family\":\"Helvetica\"},\"tickcolor\":\"rgb(0, 0, 0)\",\"title\":\"\",\"showgrid\":true,\"zeroline\":false,\"anchor\":\"x\",\"tickfont\":{\"size\":11,\"color\":\"rgb(0, 0, 0)\",\"family\":\"Helvetica\"}},\"annotations\":[],\"width\":600,\"showlegend\":true,\"legend\":{\"bgcolor\":\"rgb(255, 255, 255)\",\"font\":{\"size\":11,\"color\":\"rgb(0, 0, 0)\",\"family\":\"Helvetica\"},\"bordercolor\":\"rgb(0, 0, 0)\"},\"xaxis\":{\"linecolor\":\"rgb(0, 0, 0)\",\"type\":\"-\",\"domain\":[0.07874015748031496,0.4671916010498688],\"titlefont\":{\"size\":15,\"color\":\"rgb(0, 0, 0)\",\"family\":\"Helvetica\"},\"tickcolor\":\"rgb(0, 0, 0)\",\"title\":\"\",\"showgrid\":true,\"zeroline\":false,\"anchor\":\"y\",\"tickfont\":{\"size\":11,\"color\":\"rgb(0, 0, 0)\",\"family\":\"Helvetica\"}},\"yaxis2\":{\"linecolor\":\"rgb(0, 0, 0)\",\"type\":\"-\",\"domain\":[0.09186351706036745,0.94750656167979],\"titlefont\":{\"size\":15,\"color\":\"rgb(0, 0, 0)\",\"family\":\"Helvetica\"},\"tickcolor\":\"rgb(0, 0, 0)\",\"title\":\"\",\"showgrid\":true,\"zeroline\":false,\"anchor\":\"x2\",\"tickfont\":{\"size\":11,\"color\":\"rgb(0, 0, 0)\",\"family\":\"Helvetica\"}},\"xaxis2\":{\"linecolor\":\"rgb(0, 0, 0)\",\"type\":\"-\",\"domain\":[0.5787401574803149,0.9671916010498687],\"titlefont\":{\"size\":15,\"color\":\"rgb(0, 0, 0)\",\"family\":\"Helvetica\"},\"tickcolor\":\"rgb(0, 0, 0)\",\"title\":\"\",\"showgrid\":true,\"zeroline\":false,\"anchor\":\"y2\",\"tickfont\":{\"size\":11,\"color\":\"rgb(0, 0, 0)\",\"family\":\"Helvetica\"}},\"height\":300,\"margin\":{\"r\":0,\"l\":0,\"b\":0,\"t\":20},\"plot_bgcolor\":\"rgb(255, 255, 255)\",\"paper_bgcolor\":\"rgb(255, 255, 255)\"});\n",
       "    </script>\n"
      ]
     },
     "execution_count": 72,
     "metadata": {},
     "output_type": "execute_result"
    }
   ],
   "source": [
    "plot(\n",
    "histogram(iris, columnas', alpha=0.5, legend=true),\n",
    "density(iris, columnas', alpha=0.5, legend=true, fill=0)\n",
    ")"
   ]
  },
  {
   "cell_type": "markdown",
   "metadata": {},
   "source": [
    "Los [**Diagramas de Dispersión**](https://en.wikipedia.org/wiki/Scatter_plot) (*scatter plots*) utilizan las coordenadas cartesianas para mostrar cómo se distribuyen dos variables en un espacio bi dimensional. Es posible representar más dimensiones utilizado diferentes formas, tamaños y/o colores."
   ]
  },
  {
   "cell_type": "code",
   "execution_count": 65,
   "metadata": {
    "collapsed": false
   },
   "outputs": [
    {
     "data": {
      "text/html": [
       "<script src=\"/home/dzea/.julia/v0.4/Plots/deps/plotly-latest.min.js\"></script>    <div id=\"8952f7a9-3d84-4950-a6ef-85dbd287e4de\" style=\"width:600px;height:300px;\"></div>\n",
       "    <script>\n",
       "    PLOT = document.getElementById('8952f7a9-3d84-4950-a6ef-85dbd287e4de');\n",
       "    Plotly.plot(PLOT, [{\"yaxis\":\"y\",\"y\":[3.6,3.0,4.0,3.2,3.2,3.9,3.5,3.0,3.5,2.3,3.2,3.5,3.0,3.6,3.4,2.9,3.0,3.5,3.4,4.2,3.6,3.0,3.2,3.3,3.1,3.4,3.1,3.7,4.4,3.8,3.7,3.5,3.4,4.1,3.1,3.4,3.7,3.4,3.0,3.4,3.2,3.1,3.5,3.8,3.9,3.8,3.4,3.3,3.4,3.8],\"showlegend\":true,\"name\":\"setosa\",\"type\":\"scatter\",\"xaxis\":\"x\",\"x\":[4.6,4.3,5.8,5.0,4.7,5.4,5.5,4.4,5.0,4.5,4.4,5.1,4.9,5.0,4.6,4.4,4.8,5.1,5.2,5.5,4.9,4.8,4.6,5.0,4.6,5.0,4.9,5.4,5.7,5.1,5.1,5.2,5.4,5.2,4.9,5.1,5.3,4.8,5.0,5.0,4.7,4.8,5.0,5.1,5.4,5.7,5.4,5.1,4.8,5.1],\"mode\":\"markers\",\"marker\":{\"symbol\":\"circle\",\"opacity\":null,\"line\":{\"width\":1,\"color\":\"rgb(0, 0, 0)\"},\"size\":12,\"color\":\"rgba(0, 154, 250, 1.000)\"}},{\"yaxis\":\"y\",\"y\":[2.5,2.4,2.3,2.0,2.6,2.9,2.4,2.4,2.7,2.5,2.7,2.3,2.2,2.8,2.5,2.6,2.7,3.0,2.8,3.0,2.7,3.0,2.9,2.9,2.9,3.1,3.0,2.3,2.6,3.2,2.8,3.0,2.2,2.9,3.0,3.4,2.8,2.9,3.0,3.2,3.3,2.9,2.8,3.1,3.2,2.8,3.1,2.5,3.0,2.7],\"showlegend\":true,\"name\":\"versicolor\",\"type\":\"scatter\",\"xaxis\":\"x\",\"x\":[5.1,4.9,5.0,5.0,5.7,5.6,5.5,5.5,5.2,5.6,5.8,5.5,6.0,6.1,5.5,5.8,5.8,5.6,5.7,5.9,5.6,5.7,5.7,6.4,6.2,6.7,6.6,6.3,5.5,6.4,5.7,5.6,6.2,6.0,5.4,6.0,6.5,6.6,6.1,7.0,6.3,6.1,6.1,6.7,5.9,6.8,6.9,6.3,6.7,6.0],\"mode\":\"markers\",\"marker\":{\"symbol\":\"circle\",\"opacity\":null,\"line\":{\"width\":1,\"color\":\"rgb(0, 0, 0)\"},\"size\":12,\"color\":\"rgba(227, 111, 71, 1.000)\"}},{\"yaxis\":\"y\",\"y\":[2.5,2.8,3.0,2.8,2.7,3.0,2.5,2.2,2.5,2.7,3.2,2.8,2.8,3.1,2.7,3.0,3.0,3.0,2.7,3.2,3.1,3.4,3.0,3.0,3.1,2.9,2.8,2.8,2.6,3.4,3.1,3.2,3.3,3.3,3.0,2.5,3.0,3.0,3.2,3.3,3.2,3.6,2.8,3.0,2.9,3.8,3.0,3.8,2.8,2.6],\"showlegend\":true,\"name\":\"virginica\",\"type\":\"scatter\",\"xaxis\":\"x\",\"x\":[4.9,6.2,6.0,5.6,6.3,6.1,5.7,6.0,6.3,5.8,6.5,5.8,6.3,6.9,5.8,5.9,6.7,6.5,6.4,6.4,6.9,6.2,6.8,6.5,6.4,6.3,6.4,6.4,6.1,6.3,6.7,6.9,6.7,6.7,6.5,6.7,7.2,7.1,6.8,6.3,7.2,7.2,7.4,7.7,7.3,7.9,7.6,7.7,7.7,7.7],\"mode\":\"markers\",\"marker\":{\"symbol\":\"circle\",\"opacity\":null,\"line\":{\"width\":1,\"color\":\"rgb(0, 0, 0)\"},\"size\":12,\"color\":\"rgba(62, 164, 78, 1.000)\"}},{\"yaxis\":\"y2\",\"y\":[0.2,0.1,0.2,0.2,0.2,0.4,0.2,0.2,0.3,0.3,0.2,0.2,0.2,0.2,0.3,0.2,0.1,0.3,0.2,0.2,0.1,0.3,0.2,0.2,0.2,0.2,0.1,0.2,0.4,0.3,0.4,0.2,0.4,0.1,0.2,0.2,0.2,0.2,0.2,0.4,0.2,0.2,0.6,0.2,0.4,0.3,0.2,0.5,0.2,0.4],\"showlegend\":true,\"name\":\"setosa\",\"type\":\"scatter\",\"xaxis\":\"x2\",\"x\":[1.0,1.1,1.2,1.2,1.3,1.3,1.3,1.3,1.3,1.3,1.3,1.4,1.4,1.4,1.4,1.4,1.4,1.4,1.4,1.4,1.4,1.4,1.4,1.4,1.5,1.5,1.5,1.5,1.5,1.5,1.5,1.5,1.5,1.5,1.5,1.5,1.5,1.6,1.6,1.6,1.6,1.6,1.6,1.6,1.7,1.7,1.7,1.7,1.9,1.9],\"mode\":\"markers\",\"marker\":{\"symbol\":\"circle\",\"opacity\":null,\"line\":{\"width\":1,\"color\":\"rgb(0, 0, 0)\"},\"size\":12,\"color\":\"rgba(0, 154, 250, 1.000)\"}},{\"yaxis\":\"y2\",\"y\":[1.1,1.0,1.0,1.0,1.0,1.3,1.0,1.1,1.4,1.1,1.2,1.3,1.0,1.3,1.3,1.2,1.0,1.3,1.3,1.5,1.3,1.2,1.3,1.3,1.3,1.4,1.4,1.3,1.2,1.5,1.3,1.5,1.5,1.5,1.5,1.6,1.5,1.3,1.4,1.4,1.6,1.4,1.2,1.5,1.8,1.4,1.5,1.5,1.7,1.6],\"showlegend\":true,\"name\":\"versicolor\",\"type\":\"scatter\",\"xaxis\":\"x2\",\"x\":[3.0,3.3,3.3,3.5,3.5,3.6,3.7,3.8,3.9,3.9,3.9,4.0,4.0,4.0,4.0,4.0,4.1,4.1,4.1,4.2,4.2,4.2,4.2,4.3,4.3,4.4,4.4,4.4,4.4,4.5,4.5,4.5,4.5,4.5,4.5,4.5,4.6,4.6,4.6,4.7,4.7,4.7,4.7,4.7,4.8,4.8,4.9,4.9,5.0,5.1],\"mode\":\"markers\",\"marker\":{\"symbol\":\"circle\",\"opacity\":null,\"line\":{\"width\":1,\"color\":\"rgb(0, 0, 0)\"},\"size\":12,\"color\":\"rgba(227, 111, 71, 1.000)\"}},{\"yaxis\":\"y2\",\"y\":[1.7,1.8,1.8,2.0,1.8,1.8,2.0,1.5,1.9,1.9,2.0,2.4,1.5,2.3,1.9,1.8,2.3,2.0,1.9,2.3,2.1,2.3,2.1,1.8,1.8,1.8,2.1,2.2,1.4,2.4,2.4,2.3,2.1,2.5,2.2,1.8,1.6,2.1,2.3,2.5,1.8,2.5,1.9,2.3,1.8,2.0,2.1,2.2,2.0,2.3],\"showlegend\":true,\"name\":\"virginica\",\"type\":\"scatter\",\"xaxis\":\"x2\",\"x\":[4.5,4.8,4.8,4.9,4.9,4.9,5.0,5.0,5.0,5.1,5.1,5.1,5.1,5.1,5.1,5.1,5.2,5.2,5.3,5.3,5.4,5.4,5.5,5.5,5.5,5.6,5.6,5.6,5.6,5.6,5.6,5.7,5.7,5.7,5.8,5.8,5.8,5.9,5.9,6.0,6.0,6.1,6.1,6.1,6.3,6.4,6.6,6.7,6.7,6.9],\"mode\":\"markers\",\"marker\":{\"symbol\":\"circle\",\"opacity\":null,\"line\":{\"width\":1,\"color\":\"rgb(0, 0, 0)\"},\"size\":12,\"color\":\"rgba(62, 164, 78, 1.000)\"}}], {\"yaxis\":{\"linecolor\":\"rgb(0, 0, 0)\",\"type\":\"-\",\"domain\":[0.14278944298629326,0.9475065616797901],\"titlefont\":{\"size\":15,\"color\":\"rgb(0, 0, 0)\",\"family\":\"Helvetica\"},\"tickcolor\":\"rgb(0, 0, 0)\",\"title\":\"SepalWidth\",\"showgrid\":true,\"zeroline\":false,\"anchor\":\"x\",\"tickfont\":{\"size\":11,\"color\":\"rgb(0, 0, 0)\",\"family\":\"Helvetica\"}},\"annotations\":[],\"width\":600,\"showlegend\":true,\"legend\":{\"bgcolor\":\"rgb(255, 255, 255)\",\"font\":{\"size\":11,\"color\":\"rgb(0, 0, 0)\",\"family\":\"Helvetica\"},\"bordercolor\":\"rgb(0, 0, 0)\"},\"xaxis\":{\"linecolor\":\"rgb(0, 0, 0)\",\"type\":\"-\",\"domain\":[0.10420312044327791,0.4671916010498688],\"titlefont\":{\"size\":15,\"color\":\"rgb(0, 0, 0)\",\"family\":\"Helvetica\"},\"tickcolor\":\"rgb(0, 0, 0)\",\"title\":\"SepalLength\",\"showgrid\":true,\"zeroline\":false,\"anchor\":\"y\",\"tickfont\":{\"size\":11,\"color\":\"rgb(0, 0, 0)\",\"family\":\"Helvetica\"}},\"yaxis2\":{\"linecolor\":\"rgb(0, 0, 0)\",\"type\":\"-\",\"domain\":[0.14278944298629326,0.9475065616797901],\"titlefont\":{\"size\":15,\"color\":\"rgb(0, 0, 0)\",\"family\":\"Helvetica\"},\"tickcolor\":\"rgb(0, 0, 0)\",\"title\":\"PetalWidth\",\"showgrid\":true,\"zeroline\":false,\"anchor\":\"x2\",\"tickfont\":{\"size\":11,\"color\":\"rgb(0, 0, 0)\",\"family\":\"Helvetica\"}},\"xaxis2\":{\"linecolor\":\"rgb(0, 0, 0)\",\"type\":\"-\",\"domain\":[0.604203120443278,0.9671916010498689],\"titlefont\":{\"size\":15,\"color\":\"rgb(0, 0, 0)\",\"family\":\"Helvetica\"},\"tickcolor\":\"rgb(0, 0, 0)\",\"title\":\"PetalLength\",\"showgrid\":true,\"zeroline\":false,\"anchor\":\"y2\",\"tickfont\":{\"size\":11,\"color\":\"rgb(0, 0, 0)\",\"family\":\"Helvetica\"}},\"height\":300,\"margin\":{\"r\":0,\"l\":0,\"b\":0,\"t\":20},\"plot_bgcolor\":\"rgb(255, 255, 255)\",\"paper_bgcolor\":\"rgb(255, 255, 255)\"});\n",
       "    </script>\n"
      ]
     },
     "execution_count": 65,
     "metadata": {},
     "output_type": "execute_result"
    }
   ],
   "source": [
    "plot(\n",
    "scatter(iris,:SepalLength,:SepalWidth,group=:Species),\n",
    "scatter(iris,:PetalLength,:PetalWidth,group=:Species)\n",
    ")"
   ]
  },
  {
   "cell_type": "markdown",
   "metadata": {},
   "source": [
    "Otra manera de observar la distribución conjunta de dos variables continuas es haciendo uso de los **histogramas bivariados** o bidimensionales (2D o *bivariate histograms*). Los grupos (*bins*) se establecen para las dos variables, definiendo rectángulos en un espacio bidimensional. Normalmente se utiliza un código de color para indicar la cantidad de valores en cada grupo."
   ]
  },
  {
   "cell_type": "code",
   "execution_count": 104,
   "metadata": {
    "collapsed": false
   },
   "outputs": [
    {
     "data": {
      "text/html": [
       "<script src=\"/home/dzea/.julia/v0.4/Plots/deps/plotly-latest.min.js\"></script>    <div id=\"52f78573-c54f-441f-b4e7-b8dee6bac888\" style=\"width:400px;height:300px;\"></div>\n",
       "    <script>\n",
       "    PLOT = document.getElementById('52f78573-c54f-441f-b4e7-b8dee6bac888');\n",
       "    Plotly.plot(PLOT, [{\"yaxis\":\"y\",\"y\":[2.08,2.16,2.24,2.32,2.4,2.48,2.56,2.64,2.72,2.8,2.88,2.96,3.04,3.12,3.2,3.28,3.36,3.44,3.52,3.6,3.68,3.76,3.84,3.92,4.0,4.08,4.16,4.24,4.32,4.4],\"colorscale\":[[0.0,\"rgb(0, 0, 4)\"],[0.034482758620689655,\"rgb(4, 3, 20)\"],[0.06896551724137931,\"rgb(13, 8, 41)\"],[0.10344827586206896,\"rgb(24, 12, 60)\"],[0.13793103448275862,\"rgb(38, 12, 81)\"],[0.1724137931034483,\"rgb(54, 9, 97)\"],[0.20689655172413793,\"rgb(69, 10, 105)\"],[0.2413793103448276,\"rgb(84, 15, 109)\"],[0.27586206896551724,\"rgb(97, 19, 110)\"],[0.3103448275862069,\"rgb(111, 25, 110)\"],[0.3448275862068966,\"rgb(125, 30, 109)\"],[0.3793103448275862,\"rgb(140, 35, 105)\"],[0.41379310344827586,\"rgb(154, 40, 101)\"],[0.4482758620689655,\"rgb(166, 45, 96)\"],[0.4827586206896552,\"rgb(180, 51, 89)\"],[0.5172413793103449,\"rgb(193, 58, 80)\"],[0.5517241379310345,\"rgb(206, 67, 71)\"],[0.5862068965517241,\"rgb(216, 76, 62)\"],[0.6206896551724138,\"rgb(226, 87, 52)\"],[0.6551724137931034,\"rgb(235, 100, 41)\"],[0.6896551724137931,\"rgb(241, 115, 29)\"],[0.7241379310344828,\"rgb(247, 130, 18)\"],[0.7586206896551724,\"rgb(250, 144, 8)\"],[0.7931034482758621,\"rgb(252, 161, 8)\"],[0.8275862068965517,\"rgb(252, 178, 22)\"],[0.8620689655172413,\"rgb(250, 196, 42)\"],[0.896551724137931,\"rgb(246, 213, 67)\"],[0.9310344827586207,\"rgb(243, 229, 93)\"],[0.9655172413793104,\"rgb(242, 244, 130)\"],[1.0,\"rgb(252, 255, 164)\"]],\"showlegend\":false,\"name\":\"y1\",\"type\":\"heatmap\",\"xaxis\":\"x\",\"z\":[[0.0,0.0,0.0,0.0,0.0,1.0,0.0,0.0,0.0,0.0,0.0,0.0,0.0,0.0,0.0,0.0,0.0,0.0,0.0,0.0,0.0,0.0,0.0,0.0,0.0,0.0,0.0,0.0,0.0,0.0],[0.0,0.0,0.0,0.0,0.0,0.0,0.0,0.0,0.0,0.0,0.0,0.0,0.0,0.0,0.0,0.0,0.0,0.0,0.0,0.0,0.0,0.0,0.0,0.0,0.0,0.0,0.0,0.0,0.0,0.0],[0.0,0.0,0.0,0.0,0.0,0.0,0.0,0.0,0.0,0.0,0.0,0.0,0.0,0.0,2.0,1.0,0.0,0.0,0.0,0.0,0.0,0.0,0.0,0.0,0.0,0.0,0.0,0.0,0.0,0.0],[0.0,1.0,0.0,0.0,0.0,1.0,0.0,0.0,0.0,1.0,0.0,0.0,0.0,0.0,0.0,0.0,1.0,0.0,0.0,0.0,0.0,0.0,0.0,0.0,0.0,0.0,0.0,0.0,0.0,0.0],[0.0,0.0,0.0,0.0,1.0,0.0,0.0,0.0,0.0,2.0,0.0,0.0,0.0,0.0,0.0,0.0,0.0,0.0,0.0,0.0,0.0,0.0,0.0,0.0,0.0,0.0,0.0,0.0,0.0,0.0],[0.0,0.0,0.0,0.0,0.0,0.0,0.0,0.0,0.0,0.0,0.0,0.0,0.0,0.0,0.0,0.0,0.0,0.0,0.0,0.0,0.0,0.0,0.0,0.0,0.0,0.0,0.0,0.0,0.0,0.0],[0.0,0.0,0.0,0.0,1.0,0.0,1.0,0.0,0.0,1.0,1.0,1.0,0.0,0.0,0.0,0.0,2.0,0.0,0.0,1.0,0.0,0.0,0.0,0.0,0.0,0.0,0.0,0.0,0.0,0.0],[0.0,0.0,0.0,0.0,0.0,0.0,0.0,0.0,0.0,1.0,0.0,1.0,1.0,0.0,1.0,0.0,0.0,0.0,0.0,0.0,0.0,0.0,0.0,0.0,0.0,0.0,0.0,0.0,1.0,0.0],[0.0,0.0,0.0,0.0,0.0,0.0,0.0,1.0,0.0,0.0,1.0,0.0,4.0,0.0,1.0,0.0,1.0,1.0,0.0,0.0,0.0,0.0,0.0,0.0,0.0,0.0,0.0,0.0,0.0,0.0],[0.0,0.0,0.0,0.0,0.0,0.0,0.0,0.0,0.0,0.0,1.0,2.0,1.0,0.0,2.0,1.0,1.0,2.0,1.0,0.0,1.0,0.0,0.0,0.0,0.0,1.0,0.0,0.0,1.0,0.0],[0.0,0.0,0.0,0.0,0.0,0.0,0.0,0.0,0.0,0.0,0.0,0.0,0.0,0.0,0.0,0.0,0.0,0.0,0.0,0.0,0.0,0.0,0.0,0.0,0.0,0.0,0.0,0.0,0.0,0.0],[1.0,0.0,0.0,0.0,0.0,0.0,0.0,0.0,0.0,0.0,1.0,1.0,0.0,0.0,2.0,1.0,1.0,1.0,0.0,1.0,0.0,0.0,0.0,0.0,1.0,0.0,0.0,0.0,0.0,0.0],[2.0,0.0,0.0,0.0,3.0,1.0,0.0,0.0,0.0,1.0,2.0,1.0,0.0,2.0,3.0,0.0,0.0,0.0,3.0,3.0,1.0,0.0,0.0,1.0,1.0,0.0,0.0,1.0,1.0,0.0],[0.0,0.0,1.0,0.0,3.0,0.0,0.0,0.0,0.0,0.0,0.0,0.0,0.0,0.0,0.0,0.0,0.0,1.0,0.0,3.0,0.0,3.0,0.0,0.0,0.0,0.0,0.0,0.0,0.0,0.0],[1.0,0.0,1.0,2.0,0.0,1.0,0.0,0.0,0.0,0.0,0.0,0.0,0.0,1.0,0.0,0.0,0.0,2.0,1.0,0.0,1.0,1.0,1.0,0.0,1.0,0.0,0.0,0.0,0.0,0.0],[0.0,0.0,0.0,0.0,0.0,0.0,0.0,0.0,0.0,0.0,0.0,0.0,0.0,0.0,0.0,0.0,0.0,0.0,0.0,0.0,0.0,0.0,0.0,0.0,0.0,0.0,0.0,0.0,0.0,0.0],[0.0,0.0,0.0,0.0,0.0,1.0,1.0,0.0,0.0,0.0,0.0,0.0,0.0,0.0,0.0,0.0,2.0,0.0,0.0,2.0,0.0,0.0,0.0,0.0,0.0,0.0,0.0,0.0,0.0,0.0],[0.0,0.0,1.0,0.0,2.0,2.0,1.0,1.0,0.0,2.0,0.0,0.0,0.0,0.0,1.0,1.0,1.0,0.0,0.0,0.0,0.0,0.0,0.0,0.0,0.0,0.0,0.0,0.0,0.0,0.0],[0.0,0.0,0.0,0.0,0.0,2.0,2.0,1.0,0.0,1.0,0.0,0.0,0.0,0.0,0.0,0.0,0.0,0.0,0.0,0.0,0.0,0.0,0.0,0.0,0.0,0.0,0.0,0.0,0.0,0.0],[0.0,0.0,1.0,0.0,1.0,1.0,0.0,0.0,0.0,0.0,0.0,0.0,0.0,0.0,0.0,0.0,0.0,0.0,0.0,0.0,0.0,0.0,0.0,0.0,1.0,0.0,0.0,0.0,0.0,0.0],[0.0,0.0,0.0,0.0,0.0,0.0,0.0,0.0,0.0,0.0,0.0,0.0,0.0,0.0,0.0,0.0,0.0,0.0,0.0,0.0,0.0,0.0,0.0,0.0,0.0,0.0,0.0,0.0,0.0,0.0],[0.0,0.0,0.0,0.0,0.0,0.0,1.0,0.0,1.0,1.0,0.0,0.0,0.0,0.0,0.0,0.0,0.0,0.0,0.0,0.0,0.0,0.0,0.0,0.0,0.0,0.0,0.0,0.0,0.0,0.0],[0.0,0.0,0.0,0.0,0.0,0.0,3.0,0.0,0.0,0.0,0.0,1.0,0.0,0.0,0.0,0.0,0.0,0.0,0.0,0.0,0.0,0.0,0.0,0.0,0.0,0.0,0.0,0.0,1.0,1.0],[0.0,0.0,0.0,0.0,0.0,0.0,0.0,0.0,0.0,2.0,0.0,0.0,0.0,0.0,0.0,0.0,0.0,0.0,0.0,0.0,0.0,0.0,0.0,0.0,0.0,0.0,0.0,0.0,0.0,0.0],[0.0,0.0,0.0,0.0,0.0,0.0,0.0,0.0,0.0,0.0,0.0,0.0,1.0,0.0,0.0,0.0,0.0,0.0,0.0,0.0,0.0,0.0,0.0,0.0,0.0,0.0,0.0,0.0,0.0,0.0],[0.0,0.0,0.0,0.0,0.0,0.0,0.0,0.0,0.0,0.0,0.0,0.0,0.0,0.0,0.0,0.0,0.0,0.0,0.0,0.0,0.0,0.0,0.0,0.0,0.0,0.0,0.0,0.0,0.0,0.0],[0.0,0.0,0.0,0.0,0.0,0.0,0.0,1.0,0.0,0.0,0.0,0.0,0.0,0.0,0.0,0.0,0.0,0.0,0.0,0.0,0.0,0.0,0.0,0.0,0.0,0.0,0.0,0.0,0.0,0.0],[0.0,0.0,0.0,0.0,0.0,0.0,0.0,0.0,0.0,1.0,0.0,0.0,0.0,0.0,0.0,0.0,0.0,0.0,0.0,0.0,0.0,0.0,0.0,0.0,0.0,0.0,0.0,0.0,0.0,0.0],[0.0,0.0,0.0,0.0,0.0,0.0,0.0,0.0,0.0,0.0,0.0,0.0,0.0,0.0,0.0,0.0,0.0,0.0,0.0,0.0,0.0,0.0,0.0,0.0,0.0,0.0,0.0,0.0,0.0,0.0],[0.0,0.0,0.0,0.0,0.0,0.0,0.0,0.0,0.0,0.0,0.0,1.0,0.0,0.0,0.0,0.0,0.0,0.0,0.0,0.0,0.0,0.0,0.0,0.0,0.0,0.0,0.0,0.0,0.0,0.0]],\"x\":[4.42,4.54,4.66,4.78,4.9,5.02,5.14,5.26,5.38,5.5,5.62,5.74,5.86,5.98,6.1,6.22,6.34,6.46,6.58,6.7,6.82,6.94,7.06,7.18,7.3,7.42,7.54,7.66,7.78,7.9]}], {\"yaxis\":{\"linecolor\":\"rgb(0, 0, 0)\",\"type\":\"-\",\"domain\":[0.14278944298629326,0.94750656167979],\"titlefont\":{\"size\":15,\"color\":\"rgb(0, 0, 0)\",\"family\":\"Helvetica\"},\"tickcolor\":\"rgb(0, 0, 0)\",\"title\":\"SepalWidth\",\"showgrid\":true,\"zeroline\":false,\"anchor\":\"x\",\"tickfont\":{\"size\":11,\"color\":\"rgb(0, 0, 0)\",\"family\":\"Helvetica\"}},\"annotations\":[],\"width\":400,\"plot_bgcolor\":\"rgb(255, 255, 255)\",\"showlegend\":true,\"legend\":{\"bgcolor\":\"rgb(255, 255, 255)\",\"font\":{\"size\":11,\"color\":\"rgb(0, 0, 0)\",\"family\":\"Helvetica\"},\"bordercolor\":\"rgb(0, 0, 0)\"},\"xaxis\":{\"linecolor\":\"rgb(0, 0, 0)\",\"type\":\"-\",\"domain\":[0.15630468066491687,0.9507874015748031],\"titlefont\":{\"size\":15,\"color\":\"rgb(0, 0, 0)\",\"family\":\"Helvetica\"},\"tickcolor\":\"rgb(0, 0, 0)\",\"title\":\"SepalLength\",\"showgrid\":true,\"zeroline\":false,\"anchor\":\"y\",\"tickfont\":{\"size\":11,\"color\":\"rgb(0, 0, 0)\",\"family\":\"Helvetica\"}},\"paper_bgcolor\":\"rgb(255, 255, 255)\",\"height\":300,\"margin\":{\"r\":0,\"l\":0,\"b\":0,\"t\":20}});\n",
       "    </script>\n"
      ]
     },
     "execution_count": 104,
     "metadata": {},
     "output_type": "execute_result"
    }
   ],
   "source": [
    "histogram2d(iris, :SepalLength, :SepalWidth, size=(400,300))"
   ]
  },
  {
   "cell_type": "markdown",
   "metadata": {},
   "source": [
    "Esta representación se asemeja a la de un [**Mapa de calor**](https://en.wikipedia.org/wiki/Heat_map) (*heatmap*), pero estos últimos generalmente poseen variable discretas o categóricas en sus ejes (en lugar de la discretización de una variable continua, aunque ésto también es posible). Los *heat maps* son útiles para mostrar los valores de una matriz, y representan a una variable continua utilizando un gradiente de colores.  "
   ]
  },
  {
   "cell_type": "code",
   "execution_count": 119,
   "metadata": {
    "collapsed": false
   },
   "outputs": [
    {
     "data": {
      "text/html": [
       "<table class=\"data-frame\"><tr><th></th><th>Species</th><th>SepalLength</th><th>SepalWidth</th><th>PetalLength</th><th>PetalWidth</th></tr><tr><th>1</th><td>setosa</td><td>5.006</td><td>3.4279999999999995</td><td>1.462</td><td>0.24600000000000002</td></tr><tr><th>2</th><td>versicolor</td><td>5.936</td><td>2.77</td><td>4.26</td><td>1.3259999999999998</td></tr><tr><th>3</th><td>virginica</td><td>6.587999999999999</td><td>2.9739999999999998</td><td>5.552</td><td>2.026</td></tr></table>"
      ],
      "text/plain": [
       "3×5 DataFrames.DataFrame\n",
       "│ Row │ Species      │ SepalLength │ SepalWidth │ PetalLength │ PetalWidth │\n",
       "├─────┼──────────────┼─────────────┼────────────┼─────────────┼────────────┤\n",
       "│ 1   │ \"setosa\"     │ 5.006       │ 3.428      │ 1.462       │ 0.246      │\n",
       "│ 2   │ \"versicolor\" │ 5.936       │ 2.77       │ 4.26        │ 1.326      │\n",
       "│ 3   │ \"virginica\"  │ 6.588       │ 2.974      │ 5.552       │ 2.026      │"
      ]
     },
     "execution_count": 119,
     "metadata": {},
     "output_type": "execute_result"
    }
   ],
   "source": [
    "medias = by(iris, :Species) do df\n",
    "    DataFrame( \n",
    "    SepalLength = mean(df[:SepalLength]),\n",
    "    SepalWidth  = mean(df[:SepalWidth]),\n",
    "    PetalLength = mean(df[:PetalLength]),\n",
    "    PetalWidth  = mean(df[:PetalWidth])\n",
    "    )\n",
    "end"
   ]
  },
  {
   "cell_type": "code",
   "execution_count": 128,
   "metadata": {
    "collapsed": false
   },
   "outputs": [
    {
     "data": {
      "text/html": [
       "<script src=\"/home/dzea/.julia/v0.4/Plots/deps/plotly-latest.min.js\"></script>    <div id=\"df24fa2e-0bf6-46e4-b0f9-8170cdbed72a\" style=\"width:600px;height:300px;\"></div>\n",
       "    <script>\n",
       "    PLOT = document.getElementById('df24fa2e-0bf6-46e4-b0f9-8170cdbed72a');\n",
       "    Plotly.plot(PLOT, [{\"yaxis\":\"y\",\"y\":[1,2,3],\"colorscale\":[[0.0,\"rgb(0, 0, 4)\"],[0.034482758620689655,\"rgb(4, 3, 20)\"],[0.06896551724137931,\"rgb(13, 8, 41)\"],[0.10344827586206896,\"rgb(24, 12, 60)\"],[0.13793103448275862,\"rgb(38, 12, 81)\"],[0.1724137931034483,\"rgb(54, 9, 97)\"],[0.20689655172413793,\"rgb(69, 10, 105)\"],[0.2413793103448276,\"rgb(84, 15, 109)\"],[0.27586206896551724,\"rgb(97, 19, 110)\"],[0.3103448275862069,\"rgb(111, 25, 110)\"],[0.3448275862068966,\"rgb(125, 30, 109)\"],[0.3793103448275862,\"rgb(140, 35, 105)\"],[0.41379310344827586,\"rgb(154, 40, 101)\"],[0.4482758620689655,\"rgb(166, 45, 96)\"],[0.4827586206896552,\"rgb(180, 51, 89)\"],[0.5172413793103449,\"rgb(193, 58, 80)\"],[0.5517241379310345,\"rgb(206, 67, 71)\"],[0.5862068965517241,\"rgb(216, 76, 62)\"],[0.6206896551724138,\"rgb(226, 87, 52)\"],[0.6551724137931034,\"rgb(235, 100, 41)\"],[0.6896551724137931,\"rgb(241, 115, 29)\"],[0.7241379310344828,\"rgb(247, 130, 18)\"],[0.7586206896551724,\"rgb(250, 144, 8)\"],[0.7931034482758621,\"rgb(252, 161, 8)\"],[0.8275862068965517,\"rgb(252, 178, 22)\"],[0.8620689655172413,\"rgb(250, 196, 42)\"],[0.896551724137931,\"rgb(246, 213, 67)\"],[0.9310344827586207,\"rgb(243, 229, 93)\"],[0.9655172413793104,\"rgb(242, 244, 130)\"],[1.0,\"rgb(252, 255, 164)\"]],\"showlegend\":false,\"name\":\"y1\",\"type\":\"heatmap\",\"xaxis\":\"x\",\"z\":[[5.006,3.4279999999999995,1.462,0.24600000000000002],[5.936,2.77,4.26,1.3259999999999998],[6.587999999999999,2.9739999999999998,5.552,2.026]],\"x\":[1,2,3,4]}], {\"yaxis\":{\"linecolor\":\"rgb(0, 0, 0)\",\"type\":\"-\",\"domain\":[0.09186351706036745,0.94750656167979],\"titlefont\":{\"size\":15,\"color\":\"rgb(0, 0, 0)\",\"family\":\"Helvetica\"},\"tickcolor\":\"rgb(0, 0, 0)\",\"title\":\"\",\"showgrid\":true,\"zeroline\":false,\"anchor\":\"x\",\"tickfont\":{\"size\":11,\"color\":\"rgb(0, 0, 0)\",\"family\":\"Helvetica\"}},\"annotations\":[],\"width\":600,\"plot_bgcolor\":\"rgb(255, 255, 255)\",\"showlegend\":true,\"legend\":{\"bgcolor\":\"rgb(255, 255, 255)\",\"font\":{\"size\":11,\"color\":\"rgb(0, 0, 0)\",\"family\":\"Helvetica\"},\"bordercolor\":\"rgb(0, 0, 0)\"},\"xaxis\":{\"linecolor\":\"rgb(0, 0, 0)\",\"type\":\"-\",\"domain\":[0.07874015748031496,0.9671916010498688],\"titlefont\":{\"size\":15,\"color\":\"rgb(0, 0, 0)\",\"family\":\"Helvetica\"},\"tickcolor\":\"rgb(0, 0, 0)\",\"title\":\"\",\"showgrid\":true,\"zeroline\":false,\"anchor\":\"y\",\"tickfont\":{\"size\":11,\"color\":\"rgb(0, 0, 0)\",\"family\":\"Helvetica\"}},\"paper_bgcolor\":\"rgb(255, 255, 255)\",\"height\":300,\"margin\":{\"r\":0,\"l\":0,\"b\":0,\"t\":20}});\n",
       "    </script>\n"
      ]
     },
     "execution_count": 128,
     "metadata": {},
     "output_type": "execute_result"
    }
   ],
   "source": [
    "heatmap(convert(Matrix{Float64}, medias[:,columnas]))"
   ]
  },
  {
   "cell_type": "markdown",
   "metadata": {},
   "source": [
    "Muchas veces es útil pasar un `DataFrame` de un formato *wide* a uno *long*. En esta conversión se genera una nueva variable categórica con el nombre de las columnas como niveles y se acumula sus valores en una nueva variable. En [Julia](http://juliastats.github.io/DataFrames.jl/stable/man/reshaping_and_pivoting/) es posible usar `melt` y `stack` para cambiar la forma del `DataFrame` de *wide* to *long* o `unstack` para ir en el otro sentido. Esta operación es particularmente útil en **R** cuando se trabaja con `ggplot2`, y requiere de la biblioteca [reshape2](http://seananderson.ca/2013/10/19/reshape.html)."
   ]
  },
  {
   "cell_type": "code",
   "execution_count": 42,
   "metadata": {
    "collapsed": false
   },
   "outputs": [
    {
     "data": {
      "text/html": [
       "<table class=\"data-frame\"><tr><th></th><th>variable</th><th>value</th><th>Species</th></tr><tr><th>1</th><td>SepalLength</td><td>4.6</td><td>setosa</td></tr><tr><th>2</th><td>SepalLength</td><td>4.3</td><td>setosa</td></tr><tr><th>3</th><td>SepalLength</td><td>5.8</td><td>setosa</td></tr><tr><th>4</th><td>SepalLength</td><td>5.0</td><td>setosa</td></tr><tr><th>5</th><td>SepalLength</td><td>4.7</td><td>setosa</td></tr><tr><th>6</th><td>SepalLength</td><td>5.4</td><td>setosa</td></tr></table>"
      ],
      "text/plain": [
       "6×3 DataFrames.DataFrame\n",
       "│ Row │ variable    │ value │ Species  │\n",
       "├─────┼─────────────┼───────┼──────────┤\n",
       "│ 1   │ SepalLength │ 4.6   │ \"setosa\" │\n",
       "│ 2   │ SepalLength │ 4.3   │ \"setosa\" │\n",
       "│ 3   │ SepalLength │ 5.8   │ \"setosa\" │\n",
       "│ 4   │ SepalLength │ 5.0   │ \"setosa\" │\n",
       "│ 5   │ SepalLength │ 4.7   │ \"setosa\" │\n",
       "│ 6   │ SepalLength │ 5.4   │ \"setosa\" │"
      ]
     },
     "execution_count": 42,
     "metadata": {},
     "output_type": "execute_result"
    }
   ],
   "source": [
    "long = melt(iris, :Species)\n",
    "\n",
    "head(long)"
   ]
  },
  {
   "cell_type": "markdown",
   "metadata": {},
   "source": [
    "Los [**Diagramas de Cajas**](https://en.wikipedia.org/wiki/Box_plot) (*boxplots*) son otra forma de visualizar datos acerca de una distribución. Son interesantes porque permiten observar estadísticos robustos de tendencia central (mediana) y de dispersión (rango entre cuartiles)."
   ]
  },
  {
   "cell_type": "code",
   "execution_count": 53,
   "metadata": {
    "collapsed": false
   },
   "outputs": [
    {
     "data": {
      "image/png": "[encoded data removed]"
     },
     "metadata": {},
     "output_type": "display_data"
    },
    {
     "data": {
      "text/plain": [
       "RCall.RObject{RCall.VecSxp}\n"
      ]
     },
     "execution_count": 53,
     "metadata": {},
     "output_type": "execute_result"
    }
   ],
   "source": [
    "R\"\"\"\n",
    "library(ggplot2)\n",
    "ggplot($long, aes(x=as.character(variable), y=value)) + geom_boxplot()\n",
    "\"\"\""
   ]
  },
  {
   "cell_type": "markdown",
   "metadata": {},
   "source": [
    "[Gadfly](http://gadflyjl.org/) es una biblioteca similar a *ggplot2* pero para Julia."
   ]
  },
  {
   "cell_type": "code",
   "execution_count": 55,
   "metadata": {
    "collapsed": false
   },
   "outputs": [],
   "source": [
    "using Gadfly"
   ]
  },
  {
   "cell_type": "code",
   "execution_count": 67,
   "metadata": {
    "collapsed": false
   },
   "outputs": [
    {
     "data": {
      "image/png": "[encoded data removed]",
      "image/svg+xml": [
       "<?xml version=\"1.0\" encoding=\"UTF-8\"?>\n",
       "<svg xmlns=\"http://www.w3.org/2000/svg\"\n",
       "     xmlns:xlink=\"http://www.w3.org/1999/xlink\"\n",
       "     xmlns:gadfly=\"http://www.gadflyjl.org/ns\"\n",
       "     version=\"1.2\"\n",
       "     width=\"141.42mm\" height=\"100mm\" viewBox=\"0 0 141.42 100\"\n",
       "     stroke=\"none\"\n",
       "     fill=\"#000000\"\n",
       "     stroke-width=\"0.3\"\n",
       "     font-size=\"3.88\"\n",
       ">\n",
       "<g class=\"plotroot yscalable\" id=\"img-ca3269e1-1\">\n",
       "  <g font-size=\"3.88\" font-family=\"'PT Sans','Helvetica Neue','Helvetica',sans-serif\" fill=\"#564A55\" stroke=\"#000000\" stroke-opacity=\"0.000\" id=\"img-ca3269e1-2\">\n",
       "    <text x=\"76.35\" y=\"88.39\" text-anchor=\"middle\" dy=\"0.6em\">variable</text>\n",
       "  </g>\n",
       "  <g class=\"guide xlabels\" font-size=\"2.82\" font-family=\"'PT Sans Caption','Helvetica Neue','Helvetica',sans-serif\" fill=\"#6C606B\" id=\"img-ca3269e1-3\">\n",
       "    <text x=\"31.3\" y=\"81.72\" text-anchor=\"middle\" dy=\"0.6em\">SepalLength</text>\n",
       "    <text x=\"61.34\" y=\"81.72\" text-anchor=\"middle\" dy=\"0.6em\">SepalWidth</text>\n",
       "    <text x=\"91.37\" y=\"81.72\" text-anchor=\"middle\" dy=\"0.6em\">PetalLength</text>\n",
       "    <text x=\"121.4\" y=\"81.72\" text-anchor=\"middle\" dy=\"0.6em\">PetalWidth</text>\n",
       "  </g>\n",
       "<g clip-path=\"url(#img-ca3269e1-4)\">\n",
       "  <g id=\"img-ca3269e1-5\">\n",
       "    <g pointer-events=\"visible\" opacity=\"1\" fill=\"#000000\" fill-opacity=\"0.000\" stroke=\"#000000\" stroke-opacity=\"0.000\" class=\"guide background\" id=\"img-ca3269e1-6\">\n",
       "      <rect x=\"16.28\" y=\"5\" width=\"120.14\" height=\"75.72\"/>\n",
       "    </g>\n",
       "    <g class=\"guide ygridlines xfixed\" stroke-dasharray=\"0.5,0.5\" stroke-width=\"0.2\" stroke=\"#D0D0E0\" id=\"img-ca3269e1-7\">\n",
       "      <path fill=\"none\" d=\"M16.28,78.71 L 136.42 78.71\"/>\n",
       "      <path fill=\"none\" d=\"M16.28,60.79 L 136.42 60.79\"/>\n",
       "      <path fill=\"none\" d=\"M16.28,42.86 L 136.42 42.86\"/>\n",
       "      <path fill=\"none\" d=\"M16.28,24.93 L 136.42 24.93\"/>\n",
       "      <path fill=\"none\" d=\"M16.28,7 L 136.42 7\"/>\n",
       "    </g>\n",
       "    <g class=\"guide xgridlines yfixed\" stroke-dasharray=\"0.5,0.5\" stroke-width=\"0.2\" stroke=\"#D0D0E0\" id=\"img-ca3269e1-8\">\n",
       "      <path fill=\"none\" d=\"M46.32,5 L 46.32 80.72\"/>\n",
       "      <path fill=\"none\" d=\"M76.35,5 L 76.35 80.72\"/>\n",
       "      <path fill=\"none\" d=\"M106.39,5 L 106.39 80.72\"/>\n",
       "    </g>\n",
       "    <g class=\"plotpanel\" id=\"img-ca3269e1-9\">\n",
       "      <g class=\"geometry\" stroke-width=\"0.3\" id=\"img-ca3269e1-10\">\n",
       "        <use xlink:href=\"#img-ca3269e1-11\" x=\"61.34\" y=\"60.79\" stroke=\"#FFFFFF\" fill=\"#00BFFF\"/>\n",
       "        <use xlink:href=\"#img-ca3269e1-11\" x=\"61.34\" y=\"41.96\" stroke=\"#FFFFFF\" fill=\"#00BFFF\"/>\n",
       "        <use xlink:href=\"#img-ca3269e1-11\" x=\"61.34\" y=\"41.06\" stroke=\"#FFFFFF\" fill=\"#00BFFF\"/>\n",
       "        <use xlink:href=\"#img-ca3269e1-11\" x=\"61.34\" y=\"39.27\" stroke=\"#FFFFFF\" fill=\"#00BFFF\"/>\n",
       "        <use xlink:href=\"#img-ca3269e1-11\" x=\"91.37\" y=\"68.85\" stroke=\"#FFFFFF\" fill=\"#00BFFF\"/>\n",
       "        <use xlink:href=\"#img-ca3269e1-11\" x=\"91.37\" y=\"67.96\" stroke=\"#FFFFFF\" fill=\"#00BFFF\"/>\n",
       "        <use xlink:href=\"#img-ca3269e1-11\" x=\"91.37\" y=\"67.96\" stroke=\"#FFFFFF\" fill=\"#00BFFF\"/>\n",
       "        <use xlink:href=\"#img-ca3269e1-11\" x=\"91.37\" y=\"67.06\" stroke=\"#FFFFFF\" fill=\"#00BFFF\"/>\n",
       "        <use xlink:href=\"#img-ca3269e1-11\" x=\"91.37\" y=\"67.06\" stroke=\"#FFFFFF\" fill=\"#00BFFF\"/>\n",
       "        <use xlink:href=\"#img-ca3269e1-11\" x=\"91.37\" y=\"67.06\" stroke=\"#FFFFFF\" fill=\"#00BFFF\"/>\n",
       "        <use xlink:href=\"#img-ca3269e1-11\" x=\"91.37\" y=\"67.06\" stroke=\"#FFFFFF\" fill=\"#00BFFF\"/>\n",
       "        <use xlink:href=\"#img-ca3269e1-11\" x=\"91.37\" y=\"67.06\" stroke=\"#FFFFFF\" fill=\"#00BFFF\"/>\n",
       "        <use xlink:href=\"#img-ca3269e1-11\" x=\"91.37\" y=\"67.06\" stroke=\"#FFFFFF\" fill=\"#00BFFF\"/>\n",
       "        <use xlink:href=\"#img-ca3269e1-11\" x=\"91.37\" y=\"67.06\" stroke=\"#FFFFFF\" fill=\"#00BFFF\"/>\n",
       "        <use xlink:href=\"#img-ca3269e1-11\" x=\"91.37\" y=\"66.16\" stroke=\"#FFFFFF\" fill=\"#00BFFF\"/>\n",
       "        <use xlink:href=\"#img-ca3269e1-11\" x=\"91.37\" y=\"66.16\" stroke=\"#FFFFFF\" fill=\"#00BFFF\"/>\n",
       "        <use xlink:href=\"#img-ca3269e1-11\" x=\"91.37\" y=\"66.16\" stroke=\"#FFFFFF\" fill=\"#00BFFF\"/>\n",
       "        <use xlink:href=\"#img-ca3269e1-11\" x=\"91.37\" y=\"66.16\" stroke=\"#FFFFFF\" fill=\"#00BFFF\"/>\n",
       "        <use xlink:href=\"#img-ca3269e1-11\" x=\"91.37\" y=\"66.16\" stroke=\"#FFFFFF\" fill=\"#00BFFF\"/>\n",
       "        <use xlink:href=\"#img-ca3269e1-11\" x=\"91.37\" y=\"66.16\" stroke=\"#FFFFFF\" fill=\"#00BFFF\"/>\n",
       "        <use xlink:href=\"#img-ca3269e1-11\" x=\"91.37\" y=\"66.16\" stroke=\"#FFFFFF\" fill=\"#00BFFF\"/>\n",
       "        <use xlink:href=\"#img-ca3269e1-11\" x=\"91.37\" y=\"66.16\" stroke=\"#FFFFFF\" fill=\"#00BFFF\"/>\n",
       "        <use xlink:href=\"#img-ca3269e1-11\" x=\"91.37\" y=\"66.16\" stroke=\"#FFFFFF\" fill=\"#00BFFF\"/>\n",
       "        <use xlink:href=\"#img-ca3269e1-11\" x=\"91.37\" y=\"66.16\" stroke=\"#FFFFFF\" fill=\"#00BFFF\"/>\n",
       "        <use xlink:href=\"#img-ca3269e1-11\" x=\"91.37\" y=\"66.16\" stroke=\"#FFFFFF\" fill=\"#00BFFF\"/>\n",
       "        <use xlink:href=\"#img-ca3269e1-11\" x=\"91.37\" y=\"66.16\" stroke=\"#FFFFFF\" fill=\"#00BFFF\"/>\n",
       "        <use xlink:href=\"#img-ca3269e1-11\" x=\"91.37\" y=\"66.16\" stroke=\"#FFFFFF\" fill=\"#00BFFF\"/>\n",
       "        <use xlink:href=\"#img-ca3269e1-11\" x=\"91.37\" y=\"69.75\" stroke=\"#FFFFFF\" fill=\"#00BFFF\"/>\n",
       "        <use xlink:href=\"#img-ca3269e1-11\" x=\"121.4\" y=\"77.82\" stroke=\"#FFFFFF\" fill=\"#00BFFF\"/>\n",
       "        <use xlink:href=\"#img-ca3269e1-11\" x=\"121.4\" y=\"77.82\" stroke=\"#FFFFFF\" fill=\"#00BFFF\"/>\n",
       "        <use xlink:href=\"#img-ca3269e1-11\" x=\"121.4\" y=\"77.82\" stroke=\"#FFFFFF\" fill=\"#00BFFF\"/>\n",
       "        <use xlink:href=\"#img-ca3269e1-11\" x=\"121.4\" y=\"77.82\" stroke=\"#FFFFFF\" fill=\"#00BFFF\"/>\n",
       "        <use xlink:href=\"#img-ca3269e1-11\" x=\"121.4\" y=\"77.82\" stroke=\"#FFFFFF\" fill=\"#00BFFF\"/>\n",
       "        <rect x=\"16.78\" y=\"21.34\" width=\"29.03\" height=\"11.65\" stroke=\"#00BFFF\" fill=\"#00BFFF\"/>\n",
       "        <rect x=\"46.82\" y=\"49.13\" width=\"29.03\" height=\"4.48\" stroke=\"#00BFFF\" fill=\"#00BFFF\"/>\n",
       "        <rect x=\"76.85\" y=\"33\" width=\"29.03\" height=\"31.38\" stroke=\"#00BFFF\" fill=\"#00BFFF\"/>\n",
       "        <rect x=\"106.89\" y=\"62.58\" width=\"29.03\" height=\"13.45\" stroke=\"#00BFFF\" fill=\"#00BFFF\"/>\n",
       "        <path fill=\"none\" d=\"M21.62,7.9 L 40.98 7.9\" stroke=\"#00BFFF\"/>\n",
       "        <path fill=\"none\" d=\"M51.66,42.86 L 71.01 42.86\" stroke=\"#00BFFF\"/>\n",
       "        <path fill=\"none\" d=\"M81.69,16.86 L 101.05 16.86\" stroke=\"#00BFFF\"/>\n",
       "        <path fill=\"none\" d=\"M111.73,56.3 L 131.08 56.3\" stroke=\"#00BFFF\"/>\n",
       "        <path fill=\"none\" d=\"M21.62,40.17 L 40.98 40.17\" stroke=\"#00BFFF\"/>\n",
       "        <path fill=\"none\" d=\"M51.66,58.99 L 71.01 58.99\" stroke=\"#00BFFF\"/>\n",
       "        <path fill=\"none\" d=\"M81.69,65.27 L 101.05 65.27\" stroke=\"#00BFFF\"/>\n",
       "        <path fill=\"none\" d=\"M111.73,76.92 L 131.08 76.92\" stroke=\"#00BFFF\"/>\n",
       "        <path fill=\"none\" d=\"M31.3,21.34 L 31.3 7.9\" stroke=\"#00BFFF\"/>\n",
       "        <path fill=\"none\" d=\"M61.34,49.13 L 61.34 42.86\" stroke=\"#00BFFF\"/>\n",
       "        <path fill=\"none\" d=\"M91.37,33 L 91.37 16.86\" stroke=\"#00BFFF\"/>\n",
       "        <path fill=\"none\" d=\"M121.4,62.58 L 121.4 56.3\" stroke=\"#00BFFF\"/>\n",
       "        <path fill=\"none\" d=\"M31.3,33 L 31.3 40.17\" stroke=\"#00BFFF\"/>\n",
       "        <path fill=\"none\" d=\"M61.34,53.61 L 61.34 58.99\" stroke=\"#00BFFF\"/>\n",
       "        <path fill=\"none\" d=\"M91.37,64.37 L 91.37 65.27\" stroke=\"#00BFFF\"/>\n",
       "        <path fill=\"none\" d=\"M121.4,76.03 L 121.4 76.92\" stroke=\"#00BFFF\"/>\n",
       "        <g stroke-width=\"0.6\" id=\"img-ca3269e1-12\">\n",
       "          <path fill=\"none\" d=\"M21.62,26.72 L 40.98 26.72\" stroke=\"#B5FFFF\"/>\n",
       "          <path fill=\"none\" d=\"M51.66,51.82 L 71.01 51.82\" stroke=\"#B5FFFF\"/>\n",
       "          <path fill=\"none\" d=\"M81.69,39.72 L 101.05 39.72\" stroke=\"#B5FFFF\"/>\n",
       "          <path fill=\"none\" d=\"M111.73,67.06 L 131.08 67.06\" stroke=\"#B5FFFF\"/>\n",
       "        </g>\n",
       "      </g>\n",
       "    </g>\n",
       "  </g>\n",
       "</g>\n",
       "  <g class=\"guide ylabels\" font-size=\"2.82\" font-family=\"'PT Sans Caption','Helvetica Neue','Helvetica',sans-serif\" fill=\"#6C606B\" id=\"img-ca3269e1-13\">\n",
       "    <text x=\"15.28\" y=\"78.71\" text-anchor=\"end\" dy=\"0.35em\">0</text>\n",
       "    <text x=\"15.28\" y=\"60.79\" text-anchor=\"end\" dy=\"0.35em\">2</text>\n",
       "    <text x=\"15.28\" y=\"42.86\" text-anchor=\"end\" dy=\"0.35em\">4</text>\n",
       "    <text x=\"15.28\" y=\"24.93\" text-anchor=\"end\" dy=\"0.35em\">6</text>\n",
       "    <text x=\"15.28\" y=\"7\" text-anchor=\"end\" dy=\"0.35em\">8</text>\n",
       "  </g>\n",
       "  <g font-size=\"3.88\" font-family=\"'PT Sans','Helvetica Neue','Helvetica',sans-serif\" fill=\"#564A55\" stroke=\"#000000\" stroke-opacity=\"0.000\" id=\"img-ca3269e1-14\">\n",
       "    <text x=\"8.81\" y=\"40.86\" text-anchor=\"middle\" dy=\"0.35em\" transform=\"rotate(-90, 8.81, 42.86)\">value</text>\n",
       "  </g>\n",
       "</g>\n",
       "<defs>\n",
       "  <clipPath id=\"img-ca3269e1-4\">\n",
       "  <path d=\"M16.28,5 L 136.42 5 136.42 80.72 16.28 80.72\" />\n",
       "</clipPath>\n",
       "  <g id=\"img-ca3269e1-11\">\n",
       "    <circle cx=\"0\" cy=\"0\" r=\"0.9\"/>\n",
       "  </g>\n",
       "</defs>\n",
       "</svg>\n"
      ],
      "text/html": [
       "<?xml version=\"1.0\" encoding=\"UTF-8\"?>\n",
       "<svg xmlns=\"http://www.w3.org/2000/svg\"\n",
       "     xmlns:xlink=\"http://www.w3.org/1999/xlink\"\n",
       "     xmlns:gadfly=\"http://www.gadflyjl.org/ns\"\n",
       "     version=\"1.2\"\n",
       "     width=\"141.42mm\" height=\"100mm\" viewBox=\"0 0 141.42 100\"\n",
       "     stroke=\"none\"\n",
       "     fill=\"#000000\"\n",
       "     stroke-width=\"0.3\"\n",
       "     font-size=\"3.88\"\n",
       "\n",
       "     id=\"img-aa3426ca\">\n",
       "<g class=\"plotroot yscalable\" id=\"img-aa3426ca-1\">\n",
       "  <g font-size=\"3.88\" font-family=\"'PT Sans','Helvetica Neue','Helvetica',sans-serif\" fill=\"#564A55\" stroke=\"#000000\" stroke-opacity=\"0.000\" id=\"img-aa3426ca-2\">\n",
       "    <text x=\"76.35\" y=\"88.39\" text-anchor=\"middle\" dy=\"0.6em\">variable</text>\n",
       "  </g>\n",
       "  <g class=\"guide xlabels\" font-size=\"2.82\" font-family=\"'PT Sans Caption','Helvetica Neue','Helvetica',sans-serif\" fill=\"#6C606B\" id=\"img-aa3426ca-3\">\n",
       "    <text x=\"31.3\" y=\"84.39\" text-anchor=\"middle\" visibility=\"visible\" gadfly:scale=\"1.0\">SepalLength</text>\n",
       "    <text x=\"61.34\" y=\"84.39\" text-anchor=\"middle\" visibility=\"visible\" gadfly:scale=\"1.0\">SepalWidth</text>\n",
       "    <text x=\"91.37\" y=\"84.39\" text-anchor=\"middle\" visibility=\"visible\" gadfly:scale=\"1.0\">PetalLength</text>\n",
       "    <text x=\"121.4\" y=\"84.39\" text-anchor=\"middle\" visibility=\"visible\" gadfly:scale=\"1.0\">PetalWidth</text>\n",
       "  </g>\n",
       "<g clip-path=\"url(#img-aa3426ca-4)\">\n",
       "  <g id=\"img-aa3426ca-5\">\n",
       "    <g pointer-events=\"visible\" opacity=\"1\" fill=\"#000000\" fill-opacity=\"0.000\" stroke=\"#000000\" stroke-opacity=\"0.000\" class=\"guide background\" id=\"img-aa3426ca-6\">\n",
       "      <rect x=\"16.28\" y=\"5\" width=\"120.14\" height=\"75.72\"/>\n",
       "    </g>\n",
       "    <g class=\"guide ygridlines xfixed\" stroke-dasharray=\"0.5,0.5\" stroke-width=\"0.2\" stroke=\"#D0D0E0\" id=\"img-aa3426ca-7\">\n",
       "      <path fill=\"none\" d=\"M16.28,168.36 L 136.42 168.36\" visibility=\"hidden\" gadfly:scale=\"1.0\"/>\n",
       "      <path fill=\"none\" d=\"M16.28,150.43 L 136.42 150.43\" visibility=\"hidden\" gadfly:scale=\"1.0\"/>\n",
       "      <path fill=\"none\" d=\"M16.28,132.5 L 136.42 132.5\" visibility=\"hidden\" gadfly:scale=\"1.0\"/>\n",
       "      <path fill=\"none\" d=\"M16.28,114.57 L 136.42 114.57\" visibility=\"hidden\" gadfly:scale=\"1.0\"/>\n",
       "      <path fill=\"none\" d=\"M16.28,96.64 L 136.42 96.64\" visibility=\"hidden\" gadfly:scale=\"1.0\"/>\n",
       "      <path fill=\"none\" d=\"M16.28,78.71 L 136.42 78.71\" visibility=\"visible\" gadfly:scale=\"1.0\"/>\n",
       "      <path fill=\"none\" d=\"M16.28,60.79 L 136.42 60.79\" visibility=\"visible\" gadfly:scale=\"1.0\"/>\n",
       "      <path fill=\"none\" d=\"M16.28,42.86 L 136.42 42.86\" visibility=\"visible\" gadfly:scale=\"1.0\"/>\n",
       "      <path fill=\"none\" d=\"M16.28,24.93 L 136.42 24.93\" visibility=\"visible\" gadfly:scale=\"1.0\"/>\n",
       "      <path fill=\"none\" d=\"M16.28,7 L 136.42 7\" visibility=\"visible\" gadfly:scale=\"1.0\"/>\n",
       "      <path fill=\"none\" d=\"M16.28,-10.93 L 136.42 -10.93\" visibility=\"hidden\" gadfly:scale=\"1.0\"/>\n",
       "      <path fill=\"none\" d=\"M16.28,-28.86 L 136.42 -28.86\" visibility=\"hidden\" gadfly:scale=\"1.0\"/>\n",
       "      <path fill=\"none\" d=\"M16.28,-46.79 L 136.42 -46.79\" visibility=\"hidden\" gadfly:scale=\"1.0\"/>\n",
       "      <path fill=\"none\" d=\"M16.28,-64.72 L 136.42 -64.72\" visibility=\"hidden\" gadfly:scale=\"1.0\"/>\n",
       "      <path fill=\"none\" d=\"M16.28,-82.64 L 136.42 -82.64\" visibility=\"hidden\" gadfly:scale=\"1.0\"/>\n",
       "      <path fill=\"none\" d=\"M16.28,150.43 L 136.42 150.43\" visibility=\"hidden\" gadfly:scale=\"10.0\"/>\n",
       "      <path fill=\"none\" d=\"M16.28,145.95 L 136.42 145.95\" visibility=\"hidden\" gadfly:scale=\"10.0\"/>\n",
       "      <path fill=\"none\" d=\"M16.28,141.47 L 136.42 141.47\" visibility=\"hidden\" gadfly:scale=\"10.0\"/>\n",
       "      <path fill=\"none\" d=\"M16.28,136.98 L 136.42 136.98\" visibility=\"hidden\" gadfly:scale=\"10.0\"/>\n",
       "      <path fill=\"none\" d=\"M16.28,132.5 L 136.42 132.5\" visibility=\"hidden\" gadfly:scale=\"10.0\"/>\n",
       "      <path fill=\"none\" d=\"M16.28,128.02 L 136.42 128.02\" visibility=\"hidden\" gadfly:scale=\"10.0\"/>\n",
       "      <path fill=\"none\" d=\"M16.28,123.54 L 136.42 123.54\" visibility=\"hidden\" gadfly:scale=\"10.0\"/>\n",
       "      <path fill=\"none\" d=\"M16.28,119.05 L 136.42 119.05\" visibility=\"hidden\" gadfly:scale=\"10.0\"/>\n",
       "      <path fill=\"none\" d=\"M16.28,114.57 L 136.42 114.57\" visibility=\"hidden\" gadfly:scale=\"10.0\"/>\n",
       "      <path fill=\"none\" d=\"M16.28,110.09 L 136.42 110.09\" visibility=\"hidden\" gadfly:scale=\"10.0\"/>\n",
       "      <path fill=\"none\" d=\"M16.28,105.61 L 136.42 105.61\" visibility=\"hidden\" gadfly:scale=\"10.0\"/>\n",
       "      <path fill=\"none\" d=\"M16.28,101.13 L 136.42 101.13\" visibility=\"hidden\" gadfly:scale=\"10.0\"/>\n",
       "      <path fill=\"none\" d=\"M16.28,96.64 L 136.42 96.64\" visibility=\"hidden\" gadfly:scale=\"10.0\"/>\n",
       "      <path fill=\"none\" d=\"M16.28,92.16 L 136.42 92.16\" visibility=\"hidden\" gadfly:scale=\"10.0\"/>\n",
       "      <path fill=\"none\" d=\"M16.28,87.68 L 136.42 87.68\" visibility=\"hidden\" gadfly:scale=\"10.0\"/>\n",
       "      <path fill=\"none\" d=\"M16.28,83.2 L 136.42 83.2\" visibility=\"hidden\" gadfly:scale=\"10.0\"/>\n",
       "      <path fill=\"none\" d=\"M16.28,78.71 L 136.42 78.71\" visibility=\"hidden\" gadfly:scale=\"10.0\"/>\n",
       "      <path fill=\"none\" d=\"M16.28,74.23 L 136.42 74.23\" visibility=\"hidden\" gadfly:scale=\"10.0\"/>\n",
       "      <path fill=\"none\" d=\"M16.28,69.75 L 136.42 69.75\" visibility=\"hidden\" gadfly:scale=\"10.0\"/>\n",
       "      <path fill=\"none\" d=\"M16.28,65.27 L 136.42 65.27\" visibility=\"hidden\" gadfly:scale=\"10.0\"/>\n",
       "      <path fill=\"none\" d=\"M16.28,60.79 L 136.42 60.79\" visibility=\"hidden\" gadfly:scale=\"10.0\"/>\n",
       "      <path fill=\"none\" d=\"M16.28,56.3 L 136.42 56.3\" visibility=\"hidden\" gadfly:scale=\"10.0\"/>\n",
       "      <path fill=\"none\" d=\"M16.28,51.82 L 136.42 51.82\" visibility=\"hidden\" gadfly:scale=\"10.0\"/>\n",
       "      <path fill=\"none\" d=\"M16.28,47.34 L 136.42 47.34\" visibility=\"hidden\" gadfly:scale=\"10.0\"/>\n",
       "      <path fill=\"none\" d=\"M16.28,42.86 L 136.42 42.86\" visibility=\"hidden\" gadfly:scale=\"10.0\"/>\n",
       "      <path fill=\"none\" d=\"M16.28,38.38 L 136.42 38.38\" visibility=\"hidden\" gadfly:scale=\"10.0\"/>\n",
       "      <path fill=\"none\" d=\"M16.28,33.89 L 136.42 33.89\" visibility=\"hidden\" gadfly:scale=\"10.0\"/>\n",
       "      <path fill=\"none\" d=\"M16.28,29.41 L 136.42 29.41\" visibility=\"hidden\" gadfly:scale=\"10.0\"/>\n",
       "      <path fill=\"none\" d=\"M16.28,24.93 L 136.42 24.93\" visibility=\"hidden\" gadfly:scale=\"10.0\"/>\n",
       "      <path fill=\"none\" d=\"M16.28,20.45 L 136.42 20.45\" visibility=\"hidden\" gadfly:scale=\"10.0\"/>\n",
       "      <path fill=\"none\" d=\"M16.28,15.96 L 136.42 15.96\" visibility=\"hidden\" gadfly:scale=\"10.0\"/>\n",
       "      <path fill=\"none\" d=\"M16.28,11.48 L 136.42 11.48\" visibility=\"hidden\" gadfly:scale=\"10.0\"/>\n",
       "      <path fill=\"none\" d=\"M16.28,7 L 136.42 7\" visibility=\"hidden\" gadfly:scale=\"10.0\"/>\n",
       "      <path fill=\"none\" d=\"M16.28,2.52 L 136.42 2.52\" visibility=\"hidden\" gadfly:scale=\"10.0\"/>\n",
       "      <path fill=\"none\" d=\"M16.28,-1.96 L 136.42 -1.96\" visibility=\"hidden\" gadfly:scale=\"10.0\"/>\n",
       "      <path fill=\"none\" d=\"M16.28,-6.45 L 136.42 -6.45\" visibility=\"hidden\" gadfly:scale=\"10.0\"/>\n",
       "      <path fill=\"none\" d=\"M16.28,-10.93 L 136.42 -10.93\" visibility=\"hidden\" gadfly:scale=\"10.0\"/>\n",
       "      <path fill=\"none\" d=\"M16.28,-15.41 L 136.42 -15.41\" visibility=\"hidden\" gadfly:scale=\"10.0\"/>\n",
       "      <path fill=\"none\" d=\"M16.28,-19.89 L 136.42 -19.89\" visibility=\"hidden\" gadfly:scale=\"10.0\"/>\n",
       "      <path fill=\"none\" d=\"M16.28,-24.38 L 136.42 -24.38\" visibility=\"hidden\" gadfly:scale=\"10.0\"/>\n",
       "      <path fill=\"none\" d=\"M16.28,-28.86 L 136.42 -28.86\" visibility=\"hidden\" gadfly:scale=\"10.0\"/>\n",
       "      <path fill=\"none\" d=\"M16.28,-33.34 L 136.42 -33.34\" visibility=\"hidden\" gadfly:scale=\"10.0\"/>\n",
       "      <path fill=\"none\" d=\"M16.28,-37.82 L 136.42 -37.82\" visibility=\"hidden\" gadfly:scale=\"10.0\"/>\n",
       "      <path fill=\"none\" d=\"M16.28,-42.3 L 136.42 -42.3\" visibility=\"hidden\" gadfly:scale=\"10.0\"/>\n",
       "      <path fill=\"none\" d=\"M16.28,-46.79 L 136.42 -46.79\" visibility=\"hidden\" gadfly:scale=\"10.0\"/>\n",
       "      <path fill=\"none\" d=\"M16.28,-51.27 L 136.42 -51.27\" visibility=\"hidden\" gadfly:scale=\"10.0\"/>\n",
       "      <path fill=\"none\" d=\"M16.28,-55.75 L 136.42 -55.75\" visibility=\"hidden\" gadfly:scale=\"10.0\"/>\n",
       "      <path fill=\"none\" d=\"M16.28,-60.23 L 136.42 -60.23\" visibility=\"hidden\" gadfly:scale=\"10.0\"/>\n",
       "      <path fill=\"none\" d=\"M16.28,-64.72 L 136.42 -64.72\" visibility=\"hidden\" gadfly:scale=\"10.0\"/>\n",
       "      <path fill=\"none\" d=\"M16.28,168.36 L 136.42 168.36\" visibility=\"hidden\" gadfly:scale=\"0.5\"/>\n",
       "      <path fill=\"none\" d=\"M16.28,78.71 L 136.42 78.71\" visibility=\"hidden\" gadfly:scale=\"0.5\"/>\n",
       "      <path fill=\"none\" d=\"M16.28,-10.93 L 136.42 -10.93\" visibility=\"hidden\" gadfly:scale=\"0.5\"/>\n",
       "      <path fill=\"none\" d=\"M16.28,-100.57 L 136.42 -100.57\" visibility=\"hidden\" gadfly:scale=\"0.5\"/>\n",
       "      <path fill=\"none\" d=\"M16.28,150.43 L 136.42 150.43\" visibility=\"hidden\" gadfly:scale=\"5.0\"/>\n",
       "      <path fill=\"none\" d=\"M16.28,145.95 L 136.42 145.95\" visibility=\"hidden\" gadfly:scale=\"5.0\"/>\n",
       "      <path fill=\"none\" d=\"M16.28,141.47 L 136.42 141.47\" visibility=\"hidden\" gadfly:scale=\"5.0\"/>\n",
       "      <path fill=\"none\" d=\"M16.28,136.98 L 136.42 136.98\" visibility=\"hidden\" gadfly:scale=\"5.0\"/>\n",
       "      <path fill=\"none\" d=\"M16.28,132.5 L 136.42 132.5\" visibility=\"hidden\" gadfly:scale=\"5.0\"/>\n",
       "      <path fill=\"none\" d=\"M16.28,128.02 L 136.42 128.02\" visibility=\"hidden\" gadfly:scale=\"5.0\"/>\n",
       "      <path fill=\"none\" d=\"M16.28,123.54 L 136.42 123.54\" visibility=\"hidden\" gadfly:scale=\"5.0\"/>\n",
       "      <path fill=\"none\" d=\"M16.28,119.05 L 136.42 119.05\" visibility=\"hidden\" gadfly:scale=\"5.0\"/>\n",
       "      <path fill=\"none\" d=\"M16.28,114.57 L 136.42 114.57\" visibility=\"hidden\" gadfly:scale=\"5.0\"/>\n",
       "      <path fill=\"none\" d=\"M16.28,110.09 L 136.42 110.09\" visibility=\"hidden\" gadfly:scale=\"5.0\"/>\n",
       "      <path fill=\"none\" d=\"M16.28,105.61 L 136.42 105.61\" visibility=\"hidden\" gadfly:scale=\"5.0\"/>\n",
       "      <path fill=\"none\" d=\"M16.28,101.13 L 136.42 101.13\" visibility=\"hidden\" gadfly:scale=\"5.0\"/>\n",
       "      <path fill=\"none\" d=\"M16.28,96.64 L 136.42 96.64\" visibility=\"hidden\" gadfly:scale=\"5.0\"/>\n",
       "      <path fill=\"none\" d=\"M16.28,92.16 L 136.42 92.16\" visibility=\"hidden\" gadfly:scale=\"5.0\"/>\n",
       "      <path fill=\"none\" d=\"M16.28,87.68 L 136.42 87.68\" visibility=\"hidden\" gadfly:scale=\"5.0\"/>\n",
       "      <path fill=\"none\" d=\"M16.28,83.2 L 136.42 83.2\" visibility=\"hidden\" gadfly:scale=\"5.0\"/>\n",
       "      <path fill=\"none\" d=\"M16.28,78.71 L 136.42 78.71\" visibility=\"hidden\" gadfly:scale=\"5.0\"/>\n",
       "      <path fill=\"none\" d=\"M16.28,74.23 L 136.42 74.23\" visibility=\"hidden\" gadfly:scale=\"5.0\"/>\n",
       "      <path fill=\"none\" d=\"M16.28,69.75 L 136.42 69.75\" visibility=\"hidden\" gadfly:scale=\"5.0\"/>\n",
       "      <path fill=\"none\" d=\"M16.28,65.27 L 136.42 65.27\" visibility=\"hidden\" gadfly:scale=\"5.0\"/>\n",
       "      <path fill=\"none\" d=\"M16.28,60.79 L 136.42 60.79\" visibility=\"hidden\" gadfly:scale=\"5.0\"/>\n",
       "      <path fill=\"none\" d=\"M16.28,56.3 L 136.42 56.3\" visibility=\"hidden\" gadfly:scale=\"5.0\"/>\n",
       "      <path fill=\"none\" d=\"M16.28,51.82 L 136.42 51.82\" visibility=\"hidden\" gadfly:scale=\"5.0\"/>\n",
       "      <path fill=\"none\" d=\"M16.28,47.34 L 136.42 47.34\" visibility=\"hidden\" gadfly:scale=\"5.0\"/>\n",
       "      <path fill=\"none\" d=\"M16.28,42.86 L 136.42 42.86\" visibility=\"hidden\" gadfly:scale=\"5.0\"/>\n",
       "      <path fill=\"none\" d=\"M16.28,38.38 L 136.42 38.38\" visibility=\"hidden\" gadfly:scale=\"5.0\"/>\n",
       "      <path fill=\"none\" d=\"M16.28,33.89 L 136.42 33.89\" visibility=\"hidden\" gadfly:scale=\"5.0\"/>\n",
       "      <path fill=\"none\" d=\"M16.28,29.41 L 136.42 29.41\" visibility=\"hidden\" gadfly:scale=\"5.0\"/>\n",
       "      <path fill=\"none\" d=\"M16.28,24.93 L 136.42 24.93\" visibility=\"hidden\" gadfly:scale=\"5.0\"/>\n",
       "      <path fill=\"none\" d=\"M16.28,20.45 L 136.42 20.45\" visibility=\"hidden\" gadfly:scale=\"5.0\"/>\n",
       "      <path fill=\"none\" d=\"M16.28,15.96 L 136.42 15.96\" visibility=\"hidden\" gadfly:scale=\"5.0\"/>\n",
       "      <path fill=\"none\" d=\"M16.28,11.48 L 136.42 11.48\" visibility=\"hidden\" gadfly:scale=\"5.0\"/>\n",
       "      <path fill=\"none\" d=\"M16.28,7 L 136.42 7\" visibility=\"hidden\" gadfly:scale=\"5.0\"/>\n",
       "      <path fill=\"none\" d=\"M16.28,2.52 L 136.42 2.52\" visibility=\"hidden\" gadfly:scale=\"5.0\"/>\n",
       "      <path fill=\"none\" d=\"M16.28,-1.96 L 136.42 -1.96\" visibility=\"hidden\" gadfly:scale=\"5.0\"/>\n",
       "      <path fill=\"none\" d=\"M16.28,-6.45 L 136.42 -6.45\" visibility=\"hidden\" gadfly:scale=\"5.0\"/>\n",
       "      <path fill=\"none\" d=\"M16.28,-10.93 L 136.42 -10.93\" visibility=\"hidden\" gadfly:scale=\"5.0\"/>\n",
       "      <path fill=\"none\" d=\"M16.28,-15.41 L 136.42 -15.41\" visibility=\"hidden\" gadfly:scale=\"5.0\"/>\n",
       "      <path fill=\"none\" d=\"M16.28,-19.89 L 136.42 -19.89\" visibility=\"hidden\" gadfly:scale=\"5.0\"/>\n",
       "      <path fill=\"none\" d=\"M16.28,-24.38 L 136.42 -24.38\" visibility=\"hidden\" gadfly:scale=\"5.0\"/>\n",
       "      <path fill=\"none\" d=\"M16.28,-28.86 L 136.42 -28.86\" visibility=\"hidden\" gadfly:scale=\"5.0\"/>\n",
       "      <path fill=\"none\" d=\"M16.28,-33.34 L 136.42 -33.34\" visibility=\"hidden\" gadfly:scale=\"5.0\"/>\n",
       "      <path fill=\"none\" d=\"M16.28,-37.82 L 136.42 -37.82\" visibility=\"hidden\" gadfly:scale=\"5.0\"/>\n",
       "      <path fill=\"none\" d=\"M16.28,-42.3 L 136.42 -42.3\" visibility=\"hidden\" gadfly:scale=\"5.0\"/>\n",
       "      <path fill=\"none\" d=\"M16.28,-46.79 L 136.42 -46.79\" visibility=\"hidden\" gadfly:scale=\"5.0\"/>\n",
       "      <path fill=\"none\" d=\"M16.28,-51.27 L 136.42 -51.27\" visibility=\"hidden\" gadfly:scale=\"5.0\"/>\n",
       "      <path fill=\"none\" d=\"M16.28,-55.75 L 136.42 -55.75\" visibility=\"hidden\" gadfly:scale=\"5.0\"/>\n",
       "      <path fill=\"none\" d=\"M16.28,-60.23 L 136.42 -60.23\" visibility=\"hidden\" gadfly:scale=\"5.0\"/>\n",
       "      <path fill=\"none\" d=\"M16.28,-64.72 L 136.42 -64.72\" visibility=\"hidden\" gadfly:scale=\"5.0\"/>\n",
       "    </g>\n",
       "    <g class=\"guide xgridlines yfixed\" stroke-dasharray=\"0.5,0.5\" stroke-width=\"0.2\" stroke=\"#D0D0E0\" id=\"img-aa3426ca-8\">\n",
       "      <path fill=\"none\" d=\"M46.32,5 L 46.32 80.72\" visibility=\"visible\" gadfly:scale=\"1.0\"/>\n",
       "      <path fill=\"none\" d=\"M76.35,5 L 76.35 80.72\" visibility=\"visible\" gadfly:scale=\"1.0\"/>\n",
       "      <path fill=\"none\" d=\"M106.39,5 L 106.39 80.72\" visibility=\"visible\" gadfly:scale=\"1.0\"/>\n",
       "    </g>\n",
       "    <g class=\"plotpanel\" id=\"img-aa3426ca-9\">\n",
       "      <g class=\"geometry\" stroke-width=\"0.3\" id=\"img-aa3426ca-10\">\n",
       "        <use xlink:href=\"#img-aa3426ca-11\" x=\"61.34\" y=\"60.79\" stroke=\"#FFFFFF\" fill=\"#00BFFF\"/>\n",
       "        <use xlink:href=\"#img-aa3426ca-11\" x=\"61.34\" y=\"41.96\" stroke=\"#FFFFFF\" fill=\"#00BFFF\"/>\n",
       "        <use xlink:href=\"#img-aa3426ca-11\" x=\"61.34\" y=\"41.06\" stroke=\"#FFFFFF\" fill=\"#00BFFF\"/>\n",
       "        <use xlink:href=\"#img-aa3426ca-11\" x=\"61.34\" y=\"39.27\" stroke=\"#FFFFFF\" fill=\"#00BFFF\"/>\n",
       "        <use xlink:href=\"#img-aa3426ca-11\" x=\"91.37\" y=\"68.85\" stroke=\"#FFFFFF\" fill=\"#00BFFF\"/>\n",
       "        <use xlink:href=\"#img-aa3426ca-11\" x=\"91.37\" y=\"67.96\" stroke=\"#FFFFFF\" fill=\"#00BFFF\"/>\n",
       "        <use xlink:href=\"#img-aa3426ca-11\" x=\"91.37\" y=\"67.96\" stroke=\"#FFFFFF\" fill=\"#00BFFF\"/>\n",
       "        <use xlink:href=\"#img-aa3426ca-11\" x=\"91.37\" y=\"67.06\" stroke=\"#FFFFFF\" fill=\"#00BFFF\"/>\n",
       "        <use xlink:href=\"#img-aa3426ca-11\" x=\"91.37\" y=\"67.06\" stroke=\"#FFFFFF\" fill=\"#00BFFF\"/>\n",
       "        <use xlink:href=\"#img-aa3426ca-11\" x=\"91.37\" y=\"67.06\" stroke=\"#FFFFFF\" fill=\"#00BFFF\"/>\n",
       "        <use xlink:href=\"#img-aa3426ca-11\" x=\"91.37\" y=\"67.06\" stroke=\"#FFFFFF\" fill=\"#00BFFF\"/>\n",
       "        <use xlink:href=\"#img-aa3426ca-11\" x=\"91.37\" y=\"67.06\" stroke=\"#FFFFFF\" fill=\"#00BFFF\"/>\n",
       "        <use xlink:href=\"#img-aa3426ca-11\" x=\"91.37\" y=\"67.06\" stroke=\"#FFFFFF\" fill=\"#00BFFF\"/>\n",
       "        <use xlink:href=\"#img-aa3426ca-11\" x=\"91.37\" y=\"67.06\" stroke=\"#FFFFFF\" fill=\"#00BFFF\"/>\n",
       "        <use xlink:href=\"#img-aa3426ca-11\" x=\"91.37\" y=\"66.16\" stroke=\"#FFFFFF\" fill=\"#00BFFF\"/>\n",
       "        <use xlink:href=\"#img-aa3426ca-11\" x=\"91.37\" y=\"66.16\" stroke=\"#FFFFFF\" fill=\"#00BFFF\"/>\n",
       "        <use xlink:href=\"#img-aa3426ca-11\" x=\"91.37\" y=\"66.16\" stroke=\"#FFFFFF\" fill=\"#00BFFF\"/>\n",
       "        <use xlink:href=\"#img-aa3426ca-11\" x=\"91.37\" y=\"66.16\" stroke=\"#FFFFFF\" fill=\"#00BFFF\"/>\n",
       "        <use xlink:href=\"#img-aa3426ca-11\" x=\"91.37\" y=\"66.16\" stroke=\"#FFFFFF\" fill=\"#00BFFF\"/>\n",
       "        <use xlink:href=\"#img-aa3426ca-11\" x=\"91.37\" y=\"66.16\" stroke=\"#FFFFFF\" fill=\"#00BFFF\"/>\n",
       "        <use xlink:href=\"#img-aa3426ca-11\" x=\"91.37\" y=\"66.16\" stroke=\"#FFFFFF\" fill=\"#00BFFF\"/>\n",
       "        <use xlink:href=\"#img-aa3426ca-11\" x=\"91.37\" y=\"66.16\" stroke=\"#FFFFFF\" fill=\"#00BFFF\"/>\n",
       "        <use xlink:href=\"#img-aa3426ca-11\" x=\"91.37\" y=\"66.16\" stroke=\"#FFFFFF\" fill=\"#00BFFF\"/>\n",
       "        <use xlink:href=\"#img-aa3426ca-11\" x=\"91.37\" y=\"66.16\" stroke=\"#FFFFFF\" fill=\"#00BFFF\"/>\n",
       "        <use xlink:href=\"#img-aa3426ca-11\" x=\"91.37\" y=\"66.16\" stroke=\"#FFFFFF\" fill=\"#00BFFF\"/>\n",
       "        <use xlink:href=\"#img-aa3426ca-11\" x=\"91.37\" y=\"66.16\" stroke=\"#FFFFFF\" fill=\"#00BFFF\"/>\n",
       "        <use xlink:href=\"#img-aa3426ca-11\" x=\"91.37\" y=\"66.16\" stroke=\"#FFFFFF\" fill=\"#00BFFF\"/>\n",
       "        <use xlink:href=\"#img-aa3426ca-11\" x=\"91.37\" y=\"69.75\" stroke=\"#FFFFFF\" fill=\"#00BFFF\"/>\n",
       "        <use xlink:href=\"#img-aa3426ca-11\" x=\"121.4\" y=\"77.82\" stroke=\"#FFFFFF\" fill=\"#00BFFF\"/>\n",
       "        <use xlink:href=\"#img-aa3426ca-11\" x=\"121.4\" y=\"77.82\" stroke=\"#FFFFFF\" fill=\"#00BFFF\"/>\n",
       "        <use xlink:href=\"#img-aa3426ca-11\" x=\"121.4\" y=\"77.82\" stroke=\"#FFFFFF\" fill=\"#00BFFF\"/>\n",
       "        <use xlink:href=\"#img-aa3426ca-11\" x=\"121.4\" y=\"77.82\" stroke=\"#FFFFFF\" fill=\"#00BFFF\"/>\n",
       "        <use xlink:href=\"#img-aa3426ca-11\" x=\"121.4\" y=\"77.82\" stroke=\"#FFFFFF\" fill=\"#00BFFF\"/>\n",
       "        <rect x=\"16.78\" y=\"21.34\" width=\"29.03\" height=\"11.65\" stroke=\"#00BFFF\" fill=\"#00BFFF\"/>\n",
       "        <rect x=\"46.82\" y=\"49.13\" width=\"29.03\" height=\"4.48\" stroke=\"#00BFFF\" fill=\"#00BFFF\"/>\n",
       "        <rect x=\"76.85\" y=\"33\" width=\"29.03\" height=\"31.38\" stroke=\"#00BFFF\" fill=\"#00BFFF\"/>\n",
       "        <rect x=\"106.89\" y=\"62.58\" width=\"29.03\" height=\"13.45\" stroke=\"#00BFFF\" fill=\"#00BFFF\"/>\n",
       "        <path fill=\"none\" d=\"M21.62,7.9 L 40.98 7.9\" stroke=\"#00BFFF\"/>\n",
       "        <path fill=\"none\" d=\"M51.66,42.86 L 71.01 42.86\" stroke=\"#00BFFF\"/>\n",
       "        <path fill=\"none\" d=\"M81.69,16.86 L 101.05 16.86\" stroke=\"#00BFFF\"/>\n",
       "        <path fill=\"none\" d=\"M111.73,56.3 L 131.08 56.3\" stroke=\"#00BFFF\"/>\n",
       "        <path fill=\"none\" d=\"M21.62,40.17 L 40.98 40.17\" stroke=\"#00BFFF\"/>\n",
       "        <path fill=\"none\" d=\"M51.66,58.99 L 71.01 58.99\" stroke=\"#00BFFF\"/>\n",
       "        <path fill=\"none\" d=\"M81.69,65.27 L 101.05 65.27\" stroke=\"#00BFFF\"/>\n",
       "        <path fill=\"none\" d=\"M111.73,76.92 L 131.08 76.92\" stroke=\"#00BFFF\"/>\n",
       "        <path fill=\"none\" d=\"M31.3,21.34 L 31.3 7.9\" stroke=\"#00BFFF\"/>\n",
       "        <path fill=\"none\" d=\"M61.34,49.13 L 61.34 42.86\" stroke=\"#00BFFF\"/>\n",
       "        <path fill=\"none\" d=\"M91.37,33 L 91.37 16.86\" stroke=\"#00BFFF\"/>\n",
       "        <path fill=\"none\" d=\"M121.4,62.58 L 121.4 56.3\" stroke=\"#00BFFF\"/>\n",
       "        <path fill=\"none\" d=\"M31.3,33 L 31.3 40.17\" stroke=\"#00BFFF\"/>\n",
       "        <path fill=\"none\" d=\"M61.34,53.61 L 61.34 58.99\" stroke=\"#00BFFF\"/>\n",
       "        <path fill=\"none\" d=\"M91.37,64.37 L 91.37 65.27\" stroke=\"#00BFFF\"/>\n",
       "        <path fill=\"none\" d=\"M121.4,76.03 L 121.4 76.92\" stroke=\"#00BFFF\"/>\n",
       "        <g stroke-width=\"0.6\" id=\"img-aa3426ca-12\">\n",
       "          <path fill=\"none\" d=\"M21.62,26.72 L 40.98 26.72\" stroke=\"#B5FFFF\"/>\n",
       "          <path fill=\"none\" d=\"M51.66,51.82 L 71.01 51.82\" stroke=\"#B5FFFF\"/>\n",
       "          <path fill=\"none\" d=\"M81.69,39.72 L 101.05 39.72\" stroke=\"#B5FFFF\"/>\n",
       "          <path fill=\"none\" d=\"M111.73,67.06 L 131.08 67.06\" stroke=\"#B5FFFF\"/>\n",
       "        </g>\n",
       "      </g>\n",
       "    </g>\n",
       "    <g opacity=\"0\" class=\"guide zoomslider\" stroke=\"#000000\" stroke-opacity=\"0.000\" id=\"img-aa3426ca-13\">\n",
       "      <g fill=\"#EAEAEA\" stroke-width=\"0.3\" stroke-opacity=\"0\" stroke=\"#6A6A6A\" id=\"img-aa3426ca-14\">\n",
       "        <rect x=\"129.42\" y=\"8\" width=\"4\" height=\"4\"/>\n",
       "        <g class=\"button_logo\" fill=\"#6A6A6A\" id=\"img-aa3426ca-15\">\n",
       "          <path d=\"M130.22,9.6 L 131.02 9.6 131.02 8.8 131.82 8.8 131.82 9.6 132.62 9.6 132.62 10.4 131.82 10.4 131.82 11.2 131.02 11.2 131.02 10.4 130.22 10.4 z\"/>\n",
       "        </g>\n",
       "      </g>\n",
       "      <g fill=\"#EAEAEA\" id=\"img-aa3426ca-16\">\n",
       "        <rect x=\"109.92\" y=\"8\" width=\"19\" height=\"4\"/>\n",
       "      </g>\n",
       "      <g class=\"zoomslider_thumb\" fill=\"#6A6A6A\" id=\"img-aa3426ca-17\">\n",
       "        <rect x=\"118.42\" y=\"8\" width=\"2\" height=\"4\"/>\n",
       "      </g>\n",
       "      <g fill=\"#EAEAEA\" stroke-width=\"0.3\" stroke-opacity=\"0\" stroke=\"#6A6A6A\" id=\"img-aa3426ca-18\">\n",
       "        <rect x=\"105.42\" y=\"8\" width=\"4\" height=\"4\"/>\n",
       "        <g class=\"button_logo\" fill=\"#6A6A6A\" id=\"img-aa3426ca-19\">\n",
       "          <path d=\"M106.22,9.6 L 108.62 9.6 108.62 10.4 106.22 10.4 z\"/>\n",
       "        </g>\n",
       "      </g>\n",
       "    </g>\n",
       "  </g>\n",
       "</g>\n",
       "  <g class=\"guide ylabels\" font-size=\"2.82\" font-family=\"'PT Sans Caption','Helvetica Neue','Helvetica',sans-serif\" fill=\"#6C606B\" id=\"img-aa3426ca-20\">\n",
       "    <text x=\"15.28\" y=\"168.36\" text-anchor=\"end\" dy=\"0.35em\" visibility=\"hidden\" gadfly:scale=\"1.0\">-10</text>\n",
       "    <text x=\"15.28\" y=\"150.43\" text-anchor=\"end\" dy=\"0.35em\" visibility=\"hidden\" gadfly:scale=\"1.0\">-8</text>\n",
       "    <text x=\"15.28\" y=\"132.5\" text-anchor=\"end\" dy=\"0.35em\" visibility=\"hidden\" gadfly:scale=\"1.0\">-6</text>\n",
       "    <text x=\"15.28\" y=\"114.57\" text-anchor=\"end\" dy=\"0.35em\" visibility=\"hidden\" gadfly:scale=\"1.0\">-4</text>\n",
       "    <text x=\"15.28\" y=\"96.64\" text-anchor=\"end\" dy=\"0.35em\" visibility=\"hidden\" gadfly:scale=\"1.0\">-2</text>\n",
       "    <text x=\"15.28\" y=\"78.71\" text-anchor=\"end\" dy=\"0.35em\" visibility=\"visible\" gadfly:scale=\"1.0\">0</text>\n",
       "    <text x=\"15.28\" y=\"60.79\" text-anchor=\"end\" dy=\"0.35em\" visibility=\"visible\" gadfly:scale=\"1.0\">2</text>\n",
       "    <text x=\"15.28\" y=\"42.86\" text-anchor=\"end\" dy=\"0.35em\" visibility=\"visible\" gadfly:scale=\"1.0\">4</text>\n",
       "    <text x=\"15.28\" y=\"24.93\" text-anchor=\"end\" dy=\"0.35em\" visibility=\"visible\" gadfly:scale=\"1.0\">6</text>\n",
       "    <text x=\"15.28\" y=\"7\" text-anchor=\"end\" dy=\"0.35em\" visibility=\"visible\" gadfly:scale=\"1.0\">8</text>\n",
       "    <text x=\"15.28\" y=\"-10.93\" text-anchor=\"end\" dy=\"0.35em\" visibility=\"hidden\" gadfly:scale=\"1.0\">10</text>\n",
       "    <text x=\"15.28\" y=\"-28.86\" text-anchor=\"end\" dy=\"0.35em\" visibility=\"hidden\" gadfly:scale=\"1.0\">12</text>\n",
       "    <text x=\"15.28\" y=\"-46.79\" text-anchor=\"end\" dy=\"0.35em\" visibility=\"hidden\" gadfly:scale=\"1.0\">14</text>\n",
       "    <text x=\"15.28\" y=\"-64.72\" text-anchor=\"end\" dy=\"0.35em\" visibility=\"hidden\" gadfly:scale=\"1.0\">16</text>\n",
       "    <text x=\"15.28\" y=\"-82.64\" text-anchor=\"end\" dy=\"0.35em\" visibility=\"hidden\" gadfly:scale=\"1.0\">18</text>\n",
       "    <text x=\"15.28\" y=\"150.43\" text-anchor=\"end\" dy=\"0.35em\" visibility=\"hidden\" gadfly:scale=\"10.0\">-8.0</text>\n",
       "    <text x=\"15.28\" y=\"145.95\" text-anchor=\"end\" dy=\"0.35em\" visibility=\"hidden\" gadfly:scale=\"10.0\">-7.5</text>\n",
       "    <text x=\"15.28\" y=\"141.47\" text-anchor=\"end\" dy=\"0.35em\" visibility=\"hidden\" gadfly:scale=\"10.0\">-7.0</text>\n",
       "    <text x=\"15.28\" y=\"136.98\" text-anchor=\"end\" dy=\"0.35em\" visibility=\"hidden\" gadfly:scale=\"10.0\">-6.5</text>\n",
       "    <text x=\"15.28\" y=\"132.5\" text-anchor=\"end\" dy=\"0.35em\" visibility=\"hidden\" gadfly:scale=\"10.0\">-6.0</text>\n",
       "    <text x=\"15.28\" y=\"128.02\" text-anchor=\"end\" dy=\"0.35em\" visibility=\"hidden\" gadfly:scale=\"10.0\">-5.5</text>\n",
       "    <text x=\"15.28\" y=\"123.54\" text-anchor=\"end\" dy=\"0.35em\" visibility=\"hidden\" gadfly:scale=\"10.0\">-5.0</text>\n",
       "    <text x=\"15.28\" y=\"119.05\" text-anchor=\"end\" dy=\"0.35em\" visibility=\"hidden\" gadfly:scale=\"10.0\">-4.5</text>\n",
       "    <text x=\"15.28\" y=\"114.57\" text-anchor=\"end\" dy=\"0.35em\" visibility=\"hidden\" gadfly:scale=\"10.0\">-4.0</text>\n",
       "    <text x=\"15.28\" y=\"110.09\" text-anchor=\"end\" dy=\"0.35em\" visibility=\"hidden\" gadfly:scale=\"10.0\">-3.5</text>\n",
       "    <text x=\"15.28\" y=\"105.61\" text-anchor=\"end\" dy=\"0.35em\" visibility=\"hidden\" gadfly:scale=\"10.0\">-3.0</text>\n",
       "    <text x=\"15.28\" y=\"101.13\" text-anchor=\"end\" dy=\"0.35em\" visibility=\"hidden\" gadfly:scale=\"10.0\">-2.5</text>\n",
       "    <text x=\"15.28\" y=\"96.64\" text-anchor=\"end\" dy=\"0.35em\" visibility=\"hidden\" gadfly:scale=\"10.0\">-2.0</text>\n",
       "    <text x=\"15.28\" y=\"92.16\" text-anchor=\"end\" dy=\"0.35em\" visibility=\"hidden\" gadfly:scale=\"10.0\">-1.5</text>\n",
       "    <text x=\"15.28\" y=\"87.68\" text-anchor=\"end\" dy=\"0.35em\" visibility=\"hidden\" gadfly:scale=\"10.0\">-1.0</text>\n",
       "    <text x=\"15.28\" y=\"83.2\" text-anchor=\"end\" dy=\"0.35em\" visibility=\"hidden\" gadfly:scale=\"10.0\">-0.5</text>\n",
       "    <text x=\"15.28\" y=\"78.71\" text-anchor=\"end\" dy=\"0.35em\" visibility=\"hidden\" gadfly:scale=\"10.0\">0.0</text>\n",
       "    <text x=\"15.28\" y=\"74.23\" text-anchor=\"end\" dy=\"0.35em\" visibility=\"hidden\" gadfly:scale=\"10.0\">0.5</text>\n",
       "    <text x=\"15.28\" y=\"69.75\" text-anchor=\"end\" dy=\"0.35em\" visibility=\"hidden\" gadfly:scale=\"10.0\">1.0</text>\n",
       "    <text x=\"15.28\" y=\"65.27\" text-anchor=\"end\" dy=\"0.35em\" visibility=\"hidden\" gadfly:scale=\"10.0\">1.5</text>\n",
       "    <text x=\"15.28\" y=\"60.79\" text-anchor=\"end\" dy=\"0.35em\" visibility=\"hidden\" gadfly:scale=\"10.0\">2.0</text>\n",
       "    <text x=\"15.28\" y=\"56.3\" text-anchor=\"end\" dy=\"0.35em\" visibility=\"hidden\" gadfly:scale=\"10.0\">2.5</text>\n",
       "    <text x=\"15.28\" y=\"51.82\" text-anchor=\"end\" dy=\"0.35em\" visibility=\"hidden\" gadfly:scale=\"10.0\">3.0</text>\n",
       "    <text x=\"15.28\" y=\"47.34\" text-anchor=\"end\" dy=\"0.35em\" visibility=\"hidden\" gadfly:scale=\"10.0\">3.5</text>\n",
       "    <text x=\"15.28\" y=\"42.86\" text-anchor=\"end\" dy=\"0.35em\" visibility=\"hidden\" gadfly:scale=\"10.0\">4.0</text>\n",
       "    <text x=\"15.28\" y=\"38.38\" text-anchor=\"end\" dy=\"0.35em\" visibility=\"hidden\" gadfly:scale=\"10.0\">4.5</text>\n",
       "    <text x=\"15.28\" y=\"33.89\" text-anchor=\"end\" dy=\"0.35em\" visibility=\"hidden\" gadfly:scale=\"10.0\">5.0</text>\n",
       "    <text x=\"15.28\" y=\"29.41\" text-anchor=\"end\" dy=\"0.35em\" visibility=\"hidden\" gadfly:scale=\"10.0\">5.5</text>\n",
       "    <text x=\"15.28\" y=\"24.93\" text-anchor=\"end\" dy=\"0.35em\" visibility=\"hidden\" gadfly:scale=\"10.0\">6.0</text>\n",
       "    <text x=\"15.28\" y=\"20.45\" text-anchor=\"end\" dy=\"0.35em\" visibility=\"hidden\" gadfly:scale=\"10.0\">6.5</text>\n",
       "    <text x=\"15.28\" y=\"15.96\" text-anchor=\"end\" dy=\"0.35em\" visibility=\"hidden\" gadfly:scale=\"10.0\">7.0</text>\n",
       "    <text x=\"15.28\" y=\"11.48\" text-anchor=\"end\" dy=\"0.35em\" visibility=\"hidden\" gadfly:scale=\"10.0\">7.5</text>\n",
       "    <text x=\"15.28\" y=\"7\" text-anchor=\"end\" dy=\"0.35em\" visibility=\"hidden\" gadfly:scale=\"10.0\">8.0</text>\n",
       "    <text x=\"15.28\" y=\"2.52\" text-anchor=\"end\" dy=\"0.35em\" visibility=\"hidden\" gadfly:scale=\"10.0\">8.5</text>\n",
       "    <text x=\"15.28\" y=\"-1.96\" text-anchor=\"end\" dy=\"0.35em\" visibility=\"hidden\" gadfly:scale=\"10.0\">9.0</text>\n",
       "    <text x=\"15.28\" y=\"-6.45\" text-anchor=\"end\" dy=\"0.35em\" visibility=\"hidden\" gadfly:scale=\"10.0\">9.5</text>\n",
       "    <text x=\"15.28\" y=\"-10.93\" text-anchor=\"end\" dy=\"0.35em\" visibility=\"hidden\" gadfly:scale=\"10.0\">10.0</text>\n",
       "    <text x=\"15.28\" y=\"-15.41\" text-anchor=\"end\" dy=\"0.35em\" visibility=\"hidden\" gadfly:scale=\"10.0\">10.5</text>\n",
       "    <text x=\"15.28\" y=\"-19.89\" text-anchor=\"end\" dy=\"0.35em\" visibility=\"hidden\" gadfly:scale=\"10.0\">11.0</text>\n",
       "    <text x=\"15.28\" y=\"-24.38\" text-anchor=\"end\" dy=\"0.35em\" visibility=\"hidden\" gadfly:scale=\"10.0\">11.5</text>\n",
       "    <text x=\"15.28\" y=\"-28.86\" text-anchor=\"end\" dy=\"0.35em\" visibility=\"hidden\" gadfly:scale=\"10.0\">12.0</text>\n",
       "    <text x=\"15.28\" y=\"-33.34\" text-anchor=\"end\" dy=\"0.35em\" visibility=\"hidden\" gadfly:scale=\"10.0\">12.5</text>\n",
       "    <text x=\"15.28\" y=\"-37.82\" text-anchor=\"end\" dy=\"0.35em\" visibility=\"hidden\" gadfly:scale=\"10.0\">13.0</text>\n",
       "    <text x=\"15.28\" y=\"-42.3\" text-anchor=\"end\" dy=\"0.35em\" visibility=\"hidden\" gadfly:scale=\"10.0\">13.5</text>\n",
       "    <text x=\"15.28\" y=\"-46.79\" text-anchor=\"end\" dy=\"0.35em\" visibility=\"hidden\" gadfly:scale=\"10.0\">14.0</text>\n",
       "    <text x=\"15.28\" y=\"-51.27\" text-anchor=\"end\" dy=\"0.35em\" visibility=\"hidden\" gadfly:scale=\"10.0\">14.5</text>\n",
       "    <text x=\"15.28\" y=\"-55.75\" text-anchor=\"end\" dy=\"0.35em\" visibility=\"hidden\" gadfly:scale=\"10.0\">15.0</text>\n",
       "    <text x=\"15.28\" y=\"-60.23\" text-anchor=\"end\" dy=\"0.35em\" visibility=\"hidden\" gadfly:scale=\"10.0\">15.5</text>\n",
       "    <text x=\"15.28\" y=\"-64.72\" text-anchor=\"end\" dy=\"0.35em\" visibility=\"hidden\" gadfly:scale=\"10.0\">16.0</text>\n",
       "    <text x=\"15.28\" y=\"168.36\" text-anchor=\"end\" dy=\"0.35em\" visibility=\"hidden\" gadfly:scale=\"0.5\">-10</text>\n",
       "    <text x=\"15.28\" y=\"78.71\" text-anchor=\"end\" dy=\"0.35em\" visibility=\"hidden\" gadfly:scale=\"0.5\">0</text>\n",
       "    <text x=\"15.28\" y=\"-10.93\" text-anchor=\"end\" dy=\"0.35em\" visibility=\"hidden\" gadfly:scale=\"0.5\">10</text>\n",
       "    <text x=\"15.28\" y=\"-100.57\" text-anchor=\"end\" dy=\"0.35em\" visibility=\"hidden\" gadfly:scale=\"0.5\">20</text>\n",
       "    <text x=\"15.28\" y=\"150.43\" text-anchor=\"end\" dy=\"0.35em\" visibility=\"hidden\" gadfly:scale=\"5.0\">-8.0</text>\n",
       "    <text x=\"15.28\" y=\"145.95\" text-anchor=\"end\" dy=\"0.35em\" visibility=\"hidden\" gadfly:scale=\"5.0\">-7.5</text>\n",
       "    <text x=\"15.28\" y=\"141.47\" text-anchor=\"end\" dy=\"0.35em\" visibility=\"hidden\" gadfly:scale=\"5.0\">-7.0</text>\n",
       "    <text x=\"15.28\" y=\"136.98\" text-anchor=\"end\" dy=\"0.35em\" visibility=\"hidden\" gadfly:scale=\"5.0\">-6.5</text>\n",
       "    <text x=\"15.28\" y=\"132.5\" text-anchor=\"end\" dy=\"0.35em\" visibility=\"hidden\" gadfly:scale=\"5.0\">-6.0</text>\n",
       "    <text x=\"15.28\" y=\"128.02\" text-anchor=\"end\" dy=\"0.35em\" visibility=\"hidden\" gadfly:scale=\"5.0\">-5.5</text>\n",
       "    <text x=\"15.28\" y=\"123.54\" text-anchor=\"end\" dy=\"0.35em\" visibility=\"hidden\" gadfly:scale=\"5.0\">-5.0</text>\n",
       "    <text x=\"15.28\" y=\"119.05\" text-anchor=\"end\" dy=\"0.35em\" visibility=\"hidden\" gadfly:scale=\"5.0\">-4.5</text>\n",
       "    <text x=\"15.28\" y=\"114.57\" text-anchor=\"end\" dy=\"0.35em\" visibility=\"hidden\" gadfly:scale=\"5.0\">-4.0</text>\n",
       "    <text x=\"15.28\" y=\"110.09\" text-anchor=\"end\" dy=\"0.35em\" visibility=\"hidden\" gadfly:scale=\"5.0\">-3.5</text>\n",
       "    <text x=\"15.28\" y=\"105.61\" text-anchor=\"end\" dy=\"0.35em\" visibility=\"hidden\" gadfly:scale=\"5.0\">-3.0</text>\n",
       "    <text x=\"15.28\" y=\"101.13\" text-anchor=\"end\" dy=\"0.35em\" visibility=\"hidden\" gadfly:scale=\"5.0\">-2.5</text>\n",
       "    <text x=\"15.28\" y=\"96.64\" text-anchor=\"end\" dy=\"0.35em\" visibility=\"hidden\" gadfly:scale=\"5.0\">-2.0</text>\n",
       "    <text x=\"15.28\" y=\"92.16\" text-anchor=\"end\" dy=\"0.35em\" visibility=\"hidden\" gadfly:scale=\"5.0\">-1.5</text>\n",
       "    <text x=\"15.28\" y=\"87.68\" text-anchor=\"end\" dy=\"0.35em\" visibility=\"hidden\" gadfly:scale=\"5.0\">-1.0</text>\n",
       "    <text x=\"15.28\" y=\"83.2\" text-anchor=\"end\" dy=\"0.35em\" visibility=\"hidden\" gadfly:scale=\"5.0\">-0.5</text>\n",
       "    <text x=\"15.28\" y=\"78.71\" text-anchor=\"end\" dy=\"0.35em\" visibility=\"hidden\" gadfly:scale=\"5.0\">0.0</text>\n",
       "    <text x=\"15.28\" y=\"74.23\" text-anchor=\"end\" dy=\"0.35em\" visibility=\"hidden\" gadfly:scale=\"5.0\">0.5</text>\n",
       "    <text x=\"15.28\" y=\"69.75\" text-anchor=\"end\" dy=\"0.35em\" visibility=\"hidden\" gadfly:scale=\"5.0\">1.0</text>\n",
       "    <text x=\"15.28\" y=\"65.27\" text-anchor=\"end\" dy=\"0.35em\" visibility=\"hidden\" gadfly:scale=\"5.0\">1.5</text>\n",
       "    <text x=\"15.28\" y=\"60.79\" text-anchor=\"end\" dy=\"0.35em\" visibility=\"hidden\" gadfly:scale=\"5.0\">2.0</text>\n",
       "    <text x=\"15.28\" y=\"56.3\" text-anchor=\"end\" dy=\"0.35em\" visibility=\"hidden\" gadfly:scale=\"5.0\">2.5</text>\n",
       "    <text x=\"15.28\" y=\"51.82\" text-anchor=\"end\" dy=\"0.35em\" visibility=\"hidden\" gadfly:scale=\"5.0\">3.0</text>\n",
       "    <text x=\"15.28\" y=\"47.34\" text-anchor=\"end\" dy=\"0.35em\" visibility=\"hidden\" gadfly:scale=\"5.0\">3.5</text>\n",
       "    <text x=\"15.28\" y=\"42.86\" text-anchor=\"end\" dy=\"0.35em\" visibility=\"hidden\" gadfly:scale=\"5.0\">4.0</text>\n",
       "    <text x=\"15.28\" y=\"38.38\" text-anchor=\"end\" dy=\"0.35em\" visibility=\"hidden\" gadfly:scale=\"5.0\">4.5</text>\n",
       "    <text x=\"15.28\" y=\"33.89\" text-anchor=\"end\" dy=\"0.35em\" visibility=\"hidden\" gadfly:scale=\"5.0\">5.0</text>\n",
       "    <text x=\"15.28\" y=\"29.41\" text-anchor=\"end\" dy=\"0.35em\" visibility=\"hidden\" gadfly:scale=\"5.0\">5.5</text>\n",
       "    <text x=\"15.28\" y=\"24.93\" text-anchor=\"end\" dy=\"0.35em\" visibility=\"hidden\" gadfly:scale=\"5.0\">6.0</text>\n",
       "    <text x=\"15.28\" y=\"20.45\" text-anchor=\"end\" dy=\"0.35em\" visibility=\"hidden\" gadfly:scale=\"5.0\">6.5</text>\n",
       "    <text x=\"15.28\" y=\"15.96\" text-anchor=\"end\" dy=\"0.35em\" visibility=\"hidden\" gadfly:scale=\"5.0\">7.0</text>\n",
       "    <text x=\"15.28\" y=\"11.48\" text-anchor=\"end\" dy=\"0.35em\" visibility=\"hidden\" gadfly:scale=\"5.0\">7.5</text>\n",
       "    <text x=\"15.28\" y=\"7\" text-anchor=\"end\" dy=\"0.35em\" visibility=\"hidden\" gadfly:scale=\"5.0\">8.0</text>\n",
       "    <text x=\"15.28\" y=\"2.52\" text-anchor=\"end\" dy=\"0.35em\" visibility=\"hidden\" gadfly:scale=\"5.0\">8.5</text>\n",
       "    <text x=\"15.28\" y=\"-1.96\" text-anchor=\"end\" dy=\"0.35em\" visibility=\"hidden\" gadfly:scale=\"5.0\">9.0</text>\n",
       "    <text x=\"15.28\" y=\"-6.45\" text-anchor=\"end\" dy=\"0.35em\" visibility=\"hidden\" gadfly:scale=\"5.0\">9.5</text>\n",
       "    <text x=\"15.28\" y=\"-10.93\" text-anchor=\"end\" dy=\"0.35em\" visibility=\"hidden\" gadfly:scale=\"5.0\">10.0</text>\n",
       "    <text x=\"15.28\" y=\"-15.41\" text-anchor=\"end\" dy=\"0.35em\" visibility=\"hidden\" gadfly:scale=\"5.0\">10.5</text>\n",
       "    <text x=\"15.28\" y=\"-19.89\" text-anchor=\"end\" dy=\"0.35em\" visibility=\"hidden\" gadfly:scale=\"5.0\">11.0</text>\n",
       "    <text x=\"15.28\" y=\"-24.38\" text-anchor=\"end\" dy=\"0.35em\" visibility=\"hidden\" gadfly:scale=\"5.0\">11.5</text>\n",
       "    <text x=\"15.28\" y=\"-28.86\" text-anchor=\"end\" dy=\"0.35em\" visibility=\"hidden\" gadfly:scale=\"5.0\">12.0</text>\n",
       "    <text x=\"15.28\" y=\"-33.34\" text-anchor=\"end\" dy=\"0.35em\" visibility=\"hidden\" gadfly:scale=\"5.0\">12.5</text>\n",
       "    <text x=\"15.28\" y=\"-37.82\" text-anchor=\"end\" dy=\"0.35em\" visibility=\"hidden\" gadfly:scale=\"5.0\">13.0</text>\n",
       "    <text x=\"15.28\" y=\"-42.3\" text-anchor=\"end\" dy=\"0.35em\" visibility=\"hidden\" gadfly:scale=\"5.0\">13.5</text>\n",
       "    <text x=\"15.28\" y=\"-46.79\" text-anchor=\"end\" dy=\"0.35em\" visibility=\"hidden\" gadfly:scale=\"5.0\">14.0</text>\n",
       "    <text x=\"15.28\" y=\"-51.27\" text-anchor=\"end\" dy=\"0.35em\" visibility=\"hidden\" gadfly:scale=\"5.0\">14.5</text>\n",
       "    <text x=\"15.28\" y=\"-55.75\" text-anchor=\"end\" dy=\"0.35em\" visibility=\"hidden\" gadfly:scale=\"5.0\">15.0</text>\n",
       "    <text x=\"15.28\" y=\"-60.23\" text-anchor=\"end\" dy=\"0.35em\" visibility=\"hidden\" gadfly:scale=\"5.0\">15.5</text>\n",
       "    <text x=\"15.28\" y=\"-64.72\" text-anchor=\"end\" dy=\"0.35em\" visibility=\"hidden\" gadfly:scale=\"5.0\">16.0</text>\n",
       "  </g>\n",
       "  <g font-size=\"3.88\" font-family=\"'PT Sans','Helvetica Neue','Helvetica',sans-serif\" fill=\"#564A55\" stroke=\"#000000\" stroke-opacity=\"0.000\" id=\"img-aa3426ca-21\">\n",
       "    <text x=\"8.81\" y=\"40.86\" text-anchor=\"middle\" dy=\"0.35em\" transform=\"rotate(-90, 8.81, 42.86)\">value</text>\n",
       "  </g>\n",
       "</g>\n",
       "<defs>\n",
       "  <clipPath id=\"img-aa3426ca-4\">\n",
       "  <path d=\"M16.28,5 L 136.42 5 136.42 80.72 16.28 80.72\" />\n",
       "</clipPath>\n",
       "  <g id=\"img-aa3426ca-11\">\n",
       "    <circle cx=\"0\" cy=\"0\" r=\"0.9\"/>\n",
       "  </g>\n",
       "</defs>\n",
       "<script> <![CDATA[\n",
       "(function(N){var k=/[\\.\\/]/,L=/\\s*,\\s*/,C=function(a,d){return a-d},a,v,y={n:{}},M=function(){for(var a=0,d=this.length;a<d;a++)if(\"undefined\"!=typeof this[a])return this[a]},A=function(){for(var a=this.length;--a;)if(\"undefined\"!=typeof this[a])return this[a]},w=function(k,d){k=String(k);var f=v,n=Array.prototype.slice.call(arguments,2),u=w.listeners(k),p=0,b,q=[],e={},l=[],r=a;l.firstDefined=M;l.lastDefined=A;a=k;for(var s=v=0,x=u.length;s<x;s++)\"zIndex\"in u[s]&&(q.push(u[s].zIndex),0>u[s].zIndex&&\n",
       "(e[u[s].zIndex]=u[s]));for(q.sort(C);0>q[p];)if(b=e[q[p++] ],l.push(b.apply(d,n)),v)return v=f,l;for(s=0;s<x;s++)if(b=u[s],\"zIndex\"in b)if(b.zIndex==q[p]){l.push(b.apply(d,n));if(v)break;do if(p++,(b=e[q[p] ])&&l.push(b.apply(d,n)),v)break;while(b)}else e[b.zIndex]=b;else if(l.push(b.apply(d,n)),v)break;v=f;a=r;return l};w._events=y;w.listeners=function(a){a=a.split(k);var d=y,f,n,u,p,b,q,e,l=[d],r=[];u=0;for(p=a.length;u<p;u++){e=[];b=0;for(q=l.length;b<q;b++)for(d=l[b].n,f=[d[a[u] ],d[\"*\"] ],n=2;n--;)if(d=\n",
       "f[n])e.push(d),r=r.concat(d.f||[]);l=e}return r};w.on=function(a,d){a=String(a);if(\"function\"!=typeof d)return function(){};for(var f=a.split(L),n=0,u=f.length;n<u;n++)(function(a){a=a.split(k);for(var b=y,f,e=0,l=a.length;e<l;e++)b=b.n,b=b.hasOwnProperty(a[e])&&b[a[e] ]||(b[a[e] ]={n:{}});b.f=b.f||[];e=0;for(l=b.f.length;e<l;e++)if(b.f[e]==d){f=!0;break}!f&&b.f.push(d)})(f[n]);return function(a){+a==+a&&(d.zIndex=+a)}};w.f=function(a){var d=[].slice.call(arguments,1);return function(){w.apply(null,\n",
       "[a,null].concat(d).concat([].slice.call(arguments,0)))}};w.stop=function(){v=1};w.nt=function(k){return k?(new RegExp(\"(?:\\\\.|\\\\/|^)\"+k+\"(?:\\\\.|\\\\/|$)\")).test(a):a};w.nts=function(){return a.split(k)};w.off=w.unbind=function(a,d){if(a){var f=a.split(L);if(1<f.length)for(var n=0,u=f.length;n<u;n++)w.off(f[n],d);else{for(var f=a.split(k),p,b,q,e,l=[y],n=0,u=f.length;n<u;n++)for(e=0;e<l.length;e+=q.length-2){q=[e,1];p=l[e].n;if(\"*\"!=f[n])p[f[n] ]&&q.push(p[f[n] ]);else for(b in p)p.hasOwnProperty(b)&&\n",
       "q.push(p[b]);l.splice.apply(l,q)}n=0;for(u=l.length;n<u;n++)for(p=l[n];p.n;){if(d){if(p.f){e=0;for(f=p.f.length;e<f;e++)if(p.f[e]==d){p.f.splice(e,1);break}!p.f.length&&delete p.f}for(b in p.n)if(p.n.hasOwnProperty(b)&&p.n[b].f){q=p.n[b].f;e=0;for(f=q.length;e<f;e++)if(q[e]==d){q.splice(e,1);break}!q.length&&delete p.n[b].f}}else for(b in delete p.f,p.n)p.n.hasOwnProperty(b)&&p.n[b].f&&delete p.n[b].f;p=p.n}}}else w._events=y={n:{}}};w.once=function(a,d){var f=function(){w.unbind(a,f);return d.apply(this,\n",
       "arguments)};return w.on(a,f)};w.version=\"0.4.2\";w.toString=function(){return\"You are running Eve 0.4.2\"};\"undefined\"!=typeof module&&module.exports?module.exports=w:\"function\"===typeof define&&define.amd?define(\"eve\",[],function(){return w}):N.eve=w})(this);\n",
       "(function(N,k){\"function\"===typeof define&&define.amd?define(\"Snap.svg\",[\"eve\"],function(L){return k(N,L)}):k(N,N.eve)})(this,function(N,k){var L=function(a){var k={},y=N.requestAnimationFrame||N.webkitRequestAnimationFrame||N.mozRequestAnimationFrame||N.oRequestAnimationFrame||N.msRequestAnimationFrame||function(a){setTimeout(a,16)},M=Array.isArray||function(a){return a instanceof Array||\"[object Array]\"==Object.prototype.toString.call(a)},A=0,w=\"M\"+(+new Date).toString(36),z=function(a){if(null==\n",
       "a)return this.s;var b=this.s-a;this.b+=this.dur*b;this.B+=this.dur*b;this.s=a},d=function(a){if(null==a)return this.spd;this.spd=a},f=function(a){if(null==a)return this.dur;this.s=this.s*a/this.dur;this.dur=a},n=function(){delete k[this.id];this.update();a(\"mina.stop.\"+this.id,this)},u=function(){this.pdif||(delete k[this.id],this.update(),this.pdif=this.get()-this.b)},p=function(){this.pdif&&(this.b=this.get()-this.pdif,delete this.pdif,k[this.id]=this)},b=function(){var a;if(M(this.start)){a=[];\n",
       "for(var b=0,e=this.start.length;b<e;b++)a[b]=+this.start[b]+(this.end[b]-this.start[b])*this.easing(this.s)}else a=+this.start+(this.end-this.start)*this.easing(this.s);this.set(a)},q=function(){var l=0,b;for(b in k)if(k.hasOwnProperty(b)){var e=k[b],f=e.get();l++;e.s=(f-e.b)/(e.dur/e.spd);1<=e.s&&(delete k[b],e.s=1,l--,function(b){setTimeout(function(){a(\"mina.finish.\"+b.id,b)})}(e));e.update()}l&&y(q)},e=function(a,r,s,x,G,h,J){a={id:w+(A++).toString(36),start:a,end:r,b:s,s:0,dur:x-s,spd:1,get:G,\n",
       "set:h,easing:J||e.linear,status:z,speed:d,duration:f,stop:n,pause:u,resume:p,update:b};k[a.id]=a;r=0;for(var K in k)if(k.hasOwnProperty(K)&&(r++,2==r))break;1==r&&y(q);return a};e.time=Date.now||function(){return+new Date};e.getById=function(a){return k[a]||null};e.linear=function(a){return a};e.easeout=function(a){return Math.pow(a,1.7)};e.easein=function(a){return Math.pow(a,0.48)};e.easeinout=function(a){if(1==a)return 1;if(0==a)return 0;var b=0.48-a/1.04,e=Math.sqrt(0.1734+b*b);a=e-b;a=Math.pow(Math.abs(a),\n",
       "1/3)*(0>a?-1:1);b=-e-b;b=Math.pow(Math.abs(b),1/3)*(0>b?-1:1);a=a+b+0.5;return 3*(1-a)*a*a+a*a*a};e.backin=function(a){return 1==a?1:a*a*(2.70158*a-1.70158)};e.backout=function(a){if(0==a)return 0;a-=1;return a*a*(2.70158*a+1.70158)+1};e.elastic=function(a){return a==!!a?a:Math.pow(2,-10*a)*Math.sin(2*(a-0.075)*Math.PI/0.3)+1};e.bounce=function(a){a<1/2.75?a*=7.5625*a:a<2/2.75?(a-=1.5/2.75,a=7.5625*a*a+0.75):a<2.5/2.75?(a-=2.25/2.75,a=7.5625*a*a+0.9375):(a-=2.625/2.75,a=7.5625*a*a+0.984375);return a};\n",
       "return N.mina=e}(\"undefined\"==typeof k?function(){}:k),C=function(){function a(c,t){if(c){if(c.tagName)return x(c);if(y(c,\"array\")&&a.set)return a.set.apply(a,c);if(c instanceof e)return c;if(null==t)return c=G.doc.querySelector(c),x(c)}return new s(null==c?\"100%\":c,null==t?\"100%\":t)}function v(c,a){if(a){\"#text\"==c&&(c=G.doc.createTextNode(a.text||\"\"));\"string\"==typeof c&&(c=v(c));if(\"string\"==typeof a)return\"xlink:\"==a.substring(0,6)?c.getAttributeNS(m,a.substring(6)):\"xml:\"==a.substring(0,4)?c.getAttributeNS(la,\n",
       "a.substring(4)):c.getAttribute(a);for(var da in a)if(a[h](da)){var b=J(a[da]);b?\"xlink:\"==da.substring(0,6)?c.setAttributeNS(m,da.substring(6),b):\"xml:\"==da.substring(0,4)?c.setAttributeNS(la,da.substring(4),b):c.setAttribute(da,b):c.removeAttribute(da)}}else c=G.doc.createElementNS(la,c);return c}function y(c,a){a=J.prototype.toLowerCase.call(a);return\"finite\"==a?isFinite(c):\"array\"==a&&(c instanceof Array||Array.isArray&&Array.isArray(c))?!0:\"null\"==a&&null===c||a==typeof c&&null!==c||\"object\"==\n",
       "a&&c===Object(c)||$.call(c).slice(8,-1).toLowerCase()==a}function M(c){if(\"function\"==typeof c||Object(c)!==c)return c;var a=new c.constructor,b;for(b in c)c[h](b)&&(a[b]=M(c[b]));return a}function A(c,a,b){function m(){var e=Array.prototype.slice.call(arguments,0),f=e.join(\"\\u2400\"),d=m.cache=m.cache||{},l=m.count=m.count||[];if(d[h](f)){a:for(var e=l,l=f,B=0,H=e.length;B<H;B++)if(e[B]===l){e.push(e.splice(B,1)[0]);break a}return b?b(d[f]):d[f]}1E3<=l.length&&delete d[l.shift()];l.push(f);d[f]=c.apply(a,\n",
       "e);return b?b(d[f]):d[f]}return m}function w(c,a,b,m,e,f){return null==e?(c-=b,a-=m,c||a?(180*I.atan2(-a,-c)/C+540)%360:0):w(c,a,e,f)-w(b,m,e,f)}function z(c){return c%360*C/180}function d(c){var a=[];c=c.replace(/(?:^|\\s)(\\w+)\\(([^)]+)\\)/g,function(c,b,m){m=m.split(/\\s*,\\s*|\\s+/);\"rotate\"==b&&1==m.length&&m.push(0,0);\"scale\"==b&&(2<m.length?m=m.slice(0,2):2==m.length&&m.push(0,0),1==m.length&&m.push(m[0],0,0));\"skewX\"==b?a.push([\"m\",1,0,I.tan(z(m[0])),1,0,0]):\"skewY\"==b?a.push([\"m\",1,I.tan(z(m[0])),\n",
       "0,1,0,0]):a.push([b.charAt(0)].concat(m));return c});return a}function f(c,t){var b=O(c),m=new a.Matrix;if(b)for(var e=0,f=b.length;e<f;e++){var h=b[e],d=h.length,B=J(h[0]).toLowerCase(),H=h[0]!=B,l=H?m.invert():0,E;\"t\"==B&&2==d?m.translate(h[1],0):\"t\"==B&&3==d?H?(d=l.x(0,0),B=l.y(0,0),H=l.x(h[1],h[2]),l=l.y(h[1],h[2]),m.translate(H-d,l-B)):m.translate(h[1],h[2]):\"r\"==B?2==d?(E=E||t,m.rotate(h[1],E.x+E.width/2,E.y+E.height/2)):4==d&&(H?(H=l.x(h[2],h[3]),l=l.y(h[2],h[3]),m.rotate(h[1],H,l)):m.rotate(h[1],\n",
       "h[2],h[3])):\"s\"==B?2==d||3==d?(E=E||t,m.scale(h[1],h[d-1],E.x+E.width/2,E.y+E.height/2)):4==d?H?(H=l.x(h[2],h[3]),l=l.y(h[2],h[3]),m.scale(h[1],h[1],H,l)):m.scale(h[1],h[1],h[2],h[3]):5==d&&(H?(H=l.x(h[3],h[4]),l=l.y(h[3],h[4]),m.scale(h[1],h[2],H,l)):m.scale(h[1],h[2],h[3],h[4])):\"m\"==B&&7==d&&m.add(h[1],h[2],h[3],h[4],h[5],h[6])}return m}function n(c,t){if(null==t){var m=!0;t=\"linearGradient\"==c.type||\"radialGradient\"==c.type?c.node.getAttribute(\"gradientTransform\"):\"pattern\"==c.type?c.node.getAttribute(\"patternTransform\"):\n",
       "c.node.getAttribute(\"transform\");if(!t)return new a.Matrix;t=d(t)}else t=a._.rgTransform.test(t)?J(t).replace(/\\.{3}|\\u2026/g,c._.transform||aa):d(t),y(t,\"array\")&&(t=a.path?a.path.toString.call(t):J(t)),c._.transform=t;var b=f(t,c.getBBox(1));if(m)return b;c.matrix=b}function u(c){c=c.node.ownerSVGElement&&x(c.node.ownerSVGElement)||c.node.parentNode&&x(c.node.parentNode)||a.select(\"svg\")||a(0,0);var t=c.select(\"defs\"),t=null==t?!1:t.node;t||(t=r(\"defs\",c.node).node);return t}function p(c){return c.node.ownerSVGElement&&\n",
       "x(c.node.ownerSVGElement)||a.select(\"svg\")}function b(c,a,m){function b(c){if(null==c)return aa;if(c==+c)return c;v(B,{width:c});try{return B.getBBox().width}catch(a){return 0}}function h(c){if(null==c)return aa;if(c==+c)return c;v(B,{height:c});try{return B.getBBox().height}catch(a){return 0}}function e(b,B){null==a?d[b]=B(c.attr(b)||0):b==a&&(d=B(null==m?c.attr(b)||0:m))}var f=p(c).node,d={},B=f.querySelector(\".svg---mgr\");B||(B=v(\"rect\"),v(B,{x:-9E9,y:-9E9,width:10,height:10,\"class\":\"svg---mgr\",\n",
       "fill:\"none\"}),f.appendChild(B));switch(c.type){case \"rect\":e(\"rx\",b),e(\"ry\",h);case \"image\":e(\"width\",b),e(\"height\",h);case \"text\":e(\"x\",b);e(\"y\",h);break;case \"circle\":e(\"cx\",b);e(\"cy\",h);e(\"r\",b);break;case \"ellipse\":e(\"cx\",b);e(\"cy\",h);e(\"rx\",b);e(\"ry\",h);break;case \"line\":e(\"x1\",b);e(\"x2\",b);e(\"y1\",h);e(\"y2\",h);break;case \"marker\":e(\"refX\",b);e(\"markerWidth\",b);e(\"refY\",h);e(\"markerHeight\",h);break;case \"radialGradient\":e(\"fx\",b);e(\"fy\",h);break;case \"tspan\":e(\"dx\",b);e(\"dy\",h);break;default:e(a,\n",
       "b)}f.removeChild(B);return d}function q(c){y(c,\"array\")||(c=Array.prototype.slice.call(arguments,0));for(var a=0,b=0,m=this.node;this[a];)delete this[a++];for(a=0;a<c.length;a++)\"set\"==c[a].type?c[a].forEach(function(c){m.appendChild(c.node)}):m.appendChild(c[a].node);for(var h=m.childNodes,a=0;a<h.length;a++)this[b++]=x(h[a]);return this}function e(c){if(c.snap in E)return E[c.snap];var a=this.id=V(),b;try{b=c.ownerSVGElement}catch(m){}this.node=c;b&&(this.paper=new s(b));this.type=c.tagName;this.anims=\n",
       "{};this._={transform:[]};c.snap=a;E[a]=this;\"g\"==this.type&&(this.add=q);if(this.type in{g:1,mask:1,pattern:1})for(var e in s.prototype)s.prototype[h](e)&&(this[e]=s.prototype[e])}function l(c){this.node=c}function r(c,a){var b=v(c);a.appendChild(b);return x(b)}function s(c,a){var b,m,f,d=s.prototype;if(c&&\"svg\"==c.tagName){if(c.snap in E)return E[c.snap];var l=c.ownerDocument;b=new e(c);m=c.getElementsByTagName(\"desc\")[0];f=c.getElementsByTagName(\"defs\")[0];m||(m=v(\"desc\"),m.appendChild(l.createTextNode(\"Created with Snap\")),\n",
       "b.node.appendChild(m));f||(f=v(\"defs\"),b.node.appendChild(f));b.defs=f;for(var ca in d)d[h](ca)&&(b[ca]=d[ca]);b.paper=b.root=b}else b=r(\"svg\",G.doc.body),v(b.node,{height:a,version:1.1,width:c,xmlns:la});return b}function x(c){return!c||c instanceof e||c instanceof l?c:c.tagName&&\"svg\"==c.tagName.toLowerCase()?new s(c):c.tagName&&\"object\"==c.tagName.toLowerCase()&&\"image/svg+xml\"==c.type?new s(c.contentDocument.getElementsByTagName(\"svg\")[0]):new e(c)}a.version=\"0.3.0\";a.toString=function(){return\"Snap v\"+\n",
       "this.version};a._={};var G={win:N,doc:N.document};a._.glob=G;var h=\"hasOwnProperty\",J=String,K=parseFloat,U=parseInt,I=Math,P=I.max,Q=I.min,Y=I.abs,C=I.PI,aa=\"\",$=Object.prototype.toString,F=/^\\s*((#[a-f\\d]{6})|(#[a-f\\d]{3})|rgba?\\(\\s*([\\d\\.]+%?\\s*,\\s*[\\d\\.]+%?\\s*,\\s*[\\d\\.]+%?(?:\\s*,\\s*[\\d\\.]+%?)?)\\s*\\)|hsba?\\(\\s*([\\d\\.]+(?:deg|\\xb0|%)?\\s*,\\s*[\\d\\.]+%?\\s*,\\s*[\\d\\.]+(?:%?\\s*,\\s*[\\d\\.]+)?%?)\\s*\\)|hsla?\\(\\s*([\\d\\.]+(?:deg|\\xb0|%)?\\s*,\\s*[\\d\\.]+%?\\s*,\\s*[\\d\\.]+(?:%?\\s*,\\s*[\\d\\.]+)?%?)\\s*\\))\\s*$/i;a._.separator=\n",
       "RegExp(\"[,\\t\\n\\x0B\\f\\r \\u00a0\\u1680\\u180e\\u2000\\u2001\\u2002\\u2003\\u2004\\u2005\\u2006\\u2007\\u2008\\u2009\\u200a\\u202f\\u205f\\u3000\\u2028\\u2029]+\");var S=RegExp(\"[\\t\\n\\x0B\\f\\r \\u00a0\\u1680\\u180e\\u2000\\u2001\\u2002\\u2003\\u2004\\u2005\\u2006\\u2007\\u2008\\u2009\\u200a\\u202f\\u205f\\u3000\\u2028\\u2029]*,[\\t\\n\\x0B\\f\\r \\u00a0\\u1680\\u180e\\u2000\\u2001\\u2002\\u2003\\u2004\\u2005\\u2006\\u2007\\u2008\\u2009\\u200a\\u202f\\u205f\\u3000\\u2028\\u2029]*\"),X={hs:1,rg:1},W=RegExp(\"([a-z])[\\t\\n\\x0B\\f\\r \\u00a0\\u1680\\u180e\\u2000\\u2001\\u2002\\u2003\\u2004\\u2005\\u2006\\u2007\\u2008\\u2009\\u200a\\u202f\\u205f\\u3000\\u2028\\u2029,]*((-?\\\\d*\\\\.?\\\\d*(?:e[\\\\-+]?\\\\d+)?[\\t\\n\\x0B\\f\\r \\u00a0\\u1680\\u180e\\u2000\\u2001\\u2002\\u2003\\u2004\\u2005\\u2006\\u2007\\u2008\\u2009\\u200a\\u202f\\u205f\\u3000\\u2028\\u2029]*,?[\\t\\n\\x0B\\f\\r \\u00a0\\u1680\\u180e\\u2000\\u2001\\u2002\\u2003\\u2004\\u2005\\u2006\\u2007\\u2008\\u2009\\u200a\\u202f\\u205f\\u3000\\u2028\\u2029]*)+)\",\n",
       "\"ig\"),ma=RegExp(\"([rstm])[\\t\\n\\x0B\\f\\r \\u00a0\\u1680\\u180e\\u2000\\u2001\\u2002\\u2003\\u2004\\u2005\\u2006\\u2007\\u2008\\u2009\\u200a\\u202f\\u205f\\u3000\\u2028\\u2029,]*((-?\\\\d*\\\\.?\\\\d*(?:e[\\\\-+]?\\\\d+)?[\\t\\n\\x0B\\f\\r \\u00a0\\u1680\\u180e\\u2000\\u2001\\u2002\\u2003\\u2004\\u2005\\u2006\\u2007\\u2008\\u2009\\u200a\\u202f\\u205f\\u3000\\u2028\\u2029]*,?[\\t\\n\\x0B\\f\\r \\u00a0\\u1680\\u180e\\u2000\\u2001\\u2002\\u2003\\u2004\\u2005\\u2006\\u2007\\u2008\\u2009\\u200a\\u202f\\u205f\\u3000\\u2028\\u2029]*)+)\",\"ig\"),Z=RegExp(\"(-?\\\\d*\\\\.?\\\\d*(?:e[\\\\-+]?\\\\d+)?)[\\t\\n\\x0B\\f\\r \\u00a0\\u1680\\u180e\\u2000\\u2001\\u2002\\u2003\\u2004\\u2005\\u2006\\u2007\\u2008\\u2009\\u200a\\u202f\\u205f\\u3000\\u2028\\u2029]*,?[\\t\\n\\x0B\\f\\r \\u00a0\\u1680\\u180e\\u2000\\u2001\\u2002\\u2003\\u2004\\u2005\\u2006\\u2007\\u2008\\u2009\\u200a\\u202f\\u205f\\u3000\\u2028\\u2029]*\",\n",
       "\"ig\"),na=0,ba=\"S\"+(+new Date).toString(36),V=function(){return ba+(na++).toString(36)},m=\"http://www.w3.org/1999/xlink\",la=\"http://www.w3.org/2000/svg\",E={},ca=a.url=function(c){return\"url('#\"+c+\"')\"};a._.$=v;a._.id=V;a.format=function(){var c=/\\{([^\\}]+)\\}/g,a=/(?:(?:^|\\.)(.+?)(?=\\[|\\.|$|\\()|\\[('|\")(.+?)\\2\\])(\\(\\))?/g,b=function(c,b,m){var h=m;b.replace(a,function(c,a,b,m,t){a=a||m;h&&(a in h&&(h=h[a]),\"function\"==typeof h&&t&&(h=h()))});return h=(null==h||h==m?c:h)+\"\"};return function(a,m){return J(a).replace(c,\n",
       "function(c,a){return b(c,a,m)})}}();a._.clone=M;a._.cacher=A;a.rad=z;a.deg=function(c){return 180*c/C%360};a.angle=w;a.is=y;a.snapTo=function(c,a,b){b=y(b,\"finite\")?b:10;if(y(c,\"array\"))for(var m=c.length;m--;){if(Y(c[m]-a)<=b)return c[m]}else{c=+c;m=a%c;if(m<b)return a-m;if(m>c-b)return a-m+c}return a};a.getRGB=A(function(c){if(!c||(c=J(c)).indexOf(\"-\")+1)return{r:-1,g:-1,b:-1,hex:\"none\",error:1,toString:ka};if(\"none\"==c)return{r:-1,g:-1,b:-1,hex:\"none\",toString:ka};!X[h](c.toLowerCase().substring(0,\n",
       "2))&&\"#\"!=c.charAt()&&(c=T(c));if(!c)return{r:-1,g:-1,b:-1,hex:\"none\",error:1,toString:ka};var b,m,e,f,d;if(c=c.match(F)){c[2]&&(e=U(c[2].substring(5),16),m=U(c[2].substring(3,5),16),b=U(c[2].substring(1,3),16));c[3]&&(e=U((d=c[3].charAt(3))+d,16),m=U((d=c[3].charAt(2))+d,16),b=U((d=c[3].charAt(1))+d,16));c[4]&&(d=c[4].split(S),b=K(d[0]),\"%\"==d[0].slice(-1)&&(b*=2.55),m=K(d[1]),\"%\"==d[1].slice(-1)&&(m*=2.55),e=K(d[2]),\"%\"==d[2].slice(-1)&&(e*=2.55),\"rgba\"==c[1].toLowerCase().slice(0,4)&&(f=K(d[3])),\n",
       "d[3]&&\"%\"==d[3].slice(-1)&&(f/=100));if(c[5])return d=c[5].split(S),b=K(d[0]),\"%\"==d[0].slice(-1)&&(b/=100),m=K(d[1]),\"%\"==d[1].slice(-1)&&(m/=100),e=K(d[2]),\"%\"==d[2].slice(-1)&&(e/=100),\"deg\"!=d[0].slice(-3)&&\"\\u00b0\"!=d[0].slice(-1)||(b/=360),\"hsba\"==c[1].toLowerCase().slice(0,4)&&(f=K(d[3])),d[3]&&\"%\"==d[3].slice(-1)&&(f/=100),a.hsb2rgb(b,m,e,f);if(c[6])return d=c[6].split(S),b=K(d[0]),\"%\"==d[0].slice(-1)&&(b/=100),m=K(d[1]),\"%\"==d[1].slice(-1)&&(m/=100),e=K(d[2]),\"%\"==d[2].slice(-1)&&(e/=100),\n",
       "\"deg\"!=d[0].slice(-3)&&\"\\u00b0\"!=d[0].slice(-1)||(b/=360),\"hsla\"==c[1].toLowerCase().slice(0,4)&&(f=K(d[3])),d[3]&&\"%\"==d[3].slice(-1)&&(f/=100),a.hsl2rgb(b,m,e,f);b=Q(I.round(b),255);m=Q(I.round(m),255);e=Q(I.round(e),255);f=Q(P(f,0),1);c={r:b,g:m,b:e,toString:ka};c.hex=\"#\"+(16777216|e|m<<8|b<<16).toString(16).slice(1);c.opacity=y(f,\"finite\")?f:1;return c}return{r:-1,g:-1,b:-1,hex:\"none\",error:1,toString:ka}},a);a.hsb=A(function(c,b,m){return a.hsb2rgb(c,b,m).hex});a.hsl=A(function(c,b,m){return a.hsl2rgb(c,\n",
       "b,m).hex});a.rgb=A(function(c,a,b,m){if(y(m,\"finite\")){var e=I.round;return\"rgba(\"+[e(c),e(a),e(b),+m.toFixed(2)]+\")\"}return\"#\"+(16777216|b|a<<8|c<<16).toString(16).slice(1)});var T=function(c){var a=G.doc.getElementsByTagName(\"head\")[0]||G.doc.getElementsByTagName(\"svg\")[0];T=A(function(c){if(\"red\"==c.toLowerCase())return\"rgb(255, 0, 0)\";a.style.color=\"rgb(255, 0, 0)\";a.style.color=c;c=G.doc.defaultView.getComputedStyle(a,aa).getPropertyValue(\"color\");return\"rgb(255, 0, 0)\"==c?null:c});return T(c)},\n",
       "qa=function(){return\"hsb(\"+[this.h,this.s,this.b]+\")\"},ra=function(){return\"hsl(\"+[this.h,this.s,this.l]+\")\"},ka=function(){return 1==this.opacity||null==this.opacity?this.hex:\"rgba(\"+[this.r,this.g,this.b,this.opacity]+\")\"},D=function(c,b,m){null==b&&y(c,\"object\")&&\"r\"in c&&\"g\"in c&&\"b\"in c&&(m=c.b,b=c.g,c=c.r);null==b&&y(c,string)&&(m=a.getRGB(c),c=m.r,b=m.g,m=m.b);if(1<c||1<b||1<m)c/=255,b/=255,m/=255;return[c,b,m]},oa=function(c,b,m,e){c=I.round(255*c);b=I.round(255*b);m=I.round(255*m);c={r:c,\n",
       "g:b,b:m,opacity:y(e,\"finite\")?e:1,hex:a.rgb(c,b,m),toString:ka};y(e,\"finite\")&&(c.opacity=e);return c};a.color=function(c){var b;y(c,\"object\")&&\"h\"in c&&\"s\"in c&&\"b\"in c?(b=a.hsb2rgb(c),c.r=b.r,c.g=b.g,c.b=b.b,c.opacity=1,c.hex=b.hex):y(c,\"object\")&&\"h\"in c&&\"s\"in c&&\"l\"in c?(b=a.hsl2rgb(c),c.r=b.r,c.g=b.g,c.b=b.b,c.opacity=1,c.hex=b.hex):(y(c,\"string\")&&(c=a.getRGB(c)),y(c,\"object\")&&\"r\"in c&&\"g\"in c&&\"b\"in c&&!(\"error\"in c)?(b=a.rgb2hsl(c),c.h=b.h,c.s=b.s,c.l=b.l,b=a.rgb2hsb(c),c.v=b.b):(c={hex:\"none\"},\n",
       "c.r=c.g=c.b=c.h=c.s=c.v=c.l=-1,c.error=1));c.toString=ka;return c};a.hsb2rgb=function(c,a,b,m){y(c,\"object\")&&\"h\"in c&&\"s\"in c&&\"b\"in c&&(b=c.b,a=c.s,c=c.h,m=c.o);var e,h,d;c=360*c%360/60;d=b*a;a=d*(1-Y(c%2-1));b=e=h=b-d;c=~~c;b+=[d,a,0,0,a,d][c];e+=[a,d,d,a,0,0][c];h+=[0,0,a,d,d,a][c];return oa(b,e,h,m)};a.hsl2rgb=function(c,a,b,m){y(c,\"object\")&&\"h\"in c&&\"s\"in c&&\"l\"in c&&(b=c.l,a=c.s,c=c.h);if(1<c||1<a||1<b)c/=360,a/=100,b/=100;var e,h,d;c=360*c%360/60;d=2*a*(0.5>b?b:1-b);a=d*(1-Y(c%2-1));b=e=\n",
       "h=b-d/2;c=~~c;b+=[d,a,0,0,a,d][c];e+=[a,d,d,a,0,0][c];h+=[0,0,a,d,d,a][c];return oa(b,e,h,m)};a.rgb2hsb=function(c,a,b){b=D(c,a,b);c=b[0];a=b[1];b=b[2];var m,e;m=P(c,a,b);e=m-Q(c,a,b);c=((0==e?0:m==c?(a-b)/e:m==a?(b-c)/e+2:(c-a)/e+4)+360)%6*60/360;return{h:c,s:0==e?0:e/m,b:m,toString:qa}};a.rgb2hsl=function(c,a,b){b=D(c,a,b);c=b[0];a=b[1];b=b[2];var m,e,h;m=P(c,a,b);e=Q(c,a,b);h=m-e;c=((0==h?0:m==c?(a-b)/h:m==a?(b-c)/h+2:(c-a)/h+4)+360)%6*60/360;m=(m+e)/2;return{h:c,s:0==h?0:0.5>m?h/(2*m):h/(2-2*\n",
       "m),l:m,toString:ra}};a.parsePathString=function(c){if(!c)return null;var b=a.path(c);if(b.arr)return a.path.clone(b.arr);var m={a:7,c:6,o:2,h:1,l:2,m:2,r:4,q:4,s:4,t:2,v:1,u:3,z:0},e=[];y(c,\"array\")&&y(c[0],\"array\")&&(e=a.path.clone(c));e.length||J(c).replace(W,function(c,a,b){var h=[];c=a.toLowerCase();b.replace(Z,function(c,a){a&&h.push(+a)});\"m\"==c&&2<h.length&&(e.push([a].concat(h.splice(0,2))),c=\"l\",a=\"m\"==a?\"l\":\"L\");\"o\"==c&&1==h.length&&e.push([a,h[0] ]);if(\"r\"==c)e.push([a].concat(h));else for(;h.length>=\n",
       "m[c]&&(e.push([a].concat(h.splice(0,m[c]))),m[c]););});e.toString=a.path.toString;b.arr=a.path.clone(e);return e};var O=a.parseTransformString=function(c){if(!c)return null;var b=[];y(c,\"array\")&&y(c[0],\"array\")&&(b=a.path.clone(c));b.length||J(c).replace(ma,function(c,a,m){var e=[];a.toLowerCase();m.replace(Z,function(c,a){a&&e.push(+a)});b.push([a].concat(e))});b.toString=a.path.toString;return b};a._.svgTransform2string=d;a._.rgTransform=RegExp(\"^[a-z][\\t\\n\\x0B\\f\\r \\u00a0\\u1680\\u180e\\u2000\\u2001\\u2002\\u2003\\u2004\\u2005\\u2006\\u2007\\u2008\\u2009\\u200a\\u202f\\u205f\\u3000\\u2028\\u2029]*-?\\\\.?\\\\d\",\n",
       "\"i\");a._.transform2matrix=f;a._unit2px=b;a._.getSomeDefs=u;a._.getSomeSVG=p;a.select=function(c){return x(G.doc.querySelector(c))};a.selectAll=function(c){c=G.doc.querySelectorAll(c);for(var b=(a.set||Array)(),m=0;m<c.length;m++)b.push(x(c[m]));return b};setInterval(function(){for(var c in E)if(E[h](c)){var a=E[c],b=a.node;(\"svg\"!=a.type&&!b.ownerSVGElement||\"svg\"==a.type&&(!b.parentNode||\"ownerSVGElement\"in b.parentNode&&!b.ownerSVGElement))&&delete E[c]}},1E4);(function(c){function m(c){function a(c,\n",
       "b){var m=v(c.node,b);(m=(m=m&&m.match(d))&&m[2])&&\"#\"==m.charAt()&&(m=m.substring(1))&&(f[m]=(f[m]||[]).concat(function(a){var m={};m[b]=ca(a);v(c.node,m)}))}function b(c){var a=v(c.node,\"xlink:href\");a&&\"#\"==a.charAt()&&(a=a.substring(1))&&(f[a]=(f[a]||[]).concat(function(a){c.attr(\"xlink:href\",\"#\"+a)}))}var e=c.selectAll(\"*\"),h,d=/^\\s*url\\((\"|'|)(.*)\\1\\)\\s*$/;c=[];for(var f={},l=0,E=e.length;l<E;l++){h=e[l];a(h,\"fill\");a(h,\"stroke\");a(h,\"filter\");a(h,\"mask\");a(h,\"clip-path\");b(h);var t=v(h.node,\n",
       "\"id\");t&&(v(h.node,{id:h.id}),c.push({old:t,id:h.id}))}l=0;for(E=c.length;l<E;l++)if(e=f[c[l].old])for(h=0,t=e.length;h<t;h++)e[h](c[l].id)}function e(c,a,b){return function(m){m=m.slice(c,a);1==m.length&&(m=m[0]);return b?b(m):m}}function d(c){return function(){var a=c?\"<\"+this.type:\"\",b=this.node.attributes,m=this.node.childNodes;if(c)for(var e=0,h=b.length;e<h;e++)a+=\" \"+b[e].name+'=\"'+b[e].value.replace(/\"/g,'\\\\\"')+'\"';if(m.length){c&&(a+=\">\");e=0;for(h=m.length;e<h;e++)3==m[e].nodeType?a+=m[e].nodeValue:\n",
       "1==m[e].nodeType&&(a+=x(m[e]).toString());c&&(a+=\"</\"+this.type+\">\")}else c&&(a+=\"/>\");return a}}c.attr=function(c,a){if(!c)return this;if(y(c,\"string\"))if(1<arguments.length){var b={};b[c]=a;c=b}else return k(\"snap.util.getattr.\"+c,this).firstDefined();for(var m in c)c[h](m)&&k(\"snap.util.attr.\"+m,this,c[m]);return this};c.getBBox=function(c){if(!a.Matrix||!a.path)return this.node.getBBox();var b=this,m=new a.Matrix;if(b.removed)return a._.box();for(;\"use\"==b.type;)if(c||(m=m.add(b.transform().localMatrix.translate(b.attr(\"x\")||\n",
       "0,b.attr(\"y\")||0))),b.original)b=b.original;else var e=b.attr(\"xlink:href\"),b=b.original=b.node.ownerDocument.getElementById(e.substring(e.indexOf(\"#\")+1));var e=b._,h=a.path.get[b.type]||a.path.get.deflt;try{if(c)return e.bboxwt=h?a.path.getBBox(b.realPath=h(b)):a._.box(b.node.getBBox()),a._.box(e.bboxwt);b.realPath=h(b);b.matrix=b.transform().localMatrix;e.bbox=a.path.getBBox(a.path.map(b.realPath,m.add(b.matrix)));return a._.box(e.bbox)}catch(d){return a._.box()}};var f=function(){return this.string};\n",
       "c.transform=function(c){var b=this._;if(null==c){var m=this;c=new a.Matrix(this.node.getCTM());for(var e=n(this),h=[e],d=new a.Matrix,l=e.toTransformString(),b=J(e)==J(this.matrix)?J(b.transform):l;\"svg\"!=m.type&&(m=m.parent());)h.push(n(m));for(m=h.length;m--;)d.add(h[m]);return{string:b,globalMatrix:c,totalMatrix:d,localMatrix:e,diffMatrix:c.clone().add(e.invert()),global:c.toTransformString(),total:d.toTransformString(),local:l,toString:f}}c instanceof a.Matrix?this.matrix=c:n(this,c);this.node&&\n",
       "(\"linearGradient\"==this.type||\"radialGradient\"==this.type?v(this.node,{gradientTransform:this.matrix}):\"pattern\"==this.type?v(this.node,{patternTransform:this.matrix}):v(this.node,{transform:this.matrix}));return this};c.parent=function(){return x(this.node.parentNode)};c.append=c.add=function(c){if(c){if(\"set\"==c.type){var a=this;c.forEach(function(c){a.add(c)});return this}c=x(c);this.node.appendChild(c.node);c.paper=this.paper}return this};c.appendTo=function(c){c&&(c=x(c),c.append(this));return this};\n",
       "c.prepend=function(c){if(c){if(\"set\"==c.type){var a=this,b;c.forEach(function(c){b?b.after(c):a.prepend(c);b=c});return this}c=x(c);var m=c.parent();this.node.insertBefore(c.node,this.node.firstChild);this.add&&this.add();c.paper=this.paper;this.parent()&&this.parent().add();m&&m.add()}return this};c.prependTo=function(c){c=x(c);c.prepend(this);return this};c.before=function(c){if(\"set\"==c.type){var a=this;c.forEach(function(c){var b=c.parent();a.node.parentNode.insertBefore(c.node,a.node);b&&b.add()});\n",
       "this.parent().add();return this}c=x(c);var b=c.parent();this.node.parentNode.insertBefore(c.node,this.node);this.parent()&&this.parent().add();b&&b.add();c.paper=this.paper;return this};c.after=function(c){c=x(c);var a=c.parent();this.node.nextSibling?this.node.parentNode.insertBefore(c.node,this.node.nextSibling):this.node.parentNode.appendChild(c.node);this.parent()&&this.parent().add();a&&a.add();c.paper=this.paper;return this};c.insertBefore=function(c){c=x(c);var a=this.parent();c.node.parentNode.insertBefore(this.node,\n",
       "c.node);this.paper=c.paper;a&&a.add();c.parent()&&c.parent().add();return this};c.insertAfter=function(c){c=x(c);var a=this.parent();c.node.parentNode.insertBefore(this.node,c.node.nextSibling);this.paper=c.paper;a&&a.add();c.parent()&&c.parent().add();return this};c.remove=function(){var c=this.parent();this.node.parentNode&&this.node.parentNode.removeChild(this.node);delete this.paper;this.removed=!0;c&&c.add();return this};c.select=function(c){return x(this.node.querySelector(c))};c.selectAll=\n",
       "function(c){c=this.node.querySelectorAll(c);for(var b=(a.set||Array)(),m=0;m<c.length;m++)b.push(x(c[m]));return b};c.asPX=function(c,a){null==a&&(a=this.attr(c));return+b(this,c,a)};c.use=function(){var c,a=this.node.id;a||(a=this.id,v(this.node,{id:a}));c=\"linearGradient\"==this.type||\"radialGradient\"==this.type||\"pattern\"==this.type?r(this.type,this.node.parentNode):r(\"use\",this.node.parentNode);v(c.node,{\"xlink:href\":\"#\"+a});c.original=this;return c};var l=/\\S+/g;c.addClass=function(c){var a=(c||\n",
       "\"\").match(l)||[];c=this.node;var b=c.className.baseVal,m=b.match(l)||[],e,h,d;if(a.length){for(e=0;d=a[e++];)h=m.indexOf(d),~h||m.push(d);a=m.join(\" \");b!=a&&(c.className.baseVal=a)}return this};c.removeClass=function(c){var a=(c||\"\").match(l)||[];c=this.node;var b=c.className.baseVal,m=b.match(l)||[],e,h;if(m.length){for(e=0;h=a[e++];)h=m.indexOf(h),~h&&m.splice(h,1);a=m.join(\" \");b!=a&&(c.className.baseVal=a)}return this};c.hasClass=function(c){return!!~(this.node.className.baseVal.match(l)||[]).indexOf(c)};\n",
       "c.toggleClass=function(c,a){if(null!=a)return a?this.addClass(c):this.removeClass(c);var b=(c||\"\").match(l)||[],m=this.node,e=m.className.baseVal,h=e.match(l)||[],d,f,E;for(d=0;E=b[d++];)f=h.indexOf(E),~f?h.splice(f,1):h.push(E);b=h.join(\" \");e!=b&&(m.className.baseVal=b);return this};c.clone=function(){var c=x(this.node.cloneNode(!0));v(c.node,\"id\")&&v(c.node,{id:c.id});m(c);c.insertAfter(this);return c};c.toDefs=function(){u(this).appendChild(this.node);return this};c.pattern=c.toPattern=function(c,\n",
       "a,b,m){var e=r(\"pattern\",u(this));null==c&&(c=this.getBBox());y(c,\"object\")&&\"x\"in c&&(a=c.y,b=c.width,m=c.height,c=c.x);v(e.node,{x:c,y:a,width:b,height:m,patternUnits:\"userSpaceOnUse\",id:e.id,viewBox:[c,a,b,m].join(\" \")});e.node.appendChild(this.node);return e};c.marker=function(c,a,b,m,e,h){var d=r(\"marker\",u(this));null==c&&(c=this.getBBox());y(c,\"object\")&&\"x\"in c&&(a=c.y,b=c.width,m=c.height,e=c.refX||c.cx,h=c.refY||c.cy,c=c.x);v(d.node,{viewBox:[c,a,b,m].join(\" \"),markerWidth:b,markerHeight:m,\n",
       "orient:\"auto\",refX:e||0,refY:h||0,id:d.id});d.node.appendChild(this.node);return d};var E=function(c,a,b,m){\"function\"!=typeof b||b.length||(m=b,b=L.linear);this.attr=c;this.dur=a;b&&(this.easing=b);m&&(this.callback=m)};a._.Animation=E;a.animation=function(c,a,b,m){return new E(c,a,b,m)};c.inAnim=function(){var c=[],a;for(a in this.anims)this.anims[h](a)&&function(a){c.push({anim:new E(a._attrs,a.dur,a.easing,a._callback),mina:a,curStatus:a.status(),status:function(c){return a.status(c)},stop:function(){a.stop()}})}(this.anims[a]);\n",
       "return c};a.animate=function(c,a,b,m,e,h){\"function\"!=typeof e||e.length||(h=e,e=L.linear);var d=L.time();c=L(c,a,d,d+m,L.time,b,e);h&&k.once(\"mina.finish.\"+c.id,h);return c};c.stop=function(){for(var c=this.inAnim(),a=0,b=c.length;a<b;a++)c[a].stop();return this};c.animate=function(c,a,b,m){\"function\"!=typeof b||b.length||(m=b,b=L.linear);c instanceof E&&(m=c.callback,b=c.easing,a=b.dur,c=c.attr);var d=[],f=[],l={},t,ca,n,T=this,q;for(q in c)if(c[h](q)){T.equal?(n=T.equal(q,J(c[q])),t=n.from,ca=\n",
       "n.to,n=n.f):(t=+T.attr(q),ca=+c[q]);var la=y(t,\"array\")?t.length:1;l[q]=e(d.length,d.length+la,n);d=d.concat(t);f=f.concat(ca)}t=L.time();var p=L(d,f,t,t+a,L.time,function(c){var a={},b;for(b in l)l[h](b)&&(a[b]=l[b](c));T.attr(a)},b);T.anims[p.id]=p;p._attrs=c;p._callback=m;k(\"snap.animcreated.\"+T.id,p);k.once(\"mina.finish.\"+p.id,function(){delete T.anims[p.id];m&&m.call(T)});k.once(\"mina.stop.\"+p.id,function(){delete T.anims[p.id]});return T};var T={};c.data=function(c,b){var m=T[this.id]=T[this.id]||\n",
       "{};if(0==arguments.length)return k(\"snap.data.get.\"+this.id,this,m,null),m;if(1==arguments.length){if(a.is(c,\"object\")){for(var e in c)c[h](e)&&this.data(e,c[e]);return this}k(\"snap.data.get.\"+this.id,this,m[c],c);return m[c]}m[c]=b;k(\"snap.data.set.\"+this.id,this,b,c);return this};c.removeData=function(c){null==c?T[this.id]={}:T[this.id]&&delete T[this.id][c];return this};c.outerSVG=c.toString=d(1);c.innerSVG=d()})(e.prototype);a.parse=function(c){var a=G.doc.createDocumentFragment(),b=!0,m=G.doc.createElement(\"div\");\n",
       "c=J(c);c.match(/^\\s*<\\s*svg(?:\\s|>)/)||(c=\"<svg>\"+c+\"</svg>\",b=!1);m.innerHTML=c;if(c=m.getElementsByTagName(\"svg\")[0])if(b)a=c;else for(;c.firstChild;)a.appendChild(c.firstChild);m.innerHTML=aa;return new l(a)};l.prototype.select=e.prototype.select;l.prototype.selectAll=e.prototype.selectAll;a.fragment=function(){for(var c=Array.prototype.slice.call(arguments,0),b=G.doc.createDocumentFragment(),m=0,e=c.length;m<e;m++){var h=c[m];h.node&&h.node.nodeType&&b.appendChild(h.node);h.nodeType&&b.appendChild(h);\n",
       "\"string\"==typeof h&&b.appendChild(a.parse(h).node)}return new l(b)};a._.make=r;a._.wrap=x;s.prototype.el=function(c,a){var b=r(c,this.node);a&&b.attr(a);return b};k.on(\"snap.util.getattr\",function(){var c=k.nt(),c=c.substring(c.lastIndexOf(\".\")+1),a=c.replace(/[A-Z]/g,function(c){return\"-\"+c.toLowerCase()});return pa[h](a)?this.node.ownerDocument.defaultView.getComputedStyle(this.node,null).getPropertyValue(a):v(this.node,c)});var pa={\"alignment-baseline\":0,\"baseline-shift\":0,clip:0,\"clip-path\":0,\n",
       "\"clip-rule\":0,color:0,\"color-interpolation\":0,\"color-interpolation-filters\":0,\"color-profile\":0,\"color-rendering\":0,cursor:0,direction:0,display:0,\"dominant-baseline\":0,\"enable-background\":0,fill:0,\"fill-opacity\":0,\"fill-rule\":0,filter:0,\"flood-color\":0,\"flood-opacity\":0,font:0,\"font-family\":0,\"font-size\":0,\"font-size-adjust\":0,\"font-stretch\":0,\"font-style\":0,\"font-variant\":0,\"font-weight\":0,\"glyph-orientation-horizontal\":0,\"glyph-orientation-vertical\":0,\"image-rendering\":0,kerning:0,\"letter-spacing\":0,\n",
       "\"lighting-color\":0,marker:0,\"marker-end\":0,\"marker-mid\":0,\"marker-start\":0,mask:0,opacity:0,overflow:0,\"pointer-events\":0,\"shape-rendering\":0,\"stop-color\":0,\"stop-opacity\":0,stroke:0,\"stroke-dasharray\":0,\"stroke-dashoffset\":0,\"stroke-linecap\":0,\"stroke-linejoin\":0,\"stroke-miterlimit\":0,\"stroke-opacity\":0,\"stroke-width\":0,\"text-anchor\":0,\"text-decoration\":0,\"text-rendering\":0,\"unicode-bidi\":0,visibility:0,\"word-spacing\":0,\"writing-mode\":0};k.on(\"snap.util.attr\",function(c){var a=k.nt(),b={},a=a.substring(a.lastIndexOf(\".\")+\n",
       "1);b[a]=c;var m=a.replace(/-(\\w)/gi,function(c,a){return a.toUpperCase()}),a=a.replace(/[A-Z]/g,function(c){return\"-\"+c.toLowerCase()});pa[h](a)?this.node.style[m]=null==c?aa:c:v(this.node,b)});a.ajax=function(c,a,b,m){var e=new XMLHttpRequest,h=V();if(e){if(y(a,\"function\"))m=b,b=a,a=null;else if(y(a,\"object\")){var d=[],f;for(f in a)a.hasOwnProperty(f)&&d.push(encodeURIComponent(f)+\"=\"+encodeURIComponent(a[f]));a=d.join(\"&\")}e.open(a?\"POST\":\"GET\",c,!0);a&&(e.setRequestHeader(\"X-Requested-With\",\"XMLHttpRequest\"),\n",
       "e.setRequestHeader(\"Content-type\",\"application/x-www-form-urlencoded\"));b&&(k.once(\"snap.ajax.\"+h+\".0\",b),k.once(\"snap.ajax.\"+h+\".200\",b),k.once(\"snap.ajax.\"+h+\".304\",b));e.onreadystatechange=function(){4==e.readyState&&k(\"snap.ajax.\"+h+\".\"+e.status,m,e)};if(4==e.readyState)return e;e.send(a);return e}};a.load=function(c,b,m){a.ajax(c,function(c){c=a.parse(c.responseText);m?b.call(m,c):b(c)})};a.getElementByPoint=function(c,a){var b,m,e=G.doc.elementFromPoint(c,a);if(G.win.opera&&\"svg\"==e.tagName){b=\n",
       "e;m=b.getBoundingClientRect();b=b.ownerDocument;var h=b.body,d=b.documentElement;b=m.top+(g.win.pageYOffset||d.scrollTop||h.scrollTop)-(d.clientTop||h.clientTop||0);m=m.left+(g.win.pageXOffset||d.scrollLeft||h.scrollLeft)-(d.clientLeft||h.clientLeft||0);h=e.createSVGRect();h.x=c-m;h.y=a-b;h.width=h.height=1;b=e.getIntersectionList(h,null);b.length&&(e=b[b.length-1])}return e?x(e):null};a.plugin=function(c){c(a,e,s,G,l)};return G.win.Snap=a}();C.plugin(function(a,k,y,M,A){function w(a,d,f,b,q,e){null==\n",
       "d&&\"[object SVGMatrix]\"==z.call(a)?(this.a=a.a,this.b=a.b,this.c=a.c,this.d=a.d,this.e=a.e,this.f=a.f):null!=a?(this.a=+a,this.b=+d,this.c=+f,this.d=+b,this.e=+q,this.f=+e):(this.a=1,this.c=this.b=0,this.d=1,this.f=this.e=0)}var z=Object.prototype.toString,d=String,f=Math;(function(n){function k(a){return a[0]*a[0]+a[1]*a[1]}function p(a){var d=f.sqrt(k(a));a[0]&&(a[0]/=d);a[1]&&(a[1]/=d)}n.add=function(a,d,e,f,n,p){var k=[[],[],[] ],u=[[this.a,this.c,this.e],[this.b,this.d,this.f],[0,0,1] ];d=[[a,\n",
       "e,n],[d,f,p],[0,0,1] ];a&&a instanceof w&&(d=[[a.a,a.c,a.e],[a.b,a.d,a.f],[0,0,1] ]);for(a=0;3>a;a++)for(e=0;3>e;e++){for(f=n=0;3>f;f++)n+=u[a][f]*d[f][e];k[a][e]=n}this.a=k[0][0];this.b=k[1][0];this.c=k[0][1];this.d=k[1][1];this.e=k[0][2];this.f=k[1][2];return this};n.invert=function(){var a=this.a*this.d-this.b*this.c;return new w(this.d/a,-this.b/a,-this.c/a,this.a/a,(this.c*this.f-this.d*this.e)/a,(this.b*this.e-this.a*this.f)/a)};n.clone=function(){return new w(this.a,this.b,this.c,this.d,this.e,\n",
       "this.f)};n.translate=function(a,d){return this.add(1,0,0,1,a,d)};n.scale=function(a,d,e,f){null==d&&(d=a);(e||f)&&this.add(1,0,0,1,e,f);this.add(a,0,0,d,0,0);(e||f)&&this.add(1,0,0,1,-e,-f);return this};n.rotate=function(b,d,e){b=a.rad(b);d=d||0;e=e||0;var l=+f.cos(b).toFixed(9);b=+f.sin(b).toFixed(9);this.add(l,b,-b,l,d,e);return this.add(1,0,0,1,-d,-e)};n.x=function(a,d){return a*this.a+d*this.c+this.e};n.y=function(a,d){return a*this.b+d*this.d+this.f};n.get=function(a){return+this[d.fromCharCode(97+\n",
       "a)].toFixed(4)};n.toString=function(){return\"matrix(\"+[this.get(0),this.get(1),this.get(2),this.get(3),this.get(4),this.get(5)].join()+\")\"};n.offset=function(){return[this.e.toFixed(4),this.f.toFixed(4)]};n.determinant=function(){return this.a*this.d-this.b*this.c};n.split=function(){var b={};b.dx=this.e;b.dy=this.f;var d=[[this.a,this.c],[this.b,this.d] ];b.scalex=f.sqrt(k(d[0]));p(d[0]);b.shear=d[0][0]*d[1][0]+d[0][1]*d[1][1];d[1]=[d[1][0]-d[0][0]*b.shear,d[1][1]-d[0][1]*b.shear];b.scaley=f.sqrt(k(d[1]));\n",
       "p(d[1]);b.shear/=b.scaley;0>this.determinant()&&(b.scalex=-b.scalex);var e=-d[0][1],d=d[1][1];0>d?(b.rotate=a.deg(f.acos(d)),0>e&&(b.rotate=360-b.rotate)):b.rotate=a.deg(f.asin(e));b.isSimple=!+b.shear.toFixed(9)&&(b.scalex.toFixed(9)==b.scaley.toFixed(9)||!b.rotate);b.isSuperSimple=!+b.shear.toFixed(9)&&b.scalex.toFixed(9)==b.scaley.toFixed(9)&&!b.rotate;b.noRotation=!+b.shear.toFixed(9)&&!b.rotate;return b};n.toTransformString=function(a){a=a||this.split();if(+a.shear.toFixed(9))return\"m\"+[this.get(0),\n",
       "this.get(1),this.get(2),this.get(3),this.get(4),this.get(5)];a.scalex=+a.scalex.toFixed(4);a.scaley=+a.scaley.toFixed(4);a.rotate=+a.rotate.toFixed(4);return(a.dx||a.dy?\"t\"+[+a.dx.toFixed(4),+a.dy.toFixed(4)]:\"\")+(1!=a.scalex||1!=a.scaley?\"s\"+[a.scalex,a.scaley,0,0]:\"\")+(a.rotate?\"r\"+[+a.rotate.toFixed(4),0,0]:\"\")}})(w.prototype);a.Matrix=w;a.matrix=function(a,d,f,b,k,e){return new w(a,d,f,b,k,e)}});C.plugin(function(a,v,y,M,A){function w(h){return function(d){k.stop();d instanceof A&&1==d.node.childNodes.length&&\n",
       "(\"radialGradient\"==d.node.firstChild.tagName||\"linearGradient\"==d.node.firstChild.tagName||\"pattern\"==d.node.firstChild.tagName)&&(d=d.node.firstChild,b(this).appendChild(d),d=u(d));if(d instanceof v)if(\"radialGradient\"==d.type||\"linearGradient\"==d.type||\"pattern\"==d.type){d.node.id||e(d.node,{id:d.id});var f=l(d.node.id)}else f=d.attr(h);else f=a.color(d),f.error?(f=a(b(this).ownerSVGElement).gradient(d))?(f.node.id||e(f.node,{id:f.id}),f=l(f.node.id)):f=d:f=r(f);d={};d[h]=f;e(this.node,d);this.node.style[h]=\n",
       "x}}function z(a){k.stop();a==+a&&(a+=\"px\");this.node.style.fontSize=a}function d(a){var b=[];a=a.childNodes;for(var e=0,f=a.length;e<f;e++){var l=a[e];3==l.nodeType&&b.push(l.nodeValue);\"tspan\"==l.tagName&&(1==l.childNodes.length&&3==l.firstChild.nodeType?b.push(l.firstChild.nodeValue):b.push(d(l)))}return b}function f(){k.stop();return this.node.style.fontSize}var n=a._.make,u=a._.wrap,p=a.is,b=a._.getSomeDefs,q=/^url\\(#?([^)]+)\\)$/,e=a._.$,l=a.url,r=String,s=a._.separator,x=\"\";k.on(\"snap.util.attr.mask\",\n",
       "function(a){if(a instanceof v||a instanceof A){k.stop();a instanceof A&&1==a.node.childNodes.length&&(a=a.node.firstChild,b(this).appendChild(a),a=u(a));if(\"mask\"==a.type)var d=a;else d=n(\"mask\",b(this)),d.node.appendChild(a.node);!d.node.id&&e(d.node,{id:d.id});e(this.node,{mask:l(d.id)})}});(function(a){k.on(\"snap.util.attr.clip\",a);k.on(\"snap.util.attr.clip-path\",a);k.on(\"snap.util.attr.clipPath\",a)})(function(a){if(a instanceof v||a instanceof A){k.stop();if(\"clipPath\"==a.type)var d=a;else d=\n",
       "n(\"clipPath\",b(this)),d.node.appendChild(a.node),!d.node.id&&e(d.node,{id:d.id});e(this.node,{\"clip-path\":l(d.id)})}});k.on(\"snap.util.attr.fill\",w(\"fill\"));k.on(\"snap.util.attr.stroke\",w(\"stroke\"));var G=/^([lr])(?:\\(([^)]*)\\))?(.*)$/i;k.on(\"snap.util.grad.parse\",function(a){a=r(a);var b=a.match(G);if(!b)return null;a=b[1];var e=b[2],b=b[3],e=e.split(/\\s*,\\s*/).map(function(a){return+a==a?+a:a});1==e.length&&0==e[0]&&(e=[]);b=b.split(\"-\");b=b.map(function(a){a=a.split(\":\");var b={color:a[0]};a[1]&&\n",
       "(b.offset=parseFloat(a[1]));return b});return{type:a,params:e,stops:b}});k.on(\"snap.util.attr.d\",function(b){k.stop();p(b,\"array\")&&p(b[0],\"array\")&&(b=a.path.toString.call(b));b=r(b);b.match(/[ruo]/i)&&(b=a.path.toAbsolute(b));e(this.node,{d:b})})(-1);k.on(\"snap.util.attr.#text\",function(a){k.stop();a=r(a);for(a=M.doc.createTextNode(a);this.node.firstChild;)this.node.removeChild(this.node.firstChild);this.node.appendChild(a)})(-1);k.on(\"snap.util.attr.path\",function(a){k.stop();this.attr({d:a})})(-1);\n",
       "k.on(\"snap.util.attr.class\",function(a){k.stop();this.node.className.baseVal=a})(-1);k.on(\"snap.util.attr.viewBox\",function(a){a=p(a,\"object\")&&\"x\"in a?[a.x,a.y,a.width,a.height].join(\" \"):p(a,\"array\")?a.join(\" \"):a;e(this.node,{viewBox:a});k.stop()})(-1);k.on(\"snap.util.attr.transform\",function(a){this.transform(a);k.stop()})(-1);k.on(\"snap.util.attr.r\",function(a){\"rect\"==this.type&&(k.stop(),e(this.node,{rx:a,ry:a}))})(-1);k.on(\"snap.util.attr.textpath\",function(a){k.stop();if(\"text\"==this.type){var d,\n",
       "f;if(!a&&this.textPath){for(a=this.textPath;a.node.firstChild;)this.node.appendChild(a.node.firstChild);a.remove();delete this.textPath}else if(p(a,\"string\")?(d=b(this),a=u(d.parentNode).path(a),d.appendChild(a.node),d=a.id,a.attr({id:d})):(a=u(a),a instanceof v&&(d=a.attr(\"id\"),d||(d=a.id,a.attr({id:d})))),d)if(a=this.textPath,f=this.node,a)a.attr({\"xlink:href\":\"#\"+d});else{for(a=e(\"textPath\",{\"xlink:href\":\"#\"+d});f.firstChild;)a.appendChild(f.firstChild);f.appendChild(a);this.textPath=u(a)}}})(-1);\n",
       "k.on(\"snap.util.attr.text\",function(a){if(\"text\"==this.type){for(var b=this.node,d=function(a){var b=e(\"tspan\");if(p(a,\"array\"))for(var f=0;f<a.length;f++)b.appendChild(d(a[f]));else b.appendChild(M.doc.createTextNode(a));b.normalize&&b.normalize();return b};b.firstChild;)b.removeChild(b.firstChild);for(a=d(a);a.firstChild;)b.appendChild(a.firstChild)}k.stop()})(-1);k.on(\"snap.util.attr.fontSize\",z)(-1);k.on(\"snap.util.attr.font-size\",z)(-1);k.on(\"snap.util.getattr.transform\",function(){k.stop();\n",
       "return this.transform()})(-1);k.on(\"snap.util.getattr.textpath\",function(){k.stop();return this.textPath})(-1);(function(){function b(d){return function(){k.stop();var b=M.doc.defaultView.getComputedStyle(this.node,null).getPropertyValue(\"marker-\"+d);return\"none\"==b?b:a(M.doc.getElementById(b.match(q)[1]))}}function d(a){return function(b){k.stop();var d=\"marker\"+a.charAt(0).toUpperCase()+a.substring(1);if(\"\"==b||!b)this.node.style[d]=\"none\";else if(\"marker\"==b.type){var f=b.node.id;f||e(b.node,{id:b.id});\n",
       "this.node.style[d]=l(f)}}}k.on(\"snap.util.getattr.marker-end\",b(\"end\"))(-1);k.on(\"snap.util.getattr.markerEnd\",b(\"end\"))(-1);k.on(\"snap.util.getattr.marker-start\",b(\"start\"))(-1);k.on(\"snap.util.getattr.markerStart\",b(\"start\"))(-1);k.on(\"snap.util.getattr.marker-mid\",b(\"mid\"))(-1);k.on(\"snap.util.getattr.markerMid\",b(\"mid\"))(-1);k.on(\"snap.util.attr.marker-end\",d(\"end\"))(-1);k.on(\"snap.util.attr.markerEnd\",d(\"end\"))(-1);k.on(\"snap.util.attr.marker-start\",d(\"start\"))(-1);k.on(\"snap.util.attr.markerStart\",\n",
       "d(\"start\"))(-1);k.on(\"snap.util.attr.marker-mid\",d(\"mid\"))(-1);k.on(\"snap.util.attr.markerMid\",d(\"mid\"))(-1)})();k.on(\"snap.util.getattr.r\",function(){if(\"rect\"==this.type&&e(this.node,\"rx\")==e(this.node,\"ry\"))return k.stop(),e(this.node,\"rx\")})(-1);k.on(\"snap.util.getattr.text\",function(){if(\"text\"==this.type||\"tspan\"==this.type){k.stop();var a=d(this.node);return 1==a.length?a[0]:a}})(-1);k.on(\"snap.util.getattr.#text\",function(){return this.node.textContent})(-1);k.on(\"snap.util.getattr.viewBox\",\n",
       "function(){k.stop();var b=e(this.node,\"viewBox\");if(b)return b=b.split(s),a._.box(+b[0],+b[1],+b[2],+b[3])})(-1);k.on(\"snap.util.getattr.points\",function(){var a=e(this.node,\"points\");k.stop();if(a)return a.split(s)})(-1);k.on(\"snap.util.getattr.path\",function(){var a=e(this.node,\"d\");k.stop();return a})(-1);k.on(\"snap.util.getattr.class\",function(){return this.node.className.baseVal})(-1);k.on(\"snap.util.getattr.fontSize\",f)(-1);k.on(\"snap.util.getattr.font-size\",f)(-1)});C.plugin(function(a,v,y,\n",
       "M,A){function w(a){return a}function z(a){return function(b){return+b.toFixed(3)+a}}var d={\"+\":function(a,b){return a+b},\"-\":function(a,b){return a-b},\"/\":function(a,b){return a/b},\"*\":function(a,b){return a*b}},f=String,n=/[a-z]+$/i,u=/^\\s*([+\\-\\/*])\\s*=\\s*([\\d.eE+\\-]+)\\s*([^\\d\\s]+)?\\s*$/;k.on(\"snap.util.attr\",function(a){if(a=f(a).match(u)){var b=k.nt(),b=b.substring(b.lastIndexOf(\".\")+1),q=this.attr(b),e={};k.stop();var l=a[3]||\"\",r=q.match(n),s=d[a[1] ];r&&r==l?a=s(parseFloat(q),+a[2]):(q=this.asPX(b),\n",
       "a=s(this.asPX(b),this.asPX(b,a[2]+l)));isNaN(q)||isNaN(a)||(e[b]=a,this.attr(e))}})(-10);k.on(\"snap.util.equal\",function(a,b){var q=f(this.attr(a)||\"\"),e=f(b).match(u);if(e){k.stop();var l=e[3]||\"\",r=q.match(n),s=d[e[1] ];if(r&&r==l)return{from:parseFloat(q),to:s(parseFloat(q),+e[2]),f:z(r)};q=this.asPX(a);return{from:q,to:s(q,this.asPX(a,e[2]+l)),f:w}}})(-10)});C.plugin(function(a,v,y,M,A){var w=y.prototype,z=a.is;w.rect=function(a,d,k,p,b,q){var e;null==q&&(q=b);z(a,\"object\")&&\"[object Object]\"==\n",
       "a?e=a:null!=a&&(e={x:a,y:d,width:k,height:p},null!=b&&(e.rx=b,e.ry=q));return this.el(\"rect\",e)};w.circle=function(a,d,k){var p;z(a,\"object\")&&\"[object Object]\"==a?p=a:null!=a&&(p={cx:a,cy:d,r:k});return this.el(\"circle\",p)};var d=function(){function a(){this.parentNode.removeChild(this)}return function(d,k){var p=M.doc.createElement(\"img\"),b=M.doc.body;p.style.cssText=\"position:absolute;left:-9999em;top:-9999em\";p.onload=function(){k.call(p);p.onload=p.onerror=null;b.removeChild(p)};p.onerror=a;\n",
       "b.appendChild(p);p.src=d}}();w.image=function(f,n,k,p,b){var q=this.el(\"image\");if(z(f,\"object\")&&\"src\"in f)q.attr(f);else if(null!=f){var e={\"xlink:href\":f,preserveAspectRatio:\"none\"};null!=n&&null!=k&&(e.x=n,e.y=k);null!=p&&null!=b?(e.width=p,e.height=b):d(f,function(){a._.$(q.node,{width:this.offsetWidth,height:this.offsetHeight})});a._.$(q.node,e)}return q};w.ellipse=function(a,d,k,p){var b;z(a,\"object\")&&\"[object Object]\"==a?b=a:null!=a&&(b={cx:a,cy:d,rx:k,ry:p});return this.el(\"ellipse\",b)};\n",
       "w.path=function(a){var d;z(a,\"object\")&&!z(a,\"array\")?d=a:a&&(d={d:a});return this.el(\"path\",d)};w.group=w.g=function(a){var d=this.el(\"g\");1==arguments.length&&a&&!a.type?d.attr(a):arguments.length&&d.add(Array.prototype.slice.call(arguments,0));return d};w.svg=function(a,d,k,p,b,q,e,l){var r={};z(a,\"object\")&&null==d?r=a:(null!=a&&(r.x=a),null!=d&&(r.y=d),null!=k&&(r.width=k),null!=p&&(r.height=p),null!=b&&null!=q&&null!=e&&null!=l&&(r.viewBox=[b,q,e,l]));return this.el(\"svg\",r)};w.mask=function(a){var d=\n",
       "this.el(\"mask\");1==arguments.length&&a&&!a.type?d.attr(a):arguments.length&&d.add(Array.prototype.slice.call(arguments,0));return d};w.ptrn=function(a,d,k,p,b,q,e,l){if(z(a,\"object\"))var r=a;else arguments.length?(r={},null!=a&&(r.x=a),null!=d&&(r.y=d),null!=k&&(r.width=k),null!=p&&(r.height=p),null!=b&&null!=q&&null!=e&&null!=l&&(r.viewBox=[b,q,e,l])):r={patternUnits:\"userSpaceOnUse\"};return this.el(\"pattern\",r)};w.use=function(a){return null!=a?(make(\"use\",this.node),a instanceof v&&(a.attr(\"id\")||\n",
       "a.attr({id:ID()}),a=a.attr(\"id\")),this.el(\"use\",{\"xlink:href\":a})):v.prototype.use.call(this)};w.text=function(a,d,k){var p={};z(a,\"object\")?p=a:null!=a&&(p={x:a,y:d,text:k||\"\"});return this.el(\"text\",p)};w.line=function(a,d,k,p){var b={};z(a,\"object\")?b=a:null!=a&&(b={x1:a,x2:k,y1:d,y2:p});return this.el(\"line\",b)};w.polyline=function(a){1<arguments.length&&(a=Array.prototype.slice.call(arguments,0));var d={};z(a,\"object\")&&!z(a,\"array\")?d=a:null!=a&&(d={points:a});return this.el(\"polyline\",d)};\n",
       "w.polygon=function(a){1<arguments.length&&(a=Array.prototype.slice.call(arguments,0));var d={};z(a,\"object\")&&!z(a,\"array\")?d=a:null!=a&&(d={points:a});return this.el(\"polygon\",d)};(function(){function d(){return this.selectAll(\"stop\")}function n(b,d){var f=e(\"stop\"),k={offset:+d+\"%\"};b=a.color(b);k[\"stop-color\"]=b.hex;1>b.opacity&&(k[\"stop-opacity\"]=b.opacity);e(f,k);this.node.appendChild(f);return this}function u(){if(\"linearGradient\"==this.type){var b=e(this.node,\"x1\")||0,d=e(this.node,\"x2\")||\n",
       "1,f=e(this.node,\"y1\")||0,k=e(this.node,\"y2\")||0;return a._.box(b,f,math.abs(d-b),math.abs(k-f))}b=this.node.r||0;return a._.box((this.node.cx||0.5)-b,(this.node.cy||0.5)-b,2*b,2*b)}function p(a,d){function f(a,b){for(var d=(b-u)/(a-w),e=w;e<a;e++)h[e].offset=+(+u+d*(e-w)).toFixed(2);w=a;u=b}var n=k(\"snap.util.grad.parse\",null,d).firstDefined(),p;if(!n)return null;n.params.unshift(a);p=\"l\"==n.type.toLowerCase()?b.apply(0,n.params):q.apply(0,n.params);n.type!=n.type.toLowerCase()&&e(p.node,{gradientUnits:\"userSpaceOnUse\"});\n",
       "var h=n.stops,n=h.length,u=0,w=0;n--;for(var v=0;v<n;v++)\"offset\"in h[v]&&f(v,h[v].offset);h[n].offset=h[n].offset||100;f(n,h[n].offset);for(v=0;v<=n;v++){var y=h[v];p.addStop(y.color,y.offset)}return p}function b(b,k,p,q,w){b=a._.make(\"linearGradient\",b);b.stops=d;b.addStop=n;b.getBBox=u;null!=k&&e(b.node,{x1:k,y1:p,x2:q,y2:w});return b}function q(b,k,p,q,w,h){b=a._.make(\"radialGradient\",b);b.stops=d;b.addStop=n;b.getBBox=u;null!=k&&e(b.node,{cx:k,cy:p,r:q});null!=w&&null!=h&&e(b.node,{fx:w,fy:h});\n",
       "return b}var e=a._.$;w.gradient=function(a){return p(this.defs,a)};w.gradientLinear=function(a,d,e,f){return b(this.defs,a,d,e,f)};w.gradientRadial=function(a,b,d,e,f){return q(this.defs,a,b,d,e,f)};w.toString=function(){var b=this.node.ownerDocument,d=b.createDocumentFragment(),b=b.createElement(\"div\"),e=this.node.cloneNode(!0);d.appendChild(b);b.appendChild(e);a._.$(e,{xmlns:\"http://www.w3.org/2000/svg\"});b=b.innerHTML;d.removeChild(d.firstChild);return b};w.clear=function(){for(var a=this.node.firstChild,\n",
       "b;a;)b=a.nextSibling,\"defs\"!=a.tagName?a.parentNode.removeChild(a):w.clear.call({node:a}),a=b}})()});C.plugin(function(a,k,y,M){function A(a){var b=A.ps=A.ps||{};b[a]?b[a].sleep=100:b[a]={sleep:100};setTimeout(function(){for(var d in b)b[L](d)&&d!=a&&(b[d].sleep--,!b[d].sleep&&delete b[d])});return b[a]}function w(a,b,d,e){null==a&&(a=b=d=e=0);null==b&&(b=a.y,d=a.width,e=a.height,a=a.x);return{x:a,y:b,width:d,w:d,height:e,h:e,x2:a+d,y2:b+e,cx:a+d/2,cy:b+e/2,r1:F.min(d,e)/2,r2:F.max(d,e)/2,r0:F.sqrt(d*\n",
       "d+e*e)/2,path:s(a,b,d,e),vb:[a,b,d,e].join(\" \")}}function z(){return this.join(\",\").replace(N,\"$1\")}function d(a){a=C(a);a.toString=z;return a}function f(a,b,d,h,f,k,l,n,p){if(null==p)return e(a,b,d,h,f,k,l,n);if(0>p||e(a,b,d,h,f,k,l,n)<p)p=void 0;else{var q=0.5,O=1-q,s;for(s=e(a,b,d,h,f,k,l,n,O);0.01<Z(s-p);)q/=2,O+=(s<p?1:-1)*q,s=e(a,b,d,h,f,k,l,n,O);p=O}return u(a,b,d,h,f,k,l,n,p)}function n(b,d){function e(a){return+(+a).toFixed(3)}return a._.cacher(function(a,h,l){a instanceof k&&(a=a.attr(\"d\"));\n",
       "a=I(a);for(var n,p,D,q,O=\"\",s={},c=0,t=0,r=a.length;t<r;t++){D=a[t];if(\"M\"==D[0])n=+D[1],p=+D[2];else{q=f(n,p,D[1],D[2],D[3],D[4],D[5],D[6]);if(c+q>h){if(d&&!s.start){n=f(n,p,D[1],D[2],D[3],D[4],D[5],D[6],h-c);O+=[\"C\"+e(n.start.x),e(n.start.y),e(n.m.x),e(n.m.y),e(n.x),e(n.y)];if(l)return O;s.start=O;O=[\"M\"+e(n.x),e(n.y)+\"C\"+e(n.n.x),e(n.n.y),e(n.end.x),e(n.end.y),e(D[5]),e(D[6])].join();c+=q;n=+D[5];p=+D[6];continue}if(!b&&!d)return n=f(n,p,D[1],D[2],D[3],D[4],D[5],D[6],h-c)}c+=q;n=+D[5];p=+D[6]}O+=\n",
       "D.shift()+D}s.end=O;return n=b?c:d?s:u(n,p,D[0],D[1],D[2],D[3],D[4],D[5],1)},null,a._.clone)}function u(a,b,d,e,h,f,k,l,n){var p=1-n,q=ma(p,3),s=ma(p,2),c=n*n,t=c*n,r=q*a+3*s*n*d+3*p*n*n*h+t*k,q=q*b+3*s*n*e+3*p*n*n*f+t*l,s=a+2*n*(d-a)+c*(h-2*d+a),t=b+2*n*(e-b)+c*(f-2*e+b),x=d+2*n*(h-d)+c*(k-2*h+d),c=e+2*n*(f-e)+c*(l-2*f+e);a=p*a+n*d;b=p*b+n*e;h=p*h+n*k;f=p*f+n*l;l=90-180*F.atan2(s-x,t-c)/S;return{x:r,y:q,m:{x:s,y:t},n:{x:x,y:c},start:{x:a,y:b},end:{x:h,y:f},alpha:l}}function p(b,d,e,h,f,n,k,l){a.is(b,\n",
       "\"array\")||(b=[b,d,e,h,f,n,k,l]);b=U.apply(null,b);return w(b.min.x,b.min.y,b.max.x-b.min.x,b.max.y-b.min.y)}function b(a,b,d){return b>=a.x&&b<=a.x+a.width&&d>=a.y&&d<=a.y+a.height}function q(a,d){a=w(a);d=w(d);return b(d,a.x,a.y)||b(d,a.x2,a.y)||b(d,a.x,a.y2)||b(d,a.x2,a.y2)||b(a,d.x,d.y)||b(a,d.x2,d.y)||b(a,d.x,d.y2)||b(a,d.x2,d.y2)||(a.x<d.x2&&a.x>d.x||d.x<a.x2&&d.x>a.x)&&(a.y<d.y2&&a.y>d.y||d.y<a.y2&&d.y>a.y)}function e(a,b,d,e,h,f,n,k,l){null==l&&(l=1);l=(1<l?1:0>l?0:l)/2;for(var p=[-0.1252,\n",
       "0.1252,-0.3678,0.3678,-0.5873,0.5873,-0.7699,0.7699,-0.9041,0.9041,-0.9816,0.9816],q=[0.2491,0.2491,0.2335,0.2335,0.2032,0.2032,0.1601,0.1601,0.1069,0.1069,0.0472,0.0472],s=0,c=0;12>c;c++)var t=l*p[c]+l,r=t*(t*(-3*a+9*d-9*h+3*n)+6*a-12*d+6*h)-3*a+3*d,t=t*(t*(-3*b+9*e-9*f+3*k)+6*b-12*e+6*f)-3*b+3*e,s=s+q[c]*F.sqrt(r*r+t*t);return l*s}function l(a,b,d){a=I(a);b=I(b);for(var h,f,l,n,k,s,r,O,x,c,t=d?0:[],w=0,v=a.length;w<v;w++)if(x=a[w],\"M\"==x[0])h=k=x[1],f=s=x[2];else{\"C\"==x[0]?(x=[h,f].concat(x.slice(1)),\n",
       "h=x[6],f=x[7]):(x=[h,f,h,f,k,s,k,s],h=k,f=s);for(var G=0,y=b.length;G<y;G++)if(c=b[G],\"M\"==c[0])l=r=c[1],n=O=c[2];else{\"C\"==c[0]?(c=[l,n].concat(c.slice(1)),l=c[6],n=c[7]):(c=[l,n,l,n,r,O,r,O],l=r,n=O);var z;var K=x,B=c;z=d;var H=p(K),J=p(B);if(q(H,J)){for(var H=e.apply(0,K),J=e.apply(0,B),H=~~(H/8),J=~~(J/8),U=[],A=[],F={},M=z?0:[],P=0;P<H+1;P++){var C=u.apply(0,K.concat(P/H));U.push({x:C.x,y:C.y,t:P/H})}for(P=0;P<J+1;P++)C=u.apply(0,B.concat(P/J)),A.push({x:C.x,y:C.y,t:P/J});for(P=0;P<H;P++)for(K=\n",
       "0;K<J;K++){var Q=U[P],L=U[P+1],B=A[K],C=A[K+1],N=0.001>Z(L.x-Q.x)?\"y\":\"x\",S=0.001>Z(C.x-B.x)?\"y\":\"x\",R;R=Q.x;var Y=Q.y,V=L.x,ea=L.y,fa=B.x,ga=B.y,ha=C.x,ia=C.y;if(W(R,V)<X(fa,ha)||X(R,V)>W(fa,ha)||W(Y,ea)<X(ga,ia)||X(Y,ea)>W(ga,ia))R=void 0;else{var $=(R*ea-Y*V)*(fa-ha)-(R-V)*(fa*ia-ga*ha),aa=(R*ea-Y*V)*(ga-ia)-(Y-ea)*(fa*ia-ga*ha),ja=(R-V)*(ga-ia)-(Y-ea)*(fa-ha);if(ja){var $=$/ja,aa=aa/ja,ja=+$.toFixed(2),ba=+aa.toFixed(2);R=ja<+X(R,V).toFixed(2)||ja>+W(R,V).toFixed(2)||ja<+X(fa,ha).toFixed(2)||\n",
       "ja>+W(fa,ha).toFixed(2)||ba<+X(Y,ea).toFixed(2)||ba>+W(Y,ea).toFixed(2)||ba<+X(ga,ia).toFixed(2)||ba>+W(ga,ia).toFixed(2)?void 0:{x:$,y:aa}}else R=void 0}R&&F[R.x.toFixed(4)]!=R.y.toFixed(4)&&(F[R.x.toFixed(4)]=R.y.toFixed(4),Q=Q.t+Z((R[N]-Q[N])/(L[N]-Q[N]))*(L.t-Q.t),B=B.t+Z((R[S]-B[S])/(C[S]-B[S]))*(C.t-B.t),0<=Q&&1>=Q&&0<=B&&1>=B&&(z?M++:M.push({x:R.x,y:R.y,t1:Q,t2:B})))}z=M}else z=z?0:[];if(d)t+=z;else{H=0;for(J=z.length;H<J;H++)z[H].segment1=w,z[H].segment2=G,z[H].bez1=x,z[H].bez2=c;t=t.concat(z)}}}return t}\n",
       "function r(a){var b=A(a);if(b.bbox)return C(b.bbox);if(!a)return w();a=I(a);for(var d=0,e=0,h=[],f=[],l,n=0,k=a.length;n<k;n++)l=a[n],\"M\"==l[0]?(d=l[1],e=l[2],h.push(d),f.push(e)):(d=U(d,e,l[1],l[2],l[3],l[4],l[5],l[6]),h=h.concat(d.min.x,d.max.x),f=f.concat(d.min.y,d.max.y),d=l[5],e=l[6]);a=X.apply(0,h);l=X.apply(0,f);h=W.apply(0,h);f=W.apply(0,f);f=w(a,l,h-a,f-l);b.bbox=C(f);return f}function s(a,b,d,e,h){if(h)return[[\"M\",+a+ +h,b],[\"l\",d-2*h,0],[\"a\",h,h,0,0,1,h,h],[\"l\",0,e-2*h],[\"a\",h,h,0,0,1,\n",
       "-h,h],[\"l\",2*h-d,0],[\"a\",h,h,0,0,1,-h,-h],[\"l\",0,2*h-e],[\"a\",h,h,0,0,1,h,-h],[\"z\"] ];a=[[\"M\",a,b],[\"l\",d,0],[\"l\",0,e],[\"l\",-d,0],[\"z\"] ];a.toString=z;return a}function x(a,b,d,e,h){null==h&&null==e&&(e=d);a=+a;b=+b;d=+d;e=+e;if(null!=h){var f=Math.PI/180,l=a+d*Math.cos(-e*f);a+=d*Math.cos(-h*f);var n=b+d*Math.sin(-e*f);b+=d*Math.sin(-h*f);d=[[\"M\",l,n],[\"A\",d,d,0,+(180<h-e),0,a,b] ]}else d=[[\"M\",a,b],[\"m\",0,-e],[\"a\",d,e,0,1,1,0,2*e],[\"a\",d,e,0,1,1,0,-2*e],[\"z\"] ];d.toString=z;return d}function G(b){var e=\n",
       "A(b);if(e.abs)return d(e.abs);Q(b,\"array\")&&Q(b&&b[0],\"array\")||(b=a.parsePathString(b));if(!b||!b.length)return[[\"M\",0,0] ];var h=[],f=0,l=0,n=0,k=0,p=0;\"M\"==b[0][0]&&(f=+b[0][1],l=+b[0][2],n=f,k=l,p++,h[0]=[\"M\",f,l]);for(var q=3==b.length&&\"M\"==b[0][0]&&\"R\"==b[1][0].toUpperCase()&&\"Z\"==b[2][0].toUpperCase(),s,r,w=p,c=b.length;w<c;w++){h.push(s=[]);r=b[w];p=r[0];if(p!=p.toUpperCase())switch(s[0]=p.toUpperCase(),s[0]){case \"A\":s[1]=r[1];s[2]=r[2];s[3]=r[3];s[4]=r[4];s[5]=r[5];s[6]=+r[6]+f;s[7]=+r[7]+\n",
       "l;break;case \"V\":s[1]=+r[1]+l;break;case \"H\":s[1]=+r[1]+f;break;case \"R\":for(var t=[f,l].concat(r.slice(1)),u=2,v=t.length;u<v;u++)t[u]=+t[u]+f,t[++u]=+t[u]+l;h.pop();h=h.concat(P(t,q));break;case \"O\":h.pop();t=x(f,l,r[1],r[2]);t.push(t[0]);h=h.concat(t);break;case \"U\":h.pop();h=h.concat(x(f,l,r[1],r[2],r[3]));s=[\"U\"].concat(h[h.length-1].slice(-2));break;case \"M\":n=+r[1]+f,k=+r[2]+l;default:for(u=1,v=r.length;u<v;u++)s[u]=+r[u]+(u%2?f:l)}else if(\"R\"==p)t=[f,l].concat(r.slice(1)),h.pop(),h=h.concat(P(t,\n",
       "q)),s=[\"R\"].concat(r.slice(-2));else if(\"O\"==p)h.pop(),t=x(f,l,r[1],r[2]),t.push(t[0]),h=h.concat(t);else if(\"U\"==p)h.pop(),h=h.concat(x(f,l,r[1],r[2],r[3])),s=[\"U\"].concat(h[h.length-1].slice(-2));else for(t=0,u=r.length;t<u;t++)s[t]=r[t];p=p.toUpperCase();if(\"O\"!=p)switch(s[0]){case \"Z\":f=+n;l=+k;break;case \"H\":f=s[1];break;case \"V\":l=s[1];break;case \"M\":n=s[s.length-2],k=s[s.length-1];default:f=s[s.length-2],l=s[s.length-1]}}h.toString=z;e.abs=d(h);return h}function h(a,b,d,e){return[a,b,d,e,d,\n",
       "e]}function J(a,b,d,e,h,f){var l=1/3,n=2/3;return[l*a+n*d,l*b+n*e,l*h+n*d,l*f+n*e,h,f]}function K(b,d,e,h,f,l,n,k,p,s){var r=120*S/180,q=S/180*(+f||0),c=[],t,x=a._.cacher(function(a,b,c){var d=a*F.cos(c)-b*F.sin(c);a=a*F.sin(c)+b*F.cos(c);return{x:d,y:a}});if(s)v=s[0],t=s[1],l=s[2],u=s[3];else{t=x(b,d,-q);b=t.x;d=t.y;t=x(k,p,-q);k=t.x;p=t.y;F.cos(S/180*f);F.sin(S/180*f);t=(b-k)/2;v=(d-p)/2;u=t*t/(e*e)+v*v/(h*h);1<u&&(u=F.sqrt(u),e*=u,h*=u);var u=e*e,w=h*h,u=(l==n?-1:1)*F.sqrt(Z((u*w-u*v*v-w*t*t)/\n",
       "(u*v*v+w*t*t)));l=u*e*v/h+(b+k)/2;var u=u*-h*t/e+(d+p)/2,v=F.asin(((d-u)/h).toFixed(9));t=F.asin(((p-u)/h).toFixed(9));v=b<l?S-v:v;t=k<l?S-t:t;0>v&&(v=2*S+v);0>t&&(t=2*S+t);n&&v>t&&(v-=2*S);!n&&t>v&&(t-=2*S)}if(Z(t-v)>r){var c=t,w=k,G=p;t=v+r*(n&&t>v?1:-1);k=l+e*F.cos(t);p=u+h*F.sin(t);c=K(k,p,e,h,f,0,n,w,G,[t,c,l,u])}l=t-v;f=F.cos(v);r=F.sin(v);n=F.cos(t);t=F.sin(t);l=F.tan(l/4);e=4/3*e*l;l*=4/3*h;h=[b,d];b=[b+e*r,d-l*f];d=[k+e*t,p-l*n];k=[k,p];b[0]=2*h[0]-b[0];b[1]=2*h[1]-b[1];if(s)return[b,d,k].concat(c);\n",
       "c=[b,d,k].concat(c).join().split(\",\");s=[];k=0;for(p=c.length;k<p;k++)s[k]=k%2?x(c[k-1],c[k],q).y:x(c[k],c[k+1],q).x;return s}function U(a,b,d,e,h,f,l,k){for(var n=[],p=[[],[] ],s,r,c,t,q=0;2>q;++q)0==q?(r=6*a-12*d+6*h,s=-3*a+9*d-9*h+3*l,c=3*d-3*a):(r=6*b-12*e+6*f,s=-3*b+9*e-9*f+3*k,c=3*e-3*b),1E-12>Z(s)?1E-12>Z(r)||(s=-c/r,0<s&&1>s&&n.push(s)):(t=r*r-4*c*s,c=F.sqrt(t),0>t||(t=(-r+c)/(2*s),0<t&&1>t&&n.push(t),s=(-r-c)/(2*s),0<s&&1>s&&n.push(s)));for(r=q=n.length;q--;)s=n[q],c=1-s,p[0][q]=c*c*c*a+3*\n",
       "c*c*s*d+3*c*s*s*h+s*s*s*l,p[1][q]=c*c*c*b+3*c*c*s*e+3*c*s*s*f+s*s*s*k;p[0][r]=a;p[1][r]=b;p[0][r+1]=l;p[1][r+1]=k;p[0].length=p[1].length=r+2;return{min:{x:X.apply(0,p[0]),y:X.apply(0,p[1])},max:{x:W.apply(0,p[0]),y:W.apply(0,p[1])}}}function I(a,b){var e=!b&&A(a);if(!b&&e.curve)return d(e.curve);var f=G(a),l=b&&G(b),n={x:0,y:0,bx:0,by:0,X:0,Y:0,qx:null,qy:null},k={x:0,y:0,bx:0,by:0,X:0,Y:0,qx:null,qy:null},p=function(a,b,c){if(!a)return[\"C\",b.x,b.y,b.x,b.y,b.x,b.y];a[0]in{T:1,Q:1}||(b.qx=b.qy=null);\n",
       "switch(a[0]){case \"M\":b.X=a[1];b.Y=a[2];break;case \"A\":a=[\"C\"].concat(K.apply(0,[b.x,b.y].concat(a.slice(1))));break;case \"S\":\"C\"==c||\"S\"==c?(c=2*b.x-b.bx,b=2*b.y-b.by):(c=b.x,b=b.y);a=[\"C\",c,b].concat(a.slice(1));break;case \"T\":\"Q\"==c||\"T\"==c?(b.qx=2*b.x-b.qx,b.qy=2*b.y-b.qy):(b.qx=b.x,b.qy=b.y);a=[\"C\"].concat(J(b.x,b.y,b.qx,b.qy,a[1],a[2]));break;case \"Q\":b.qx=a[1];b.qy=a[2];a=[\"C\"].concat(J(b.x,b.y,a[1],a[2],a[3],a[4]));break;case \"L\":a=[\"C\"].concat(h(b.x,b.y,a[1],a[2]));break;case \"H\":a=[\"C\"].concat(h(b.x,\n",
       "b.y,a[1],b.y));break;case \"V\":a=[\"C\"].concat(h(b.x,b.y,b.x,a[1]));break;case \"Z\":a=[\"C\"].concat(h(b.x,b.y,b.X,b.Y))}return a},s=function(a,b){if(7<a[b].length){a[b].shift();for(var c=a[b];c.length;)q[b]=\"A\",l&&(u[b]=\"A\"),a.splice(b++,0,[\"C\"].concat(c.splice(0,6)));a.splice(b,1);v=W(f.length,l&&l.length||0)}},r=function(a,b,c,d,e){a&&b&&\"M\"==a[e][0]&&\"M\"!=b[e][0]&&(b.splice(e,0,[\"M\",d.x,d.y]),c.bx=0,c.by=0,c.x=a[e][1],c.y=a[e][2],v=W(f.length,l&&l.length||0))},q=[],u=[],c=\"\",t=\"\",x=0,v=W(f.length,\n",
       "l&&l.length||0);for(;x<v;x++){f[x]&&(c=f[x][0]);\"C\"!=c&&(q[x]=c,x&&(t=q[x-1]));f[x]=p(f[x],n,t);\"A\"!=q[x]&&\"C\"==c&&(q[x]=\"C\");s(f,x);l&&(l[x]&&(c=l[x][0]),\"C\"!=c&&(u[x]=c,x&&(t=u[x-1])),l[x]=p(l[x],k,t),\"A\"!=u[x]&&\"C\"==c&&(u[x]=\"C\"),s(l,x));r(f,l,n,k,x);r(l,f,k,n,x);var w=f[x],z=l&&l[x],y=w.length,U=l&&z.length;n.x=w[y-2];n.y=w[y-1];n.bx=$(w[y-4])||n.x;n.by=$(w[y-3])||n.y;k.bx=l&&($(z[U-4])||k.x);k.by=l&&($(z[U-3])||k.y);k.x=l&&z[U-2];k.y=l&&z[U-1]}l||(e.curve=d(f));return l?[f,l]:f}function P(a,\n",
       "b){for(var d=[],e=0,h=a.length;h-2*!b>e;e+=2){var f=[{x:+a[e-2],y:+a[e-1]},{x:+a[e],y:+a[e+1]},{x:+a[e+2],y:+a[e+3]},{x:+a[e+4],y:+a[e+5]}];b?e?h-4==e?f[3]={x:+a[0],y:+a[1]}:h-2==e&&(f[2]={x:+a[0],y:+a[1]},f[3]={x:+a[2],y:+a[3]}):f[0]={x:+a[h-2],y:+a[h-1]}:h-4==e?f[3]=f[2]:e||(f[0]={x:+a[e],y:+a[e+1]});d.push([\"C\",(-f[0].x+6*f[1].x+f[2].x)/6,(-f[0].y+6*f[1].y+f[2].y)/6,(f[1].x+6*f[2].x-f[3].x)/6,(f[1].y+6*f[2].y-f[3].y)/6,f[2].x,f[2].y])}return d}y=k.prototype;var Q=a.is,C=a._.clone,L=\"hasOwnProperty\",\n",
       "N=/,?([a-z]),?/gi,$=parseFloat,F=Math,S=F.PI,X=F.min,W=F.max,ma=F.pow,Z=F.abs;M=n(1);var na=n(),ba=n(0,1),V=a._unit2px;a.path=A;a.path.getTotalLength=M;a.path.getPointAtLength=na;a.path.getSubpath=function(a,b,d){if(1E-6>this.getTotalLength(a)-d)return ba(a,b).end;a=ba(a,d,1);return b?ba(a,b).end:a};y.getTotalLength=function(){if(this.node.getTotalLength)return this.node.getTotalLength()};y.getPointAtLength=function(a){return na(this.attr(\"d\"),a)};y.getSubpath=function(b,d){return a.path.getSubpath(this.attr(\"d\"),\n",
       "b,d)};a._.box=w;a.path.findDotsAtSegment=u;a.path.bezierBBox=p;a.path.isPointInsideBBox=b;a.path.isBBoxIntersect=q;a.path.intersection=function(a,b){return l(a,b)};a.path.intersectionNumber=function(a,b){return l(a,b,1)};a.path.isPointInside=function(a,d,e){var h=r(a);return b(h,d,e)&&1==l(a,[[\"M\",d,e],[\"H\",h.x2+10] ],1)%2};a.path.getBBox=r;a.path.get={path:function(a){return a.attr(\"path\")},circle:function(a){a=V(a);return x(a.cx,a.cy,a.r)},ellipse:function(a){a=V(a);return x(a.cx||0,a.cy||0,a.rx,\n",
       "a.ry)},rect:function(a){a=V(a);return s(a.x||0,a.y||0,a.width,a.height,a.rx,a.ry)},image:function(a){a=V(a);return s(a.x||0,a.y||0,a.width,a.height)},line:function(a){return\"M\"+[a.attr(\"x1\")||0,a.attr(\"y1\")||0,a.attr(\"x2\"),a.attr(\"y2\")]},polyline:function(a){return\"M\"+a.attr(\"points\")},polygon:function(a){return\"M\"+a.attr(\"points\")+\"z\"},deflt:function(a){a=a.node.getBBox();return s(a.x,a.y,a.width,a.height)}};a.path.toRelative=function(b){var e=A(b),h=String.prototype.toLowerCase;if(e.rel)return d(e.rel);\n",
       "a.is(b,\"array\")&&a.is(b&&b[0],\"array\")||(b=a.parsePathString(b));var f=[],l=0,n=0,k=0,p=0,s=0;\"M\"==b[0][0]&&(l=b[0][1],n=b[0][2],k=l,p=n,s++,f.push([\"M\",l,n]));for(var r=b.length;s<r;s++){var q=f[s]=[],x=b[s];if(x[0]!=h.call(x[0]))switch(q[0]=h.call(x[0]),q[0]){case \"a\":q[1]=x[1];q[2]=x[2];q[3]=x[3];q[4]=x[4];q[5]=x[5];q[6]=+(x[6]-l).toFixed(3);q[7]=+(x[7]-n).toFixed(3);break;case \"v\":q[1]=+(x[1]-n).toFixed(3);break;case \"m\":k=x[1],p=x[2];default:for(var c=1,t=x.length;c<t;c++)q[c]=+(x[c]-(c%2?l:\n",
       "n)).toFixed(3)}else for(f[s]=[],\"m\"==x[0]&&(k=x[1]+l,p=x[2]+n),q=0,c=x.length;q<c;q++)f[s][q]=x[q];x=f[s].length;switch(f[s][0]){case \"z\":l=k;n=p;break;case \"h\":l+=+f[s][x-1];break;case \"v\":n+=+f[s][x-1];break;default:l+=+f[s][x-2],n+=+f[s][x-1]}}f.toString=z;e.rel=d(f);return f};a.path.toAbsolute=G;a.path.toCubic=I;a.path.map=function(a,b){if(!b)return a;var d,e,h,f,l,n,k;a=I(a);h=0;for(l=a.length;h<l;h++)for(k=a[h],f=1,n=k.length;f<n;f+=2)d=b.x(k[f],k[f+1]),e=b.y(k[f],k[f+1]),k[f]=d,k[f+1]=e;return a};\n",
       "a.path.toString=z;a.path.clone=d});C.plugin(function(a,v,y,C){var A=Math.max,w=Math.min,z=function(a){this.items=[];this.bindings={};this.length=0;this.type=\"set\";if(a)for(var f=0,n=a.length;f<n;f++)a[f]&&(this[this.items.length]=this.items[this.items.length]=a[f],this.length++)};v=z.prototype;v.push=function(){for(var a,f,n=0,k=arguments.length;n<k;n++)if(a=arguments[n])f=this.items.length,this[f]=this.items[f]=a,this.length++;return this};v.pop=function(){this.length&&delete this[this.length--];\n",
       "return this.items.pop()};v.forEach=function(a,f){for(var n=0,k=this.items.length;n<k&&!1!==a.call(f,this.items[n],n);n++);return this};v.animate=function(d,f,n,u){\"function\"!=typeof n||n.length||(u=n,n=L.linear);d instanceof a._.Animation&&(u=d.callback,n=d.easing,f=n.dur,d=d.attr);var p=arguments;if(a.is(d,\"array\")&&a.is(p[p.length-1],\"array\"))var b=!0;var q,e=function(){q?this.b=q:q=this.b},l=0,r=u&&function(){l++==this.length&&u.call(this)};return this.forEach(function(a,l){k.once(\"snap.animcreated.\"+\n",
       "a.id,e);b?p[l]&&a.animate.apply(a,p[l]):a.animate(d,f,n,r)})};v.remove=function(){for(;this.length;)this.pop().remove();return this};v.bind=function(a,f,k){var u={};if(\"function\"==typeof f)this.bindings[a]=f;else{var p=k||a;this.bindings[a]=function(a){u[p]=a;f.attr(u)}}return this};v.attr=function(a){var f={},k;for(k in a)if(this.bindings[k])this.bindings[k](a[k]);else f[k]=a[k];a=0;for(k=this.items.length;a<k;a++)this.items[a].attr(f);return this};v.clear=function(){for(;this.length;)this.pop()};\n",
       "v.splice=function(a,f,k){a=0>a?A(this.length+a,0):a;f=A(0,w(this.length-a,f));var u=[],p=[],b=[],q;for(q=2;q<arguments.length;q++)b.push(arguments[q]);for(q=0;q<f;q++)p.push(this[a+q]);for(;q<this.length-a;q++)u.push(this[a+q]);var e=b.length;for(q=0;q<e+u.length;q++)this.items[a+q]=this[a+q]=q<e?b[q]:u[q-e];for(q=this.items.length=this.length-=f-e;this[q];)delete this[q++];return new z(p)};v.exclude=function(a){for(var f=0,k=this.length;f<k;f++)if(this[f]==a)return this.splice(f,1),!0;return!1};\n",
       "v.insertAfter=function(a){for(var f=this.items.length;f--;)this.items[f].insertAfter(a);return this};v.getBBox=function(){for(var a=[],f=[],k=[],u=[],p=this.items.length;p--;)if(!this.items[p].removed){var b=this.items[p].getBBox();a.push(b.x);f.push(b.y);k.push(b.x+b.width);u.push(b.y+b.height)}a=w.apply(0,a);f=w.apply(0,f);k=A.apply(0,k);u=A.apply(0,u);return{x:a,y:f,x2:k,y2:u,width:k-a,height:u-f,cx:a+(k-a)/2,cy:f+(u-f)/2}};v.clone=function(a){a=new z;for(var f=0,k=this.items.length;f<k;f++)a.push(this.items[f].clone());\n",
       "return a};v.toString=function(){return\"Snap\\u2018s set\"};v.type=\"set\";a.set=function(){var a=new z;arguments.length&&a.push.apply(a,Array.prototype.slice.call(arguments,0));return a}});C.plugin(function(a,v,y,C){function A(a){var b=a[0];switch(b.toLowerCase()){case \"t\":return[b,0,0];case \"m\":return[b,1,0,0,1,0,0];case \"r\":return 4==a.length?[b,0,a[2],a[3] ]:[b,0];case \"s\":return 5==a.length?[b,1,1,a[3],a[4] ]:3==a.length?[b,1,1]:[b,1]}}function w(b,d,f){d=q(d).replace(/\\.{3}|\\u2026/g,b);b=a.parseTransformString(b)||\n",
       "[];d=a.parseTransformString(d)||[];for(var k=Math.max(b.length,d.length),p=[],v=[],h=0,w,z,y,I;h<k;h++){y=b[h]||A(d[h]);I=d[h]||A(y);if(y[0]!=I[0]||\"r\"==y[0].toLowerCase()&&(y[2]!=I[2]||y[3]!=I[3])||\"s\"==y[0].toLowerCase()&&(y[3]!=I[3]||y[4]!=I[4])){b=a._.transform2matrix(b,f());d=a._.transform2matrix(d,f());p=[[\"m\",b.a,b.b,b.c,b.d,b.e,b.f] ];v=[[\"m\",d.a,d.b,d.c,d.d,d.e,d.f] ];break}p[h]=[];v[h]=[];w=0;for(z=Math.max(y.length,I.length);w<z;w++)w in y&&(p[h][w]=y[w]),w in I&&(v[h][w]=I[w])}return{from:u(p),\n",
       "to:u(v),f:n(p)}}function z(a){return a}function d(a){return function(b){return+b.toFixed(3)+a}}function f(b){return a.rgb(b[0],b[1],b[2])}function n(a){var b=0,d,f,k,n,h,p,q=[];d=0;for(f=a.length;d<f;d++){h=\"[\";p=['\"'+a[d][0]+'\"'];k=1;for(n=a[d].length;k<n;k++)p[k]=\"val[\"+b++ +\"]\";h+=p+\"]\";q[d]=h}return Function(\"val\",\"return Snap.path.toString.call([\"+q+\"])\")}function u(a){for(var b=[],d=0,f=a.length;d<f;d++)for(var k=1,n=a[d].length;k<n;k++)b.push(a[d][k]);return b}var p={},b=/[a-z]+$/i,q=String;\n",
       "p.stroke=p.fill=\"colour\";v.prototype.equal=function(a,b){return k(\"snap.util.equal\",this,a,b).firstDefined()};k.on(\"snap.util.equal\",function(e,k){var r,s;r=q(this.attr(e)||\"\");var x=this;if(r==+r&&k==+k)return{from:+r,to:+k,f:z};if(\"colour\"==p[e])return r=a.color(r),s=a.color(k),{from:[r.r,r.g,r.b,r.opacity],to:[s.r,s.g,s.b,s.opacity],f:f};if(\"transform\"==e||\"gradientTransform\"==e||\"patternTransform\"==e)return k instanceof a.Matrix&&(k=k.toTransformString()),a._.rgTransform.test(k)||(k=a._.svgTransform2string(k)),\n",
       "w(r,k,function(){return x.getBBox(1)});if(\"d\"==e||\"path\"==e)return r=a.path.toCubic(r,k),{from:u(r[0]),to:u(r[1]),f:n(r[0])};if(\"points\"==e)return r=q(r).split(a._.separator),s=q(k).split(a._.separator),{from:r,to:s,f:function(a){return a}};aUnit=r.match(b);s=q(k).match(b);return aUnit&&aUnit==s?{from:parseFloat(r),to:parseFloat(k),f:d(aUnit)}:{from:this.asPX(e),to:this.asPX(e,k),f:z}})});C.plugin(function(a,v,y,C){var A=v.prototype,w=\"createTouch\"in C.doc;v=\"click dblclick mousedown mousemove mouseout mouseover mouseup touchstart touchmove touchend touchcancel\".split(\" \");\n",
       "var z={mousedown:\"touchstart\",mousemove:\"touchmove\",mouseup:\"touchend\"},d=function(a,b){var d=\"y\"==a?\"scrollTop\":\"scrollLeft\",e=b&&b.node?b.node.ownerDocument:C.doc;return e[d in e.documentElement?\"documentElement\":\"body\"][d]},f=function(){this.returnValue=!1},n=function(){return this.originalEvent.preventDefault()},u=function(){this.cancelBubble=!0},p=function(){return this.originalEvent.stopPropagation()},b=function(){if(C.doc.addEventListener)return function(a,b,e,f){var k=w&&z[b]?z[b]:b,l=function(k){var l=\n",
       "d(\"y\",f),q=d(\"x\",f);if(w&&z.hasOwnProperty(b))for(var r=0,u=k.targetTouches&&k.targetTouches.length;r<u;r++)if(k.targetTouches[r].target==a||a.contains(k.targetTouches[r].target)){u=k;k=k.targetTouches[r];k.originalEvent=u;k.preventDefault=n;k.stopPropagation=p;break}return e.call(f,k,k.clientX+q,k.clientY+l)};b!==k&&a.addEventListener(b,l,!1);a.addEventListener(k,l,!1);return function(){b!==k&&a.removeEventListener(b,l,!1);a.removeEventListener(k,l,!1);return!0}};if(C.doc.attachEvent)return function(a,\n",
       "b,e,h){var k=function(a){a=a||h.node.ownerDocument.window.event;var b=d(\"y\",h),k=d(\"x\",h),k=a.clientX+k,b=a.clientY+b;a.preventDefault=a.preventDefault||f;a.stopPropagation=a.stopPropagation||u;return e.call(h,a,k,b)};a.attachEvent(\"on\"+b,k);return function(){a.detachEvent(\"on\"+b,k);return!0}}}(),q=[],e=function(a){for(var b=a.clientX,e=a.clientY,f=d(\"y\"),l=d(\"x\"),n,p=q.length;p--;){n=q[p];if(w)for(var r=a.touches&&a.touches.length,u;r--;){if(u=a.touches[r],u.identifier==n.el._drag.id||n.el.node.contains(u.target)){b=\n",
       "u.clientX;e=u.clientY;(a.originalEvent?a.originalEvent:a).preventDefault();break}}else a.preventDefault();b+=l;e+=f;k(\"snap.drag.move.\"+n.el.id,n.move_scope||n.el,b-n.el._drag.x,e-n.el._drag.y,b,e,a)}},l=function(b){a.unmousemove(e).unmouseup(l);for(var d=q.length,f;d--;)f=q[d],f.el._drag={},k(\"snap.drag.end.\"+f.el.id,f.end_scope||f.start_scope||f.move_scope||f.el,b);q=[]};for(y=v.length;y--;)(function(d){a[d]=A[d]=function(e,f){a.is(e,\"function\")&&(this.events=this.events||[],this.events.push({name:d,\n",
       "f:e,unbind:b(this.node||document,d,e,f||this)}));return this};a[\"un\"+d]=A[\"un\"+d]=function(a){for(var b=this.events||[],e=b.length;e--;)if(b[e].name==d&&(b[e].f==a||!a)){b[e].unbind();b.splice(e,1);!b.length&&delete this.events;break}return this}})(v[y]);A.hover=function(a,b,d,e){return this.mouseover(a,d).mouseout(b,e||d)};A.unhover=function(a,b){return this.unmouseover(a).unmouseout(b)};var r=[];A.drag=function(b,d,f,h,n,p){function u(r,v,w){(r.originalEvent||r).preventDefault();this._drag.x=v;\n",
       "this._drag.y=w;this._drag.id=r.identifier;!q.length&&a.mousemove(e).mouseup(l);q.push({el:this,move_scope:h,start_scope:n,end_scope:p});d&&k.on(\"snap.drag.start.\"+this.id,d);b&&k.on(\"snap.drag.move.\"+this.id,b);f&&k.on(\"snap.drag.end.\"+this.id,f);k(\"snap.drag.start.\"+this.id,n||h||this,v,w,r)}if(!arguments.length){var v;return this.drag(function(a,b){this.attr({transform:v+(v?\"T\":\"t\")+[a,b]})},function(){v=this.transform().local})}this._drag={};r.push({el:this,start:u});this.mousedown(u);return this};\n",
       "A.undrag=function(){for(var b=r.length;b--;)r[b].el==this&&(this.unmousedown(r[b].start),r.splice(b,1),k.unbind(\"snap.drag.*.\"+this.id));!r.length&&a.unmousemove(e).unmouseup(l);return this}});C.plugin(function(a,v,y,C){y=y.prototype;var A=/^\\s*url\\((.+)\\)/,w=String,z=a._.$;a.filter={};y.filter=function(d){var f=this;\"svg\"!=f.type&&(f=f.paper);d=a.parse(w(d));var k=a._.id(),u=z(\"filter\");z(u,{id:k,filterUnits:\"userSpaceOnUse\"});u.appendChild(d.node);f.defs.appendChild(u);return new v(u)};k.on(\"snap.util.getattr.filter\",\n",
       "function(){k.stop();var d=z(this.node,\"filter\");if(d)return(d=w(d).match(A))&&a.select(d[1])});k.on(\"snap.util.attr.filter\",function(d){if(d instanceof v&&\"filter\"==d.type){k.stop();var f=d.node.id;f||(z(d.node,{id:d.id}),f=d.id);z(this.node,{filter:a.url(f)})}d&&\"none\"!=d||(k.stop(),this.node.removeAttribute(\"filter\"))});a.filter.blur=function(d,f){null==d&&(d=2);return a.format('<feGaussianBlur stdDeviation=\"{def}\"/>',{def:null==f?d:[d,f]})};a.filter.blur.toString=function(){return this()};a.filter.shadow=\n",
       "function(d,f,k,u,p){\"string\"==typeof k&&(p=u=k,k=4);\"string\"!=typeof u&&(p=u,u=\"#000\");null==k&&(k=4);null==p&&(p=1);null==d&&(d=0,f=2);null==f&&(f=d);u=a.color(u||\"#000\");return a.format('<feGaussianBlur in=\"SourceAlpha\" stdDeviation=\"{blur}\"/><feOffset dx=\"{dx}\" dy=\"{dy}\" result=\"offsetblur\"/><feFlood flood-color=\"{color}\"/><feComposite in2=\"offsetblur\" operator=\"in\"/><feComponentTransfer><feFuncA type=\"linear\" slope=\"{opacity}\"/></feComponentTransfer><feMerge><feMergeNode/><feMergeNode in=\"SourceGraphic\"/></feMerge>',\n",
       "{color:u,dx:d,dy:f,blur:k,opacity:p})};a.filter.shadow.toString=function(){return this()};a.filter.grayscale=function(d){null==d&&(d=1);return a.format('<feColorMatrix type=\"matrix\" values=\"{a} {b} {c} 0 0 {d} {e} {f} 0 0 {g} {b} {h} 0 0 0 0 0 1 0\"/>',{a:0.2126+0.7874*(1-d),b:0.7152-0.7152*(1-d),c:0.0722-0.0722*(1-d),d:0.2126-0.2126*(1-d),e:0.7152+0.2848*(1-d),f:0.0722-0.0722*(1-d),g:0.2126-0.2126*(1-d),h:0.0722+0.9278*(1-d)})};a.filter.grayscale.toString=function(){return this()};a.filter.sepia=\n",
       "function(d){null==d&&(d=1);return a.format('<feColorMatrix type=\"matrix\" values=\"{a} {b} {c} 0 0 {d} {e} {f} 0 0 {g} {h} {i} 0 0 0 0 0 1 0\"/>',{a:0.393+0.607*(1-d),b:0.769-0.769*(1-d),c:0.189-0.189*(1-d),d:0.349-0.349*(1-d),e:0.686+0.314*(1-d),f:0.168-0.168*(1-d),g:0.272-0.272*(1-d),h:0.534-0.534*(1-d),i:0.131+0.869*(1-d)})};a.filter.sepia.toString=function(){return this()};a.filter.saturate=function(d){null==d&&(d=1);return a.format('<feColorMatrix type=\"saturate\" values=\"{amount}\"/>',{amount:1-\n",
       "d})};a.filter.saturate.toString=function(){return this()};a.filter.hueRotate=function(d){return a.format('<feColorMatrix type=\"hueRotate\" values=\"{angle}\"/>',{angle:d||0})};a.filter.hueRotate.toString=function(){return this()};a.filter.invert=function(d){null==d&&(d=1);return a.format('<feComponentTransfer><feFuncR type=\"table\" tableValues=\"{amount} {amount2}\"/><feFuncG type=\"table\" tableValues=\"{amount} {amount2}\"/><feFuncB type=\"table\" tableValues=\"{amount} {amount2}\"/></feComponentTransfer>',{amount:d,\n",
       "amount2:1-d})};a.filter.invert.toString=function(){return this()};a.filter.brightness=function(d){null==d&&(d=1);return a.format('<feComponentTransfer><feFuncR type=\"linear\" slope=\"{amount}\"/><feFuncG type=\"linear\" slope=\"{amount}\"/><feFuncB type=\"linear\" slope=\"{amount}\"/></feComponentTransfer>',{amount:d})};a.filter.brightness.toString=function(){return this()};a.filter.contrast=function(d){null==d&&(d=1);return a.format('<feComponentTransfer><feFuncR type=\"linear\" slope=\"{amount}\" intercept=\"{amount2}\"/><feFuncG type=\"linear\" slope=\"{amount}\" intercept=\"{amount2}\"/><feFuncB type=\"linear\" slope=\"{amount}\" intercept=\"{amount2}\"/></feComponentTransfer>',\n",
       "{amount:d,amount2:0.5-d/2})};a.filter.contrast.toString=function(){return this()}});return C});\n",
       "\n",
       "]]> </script>\n",
       "<script> <![CDATA[\n",
       "\n",
       "(function (glob, factory) {\n",
       "    // AMD support\n",
       "    if (typeof define === \"function\" && define.amd) {\n",
       "        // Define as an anonymous module\n",
       "        define(\"Gadfly\", [\"Snap.svg\"], function (Snap) {\n",
       "            return factory(Snap);\n",
       "        });\n",
       "    } else {\n",
       "        // Browser globals (glob is window)\n",
       "        // Snap adds itself to window\n",
       "        glob.Gadfly = factory(glob.Snap);\n",
       "    }\n",
       "}(this, function (Snap) {\n",
       "\n",
       "var Gadfly = {};\n",
       "\n",
       "// Get an x/y coordinate value in pixels\n",
       "var xPX = function(fig, x) {\n",
       "    var client_box = fig.node.getBoundingClientRect();\n",
       "    return x * fig.node.viewBox.baseVal.width / client_box.width;\n",
       "};\n",
       "\n",
       "var yPX = function(fig, y) {\n",
       "    var client_box = fig.node.getBoundingClientRect();\n",
       "    return y * fig.node.viewBox.baseVal.height / client_box.height;\n",
       "};\n",
       "\n",
       "\n",
       "Snap.plugin(function (Snap, Element, Paper, global) {\n",
       "    // Traverse upwards from a snap element to find and return the first\n",
       "    // note with the \"plotroot\" class.\n",
       "    Element.prototype.plotroot = function () {\n",
       "        var element = this;\n",
       "        while (!element.hasClass(\"plotroot\") && element.parent() != null) {\n",
       "            element = element.parent();\n",
       "        }\n",
       "        return element;\n",
       "    };\n",
       "\n",
       "    Element.prototype.svgroot = function () {\n",
       "        var element = this;\n",
       "        while (element.node.nodeName != \"svg\" && element.parent() != null) {\n",
       "            element = element.parent();\n",
       "        }\n",
       "        return element;\n",
       "    };\n",
       "\n",
       "    Element.prototype.plotbounds = function () {\n",
       "        var root = this.plotroot()\n",
       "        var bbox = root.select(\".guide.background\").node.getBBox();\n",
       "        return {\n",
       "            x0: bbox.x,\n",
       "            x1: bbox.x + bbox.width,\n",
       "            y0: bbox.y,\n",
       "            y1: bbox.y + bbox.height\n",
       "        };\n",
       "    };\n",
       "\n",
       "    Element.prototype.plotcenter = function () {\n",
       "        var root = this.plotroot()\n",
       "        var bbox = root.select(\".guide.background\").node.getBBox();\n",
       "        return {\n",
       "            x: bbox.x + bbox.width / 2,\n",
       "            y: bbox.y + bbox.height / 2\n",
       "        };\n",
       "    };\n",
       "\n",
       "    // Emulate IE style mouseenter/mouseleave events, since Microsoft always\n",
       "    // does everything right.\n",
       "    // See: http://www.dynamic-tools.net/toolbox/isMouseLeaveOrEnter/\n",
       "    var events = [\"mouseenter\", \"mouseleave\"];\n",
       "\n",
       "    for (i in events) {\n",
       "        (function (event_name) {\n",
       "            var event_name = events[i];\n",
       "            Element.prototype[event_name] = function (fn, scope) {\n",
       "                if (Snap.is(fn, \"function\")) {\n",
       "                    var fn2 = function (event) {\n",
       "                        if (event.type != \"mouseover\" && event.type != \"mouseout\") {\n",
       "                            return;\n",
       "                        }\n",
       "\n",
       "                        var reltg = event.relatedTarget ? event.relatedTarget :\n",
       "                            event.type == \"mouseout\" ? event.toElement : event.fromElement;\n",
       "                        while (reltg && reltg != this.node) reltg = reltg.parentNode;\n",
       "\n",
       "                        if (reltg != this.node) {\n",
       "                            return fn.apply(this, event);\n",
       "                        }\n",
       "                    };\n",
       "\n",
       "                    if (event_name == \"mouseenter\") {\n",
       "                        this.mouseover(fn2, scope);\n",
       "                    } else {\n",
       "                        this.mouseout(fn2, scope);\n",
       "                    }\n",
       "                }\n",
       "                return this;\n",
       "            };\n",
       "        })(events[i]);\n",
       "    }\n",
       "\n",
       "\n",
       "    Element.prototype.mousewheel = function (fn, scope) {\n",
       "        if (Snap.is(fn, \"function\")) {\n",
       "            var el = this;\n",
       "            var fn2 = function (event) {\n",
       "                fn.apply(el, [event]);\n",
       "            };\n",
       "        }\n",
       "\n",
       "        this.node.addEventListener(\n",
       "            /Firefox/i.test(navigator.userAgent) ? \"DOMMouseScroll\" : \"mousewheel\",\n",
       "            fn2);\n",
       "\n",
       "        return this;\n",
       "    };\n",
       "\n",
       "\n",
       "    // Snap's attr function can be too slow for things like panning/zooming.\n",
       "    // This is a function to directly update element attributes without going\n",
       "    // through eve.\n",
       "    Element.prototype.attribute = function(key, val) {\n",
       "        if (val === undefined) {\n",
       "            return this.node.getAttribute(key);\n",
       "        } else {\n",
       "            this.node.setAttribute(key, val);\n",
       "            return this;\n",
       "        }\n",
       "    };\n",
       "\n",
       "    Element.prototype.init_gadfly = function() {\n",
       "        this.mouseenter(Gadfly.plot_mouseover)\n",
       "            .mouseleave(Gadfly.plot_mouseout)\n",
       "            .dblclick(Gadfly.plot_dblclick)\n",
       "            .mousewheel(Gadfly.guide_background_scroll)\n",
       "            .drag(Gadfly.guide_background_drag_onmove,\n",
       "                  Gadfly.guide_background_drag_onstart,\n",
       "                  Gadfly.guide_background_drag_onend);\n",
       "        this.mouseenter(function (event) {\n",
       "            init_pan_zoom(this.plotroot());\n",
       "        });\n",
       "        return this;\n",
       "    };\n",
       "});\n",
       "\n",
       "\n",
       "// When the plot is moused over, emphasize the grid lines.\n",
       "Gadfly.plot_mouseover = function(event) {\n",
       "    var root = this.plotroot();\n",
       "\n",
       "    var keyboard_zoom = function(event) {\n",
       "        if (event.which == 187) { // plus\n",
       "            increase_zoom_by_position(root, 0.1, true);\n",
       "        } else if (event.which == 189) { // minus\n",
       "            increase_zoom_by_position(root, -0.1, true);\n",
       "        }\n",
       "    };\n",
       "    root.data(\"keyboard_zoom\", keyboard_zoom);\n",
       "    window.addEventListener(\"keyup\", keyboard_zoom);\n",
       "\n",
       "    var xgridlines = root.select(\".xgridlines\"),\n",
       "        ygridlines = root.select(\".ygridlines\");\n",
       "\n",
       "    xgridlines.data(\"unfocused_strokedash\",\n",
       "                    xgridlines.attribute(\"stroke-dasharray\").replace(/(\\d)(,|$)/g, \"$1mm$2\"));\n",
       "    ygridlines.data(\"unfocused_strokedash\",\n",
       "                    ygridlines.attribute(\"stroke-dasharray\").replace(/(\\d)(,|$)/g, \"$1mm$2\"));\n",
       "\n",
       "    // emphasize grid lines\n",
       "    var destcolor = root.data(\"focused_xgrid_color\");\n",
       "    xgridlines.attribute(\"stroke-dasharray\", \"none\")\n",
       "              .selectAll(\"path\")\n",
       "              .animate({stroke: destcolor}, 250);\n",
       "\n",
       "    destcolor = root.data(\"focused_ygrid_color\");\n",
       "    ygridlines.attribute(\"stroke-dasharray\", \"none\")\n",
       "              .selectAll(\"path\")\n",
       "              .animate({stroke: destcolor}, 250);\n",
       "\n",
       "    // reveal zoom slider\n",
       "    root.select(\".zoomslider\")\n",
       "        .animate({opacity: 1.0}, 250);\n",
       "};\n",
       "\n",
       "// Reset pan and zoom on double click\n",
       "Gadfly.plot_dblclick = function(event) {\n",
       "  set_plot_pan_zoom(this.plotroot(), 0.0, 0.0, 1.0);\n",
       "};\n",
       "\n",
       "// Unemphasize grid lines on mouse out.\n",
       "Gadfly.plot_mouseout = function(event) {\n",
       "    var root = this.plotroot();\n",
       "\n",
       "    window.removeEventListener(\"keyup\", root.data(\"keyboard_zoom\"));\n",
       "    root.data(\"keyboard_zoom\", undefined);\n",
       "\n",
       "    var xgridlines = root.select(\".xgridlines\"),\n",
       "        ygridlines = root.select(\".ygridlines\");\n",
       "\n",
       "    var destcolor = root.data(\"unfocused_xgrid_color\");\n",
       "\n",
       "    xgridlines.attribute(\"stroke-dasharray\", xgridlines.data(\"unfocused_strokedash\"))\n",
       "              .selectAll(\"path\")\n",
       "              .animate({stroke: destcolor}, 250);\n",
       "\n",
       "    destcolor = root.data(\"unfocused_ygrid_color\");\n",
       "    ygridlines.attribute(\"stroke-dasharray\", ygridlines.data(\"unfocused_strokedash\"))\n",
       "              .selectAll(\"path\")\n",
       "              .animate({stroke: destcolor}, 250);\n",
       "\n",
       "    // hide zoom slider\n",
       "    root.select(\".zoomslider\")\n",
       "        .animate({opacity: 0.0}, 250);\n",
       "};\n",
       "\n",
       "\n",
       "var set_geometry_transform = function(root, tx, ty, scale) {\n",
       "    var xscalable = root.hasClass(\"xscalable\"),\n",
       "        yscalable = root.hasClass(\"yscalable\");\n",
       "\n",
       "    var old_scale = root.data(\"scale\");\n",
       "\n",
       "    var xscale = xscalable ? scale : 1.0,\n",
       "        yscale = yscalable ? scale : 1.0;\n",
       "\n",
       "    tx = xscalable ? tx : 0.0;\n",
       "    ty = yscalable ? ty : 0.0;\n",
       "\n",
       "    var t = new Snap.Matrix().translate(tx, ty).scale(xscale, yscale);\n",
       "\n",
       "    root.selectAll(\".geometry, image\")\n",
       "        .forEach(function (element, i) {\n",
       "            element.transform(t);\n",
       "        });\n",
       "\n",
       "    bounds = root.plotbounds();\n",
       "\n",
       "    if (yscalable) {\n",
       "        var xfixed_t = new Snap.Matrix().translate(0, ty).scale(1.0, yscale);\n",
       "        root.selectAll(\".xfixed\")\n",
       "            .forEach(function (element, i) {\n",
       "                element.transform(xfixed_t);\n",
       "            });\n",
       "\n",
       "        root.select(\".ylabels\")\n",
       "            .transform(xfixed_t)\n",
       "            .selectAll(\"text\")\n",
       "            .forEach(function (element, i) {\n",
       "                if (element.attribute(\"gadfly:inscale\") == \"true\") {\n",
       "                    var cx = element.asPX(\"x\"),\n",
       "                        cy = element.asPX(\"y\");\n",
       "                    var st = element.data(\"static_transform\");\n",
       "                    unscale_t = new Snap.Matrix();\n",
       "                    unscale_t.scale(1, 1/scale, cx, cy).add(st);\n",
       "                    element.transform(unscale_t);\n",
       "\n",
       "                    var y = cy * scale + ty;\n",
       "                    element.attr(\"visibility\",\n",
       "                        bounds.y0 <= y && y <= bounds.y1 ? \"visible\" : \"hidden\");\n",
       "                }\n",
       "            });\n",
       "    }\n",
       "\n",
       "    if (xscalable) {\n",
       "        var yfixed_t = new Snap.Matrix().translate(tx, 0).scale(xscale, 1.0);\n",
       "        var xtrans = new Snap.Matrix().translate(tx, 0);\n",
       "        root.selectAll(\".yfixed\")\n",
       "            .forEach(function (element, i) {\n",
       "                element.transform(yfixed_t);\n",
       "            });\n",
       "\n",
       "        root.select(\".xlabels\")\n",
       "            .transform(yfixed_t)\n",
       "            .selectAll(\"text\")\n",
       "            .forEach(function (element, i) {\n",
       "                if (element.attribute(\"gadfly:inscale\") == \"true\") {\n",
       "                    var cx = element.asPX(\"x\"),\n",
       "                        cy = element.asPX(\"y\");\n",
       "                    var st = element.data(\"static_transform\");\n",
       "                    unscale_t = new Snap.Matrix();\n",
       "                    unscale_t.scale(1/scale, 1, cx, cy).add(st);\n",
       "\n",
       "                    element.transform(unscale_t);\n",
       "\n",
       "                    var x = cx * scale + tx;\n",
       "                    element.attr(\"visibility\",\n",
       "                        bounds.x0 <= x && x <= bounds.x1 ? \"visible\" : \"hidden\");\n",
       "                    }\n",
       "            });\n",
       "    }\n",
       "\n",
       "    // we must unscale anything that is scale invariance: widths, raiduses, etc.\n",
       "    var size_attribs = [\"font-size\"];\n",
       "    var unscaled_selection = \".geometry, .geometry *\";\n",
       "    if (xscalable) {\n",
       "        size_attribs.push(\"rx\");\n",
       "        unscaled_selection += \", .xgridlines\";\n",
       "    }\n",
       "    if (yscalable) {\n",
       "        size_attribs.push(\"ry\");\n",
       "        unscaled_selection += \", .ygridlines\";\n",
       "    }\n",
       "\n",
       "    root.selectAll(unscaled_selection)\n",
       "        .forEach(function (element, i) {\n",
       "            // circle need special help\n",
       "            if (element.node.nodeName == \"circle\") {\n",
       "                var cx = element.attribute(\"cx\"),\n",
       "                    cy = element.attribute(\"cy\");\n",
       "                unscale_t = new Snap.Matrix().scale(1/xscale, 1/yscale,\n",
       "                                                        cx, cy);\n",
       "                element.transform(unscale_t);\n",
       "                return;\n",
       "            }\n",
       "\n",
       "            for (i in size_attribs) {\n",
       "                var key = size_attribs[i];\n",
       "                var val = parseFloat(element.attribute(key));\n",
       "                if (val !== undefined && val != 0 && !isNaN(val)) {\n",
       "                    element.attribute(key, val * old_scale / scale);\n",
       "                }\n",
       "            }\n",
       "        });\n",
       "};\n",
       "\n",
       "\n",
       "// Find the most appropriate tick scale and update label visibility.\n",
       "var update_tickscale = function(root, scale, axis) {\n",
       "    if (!root.hasClass(axis + \"scalable\")) return;\n",
       "\n",
       "    var tickscales = root.data(axis + \"tickscales\");\n",
       "    var best_tickscale = 1.0;\n",
       "    var best_tickscale_dist = Infinity;\n",
       "    for (tickscale in tickscales) {\n",
       "        var dist = Math.abs(Math.log(tickscale) - Math.log(scale));\n",
       "        if (dist < best_tickscale_dist) {\n",
       "            best_tickscale_dist = dist;\n",
       "            best_tickscale = tickscale;\n",
       "        }\n",
       "    }\n",
       "\n",
       "    if (best_tickscale != root.data(axis + \"tickscale\")) {\n",
       "        root.data(axis + \"tickscale\", best_tickscale);\n",
       "        var mark_inscale_gridlines = function (element, i) {\n",
       "            var inscale = element.attr(\"gadfly:scale\") == best_tickscale;\n",
       "            element.attribute(\"gadfly:inscale\", inscale);\n",
       "            element.attr(\"visibility\", inscale ? \"visible\" : \"hidden\");\n",
       "        };\n",
       "\n",
       "        var mark_inscale_labels = function (element, i) {\n",
       "            var inscale = element.attr(\"gadfly:scale\") == best_tickscale;\n",
       "            element.attribute(\"gadfly:inscale\", inscale);\n",
       "            element.attr(\"visibility\", inscale ? \"visible\" : \"hidden\");\n",
       "        };\n",
       "\n",
       "        root.select(\".\" + axis + \"gridlines\").selectAll(\"path\").forEach(mark_inscale_gridlines);\n",
       "        root.select(\".\" + axis + \"labels\").selectAll(\"text\").forEach(mark_inscale_labels);\n",
       "    }\n",
       "};\n",
       "\n",
       "\n",
       "var set_plot_pan_zoom = function(root, tx, ty, scale) {\n",
       "    var old_scale = root.data(\"scale\");\n",
       "    var bounds = root.plotbounds();\n",
       "\n",
       "    var width = bounds.x1 - bounds.x0,\n",
       "        height = bounds.y1 - bounds.y0;\n",
       "\n",
       "    // compute the viewport derived from tx, ty, and scale\n",
       "    var x_min = -width * scale - (scale * width - width),\n",
       "        x_max = width * scale,\n",
       "        y_min = -height * scale - (scale * height - height),\n",
       "        y_max = height * scale;\n",
       "\n",
       "    var x0 = bounds.x0 - scale * bounds.x0,\n",
       "        y0 = bounds.y0 - scale * bounds.y0;\n",
       "\n",
       "    var tx = Math.max(Math.min(tx - x0, x_max), x_min),\n",
       "        ty = Math.max(Math.min(ty - y0, y_max), y_min);\n",
       "\n",
       "    tx += x0;\n",
       "    ty += y0;\n",
       "\n",
       "    // when the scale change, we may need to alter which set of\n",
       "    // ticks is being displayed\n",
       "    if (scale != old_scale) {\n",
       "        update_tickscale(root, scale, \"x\");\n",
       "        update_tickscale(root, scale, \"y\");\n",
       "    }\n",
       "\n",
       "    set_geometry_transform(root, tx, ty, scale);\n",
       "\n",
       "    root.data(\"scale\", scale);\n",
       "    root.data(\"tx\", tx);\n",
       "    root.data(\"ty\", ty);\n",
       "};\n",
       "\n",
       "\n",
       "var scale_centered_translation = function(root, scale) {\n",
       "    var bounds = root.plotbounds();\n",
       "\n",
       "    var width = bounds.x1 - bounds.x0,\n",
       "        height = bounds.y1 - bounds.y0;\n",
       "\n",
       "    var tx0 = root.data(\"tx\"),\n",
       "        ty0 = root.data(\"ty\");\n",
       "\n",
       "    var scale0 = root.data(\"scale\");\n",
       "\n",
       "    // how off from center the current view is\n",
       "    var xoff = tx0 - (bounds.x0 * (1 - scale0) + (width * (1 - scale0)) / 2),\n",
       "        yoff = ty0 - (bounds.y0 * (1 - scale0) + (height * (1 - scale0)) / 2);\n",
       "\n",
       "    // rescale offsets\n",
       "    xoff = xoff * scale / scale0;\n",
       "    yoff = yoff * scale / scale0;\n",
       "\n",
       "    // adjust for the panel position being scaled\n",
       "    var x_edge_adjust = bounds.x0 * (1 - scale),\n",
       "        y_edge_adjust = bounds.y0 * (1 - scale);\n",
       "\n",
       "    return {\n",
       "        x: xoff + x_edge_adjust + (width - width * scale) / 2,\n",
       "        y: yoff + y_edge_adjust + (height - height * scale) / 2\n",
       "    };\n",
       "};\n",
       "\n",
       "\n",
       "// Initialize data for panning zooming if it isn't already.\n",
       "var init_pan_zoom = function(root) {\n",
       "    if (root.data(\"zoompan-ready\")) {\n",
       "        return;\n",
       "    }\n",
       "\n",
       "    // The non-scaling-stroke trick. Rather than try to correct for the\n",
       "    // stroke-width when zooming, we force it to a fixed value.\n",
       "    var px_per_mm = root.node.getCTM().a;\n",
       "\n",
       "    // Drag events report deltas in pixels, which we'd like to convert to\n",
       "    // millimeters.\n",
       "    root.data(\"px_per_mm\", px_per_mm);\n",
       "\n",
       "    root.selectAll(\"path\")\n",
       "        .forEach(function (element, i) {\n",
       "        sw = element.asPX(\"stroke-width\") * px_per_mm;\n",
       "        if (sw > 0) {\n",
       "            element.attribute(\"stroke-width\", sw);\n",
       "            element.attribute(\"vector-effect\", \"non-scaling-stroke\");\n",
       "        }\n",
       "    });\n",
       "\n",
       "    // Store ticks labels original tranformation\n",
       "    root.selectAll(\".xlabels > text, .ylabels > text\")\n",
       "        .forEach(function (element, i) {\n",
       "            var lm = element.transform().localMatrix;\n",
       "            element.data(\"static_transform\",\n",
       "                new Snap.Matrix(lm.a, lm.b, lm.c, lm.d, lm.e, lm.f));\n",
       "        });\n",
       "\n",
       "    var xgridlines = root.select(\".xgridlines\");\n",
       "    var ygridlines = root.select(\".ygridlines\");\n",
       "    var xlabels = root.select(\".xlabels\");\n",
       "    var ylabels = root.select(\".ylabels\");\n",
       "\n",
       "    if (root.data(\"tx\") === undefined) root.data(\"tx\", 0);\n",
       "    if (root.data(\"ty\") === undefined) root.data(\"ty\", 0);\n",
       "    if (root.data(\"scale\") === undefined) root.data(\"scale\", 1.0);\n",
       "    if (root.data(\"xtickscales\") === undefined) {\n",
       "\n",
       "        // index all the tick scales that are listed\n",
       "        var xtickscales = {};\n",
       "        var ytickscales = {};\n",
       "        var add_x_tick_scales = function (element, i) {\n",
       "            xtickscales[element.attribute(\"gadfly:scale\")] = true;\n",
       "        };\n",
       "        var add_y_tick_scales = function (element, i) {\n",
       "            ytickscales[element.attribute(\"gadfly:scale\")] = true;\n",
       "        };\n",
       "\n",
       "        if (xgridlines) xgridlines.selectAll(\"path\").forEach(add_x_tick_scales);\n",
       "        if (ygridlines) ygridlines.selectAll(\"path\").forEach(add_y_tick_scales);\n",
       "        if (xlabels) xlabels.selectAll(\"text\").forEach(add_x_tick_scales);\n",
       "        if (ylabels) ylabels.selectAll(\"text\").forEach(add_y_tick_scales);\n",
       "\n",
       "        root.data(\"xtickscales\", xtickscales);\n",
       "        root.data(\"ytickscales\", ytickscales);\n",
       "        root.data(\"xtickscale\", 1.0);\n",
       "    }\n",
       "\n",
       "    var min_scale = 1.0, max_scale = 1.0;\n",
       "    for (scale in xtickscales) {\n",
       "        min_scale = Math.min(min_scale, scale);\n",
       "        max_scale = Math.max(max_scale, scale);\n",
       "    }\n",
       "    for (scale in ytickscales) {\n",
       "        min_scale = Math.min(min_scale, scale);\n",
       "        max_scale = Math.max(max_scale, scale);\n",
       "    }\n",
       "    root.data(\"min_scale\", min_scale);\n",
       "    root.data(\"max_scale\", max_scale);\n",
       "\n",
       "    // store the original positions of labels\n",
       "    if (xlabels) {\n",
       "        xlabels.selectAll(\"text\")\n",
       "               .forEach(function (element, i) {\n",
       "                   element.data(\"x\", element.asPX(\"x\"));\n",
       "               });\n",
       "    }\n",
       "\n",
       "    if (ylabels) {\n",
       "        ylabels.selectAll(\"text\")\n",
       "               .forEach(function (element, i) {\n",
       "                   element.data(\"y\", element.asPX(\"y\"));\n",
       "               });\n",
       "    }\n",
       "\n",
       "    // mark grid lines and ticks as in or out of scale.\n",
       "    var mark_inscale = function (element, i) {\n",
       "        element.attribute(\"gadfly:inscale\", element.attribute(\"gadfly:scale\") == 1.0);\n",
       "    };\n",
       "\n",
       "    if (xgridlines) xgridlines.selectAll(\"path\").forEach(mark_inscale);\n",
       "    if (ygridlines) ygridlines.selectAll(\"path\").forEach(mark_inscale);\n",
       "    if (xlabels) xlabels.selectAll(\"text\").forEach(mark_inscale);\n",
       "    if (ylabels) ylabels.selectAll(\"text\").forEach(mark_inscale);\n",
       "\n",
       "    // figure out the upper ond lower bounds on panning using the maximum\n",
       "    // and minum grid lines\n",
       "    var bounds = root.plotbounds();\n",
       "    var pan_bounds = {\n",
       "        x0: 0.0,\n",
       "        y0: 0.0,\n",
       "        x1: 0.0,\n",
       "        y1: 0.0\n",
       "    };\n",
       "\n",
       "    if (xgridlines) {\n",
       "        xgridlines\n",
       "            .selectAll(\"path\")\n",
       "            .forEach(function (element, i) {\n",
       "                if (element.attribute(\"gadfly:inscale\") == \"true\") {\n",
       "                    var bbox = element.node.getBBox();\n",
       "                    if (bounds.x1 - bbox.x < pan_bounds.x0) {\n",
       "                        pan_bounds.x0 = bounds.x1 - bbox.x;\n",
       "                    }\n",
       "                    if (bounds.x0 - bbox.x > pan_bounds.x1) {\n",
       "                        pan_bounds.x1 = bounds.x0 - bbox.x;\n",
       "                    }\n",
       "                    element.attr(\"visibility\", \"visible\");\n",
       "                }\n",
       "            });\n",
       "    }\n",
       "\n",
       "    if (ygridlines) {\n",
       "        ygridlines\n",
       "            .selectAll(\"path\")\n",
       "            .forEach(function (element, i) {\n",
       "                if (element.attribute(\"gadfly:inscale\") == \"true\") {\n",
       "                    var bbox = element.node.getBBox();\n",
       "                    if (bounds.y1 - bbox.y < pan_bounds.y0) {\n",
       "                        pan_bounds.y0 = bounds.y1 - bbox.y;\n",
       "                    }\n",
       "                    if (bounds.y0 - bbox.y > pan_bounds.y1) {\n",
       "                        pan_bounds.y1 = bounds.y0 - bbox.y;\n",
       "                    }\n",
       "                    element.attr(\"visibility\", \"visible\");\n",
       "                }\n",
       "            });\n",
       "    }\n",
       "\n",
       "    // nudge these values a little\n",
       "    pan_bounds.x0 -= 5;\n",
       "    pan_bounds.x1 += 5;\n",
       "    pan_bounds.y0 -= 5;\n",
       "    pan_bounds.y1 += 5;\n",
       "    root.data(\"pan_bounds\", pan_bounds);\n",
       "\n",
       "    root.data(\"zoompan-ready\", true)\n",
       "};\n",
       "\n",
       "\n",
       "// drag actions, i.e. zooming and panning\n",
       "var pan_action = {\n",
       "    start: function(root, x, y, event) {\n",
       "        root.data(\"dx\", 0);\n",
       "        root.data(\"dy\", 0);\n",
       "        root.data(\"tx0\", root.data(\"tx\"));\n",
       "        root.data(\"ty0\", root.data(\"ty\"));\n",
       "    },\n",
       "    update: function(root, dx, dy, x, y, event) {\n",
       "        var px_per_mm = root.data(\"px_per_mm\");\n",
       "        dx /= px_per_mm;\n",
       "        dy /= px_per_mm;\n",
       "\n",
       "        var tx0 = root.data(\"tx\"),\n",
       "            ty0 = root.data(\"ty\");\n",
       "\n",
       "        var dx0 = root.data(\"dx\"),\n",
       "            dy0 = root.data(\"dy\");\n",
       "\n",
       "        root.data(\"dx\", dx);\n",
       "        root.data(\"dy\", dy);\n",
       "\n",
       "        dx = dx - dx0;\n",
       "        dy = dy - dy0;\n",
       "\n",
       "        var tx = tx0 + dx,\n",
       "            ty = ty0 + dy;\n",
       "\n",
       "        set_plot_pan_zoom(root, tx, ty, root.data(\"scale\"));\n",
       "    },\n",
       "    end: function(root, event) {\n",
       "\n",
       "    },\n",
       "    cancel: function(root) {\n",
       "        set_plot_pan_zoom(root, root.data(\"tx0\"), root.data(\"ty0\"), root.data(\"scale\"));\n",
       "    }\n",
       "};\n",
       "\n",
       "var zoom_box;\n",
       "var zoom_action = {\n",
       "    start: function(root, x, y, event) {\n",
       "        var bounds = root.plotbounds();\n",
       "        var width = bounds.x1 - bounds.x0,\n",
       "            height = bounds.y1 - bounds.y0;\n",
       "        var ratio = width / height;\n",
       "        var xscalable = root.hasClass(\"xscalable\"),\n",
       "            yscalable = root.hasClass(\"yscalable\");\n",
       "        var px_per_mm = root.data(\"px_per_mm\");\n",
       "        x = xscalable ? x / px_per_mm : bounds.x0;\n",
       "        y = yscalable ? y / px_per_mm : bounds.y0;\n",
       "        var w = xscalable ? 0 : width;\n",
       "        var h = yscalable ? 0 : height;\n",
       "        zoom_box = root.rect(x, y, w, h).attr({\n",
       "            \"fill\": \"#000\",\n",
       "            \"opacity\": 0.25\n",
       "        });\n",
       "        zoom_box.data(\"ratio\", ratio);\n",
       "    },\n",
       "    update: function(root, dx, dy, x, y, event) {\n",
       "        var xscalable = root.hasClass(\"xscalable\"),\n",
       "            yscalable = root.hasClass(\"yscalable\");\n",
       "        var px_per_mm = root.data(\"px_per_mm\");\n",
       "        var bounds = root.plotbounds();\n",
       "        if (yscalable) {\n",
       "            y /= px_per_mm;\n",
       "            y = Math.max(bounds.y0, y);\n",
       "            y = Math.min(bounds.y1, y);\n",
       "        } else {\n",
       "            y = bounds.y1;\n",
       "        }\n",
       "        if (xscalable) {\n",
       "            x /= px_per_mm;\n",
       "            x = Math.max(bounds.x0, x);\n",
       "            x = Math.min(bounds.x1, x);\n",
       "        } else {\n",
       "            x = bounds.x1;\n",
       "        }\n",
       "\n",
       "        dx = x - zoom_box.attr(\"x\");\n",
       "        dy = y - zoom_box.attr(\"y\");\n",
       "        if (xscalable && yscalable) {\n",
       "            var ratio = zoom_box.data(\"ratio\");\n",
       "            var width = Math.min(Math.abs(dx), ratio * Math.abs(dy));\n",
       "            var height = Math.min(Math.abs(dy), Math.abs(dx) / ratio);\n",
       "            dx = width * dx / Math.abs(dx);\n",
       "            dy = height * dy / Math.abs(dy);\n",
       "        }\n",
       "        var xoffset = 0,\n",
       "            yoffset = 0;\n",
       "        if (dx < 0) {\n",
       "            xoffset = dx;\n",
       "            dx = -1 * dx;\n",
       "        }\n",
       "        if (dy < 0) {\n",
       "            yoffset = dy;\n",
       "            dy = -1 * dy;\n",
       "        }\n",
       "        if (isNaN(dy)) {\n",
       "            dy = 0.0;\n",
       "        }\n",
       "        if (isNaN(dx)) {\n",
       "            dx = 0.0;\n",
       "        }\n",
       "        zoom_box.transform(\"T\" + xoffset + \",\" + yoffset);\n",
       "        zoom_box.attr(\"width\", dx);\n",
       "        zoom_box.attr(\"height\", dy);\n",
       "    },\n",
       "    end: function(root, event) {\n",
       "        var xscalable = root.hasClass(\"xscalable\"),\n",
       "            yscalable = root.hasClass(\"yscalable\");\n",
       "        var zoom_bounds = zoom_box.getBBox();\n",
       "        if (zoom_bounds.width * zoom_bounds.height <= 0) {\n",
       "            return;\n",
       "        }\n",
       "        var plot_bounds = root.plotbounds();\n",
       "        var zoom_factor = 1.0;\n",
       "        if (yscalable) {\n",
       "            zoom_factor = (plot_bounds.y1 - plot_bounds.y0) / zoom_bounds.height;\n",
       "        } else {\n",
       "            zoom_factor = (plot_bounds.x1 - plot_bounds.x0) / zoom_bounds.width;\n",
       "        }\n",
       "        var tx = (root.data(\"tx\") - zoom_bounds.x) * zoom_factor + plot_bounds.x0,\n",
       "            ty = (root.data(\"ty\") - zoom_bounds.y) * zoom_factor + plot_bounds.y0;\n",
       "        set_plot_pan_zoom(root, tx, ty, root.data(\"scale\") * zoom_factor);\n",
       "        zoom_box.remove();\n",
       "    },\n",
       "    cancel: function(root) {\n",
       "        zoom_box.remove();\n",
       "    }\n",
       "};\n",
       "\n",
       "\n",
       "Gadfly.guide_background_drag_onstart = function(x, y, event) {\n",
       "    var root = this.plotroot();\n",
       "    var scalable = root.hasClass(\"xscalable\") || root.hasClass(\"yscalable\");\n",
       "    var zoomable = !event.altKey && !event.ctrlKey && event.shiftKey && scalable;\n",
       "    var panable = !event.altKey && !event.ctrlKey && !event.shiftKey && scalable;\n",
       "    var drag_action = zoomable ? zoom_action :\n",
       "                      panable  ? pan_action :\n",
       "                                 undefined;\n",
       "    root.data(\"drag_action\", drag_action);\n",
       "    if (drag_action) {\n",
       "        var cancel_drag_action = function(event) {\n",
       "            if (event.which == 27) { // esc key\n",
       "                drag_action.cancel(root);\n",
       "                root.data(\"drag_action\", undefined);\n",
       "            }\n",
       "        };\n",
       "        window.addEventListener(\"keyup\", cancel_drag_action);\n",
       "        root.data(\"cancel_drag_action\", cancel_drag_action);\n",
       "        drag_action.start(root, x, y, event);\n",
       "    }\n",
       "};\n",
       "\n",
       "\n",
       "Gadfly.guide_background_drag_onmove = function(dx, dy, x, y, event) {\n",
       "    var root = this.plotroot();\n",
       "    var drag_action = root.data(\"drag_action\");\n",
       "    if (drag_action) {\n",
       "        drag_action.update(root, dx, dy, x, y, event);\n",
       "    }\n",
       "};\n",
       "\n",
       "\n",
       "Gadfly.guide_background_drag_onend = function(event) {\n",
       "    var root = this.plotroot();\n",
       "    window.removeEventListener(\"keyup\", root.data(\"cancel_drag_action\"));\n",
       "    root.data(\"cancel_drag_action\", undefined);\n",
       "    var drag_action = root.data(\"drag_action\");\n",
       "    if (drag_action) {\n",
       "        drag_action.end(root, event);\n",
       "    }\n",
       "    root.data(\"drag_action\", undefined);\n",
       "};\n",
       "\n",
       "\n",
       "Gadfly.guide_background_scroll = function(event) {\n",
       "    if (event.shiftKey) {\n",
       "        increase_zoom_by_position(this.plotroot(), 0.001 * event.wheelDelta);\n",
       "        event.preventDefault();\n",
       "    }\n",
       "};\n",
       "\n",
       "\n",
       "Gadfly.zoomslider_button_mouseover = function(event) {\n",
       "    this.select(\".button_logo\")\n",
       "         .animate({fill: this.data(\"mouseover_color\")}, 100);\n",
       "};\n",
       "\n",
       "\n",
       "Gadfly.zoomslider_button_mouseout = function(event) {\n",
       "     this.select(\".button_logo\")\n",
       "         .animate({fill: this.data(\"mouseout_color\")}, 100);\n",
       "};\n",
       "\n",
       "\n",
       "Gadfly.zoomslider_zoomout_click = function(event) {\n",
       "    increase_zoom_by_position(this.plotroot(), -0.1, true);\n",
       "};\n",
       "\n",
       "\n",
       "Gadfly.zoomslider_zoomin_click = function(event) {\n",
       "    increase_zoom_by_position(this.plotroot(), 0.1, true);\n",
       "};\n",
       "\n",
       "\n",
       "Gadfly.zoomslider_track_click = function(event) {\n",
       "    // TODO\n",
       "};\n",
       "\n",
       "\n",
       "// Map slider position x to scale y using the function y = a*exp(b*x)+c.\n",
       "// The constants a, b, and c are solved using the constraint that the function\n",
       "// should go through the points (0; min_scale), (0.5; 1), and (1; max_scale).\n",
       "var scale_from_slider_position = function(position, min_scale, max_scale) {\n",
       "    var a = (1 - 2 * min_scale + min_scale * min_scale) / (min_scale + max_scale - 2),\n",
       "        b = 2 * Math.log((max_scale - 1) / (1 - min_scale)),\n",
       "        c = (min_scale * max_scale - 1) / (min_scale + max_scale - 2);\n",
       "    return a * Math.exp(b * position) + c;\n",
       "}\n",
       "\n",
       "// inverse of scale_from_slider_position\n",
       "var slider_position_from_scale = function(scale, min_scale, max_scale) {\n",
       "    var a = (1 - 2 * min_scale + min_scale * min_scale) / (min_scale + max_scale - 2),\n",
       "        b = 2 * Math.log((max_scale - 1) / (1 - min_scale)),\n",
       "        c = (min_scale * max_scale - 1) / (min_scale + max_scale - 2);\n",
       "    return 1 / b * Math.log((scale - c) / a);\n",
       "}\n",
       "\n",
       "var increase_zoom_by_position = function(root, delta_position, animate) {\n",
       "    var scale = root.data(\"scale\"),\n",
       "        min_scale = root.data(\"min_scale\"),\n",
       "        max_scale = root.data(\"max_scale\");\n",
       "    var position = slider_position_from_scale(scale, min_scale, max_scale);\n",
       "    position += delta_position;\n",
       "    scale = scale_from_slider_position(position, min_scale, max_scale);\n",
       "    set_zoom(root, scale, animate);\n",
       "}\n",
       "\n",
       "var set_zoom = function(root, scale, animate) {\n",
       "    var min_scale = root.data(\"min_scale\"),\n",
       "        max_scale = root.data(\"max_scale\"),\n",
       "        old_scale = root.data(\"scale\");\n",
       "    var new_scale = Math.max(min_scale, Math.min(scale, max_scale));\n",
       "    if (animate) {\n",
       "        Snap.animate(\n",
       "            old_scale,\n",
       "            new_scale,\n",
       "            function (new_scale) {\n",
       "                update_plot_scale(root, new_scale);\n",
       "            },\n",
       "            200);\n",
       "    } else {\n",
       "        update_plot_scale(root, new_scale);\n",
       "    }\n",
       "}\n",
       "\n",
       "\n",
       "var update_plot_scale = function(root, new_scale) {\n",
       "    var trans = scale_centered_translation(root, new_scale);\n",
       "    set_plot_pan_zoom(root, trans.x, trans.y, new_scale);\n",
       "\n",
       "    root.selectAll(\".zoomslider_thumb\")\n",
       "        .forEach(function (element, i) {\n",
       "            var min_pos = element.data(\"min_pos\"),\n",
       "                max_pos = element.data(\"max_pos\"),\n",
       "                min_scale = root.data(\"min_scale\"),\n",
       "                max_scale = root.data(\"max_scale\");\n",
       "            var xmid = (min_pos + max_pos) / 2;\n",
       "            var xpos = slider_position_from_scale(new_scale, min_scale, max_scale);\n",
       "            element.transform(new Snap.Matrix().translate(\n",
       "                Math.max(min_pos, Math.min(\n",
       "                         max_pos, min_pos + (max_pos - min_pos) * xpos)) - xmid, 0));\n",
       "    });\n",
       "};\n",
       "\n",
       "\n",
       "Gadfly.zoomslider_thumb_dragmove = function(dx, dy, x, y, event) {\n",
       "    var root = this.plotroot();\n",
       "    var min_pos = this.data(\"min_pos\"),\n",
       "        max_pos = this.data(\"max_pos\"),\n",
       "        min_scale = root.data(\"min_scale\"),\n",
       "        max_scale = root.data(\"max_scale\"),\n",
       "        old_scale = root.data(\"old_scale\");\n",
       "\n",
       "    var px_per_mm = root.data(\"px_per_mm\");\n",
       "    dx /= px_per_mm;\n",
       "    dy /= px_per_mm;\n",
       "\n",
       "    var xmid = (min_pos + max_pos) / 2;\n",
       "    var xpos = slider_position_from_scale(old_scale, min_scale, max_scale) +\n",
       "                   dx / (max_pos - min_pos);\n",
       "\n",
       "    // compute the new scale\n",
       "    var new_scale = scale_from_slider_position(xpos, min_scale, max_scale);\n",
       "    new_scale = Math.min(max_scale, Math.max(min_scale, new_scale));\n",
       "\n",
       "    update_plot_scale(root, new_scale);\n",
       "    event.stopPropagation();\n",
       "};\n",
       "\n",
       "\n",
       "Gadfly.zoomslider_thumb_dragstart = function(x, y, event) {\n",
       "    this.animate({fill: this.data(\"mouseover_color\")}, 100);\n",
       "    var root = this.plotroot();\n",
       "\n",
       "    // keep track of what the scale was when we started dragging\n",
       "    root.data(\"old_scale\", root.data(\"scale\"));\n",
       "    event.stopPropagation();\n",
       "};\n",
       "\n",
       "\n",
       "Gadfly.zoomslider_thumb_dragend = function(event) {\n",
       "    this.animate({fill: this.data(\"mouseout_color\")}, 100);\n",
       "    event.stopPropagation();\n",
       "};\n",
       "\n",
       "\n",
       "var toggle_color_class = function(root, color_class, ison) {\n",
       "    var guides = root.selectAll(\".guide.\" + color_class + \",.guide .\" + color_class);\n",
       "    var geoms = root.selectAll(\".geometry.\" + color_class + \",.geometry .\" + color_class);\n",
       "    if (ison) {\n",
       "        guides.animate({opacity: 0.5}, 250);\n",
       "        geoms.animate({opacity: 0.0}, 250);\n",
       "    } else {\n",
       "        guides.animate({opacity: 1.0}, 250);\n",
       "        geoms.animate({opacity: 1.0}, 250);\n",
       "    }\n",
       "};\n",
       "\n",
       "\n",
       "Gadfly.colorkey_swatch_click = function(event) {\n",
       "    var root = this.plotroot();\n",
       "    var color_class = this.data(\"color_class\");\n",
       "\n",
       "    if (event.shiftKey) {\n",
       "        root.selectAll(\".colorkey text\")\n",
       "            .forEach(function (element) {\n",
       "                var other_color_class = element.data(\"color_class\");\n",
       "                if (other_color_class != color_class) {\n",
       "                    toggle_color_class(root, other_color_class,\n",
       "                                       element.attr(\"opacity\") == 1.0);\n",
       "                }\n",
       "            });\n",
       "    } else {\n",
       "        toggle_color_class(root, color_class, this.attr(\"opacity\") == 1.0);\n",
       "    }\n",
       "};\n",
       "\n",
       "\n",
       "return Gadfly;\n",
       "\n",
       "}));\n",
       "\n",
       "\n",
       "//@ sourceURL=gadfly.js\n",
       "\n",
       "(function (glob, factory) {\n",
       "    // AMD support\n",
       "      if (typeof require === \"function\" && typeof define === \"function\" && define.amd) {\n",
       "        require([\"Snap.svg\", \"Gadfly\"], function (Snap, Gadfly) {\n",
       "            factory(Snap, Gadfly);\n",
       "        });\n",
       "      } else {\n",
       "          factory(glob.Snap, glob.Gadfly);\n",
       "      }\n",
       "})(window, function (Snap, Gadfly) {\n",
       "    var fig = Snap(\"#img-aa3426ca\");\n",
       "fig.select(\"#img-aa3426ca-5\")\n",
       "   .init_gadfly();\n",
       "fig.select(\"#img-aa3426ca-7\")\n",
       "   .plotroot().data(\"unfocused_ygrid_color\", \"#D0D0E0\")\n",
       ";\n",
       "fig.select(\"#img-aa3426ca-7\")\n",
       "   .plotroot().data(\"focused_ygrid_color\", \"#A0A0A0\")\n",
       ";\n",
       "fig.select(\"#img-aa3426ca-8\")\n",
       "   .plotroot().data(\"unfocused_xgrid_color\", \"#D0D0E0\")\n",
       ";\n",
       "fig.select(\"#img-aa3426ca-8\")\n",
       "   .plotroot().data(\"focused_xgrid_color\", \"#A0A0A0\")\n",
       ";\n",
       "fig.select(\"#img-aa3426ca-14\")\n",
       "   .data(\"mouseover_color\", \"#CD5C5C\")\n",
       ";\n",
       "fig.select(\"#img-aa3426ca-14\")\n",
       "   .data(\"mouseout_color\", \"#6A6A6A\")\n",
       ";\n",
       "fig.select(\"#img-aa3426ca-14\")\n",
       "   .click(Gadfly.zoomslider_zoomin_click)\n",
       ".mouseenter(Gadfly.zoomslider_button_mouseover)\n",
       ".mouseleave(Gadfly.zoomslider_button_mouseout)\n",
       ";\n",
       "fig.select(\"#img-aa3426ca-16\")\n",
       "   .data(\"max_pos\", 120.42)\n",
       ";\n",
       "fig.select(\"#img-aa3426ca-16\")\n",
       "   .data(\"min_pos\", 103.42)\n",
       ";\n",
       "fig.select(\"#img-aa3426ca-16\")\n",
       "   .click(Gadfly.zoomslider_track_click);\n",
       "fig.select(\"#img-aa3426ca-17\")\n",
       "   .data(\"max_pos\", 120.42)\n",
       ";\n",
       "fig.select(\"#img-aa3426ca-17\")\n",
       "   .data(\"min_pos\", 103.42)\n",
       ";\n",
       "fig.select(\"#img-aa3426ca-17\")\n",
       "   .data(\"mouseover_color\", \"#CD5C5C\")\n",
       ";\n",
       "fig.select(\"#img-aa3426ca-17\")\n",
       "   .data(\"mouseout_color\", \"#6A6A6A\")\n",
       ";\n",
       "fig.select(\"#img-aa3426ca-17\")\n",
       "   .drag(Gadfly.zoomslider_thumb_dragmove,\n",
       "     Gadfly.zoomslider_thumb_dragstart,\n",
       "     Gadfly.zoomslider_thumb_dragend)\n",
       ";\n",
       "fig.select(\"#img-aa3426ca-18\")\n",
       "   .data(\"mouseover_color\", \"#CD5C5C\")\n",
       ";\n",
       "fig.select(\"#img-aa3426ca-18\")\n",
       "   .data(\"mouseout_color\", \"#6A6A6A\")\n",
       ";\n",
       "fig.select(\"#img-aa3426ca-18\")\n",
       "   .click(Gadfly.zoomslider_zoomout_click)\n",
       ".mouseenter(Gadfly.zoomslider_button_mouseover)\n",
       ".mouseleave(Gadfly.zoomslider_button_mouseout)\n",
       ";\n",
       "    });\n",
       "]]> </script>\n",
       "</svg>\n"
      ],
      "text/plain": [
       "Plot(...)"
      ]
     },
     "execution_count": 67,
     "metadata": {},
     "output_type": "execute_result"
    }
   ],
   "source": [
    "Gadfly.plot(long, x=:variable, y=:value, Geom.boxplot)"
   ]
  }
 ],
 "metadata": {
  "kernelspec": {
   "display_name": "Julia 0.4.5",
   "language": "julia",
   "name": "julia-0.4"
  },
  "language_info": {
   "file_extension": ".jl",
   "mimetype": "application/julia",
   "name": "julia",
   "version": "0.4.5"
  }
 },
 "nbformat": 4,
 "nbformat_minor": 0
}
