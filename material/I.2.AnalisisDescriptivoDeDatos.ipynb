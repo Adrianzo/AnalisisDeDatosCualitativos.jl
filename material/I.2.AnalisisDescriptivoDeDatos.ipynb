{
 "cells": [
  {
   "cell_type": "markdown",
   "metadata": {},
   "source": [
    "### Unidad I. Variables, distribuciones y pruebas de hipótesis. \n",
    "\n",
    "## Análisis descriptivo de datos. \n",
    "\n",
    "- [Características numéricas de las variables aleatorias.](#Estadísticos-de-resumen)\n",
    "- [Concepto de muestra](#Muestra-estadística)\n",
    "- Estimación estadística de los parámetros de una distribución a partir de los datos de una muestra"
   ]
  },
  {
   "cell_type": "markdown",
   "metadata": {
    "collapsed": true
   },
   "source": [
    "La [estadística descriptiva](https://en.wikipedia.org/wiki/Descriptive_statistics) tiene más que ver con describir una muestra de manera cualitativa (gráfica) o cuantitativa (numérica) que con inferir propiedades acerca de la población de la cual proviene esa muestra ([estadística inferencial](https://en.wikipedia.org/wiki/Statistical_inference)).  "
   ]
  },
  {
   "cell_type": "markdown",
   "metadata": {},
   "source": [
    "La estadística descriptiva está fuertemente ligada al [análisis exploratorio de datos](https://en.wikipedia.org/wiki/Exploratory_data_analysis) (*EDA* for *Exploratory Data Analysis*) y al [análisis inicial de datos](https://en.wikipedia.org/wiki/Data_analysis#Initial_data_analysis) (*IDA* por *Initial Data Analysis*). El primero focaliza en explorar los datos en busca de nuevas hipótesis, las cuales pueden terminar en nuevos muestreos y experimentos, mientras el segundo se focaliza en asegurar la calidad de los datos, chequear las asunciones y realizar las transformaciones necesarias para testear la hipótesis que teníamos en mente a la hora de recolectar los datos."
   ]
  },
  {
   "cell_type": "markdown",
   "metadata": {},
   "source": [
    "El análisis inicial de datos no es necesario solamente para el testeo de hipótesis de la estadística inferencial, sino también como un paso previo para el [aprendizaje automático](https://en.wikipedia.org/wiki/Machine_learning) (*ML* por *Machine Learning*) y forma parte importante de las primeras fases de la [minería de datos](https://en.wikipedia.org/wiki/Data_mining) (*Data mining*)."
   ]
  },
  {
   "cell_type": "markdown",
   "metadata": {},
   "source": [
    "### Muestra estadística"
   ]
  },
  {
   "cell_type": "markdown",
   "metadata": {},
   "source": [
    "Se denomina <a href=\"https://en.wikipedia.org/wiki/Sample_(statistics)\">muestra</a> a un subconjunto de datos tomados o seleccionados de una [población estadística](https://en.wikipedia.org/wiki/Statistical_population) mediante un <a href=\"https://en.wikipedia.org/wiki/Sampling_(statistics)\">proceso de muestreo</a> determinado. Cada una de las [unidades muestrales](https://en.wikipedia.org/wiki/Statistical_unit) suele llamarse observación, y es posible medir variables aleatorias para cada una de ellas."
   ]
  },
  {
   "cell_type": "markdown",
   "metadata": {},
   "source": [
    "Las **muestras** pueden ser:  \n",
    "- **Completas**: Incluye a todos los casos, individuos u objetos de la población que cumplen con un criterio (de selección) determinado. Generalmente es difícil o imposible disponer de muestras completas.  \n",
    "- **Representativas** (*representative or unbiased*): Un conjunto de unidades muestrales seleccionados de una muestra completa usando un proceso de selección/muestreo que no depende de las propiedades de estas unidades. Una manera de obtener muestras no sesgadas es seleccionando una **muestra aleatoria** (*random/probability sample*).  "
   ]
  },
  {
   "cell_type": "markdown",
   "metadata": {},
   "source": [
    "#### Técnicas de muestreo"
   ]
  },
  {
   "cell_type": "markdown",
   "metadata": {},
   "source": [
    "##### Muestreo aleatorio simple"
   ]
  },
  {
   "cell_type": "markdown",
   "metadata": {},
   "source": [
    "En el [muestreo aleatorio simple](https://en.wikipedia.org/wiki/Simple_random_sample) se selecciona un número k de unidades muestrales de manera aleatoria, teniendo cada elemento de la población la misma probabilidad de ser seleccionado. El muestreo puede ser **con o sin reposición** (*with or without replacement*). Si el muestreo se efectúa con reposición, cada elemento de la población puede ser seleccionado más de una vez. En el muestreo aleatorio sin reposición, donde los elementos no son devueltos a la población y no pueden ser elegidos más de una vez, la probabilidad de sacar un determinado elemento cambia con la extracción del anterior (no son independientes). Sin embargo el muestreo aleatorio simple sin reposición satisface [intercambiabilidad](https://en.wikipedia.org/wiki/Exchangeable_random_variables), es que cualquier orden de los elementos extraídos es igualmente probable. Si el tamaño de la población es mucho más grande que el tamaño de la muestra, el muestreo aleatorio simple sin reposición se aproxima a un muestreo simple con reposición, dada la baja probabilidad de elegir un mismo elemento dos veces."
   ]
  },
  {
   "cell_type": "markdown",
   "metadata": {},
   "source": [
    "La manera más sencilla de hacer un muestreo aleatorio simple con o sin reposición en **Julia**, es usando la función `sample` de **StatsBase**. Ésta es similar a la función `sample` de **R**. Ambas toman una lista de valores, el tamaño de la muestra a tomar (`size`) y se les debe indicar si queremos que sea con o sin reemplazo (`replace`). Una diferencia entre ambas funciones es que mientras R por defecto hace el muestreo sin reemplazo, Julia lo hace con reemplazo si no le indicamos lo contrario."
   ]
  },
  {
   "cell_type": "code",
   "execution_count": 1,
   "metadata": {
    "collapsed": false
   },
   "outputs": [
    {
     "data": {
      "text/plain": [
       "1:10"
      ]
     },
     "execution_count": 1,
     "metadata": {},
     "output_type": "execute_result"
    }
   ],
   "source": [
    "individuos = 1:10"
   ]
  },
  {
   "cell_type": "code",
   "execution_count": 2,
   "metadata": {
    "collapsed": false
   },
   "outputs": [
    {
     "data": {
      "text/plain": [
       "5-element Array{Int64,1}:\n",
       " 1\n",
       " 2\n",
       " 1\n",
       " 2\n",
       " 1"
      ]
     },
     "execution_count": 2,
     "metadata": {},
     "output_type": "execute_result"
    }
   ],
   "source": [
    "using StatsBase\n",
    "\n",
    "sample(individuos, 5, replace=true)"
   ]
  },
  {
   "cell_type": "code",
   "execution_count": 3,
   "metadata": {
    "collapsed": false
   },
   "outputs": [
    {
     "data": {
      "text/plain": [
       "RCall.RObject{RCall.IntSxp}\n",
       "[1] 9 6 9 7 8\n"
      ]
     },
     "execution_count": 3,
     "metadata": {},
     "output_type": "execute_result"
    }
   ],
   "source": [
    "using RCall\n",
    "\n",
    "R\"sample($individuos, size=5, replace=TRUE)\""
   ]
  },
  {
   "cell_type": "markdown",
   "metadata": {},
   "source": [
    "##### Muestreo sistemático"
   ]
  },
  {
   "cell_type": "markdown",
   "metadata": {},
   "source": [
    "El [muestreo sistemático](https://en.wikipedia.org/wiki/Systematic_sampling) consiste en ordenar los elementos de una población según alguna variable de interés, para luego tomar *n* unidades muestrales equiespaciadas. El primer elemento debe ser seleccionado al azar, quedando los otros determinados en relación a este. Una ventaja de este tipo de muestreo es que permite muestrear una variable de intereses en todo su rango. Pero debe tenerse cuidado si la variable muestra alguna característica periódica, dado que puede generarse una muestra sesgada de la población. Además debe tenerse en cuenta que no se verá la variación entre dos elementos contiguos en la lista, dado que nunca son seleccionados a la vez."
   ]
  },
  {
   "cell_type": "markdown",
   "metadata": {},
   "source": [
    "Por ejemplo, si queremos hacer un muestreo sistemático de las plantas del [conjunto de datos iris](https://es.wikipedia.org/wiki/Iris_flor_conjunto_de_datos) según largo de sus pétalos:  "
   ]
  },
  {
   "cell_type": "code",
   "execution_count": 4,
   "metadata": {
    "collapsed": false
   },
   "outputs": [
    {
     "data": {
      "text/html": [
       "<table class=\"data-frame\"><tr><th></th><th>SepalLength</th><th>SepalWidth</th><th>PetalLength</th><th>PetalWidth</th><th>Species</th></tr><tr><th>1</th><td>5.1</td><td>3.5</td><td>1.4</td><td>0.2</td><td>setosa</td></tr><tr><th>2</th><td>4.9</td><td>3.0</td><td>1.4</td><td>0.2</td><td>setosa</td></tr><tr><th>3</th><td>4.7</td><td>3.2</td><td>1.3</td><td>0.2</td><td>setosa</td></tr><tr><th>4</th><td>4.6</td><td>3.1</td><td>1.5</td><td>0.2</td><td>setosa</td></tr><tr><th>5</th><td>5.0</td><td>3.6</td><td>1.4</td><td>0.2</td><td>setosa</td></tr><tr><th>6</th><td>5.4</td><td>3.9</td><td>1.7</td><td>0.4</td><td>setosa</td></tr></table>"
      ],
      "text/plain": [
       "6×5 DataFrames.DataFrame\n",
       "│ Row │ SepalLength │ SepalWidth │ PetalLength │ PetalWidth │ Species  │\n",
       "├─────┼─────────────┼────────────┼─────────────┼────────────┼──────────┤\n",
       "│ 1   │ 5.1         │ 3.5        │ 1.4         │ 0.2        │ \"setosa\" │\n",
       "│ 2   │ 4.9         │ 3.0        │ 1.4         │ 0.2        │ \"setosa\" │\n",
       "│ 3   │ 4.7         │ 3.2        │ 1.3         │ 0.2        │ \"setosa\" │\n",
       "│ 4   │ 4.6         │ 3.1        │ 1.5         │ 0.2        │ \"setosa\" │\n",
       "│ 5   │ 5.0         │ 3.6        │ 1.4         │ 0.2        │ \"setosa\" │\n",
       "│ 6   │ 5.4         │ 3.9        │ 1.7         │ 0.4        │ \"setosa\" │"
      ]
     },
     "execution_count": 4,
     "metadata": {},
     "output_type": "execute_result"
    }
   ],
   "source": [
    "using RDatasets\n",
    "iris = dataset(\"datasets\",\"iris\")\n",
    "head(iris)"
   ]
  },
  {
   "cell_type": "code",
   "execution_count": 5,
   "metadata": {
    "collapsed": false
   },
   "outputs": [
    {
     "data": {
      "text/html": [
       "<table class=\"data-frame\"><tr><th></th><th>SepalLength</th><th>SepalWidth</th><th>PetalLength</th><th>PetalWidth</th><th>Species</th></tr><tr><th>1</th><td>4.6</td><td>3.6</td><td>1.0</td><td>0.2</td><td>setosa</td></tr><tr><th>2</th><td>4.3</td><td>3.0</td><td>1.1</td><td>0.1</td><td>setosa</td></tr><tr><th>3</th><td>5.8</td><td>4.0</td><td>1.2</td><td>0.2</td><td>setosa</td></tr><tr><th>4</th><td>5.0</td><td>3.2</td><td>1.2</td><td>0.2</td><td>setosa</td></tr><tr><th>5</th><td>4.7</td><td>3.2</td><td>1.3</td><td>0.2</td><td>setosa</td></tr><tr><th>6</th><td>5.4</td><td>3.9</td><td>1.3</td><td>0.4</td><td>setosa</td></tr></table>"
      ],
      "text/plain": [
       "6×5 DataFrames.DataFrame\n",
       "│ Row │ SepalLength │ SepalWidth │ PetalLength │ PetalWidth │ Species  │\n",
       "├─────┼─────────────┼────────────┼─────────────┼────────────┼──────────┤\n",
       "│ 1   │ 4.6         │ 3.6        │ 1.0         │ 0.2        │ \"setosa\" │\n",
       "│ 2   │ 4.3         │ 3.0        │ 1.1         │ 0.1        │ \"setosa\" │\n",
       "│ 3   │ 5.8         │ 4.0        │ 1.2         │ 0.2        │ \"setosa\" │\n",
       "│ 4   │ 5.0         │ 3.2        │ 1.2         │ 0.2        │ \"setosa\" │\n",
       "│ 5   │ 4.7         │ 3.2        │ 1.3         │ 0.2        │ \"setosa\" │\n",
       "│ 6   │ 5.4         │ 3.9        │ 1.3         │ 0.4        │ \"setosa\" │"
      ]
     },
     "execution_count": 5,
     "metadata": {},
     "output_type": "execute_result"
    }
   ],
   "source": [
    "sort!(iris, cols=:PetalLength) # Ordena la variable de interés\n",
    "head(iris)"
   ]
  },
  {
   "cell_type": "code",
   "execution_count": 6,
   "metadata": {
    "collapsed": false
   },
   "outputs": [
    {
     "data": {
      "text/plain": [
       "150"
      ]
     },
     "execution_count": 6,
     "metadata": {},
     "output_type": "execute_result"
    }
   ],
   "source": [
    "N = nrow(iris) # Número de elementos en mi población"
   ]
  },
  {
   "cell_type": "code",
   "execution_count": 7,
   "metadata": {
    "collapsed": false
   },
   "outputs": [
    {
     "data": {
      "text/plain": [
       "7"
      ]
     },
     "execution_count": 7,
     "metadata": {},
     "output_type": "execute_result"
    }
   ],
   "source": [
    "n = 7 # Número de muestras"
   ]
  },
  {
   "cell_type": "code",
   "execution_count": 8,
   "metadata": {
    "collapsed": false
   },
   "outputs": [
    {
     "data": {
      "text/plain": [
       "21"
      ]
     },
     "execution_count": 8,
     "metadata": {},
     "output_type": "execute_result"
    }
   ],
   "source": [
    "@assert n != 0 \"El tamaño de la muestra no puede ser 0\"\n",
    "\n",
    "@assert n <= N \"La muestra no puede ser superior en tamaño a la población\"\n",
    "\n",
    "k = div(N,n) # Intervalo de muestreo (sampling interval or skip)"
   ]
  },
  {
   "cell_type": "code",
   "execution_count": 9,
   "metadata": {
    "collapsed": false
   },
   "outputs": [
    {
     "data": {
      "text/plain": [
       "17"
      ]
     },
     "execution_count": 9,
     "metadata": {},
     "output_type": "execute_result"
    }
   ],
   "source": [
    "primero = sample(1:k) # Elijo al azar (con igual probabilidad) un elemento de 1 a k para comenzar "
   ]
  },
  {
   "cell_type": "code",
   "execution_count": 10,
   "metadata": {
    "collapsed": false
   },
   "outputs": [
    {
     "data": {
      "text/plain": [
       "7-element Array{Int64,1}:\n",
       "  17\n",
       "  38\n",
       "  59\n",
       "  80\n",
       " 101\n",
       " 122\n",
       " 143"
      ]
     },
     "execution_count": 10,
     "metadata": {},
     "output_type": "execute_result"
    }
   ],
   "source": [
    "# Selecciono los elementos restante a k pasos del primero\n",
    "índices = Int[ primero + ((muestra-1) * k) for muestra in 1:n ]"
   ]
  },
  {
   "cell_type": "code",
   "execution_count": 11,
   "metadata": {
    "collapsed": false
   },
   "outputs": [
    {
     "data": {
      "text/html": [
       "<table class=\"data-frame\"><tr><th></th><th>SepalLength</th><th>SepalWidth</th><th>PetalLength</th><th>PetalWidth</th><th>Species</th></tr><tr><th>1</th><td>4.8</td><td>3.0</td><td>1.4</td><td>0.1</td><td>setosa</td></tr><tr><th>2</th><td>4.8</td><td>3.4</td><td>1.6</td><td>0.2</td><td>setosa</td></tr><tr><th>3</th><td>5.2</td><td>2.7</td><td>3.9</td><td>1.4</td><td>versicolor</td></tr><tr><th>4</th><td>6.4</td><td>3.2</td><td>4.5</td><td>1.5</td><td>versicolor</td></tr><tr><th>5</th><td>6.3</td><td>2.5</td><td>4.9</td><td>1.5</td><td>versicolor</td></tr><tr><th>6</th><td>6.2</td><td>3.4</td><td>5.4</td><td>2.3</td><td>virginica</td></tr><tr><th>7</th><td>7.4</td><td>2.8</td><td>6.1</td><td>1.9</td><td>virginica</td></tr></table>"
      ],
      "text/plain": [
       "7×5 DataFrames.DataFrame\n",
       "│ Row │ SepalLength │ SepalWidth │ PetalLength │ PetalWidth │ Species      │\n",
       "├─────┼─────────────┼────────────┼─────────────┼────────────┼──────────────┤\n",
       "│ 1   │ 4.8         │ 3.0        │ 1.4         │ 0.1        │ \"setosa\"     │\n",
       "│ 2   │ 4.8         │ 3.4        │ 1.6         │ 0.2        │ \"setosa\"     │\n",
       "│ 3   │ 5.2         │ 2.7        │ 3.9         │ 1.4        │ \"versicolor\" │\n",
       "│ 4   │ 6.4         │ 3.2        │ 4.5         │ 1.5        │ \"versicolor\" │\n",
       "│ 5   │ 6.3         │ 2.5        │ 4.9         │ 1.5        │ \"versicolor\" │\n",
       "│ 6   │ 6.2         │ 3.4        │ 5.4         │ 2.3        │ \"virginica\"  │\n",
       "│ 7   │ 7.4         │ 2.8        │ 6.1         │ 1.9        │ \"virginica\"  │"
      ]
     },
     "execution_count": 11,
     "metadata": {},
     "output_type": "execute_result"
    }
   ],
   "source": [
    "iris[índices,:]"
   ]
  },
  {
   "cell_type": "markdown",
   "metadata": {},
   "source": [
    "##### Muestreo estratificado"
   ]
  },
  {
   "cell_type": "markdown",
   "metadata": {},
   "source": [
    "En el [muestreo estratificado](https://en.wikipedia.org/wiki/Stratified_sampling), se estratifica la población antes de tomar las muestras. En este proceso se divide a los miembros de la población en estratos, grupos o subpoblaciones homogéneas. Estos estratos deben ser mutuamente excluyentes, dado que un miembro de la población no podrá pertenecer a más de una subpoblación. Todos los miembros de la población deben pertenecer a un estrato determinado, no pueden quedar miembros sin clasificar (estratificación exhaustiva). Una vez que se estratifico la población, se realizar un muestreo aleatorio simple o sistemático  dentro de cada estrato."
   ]
  },
  {
   "cell_type": "markdown",
   "metadata": {},
   "source": [
    "Existen tres posibles estrategias:  \n",
    "- **Asignación proporcional**: El número de unidades muestrales de cada estrato es proporcional al número de individuos del estrato dentro de la población. Es decir, se respeta las proporciones de los estratos en la población.  \n",
    "- **Asignación óptima**: El número de muestras seleccionadas para cada estrato es proporcional a la desviación estándar de la variable de interés en cada estrato. Ésto requiere un conocimiento previo de la población.  \n",
    "- **Asignación uniforme**: Se selecciona un igual número de elementos para cada estrato. Ésto permite, cuando el tamaño de los estratos varía en la población, equiparar el poder de los test utilizados en cada estratos a la hora de compararlos. El conjunto de datos *iris* fue generado en un muestreo estratificado uniforme (50 flores de cada especie), en el que cada especie conforma un estrato.  "
   ]
  },
  {
   "cell_type": "markdown",
   "metadata": {},
   "source": [
    "###### Media"
   ]
  },
  {
   "cell_type": "markdown",
   "metadata": {},
   "source": [
    "$$ \\mu_{s} = \\frac{1}{N} \\sum_{h=1}^{L} N_{h} \\mu_{h} $$"
   ]
  },
  {
   "cell_type": "code",
   "execution_count": 12,
   "metadata": {
    "collapsed": false
   },
   "outputs": [
    {
     "data": {
      "text/plain": [
       "3.7580000000000005"
      ]
     },
     "execution_count": 12,
     "metadata": {},
     "output_type": "execute_result"
    }
   ],
   "source": [
    "μₛ = mean(iris[:PetalLength])"
   ]
  },
  {
   "cell_type": "code",
   "execution_count": 13,
   "metadata": {
    "collapsed": false
   },
   "outputs": [
    {
     "data": {
      "text/html": [
       "<table class=\"data-frame\"><tr><th></th><th>Species</th><th>μₕ</th><th>Nₕ</th></tr><tr><th>1</th><td>setosa</td><td>1.462</td><td>50</td></tr><tr><th>2</th><td>versicolor</td><td>4.26</td><td>50</td></tr><tr><th>3</th><td>virginica</td><td>5.552</td><td>50</td></tr></table>"
      ],
      "text/plain": [
       "3×3 DataFrames.DataFrame\n",
       "│ Row │ Species      │ μₕ    │ Nₕ │\n",
       "├─────┼──────────────┼───────┼────┤\n",
       "│ 1   │ \"setosa\"     │ 1.462 │ 50 │\n",
       "│ 2   │ \"versicolor\" │ 4.26  │ 50 │\n",
       "│ 3   │ \"virginica\"  │ 5.552 │ 50 │"
      ]
     },
     "execution_count": 13,
     "metadata": {},
     "output_type": "execute_result"
    }
   ],
   "source": [
    "estratos = by(iris, :Species) do df \n",
    "    DataFrame(\n",
    "    μₕ = mean(df[:PetalLength]),\n",
    "    Nₕ = nrow(df)\n",
    "    )\n",
    "end"
   ]
  },
  {
   "cell_type": "code",
   "execution_count": 14,
   "metadata": {
    "collapsed": false
   },
   "outputs": [
    {
     "data": {
      "text/plain": [
       "150"
      ]
     },
     "execution_count": 14,
     "metadata": {},
     "output_type": "execute_result"
    }
   ],
   "source": [
    "N = nrow(iris)"
   ]
  },
  {
   "cell_type": "code",
   "execution_count": 15,
   "metadata": {
    "collapsed": false
   },
   "outputs": [
    {
     "data": {
      "text/plain": [
       "3.7580000000000005"
      ]
     },
     "execution_count": 15,
     "metadata": {},
     "output_type": "execute_result"
    }
   ],
   "source": [
    "(1/N) * sum(estratos[:μₕ] .* estratos[:Nₕ])"
   ]
  },
  {
   "cell_type": "markdown",
   "metadata": {},
   "source": [
    "### Estadísticos de resumen"
   ]
  },
  {
   "cell_type": "markdown",
   "metadata": {},
   "source": [
    "Los [estadísticos de resumen](https://en.wikipedia.org/wiki/Summary_statistics) (*Summary statistics*) describen de manera cuantitativa la distribución de una muestra. Normalmente se obtiene un conjunto de estadísticos que describen cada variable aleatoria/dimensión de los datos de manera independiente (si excluimos medidas de dependencia como las correlaciones).  "
   ]
  },
  {
   "cell_type": "markdown",
   "metadata": {},
   "source": [
    "Existen **estadísticos de**: \n",
    "- tendencia central (*location or central tendency*)\n",
    "- dispersión (*spread or dispersion*)\n",
    "- forma (*shape*):\n",
    " - asimetría (*Skewness*)\n",
    " - apuntamiento (*Kurtosis*)"
   ]
  },
  {
   "cell_type": "markdown",
   "metadata": {},
   "source": [
    "Estos estadísticos pueden ser [robustos](https://en.wikipedia.org/wiki/Robust_statistics) o no, llamándose robustos a los estadísticos menos afectados por [valores atípicos](https://en.wikipedia.org/wiki/Outlier) (*outliers*). Estos estadísticos describen la muestra de una manera más robusta cuando su distribución se aleja de una distribución normal (por ejemplo, si la distribución es asimétrica). "
   ]
  },
  {
   "cell_type": "markdown",
   "metadata": {},
   "source": [
    "#### Estadísticos de tendencia central"
   ]
  },
  {
   "cell_type": "code",
   "execution_count": 16,
   "metadata": {
    "collapsed": false
   },
   "outputs": [
    {
     "name": "stdout",
     "output_type": "stream",
     "text": [
      "SepalLength\n",
      "  Media   : 5.843333333333334\n",
      "  Mediana : 5.8\n",
      "  Moda    : 5.0\n",
      "SepalWidth\n",
      "  Media   : 3.0573333333333332\n",
      "  Mediana : 3.0\n",
      "  Moda    : 3.0\n",
      "PetalLength\n",
      "  Media   : 3.7580000000000005\n",
      "  Mediana : 4.35\n",
      "  Moda    : 1.4\n",
      "PetalWidth\n",
      "  Media   : 1.1993333333333331\n",
      "  Mediana : 1.3\n",
      "  Moda    : 0.2\n",
      "Species\n",
      "  Moda    : setosa\n"
     ]
    }
   ],
   "source": [
    "for (nombre, valores) in eachcol(iris)\n",
    "    println(nombre)\n",
    "    \n",
    "    if eltype(valores) <: Real\n",
    "        println(\"  Media   : \", mean(valores))\n",
    "        println(\"  Mediana : \", median(valores))\n",
    "        println(\"  Moda    : \", mode(valores))\n",
    "    else\n",
    "        println(\"  Moda    : \", mode(valores))\n",
    "    end \n",
    "    \n",
    "end"
   ]
  },
  {
   "cell_type": "markdown",
   "metadata": {},
   "source": [
    "#### Estadísticos de dispersión"
   ]
  },
  {
   "cell_type": "code",
   "execution_count": 17,
   "metadata": {
    "collapsed": false
   },
   "outputs": [
    {
     "name": "stdout",
     "output_type": "stream",
     "text": [
      "SepalLength\n",
      "  Desviación estándar   : 0.828066127977863\n",
      "  Varianza              : 0.6856935123042507\n",
      "  Rango intercuartílico : 1.3000000000000007\n",
      "SepalWidth\n",
      "  Desviación estándar   : 0.4358662849366982\n",
      "  Varianza              : 0.18997941834451898\n",
      "  Rango intercuartílico : 0.5\n",
      "PetalLength\n",
      "  Desviación estándar   : 1.7652982332594662\n",
      "  Varianza              : 3.116277852348993\n",
      "  Rango intercuartílico : 3.4999999999999996\n",
      "PetalWidth\n",
      "  Desviación estándar   : 0.7622376689603465\n",
      "  Varianza              : 0.5810062639821029\n",
      "  Rango intercuartílico : 1.5\n"
     ]
    }
   ],
   "source": [
    "for (nombre, valores) in eachcol(iris)\n",
    "    if eltype(valores) <: Real\n",
    "        \n",
    "        println(nombre)\n",
    "        \n",
    "        println(\"  Desviación estándar   : \", std(valores))\n",
    "        println(\"  Varianza              : \", var(valores))\n",
    "        println(\"  Rango intercuartílico : \", iqr(valores))\n",
    "        \n",
    "    end\n",
    "end"
   ]
  },
  {
   "cell_type": "markdown",
   "metadata": {},
   "source": [
    "#### Estadísticos de forma"
   ]
  },
  {
   "cell_type": "code",
   "execution_count": 18,
   "metadata": {
    "collapsed": false
   },
   "outputs": [
    {
     "name": "stdout",
     "output_type": "stream",
     "text": [
      "SepalLength\n",
      "  Skewness : 0.31175305850229645\n",
      "  Kurtosis : -0.573567948924977\n",
      "SepalWidth\n",
      "  Skewness : 0.31576710633893856\n",
      "  Kurtosis : 0.18097631752246546\n",
      "PetalLength\n",
      "  Skewness : -0.27212766645672154\n",
      "  Kurtosis : -1.3955358863990097\n",
      "PetalWidth\n",
      "  Skewness : -0.10193420656559918\n",
      "  Kurtosis : -1.3360674052315484\n"
     ]
    }
   ],
   "source": [
    "for (nombre, valores) in eachcol(iris)\n",
    "    if eltype(valores) <: Real\n",
    "        \n",
    "        println(nombre)\n",
    "        \n",
    "        println(\"  Skewness : \", skewness(valores))\n",
    "        println(\"  Kurtosis : \", kurtosis(valores))\n",
    "        \n",
    "    end\n",
    "end"
   ]
  },
  {
   "cell_type": "code",
   "execution_count": 19,
   "metadata": {
    "collapsed": true
   },
   "outputs": [],
   "source": [
    "using Plots"
   ]
  },
  {
   "cell_type": "code",
   "execution_count": 38,
   "metadata": {
    "collapsed": false
   },
   "outputs": [
    {
     "data": {
      "text/plain": [
       "4-element Array{Symbol,1}:\n",
       " :SepalLength\n",
       " :SepalWidth \n",
       " :PetalLength\n",
       " :PetalWidth "
      ]
     },
     "execution_count": 38,
     "metadata": {},
     "output_type": "execute_result"
    }
   ],
   "source": [
    "columnas = [:SepalLength, :SepalWidth, :PetalLength, :PetalWidth]"
   ]
  },
  {
   "cell_type": "code",
   "execution_count": 74,
   "metadata": {
    "collapsed": false
   },
   "outputs": [
    {
     "data": {
      "image/png": "[encoded data removed]",
      "text/plain": [
       "PyPlot.Figure(PyObject <matplotlib.figure.Figure object at 0x7f1b2d3869d0>)"
      ]
     },
     "metadata": {},
     "output_type": "display_data"
    },
    {
     "data": {
      "text/html": [
       "<img src=\"data:image/png;base64,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\" />"
      ]
     },
     "execution_count": 74,
     "metadata": {},
     "output_type": "execute_result"
    }
   ],
   "source": [
    "plot(\n",
    "histogram(iris, columnas', bins=0:0.1:8, alpha=0.5, legend=true),\n",
    "density(iris, columnas', alpha=0.5, legend=true, fill=0)\n",
    ")"
   ]
  }
 ],
 "metadata": {
  "kernelspec": {
   "display_name": "Julia 0.4.5",
   "language": "julia",
   "name": "julia-0.4"
  },
  "language_info": {
   "file_extension": ".jl",
   "mimetype": "application/julia",
   "name": "julia",
   "version": "0.4.5"
  }
 },
 "nbformat": 4,
 "nbformat_minor": 0
}
