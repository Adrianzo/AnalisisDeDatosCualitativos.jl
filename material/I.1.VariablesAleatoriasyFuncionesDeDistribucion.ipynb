{
 "cells": [
  {
   "cell_type": "markdown",
   "metadata": {},
   "source": [
    "### Unidad I. Variables, distribuciones y pruebas de hipótesis. \n",
    "\n",
    "## Variables aleatorias y funciones de distribución. \n",
    "\n",
    "- [Conceptos de variables aleatorias](#Conceptos-de-variables-aleatorias), [funciones de distribución](#Funciones-de-distribución), variables aleatorias discretas y continuas, [niveles de medición](#Niveles-de-medición).  \n",
    "- [Distribuciones importantes](#Distribuciones-importantes)  \n",
    "- [Generación de distribuciones a partir de operaciones con variables aleatorias conocidas.](#Generación-de-distribuciones)  "
   ]
  },
  {
   "cell_type": "markdown",
   "metadata": {
    "collapsed": true
   },
   "source": [
    "## Conceptos de variables aleatorias"
   ]
  },
  {
   "cell_type": "markdown",
   "metadata": {},
   "source": [
    "- **Variable categórica o cualitativas:** Variables que representan *grupos* o *categorías*. Puede tener escala **nominal** u **ordinal**. Las variables *nominales* no tienen un orden definido, mientras las *ordinales* o *casi cuantitativas* tienen un orden definido. Es importante notar que los métodos desarrollados para variables *ordinales* no pueden ser utilizados con variables *nominales*. Los métodos para variables *nominales* pueden ser utilizados con variables *ordinales*, pero se pierde **poder** en el proceso, debido a que no se utiliza la información relativa al orden. La variables cualitativas con solo dos niveles suelen denominarse binarias, dicotómicas o booleanas.\n",
    "- **Variable cuantitativas:** Pueden ser **discretas** o **continuas**."
   ]
  },
  {
   "cell_type": "markdown",
   "metadata": {},
   "source": [
    "Las variables categóricas suelen representarse en R usando `factor`s y tienen una representación especial en la librería *DataFrames* de Julia mediante el tipo de datos `PooledDataArray`(cada nivel de la variable categórica pertenece a un *pool* o grupo de niveles posibles)."
   ]
  },
  {
   "cell_type": "markdown",
   "metadata": {
    "collapsed": true
   },
   "source": [
    "En algunos análisis estadísticos, las variables aleatorias pueden clasificarse como variables de **variable respuesta** y **variable explicativa**. La variable respuesta, es a veces llamada *dependiente* suele representarse en el eje *Y*. La variable explicativa o *independiente*, es la que suele controlarse en el diseño experimental y suele representarse en el eje *X*."
   ]
  },
  {
   "cell_type": "markdown",
   "metadata": {},
   "source": [
    "Tanto la `formula` de R como la `Formula` de la biblioteca *DataFrames* de Julia ubican las variables respuesta a la izquierda y las variables explicativas a la derecha:\n",
    "```julia\n",
    "Y ~ X\n",
    "```"
   ]
  },
  {
   "cell_type": "markdown",
   "metadata": {},
   "source": [
    "## Funciones de distribución"
   ]
  },
  {
   "cell_type": "markdown",
   "metadata": {},
   "source": [
    "### Función de masa/densidad de probabilidad"
   ]
  },
  {
   "cell_type": "markdown",
   "metadata": {},
   "source": [
    "La función de densidad de probabilidad (*PDF* por *Probability Density Function*)  o de masa de probabilidad (*PMF* por *Probability Mass Function*) describen la probabilidad relativa de una variable a tomar un cierto valor. En general, el término *masa* (*PMF*) se utiliza para variable categóricas o discretas mientras el de *densidad* (*PDF*) se usa con variables continuas.  \n",
    "Sólo en el caso de variables discretas, la función de masa de probabilidad para la variable $X$ ($PMF_X$) evaluada en un punto $x$ retorna la probabilidad de que la variable $X$ sea igual a $x$: "
   ]
  },
  {
   "cell_type": "markdown",
   "metadata": {},
   "source": [
    "$$PMF_X(x) = P(X=x)$$  "
   ]
  },
  {
   "cell_type": "markdown",
   "metadata": {},
   "source": [
    "Las funciones de masa/densidad de probabilidad son no-negativas a lo largo de todo su dominio. En el caso de las funciones de masa de probabilidad, la imagen sólo puede tomar valores en el intervalo cerrado $[0,1]$. La suma de las probabilidades (imagen de la $PMF$) para todos los posibles valores una variable discreta $X$ debe ser igual a 1, es decir, al menos uno de sus valores tiene que ocurrir."
   ]
  },
  {
   "cell_type": "markdown",
   "metadata": {},
   "source": [
    "$$\\sum\\limits_{x} PMF_X(x) = 1$$"
   ]
  },
  {
   "cell_type": "markdown",
   "metadata": {},
   "source": [
    "Evaluar la función de densidad de probabilidad de una variable continua $X$, $PDF_X$, en un punto $x$ no retorna la probabilidad de ese punto. Sólo obtenemos probabilidades a partir de una función de densidad de probabilidad integrandola en un determinado intervalo (la probabilidad es el área bajo la *PDF*). No existe la probabilidad de un punto para variables continuas, así como no existe el área bajo un punto."
   ]
  },
  {
   "cell_type": "markdown",
   "metadata": {},
   "source": [
    "$$\\int_{a}^{b} PDF_X(X) dX = P(a \\leqslant X \\leqslant b)$$"
   ]
  },
  {
   "cell_type": "markdown",
   "metadata": {},
   "source": [
    "La integral de una *PDF* sobre todo su dominio, es decir el área total bajo la *PDF* debe ser 1."
   ]
  },
  {
   "cell_type": "markdown",
   "metadata": {},
   "source": [
    "### Función de distribución acumulada"
   ]
  },
  {
   "cell_type": "markdown",
   "metadata": {},
   "source": [
    "La función de distribución acumulada (**CDF** por *Cumulative Distribution Function*, a veces llamada **CMF** por *Cumulative Mass Function* en el caso de variables categóricas) retorna la probabilidad de que una variable aleatoria no nominal sea menor a un determinado valor."
   ]
  },
  {
   "cell_type": "markdown",
   "metadata": {},
   "source": [
    "$$CDF_X(x) = P(X \\leqslant x)$$"
   ]
  },
  {
   "cell_type": "markdown",
   "metadata": {
    "collapsed": true
   },
   "source": [
    "En el caso de variable categóricas, esto se logra sumando los valores de las probabilidades *PMF* para todos los valores inferiores o iguales a $x$:"
   ]
  },
  {
   "cell_type": "markdown",
   "metadata": {},
   "source": [
    "$$ CDF_X(x) = \\sum\\limits_{X \\leqslant x} PMF_X(x) $$ "
   ]
  },
  {
   "cell_type": "markdown",
   "metadata": {},
   "source": [
    "Para variables continuas, es la integral desde menos infinito (o el menor valor del dominio) hasta $x$:"
   ]
  },
  {
   "cell_type": "markdown",
   "metadata": {},
   "source": [
    "$$CDF_X(x) = \\int_{-\\infty}^{x} PDF_X(X) dX $$"
   ]
  },
  {
   "cell_type": "markdown",
   "metadata": {},
   "source": [
    "La imagen de una CDF es el intervalo $[0,1]$, siendo ésta función monótona creciente.  \n",
    "Es fácil obtener la probabilidad de que un valor de $X$ caiga dentro de un cierto intervalo $(a,b]$ usando su *CDF*:"
   ]
  },
  {
   "cell_type": "markdown",
   "metadata": {},
   "source": [
    "  $$P(a < X \\leqslant b) = CDF_X(b) - CDF_X(a)$$"
   ]
  },
  {
   "cell_type": "markdown",
   "metadata": {},
   "source": [
    "Las CDF suelen ser útiles en los *tests de hipótesis*, donde es necesario calcular la probabilidad de observar un valor mayor o menor a un cierto valor $x$. En el caso de querer calcular la probabilidad de observar un valor mayor a $x$  suele usarse la **CCDF** (*Complementary Cumulative Distribution Function*):"
   ]
  },
  {
   "cell_type": "markdown",
   "metadata": {},
   "source": [
    "$$CCDF(x) = P(X > x) = 1 - CDF(x)$$"
   ]
  },
  {
   "cell_type": "markdown",
   "metadata": {},
   "source": [
    "## Niveles de medición"
   ]
  },
  {
   "cell_type": "markdown",
   "metadata": {},
   "source": [
    "Una *variable aleatoria* es una función que puede tomar una serie de valores medibles u observables, estando la frecuencia de aparición de esos valores asociados a una distribución de probabilidad. Estas variables resultan de *experimentos aleatorios*, en los cuales dada las mismas condiciones iniciales no se obtienen los mismos resultados en cada *experiencia* o *prueba*."
   ]
  },
  {
   "cell_type": "markdown",
   "metadata": {},
   "source": [
    "Los resultados de una *variable aleatoria* pueden medirse en diferentes *escalas de medida* dependiendo de su naturaleza o de la necesidad. Existen diferentes escalas de medidas, siendo la primera la propuesta por el psicólogo *Stanley Smith Stevens*:\n"
   ]
  },
  {
   "cell_type": "markdown",
   "metadata": {},
   "source": [
    "| Nivel | Variable | Precisión | Descripción  | Operaciones |\n",
    "|-------|----------|-----------|--------------|-------------|\n",
    "| Nominal | Cualitativas | Menor | No hay orden | `==` `!=` |\n",
    "| Ordinal | Cualitativas, Cuantitativas | Intermedia | Hay orden pero no hay distancias | ... `<` `>` `<=` `>=` |\n",
    "| Intervalar | Cuantitativas | Intermedia | El cero/la escala es arbitrario/a | ... `+` `-` |\n",
    "| Racional | Cuantitativas | Mayor | El cero/la escala no es arbitrario/a *(ej. MKS)* | ... `/` `//` ... *(todas)* |"
   ]
  },
  {
   "cell_type": "markdown",
   "metadata": {},
   "source": [
    "## Distribuciones importantes"
   ]
  },
  {
   "cell_type": "markdown",
   "metadata": {},
   "source": [
    "La distribuciones más conocidas para datos continuos son la distribución [Normal](#Distribución-Normal) y la distribución [T](#Distribución-T). Mientras las distribuciones más importantes para datos categóricos son la **Binomial**, la **Multinomial** y la **Poisson**."
   ]
  },
  {
   "cell_type": "markdown",
   "metadata": {},
   "source": [
    "### Distribución Normal"
   ]
  },
  {
   "cell_type": "markdown",
   "metadata": {},
   "source": [
    "La distribución *Normal*, también llamada *de Gauss* o *Gaussiana*. Su función de densidad de probabilidad es la *campana de Gauss* que es simétrica alrededor de un parámetro μ. "
   ]
  },
  {
   "cell_type": "markdown",
   "metadata": {},
   "source": [
    "La distribución normal posee dos parámetros de forma, el promedio μ y la desviación estándar σ (varianza σ²). Una distribución normal con parametros `μ=0` y `σ=1` se conoce como **normal estándar** $\\mathcal{N}(0,1)$"
   ]
  },
  {
   "cell_type": "code",
   "execution_count": 1,
   "metadata": {
    "collapsed": false
   },
   "outputs": [
    {
     "name": "stderr",
     "output_type": "stream",
     "text": [
      "\u001b[1m\u001b[34mINFO: Precompiling module Distributions.\n",
      "\u001b[0m"
     ]
    }
   ],
   "source": [
    "using Distributions"
   ]
  },
  {
   "cell_type": "code",
   "execution_count": 2,
   "metadata": {
    "collapsed": false
   },
   "outputs": [
    {
     "data": {
      "text/markdown": [
       "```\n",
       "Normal(μ,σ)\n",
       "```\n",
       "\n",
       "The *Normal distribution* with mean `μ` and standard deviation `σ` has probability density function\n",
       "\n",
       "$$\n",
       "f(x; \\mu, \\sigma) = \\frac{1}{\\sqrt{2 \\pi \\sigma^2}}\n",
       "\\exp \\left( - \\frac{(x - \\mu)^2}{2 \\sigma^2} \\right)\n",
       "$$\n",
       "\n",
       "```julia\n",
       "Normal()          # standard Normal distribution with zero mean and unit variance\n",
       "Normal(mu)        # Normal distribution with mean mu and unit variance\n",
       "Normal(mu, sig)   # Normal distribution with mean mu and variance sig^2\n",
       "\n",
       "params(d)         # Get the parameters, i.e. (mu, sig)\n",
       "mean(d)           # Get the mean, i.e. mu\n",
       "std(d)            # Get the standard deviation, i.e. sig\n",
       "```\n",
       "\n",
       "External links\n",
       "\n",
       "  * [Normal distribution on Wikipedia](http://en.wikipedia.org/wiki/Normal_distribution)\n"
      ],
      "text/plain": [
       "```\n",
       "Normal(μ,σ)\n",
       "```\n",
       "\n",
       "The *Normal distribution* with mean `μ` and standard deviation `σ` has probability density function\n",
       "\n",
       "$$\n",
       "f(x; \\mu, \\sigma) = \\frac{1}{\\sqrt{2 \\pi \\sigma^2}}\n",
       "\\exp \\left( - \\frac{(x - \\mu)^2}{2 \\sigma^2} \\right)\n",
       "$$\n",
       "\n",
       "```julia\n",
       "Normal()          # standard Normal distribution with zero mean and unit variance\n",
       "Normal(mu)        # Normal distribution with mean mu and unit variance\n",
       "Normal(mu, sig)   # Normal distribution with mean mu and variance sig^2\n",
       "\n",
       "params(d)         # Get the parameters, i.e. (mu, sig)\n",
       "mean(d)           # Get the mean, i.e. mu\n",
       "std(d)            # Get the standard deviation, i.e. sig\n",
       "```\n",
       "\n",
       "External links\n",
       "\n",
       "  * [Normal distribution on Wikipedia](http://en.wikipedia.org/wiki/Normal_distribution)\n"
      ]
     },
     "execution_count": 2,
     "metadata": {},
     "output_type": "execute_result"
    }
   ],
   "source": [
    "?Distributions.Normal"
   ]
  },
  {
   "cell_type": "code",
   "execution_count": 3,
   "metadata": {
    "collapsed": false
   },
   "outputs": [
    {
     "data": {
      "text/plain": [
       "Distributions.Normal{Float64}(μ=0.0, σ=1.0)"
      ]
     },
     "execution_count": 3,
     "metadata": {},
     "output_type": "execute_result"
    }
   ],
   "source": [
    "N = Normal(0,1)"
   ]
  },
  {
   "cell_type": "code",
   "execution_count": 7,
   "metadata": {
    "collapsed": false
   },
   "outputs": [
    {
     "data": {
      "text/html": [
       "<img src=\"data:image/png;base64,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\" />"
      ]
     },
     "execution_count": 7,
     "metadata": {},
     "output_type": "execute_result"
    }
   ],
   "source": [
    "using Plots\n",
    "pyplot(reuse=true, size=(600,300))\n",
    "\n",
    "plot(\n",
    "    plot(x -> pdf(N, x), -6, 6, label=\"PDF\"),\n",
    "    plot(x -> cdf(N, x), -6, 6, label=\"CDF\")\n",
    ")"
   ]
  },
  {
   "cell_type": "markdown",
   "metadata": {},
   "source": [
    "Las distribuciones que poseen **parámetros de forma**, como la distribución Normal, se denominan **distribuciones paramétricas**. Estás definen una familia de funciones de densidad/masa de probabilidad, dependiendo de los parámetros que tomen."
   ]
  },
  {
   "cell_type": "code",
   "execution_count": 11,
   "metadata": {
    "collapsed": false
   },
   "outputs": [
    {
     "name": "stderr",
     "output_type": "stream",
     "text": [
      "\u001b[1m\u001b[34mINFO: Saved animation to /home/dzea/.julia/v0.5/AnalisisDeDatosCualitativos/material/Normal_mu.gif\n",
      "\u001b[0m"
     ]
    },
    {
     "data": {
      "text/html": [
       "<img src=\"Normal_mu.gif?0.29348369412595576>\" />"
      ],
      "text/plain": [
       "Plots.AnimatedGif(\"/home/dzea/.julia/v0.5/AnalisisDeDatosCualitativos/material/Normal_mu.gif\")"
      ]
     },
     "execution_count": 11,
     "metadata": {},
     "output_type": "execute_result"
    }
   ],
   "source": [
    "animación = Animation()\n",
    "\n",
    "@animate for μ in -2:0.1:2 # μ ∈ R\n",
    "    \n",
    "    PDF = plot(x -> pdf(Normal(μ,1), x), -6, 6, label=μ)\n",
    "    CDF = plot(x -> cdf(Normal(μ,1), x), -6, 6, label=μ)\n",
    "    \n",
    "    vline!(PDF, [μ]); vline!(CDF, [μ])\n",
    "    plot(PDF, CDF)\n",
    "    frame(animación)\n",
    "end\n",
    "\n",
    "gif(animación, \"Normal_mu.gif\", fps=5)"
   ]
  },
  {
   "cell_type": "code",
   "execution_count": 12,
   "metadata": {
    "collapsed": false
   },
   "outputs": [
    {
     "name": "stderr",
     "output_type": "stream",
     "text": [
      "\u001b[1m\u001b[34mINFO: Saved animation to /home/dzea/.julia/v0.5/AnalisisDeDatosCualitativos/material/Normal_sigma.gif\n",
      "\u001b[0m"
     ]
    },
    {
     "data": {
      "text/html": [
       "<img src=\"Normal_sigma.gif?0.15414007750265468>\" />"
      ],
      "text/plain": [
       "Plots.AnimatedGif(\"/home/dzea/.julia/v0.5/AnalisisDeDatosCualitativos/material/Normal_sigma.gif\")"
      ]
     },
     "execution_count": 12,
     "metadata": {},
     "output_type": "execute_result"
    }
   ],
   "source": [
    "animación = Animation()\n",
    "\n",
    "@animate for σ in 0.5:0.1:2 # σ > 0\n",
    "    \n",
    "    PDF = plot(x -> pdf(Normal(0,σ), x), -6, 6, ylim=(0,1), label=σ)\n",
    "    CDF = plot(x -> cdf(Normal(0,σ), x), -6, 6, ylim=(0,1), label=σ)\n",
    "    \n",
    "    vline!(PDF, [-σ, σ]); vline!(CDF, [-σ, σ])\n",
    "    plot(PDF, CDF)\n",
    "    frame(animación)\n",
    "end\n",
    "\n",
    "gif(animación, \"Normal_sigma.gif\", fps=5)"
   ]
  },
  {
   "cell_type": "markdown",
   "metadata": {},
   "source": [
    "\n",
    "Esta distribución es importante debido al **Teorema Central del Límite**, según el cual, dada una muestra de valores *independientes e idénticamente distribuidos* de tamaño $n$ de una distribución con media poblacional $\\mu$ y desviación estándar $\\sigma$, la distribución de la media muestral $\\overline{x_{n}}$ converge a una distribución  \n",
    "$$\\overline{x_{n}} \\sim \\mathcal{N}(\\mu,\\frac{\\sigma}{\\sqrt{n}})$$  \n",
    "cuando $n \\rightarrow \\infty$.  \n",
    "Debido a la **ley de los grandes números**, la media o promedio de la muestra se acercara a la media poblacional (valor esperado) a medida que el valor de $n$ aumenta. La desviación estándar de la distribución media muestral $\\frac{\\sigma}{\\sqrt{n}}$ se denomina error estadístico.\n"
   ]
  },
  {
   "cell_type": "markdown",
   "metadata": {},
   "source": [
    "#### Ejemplo"
   ]
  },
  {
   "cell_type": "code",
   "execution_count": 13,
   "metadata": {
    "collapsed": false
   },
   "outputs": [
    {
     "data": {
      "text/markdown": [
       "```\n",
       "Exponential(θ)\n",
       "```\n",
       "\n",
       "The *Exponential distribution* with scale parameter `θ` has probability density function\n",
       "\n",
       "$$\n",
       "f(x; \\theta) = \\frac{1}{\\theta} e^{-\\frac{x}{\\theta}}, \\quad x > 0\n",
       "$$\n",
       "\n",
       "```julia\n",
       "Exponential()      # Exponential distribution with unit scale, i.e. Exponential(1)\n",
       "Exponential(b)     # Exponential distribution with scale b\n",
       "\n",
       "params(d)          # Get the parameters, i.e. (b,)\n",
       "scale(d)           # Get the scale parameter, i.e. b\n",
       "rate(d)            # Get the rate parameter, i.e. 1 / b\n",
       "```\n",
       "\n",
       "External links\n",
       "\n",
       "  * [Exponential distribution on Wikipedia](http://en.wikipedia.org/wiki/Exponential_distribution)\n"
      ],
      "text/plain": [
       "```\n",
       "Exponential(θ)\n",
       "```\n",
       "\n",
       "The *Exponential distribution* with scale parameter `θ` has probability density function\n",
       "\n",
       "$$\n",
       "f(x; \\theta) = \\frac{1}{\\theta} e^{-\\frac{x}{\\theta}}, \\quad x > 0\n",
       "$$\n",
       "\n",
       "```julia\n",
       "Exponential()      # Exponential distribution with unit scale, i.e. Exponential(1)\n",
       "Exponential(b)     # Exponential distribution with scale b\n",
       "\n",
       "params(d)          # Get the parameters, i.e. (b,)\n",
       "scale(d)           # Get the scale parameter, i.e. b\n",
       "rate(d)            # Get the rate parameter, i.e. 1 / b\n",
       "```\n",
       "\n",
       "External links\n",
       "\n",
       "  * [Exponential distribution on Wikipedia](http://en.wikipedia.org/wiki/Exponential_distribution)\n"
      ]
     },
     "execution_count": 13,
     "metadata": {},
     "output_type": "execute_result"
    }
   ],
   "source": [
    "?Distributions.Exponential"
   ]
  },
  {
   "cell_type": "code",
   "execution_count": 14,
   "metadata": {
    "collapsed": false
   },
   "outputs": [
    {
     "data": {
      "text/plain": [
       "Distributions.Exponential{Float64}(θ=2.0)"
      ]
     },
     "execution_count": 14,
     "metadata": {},
     "output_type": "execute_result"
    }
   ],
   "source": [
    "distribución = Exponential(2)"
   ]
  },
  {
   "cell_type": "code",
   "execution_count": 16,
   "metadata": {
    "collapsed": false
   },
   "outputs": [
    {
     "data": {
      "text/html": [
       "<img src=\"data:image/png;base64,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\" />"
      ]
     },
     "execution_count": 16,
     "metadata": {},
     "output_type": "execute_result"
    }
   ],
   "source": [
    "plot(\n",
    "    plot(x -> pdf(distribución, x), 0, 10, label=\"PDF\"),\n",
    "    plot(x -> cdf(distribución, x), 0, 10, label=\"CDF\")\n",
    ")"
   ]
  },
  {
   "cell_type": "code",
   "execution_count": 17,
   "metadata": {
    "collapsed": false
   },
   "outputs": [
    {
     "data": {
      "text/plain": [
       "2.0"
      ]
     },
     "execution_count": 17,
     "metadata": {},
     "output_type": "execute_result"
    }
   ],
   "source": [
    "mean(distribución)"
   ]
  },
  {
   "cell_type": "code",
   "execution_count": 18,
   "metadata": {
    "collapsed": false
   },
   "outputs": [
    {
     "data": {
      "text/plain": [
       "2.0"
      ]
     },
     "execution_count": 18,
     "metadata": {},
     "output_type": "execute_result"
    }
   ],
   "source": [
    "std(distribución)"
   ]
  },
  {
   "cell_type": "code",
   "execution_count": 26,
   "metadata": {
    "collapsed": false
   },
   "outputs": [
    {
     "name": "stderr",
     "output_type": "stream",
     "text": [
      "\u001b[1m\u001b[34mINFO: Saved animation to /home/dzea/.julia/v0.5/AnalisisDeDatosCualitativos/material/TCL.gif\n",
      "\u001b[0m"
     ]
    },
    {
     "data": {
      "text/html": [
       "<img src=\"TCL.gif?0.6433887456103349>\" />"
      ],
      "text/plain": [
       "Plots.AnimatedGif(\"/home/dzea/.julia/v0.5/AnalisisDeDatosCualitativos/material/TCL.gif\")"
      ]
     },
     "execution_count": 26,
     "metadata": {},
     "output_type": "execute_result"
    }
   ],
   "source": [
    "animación = Animation()\n",
    "\n",
    "@animate for n in 5:5:100\n",
    "    muestra = rand(distribución, n)\n",
    "    histograma_muestra = histogram(muestra, legend=false, bins=10)\n",
    "    \n",
    "    estimada_muestra = fit(Exponential, muestra)\n",
    "    PDF_población = plot(x -> pdf(estimada_muestra,x), 0, 6, labels=\"Estimada\", ylim=(0,0.5))\n",
    "    plot!(PDF_población, x -> pdf(distribución,x), 0, 6, labels=\"Limite\")\n",
    "    \n",
    "    medias_muestrales = Float64[mean(rand(distribución, n)) for i in 1:100]\n",
    "    histograma_media = histogram(medias_muestrales, legend=false, bins=10)\n",
    "    \n",
    "    estimada_media = fit(Normal, medias_muestrales)\n",
    "    PDF_media = plot(x -> pdf(estimada_media,x), 0, 6, labels=\"Estimada\", ylim=(0,2.5))\n",
    "    plot!(PDF_media, x -> pdf(Normal(2,2/sqrt(n)),x), 0, 6, labels=\"Limite\")\n",
    "    \n",
    "    \n",
    "    plot(histograma_muestra, histograma_media, \n",
    "    PDF_población, PDF_media, grid=false,\n",
    "         xlim=(0,6), yticks=nothing, layout=grid(2,2), title=\"n = $n\")\n",
    "    frame(animación)\n",
    "end\n",
    "\n",
    "gif(animación, \"TCL.gif\", fps=1)"
   ]
  },
  {
   "cell_type": "markdown",
   "metadata": {},
   "source": [
    "### Distribución T"
   ]
  },
  {
   "cell_type": "markdown",
   "metadata": {},
   "source": [
    "La distribución T (de *Student*) con $n-1$ grados de libertad es la distribución que sigue la media de una muestra de tamaño $n$ cuando se le sustrae la media poblacional y se divide al valor restante por la desviación estándar de la muestra sobre $\\sqrt{n}$, sólo si la población de la cual se obtiene la muestra tiene una **distribución normal**. \n",
    "$$t = \\frac{\\overline{X_{n}}-\\mu}{\\frac{S_{n}}{\\sqrt{n}}}$$"
   ]
  },
  {
   "cell_type": "code",
   "execution_count": 13,
   "metadata": {
    "collapsed": false
   },
   "outputs": [
    {
     "data": {
      "text/latex": [
       "\\begin{verbatim}\n",
       "TDist(ν)\n",
       "\\end{verbatim}\n",
       "The \\emph{Students T distribution} with \\texttt{ν} degrees of freedom has probability density function\n",
       "$$f(x; d) = \\frac{1}{\\sqrt{d} B(1/2, d/2)}\n",
       "\\left( 1 + \\frac{x^2}{d} \\right)^{-\\frac{d + 1}{2}}$$\\begin{verbatim}\n",
       "TDist(d)      # t-distribution with d degrees of freedom\n",
       "\n",
       "params(d)     # Get the parameters, i.e. (d,)\n",
       "dof(d)        # Get the degrees of freedom, i.e. d\n",
       "\\end{verbatim}\n",
       "External links\n",
       "\\href{https://en.wikipedia.org/wiki/Student%27s_t-distribution}{Student's T distribution on Wikipedia}\n"
      ],
      "text/markdown": [
       "```\n",
       "TDist(ν)\n",
       "```\n",
       "\n",
       "The *Students T distribution* with `ν` degrees of freedom has probability density function\n",
       "\n",
       "$f(x; d) = \\frac{1}{\\sqrt{d} B(1/2, d/2)}\n",
       "\\left( 1 + \\frac{x^2}{d} \\right)^{-\\frac{d + 1}{2}}$\n",
       "```julia\n",
       "TDist(d)      # t-distribution with d degrees of freedom\n",
       "\n",
       "params(d)     # Get the parameters, i.e. (d,)\n",
       "dof(d)        # Get the degrees of freedom, i.e. d\n",
       "```\n",
       "\n",
       "External links\n",
       "\n",
       "[Student's T distribution on Wikipedia](https://en.wikipedia.org/wiki/Student%27s_t-distribution)\n"
      ],
      "text/plain": [
       "```\n",
       "TDist(ν)\n",
       "```\n",
       "\n",
       "The *Students T distribution* with `ν` degrees of freedom has probability density function\n",
       "\n",
       "$f(x; d) = \\frac{1}{\\sqrt{d} B(1/2, d/2)}\n",
       "\\left( 1 + \\frac{x^2}{d} \\right)^{-\\frac{d + 1}{2}}$\n",
       "```julia\n",
       "TDist(d)      # t-distribution with d degrees of freedom\n",
       "\n",
       "params(d)     # Get the parameters, i.e. (d,)\n",
       "dof(d)        # Get the degrees of freedom, i.e. d\n",
       "```\n",
       "\n",
       "External links\n",
       "\n",
       "[Student's T distribution on Wikipedia](https://en.wikipedia.org/wiki/Student%27s_t-distribution)\n"
      ]
     },
     "execution_count": 13,
     "metadata": {},
     "output_type": "execute_result"
    }
   ],
   "source": [
    "?Distributions.TDist"
   ]
  },
  {
   "cell_type": "markdown",
   "metadata": {},
   "source": [
    "La distribución T converge hacia una distribución normal $\\mathcal{N}(0,1)$ cuando $n \\rightarrow \\infty$."
   ]
  },
  {
   "cell_type": "code",
   "execution_count": 30,
   "metadata": {
    "collapsed": false
   },
   "outputs": [
    {
     "name": "stderr",
     "output_type": "stream",
     "text": [
      "\u001b[1m\u001b[34mINFO: Saved animation to /home/dzea/.julia/v0.5/AnalisisDeDatosCualitativos/material/TStudent.gif\n",
      "\u001b[0m"
     ]
    },
    {
     "data": {
      "text/html": [
       "<img src=\"TStudent.gif?0.3232405096623989>\" />"
      ],
      "text/plain": [
       "Plots.AnimatedGif(\"/home/dzea/.julia/v0.5/AnalisisDeDatosCualitativos/material/TStudent.gif\")"
      ]
     },
     "execution_count": 30,
     "metadata": {},
     "output_type": "execute_result"
    }
   ],
   "source": [
    "animación = Animation()\n",
    "\n",
    "@animate for n in 2:1:50\n",
    "    x = -6.0:0.01:6.0\n",
    "    plt = plot(x, x -> pdf(Normal(0,1), x), label=\"Normal(0,1)\", xlim=(-6,6))\n",
    "    plot!(plt, x, x -> pdf(TDist(n-1), x), label=\"n = $n\")\n",
    "    frame(animación)\n",
    "end\n",
    "\n",
    "gif(animación, \"TStudent.gif\", fps=2)"
   ]
  },
  {
   "cell_type": "markdown",
   "metadata": {},
   "source": [
    "### Binomial"
   ]
  },
  {
   "cell_type": "markdown",
   "metadata": {
    "collapsed": true
   },
   "source": [
    "La distribución binomial se utiliza con variables categóricas que sólo pueden tomar dos valores (dicotómicas) los cuales suelen denominarse *éxito* (`1`, `true`) y *fracaso* (`0`, `false`) generalmente (aunque no estén relacionados con la idea de éxito). El número de éxitos productos de $n$ ensayos (*ensayos de Bernoulli*) sigue una distribución binomial con parámetros $n$ y $p$, donde $p$ es la probabilidad de éxitos.  \n",
    "La distribución Binomial(n,p) asumen que el valor de $n$ fue fijado y que $p$ es igual en cada uno de los $n$ ensayos. Es decir que **ensayos idénticos** (mismo $p$) e **independientes** dado que un ensayo no afecta a la probabilidad de otro."
   ]
  },
  {
   "cell_type": "code",
   "execution_count": 31,
   "metadata": {
    "collapsed": false
   },
   "outputs": [
    {
     "data": {
      "text/markdown": [
       "```\n",
       "Binomial(n,p)\n",
       "```\n",
       "\n",
       "A *Binomial distribution* characterizes the number of successes in a sequence of independent trials. It has two parameters: `n`, the number of trials, and `p`, the probability of success in an individual trial, with the distribution:\n",
       "\n",
       "$$\n",
       "P(X = k) = {n \\choose k}p^k(1-p)^{n-k},  \\quad \\text{ for } k = 0,1,2, \\ldots, n.\n",
       "$$\n",
       "\n",
       "```julia\n",
       "Binomial()      # Binomial distribution with n = 1 and p = 0.5\n",
       "Binomial(n)     # Binomial distribution for n trials with success rate p = 0.5\n",
       "Binomial(n, p)  # Binomial distribution for n trials with success rate p\n",
       "\n",
       "params(d)       # Get the parameters, i.e. (n, p)\n",
       "ntrials(d)      # Get the number of trials, i.e. n\n",
       "succprob(d)     # Get the success rate, i.e. p\n",
       "failprob(d)     # Get the failure rate, i.e. 1 - p\n",
       "```\n",
       "\n",
       "External links:\n",
       "\n",
       "  * [Binomial distribution on Wikipedia](http://en.wikipedia.org/wiki/Binomial_distribution)\n"
      ],
      "text/plain": [
       "```\n",
       "Binomial(n,p)\n",
       "```\n",
       "\n",
       "A *Binomial distribution* characterizes the number of successes in a sequence of independent trials. It has two parameters: `n`, the number of trials, and `p`, the probability of success in an individual trial, with the distribution:\n",
       "\n",
       "$$\n",
       "P(X = k) = {n \\choose k}p^k(1-p)^{n-k},  \\quad \\text{ for } k = 0,1,2, \\ldots, n.\n",
       "$$\n",
       "\n",
       "```julia\n",
       "Binomial()      # Binomial distribution with n = 1 and p = 0.5\n",
       "Binomial(n)     # Binomial distribution for n trials with success rate p = 0.5\n",
       "Binomial(n, p)  # Binomial distribution for n trials with success rate p\n",
       "\n",
       "params(d)       # Get the parameters, i.e. (n, p)\n",
       "ntrials(d)      # Get the number of trials, i.e. n\n",
       "succprob(d)     # Get the success rate, i.e. p\n",
       "failprob(d)     # Get the failure rate, i.e. 1 - p\n",
       "```\n",
       "\n",
       "External links:\n",
       "\n",
       "  * [Binomial distribution on Wikipedia](http://en.wikipedia.org/wiki/Binomial_distribution)\n"
      ]
     },
     "execution_count": 31,
     "metadata": {},
     "output_type": "execute_result"
    }
   ],
   "source": [
    "?Distributions.Binomial"
   ]
  },
  {
   "cell_type": "code",
   "execution_count": 32,
   "metadata": {
    "collapsed": false
   },
   "outputs": [
    {
     "data": {
      "text/plain": [
       "Distributions.Binomial{Float64}(n=10, p=0.5)"
      ]
     },
     "execution_count": 32,
     "metadata": {},
     "output_type": "execute_result"
    }
   ],
   "source": [
    "B = Binomial(10,0.5) # ej. Tirar 10 veces una moneda, éxito = cara"
   ]
  },
  {
   "cell_type": "code",
   "execution_count": 33,
   "metadata": {
    "collapsed": false
   },
   "outputs": [
    {
     "data": {
      "text/html": [
       "<img src=\"data:image/png;base64,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\" />"
      ]
     },
     "execution_count": 33,
     "metadata": {},
     "output_type": "execute_result"
    }
   ],
   "source": [
    "plot(\n",
    "    scatter(0:1:10, x -> pdf(B, x), label=\"PDF\"),\n",
    "    scatter(0:1:10, x -> cdf(B, x), label=\"CDF\")\n",
    ")"
   ]
  },
  {
   "cell_type": "code",
   "execution_count": 34,
   "metadata": {
    "collapsed": false
   },
   "outputs": [
    {
     "data": {
      "text/plain": [
       "0.04394531249999996"
      ]
     },
     "execution_count": 34,
     "metadata": {},
     "output_type": "execute_result"
    }
   ],
   "source": [
    "pdf(B, 8) # Probabilidad de obtener 8 veces cara (8 éxitos)"
   ]
  },
  {
   "cell_type": "code",
   "execution_count": 36,
   "metadata": {
    "collapsed": false
   },
   "outputs": [
    {
     "data": {
      "text/plain": [
       "0.010742187500000007"
      ]
     },
     "execution_count": 36,
     "metadata": {},
     "output_type": "execute_result"
    }
   ],
   "source": [
    "ccdf(B, 8) # Probabilidad de obtener 8 o más veces cara (8 o más éxitos)"
   ]
  },
  {
   "cell_type": "code",
   "execution_count": 37,
   "metadata": {
    "collapsed": false
   },
   "outputs": [
    {
     "name": "stderr",
     "output_type": "stream",
     "text": [
      "\u001b[1m\u001b[34mINFO: Precompiling module RCall.\n",
      "\u001b[0m\u001b[1m\u001b[34mINFO: Using R installation at /usr/lib/R\n",
      "\u001b[0m"
     ]
    }
   ],
   "source": [
    "using RCall"
   ]
  },
  {
   "cell_type": "code",
   "execution_count": 38,
   "metadata": {
    "collapsed": false
   },
   "outputs": [
    {
     "data": {
      "text/plain": [
       "RCall.RObject{RCall.RealSxp}\n",
       "[1] 0.04394531\n"
      ]
     },
     "execution_count": 38,
     "metadata": {},
     "output_type": "execute_result"
    }
   ],
   "source": [
    "R\"dbinom(8,10,0.5)\" # PDF de una distribución Binomial con n=10 (size) y p=0.5 (prob), d es por density "
   ]
  },
  {
   "cell_type": "code",
   "execution_count": 39,
   "metadata": {
    "collapsed": false
   },
   "outputs": [
    {
     "data": {
      "text/plain": [
       "RCall.RObject{RCall.RealSxp}\n",
       "[1] 0.01074219\n"
      ]
     },
     "execution_count": 39,
     "metadata": {},
     "output_type": "execute_result"
    }
   ],
   "source": [
    "R\"1 - pbinom(8,10,0.5)\" # CDF de la distribución Binomial con n=10 (size) y p=0.5 (prob)"
   ]
  },
  {
   "cell_type": "markdown",
   "metadata": {},
   "source": [
    "### Distribución Multinomial"
   ]
  },
  {
   "cell_type": "markdown",
   "metadata": {},
   "source": [
    "La distribución multinomial es una generalización de la **distribución binomial**, pudiendo representar más de dos categorías. Para $n$ ensayos independientes que pueden dar un *éxito* solo en una de $k$ categorías, teniendo cada categoría una probabilidad de éxito fija, la distribución multinomial da la probabilidad de una combinación de números de éxitos particular para varias categorías. Los parámetros de la distribución multinomial son $n$ y la probabilidad de éxito $p_{k}$ de cada categoría $k$."
   ]
  },
  {
   "cell_type": "markdown",
   "metadata": {},
   "source": [
    "#### ¿Cuál es la probabilidad de obtener generala servida?"
   ]
  },
  {
   "cell_type": "code",
   "execution_count": 40,
   "metadata": {
    "collapsed": false
   },
   "outputs": [
    {
     "data": {
      "text/plain": [
       "6-element Array{Float64,1}:\n",
       " 0.166667\n",
       " 0.166667\n",
       " 0.166667\n",
       " 0.166667\n",
       " 0.166667\n",
       " 0.166667"
      ]
     },
     "execution_count": 40,
     "metadata": {},
     "output_type": "execute_result"
    }
   ],
   "source": [
    "pₖ = [ 1/6 for i in 1:6 ] # Cada cara/categoría es equiprobable (k puede 1, 2, 3, 4, 5 o 6)"
   ]
  },
  {
   "cell_type": "code",
   "execution_count": 41,
   "metadata": {
    "collapsed": false
   },
   "outputs": [],
   "source": [
    "using Base.Test\n",
    "\n",
    "@test_approx_eq sum(pₖ) 1.0 # La suma de pₖ para todos los valores de k debe ser 1"
   ]
  },
  {
   "cell_type": "code",
   "execution_count": 42,
   "metadata": {
    "collapsed": false
   },
   "outputs": [
    {
     "data": {
      "text/plain": [
       "Distributions.Multinomial{Float64}(n=5, p=[0.166667,0.166667,0.166667,0.166667,0.166667,0.166667])"
      ]
     },
     "execution_count": 42,
     "metadata": {},
     "output_type": "execute_result"
    }
   ],
   "source": [
    "distribución = Multinomial(5, pₖ) # Se tiran 5 dados (n = 5, cada dado es independiente)"
   ]
  },
  {
   "cell_type": "code",
   "execution_count": 43,
   "metadata": {
    "collapsed": false
   },
   "outputs": [
    {
     "data": {
      "text/plain": [
       "0.0007716049382716055"
      ]
     },
     "execution_count": 43,
     "metadata": {},
     "output_type": "execute_result"
    }
   ],
   "source": [
    "# Generala son 5 veces la misma cara. \n",
    "# Hay una generala posible por cada cara.\n",
    "P_generala = 6 * pdf(distribución, [5,0,0,0,0,0]) "
   ]
  },
  {
   "cell_type": "markdown",
   "metadata": {},
   "source": [
    "##### Tomando muestras de la distribución"
   ]
  },
  {
   "cell_type": "markdown",
   "metadata": {},
   "source": [
    "Una manera de estimar la misma probabilidad, es tomar muestras randoms generadas a partir de esa distribución multinomial y contar la cantidad de veces que aparece una generala. Sería equivalente a tomar cinco dados, lanzarlos un número `N` de veces y contar la cantidad de veces que obtenemos una generala y para dividir ese número por `N`."
   ]
  },
  {
   "cell_type": "code",
   "execution_count": 44,
   "metadata": {
    "collapsed": false
   },
   "outputs": [
    {
     "data": {
      "text/plain": [
       "6×10000 Array{Int64,2}:\n",
       " 0  0  1  1  1  4  1  1  3  1  1  1  1  …  2  3  1  1  1  2  1  1  1  0  1  0\n",
       " 2  1  0  0  0  0  0  3  0  2  0  1  1     3  0  2  2  2  2  2  1  0  2  1  1\n",
       " 0  3  1  1  2  0  2  0  0  0  0  3  1     0  0  1  1  0  0  0  0  1  0  1  0\n",
       " 0  0  0  2  2  0  0  0  0  0  1  0  0     0  0  1  0  0  1  0  1  0  0  1  2\n",
       " 3  1  1  0  0  0  2  1  1  2  0  0  2     0  1  0  1  1  0  1  1  0  3  0  1\n",
       " 0  0  2  1  0  1  0  0  1  0  3  0  0  …  0  1  0  0  1  0  1  1  3  0  1  1"
      ]
     },
     "execution_count": 44,
     "metadata": {},
     "output_type": "execute_result"
    }
   ],
   "source": [
    "N = 10_000\n",
    "muestras = rand(distribución, N) # Cada columna es una muestra"
   ]
  },
  {
   "cell_type": "code",
   "execution_count": 45,
   "metadata": {
    "collapsed": false
   },
   "outputs": [
    {
     "data": {
      "text/plain": [
       "1×10000 Array{Int64,2}:\n",
       " 0  0  0  0  0  0  0  0  0  0  0  0  0  …  0  0  0  0  0  0  0  0  0  0  0  0"
      ]
     },
     "execution_count": 45,
     "metadata": {},
     "output_type": "execute_result"
    }
   ],
   "source": [
    "generalas = sum(muestras .== 5, 1)"
   ]
  },
  {
   "cell_type": "code",
   "execution_count": 46,
   "metadata": {
    "collapsed": false
   },
   "outputs": [
    {
     "data": {
      "text/plain": [
       "0.0009"
      ]
     },
     "execution_count": 46,
     "metadata": {},
     "output_type": "execute_result"
    }
   ],
   "source": [
    "mean(generalas)"
   ]
  },
  {
   "cell_type": "markdown",
   "metadata": {},
   "source": [
    "Notar que al final tenemos una variable aleatoria categórica dicotómica, es o no es generala. La cual se muestrea `N` veces, en `N` ensayos de Bernoulli idénticos e independientes. Por lo tanto, el número total de generalas obtenidas sigue una distribución `Binomial(N,P_generala)`."
   ]
  },
  {
   "cell_type": "code",
   "execution_count": 53,
   "metadata": {
    "collapsed": false
   },
   "outputs": [
    {
     "data": {
      "text/plain": [
       "1000-element Array{Float64,1}:\n",
       "  4.0\n",
       "  5.0\n",
       " 14.0\n",
       " 11.0\n",
       "  8.0\n",
       "  5.0\n",
       "  8.0\n",
       "  6.0\n",
       " 10.0\n",
       "  7.0\n",
       "  6.0\n",
       "  7.0\n",
       "  3.0\n",
       "  ⋮  \n",
       "  4.0\n",
       "  4.0\n",
       "  4.0\n",
       " 14.0\n",
       "  5.0\n",
       "  5.0\n",
       "  5.0\n",
       "  7.0\n",
       "  5.0\n",
       "  6.0\n",
       "  9.0\n",
       "  7.0"
      ]
     },
     "execution_count": 53,
     "metadata": {},
     "output_type": "execute_result"
    }
   ],
   "source": [
    "muestras_de_muestras = Float64[ sum(rand(distribución, N) .== 5)  for i in 1:1000 ]"
   ]
  },
  {
   "cell_type": "code",
   "execution_count": 54,
   "metadata": {
    "collapsed": false
   },
   "outputs": [
    {
     "data": {
      "text/html": [
       "<img src=\"data:image/png;base64,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\" />"
      ]
     },
     "execution_count": 54,
     "metadata": {},
     "output_type": "execute_result"
    }
   ],
   "source": [
    "valor_esperado = N * P_generala\n",
    "\n",
    "histograma = histogram(muestras_de_muestras, bins=20)\n",
    "vline!(histograma, [valor_esperado])\n",
    "\n",
    "binomial = scatter(0:20, x -> pdf(Binomial(N,P_generala), x), label=\"Binomial\", ylim=(0,0.2))\n",
    "vline!(binomial, [valor_esperado])\n",
    "\n",
    "plot(histograma, binomial, xlim=(0,20))"
   ]
  },
  {
   "cell_type": "markdown",
   "metadata": {},
   "source": [
    "## Poisson "
   ]
  },
  {
   "cell_type": "code",
   "execution_count": 55,
   "metadata": {
    "collapsed": false
   },
   "outputs": [
    {
     "name": "stdout",
     "output_type": "stream",
     "text": [
      "search: \u001b[1mP\u001b[22m\u001b[1mo\u001b[22m\u001b[1mi\u001b[22m\u001b[1ms\u001b[22m\u001b[1ms\u001b[22m\u001b[1mo\u001b[22m\u001b[1mn\u001b[22m \u001b[1mP\u001b[22m\u001b[1mo\u001b[22m\u001b[1mi\u001b[22m\u001b[1ms\u001b[22m\u001b[1ms\u001b[22m\u001b[1mo\u001b[22m\u001b[1mn\u001b[22mBinomial\n",
      "\n"
     ]
    },
    {
     "data": {
      "text/markdown": [
       "```\n",
       "Poisson(λ)\n",
       "```\n",
       "\n",
       "A *Poisson distribution* descibes the number of independent events occurring within a unit time interval, given the average rate of occurrence `λ`.\n",
       "\n",
       "$$\n",
       "P(X = k) = \\frac{\\lambda^k}{k!} e^{-\\lambda}, \\quad \\text{ for } k = 0,1,2,\\ldots.\n",
       "$$\n",
       "\n",
       "```julia\n",
       "Poisson()        # Poisson distribution with rate parameter 1\n",
       "Poisson(lambda)       # Poisson distribution with rate parameter lambda\n",
       "\n",
       "params(d)        # Get the parameters, i.e. (λ,)\n",
       "mean(d)          # Get the mean arrival rate, i.e. λ\n",
       "```\n",
       "\n",
       "External links:\n",
       "\n",
       "  * [Poisson distribution on Wikipedia](http://en.wikipedia.org/wiki/Poisson_distribution)\n"
      ],
      "text/plain": [
       "```\n",
       "Poisson(λ)\n",
       "```\n",
       "\n",
       "A *Poisson distribution* descibes the number of independent events occurring within a unit time interval, given the average rate of occurrence `λ`.\n",
       "\n",
       "$$\n",
       "P(X = k) = \\frac{\\lambda^k}{k!} e^{-\\lambda}, \\quad \\text{ for } k = 0,1,2,\\ldots.\n",
       "$$\n",
       "\n",
       "```julia\n",
       "Poisson()        # Poisson distribution with rate parameter 1\n",
       "Poisson(lambda)       # Poisson distribution with rate parameter lambda\n",
       "\n",
       "params(d)        # Get the parameters, i.e. (λ,)\n",
       "mean(d)          # Get the mean arrival rate, i.e. λ\n",
       "```\n",
       "\n",
       "External links:\n",
       "\n",
       "  * [Poisson distribution on Wikipedia](http://en.wikipedia.org/wiki/Poisson_distribution)\n"
      ]
     },
     "execution_count": 55,
     "metadata": {},
     "output_type": "execute_result"
    }
   ],
   "source": [
    "?Poisson"
   ]
  },
  {
   "cell_type": "code",
   "execution_count": 56,
   "metadata": {
    "collapsed": false
   },
   "outputs": [
    {
     "name": "stderr",
     "output_type": "stream",
     "text": [
      "\u001b[1m\u001b[34mINFO: Saved animation to /home/dzea/.julia/v0.5/AnalisisDeDatosCualitativos/material/Poisson_mu.gif\n",
      "\u001b[0m"
     ]
    },
    {
     "data": {
      "text/html": [
       "<img src=\"Poisson_mu.gif?0.012334725429612003>\" />"
      ],
      "text/plain": [
       "Plots.AnimatedGif(\"/home/dzea/.julia/v0.5/AnalisisDeDatosCualitativos/material/Poisson_mu.gif\")"
      ]
     },
     "execution_count": 56,
     "metadata": {},
     "output_type": "execute_result"
    }
   ],
   "source": [
    "animación = Animation()\n",
    "\n",
    "@animate for λ in 1:15 # λ > 0\n",
    "    \n",
    "    PDF = scatter(0:30, x -> pdf(Poisson(λ), x), label=λ)\n",
    "    CDF = scatter(0:30, x -> cdf(Poisson(λ), x), label=λ)\n",
    "    \n",
    "    vline!(PDF, [λ]); vline!(CDF, [λ])\n",
    "    plot(PDF, CDF)\n",
    "    frame(animación)\n",
    "end\n",
    "\n",
    "gif(animación, \"Poisson_mu.gif\", fps=1)"
   ]
  }
 ],
 "metadata": {
  "kernelspec": {
   "display_name": "Julia 0.5.0",
   "language": "julia",
   "name": "julia-0.5"
  },
  "language_info": {
   "file_extension": ".jl",
   "mimetype": "application/julia",
   "name": "julia",
   "version": "0.5.0"
  }
 },
 "nbformat": 4,
 "nbformat_minor": 0
}
