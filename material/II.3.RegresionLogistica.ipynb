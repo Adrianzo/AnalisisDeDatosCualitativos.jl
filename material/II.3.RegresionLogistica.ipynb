{
 "cells": [
  {
   "cell_type": "markdown",
   "metadata": {},
   "source": [
    "### Unidad II. Regresiones y reducción de dimensionalidad.\n",
    "\n",
    "## Análisis de Regresión Logística.\n",
    "\n",
    "- Curvas ROC."
   ]
  },
  {
   "cell_type": "markdown",
   "metadata": {},
   "source": [
    "#### Lectura de datos"
   ]
  },
  {
   "cell_type": "markdown",
   "metadata": {},
   "source": [
    "Puedo leer la tabla desde un archivo [*csv (comma-separated values)*](https://en.wikipedia.org/wiki/Comma-separated_values) (por ejemplo, exportado de Excel) usando [`readtable` de *DataFrames*](http://juliastats.github.io/DataFrames.jl/stable/)"
   ]
  },
  {
   "cell_type": "code",
   "execution_count": 1,
   "metadata": {
    "collapsed": false
   },
   "outputs": [
    {
     "data": {
      "text/html": [
       "<table class=\"data-frame\"><tr><th></th><th>Sex</th><th>WrHnd</th><th>NWHnd</th><th>WHnd</th><th>Fold</th><th>Pulse</th><th>Clap</th><th>Exer</th><th>Smoke</th><th>Height</th><th>MI</th><th>Age</th></tr><tr><th>1</th><td>Female</td><td>18.5</td><td>18.0</td><td>Right</td><td>R on L</td><td>92</td><td>Left</td><td>Some</td><td>Never</td><td>173.0</td><td>Metric</td><td>18.25</td></tr><tr><th>2</th><td>Male</td><td>19.5</td><td>20.5</td><td>Left</td><td>R on L</td><td>104</td><td>Left</td><td>None</td><td>Regul</td><td>177.8</td><td>Imperial</td><td>17.583</td></tr><tr><th>3</th><td>Male</td><td>18.0</td><td>13.3</td><td>Right</td><td>L on R</td><td>87</td><td>Neither</td><td>None</td><td>Occas</td><td>NaN</td><td>NA</td><td>16.917</td></tr><tr><th>4</th><td>Male</td><td>18.8</td><td>18.9</td><td>Right</td><td>R on L</td><td>NA</td><td>Neither</td><td>None</td><td>Never</td><td>160.0</td><td>Metric</td><td>20.333</td></tr><tr><th>5</th><td>Male</td><td>20.0</td><td>20.0</td><td>Right</td><td>Neither</td><td>35</td><td>Right</td><td>Some</td><td>Never</td><td>165.0</td><td>Metric</td><td>23.667</td></tr><tr><th>6</th><td>Female</td><td>18.0</td><td>17.7</td><td>Right</td><td>L on R</td><td>64</td><td>Right</td><td>Some</td><td>Never</td><td>172.72</td><td>Imperial</td><td>21.0</td></tr></table>"
      ],
      "text/plain": [
       "6×12 DataFrames.DataFrame\n",
       "│ Row │ Sex      │ WrHnd │ NWHnd │ WHnd    │ Fold      │ Pulse │ Clap      │\n",
       "├─────┼──────────┼───────┼───────┼─────────┼───────────┼───────┼───────────┤\n",
       "│ 1   │ \"Female\" │ 18.5  │ 18.0  │ \"Right\" │ \"R on L\"  │ 92    │ \"Left\"    │\n",
       "│ 2   │ \"Male\"   │ 19.5  │ 20.5  │ \"Left\"  │ \"R on L\"  │ 104   │ \"Left\"    │\n",
       "│ 3   │ \"Male\"   │ 18.0  │ 13.3  │ \"Right\" │ \"L on R\"  │ 87    │ \"Neither\" │\n",
       "│ 4   │ \"Male\"   │ 18.8  │ 18.9  │ \"Right\" │ \"R on L\"  │ NA    │ \"Neither\" │\n",
       "│ 5   │ \"Male\"   │ 20.0  │ 20.0  │ \"Right\" │ \"Neither\" │ 35    │ \"Right\"   │\n",
       "│ 6   │ \"Female\" │ 18.0  │ 17.7  │ \"Right\" │ \"L on R\"  │ 64    │ \"Right\"   │\n",
       "\n",
       "│ Row │ Exer   │ Smoke   │ Height │ MI         │ Age    │\n",
       "├─────┼────────┼─────────┼────────┼────────────┼────────┤\n",
       "│ 1   │ \"Some\" │ \"Never\" │ 173.0  │ \"Metric\"   │ 18.25  │\n",
       "│ 2   │ \"None\" │ \"Regul\" │ 177.8  │ \"Imperial\" │ 17.583 │\n",
       "│ 3   │ \"None\" │ \"Occas\" │ NaN    │ NA         │ 16.917 │\n",
       "│ 4   │ \"None\" │ \"Never\" │ 160.0  │ \"Metric\"   │ 20.333 │\n",
       "│ 5   │ \"Some\" │ \"Never\" │ 165.0  │ \"Metric\"   │ 23.667 │\n",
       "│ 6   │ \"Some\" │ \"Never\" │ 172.72 │ \"Imperial\" │ 21.0   │"
      ]
     },
     "execution_count": 1,
     "metadata": {},
     "output_type": "execute_result"
    }
   ],
   "source": [
    "using DataFrames\n",
    "survey = readtable(\"survey.csv\")\n",
    "head(survey)"
   ]
  },
  {
   "cell_type": "markdown",
   "metadata": {},
   "source": [
    "Para este análisis los `NaN` ([*not a number*](https://en.wikipedia.org/wiki/NaN)) pueden ser tomados como valores faltantes: `NA` (*not available*)"
   ]
  },
  {
   "cell_type": "code",
   "execution_count": 2,
   "metadata": {
    "collapsed": false
   },
   "outputs": [
    {
     "data": {
      "text/html": [
       "<table class=\"data-frame\"><tr><th></th><th>Sex</th><th>WrHnd</th><th>NWHnd</th><th>WHnd</th><th>Fold</th><th>Pulse</th><th>Clap</th><th>Exer</th><th>Smoke</th><th>Height</th><th>MI</th><th>Age</th></tr><tr><th>1</th><td>Female</td><td>18.5</td><td>18.0</td><td>Right</td><td>R on L</td><td>92</td><td>Left</td><td>Some</td><td>Never</td><td>173.0</td><td>Metric</td><td>18.25</td></tr><tr><th>2</th><td>Male</td><td>19.5</td><td>20.5</td><td>Left</td><td>R on L</td><td>104</td><td>Left</td><td>None</td><td>Regul</td><td>177.8</td><td>Imperial</td><td>17.583</td></tr><tr><th>3</th><td>Male</td><td>18.0</td><td>13.3</td><td>Right</td><td>L on R</td><td>87</td><td>Neither</td><td>None</td><td>Occas</td><td>NA</td><td>NA</td><td>16.917</td></tr><tr><th>4</th><td>Male</td><td>18.8</td><td>18.9</td><td>Right</td><td>R on L</td><td>NA</td><td>Neither</td><td>None</td><td>Never</td><td>160.0</td><td>Metric</td><td>20.333</td></tr><tr><th>5</th><td>Male</td><td>20.0</td><td>20.0</td><td>Right</td><td>Neither</td><td>35</td><td>Right</td><td>Some</td><td>Never</td><td>165.0</td><td>Metric</td><td>23.667</td></tr><tr><th>6</th><td>Female</td><td>18.0</td><td>17.7</td><td>Right</td><td>L on R</td><td>64</td><td>Right</td><td>Some</td><td>Never</td><td>172.72</td><td>Imperial</td><td>21.0</td></tr></table>"
      ],
      "text/plain": [
       "6×12 DataFrames.DataFrame\n",
       "│ Row │ Sex      │ WrHnd │ NWHnd │ WHnd    │ Fold      │ Pulse │ Clap      │\n",
       "├─────┼──────────┼───────┼───────┼─────────┼───────────┼───────┼───────────┤\n",
       "│ 1   │ \"Female\" │ 18.5  │ 18.0  │ \"Right\" │ \"R on L\"  │ 92    │ \"Left\"    │\n",
       "│ 2   │ \"Male\"   │ 19.5  │ 20.5  │ \"Left\"  │ \"R on L\"  │ 104   │ \"Left\"    │\n",
       "│ 3   │ \"Male\"   │ 18.0  │ 13.3  │ \"Right\" │ \"L on R\"  │ 87    │ \"Neither\" │\n",
       "│ 4   │ \"Male\"   │ 18.8  │ 18.9  │ \"Right\" │ \"R on L\"  │ NA    │ \"Neither\" │\n",
       "│ 5   │ \"Male\"   │ 20.0  │ 20.0  │ \"Right\" │ \"Neither\" │ 35    │ \"Right\"   │\n",
       "│ 6   │ \"Female\" │ 18.0  │ 17.7  │ \"Right\" │ \"L on R\"  │ 64    │ \"Right\"   │\n",
       "\n",
       "│ Row │ Exer   │ Smoke   │ Height │ MI         │ Age    │\n",
       "├─────┼────────┼─────────┼────────┼────────────┼────────┤\n",
       "│ 1   │ \"Some\" │ \"Never\" │ 173.0  │ \"Metric\"   │ 18.25  │\n",
       "│ 2   │ \"None\" │ \"Regul\" │ 177.8  │ \"Imperial\" │ 17.583 │\n",
       "│ 3   │ \"None\" │ \"Occas\" │ NA     │ NA         │ 16.917 │\n",
       "│ 4   │ \"None\" │ \"Never\" │ 160.0  │ \"Metric\"   │ 20.333 │\n",
       "│ 5   │ \"Some\" │ \"Never\" │ 165.0  │ \"Metric\"   │ 23.667 │\n",
       "│ 6   │ \"Some\" │ \"Never\" │ 172.72 │ \"Imperial\" │ 21.0   │"
      ]
     },
     "execution_count": 2,
     "metadata": {},
     "output_type": "execute_result"
    }
   ],
   "source": [
    "survey = readtable(\"survey.csv\", nastrings=[\"\",\"NA\",\"NaN\"])\n",
    "head(survey)"
   ]
  },
  {
   "cell_type": "markdown",
   "metadata": {},
   "source": [
    "### [Regresión Logística](https://en.wikipedia.org/wiki/Logistic_regression)"
   ]
  },
  {
   "cell_type": "markdown",
   "metadata": {},
   "source": [
    "Supongamos, que partiendo de los datos de la encuesta queremos generar un modelo que nos permita clasificar hombres y mujeres dependiendo de su altura.  \n",
    "Podríamos darle un valor numérico a hombres y mujeres (`0`, `1`), para luego realizar una regresión lineal que permita predecir estos valores.  \n",
    "Cómo no disponemos de la posibilidad de conseguir nuevos datos (por ejemplo, no podemos permitirnos una segunda encuesta), vamos a hacer esta primera exploración en una porción del *dataset*.  "
   ]
  },
  {
   "cell_type": "code",
   "execution_count": 3,
   "metadata": {
    "collapsed": false
   },
   "outputs": [
    {
     "data": {
      "text/html": [
       "<table class=\"data-frame\"><tr><th></th><th>Sex</th><th>Height</th></tr><tr><th>1</th><td>Female</td><td>173.0</td></tr><tr><th>2</th><td>Male</td><td>177.8</td></tr><tr><th>3</th><td>Male</td><td>NA</td></tr><tr><th>4</th><td>Male</td><td>160.0</td></tr><tr><th>5</th><td>Male</td><td>165.0</td></tr><tr><th>6</th><td>Female</td><td>172.72</td></tr></table>"
      ],
      "text/plain": [
       "6×2 DataFrames.DataFrame\n",
       "│ Row │ Sex      │ Height │\n",
       "├─────┼──────────┼────────┤\n",
       "│ 1   │ \"Female\" │ 173.0  │\n",
       "│ 2   │ \"Male\"   │ 177.8  │\n",
       "│ 3   │ \"Male\"   │ NA     │\n",
       "│ 4   │ \"Male\"   │ 160.0  │\n",
       "│ 5   │ \"Male\"   │ 165.0  │\n",
       "│ 6   │ \"Female\" │ 172.72 │"
      ]
     },
     "execution_count": 3,
     "metadata": {},
     "output_type": "execute_result"
    }
   ],
   "source": [
    "subset = survey[:,[:Sex,:Height]] # Me quedo con las columnas de interés\n",
    "head(subset)"
   ]
  },
  {
   "cell_type": "code",
   "execution_count": 4,
   "metadata": {
    "collapsed": false
   },
   "outputs": [
    {
     "data": {
      "text/html": [
       "<table class=\"data-frame\"><tr><th></th><th>Sex</th><th>Height</th></tr><tr><th>1</th><td>Female</td><td>173.0</td></tr><tr><th>2</th><td>Male</td><td>177.8</td></tr><tr><th>3</th><td>Male</td><td>160.0</td></tr><tr><th>4</th><td>Male</td><td>165.0</td></tr><tr><th>5</th><td>Female</td><td>172.72</td></tr><tr><th>6</th><td>Male</td><td>182.88</td></tr></table>"
      ],
      "text/plain": [
       "6×2 DataFrames.DataFrame\n",
       "│ Row │ Sex      │ Height │\n",
       "├─────┼──────────┼────────┤\n",
       "│ 1   │ \"Female\" │ 173.0  │\n",
       "│ 2   │ \"Male\"   │ 177.8  │\n",
       "│ 3   │ \"Male\"   │ 160.0  │\n",
       "│ 4   │ \"Male\"   │ 165.0  │\n",
       "│ 5   │ \"Female\" │ 172.72 │\n",
       "│ 6   │ \"Male\"   │ 182.88 │"
      ]
     },
     "execution_count": 4,
     "metadata": {},
     "output_type": "execute_result"
    }
   ],
   "source": [
    "complete_cases!(subset) # Elimina las filas que tienen al menos un NA\n",
    "head(subset)"
   ]
  },
  {
   "cell_type": "markdown",
   "metadata": {},
   "source": [
    "Le doy un valor numérico a hombres y mujeres (`0`, `1`)"
   ]
  },
  {
   "cell_type": "code",
   "execution_count": 5,
   "metadata": {
    "collapsed": false
   },
   "outputs": [
    {
     "data": {
      "text/html": [
       "<table class=\"data-frame\"><tr><th></th><th>Sex</th><th>Height</th></tr><tr><th>1</th><td>1</td><td>173.0</td></tr><tr><th>2</th><td>0</td><td>177.8</td></tr><tr><th>3</th><td>0</td><td>160.0</td></tr><tr><th>4</th><td>0</td><td>165.0</td></tr><tr><th>5</th><td>1</td><td>172.72</td></tr><tr><th>6</th><td>0</td><td>182.88</td></tr></table>"
      ],
      "text/plain": [
       "6×2 DataFrames.DataFrame\n",
       "│ Row │ Sex │ Height │\n",
       "├─────┼─────┼────────┤\n",
       "│ 1   │ 1   │ 173.0  │\n",
       "│ 2   │ 0   │ 177.8  │\n",
       "│ 3   │ 0   │ 160.0  │\n",
       "│ 4   │ 0   │ 165.0  │\n",
       "│ 5   │ 1   │ 172.72 │\n",
       "│ 6   │ 0   │ 182.88 │"
      ]
     },
     "execution_count": 5,
     "metadata": {},
     "output_type": "execute_result"
    }
   ],
   "source": [
    "subset[:Sex] = [ sex == \"Male\" ? 0 : 1 for sex in subset[:Sex]]\n",
    "head(subset)"
   ]
  },
  {
   "cell_type": "code",
   "execution_count": 7,
   "metadata": {
    "collapsed": false
   },
   "outputs": [
    {
     "data": {
      "text/plain": [
       "208"
      ]
     },
     "execution_count": 7,
     "metadata": {},
     "output_type": "execute_result"
    }
   ],
   "source": [
    "N = nrow(subset)"
   ]
  },
  {
   "cell_type": "code",
   "execution_count": 61,
   "metadata": {
    "collapsed": false
   },
   "outputs": [
    {
     "data": {
      "text/plain": [
       "6"
      ]
     },
     "execution_count": 61,
     "metadata": {},
     "output_type": "execute_result"
    }
   ],
   "source": [
    "div(N,30)"
   ]
  },
  {
   "cell_type": "markdown",
   "metadata": {},
   "source": [
    "Para evitar [**hipótesis post hoc**](https://en.wikipedia.org/wiki/Testing_hypotheses_suggested_by_the_data), y para poder entrenar nuestro clasificador sin [**overfitting**](https://en.wikipedia.org/wiki/Overfitting), usaremos una estrategia de <a href=”https://en.wikipedia.org/wiki/Cross-validation_(statistics)”>**cross validation**</a>. En este caso será un 6-fold cross-validation (para poder tener cerca de 30 puntos en casa grupo de prueba) estratificado (para poder conservar la proporción de hombres y mujeres en cada grupo de datos) usando [MLBase](http://mlbasejl.readthedocs.io/en/latest/crossval.html).\n"
   ]
  },
  {
   "cell_type": "code",
   "execution_count": 32,
   "metadata": {
    "collapsed": true
   },
   "outputs": [],
   "source": [
    "using MLBase"
   ]
  },
  {
   "cell_type": "code",
   "execution_count": 54,
   "metadata": {
    "collapsed": false
   },
   "outputs": [
    {
     "data": {
      "text/plain": [
       "MLBase.StratifiedKfold(208,[[111,110,58,122,129,10,62,206,142,60  …  131,97,101,104,192,144,26,37,152,132],[112,137,160,118,180,161,32,207,44,84  …  162,94,76,154,130,183,59,141,165,135]],6,[17.0,17.666666666666668])"
      ]
     },
     "execution_count": 54,
     "metadata": {},
     "output_type": "execute_result"
    }
   ],
   "source": [
    "cv = StratifiedKfold(subset[:Sex], 6)"
   ]
  },
  {
   "cell_type": "code",
   "execution_count": 55,
   "metadata": {
    "collapsed": false
   },
   "outputs": [
    {
     "data": {
      "text/plain": [
       "6-element Array{Any,1}:\n",
       " [1,2,3,4,5,6,7,8,9,11  …  196,197,199,200,201,202,203,204,205,208]  \n",
       " [1,2,3,4,6,8,9,10,11,12  …  198,199,200,201,203,204,205,206,207,208]\n",
       " [2,3,4,5,6,7,9,10,11,12  …  196,197,198,200,201,202,204,206,207,208]\n",
       " [1,2,3,4,5,7,8,10,11,12  …  197,198,199,200,202,203,204,205,206,207]\n",
       " [1,2,5,6,7,8,9,10,13,14  …  197,198,199,201,202,203,205,206,207,208]\n",
       " [1,3,4,5,6,7,8,9,10,11  …  199,200,201,202,203,204,205,206,207,208] "
      ]
     },
     "execution_count": 55,
     "metadata": {},
     "output_type": "execute_result"
    }
   ],
   "source": [
    "índices_cv = collect(cv)"
   ]
  },
  {
   "cell_type": "code",
   "execution_count": 56,
   "metadata": {
    "collapsed": false
   },
   "outputs": [
    {
     "name": "stdout",
     "output_type": "stream",
     "text": [
      "Sex\n",
      "Min      0.0\n",
      "1st Qu.  0.0\n",
      "Median   0.0\n",
      "Mean     0.4913294797687861\n",
      "3rd Qu.  1.0\n",
      "Max      1.0\n",
      "NAs      0\n",
      "NA%      0.0%\n",
      "\n",
      "Height\n",
      "Min      150.0\n",
      "1st Qu.  165.0\n",
      "Median   170.18\n",
      "Mean     172.06820809248555\n",
      "3rd Qu.  180.0\n",
      "Max      200.0\n",
      "NAs      0\n",
      "NA%      0.0%\n",
      "\n"
     ]
    }
   ],
   "source": [
    "índices_exploración = índices_cv[1]\n",
    "exploración = subset[índices_exploración,:]\n",
    "\n",
    "describe(exploración)"
   ]
  },
  {
   "cell_type": "code",
   "execution_count": 57,
   "metadata": {
    "collapsed": false
   },
   "outputs": [
    {
     "data": {
      "text/plain": [
       "Plots.PyPlotBackend()"
      ]
     },
     "execution_count": 57,
     "metadata": {},
     "output_type": "execute_result"
    }
   ],
   "source": [
    "using Plots\n",
    "pyplot(size=(400,200))"
   ]
  },
  {
   "cell_type": "code",
   "execution_count": 58,
   "metadata": {
    "collapsed": false
   },
   "outputs": [],
   "source": [
    "using GLM\n",
    "using Distributions"
   ]
  },
  {
   "cell_type": "code",
   "execution_count": 59,
   "metadata": {
    "collapsed": false
   },
   "outputs": [
    {
     "data": {
      "text/plain": [
       "DataFrames.DataFrameRegressionModel{GLM.GeneralizedLinearModel{GLM.GlmResp{Array{Float64,1},Distributions.Normal{Float64},GLM.IdentityLink},GLM.DensePredChol{Float64,Base.LinAlg.Cholesky{Float64,Array{Float64,2}}}},Float64}\n",
       "\n",
       "Formula: Sex ~ 1 + Height\n",
       "\n",
       "Coefficients:\n",
       "               Estimate  Std.Error  z value Pr(>|z|)\n",
       "(Intercept)     6.21358   0.502169  12.3735   <1e-34\n",
       "Height       -0.0332557 0.00291363 -11.4139   <1e-29\n"
      ]
     },
     "execution_count": 59,
     "metadata": {},
     "output_type": "execute_result"
    }
   ],
   "source": [
    "lineal = glm(Sex ~ Height, exploración, Normal(), IdentityLink())"
   ]
  },
  {
   "cell_type": "code",
   "execution_count": 60,
   "metadata": {
    "collapsed": false
   },
   "outputs": [
    {
     "data": {
      "text/html": [
       "<img src=\"data:image/png;base64,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\" />"
      ]
     },
     "execution_count": 60,
     "metadata": {},
     "output_type": "execute_result"
    }
   ],
   "source": [
    "reg_plot = scatter(exploración, :Height, :Sex)\n",
    "Plots.abline!(reg_plot, coef(lineal)[2], coef(lineal)[1])\n",
    "\n",
    "residuos = exploración[:Sex] - predict(lineal)\n",
    "normal = Normal(0,std(residuos))\n",
    "res_plot = histogram(residuos, bins=10, normed=true)\n",
    "plot!(res_plot, res -> pdf(normal, res), minimum(residuos), maximum(residuos))\n",
    "\n",
    "plot(reg_plot, res_plot, legend=false)"
   ]
  },
  {
   "cell_type": "markdown",
   "metadata": {},
   "source": [
    "En clase anteriores vimos que en caso de no disponer de un test estadístico en Julia, podíamos usar los tests implementados en R usando RCall. También es posible acceder desde Julia a los tests implementados en **Python** usando la biblioteca [**PyCall**](https://github.com/stevengj/PyCall.jl). En este caso por ejemplo, para testear la normalidad de los residuos usando la implementación de la [prueba de Shapiro en **SciPy**](http://docs.scipy.org/doc/scipy/reference/generated/scipy.stats.shapiro.html), y si la media de los residuos es 0 usando la [prueba T de Student para una muestra](http://docs.scipy.org/doc/scipy-0.17.0/reference/generated/scipy.stats.ttest_1samp.html)."
   ]
  },
  {
   "cell_type": "code",
   "execution_count": 62,
   "metadata": {
    "collapsed": true
   },
   "outputs": [],
   "source": [
    "using PyCall"
   ]
  },
  {
   "cell_type": "code",
   "execution_count": 63,
   "metadata": {
    "collapsed": true
   },
   "outputs": [],
   "source": [
    "@pyimport scipy.stats as stats"
   ]
  },
  {
   "cell_type": "code",
   "execution_count": 64,
   "metadata": {
    "collapsed": false
   },
   "outputs": [
    {
     "data": {
      "text/plain": [
       "(0.9760165810585022,0.004342208616435528)"
      ]
     },
     "execution_count": 64,
     "metadata": {},
     "output_type": "execute_result"
    }
   ],
   "source": [
    "stats.shapiro(residuos) # W, P"
   ]
  },
  {
   "cell_type": "code",
   "execution_count": 70,
   "metadata": {
    "collapsed": false
   },
   "outputs": [
    {
     "data": {
      "text/plain": [
       "(0-dimensional Array{Float64,0}:\n",
       "1.46592e-14,0.9999999999999883)"
      ]
     },
     "execution_count": 70,
     "metadata": {},
     "output_type": "execute_result"
    }
   ],
   "source": [
    "stats.ttest_1samp(residuos, 0) # T, P"
   ]
  },
  {
   "cell_type": "markdown",
   "metadata": {},
   "source": [
    "Tratando de predecir una variable dependiente binaria, es fácil quebrar la hipótesis de normalidad de los residuos (como sucede en este caso). Una alternativa es reemplazar la predicción lineal por una **función sigmoide** que sirva para predecir las probabilidades de 1, de manera que todo lo que se prediga por encima de 0.5 sea un 1 y el resto un 0.  \n",
    "\n",
    "[**Función sigmoide**](https://en.wikipedia.org/wiki/Sigmoid_function):  \n",
    "\n",
    "$$S(t) = \\frac{1}{1+e^{-t}} = \\frac{e^{t}}{e^{t}+1}$$\n"
   ]
  },
  {
   "cell_type": "code",
   "execution_count": 117,
   "metadata": {
    "collapsed": false
   },
   "outputs": [
    {
     "data": {
      "text/plain": [
       "S (generic function with 1 method)"
      ]
     },
     "execution_count": 117,
     "metadata": {},
     "output_type": "execute_result"
    }
   ],
   "source": [
    "S(t) = 1/(1+exp(-t))"
   ]
  },
  {
   "cell_type": "code",
   "execution_count": 121,
   "metadata": {
    "collapsed": false
   },
   "outputs": [
    {
     "data": {
      "text/html": [
       "<img src=\"data:image/png;base64,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\" />"
      ]
     },
     "execution_count": 121,
     "metadata": {},
     "output_type": "execute_result"
    }
   ],
   "source": [
    "plot(S,-5, 5, legend=false)"
   ]
  },
  {
   "cell_type": "markdown",
   "metadata": {},
   "source": [
    "La [**función logística**](https://es.wikipedia.org/wiki/Funci%C3%B3n_log%C3%ADstica) la obtenemos reemplazando $t$ por una ecuación lineal:\n",
    "\n",
    "$$L(x) = \\frac{1}{1+e^{-(\\alpha+\\beta_{1}X_{1})}}$$"
   ]
  },
  {
   "cell_type": "markdown",
   "metadata": {},
   "source": [
    "En este contexto la usaremos para calcular la probabilidad de nuestra variable dependiente $Y$ (`:Sex`) tome una de las categorías (*Female* en este caso):"
   ]
  },
  {
   "cell_type": "code",
   "execution_count": 169,
   "metadata": {
    "collapsed": false
   },
   "outputs": [
    {
     "data": {
      "text/plain": [
       "Py (generic function with 1 method)"
      ]
     },
     "execution_count": 169,
     "metadata": {},
     "output_type": "execute_result"
    }
   ],
   "source": [
    "Py(x,α,β) = 1/(1+exp(-(α+β*x)))"
   ]
  },
  {
   "cell_type": "code",
   "execution_count": 170,
   "metadata": {
    "collapsed": false
   },
   "outputs": [
    {
     "name": "stderr",
     "output_type": "stream",
     "text": [
      "WARNING: redefining constant libwand\n",
      "INFO: Saved animation to /home/dzea/.julia/v0.4/AnalisisDeDatosCualitativos/material/logit_beta.gif\n"
     ]
    },
    {
     "data": {
      "text/html": [
       "<img src=\"logit_beta.gif?0.5372152644253776>\" />"
      ],
      "text/plain": [
       "Plots.AnimatedGif(\"/home/dzea/.julia/v0.4/AnalisisDeDatosCualitativos/material/logit_beta.gif\")"
      ]
     },
     "execution_count": 170,
     "metadata": {},
     "output_type": "execute_result"
    }
   ],
   "source": [
    "anim = @animate for β=filter!(x -> x != 0, collect(-10:10))\n",
    "    plot(x -> Py(x,0,β), -5, 5, label=β)\n",
    "end\n",
    "gif(anim, \"logit_beta.gif\", fps = 1)"
   ]
  },
  {
   "cell_type": "code",
   "execution_count": 171,
   "metadata": {
    "collapsed": false
   },
   "outputs": [
    {
     "name": "stderr",
     "output_type": "stream",
     "text": [
      "WARNING: redefining constant libwand\n",
      "INFO: Saved animation to /home/dzea/.julia/v0.4/AnalisisDeDatosCualitativos/material/logit_alpha.gif\n"
     ]
    },
    {
     "data": {
      "text/html": [
       "<img src=\"logit_alpha.gif?0.16230139030038004>\" />"
      ],
      "text/plain": [
       "Plots.AnimatedGif(\"/home/dzea/.julia/v0.4/AnalisisDeDatosCualitativos/material/logit_alpha.gif\")"
      ]
     },
     "execution_count": 171,
     "metadata": {},
     "output_type": "execute_result"
    }
   ],
   "source": [
    "anim = @animate for α=-5:1:5\n",
    "    β = 2\n",
    "    inflexión = -α/β\n",
    "    plot(x -> Py(x,α,β), -5, 5, label=α)\n",
    "    vline!([inflexión], label=inflexión)\n",
    "    hline!([0.5], label=\"0.5\")\n",
    "end\n",
    "gif(anim, \"logit_alpha.gif\", fps = 1)"
   ]
  },
  {
   "cell_type": "markdown",
   "metadata": {},
   "source": [
    "Los [*odds* o **chances**](https://en.wikipedia.org/wiki/Odds) de un evento se determinan dividiendo la probabilidad de que suceda el evento sobre la probabilidad de que el evento no suceda. \n"
   ]
  },
  {
   "cell_type": "markdown",
   "metadata": {},
   "source": [
    "$$ odds = \\frac{P_{Y}}{1-P_{Y}} $$"
   ]
  },
  {
   "cell_type": "code",
   "execution_count": 184,
   "metadata": {
    "collapsed": false
   },
   "outputs": [
    {
     "data": {
      "text/plain": [
       "odds (generic function with 1 method)"
      ]
     },
     "execution_count": 184,
     "metadata": {},
     "output_type": "execute_result"
    }
   ],
   "source": [
    "odds(x,α,β) = Py(x,α,β)/(1-Py(x,α,β))"
   ]
  },
  {
   "cell_type": "markdown",
   "metadata": {},
   "source": [
    "La función [**logit**](https://en.wikipedia.org/wiki/Logit) es la inversa de la función logística, se calcula tomando el logaritmo natural de los *odds*. Nos permite transformar la función logística a la función lineal que contenía."
   ]
  },
  {
   "cell_type": "markdown",
   "metadata": {},
   "source": [
    "$$ logit = ln(odds) = \\alpha+\\beta_{1}X_{1} $$"
   ]
  },
  {
   "cell_type": "code",
   "execution_count": 185,
   "metadata": {
    "collapsed": false
   },
   "outputs": [
    {
     "data": {
      "text/plain": [
       "log_odds (generic function with 1 method)"
      ]
     },
     "execution_count": 185,
     "metadata": {},
     "output_type": "execute_result"
    }
   ],
   "source": [
    "log_odds(x,α,β) = log(odds(x,α,β)) # logit"
   ]
  },
  {
   "cell_type": "code",
   "execution_count": 198,
   "metadata": {
    "collapsed": false
   },
   "outputs": [
    {
     "name": "stderr",
     "output_type": "stream",
     "text": [
      "WARNING: redefining constant libwand\n",
      "INFO: Saved animation to /home/dzea/.julia/v0.4/AnalisisDeDatosCualitativos/material/logit.gif\n"
     ]
    },
    {
     "data": {
      "text/html": [
       "<img src=\"logit.gif?0.5797539637286546>\" />"
      ],
      "text/plain": [
       "Plots.AnimatedGif(\"/home/dzea/.julia/v0.4/AnalisisDeDatosCualitativos/material/logit.gif\")"
      ]
     },
     "execution_count": 198,
     "metadata": {},
     "output_type": "execute_result"
    }
   ],
   "source": [
    "anim = @animate for α=-5:1:5\n",
    "    β = 1\n",
    "    plot(x -> Py(x,α,β), -5, 5, label=\"Py\", ylim=(0,1)),\n",
    "    plot!(x -> odds(x,α,β), -5, 5, label=\"odds\"),\n",
    "    plot!(x -> log_odds(x,α,β), -5, 5, label=\"logit\")\n",
    "end\n",
    "gif(anim, \"logit.gif\", fps = 1)"
   ]
  },
  {
   "cell_type": "markdown",
   "metadata": {},
   "source": [
    "Dado que nuestra variable dependiente $Y$ sólo tiene dos valores posibles (0,1), sigue una distribución de [**Bernoulli**](https://en.wikipedia.org/wiki/Bernoulli_trial). Se usará la [**link function**](https://en.wikipedia.org/wiki/Generalized_linear_model#Link_function) *logit* para hacer la transformación del valor esperado de $Y$ en nuestra [**GLM**](https://en.wikipedia.org/wiki/Logistic_regression#As_a_generalized_linear_model)."
   ]
  },
  {
   "cell_type": "code",
   "execution_count": 213,
   "metadata": {
    "collapsed": false
   },
   "outputs": [
    {
     "data": {
      "text/plain": [
       "DataFrames.DataFrameRegressionModel{GLM.GeneralizedLinearModel{GLM.GlmResp{Array{Float64,1},Distributions.Bernoulli,GLM.LogitLink},GLM.DensePredChol{Float64,Base.LinAlg.Cholesky{Float64,Array{Float64,2}}}},Float64}\n",
       "\n",
       "Formula: Sex ~ 1 + Height\n",
       "\n",
       "Coefficients:\n",
       "              Estimate Std.Error  z value Pr(>|z|)\n",
       "(Intercept)      40.97   6.39326  6.40832    <1e-9\n",
       "Height       -0.239204 0.0373992 -6.39597    <1e-9\n"
      ]
     },
     "execution_count": 213,
     "metadata": {},
     "output_type": "execute_result"
    }
   ],
   "source": [
    "logística = glm(Sex ~ Height, exploración, Bernoulli(), LogitLink())"
   ]
  },
  {
   "cell_type": "code",
   "execution_count": 214,
   "metadata": {
    "collapsed": false
   },
   "outputs": [
    {
     "data": {
      "text/plain": [
       "2-element Array{Float64,1}:\n",
       " 40.97    \n",
       " -0.239204"
      ]
     },
     "execution_count": 214,
     "metadata": {},
     "output_type": "execute_result"
    }
   ],
   "source": [
    "coef(logística)"
   ]
  },
  {
   "cell_type": "code",
   "execution_count": 215,
   "metadata": {
    "collapsed": false
   },
   "outputs": [
    {
     "data": {
      "text/plain": [
       "-0.2392042418014837"
      ]
     },
     "execution_count": 215,
     "metadata": {},
     "output_type": "execute_result"
    }
   ],
   "source": [
    "α = coef(logística)[1]\n",
    "β = coef(logística)[2]"
   ]
  },
  {
   "cell_type": "code",
   "execution_count": 216,
   "metadata": {
    "collapsed": false,
    "scrolled": true
   },
   "outputs": [
    {
     "data": {
      "text/html": [
       "<img src=\"data:image/png;base64,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\" />"
      ]
     },
     "execution_count": 216,
     "metadata": {},
     "output_type": "execute_result"
    }
   ],
   "source": [
    "scatter(exploración, :Height, :Sex, alpha=0.25, legend=false)\n",
    "plot!(x -> Py(x,α,β))\n",
    "vline!([-α/β])"
   ]
  },
  {
   "cell_type": "code",
   "execution_count": 217,
   "metadata": {
    "collapsed": true
   },
   "outputs": [],
   "source": [
    "using RCall"
   ]
  },
  {
   "cell_type": "code",
   "execution_count": 221,
   "metadata": {
    "collapsed": false
   },
   "outputs": [
    {
     "data": {
      "text/plain": [
       "RCall.RObject{RCall.VecSxp}\n",
       "\n",
       "Call:  glm(formula = Sex ~ Height, family = binomial(link = \"logit\"), \n",
       "    data = `#JL`$exploracion)\n",
       "\n",
       "Coefficients:\n",
       "(Intercept)       Height  \n",
       "    40.9700      -0.2392  \n",
       "\n",
       "Degrees of Freedom: 172 Total (i.e. Null);  171 Residual\n",
       "Null Deviance:\t    239.8 \n",
       "Residual Deviance: 142.6 \tAIC: 146.6\n"
      ]
     },
     "execution_count": 221,
     "metadata": {},
     "output_type": "execute_result"
    }
   ],
   "source": [
    "exploracion = exploración # R no soporta Unicode\n",
    "\n",
    "R\"\"\"\n",
    "logistica <- glm(Sex ~ Height, $exploracion, family = binomial(link = \"logit\"))\n",
    "\"\"\""
   ]
  },
  {
   "cell_type": "code",
   "execution_count": 222,
   "metadata": {
    "collapsed": false
   },
   "outputs": [
    {
     "data": {
      "text/plain": [
       "RCall.RObject{RCall.VecSxp}\n",
       "\n",
       "Call:\n",
       "glm(formula = Sex ~ Height, family = binomial(link = \"logit\"), \n",
       "    data = `#JL`$exploracion)\n",
       "\n",
       "Deviance Residuals: \n",
       "     Min        1Q    Median        3Q       Max  \n",
       "-2.80271  -0.48368  -0.07345   0.64121   2.13373  \n",
       "\n",
       "Coefficients:\n",
       "            Estimate Std. Error z value Pr(>|z|)    \n",
       "(Intercept)  40.9700     6.1023   6.714 1.90e-11 ***\n",
       "Height       -0.2392     0.0357  -6.701 2.07e-11 ***\n",
       "---\n",
       "Signif. codes:  0 ‘***’ 0.001 ‘**’ 0.01 ‘*’ 0.05 ‘.’ 0.1 ‘ ’ 1\n",
       "\n",
       "(Dispersion parameter for binomial family taken to be 1)\n",
       "\n",
       "    Null deviance: 239.78  on 172  degrees of freedom\n",
       "Residual deviance: 142.59  on 171  degrees of freedom\n",
       "AIC: 146.59\n",
       "\n",
       "Number of Fisher Scoring iterations: 5\n",
       "\n"
      ]
     },
     "execution_count": 222,
     "metadata": {},
     "output_type": "execute_result"
    }
   ],
   "source": [
    "R\"summary(logistica)\""
   ]
  },
  {
   "cell_type": "markdown",
   "metadata": {},
   "source": [
    "### ¿Qué tan buena es nuestra predicción? [*Matriz de confusión*](https://en.wikipedia.org/wiki/Confusion_matrix)"
   ]
  },
  {
   "cell_type": "code",
   "execution_count": 273,
   "metadata": {
    "collapsed": false
   },
   "outputs": [
    {
     "data": {
      "text/plain": [
       "2x2 NamedArray{Int64,2}:\n",
       "Dim1 ╲ Dim2 │ false   true\n",
       "────────────┼─────────────\n",
       "0           │    69     19\n",
       "1           │    14     71"
      ]
     },
     "execution_count": 273,
     "metadata": {},
     "output_type": "execute_result"
    }
   ],
   "source": [
    "predicción = predict(logística) # Py\n",
    "\n",
    "clasificación = predicción .>= 0.5 # true: Female, false: Male\n",
    "\n",
    "using FreqTables\n",
    "\n",
    "tabla = freqtable(exploración[:Sex], clasificación)"
   ]
  },
  {
   "cell_type": "markdown",
   "metadata": {},
   "source": [
    "|            |      Nₚ    |     Pₚ     |\n",
    "|------------|------------|------------|\n",
    "|   **N**        |    TN      |   FP       |\n",
    "|   **P**        |    FN      |   TP       |"
   ]
  },
  {
   "cell_type": "code",
   "execution_count": 274,
   "metadata": {
    "collapsed": false
   },
   "outputs": [
    {
     "name": "stderr",
     "output_type": "stream",
     "text": [
      "WARNING: Dropping mismatching names\n"
     ]
    },
    {
     "data": {
      "text/plain": [
       "2x2 Array{Float64,2}:\n",
       " 0.784091  0.215909\n",
       " 0.164706  0.835294"
      ]
     },
     "execution_count": 274,
     "metadata": {},
     "output_type": "execute_result"
    }
   ],
   "source": [
    "P = tabla ./ sum(tabla,2) # P(predicción|realidad)"
   ]
  },
  {
   "cell_type": "markdown",
   "metadata": {},
   "source": [
    "|            |      Nₚ    |     Pₚ     |\n",
    "|------------|------------|------------|\n",
    "|   **N**        |      TNR, [Especificidad](https://en.wikipedia.org/wiki/Sensitivity_and_specificity)    |   FPR      |\n",
    "|   **P**        |      FNR   |   TPR, [Sensibilidad, *Recall*](https://en.wikipedia.org/wiki/Precision_and_recall)       |"
   ]
  },
  {
   "cell_type": "code",
   "execution_count": 275,
   "metadata": {
    "collapsed": false
   },
   "outputs": [
    {
     "name": "stderr",
     "output_type": "stream",
     "text": [
      "WARNING: Dropping mismatching names\n"
     ]
    },
    {
     "data": {
      "text/plain": [
       "2x2 Array{Float64,2}:\n",
       " 0.831325  0.211111\n",
       " 0.168675  0.788889"
      ]
     },
     "execution_count": 275,
     "metadata": {},
     "output_type": "execute_result"
    }
   ],
   "source": [
    "P = tabla ./ sum(tabla,1) # P(realidad|predicción)"
   ]
  },
  {
   "cell_type": "markdown",
   "metadata": {},
   "source": [
    "|            |      Nₚ    |     Pₚ     |\n",
    "|------------|------------|------------|\n",
    "|   **N**        |      Negative predictive value (NPV)    |   False discovery rate (FDR)      |\n",
    "|   **P**        |      False omission rate (FOR)   |   Positive predictive value (PPV), Precisión       |"
   ]
  },
  {
   "cell_type": "markdown",
   "metadata": {},
   "source": [
    "### [ROC](https://en.wikipedia.org/wiki/Receiver_operating_characteristic)"
   ]
  },
  {
   "cell_type": "code",
   "execution_count": 245,
   "metadata": {
    "collapsed": true
   },
   "outputs": [],
   "source": [
    "# Pkg.clone(\"https://github.com/JuliaML/MLPlots.jl.git\")\n",
    "using ROCAnalysis\n",
    "using MLPlots"
   ]
  },
  {
   "cell_type": "code",
   "execution_count": 246,
   "metadata": {
    "collapsed": false
   },
   "outputs": [
    {
     "data": {
      "text/plain": [
       "88-element Array{Float64,1}:\n",
       " 0.173575  \n",
       " 0.936869  \n",
       " 0.817771  \n",
       " 0.0586539 \n",
       " 0.29096   \n",
       " 0.735538  \n",
       " 0.0586539 \n",
       " 0.00996765\n",
       " 0.20276   \n",
       " 0.00996765\n",
       " 0.102654  \n",
       " 0.102654  \n",
       " 0.0454961 \n",
       " ⋮         \n",
       " 0.244174  \n",
       " 0.980309  \n",
       " 0.342646  \n",
       " 0.936869  \n",
       " 0.817771  \n",
       " 0.817771  \n",
       " 0.575736  \n",
       " 0.0179795 \n",
       " 0.516517  \n",
       " 0.0361671 \n",
       " 0.0361671 \n",
       " 0.102654  "
      ]
     },
     "execution_count": 246,
     "metadata": {},
     "output_type": "execute_result"
    }
   ],
   "source": [
    "objetivo    = predicción[ exploración[:Sex] .== 1 ]\n",
    "no_objetivo = predicción[ exploración[:Sex] .== 0 ]"
   ]
  },
  {
   "cell_type": "code",
   "execution_count": 254,
   "metadata": {
    "collapsed": false
   },
   "outputs": [
    {
     "data": {
      "text/plain": [
       "ROCAnalysis.Roc{Float64}([1.0,0.670455,0.579545,0.443182,0.431818,0.352273,0.306818,0.295455,0.284091,0.261364  …  0.125,0.113636,0.0909091,0.0909091,0.0340909,0.0340909,0.0113636,0.0113636,0.0,0.0],[0.0,0.0,0.0117647,0.0117647,0.0235294,0.0235294,0.0352941,0.0705882,0.0705882,0.0941176  …  0.364706,0.4,0.458824,0.529412,0.635294,0.8,0.823529,0.952941,0.964706,1.0],Bool[true,true,false,true,false,true,true,false,false,false  …  false,false,false,false,true,false,true,false,true,true],[0.00103654,0.102654,0.110392,0.166819,0.173575,0.278298,0.29096,0.342646,0.398356,0.414513  …  0.686478,0.704707,0.735538,0.75814,0.817771,0.850753,0.936869,0.949624,0.980309,0.985966],[-Inf,-2.96105,-2.96105,-2.04476,-2.04476,-1.35161,0.0346856,0.0346856,0.0346856,0.0346856  …  1.19784,1.19784,1.19784,1.19784,1.19784,2.11413,2.11413,2.51959,2.51959,Inf])"
      ]
     },
     "execution_count": 254,
     "metadata": {},
     "output_type": "execute_result"
    }
   ],
   "source": [
    "R = ROCAnalysis.roc(objetivo, no_objetivo)"
   ]
  },
  {
   "cell_type": "code",
   "execution_count": 255,
   "metadata": {
    "collapsed": false
   },
   "outputs": [
    {
     "data": {
      "text/html": [
       "<img src=\"data:image/png;base64,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\" />"
      ]
     },
     "execution_count": 255,
     "metadata": {},
     "output_type": "execute_result"
    }
   ],
   "source": [
    "plot(R, xlab=\"1 - Especificidad\", ylab=\"Sensibilidad\")"
   ]
  },
  {
   "cell_type": "code",
   "execution_count": 251,
   "metadata": {
    "collapsed": false
   },
   "outputs": [
    {
     "data": {
      "text/plain": [
       "0.8880347593582888"
      ]
     },
     "execution_count": 251,
     "metadata": {},
     "output_type": "execute_result"
    }
   ],
   "source": [
    "1- auc(R)"
   ]
  },
  {
   "cell_type": "markdown",
   "metadata": {},
   "source": [
    "#### Entrenamiento"
   ]
  },
  {
   "cell_type": "code",
   "execution_count": 295,
   "metadata": {
    "collapsed": false
   },
   "outputs": [
    {
     "data": {
      "text/plain": [
       "6-element Array{Float64,1}:\n",
       "  83.3333\n",
       "  94.4444\n",
       "  82.3529\n",
       "  66.6667\n",
       " 100.0   \n",
       "  83.3333"
      ]
     },
     "execution_count": 295,
     "metadata": {},
     "output_type": "execute_result"
    }
   ],
   "source": [
    "coeficientes = []\n",
    "\n",
    "entrenar(indices) = glm(Sex ~ Height, subset[indices,:], Bernoulli(), LogitLink())\n",
    "\n",
    "function evaluar(modelo, indices)\n",
    "    α = coef(modelo)[1]\n",
    "    β = coef(modelo)[2]\n",
    "    push!(coeficientes, [α, β]) # Guardo los coeficientes\n",
    "    limite = -α/β\n",
    "    real = subset[indices,:Sex] .== 0\n",
    "    predicción = subset[indices,:Height] .>= limite\n",
    "    100*sum(predicción & real)/sum(predicción)# PPV = TP / Pₚ\n",
    "end\n",
    "\n",
    "scores = cross_validate(\n",
    "    entrenar,\n",
    "    evaluar,\n",
    "    nrow(subset), # N\n",
    "    cv) # cross validation: 6-fold estratificado"
   ]
  },
  {
   "cell_type": "code",
   "execution_count": 296,
   "metadata": {
    "collapsed": false
   },
   "outputs": [
    {
     "data": {
      "text/plain": [
       "(85.02178649237473,11.514063314387228)"
      ]
     },
     "execution_count": 296,
     "metadata": {},
     "output_type": "execute_result"
    }
   ],
   "source": [
    "mean_and_std(scores)"
   ]
  },
  {
   "cell_type": "code",
   "execution_count": 304,
   "metadata": {
    "collapsed": false
   },
   "outputs": [
    {
     "data": {
      "text/plain": [
       "6x2 Array{Float64,2}:\n",
       " 40.97    -0.239204\n",
       " 38.8941  -0.226742\n",
       " 43.3611  -0.252254\n",
       " 48.6654  -0.283875\n",
       " 43.7918  -0.254528\n",
       " 44.9678  -0.262037"
      ]
     },
     "execution_count": 304,
     "metadata": {},
     "output_type": "execute_result"
    }
   ],
   "source": [
    "coeficientes = hcat(coeficientes...)'"
   ]
  },
  {
   "cell_type": "code",
   "execution_count": 317,
   "metadata": {
    "collapsed": false
   },
   "outputs": [
    {
     "data": {
      "text/plain": [
       "(43.44169427458678,-0.2531068206454732)"
      ]
     },
     "execution_count": 317,
     "metadata": {},
     "output_type": "execute_result"
    }
   ],
   "source": [
    "α, β = (mean(coeficientes, 1)...)"
   ]
  },
  {
   "cell_type": "code",
   "execution_count": 319,
   "metadata": {
    "collapsed": false
   },
   "outputs": [
    {
     "data": {
      "text/html": [
       "<img src=\"data:image/png;base64,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\" />"
      ]
     },
     "execution_count": 319,
     "metadata": {},
     "output_type": "execute_result"
    }
   ],
   "source": [
    "plt = scatter(exploración, :Height, :Sex, alpha=0.25, legend=false, ylim=(0,1))\n",
    "for i in 1:size(coeficientes,1)\n",
    "    alpha = coeficientes[i,1]\n",
    "    beta = coeficientes[i,2]\n",
    "    plot!(plt, x -> Py(x,alpha,beta), alpha=0.5, c=colorant\"gray\")\n",
    "    vline!(plt, [-alpha/beta], alpha=0.5, c=colorant\"gray\")\n",
    "end\n",
    "plot!(plt, x -> Py(x,α,β), c=colorant\"green\")\n",
    "vline!(plt, [-α/β], c=colorant\"green\")"
   ]
  },
  {
   "cell_type": "markdown",
   "metadata": {},
   "source": [
    "### Múltiples variables independientes"
   ]
  },
  {
   "cell_type": "code",
   "execution_count": 325,
   "metadata": {
    "collapsed": false
   },
   "outputs": [
    {
     "data": {
      "text/html": [
       "<table class=\"data-frame\"><tr><th></th><th>Sex</th><th>WrHnd</th><th>NWHnd</th><th>WHnd</th><th>Fold</th><th>Pulse</th><th>Clap</th><th>Exer</th><th>Smoke</th><th>Height</th><th>MI</th><th>Age</th></tr><tr><th>1</th><td>true</td><td>18.5</td><td>18.0</td><td>Right</td><td>R on L</td><td>92</td><td>Left</td><td>Some</td><td>Never</td><td>173.0</td><td>Metric</td><td>18.25</td></tr><tr><th>2</th><td>false</td><td>19.5</td><td>20.5</td><td>Left</td><td>R on L</td><td>104</td><td>Left</td><td>None</td><td>Regul</td><td>177.8</td><td>Imperial</td><td>17.583</td></tr><tr><th>3</th><td>false</td><td>20.0</td><td>20.0</td><td>Right</td><td>Neither</td><td>35</td><td>Right</td><td>Some</td><td>Never</td><td>165.0</td><td>Metric</td><td>23.667</td></tr><tr><th>4</th><td>true</td><td>18.0</td><td>17.7</td><td>Right</td><td>L on R</td><td>64</td><td>Right</td><td>Some</td><td>Never</td><td>172.72</td><td>Imperial</td><td>21.0</td></tr><tr><th>5</th><td>false</td><td>17.7</td><td>17.7</td><td>Right</td><td>L on R</td><td>83</td><td>Right</td><td>Freq</td><td>Never</td><td>182.88</td><td>Imperial</td><td>18.833</td></tr><tr><th>6</th><td>true</td><td>17.0</td><td>17.3</td><td>Right</td><td>R on L</td><td>74</td><td>Right</td><td>Freq</td><td>Never</td><td>157.0</td><td>Metric</td><td>35.833</td></tr></table>"
      ],
      "text/plain": [
       "6×12 DataFrames.DataFrame\n",
       "│ Row │ Sex   │ WrHnd │ NWHnd │ WHnd    │ Fold      │ Pulse │ Clap    │ Exer   │\n",
       "├─────┼───────┼───────┼───────┼─────────┼───────────┼───────┼─────────┼────────┤\n",
       "│ 1   │ true  │ 18.5  │ 18.0  │ \"Right\" │ \"R on L\"  │ 92    │ \"Left\"  │ \"Some\" │\n",
       "│ 2   │ false │ 19.5  │ 20.5  │ \"Left\"  │ \"R on L\"  │ 104   │ \"Left\"  │ \"None\" │\n",
       "│ 3   │ false │ 20.0  │ 20.0  │ \"Right\" │ \"Neither\" │ 35    │ \"Right\" │ \"Some\" │\n",
       "│ 4   │ true  │ 18.0  │ 17.7  │ \"Right\" │ \"L on R\"  │ 64    │ \"Right\" │ \"Some\" │\n",
       "│ 5   │ false │ 17.7  │ 17.7  │ \"Right\" │ \"L on R\"  │ 83    │ \"Right\" │ \"Freq\" │\n",
       "│ 6   │ true  │ 17.0  │ 17.3  │ \"Right\" │ \"R on L\"  │ 74    │ \"Right\" │ \"Freq\" │\n",
       "\n",
       "│ Row │ Smoke   │ Height │ MI         │ Age    │\n",
       "├─────┼─────────┼────────┼────────────┼────────┤\n",
       "│ 1   │ \"Never\" │ 173.0  │ \"Metric\"   │ 18.25  │\n",
       "│ 2   │ \"Regul\" │ 177.8  │ \"Imperial\" │ 17.583 │\n",
       "│ 3   │ \"Never\" │ 165.0  │ \"Metric\"   │ 23.667 │\n",
       "│ 4   │ \"Never\" │ 172.72 │ \"Imperial\" │ 21.0   │\n",
       "│ 5   │ \"Never\" │ 182.88 │ \"Imperial\" │ 18.833 │\n",
       "│ 6   │ \"Never\" │ 157.0  │ \"Metric\"   │ 35.833 │"
      ]
     },
     "execution_count": 325,
     "metadata": {},
     "output_type": "execute_result"
    }
   ],
   "source": [
    "complete_cases!(survey)\n",
    "survey[:Sex] = survey[:Sex] .== \"Female\"\n",
    "head(survey)"
   ]
  },
  {
   "cell_type": "code",
   "execution_count": 326,
   "metadata": {
    "collapsed": false
   },
   "outputs": [
    {
     "data": {
      "text/plain": [
       "DataFrames.DataFrameRegressionModel{GLM.GeneralizedLinearModel{GLM.GlmResp{Array{Float64,1},Distributions.Binomial,GLM.LogitLink},GLM.DensePredChol{Float64,Base.LinAlg.Cholesky{Float64,Array{Float64,2}}}},Float64}\n",
       "\n",
       "Formula: Sex ~ 1 + Pulse + Height + Age\n",
       "\n",
       "Coefficients:\n",
       "               Estimate Std.Error  z value Pr(>|z|)\n",
       "(Intercept)     47.4692   7.29924  6.50331   <1e-10\n",
       "Pulse        0.00373047 0.0186393 0.200141   0.8414\n",
       "Height        -0.273027 0.0409187 -6.67242   <1e-10\n",
       "Age            -0.03933  0.038796 -1.01376   0.3107\n"
      ]
     },
     "execution_count": 326,
     "metadata": {},
     "output_type": "execute_result"
    }
   ],
   "source": [
    "glm(Sex ~ Pulse + Height + Age, survey, Binomial(), LogitLink())"
   ]
  },
  {
   "cell_type": "code",
   "execution_count": 328,
   "metadata": {
    "collapsed": false
   },
   "outputs": [
    {
     "data": {
      "text/plain": [
       "RCall.RObject{RCall.VecSxp}\n",
       "\n",
       "Call:  glm(formula = Sex ~ Pulse + Height + Age, family = binomial(link = \"logit\"), \n",
       "    data = `#JL`$survey)\n",
       "\n",
       "Coefficients:\n",
       "(Intercept)        Pulse       Height          Age  \n",
       "   47.46920      0.00373     -0.27303     -0.03933  \n",
       "\n",
       "Degrees of Freedom: 167 Total (i.e. Null);  164 Residual\n",
       "Null Deviance:\t    232.9 \n",
       "Residual Deviance: 124.2 \tAIC: 132.2\n"
      ]
     },
     "execution_count": 328,
     "metadata": {},
     "output_type": "execute_result"
    }
   ],
   "source": [
    "using RCall \n",
    "\n",
    "R\"\"\"\n",
    "logistica <- glm(Sex ~ Pulse + Height + Age, $survey, family = binomial(link = \"logit\"))\n",
    "\"\"\""
   ]
  },
  {
   "cell_type": "code",
   "execution_count": 329,
   "metadata": {
    "collapsed": false
   },
   "outputs": [
    {
     "data": {
      "text/plain": [
       "RCall.RObject{RCall.VecSxp}\n",
       "\n",
       "Call:\n",
       "glm(formula = Sex ~ Pulse + Height + Age, family = binomial(link = \"logit\"), \n",
       "    data = `#JL`$survey)\n",
       "\n",
       "Deviance Residuals: \n",
       "     Min        1Q    Median        3Q       Max  \n",
       "-3.08694  -0.47345   0.02795   0.64308   1.86980  \n",
       "\n",
       "Coefficients:\n",
       "            Estimate Std. Error z value Pr(>|z|)    \n",
       "(Intercept) 47.46920    7.30124   6.502 7.95e-11 ***\n",
       "Pulse        0.00373    0.01864   0.200    0.841    \n",
       "Height      -0.27303    0.04093  -6.671 2.55e-11 ***\n",
       "Age         -0.03933    0.03880  -1.014    0.311    \n",
       "---\n",
       "Signif. codes:  0 ‘***’ 0.001 ‘**’ 0.01 ‘*’ 0.05 ‘.’ 0.1 ‘ ’ 1\n",
       "\n",
       "(Dispersion parameter for binomial family taken to be 1)\n",
       "\n",
       "    Null deviance: 232.9  on 167  degrees of freedom\n",
       "Residual deviance: 124.2  on 164  degrees of freedom\n",
       "AIC: 132.2\n",
       "\n",
       "Number of Fisher Scoring iterations: 6\n",
       "\n"
      ]
     },
     "execution_count": 329,
     "metadata": {},
     "output_type": "execute_result"
    }
   ],
   "source": [
    "R\"summary(logistica)\""
   ]
  },
  {
   "cell_type": "markdown",
   "metadata": {},
   "source": [
    "### [Stepwise regression](https://en.wikipedia.org/wiki/Stepwise_regression)"
   ]
  },
  {
   "cell_type": "markdown",
   "metadata": {},
   "source": [
    "> In statistics, stepwise regression includes regression models in which the choice of predictive variables is carried out by an automatic procedure."
   ]
  },
  {
   "cell_type": "code",
   "execution_count": 331,
   "metadata": {
    "collapsed": false
   },
   "outputs": [
    {
     "name": "stdout",
     "output_type": "stream",
     "text": [
      "Start:  AIC=132.2\n",
      "Sex ~ Pulse + Height + Age\n",
      "\n",
      "         Df Deviance    AIC\n",
      "- Pulse   1   124.24 130.24\n",
      "- Age     1   125.43 131.43\n",
      "<none>        124.20 132.20\n",
      "- Height  1   231.86 237.86\n",
      "\n",
      "Step:  AIC=130.24\n",
      "Sex ~ Height + Age\n",
      "\n",
      "         Df Deviance    AIC\n",
      "- Age     1   125.56 129.56\n",
      "<none>        124.24 130.24\n",
      "- Height  1   232.42 236.42\n",
      "\n",
      "Step:  AIC=129.56\n",
      "Sex ~ Height\n",
      "\n",
      "         Df Deviance    AIC\n",
      "<none>        125.56 129.56\n",
      "- Height  1   232.90 234.90\n"
     ]
    },
    {
     "data": {
      "text/plain": [
       "RCall.RObject{RCall.VecSxp}\n",
       "\n",
       "Call:  glm(formula = Sex ~ Height, family = binomial(link = \"logit\"), \n",
       "    data = `#JL`$survey)\n",
       "\n",
       "Coefficients:\n",
       "(Intercept)       Height  \n",
       "    46.5011      -0.2705  \n",
       "\n",
       "Degrees of Freedom: 167 Total (i.e. Null);  166 Residual\n",
       "Null Deviance:\t    232.9 \n",
       "Residual Deviance: 125.6 \tAIC: 129.6\n"
      ]
     },
     "execution_count": 331,
     "metadata": {},
     "output_type": "execute_result"
    }
   ],
   "source": [
    "R\"\"\"\n",
    "logistica <- step(glm(Sex ~ Pulse + Height + Age, $survey, family = binomial(link = \"logit\")))\n",
    "\"\"\""
   ]
  },
  {
   "cell_type": "markdown",
   "metadata": {},
   "source": [
    "#### AIC"
   ]
  },
  {
   "cell_type": "markdown",
   "metadata": {},
   "source": [
    "> El criterio de información de Akaike (AIC) es una medida de la calidad relativa de un modelo estadístico, para un conjunto dado de datos. Como tal, el AIC proporciona un medio para la selección del modelo.  \n",
    "AIC maneja un trade-off entre la [**bondad de ajuste del modelo**](https://en.wikipedia.org/wiki/Goodness_of_fit) y la complejidad del modelo. Se basa en la entropía de información: se ofrece una estimación relativa de la información perdida cuando se utiliza un modelo determinado para representar el proceso que genera los datos.  \n",
    "Dado un conjunto de modelos candidatos para los datos, el modelo preferido es el que tiene el valor mínimo en el AIC. Por lo tanto AIC no sólo recompensa la bondad de ajuste, sino también incluye una penalidad, que es una función creciente del número de parámetros estimados. Esta penalización desalienta el [**sobreajuste**](https://en.wikipedia.org/wiki/Overfitting) (aumentando el número de parámetros libres en el modelo mejora la bondad del ajuste, sin importar el número de parámetros libres en el proceso de generación de datos).\n",
    ">> - [Akaike information criterion, *wiki*](https://en.wikipedia.org/wiki/Akaike_information_criterion) "
   ]
  }
 ],
 "metadata": {
  "kernelspec": {
   "display_name": "Julia 0.4.5",
   "language": "julia",
   "name": "julia-0.4"
  },
  "language_info": {
   "file_extension": ".jl",
   "mimetype": "application/julia",
   "name": "julia",
   "version": "0.4.5"
  }
 },
 "nbformat": 4,
 "nbformat_minor": 0
}
