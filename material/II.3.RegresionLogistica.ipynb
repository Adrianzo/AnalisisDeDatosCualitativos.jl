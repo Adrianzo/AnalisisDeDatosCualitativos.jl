{
 "cells": [
  {
   "cell_type": "markdown",
   "metadata": {},
   "source": [
    "### Unidad II. Regresiones y reducción de dimensionalidad.\n",
    "\n",
    "## Análisis de Regresión Logística.\n",
    "\n",
    "- Curvas ROC."
   ]
  },
  {
   "cell_type": "code",
   "execution_count": 15,
   "metadata": {
    "collapsed": false
   },
   "outputs": [
    {
     "data": {
      "text/html": [
       "<table class=\"data-frame\"><tr><th></th><th>Sex</th><th>WrHnd</th><th>NWHnd</th><th>WHnd</th><th>Fold</th><th>Pulse</th><th>Clap</th><th>Exer</th><th>Smoke</th><th>Height</th><th>MI</th><th>Age</th></tr><tr><th>1</th><td>Female</td><td>18.5</td><td>18.0</td><td>Right</td><td>R on L</td><td>92</td><td>Left</td><td>Some</td><td>Never</td><td>173.0</td><td>Metric</td><td>18.25</td></tr><tr><th>2</th><td>Male</td><td>19.5</td><td>20.5</td><td>Left</td><td>R on L</td><td>104</td><td>Left</td><td>None</td><td>Regul</td><td>177.8</td><td>Imperial</td><td>17.583</td></tr><tr><th>3</th><td>Male</td><td>18.0</td><td>13.3</td><td>Right</td><td>L on R</td><td>87</td><td>Neither</td><td>None</td><td>Occas</td><td>NaN</td><td>NA</td><td>16.917</td></tr><tr><th>4</th><td>Male</td><td>18.8</td><td>18.9</td><td>Right</td><td>R on L</td><td>NA</td><td>Neither</td><td>None</td><td>Never</td><td>160.0</td><td>Metric</td><td>20.333</td></tr><tr><th>5</th><td>Male</td><td>20.0</td><td>20.0</td><td>Right</td><td>Neither</td><td>35</td><td>Right</td><td>Some</td><td>Never</td><td>165.0</td><td>Metric</td><td>23.667</td></tr><tr><th>6</th><td>Female</td><td>18.0</td><td>17.7</td><td>Right</td><td>L on R</td><td>64</td><td>Right</td><td>Some</td><td>Never</td><td>172.72</td><td>Imperial</td><td>21.0</td></tr></table>"
      ],
      "text/plain": [
       "6×12 DataFrames.DataFrame\n",
       "│ Row │ Sex      │ WrHnd │ NWHnd │ WHnd    │ Fold      │ Pulse │ Clap      │\n",
       "├─────┼──────────┼───────┼───────┼─────────┼───────────┼───────┼───────────┤\n",
       "│ 1   │ \"Female\" │ 18.5  │ 18.0  │ \"Right\" │ \"R on L\"  │ 92    │ \"Left\"    │\n",
       "│ 2   │ \"Male\"   │ 19.5  │ 20.5  │ \"Left\"  │ \"R on L\"  │ 104   │ \"Left\"    │\n",
       "│ 3   │ \"Male\"   │ 18.0  │ 13.3  │ \"Right\" │ \"L on R\"  │ 87    │ \"Neither\" │\n",
       "│ 4   │ \"Male\"   │ 18.8  │ 18.9  │ \"Right\" │ \"R on L\"  │ NA    │ \"Neither\" │\n",
       "│ 5   │ \"Male\"   │ 20.0  │ 20.0  │ \"Right\" │ \"Neither\" │ 35    │ \"Right\"   │\n",
       "│ 6   │ \"Female\" │ 18.0  │ 17.7  │ \"Right\" │ \"L on R\"  │ 64    │ \"Right\"   │\n",
       "\n",
       "│ Row │ Exer   │ Smoke   │ Height │ MI         │ Age    │\n",
       "├─────┼────────┼─────────┼────────┼────────────┼────────┤\n",
       "│ 1   │ \"Some\" │ \"Never\" │ 173.0  │ \"Metric\"   │ 18.25  │\n",
       "│ 2   │ \"None\" │ \"Regul\" │ 177.8  │ \"Imperial\" │ 17.583 │\n",
       "│ 3   │ \"None\" │ \"Occas\" │ NaN    │ NA         │ 16.917 │\n",
       "│ 4   │ \"None\" │ \"Never\" │ 160.0  │ \"Metric\"   │ 20.333 │\n",
       "│ 5   │ \"Some\" │ \"Never\" │ 165.0  │ \"Metric\"   │ 23.667 │\n",
       "│ 6   │ \"Some\" │ \"Never\" │ 172.72 │ \"Imperial\" │ 21.0   │"
      ]
     },
     "execution_count": 15,
     "metadata": {},
     "output_type": "execute_result"
    }
   ],
   "source": [
    "using RDatasets\n",
    "survey = dataset(\"MASS\", \"survey\")\n",
    "head(survey)"
   ]
  },
  {
   "cell_type": "markdown",
   "metadata": {},
   "source": [
    "### [Regresión Logística](https://en.wikipedia.org/wiki/Logistic_regression)"
   ]
  },
  {
   "cell_type": "code",
   "execution_count": 3,
   "metadata": {
    "collapsed": true
   },
   "outputs": [],
   "source": [
    "using GLM"
   ]
  },
  {
   "cell_type": "code",
   "execution_count": 17,
   "metadata": {
    "collapsed": false
   },
   "outputs": [
    {
     "data": {
      "text/plain": [
       "237-element DataArrays.PooledDataArray{Bool,UInt8,1}:\n",
       " false\n",
       "  true\n",
       "  true\n",
       "  true\n",
       "  true\n",
       " false\n",
       "  true\n",
       " false\n",
       "  true\n",
       "  true\n",
       " false\n",
       "  true\n",
       " false\n",
       "     ⋮\n",
       " false\n",
       " false\n",
       "  true\n",
       " false\n",
       "  true\n",
       " false\n",
       "  true\n",
       " false\n",
       " false\n",
       " false\n",
       "  true\n",
       " false"
      ]
     },
     "execution_count": 17,
     "metadata": {},
     "output_type": "execute_result"
    }
   ],
   "source": [
    "survey[:Male] = survey[:Sex] .== \"Male\""
   ]
  },
  {
   "cell_type": "code",
   "execution_count": 21,
   "metadata": {
    "collapsed": false
   },
   "outputs": [
    {
     "data": {
      "text/plain": [
       "4-element Array{Symbol,1}:\n",
       " :Male  \n",
       " :Pulse \n",
       " :Height\n",
       " :Age   "
      ]
     },
     "execution_count": 21,
     "metadata": {},
     "output_type": "execute_result"
    }
   ],
   "source": [
    "variables = [:Male,:Pulse,:Height,:Age]"
   ]
  },
  {
   "cell_type": "code",
   "execution_count": 25,
   "metadata": {
    "collapsed": false
   },
   "outputs": [
    {
     "data": {
      "text/html": [
       "<table class=\"data-frame\"><tr><th></th><th>Male</th><th>Pulse</th><th>Height</th><th>Age</th></tr><tr><th>1</th><td>false</td><td>92</td><td>173.0</td><td>18.25</td></tr><tr><th>2</th><td>true</td><td>104</td><td>177.8</td><td>17.583</td></tr><tr><th>3</th><td>true</td><td>87</td><td>NA</td><td>16.917</td></tr><tr><th>4</th><td>true</td><td>NA</td><td>160.0</td><td>20.333</td></tr><tr><th>5</th><td>true</td><td>35</td><td>165.0</td><td>23.667</td></tr><tr><th>6</th><td>false</td><td>64</td><td>172.72</td><td>21.0</td></tr></table>"
      ],
      "text/plain": [
       "6×4 DataFrames.DataFrame\n",
       "│ Row │ Male  │ Pulse │ Height │ Age    │\n",
       "├─────┼───────┼───────┼────────┼────────┤\n",
       "│ 1   │ false │ 92    │ 173.0  │ 18.25  │\n",
       "│ 2   │ true  │ 104   │ 177.8  │ 17.583 │\n",
       "│ 3   │ true  │ 87    │ NA     │ 16.917 │\n",
       "│ 4   │ true  │ NA    │ 160.0  │ 20.333 │\n",
       "│ 5   │ true  │ 35    │ 165.0  │ 23.667 │\n",
       "│ 6   │ false │ 64    │ 172.72 │ 21.0   │"
      ]
     },
     "execution_count": 25,
     "metadata": {},
     "output_type": "execute_result"
    }
   ],
   "source": [
    "subset = survey[:,variables]\n",
    "head(subset)"
   ]
  },
  {
   "cell_type": "code",
   "execution_count": 26,
   "metadata": {
    "collapsed": false
   },
   "outputs": [],
   "source": [
    "for var in variables\n",
    "    subset[isnan(subset[var]), var] = NA\n",
    "end"
   ]
  },
  {
   "cell_type": "code",
   "execution_count": 27,
   "metadata": {
    "collapsed": false
   },
   "outputs": [
    {
     "data": {
      "text/html": [
       "<table class=\"data-frame\"><tr><th></th><th>Male</th><th>Pulse</th><th>Height</th><th>Age</th></tr><tr><th>1</th><td>false</td><td>92</td><td>173.0</td><td>18.25</td></tr><tr><th>2</th><td>true</td><td>104</td><td>177.8</td><td>17.583</td></tr><tr><th>3</th><td>true</td><td>87</td><td>NA</td><td>16.917</td></tr><tr><th>4</th><td>true</td><td>NA</td><td>160.0</td><td>20.333</td></tr><tr><th>5</th><td>true</td><td>35</td><td>165.0</td><td>23.667</td></tr><tr><th>6</th><td>false</td><td>64</td><td>172.72</td><td>21.0</td></tr></table>"
      ],
      "text/plain": [
       "6×4 DataFrames.DataFrame\n",
       "│ Row │ Male  │ Pulse │ Height │ Age    │\n",
       "├─────┼───────┼───────┼────────┼────────┤\n",
       "│ 1   │ false │ 92    │ 173.0  │ 18.25  │\n",
       "│ 2   │ true  │ 104   │ 177.8  │ 17.583 │\n",
       "│ 3   │ true  │ 87    │ NA     │ 16.917 │\n",
       "│ 4   │ true  │ NA    │ 160.0  │ 20.333 │\n",
       "│ 5   │ true  │ 35    │ 165.0  │ 23.667 │\n",
       "│ 6   │ false │ 64    │ 172.72 │ 21.0   │"
      ]
     },
     "execution_count": 27,
     "metadata": {},
     "output_type": "execute_result"
    }
   ],
   "source": [
    "head(subset)"
   ]
  },
  {
   "cell_type": "code",
   "execution_count": 29,
   "metadata": {
    "collapsed": false
   },
   "outputs": [
    {
     "data": {
      "text/plain": [
       "170"
      ]
     },
     "execution_count": 29,
     "metadata": {},
     "output_type": "execute_result"
    }
   ],
   "source": [
    "nrow(subset)"
   ]
  },
  {
   "cell_type": "code",
   "execution_count": 30,
   "metadata": {
    "collapsed": false
   },
   "outputs": [
    {
     "data": {
      "text/html": [
       "<table class=\"data-frame\"><tr><th></th><th>Male</th><th>Pulse</th><th>Height</th><th>Age</th></tr><tr><th>1</th><td>false</td><td>92</td><td>173.0</td><td>18.25</td></tr><tr><th>2</th><td>true</td><td>104</td><td>177.8</td><td>17.583</td></tr><tr><th>3</th><td>true</td><td>35</td><td>165.0</td><td>23.667</td></tr><tr><th>4</th><td>false</td><td>64</td><td>172.72</td><td>21.0</td></tr><tr><th>5</th><td>true</td><td>83</td><td>182.88</td><td>18.833</td></tr><tr><th>6</th><td>false</td><td>74</td><td>157.0</td><td>35.833</td></tr></table>"
      ],
      "text/plain": [
       "6×4 DataFrames.DataFrame\n",
       "│ Row │ Male  │ Pulse │ Height │ Age    │\n",
       "├─────┼───────┼───────┼────────┼────────┤\n",
       "│ 1   │ false │ 92    │ 173.0  │ 18.25  │\n",
       "│ 2   │ true  │ 104   │ 177.8  │ 17.583 │\n",
       "│ 3   │ true  │ 35    │ 165.0  │ 23.667 │\n",
       "│ 4   │ false │ 64    │ 172.72 │ 21.0   │\n",
       "│ 5   │ true  │ 83    │ 182.88 │ 18.833 │\n",
       "│ 6   │ false │ 74    │ 157.0  │ 35.833 │"
      ]
     },
     "execution_count": 30,
     "metadata": {},
     "output_type": "execute_result"
    }
   ],
   "source": [
    "complete_cases!(subset)\n",
    "head(subset)"
   ]
  },
  {
   "cell_type": "code",
   "execution_count": 31,
   "metadata": {
    "collapsed": false
   },
   "outputs": [
    {
     "data": {
      "text/plain": [
       "170"
      ]
     },
     "execution_count": 31,
     "metadata": {},
     "output_type": "execute_result"
    }
   ],
   "source": [
    "nrow(subset)"
   ]
  },
  {
   "cell_type": "code",
   "execution_count": 32,
   "metadata": {
    "collapsed": false
   },
   "outputs": [
    {
     "data": {
      "text/plain": [
       "DataFrames.DataFrameRegressionModel{GLM.GeneralizedLinearModel{GLM.GlmResp{Array{Float64,1},Distributions.Binomial,GLM.LogitLink},GLM.DensePredChol{Float64,Base.LinAlg.Cholesky{Float64,Array{Float64,2}}}},Float64}\n",
       "\n",
       "Formula: Male ~ 1 + Pulse + Height + Age\n",
       "\n",
       "Coefficients:\n",
       "                Estimate Std.Error   z value Pr(>|z|)\n",
       "(Intercept)     -45.7242   7.00602  -6.52642   <1e-10\n",
       "Pulse        -0.00382921 0.0182807 -0.209467   0.8341\n",
       "Height          0.261851 0.0389575   6.72145   <1e-10\n",
       "Age            0.0468799 0.0397444   1.17954   0.2382\n"
      ]
     },
     "execution_count": 32,
     "metadata": {},
     "output_type": "execute_result"
    }
   ],
   "source": [
    "glm(Male ~ Pulse + Height + Age, subset, Binomial(), LogitLink())"
   ]
  },
  {
   "cell_type": "code",
   "execution_count": 34,
   "metadata": {
    "collapsed": false
   },
   "outputs": [
    {
     "data": {
      "text/plain": [
       "RCall.RObject{RCall.VecSxp}\n",
       "\n",
       "Call:  glm(formula = Male ~ Pulse + Height + Age, family = binomial(link = \"logit\"), \n",
       "    data = `#JL`$subset)\n",
       "\n",
       "Coefficients:\n",
       "(Intercept)        Pulse       Height          Age  \n",
       " -45.724244    -0.003829     0.261851     0.046880  \n",
       "\n",
       "Degrees of Freedom: 169 Total (i.e. Null);  166 Residual\n",
       "Null Deviance:\t    235.7 \n",
       "Residual Deviance: 129.7 \tAIC: 137.7\n"
      ]
     },
     "execution_count": 34,
     "metadata": {},
     "output_type": "execute_result"
    }
   ],
   "source": [
    "using RCall \n",
    "\n",
    "R\"\"\"\n",
    "logistica = glm(Male ~ Pulse + Height + Age, $subset, family = binomial(link = \"logit\"))\n",
    "\"\"\""
   ]
  },
  {
   "cell_type": "code",
   "execution_count": 35,
   "metadata": {
    "collapsed": false
   },
   "outputs": [
    {
     "data": {
      "text/plain": [
       "RCall.RObject{RCall.VecSxp}\n",
       "\n",
       "Call:\n",
       "glm(formula = Male ~ Pulse + Height + Age, family = binomial(link = \"logit\"), \n",
       "    data = `#JL`$subset)\n",
       "\n",
       "Deviance Residuals: \n",
       "     Min        1Q    Median        3Q       Max  \n",
       "-2.08226  -0.64980  -0.02893   0.50849   3.04301  \n",
       "\n",
       "Coefficients:\n",
       "              Estimate Std. Error z value Pr(>|z|)    \n",
       "(Intercept) -45.724244   7.006024  -6.526 6.74e-11 ***\n",
       "Pulse        -0.003829   0.018281  -0.209    0.834    \n",
       "Height        0.261851   0.038958   6.721 1.80e-11 ***\n",
       "Age           0.046880   0.039744   1.180    0.238    \n",
       "---\n",
       "Signif. codes:  0 ‘***’ 0.001 ‘**’ 0.01 ‘*’ 0.05 ‘.’ 0.1 ‘ ’ 1\n",
       "\n",
       "(Dispersion parameter for binomial family taken to be 1)\n",
       "\n",
       "    Null deviance: 235.67  on 169  degrees of freedom\n",
       "Residual deviance: 129.68  on 166  degrees of freedom\n",
       "AIC: 137.68\n",
       "\n",
       "Number of Fisher Scoring iterations: 5\n",
       "\n"
      ]
     },
     "execution_count": 35,
     "metadata": {},
     "output_type": "execute_result"
    }
   ],
   "source": [
    "R\"summary(logistica)\""
   ]
  },
  {
   "cell_type": "markdown",
   "metadata": {},
   "source": [
    "### [Stepwise regression](https://en.wikipedia.org/wiki/Stepwise_regression)"
   ]
  },
  {
   "cell_type": "code",
   "execution_count": 39,
   "metadata": {
    "collapsed": false
   },
   "outputs": [
    {
     "name": "stdout",
     "output_type": "stream",
     "text": [
      "Start:  AIC=137.68\n",
      "Male ~ Pulse + Height + Age\n",
      "\n",
      "         Df Deviance    AIC\n",
      "- Pulse   1   129.72 135.72\n",
      "- Age     1   131.40 137.40\n",
      "<none>        129.68 137.68\n",
      "- Height  1   234.35 240.35\n",
      "\n",
      "Step:  AIC=135.73\n",
      "Male ~ Height + Age\n",
      "\n",
      "         Df Deviance    AIC\n",
      "- Age     1   131.57 135.57\n",
      "<none>        129.72 135.72\n",
      "- Height  1   234.98 238.98\n",
      "\n",
      "Step:  AIC=135.57\n",
      "Male ~ Height\n",
      "\n",
      "         Df Deviance    AIC\n",
      "<none>        131.57 135.57\n",
      "- Height  1   235.67 237.67\n"
     ]
    },
    {
     "data": {
      "text/plain": [
       "RCall.RObject{RCall.VecSxp}\n",
       "\n",
       "Call:  glm(formula = Male ~ Height, family = binomial(link = \"logit\"), \n",
       "    data = `#JL`$subset)\n",
       "\n",
       "Coefficients:\n",
       "(Intercept)       Height  \n",
       "   -44.4492       0.2584  \n",
       "\n",
       "Degrees of Freedom: 169 Total (i.e. Null);  168 Residual\n",
       "Null Deviance:\t    235.7 \n",
       "Residual Deviance: 131.6 \tAIC: 135.6\n"
      ]
     },
     "execution_count": 39,
     "metadata": {},
     "output_type": "execute_result"
    }
   ],
   "source": [
    "R\"\"\"\n",
    "logistica = step(glm(Male ~ Pulse + Height + Age, $subset, family = binomial(link = \"logit\")))\n",
    "\"\"\""
   ]
  },
  {
   "cell_type": "markdown",
   "metadata": {},
   "source": [
    "### [ROC](https://en.wikipedia.org/wiki/Receiver_operating_characteristic)"
   ]
  },
  {
   "cell_type": "code",
   "execution_count": 40,
   "metadata": {
    "collapsed": true
   },
   "outputs": [],
   "source": [
    "# Pkg.clone(\"https://github.com/JuliaML/MLPlots.jl.git\")\n",
    "using ROCAnalysis\n",
    "using MLPlots"
   ]
  },
  {
   "cell_type": "code",
   "execution_count": 45,
   "metadata": {
    "collapsed": false
   },
   "outputs": [
    {
     "data": {
      "text/plain": [
       "85-element Array{Float64,1}:\n",
       " 173.0 \n",
       " 172.72\n",
       " 157.0 \n",
       " 156.2 \n",
       " 155.0 \n",
       " 157.0 \n",
       " 166.4 \n",
       " 154.94\n",
       " 176.5 \n",
       " 180.34\n",
       " 168.0 \n",
       " 165.0 \n",
       " 157.48\n",
       "   ⋮   \n",
       " 153.5 \n",
       " 160.0 \n",
       " 163.0 \n",
       " 168.9 \n",
       " 167.64\n",
       " 162.56\n",
       " 170.18\n",
       " 167.0 \n",
       " 169.0 \n",
       " 165.1 \n",
       " 160.0 \n",
       " 168.5 "
      ]
     },
     "execution_count": 45,
     "metadata": {},
     "output_type": "execute_result"
    }
   ],
   "source": [
    "objetivo    = convert(Vector{Float64}, subset[  subset[:Male], :Height ] )\n",
    "no_objetivo = convert(Vector{Float64}, subset[ !subset[:Male], :Height ] )"
   ]
  },
  {
   "cell_type": "code",
   "execution_count": 47,
   "metadata": {
    "collapsed": false
   },
   "outputs": [
    {
     "data": {
      "text/plain": [
       "ROCAnalysis.Roc{Float64}([1.0,0.964706,0.952941,0.847059,0.811765,0.635294,0.541176,0.482353,0.423529,0.376471  …  0.0823529,0.0470588,0.0352941,0.0352941,0.0235294,0.0235294,0.0117647,0.0117647,0.0,0.0],[0.0,0.0,0.0117647,0.0117647,0.0235294,0.0235294,0.0705882,0.0705882,0.0941176,0.105882  …  0.258824,0.282353,0.317647,0.329412,0.341176,0.388235,0.4,0.552941,0.611765,1.0],Bool[true,true,false,false,false,true,false,false,false,false  …  false,true,false,false,true,false,true,false,true,true],[152.0,154.94,155.0,160.0,160.02,165.0,165.1,167.0,167.64,168.0  …  174.0,175.0,175.26,176.0,176.5,177.0,178.0,178.5,180.34,182.0],[-Inf,-2.63906,-2.63906,-2.63906,-2.63906,-1.28785,-1.28785,-1.28785,-1.28785,-1.28785  …  0.223144,0.223144,0.916291,0.916291,0.916291,1.60944,1.60944,2.89037,2.89037,Inf])"
      ]
     },
     "execution_count": 47,
     "metadata": {},
     "output_type": "execute_result"
    }
   ],
   "source": [
    "R = roc(objetivo, no_objetivo)"
   ]
  },
  {
   "cell_type": "code",
   "execution_count": 49,
   "metadata": {
    "collapsed": false
   },
   "outputs": [
    {
     "data": {
      "text/html": [
       "<img src=\"data:image/png;base64,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\" />"
      ]
     },
     "execution_count": 49,
     "metadata": {},
     "output_type": "execute_result"
    }
   ],
   "source": [
    "plot(R)"
   ]
  },
  {
   "cell_type": "code",
   "execution_count": 50,
   "metadata": {
    "collapsed": false
   },
   "outputs": [
    {
     "data": {
      "text/plain": [
       "0.9029757785467128"
      ]
     },
     "execution_count": 50,
     "metadata": {},
     "output_type": "execute_result"
    }
   ],
   "source": [
    "1- auc(R)"
   ]
  },
  {
   "cell_type": "code",
   "execution_count": null,
   "metadata": {
    "collapsed": true
   },
   "outputs": [],
   "source": []
  }
 ],
 "metadata": {
  "kernelspec": {
   "display_name": "Julia 0.4.5",
   "language": "julia",
   "name": "julia-0.4"
  },
  "language_info": {
   "file_extension": ".jl",
   "mimetype": "application/julia",
   "name": "julia",
   "version": "0.4.5"
  }
 },
 "nbformat": 4,
 "nbformat_minor": 0
}
