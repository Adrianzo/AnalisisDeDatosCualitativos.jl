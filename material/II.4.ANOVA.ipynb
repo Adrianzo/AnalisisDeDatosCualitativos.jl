{
 "cells": [
  {
   "cell_type": "markdown",
   "metadata": {},
   "source": [
    "### Unidad II. Regresiones y reducción de dimensionalidad.\n",
    "\n",
    "## Análisis de varianza unifactorial y multifactorial.\n",
    "\n",
    "- El análisis de varianza unifactorial paramétrico. Hipótesis necesaria.\n",
    " - Análisis de la varianza (ANOVA)\n",
    "- Complementos del análisis unifactorial. Los tests de rangos, el análisis de contrastes y la descomposición polinomial a la suma de cuadrados.\n",
    "- Alternativa no paramétricas al ANOVA: el análisis de varianza de Kruskal-Wallis y el test de la mediana.\n",
    "- Análisis de varianza no Paramétricos para comparar longitudinalmente k variables dependientes: el test de Friedman y el test de Cochran."
   ]
  },
  {
   "cell_type": "markdown",
   "metadata": {
    "collapsed": true
   },
   "source": [
    "### One-way ANOVA"
   ]
  },
  {
   "cell_type": "code",
   "execution_count": 14,
   "metadata": {
    "collapsed": false
   },
   "outputs": [
    {
     "data": {
      "text/html": [
       "<table class=\"data-frame\"><tr><th></th><th>Fat1</th><th>Fat2</th><th>Fat3</th><th>Fat4</th></tr><tr><th>1</th><td>164.0</td><td>178.0</td><td>175.0</td><td>155.0</td></tr><tr><th>2</th><td>172.0</td><td>191.0</td><td>193.0</td><td>166.0</td></tr><tr><th>3</th><td>168.0</td><td>197.0</td><td>178.0</td><td>149.0</td></tr><tr><th>4</th><td>177.0</td><td>182.0</td><td>171.0</td><td>164.0</td></tr><tr><th>5</th><td>156.0</td><td>185.0</td><td>163.0</td><td>170.0</td></tr><tr><th>6</th><td>195.0</td><td>177.0</td><td>176.0</td><td>168.0</td></tr></table>"
      ],
      "text/plain": [
       "6×4 DataFrames.DataFrame\n",
       "│ Row │ Fat1  │ Fat2  │ Fat3  │ Fat4  │\n",
       "├─────┼───────┼───────┼───────┼───────┤\n",
       "│ 1   │ 164.0 │ 178.0 │ 175.0 │ 155.0 │\n",
       "│ 2   │ 172.0 │ 191.0 │ 193.0 │ 166.0 │\n",
       "│ 3   │ 168.0 │ 197.0 │ 178.0 │ 149.0 │\n",
       "│ 4   │ 177.0 │ 182.0 │ 171.0 │ 164.0 │\n",
       "│ 5   │ 156.0 │ 185.0 │ 163.0 │ 170.0 │\n",
       "│ 6   │ 195.0 │ 177.0 │ 176.0 │ 168.0 │"
      ]
     },
     "execution_count": 14,
     "metadata": {},
     "output_type": "execute_result"
    }
   ],
   "source": [
    "# Pkg.add(\"ExcelReaders\")\n",
    "using ExcelReaders\n",
    "\n",
    "using DataFrames\n",
    "\n",
    "donuts = readxlsheet(DataFrame, \"donuts.xls\", \"Sheet1\")"
   ]
  },
  {
   "cell_type": "code",
   "execution_count": 40,
   "metadata": {
    "collapsed": false
   },
   "outputs": [
    {
     "data": {
      "text/html": [
       "<table class=\"data-frame\"><tr><th></th><th>variable</th><th>value</th></tr><tr><th>1</th><td>Fat1</td><td>164.0</td></tr><tr><th>2</th><td>Fat1</td><td>172.0</td></tr><tr><th>3</th><td>Fat1</td><td>168.0</td></tr><tr><th>4</th><td>Fat1</td><td>177.0</td></tr><tr><th>5</th><td>Fat1</td><td>156.0</td></tr><tr><th>6</th><td>Fat1</td><td>195.0</td></tr><tr><th>7</th><td>Fat2</td><td>178.0</td></tr><tr><th>8</th><td>Fat2</td><td>191.0</td></tr><tr><th>9</th><td>Fat2</td><td>197.0</td></tr><tr><th>10</th><td>Fat2</td><td>182.0</td></tr></table>"
      ],
      "text/plain": [
       "10×2 DataFrames.DataFrame\n",
       "│ Row │ variable │ value │\n",
       "├─────┼──────────┼───────┤\n",
       "│ 1   │ Fat1     │ 164.0 │\n",
       "│ 2   │ Fat1     │ 172.0 │\n",
       "│ 3   │ Fat1     │ 168.0 │\n",
       "│ 4   │ Fat1     │ 177.0 │\n",
       "│ 5   │ Fat1     │ 156.0 │\n",
       "│ 6   │ Fat1     │ 195.0 │\n",
       "│ 7   │ Fat2     │ 178.0 │\n",
       "│ 8   │ Fat2     │ 191.0 │\n",
       "│ 9   │ Fat2     │ 197.0 │\n",
       "│ 10  │ Fat2     │ 182.0 │"
      ]
     },
     "execution_count": 40,
     "metadata": {},
     "output_type": "execute_result"
    }
   ],
   "source": [
    "sdonuts = stack(donuts)\n",
    "head(sdonuts, 10)"
   ]
  },
  {
   "cell_type": "code",
   "execution_count": 18,
   "metadata": {
    "collapsed": false
   },
   "outputs": [
    {
     "data": {
      "text/plain": [
       "Plots.PyPlotBackend()"
      ]
     },
     "execution_count": 18,
     "metadata": {},
     "output_type": "execute_result"
    }
   ],
   "source": [
    "using Plots\n",
    "pyplot(size=(300,300))"
   ]
  },
  {
   "cell_type": "code",
   "execution_count": 70,
   "metadata": {
    "collapsed": false
   },
   "outputs": [],
   "source": [
    "sdonuts[:variable] = ASCIIString[ level for level in sdonuts[:variable] ]\n",
    "pool!(sdonuts)"
   ]
  },
  {
   "cell_type": "code",
   "execution_count": 71,
   "metadata": {
    "collapsed": false
   },
   "outputs": [
    {
     "name": "stdout",
     "output_type": "stream",
     "text": [
      "variable\n",
      "Length  24\n",
      "Type    Pooled ASCIIString\n",
      "NAs     0\n",
      "NA%     0.0%\n",
      "Unique  4\n",
      "\n",
      "value\n",
      "Min      149.0\n",
      "1st Qu.  165.5\n",
      "Median   173.5\n",
      "Mean     173.75\n",
      "3rd Qu.  179.0\n",
      "Max      197.0\n",
      "NAs      0\n",
      "NA%      0.0%\n",
      "\n"
     ]
    }
   ],
   "source": [
    "describe(sdonuts)"
   ]
  },
  {
   "cell_type": "code",
   "execution_count": 72,
   "metadata": {
    "collapsed": false
   },
   "outputs": [
    {
     "data": {
      "text/html": [
       "<img src=\"data:image/png;base64,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\" />"
      ]
     },
     "execution_count": 72,
     "metadata": {},
     "output_type": "execute_result"
    }
   ],
   "source": [
    "violin(sdonuts, :variable, :value, alpha=0.4, legend=false)\n",
    "boxplot!(sdonuts, :variable, :value, alpha=0.6)"
   ]
  },
  {
   "cell_type": "code",
   "execution_count": 41,
   "metadata": {
    "collapsed": true
   },
   "outputs": [],
   "source": [
    "using GLM"
   ]
  },
  {
   "cell_type": "code",
   "execution_count": 76,
   "metadata": {
    "collapsed": false
   },
   "outputs": [
    {
     "data": {
      "text/plain": [
       "DataFrames.DataFrameRegressionModel{GLM.GeneralizedLinearModel{GLM.GlmResp{Array{Float64,1},Distributions.Normal{Float64},GLM.IdentityLink},GLM.DensePredChol{Float64,Base.LinAlg.Cholesky{Float64,Array{Float64,2}}}},Float64}\n",
       "\n",
       "Formula: value ~ 1 + variable\n",
       "\n",
       "Coefficients:\n",
       "                 Estimate Std.Error  z value Pr(>|z|)\n",
       "(Intercept)         172.0   4.10081  41.9429   <1e-99\n",
       "variable - Fat2      13.0   5.79943   2.2416   0.0250\n",
       "variable - Fat3       4.0   5.79943 0.689724   0.4904\n",
       "variable - Fat4     -10.0   5.79943 -1.72431   0.0847\n"
      ]
     },
     "execution_count": 76,
     "metadata": {},
     "output_type": "execute_result"
    }
   ],
   "source": [
    "anova = fit(GeneralizedLinearModel, value ~ variable, sdonuts, Normal(), IdentityLink())"
   ]
  },
  {
   "cell_type": "code",
   "execution_count": 78,
   "metadata": {
    "collapsed": false
   },
   "outputs": [],
   "source": [
    "using RCall"
   ]
  },
  {
   "cell_type": "code",
   "execution_count": 130,
   "metadata": {
    "collapsed": false
   },
   "outputs": [
    {
     "data": {
      "text/html": [
       "<table class=\"data-frame\"><tr><th></th><th>variable</th><th>P_AD</th><th>P_Shapiro</th></tr><tr><th>1</th><td>Fat1</td><td>0.6176059803611285</td><td>0.7406352485668342</td></tr><tr><th>2</th><td>Fat2</td><td>0.6194216548282149</td><td>0.5926484972078393</td></tr><tr><th>3</th><td>Fat3</td><td>0.39409638619216925</td><td>0.6065677037767483</td></tr><tr><th>4</th><td>Fat4</td><td>0.27719288143949883</td><td>0.30967709220999107</td></tr></table>"
      ],
      "text/plain": [
       "4×3 DataFrames.DataFrame\n",
       "│ Row │ variable │ P_AD     │ P_Shapiro │\n",
       "├─────┼──────────┼──────────┼───────────┤\n",
       "│ 1   │ \"Fat1\"   │ 0.617606 │ 0.740635  │\n",
       "│ 2   │ \"Fat2\"   │ 0.619422 │ 0.592648  │\n",
       "│ 3   │ \"Fat3\"   │ 0.394096 │ 0.606568  │\n",
       "│ 4   │ \"Fat4\"   │ 0.277193 │ 0.309677  │"
      ]
     },
     "execution_count": 130,
     "metadata": {},
     "output_type": "execute_result"
    }
   ],
   "source": [
    "by(sdonuts, :variable) do df\n",
    "    DataFrame(\n",
    "        P_AD = pvalue(OneSampleADTest(df[:value], Normal())),\n",
    "        P_Shapiro = rcopy(R\"shapiro.test($(df[:value]))\")[symbol(\"p.value\")]\n",
    "    )\n",
    "end"
   ]
  },
  {
   "cell_type": "code",
   "execution_count": 128,
   "metadata": {
    "collapsed": false
   },
   "outputs": [
    {
     "data": {
      "text/plain": [
       "RCall.RObject{RCall.VecSxp}\n",
       "Levene's Test for Homogeneity of Variance (center = median)\n",
       "      Df F value Pr(>F)\n",
       "group  3  0.3434 0.7942\n",
       "      20               \n"
      ]
     },
     "execution_count": 128,
     "metadata": {},
     "output_type": "execute_result"
    }
   ],
   "source": [
    "R\"\"\"\n",
    "library(car)\n",
    "leveneTest(value ~ variable, $sdonuts)\n",
    "\"\"\""
   ]
  },
  {
   "cell_type": "code",
   "execution_count": 87,
   "metadata": {
    "collapsed": false
   },
   "outputs": [
    {
     "data": {
      "text/plain": [
       "RCall.RObject{RCall.VecSxp}\n",
       "\n",
       "\tOne-way analysis of means (not assuming equal variances)\n",
       "\n",
       "data:  value and variable\n",
       "F = 7.4757, num df = 3.000, denom df = 10.953, p-value = 0.005353\n",
       "\n"
      ]
     },
     "execution_count": 87,
     "metadata": {},
     "output_type": "execute_result"
    }
   ],
   "source": [
    "R\"oneway.test(value ~ variable, $sdonuts)\""
   ]
  },
  {
   "cell_type": "code",
   "execution_count": 88,
   "metadata": {
    "collapsed": false
   },
   "outputs": [
    {
     "data": {
      "text/plain": [
       "RCall.RObject{RCall.VecSxp}\n",
       "Analysis of Variance Table\n",
       "\n",
       "Response: value\n",
       "          Df Sum Sq Mean Sq F value   Pr(>F)   \n",
       "variable   3 1636.5   545.5  5.4063 0.006876 **\n",
       "Residuals 20 2018.0   100.9                    \n",
       "---\n",
       "Signif. codes:  0 ‘***’ 0.001 ‘**’ 0.01 ‘*’ 0.05 ‘.’ 0.1 ‘ ’ 1\n"
      ]
     },
     "execution_count": 88,
     "metadata": {},
     "output_type": "execute_result"
    }
   ],
   "source": [
    "R\"\"\"\n",
    "modelo <- lm(value ~ variable, $sdonuts)\n",
    "anova(modelo)\n",
    "\"\"\""
   ]
  },
  {
   "cell_type": "code",
   "execution_count": 91,
   "metadata": {
    "collapsed": false
   },
   "outputs": [
    {
     "data": {
      "text/plain": [
       "RCall.RObject{RCall.RealSxp}\n",
       " (Intercept) variableFat2 variableFat3 variableFat4 \n",
       "         172           13            4          -10 \n"
      ]
     },
     "execution_count": 91,
     "metadata": {},
     "output_type": "execute_result"
    }
   ],
   "source": [
    "R\"coef(modelo)\""
   ]
  },
  {
   "cell_type": "code",
   "execution_count": 90,
   "metadata": {
    "collapsed": false
   },
   "outputs": [
    {
     "data": {
      "text/plain": [
       "RCall.RObject{RCall.RealSxp}\n",
       "                   2.5 %     97.5 %\n",
       "(Intercept)  163.4458541 180.554146\n",
       "variableFat2   0.9026109  25.097389\n",
       "variableFat3  -8.0973891  16.097389\n",
       "variableFat4 -22.0973891   2.097389\n"
      ]
     },
     "execution_count": 90,
     "metadata": {},
     "output_type": "execute_result"
    }
   ],
   "source": [
    "R\"confint(modelo)\""
   ]
  },
  {
   "cell_type": "markdown",
   "metadata": {},
   "source": [
    "#### Tabla de ANOVA"
   ]
  },
  {
   "cell_type": "code",
   "execution_count": 119,
   "metadata": {
    "collapsed": false
   },
   "outputs": [
    {
     "data": {
      "text/html": [
       "<table class=\"data-frame\"><tr><th></th><th>variable</th><th>n</th></tr><tr><th>1</th><td>Fat1</td><td>6</td></tr><tr><th>2</th><td>Fat2</td><td>6</td></tr><tr><th>3</th><td>Fat3</td><td>6</td></tr><tr><th>4</th><td>Fat4</td><td>6</td></tr></table>"
      ],
      "text/plain": [
       "4×2 DataFrames.DataFrame\n",
       "│ Row │ variable │ n │\n",
       "├─────┼──────────┼───┤\n",
       "│ 1   │ \"Fat1\"   │ 6 │\n",
       "│ 2   │ \"Fat2\"   │ 6 │\n",
       "│ 3   │ \"Fat3\"   │ 6 │\n",
       "│ 4   │ \"Fat4\"   │ 6 │"
      ]
     },
     "execution_count": 119,
     "metadata": {},
     "output_type": "execute_result"
    }
   ],
   "source": [
    "count = by(sdonuts, :variable, df -> nrow(df))\n",
    "names!(count, [:variable, :n])"
   ]
  },
  {
   "cell_type": "code",
   "execution_count": 120,
   "metadata": {
    "collapsed": false
   },
   "outputs": [
    {
     "data": {
      "text/plain": [
       "6"
      ]
     },
     "execution_count": 120,
     "metadata": {},
     "output_type": "execute_result"
    }
   ],
   "source": [
    "n = 6"
   ]
  },
  {
   "cell_type": "code",
   "execution_count": 122,
   "metadata": {
    "collapsed": false
   },
   "outputs": [
    {
     "data": {
      "text/plain": [
       "4"
      ]
     },
     "execution_count": 122,
     "metadata": {},
     "output_type": "execute_result"
    }
   ],
   "source": [
    "g = 4"
   ]
  },
  {
   "cell_type": "code",
   "execution_count": 123,
   "metadata": {
    "collapsed": false
   },
   "outputs": [
    {
     "data": {
      "text/plain": [
       "24"
      ]
     },
     "execution_count": 123,
     "metadata": {},
     "output_type": "execute_result"
    }
   ],
   "source": [
    "N = g * n"
   ]
  },
  {
   "cell_type": "code",
   "execution_count": 95,
   "metadata": {
    "collapsed": false
   },
   "outputs": [
    {
     "data": {
      "text/plain": [
       "173.75"
      ]
     },
     "execution_count": 95,
     "metadata": {},
     "output_type": "execute_result"
    }
   ],
   "source": [
    "ȳ = mean(sdonuts[:value])"
   ]
  },
  {
   "cell_type": "code",
   "execution_count": 105,
   "metadata": {
    "collapsed": false
   },
   "outputs": [
    {
     "data": {
      "text/html": [
       "<table class=\"data-frame\"><tr><th></th><th>variable</th><th>mean</th></tr><tr><th>1</th><td>Fat1</td><td>172.0</td></tr><tr><th>2</th><td>Fat2</td><td>185.0</td></tr><tr><th>3</th><td>Fat3</td><td>176.0</td></tr><tr><th>4</th><td>Fat4</td><td>162.0</td></tr></table>"
      ],
      "text/plain": [
       "4×2 DataFrames.DataFrame\n",
       "│ Row │ variable │ mean  │\n",
       "├─────┼──────────┼───────┤\n",
       "│ 1   │ \"Fat1\"   │ 172.0 │\n",
       "│ 2   │ \"Fat2\"   │ 185.0 │\n",
       "│ 3   │ \"Fat3\"   │ 176.0 │\n",
       "│ 4   │ \"Fat4\"   │ 162.0 │"
      ]
     },
     "execution_count": 105,
     "metadata": {},
     "output_type": "execute_result"
    }
   ],
   "source": [
    "ȳᵢ = by(sdonuts, :variable, df -> mean(df[:value]))\n",
    "names!(ȳᵢ, [:variable, :mean])"
   ]
  },
  {
   "cell_type": "code",
   "execution_count": 114,
   "metadata": {
    "collapsed": false
   },
   "outputs": [
    {
     "name": "stderr",
     "output_type": "stream",
     "text": [
      "WARNING: [a,b] concatenation is deprecated; use [a;b] instead\n",
      " in depwarn at deprecated.jl:73\n",
      " in oldstyle_vcat_warning at ./abstractarray.jl:29\n",
      " in PooledDataVecs at /home/dzea/.julia/v0.4/DataArrays/src/pooleddataarray.jl:616\n",
      " in join at /home/dzea/.julia/v0.4/DataFrames/src/abstractdataframe/join.jl:202\n",
      " in include_string at loading.jl:282\n",
      " in execute_request_0x535c5df2 at /home/dzea/.julia/v0.4/IJulia/src/execute_request.jl:183\n",
      " in eventloop at /home/dzea/.julia/v0.4/IJulia/src/IJulia.jl:143\n",
      " in anonymous at task.jl:447\n",
      "while loading In[114], in expression starting on line 1\n"
     ]
    },
    {
     "data": {
      "text/html": [
       "<table class=\"data-frame\"><tr><th></th><th>variable</th><th>value</th><th>mean</th></tr><tr><th>1</th><td>Fat1</td><td>164.0</td><td>172.0</td></tr><tr><th>2</th><td>Fat1</td><td>172.0</td><td>172.0</td></tr><tr><th>3</th><td>Fat1</td><td>168.0</td><td>172.0</td></tr><tr><th>4</th><td>Fat1</td><td>177.0</td><td>172.0</td></tr><tr><th>5</th><td>Fat1</td><td>156.0</td><td>172.0</td></tr><tr><th>6</th><td>Fat1</td><td>195.0</td><td>172.0</td></tr><tr><th>7</th><td>Fat2</td><td>178.0</td><td>185.0</td></tr><tr><th>8</th><td>Fat2</td><td>191.0</td><td>185.0</td></tr><tr><th>9</th><td>Fat2</td><td>197.0</td><td>185.0</td></tr><tr><th>10</th><td>Fat2</td><td>182.0</td><td>185.0</td></tr></table>"
      ],
      "text/plain": [
       "10×3 DataFrames.DataFrame\n",
       "│ Row │ variable │ value │ mean  │\n",
       "├─────┼──────────┼───────┼───────┤\n",
       "│ 1   │ \"Fat1\"   │ 164.0 │ 172.0 │\n",
       "│ 2   │ \"Fat1\"   │ 172.0 │ 172.0 │\n",
       "│ 3   │ \"Fat1\"   │ 168.0 │ 172.0 │\n",
       "│ 4   │ \"Fat1\"   │ 177.0 │ 172.0 │\n",
       "│ 5   │ \"Fat1\"   │ 156.0 │ 172.0 │\n",
       "│ 6   │ \"Fat1\"   │ 195.0 │ 172.0 │\n",
       "│ 7   │ \"Fat2\"   │ 178.0 │ 185.0 │\n",
       "│ 8   │ \"Fat2\"   │ 191.0 │ 185.0 │\n",
       "│ 9   │ \"Fat2\"   │ 197.0 │ 185.0 │\n",
       "│ 10  │ \"Fat2\"   │ 182.0 │ 185.0 │"
      ]
     },
     "execution_count": 114,
     "metadata": {},
     "output_type": "execute_result"
    }
   ],
   "source": [
    "datos = join(sdonuts, ȳᵢ, on=:variable)\n",
    "head(datos, 10)"
   ]
  },
  {
   "cell_type": "code",
   "execution_count": 118,
   "metadata": {
    "collapsed": false
   },
   "outputs": [
    {
     "data": {
      "text/plain": [
       "2018.0"
      ]
     },
     "execution_count": 118,
     "metadata": {},
     "output_type": "execute_result"
    }
   ],
   "source": [
    "SSW = sum((datos[:value] .- datos[:mean]).^ 2) # sum of squares within"
   ]
  },
  {
   "cell_type": "code",
   "execution_count": 121,
   "metadata": {
    "collapsed": false
   },
   "outputs": [
    {
     "data": {
      "text/plain": [
       "1636.5"
      ]
     },
     "execution_count": 121,
     "metadata": {},
     "output_type": "execute_result"
    }
   ],
   "source": [
    "SSB = n * sum((ȳᵢ[:mean] .- ȳ).^2) # sum of squares between"
   ]
  },
  {
   "cell_type": "code",
   "execution_count": 124,
   "metadata": {
    "collapsed": false
   },
   "outputs": [
    {
     "data": {
      "text/plain": [
       "5.406342913776015"
      ]
     },
     "execution_count": 124,
     "metadata": {},
     "output_type": "execute_result"
    }
   ],
   "source": [
    "F = (SSB/(g-1))/(SSW/(N-g))"
   ]
  },
  {
   "cell_type": "code",
   "execution_count": 125,
   "metadata": {
    "collapsed": false
   },
   "outputs": [
    {
     "name": "stderr",
     "output_type": "stream",
     "text": [
      "WARNING: Method definition call(Polynomials.Poly, Any) in module Polynomials at /home/dzea/.julia/v0.4/Polynomials/src/Polynomials.jl:302 overwritten in module CurveFit at /home/dzea/.julia/v0.4/CurveFit/src/linfit.jl:124.\n"
     ]
    }
   ],
   "source": [
    "using HypothesisTests"
   ]
  },
  {
   "cell_type": "code",
   "execution_count": 127,
   "metadata": {
    "collapsed": false
   },
   "outputs": [
    {
     "data": {
      "text/plain": [
       "0.006875947754735093"
      ]
     },
     "execution_count": 127,
     "metadata": {},
     "output_type": "execute_result"
    }
   ],
   "source": [
    "pvalue(FDist(g-1,N-g), F, tail=:right)"
   ]
  },
  {
   "cell_type": "code",
   "execution_count": null,
   "metadata": {
    "collapsed": true
   },
   "outputs": [],
   "source": []
  }
 ],
 "metadata": {
  "kernelspec": {
   "display_name": "Julia 0.4.5",
   "language": "julia",
   "name": "julia-0.4"
  },
  "language_info": {
   "file_extension": ".jl",
   "mimetype": "application/julia",
   "name": "julia",
   "version": "0.4.5"
  }
 },
 "nbformat": 4,
 "nbformat_minor": 0
}
