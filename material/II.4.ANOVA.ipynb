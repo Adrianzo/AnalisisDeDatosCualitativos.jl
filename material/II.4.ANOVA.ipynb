{
 "cells": [
  {
   "cell_type": "markdown",
   "metadata": {},
   "source": [
    "### Unidad II. Regresiones y reducción de dimensionalidad.\n",
    "\n",
    "## Análisis de varianza unifactorial y multifactorial.\n",
    "\n",
    "- El análisis de varianza unifactorial paramétrico. Hipótesis necesaria.\n",
    " - Análisis de la varianza (ANOVA)\n",
    "- Complementos del análisis unifactorial. Los tests de rangos, el análisis de contrastes y la descomposición polinomial a la suma de cuadrados.\n",
    "- Alternativa no paramétricas al ANOVA: el análisis de varianza de Kruskal-Wallis y el test de la mediana.\n",
    "- Análisis de varianza no Paramétricos para comparar longitudinalmente k variables dependientes: el test de Friedman y el test de Cochran."
   ]
  },
  {
   "cell_type": "markdown",
   "metadata": {
    "collapsed": true
   },
   "source": [
    "### One-way ANOVA"
   ]
  },
  {
   "cell_type": "code",
   "execution_count": 7,
   "metadata": {
    "collapsed": false
   },
   "outputs": [
    {
     "data": {
      "text/html": [
       "<table class=\"data-frame\"><tr><th></th><th>Fat1</th><th>Fat2</th><th>Fat3</th><th>Fat4</th></tr><tr><th>1</th><td>164.0</td><td>178.0</td><td>175.0</td><td>155.0</td></tr><tr><th>2</th><td>172.0</td><td>191.0</td><td>193.0</td><td>166.0</td></tr><tr><th>3</th><td>168.0</td><td>197.0</td><td>178.0</td><td>149.0</td></tr><tr><th>4</th><td>177.0</td><td>182.0</td><td>171.0</td><td>164.0</td></tr><tr><th>5</th><td>156.0</td><td>185.0</td><td>163.0</td><td>170.0</td></tr><tr><th>6</th><td>195.0</td><td>177.0</td><td>176.0</td><td>168.0</td></tr></table>"
      ],
      "text/plain": [
       "6×4 DataFrames.DataFrame\n",
       "│ Row │ Fat1  │ Fat2  │ Fat3  │ Fat4  │\n",
       "├─────┼───────┼───────┼───────┼───────┤\n",
       "│ 1   │ 164.0 │ 178.0 │ 175.0 │ 155.0 │\n",
       "│ 2   │ 172.0 │ 191.0 │ 193.0 │ 166.0 │\n",
       "│ 3   │ 168.0 │ 197.0 │ 178.0 │ 149.0 │\n",
       "│ 4   │ 177.0 │ 182.0 │ 171.0 │ 164.0 │\n",
       "│ 5   │ 156.0 │ 185.0 │ 163.0 │ 170.0 │\n",
       "│ 6   │ 195.0 │ 177.0 │ 176.0 │ 168.0 │"
      ]
     },
     "execution_count": 7,
     "metadata": {},
     "output_type": "execute_result"
    }
   ],
   "source": [
    "# Pkg.add(\"ExcelReaders\")\n",
    "using ExcelReaders\n",
    "\n",
    "using DataFrames\n",
    "\n",
    "donuts = readxlsheet(DataFrame, \"donuts.xls\", \"Sheet1\")"
   ]
  },
  {
   "cell_type": "code",
   "execution_count": 8,
   "metadata": {
    "collapsed": false
   },
   "outputs": [
    {
     "data": {
      "text/html": [
       "<table class=\"data-frame\"><tr><th></th><th>variable</th><th>value</th></tr><tr><th>1</th><td>Fat1</td><td>164.0</td></tr><tr><th>2</th><td>Fat1</td><td>172.0</td></tr><tr><th>3</th><td>Fat1</td><td>168.0</td></tr><tr><th>4</th><td>Fat1</td><td>177.0</td></tr><tr><th>5</th><td>Fat1</td><td>156.0</td></tr><tr><th>6</th><td>Fat1</td><td>195.0</td></tr><tr><th>7</th><td>Fat2</td><td>178.0</td></tr><tr><th>8</th><td>Fat2</td><td>191.0</td></tr><tr><th>9</th><td>Fat2</td><td>197.0</td></tr><tr><th>10</th><td>Fat2</td><td>182.0</td></tr></table>"
      ],
      "text/plain": [
       "10×2 DataFrames.DataFrame\n",
       "│ Row │ variable │ value │\n",
       "├─────┼──────────┼───────┤\n",
       "│ 1   │ Fat1     │ 164.0 │\n",
       "│ 2   │ Fat1     │ 172.0 │\n",
       "│ 3   │ Fat1     │ 168.0 │\n",
       "│ 4   │ Fat1     │ 177.0 │\n",
       "│ 5   │ Fat1     │ 156.0 │\n",
       "│ 6   │ Fat1     │ 195.0 │\n",
       "│ 7   │ Fat2     │ 178.0 │\n",
       "│ 8   │ Fat2     │ 191.0 │\n",
       "│ 9   │ Fat2     │ 197.0 │\n",
       "│ 10  │ Fat2     │ 182.0 │"
      ]
     },
     "execution_count": 8,
     "metadata": {},
     "output_type": "execute_result"
    }
   ],
   "source": [
    "sdonuts = stack(donuts)\n",
    "head(sdonuts, 10)"
   ]
  },
  {
   "cell_type": "code",
   "execution_count": 9,
   "metadata": {
    "collapsed": false
   },
   "outputs": [
    {
     "data": {
      "text/plain": [
       "Plots.PyPlotBackend()"
      ]
     },
     "execution_count": 9,
     "metadata": {},
     "output_type": "execute_result"
    }
   ],
   "source": [
    "using Plots\n",
    "pyplot(size=(300,300))"
   ]
  },
  {
   "cell_type": "code",
   "execution_count": 10,
   "metadata": {
    "collapsed": false
   },
   "outputs": [],
   "source": [
    "sdonuts[:variable] = ASCIIString[ string(level) for level in sdonuts[:variable] ]\n",
    "pool!(sdonuts)"
   ]
  },
  {
   "cell_type": "code",
   "execution_count": 11,
   "metadata": {
    "collapsed": false
   },
   "outputs": [
    {
     "name": "stdout",
     "output_type": "stream",
     "text": [
      "variable\n",
      "Length  24\n",
      "Type    Pooled ASCIIString\n",
      "NAs     0\n",
      "NA%     0.0%\n",
      "Unique  4\n",
      "\n",
      "value\n",
      "Min      149.0\n",
      "1st Qu.  165.5\n",
      "Median   173.5\n",
      "Mean     173.75\n",
      "3rd Qu.  179.0\n",
      "Max      197.0\n",
      "NAs      0\n",
      "NA%      0.0%\n",
      "\n"
     ]
    }
   ],
   "source": [
    "describe(sdonuts)"
   ]
  },
  {
   "cell_type": "code",
   "execution_count": 12,
   "metadata": {
    "collapsed": false
   },
   "outputs": [
    {
     "data": {
      "text/html": [
       "<img src=\"data:image/png;base64,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\" />"
      ]
     },
     "execution_count": 12,
     "metadata": {},
     "output_type": "execute_result"
    }
   ],
   "source": [
    "violin(sdonuts, :variable, :value, alpha=0.4, legend=false)\n",
    "boxplot!(sdonuts, :variable, :value, alpha=0.6, line=:black)"
   ]
  },
  {
   "cell_type": "code",
   "execution_count": 13,
   "metadata": {
    "collapsed": true
   },
   "outputs": [],
   "source": [
    "using GLM"
   ]
  },
  {
   "cell_type": "code",
   "execution_count": 14,
   "metadata": {
    "collapsed": false
   },
   "outputs": [
    {
     "data": {
      "text/plain": [
       "DataFrames.DataFrameRegressionModel{GLM.GeneralizedLinearModel{GLM.GlmResp{Array{Float64,1},Distributions.Normal{Float64},GLM.IdentityLink},GLM.DensePredChol{Float64,Base.LinAlg.Cholesky{Float64,Array{Float64,2}}}},Float64}\n",
       "\n",
       "Formula: value ~ 1 + variable\n",
       "\n",
       "Coefficients:\n",
       "                 Estimate Std.Error  z value Pr(>|z|)\n",
       "(Intercept)         172.0   4.10081  41.9429   <1e-99\n",
       "variable - Fat2      13.0   5.79943   2.2416   0.0250\n",
       "variable - Fat3       4.0   5.79943 0.689724   0.4904\n",
       "variable - Fat4     -10.0   5.79943 -1.72431   0.0847\n"
      ]
     },
     "execution_count": 14,
     "metadata": {},
     "output_type": "execute_result"
    }
   ],
   "source": [
    "anova = fit(GeneralizedLinearModel, value ~ variable, sdonuts, Normal(), IdentityLink())"
   ]
  },
  {
   "cell_type": "markdown",
   "metadata": {},
   "source": [
    "> The statistical model for which one-way ANOVA is appropriate is that\n",
    "the (quantitative) outcomes for each group are **normally distributed**\n",
    "with a **common variance** (σ²). The errors (deviations of individual\n",
    "outcomes from the population group means) are assumed to be independent.\n",
    "The model places no restrictions on the population group\n",
    "means.\n",
    ">> - *Seltman, Howard J. \"Experimental design and analysis.\" Online at: [http://www.stat.cmu.edu/~hseltman/309/Book/Book.pdf](http://www.stat.cmu.edu/~hseltman/309/Book/Book.pdf) (2012).*"
   ]
  },
  {
   "cell_type": "code",
   "execution_count": 15,
   "metadata": {
    "collapsed": false
   },
   "outputs": [
    {
     "name": "stderr",
     "output_type": "stream",
     "text": [
      "WARNING: Method definition call(Polynomials.Poly, Any) in module Polynomials at /home/dzea/.julia/v0.4/Polynomials/src/Polynomials.jl:302 overwritten in module CurveFit at /home/dzea/.julia/v0.4/CurveFit/src/linfit.jl:124.\n"
     ]
    }
   ],
   "source": [
    "using RCall\n",
    "using HypothesisTests"
   ]
  },
  {
   "cell_type": "code",
   "execution_count": 16,
   "metadata": {
    "collapsed": false
   },
   "outputs": [
    {
     "data": {
      "text/html": [
       "<table class=\"data-frame\"><tr><th></th><th>variable</th><th>P_AD</th><th>P_Shapiro</th></tr><tr><th>1</th><td>Fat1</td><td>0.6176059803611285</td><td>0.7406352485668342</td></tr><tr><th>2</th><td>Fat2</td><td>0.6194216548282149</td><td>0.5926484972078393</td></tr><tr><th>3</th><td>Fat3</td><td>0.39409638619216925</td><td>0.6065677037767483</td></tr><tr><th>4</th><td>Fat4</td><td>0.27719288143949883</td><td>0.30967709220999107</td></tr></table>"
      ],
      "text/plain": [
       "4×3 DataFrames.DataFrame\n",
       "│ Row │ variable │ P_AD     │ P_Shapiro │\n",
       "├─────┼──────────┼──────────┼───────────┤\n",
       "│ 1   │ \"Fat1\"   │ 0.617606 │ 0.740635  │\n",
       "│ 2   │ \"Fat2\"   │ 0.619422 │ 0.592648  │\n",
       "│ 3   │ \"Fat3\"   │ 0.394096 │ 0.606568  │\n",
       "│ 4   │ \"Fat4\"   │ 0.277193 │ 0.309677  │"
      ]
     },
     "execution_count": 16,
     "metadata": {},
     "output_type": "execute_result"
    }
   ],
   "source": [
    "by(sdonuts, :variable) do df\n",
    "    DataFrame(\n",
    "        P_AD = pvalue(OneSampleADTest(df[:value], Normal())),\n",
    "        P_Shapiro = rcopy(R\"shapiro.test($(df[:value]))\")[symbol(\"p.value\")]\n",
    "    )\n",
    "end"
   ]
  },
  {
   "cell_type": "code",
   "execution_count": 17,
   "metadata": {
    "collapsed": false
   },
   "outputs": [
    {
     "data": {
      "text/plain": [
       "RCall.RObject{RCall.VecSxp}\n",
       "Levene's Test for Homogeneity of Variance (center = median)\n",
       "      Df F value Pr(>F)\n",
       "group  3  0.3434 0.7942\n",
       "      20               \n"
      ]
     },
     "execution_count": 17,
     "metadata": {},
     "output_type": "execute_result"
    }
   ],
   "source": [
    "R\"\"\"\n",
    "library(car)\n",
    "leveneTest(value ~ variable, $sdonuts)\n",
    "\"\"\""
   ]
  },
  {
   "cell_type": "code",
   "execution_count": 18,
   "metadata": {
    "collapsed": false
   },
   "outputs": [
    {
     "data": {
      "text/plain": [
       "RCall.RObject{RCall.VecSxp}\n",
       "\n",
       "\tOne-way analysis of means (not assuming equal variances)\n",
       "\n",
       "data:  value and variable\n",
       "F = 7.4757, num df = 3.000, denom df = 10.953, p-value = 0.005353\n",
       "\n"
      ]
     },
     "execution_count": 18,
     "metadata": {},
     "output_type": "execute_result"
    }
   ],
   "source": [
    "R\"oneway.test(value ~ variable, $sdonuts)\""
   ]
  },
  {
   "cell_type": "code",
   "execution_count": 19,
   "metadata": {
    "collapsed": false
   },
   "outputs": [
    {
     "data": {
      "text/plain": [
       "RCall.RObject{RCall.VecSxp}\n",
       "Analysis of Variance Table\n",
       "\n",
       "Response: value\n",
       "          Df Sum Sq Mean Sq F value   Pr(>F)   \n",
       "variable   3 1636.5   545.5  5.4063 0.006876 **\n",
       "Residuals 20 2018.0   100.9                    \n",
       "---\n",
       "Signif. codes:  0 ‘***’ 0.001 ‘**’ 0.01 ‘*’ 0.05 ‘.’ 0.1 ‘ ’ 1\n"
      ]
     },
     "execution_count": 19,
     "metadata": {},
     "output_type": "execute_result"
    }
   ],
   "source": [
    "R\"\"\"\n",
    "modelo <- lm(value ~ variable, $sdonuts)\n",
    "anova(modelo)\n",
    "\"\"\""
   ]
  },
  {
   "cell_type": "code",
   "execution_count": 20,
   "metadata": {
    "collapsed": false
   },
   "outputs": [
    {
     "data": {
      "text/plain": [
       "RCall.RObject{RCall.RealSxp}\n",
       " (Intercept) variableFat2 variableFat3 variableFat4 \n",
       "         172           13            4          -10 \n"
      ]
     },
     "execution_count": 20,
     "metadata": {},
     "output_type": "execute_result"
    }
   ],
   "source": [
    "R\"coef(modelo)\""
   ]
  },
  {
   "cell_type": "code",
   "execution_count": 21,
   "metadata": {
    "collapsed": false
   },
   "outputs": [
    {
     "data": {
      "text/plain": [
       "RCall.RObject{RCall.RealSxp}\n",
       "                   2.5 %     97.5 %\n",
       "(Intercept)  163.4458541 180.554146\n",
       "variableFat2   0.9026109  25.097389\n",
       "variableFat3  -8.0973891  16.097389\n",
       "variableFat4 -22.0973891   2.097389\n"
      ]
     },
     "execution_count": 21,
     "metadata": {},
     "output_type": "execute_result"
    }
   ],
   "source": [
    "R\"confint(modelo)\""
   ]
  },
  {
   "cell_type": "markdown",
   "metadata": {},
   "source": [
    "#### Tabla de ANOVA"
   ]
  },
  {
   "cell_type": "code",
   "execution_count": 22,
   "metadata": {
    "collapsed": false
   },
   "outputs": [
    {
     "data": {
      "text/html": [
       "<table class=\"data-frame\"><tr><th></th><th>variable</th><th>n</th></tr><tr><th>1</th><td>Fat1</td><td>6</td></tr><tr><th>2</th><td>Fat2</td><td>6</td></tr><tr><th>3</th><td>Fat3</td><td>6</td></tr><tr><th>4</th><td>Fat4</td><td>6</td></tr></table>"
      ],
      "text/plain": [
       "4×2 DataFrames.DataFrame\n",
       "│ Row │ variable │ n │\n",
       "├─────┼──────────┼───┤\n",
       "│ 1   │ \"Fat1\"   │ 6 │\n",
       "│ 2   │ \"Fat2\"   │ 6 │\n",
       "│ 3   │ \"Fat3\"   │ 6 │\n",
       "│ 4   │ \"Fat4\"   │ 6 │"
      ]
     },
     "execution_count": 22,
     "metadata": {},
     "output_type": "execute_result"
    }
   ],
   "source": [
    "count = by(sdonuts, :variable, df -> nrow(df))\n",
    "names!(count, [:variable, :n])"
   ]
  },
  {
   "cell_type": "code",
   "execution_count": 23,
   "metadata": {
    "collapsed": false
   },
   "outputs": [
    {
     "data": {
      "text/plain": [
       "6"
      ]
     },
     "execution_count": 23,
     "metadata": {},
     "output_type": "execute_result"
    }
   ],
   "source": [
    "n = 6"
   ]
  },
  {
   "cell_type": "code",
   "execution_count": 24,
   "metadata": {
    "collapsed": false
   },
   "outputs": [
    {
     "data": {
      "text/plain": [
       "4"
      ]
     },
     "execution_count": 24,
     "metadata": {},
     "output_type": "execute_result"
    }
   ],
   "source": [
    "g = 4"
   ]
  },
  {
   "cell_type": "code",
   "execution_count": 25,
   "metadata": {
    "collapsed": false
   },
   "outputs": [
    {
     "data": {
      "text/plain": [
       "24"
      ]
     },
     "execution_count": 25,
     "metadata": {},
     "output_type": "execute_result"
    }
   ],
   "source": [
    "N = g * n"
   ]
  },
  {
   "cell_type": "code",
   "execution_count": 26,
   "metadata": {
    "collapsed": false
   },
   "outputs": [
    {
     "data": {
      "text/plain": [
       "173.75"
      ]
     },
     "execution_count": 26,
     "metadata": {},
     "output_type": "execute_result"
    }
   ],
   "source": [
    "ȳ = mean(sdonuts[:value])"
   ]
  },
  {
   "cell_type": "code",
   "execution_count": 27,
   "metadata": {
    "collapsed": false
   },
   "outputs": [
    {
     "data": {
      "text/html": [
       "<table class=\"data-frame\"><tr><th></th><th>variable</th><th>mean</th></tr><tr><th>1</th><td>Fat1</td><td>172.0</td></tr><tr><th>2</th><td>Fat2</td><td>185.0</td></tr><tr><th>3</th><td>Fat3</td><td>176.0</td></tr><tr><th>4</th><td>Fat4</td><td>162.0</td></tr></table>"
      ],
      "text/plain": [
       "4×2 DataFrames.DataFrame\n",
       "│ Row │ variable │ mean  │\n",
       "├─────┼──────────┼───────┤\n",
       "│ 1   │ \"Fat1\"   │ 172.0 │\n",
       "│ 2   │ \"Fat2\"   │ 185.0 │\n",
       "│ 3   │ \"Fat3\"   │ 176.0 │\n",
       "│ 4   │ \"Fat4\"   │ 162.0 │"
      ]
     },
     "execution_count": 27,
     "metadata": {},
     "output_type": "execute_result"
    }
   ],
   "source": [
    "ȳᵢ = by(sdonuts, :variable, df -> mean(df[:value]))\n",
    "names!(ȳᵢ, [:variable, :mean])"
   ]
  },
  {
   "cell_type": "markdown",
   "metadata": {
    "collapsed": true
   },
   "source": [
    "**NOTA:** Podemos tomar simplemente el promedio (y calcular cómo lo haremos) porque los grupos tienen el mismo tamaño, si ésto no fuera así, deberíamos pesar las varianzas de cada muestra por su tamaño."
   ]
  },
  {
   "cell_type": "code",
   "execution_count": 28,
   "metadata": {
    "collapsed": false
   },
   "outputs": [
    {
     "data": {
      "text/html": [
       "<table class=\"data-frame\"><tr><th></th><th>variable</th><th>value</th><th>mean</th></tr><tr><th>1</th><td>Fat1</td><td>164.0</td><td>172.0</td></tr><tr><th>2</th><td>Fat1</td><td>172.0</td><td>172.0</td></tr><tr><th>3</th><td>Fat1</td><td>168.0</td><td>172.0</td></tr><tr><th>4</th><td>Fat1</td><td>177.0</td><td>172.0</td></tr><tr><th>5</th><td>Fat1</td><td>156.0</td><td>172.0</td></tr><tr><th>6</th><td>Fat1</td><td>195.0</td><td>172.0</td></tr><tr><th>7</th><td>Fat2</td><td>178.0</td><td>185.0</td></tr><tr><th>8</th><td>Fat2</td><td>191.0</td><td>185.0</td></tr><tr><th>9</th><td>Fat2</td><td>197.0</td><td>185.0</td></tr><tr><th>10</th><td>Fat2</td><td>182.0</td><td>185.0</td></tr></table>"
      ],
      "text/plain": [
       "10×3 DataFrames.DataFrame\n",
       "│ Row │ variable │ value │ mean  │\n",
       "├─────┼──────────┼───────┼───────┤\n",
       "│ 1   │ \"Fat1\"   │ 164.0 │ 172.0 │\n",
       "│ 2   │ \"Fat1\"   │ 172.0 │ 172.0 │\n",
       "│ 3   │ \"Fat1\"   │ 168.0 │ 172.0 │\n",
       "│ 4   │ \"Fat1\"   │ 177.0 │ 172.0 │\n",
       "│ 5   │ \"Fat1\"   │ 156.0 │ 172.0 │\n",
       "│ 6   │ \"Fat1\"   │ 195.0 │ 172.0 │\n",
       "│ 7   │ \"Fat2\"   │ 178.0 │ 185.0 │\n",
       "│ 8   │ \"Fat2\"   │ 191.0 │ 185.0 │\n",
       "│ 9   │ \"Fat2\"   │ 197.0 │ 185.0 │\n",
       "│ 10  │ \"Fat2\"   │ 182.0 │ 185.0 │"
      ]
     },
     "execution_count": 28,
     "metadata": {},
     "output_type": "execute_result"
    }
   ],
   "source": [
    "datos = join(sdonuts, ȳᵢ, on=:variable)\n",
    "head(datos, 10)"
   ]
  },
  {
   "cell_type": "code",
   "execution_count": 29,
   "metadata": {
    "collapsed": false
   },
   "outputs": [
    {
     "data": {
      "text/plain": [
       "2018.0"
      ]
     },
     "execution_count": 29,
     "metadata": {},
     "output_type": "execute_result"
    }
   ],
   "source": [
    "SSW = sum((datos[:value] .- datos[:mean]).^ 2) # sum of squares within"
   ]
  },
  {
   "cell_type": "code",
   "execution_count": 30,
   "metadata": {
    "collapsed": false
   },
   "outputs": [
    {
     "data": {
      "text/plain": [
       "1636.5"
      ]
     },
     "execution_count": 30,
     "metadata": {},
     "output_type": "execute_result"
    }
   ],
   "source": [
    "SSB = n * sum((ȳᵢ[:mean] .- ȳ).^2) # sum of squares between"
   ]
  },
  {
   "cell_type": "code",
   "execution_count": 31,
   "metadata": {
    "collapsed": false
   },
   "outputs": [
    {
     "data": {
      "text/plain": [
       "5.406342913776015"
      ]
     },
     "execution_count": 31,
     "metadata": {},
     "output_type": "execute_result"
    }
   ],
   "source": [
    "F = (SSB/(g-1))/(SSW/(N-g))"
   ]
  },
  {
   "cell_type": "code",
   "execution_count": 32,
   "metadata": {
    "collapsed": false
   },
   "outputs": [],
   "source": [
    "using HypothesisTests"
   ]
  },
  {
   "cell_type": "code",
   "execution_count": 33,
   "metadata": {
    "collapsed": false
   },
   "outputs": [
    {
     "data": {
      "text/plain": [
       "0.006875947754735093"
      ]
     },
     "execution_count": 33,
     "metadata": {},
     "output_type": "execute_result"
    }
   ],
   "source": [
    "pvalue(FDist(g-1,N-g), F, tail=:right)"
   ]
  },
  {
   "cell_type": "markdown",
   "metadata": {
    "collapsed": true
   },
   "source": [
    "> The overall null hypothesis for one-way ANOVA with `k` groups is\n",
    "`H0 : µ1 = · · · = µk.` The alternative hypothesis is that \"the population\n",
    "means are not all equal\".\n",
    ">> - *Seltman, Howard J. \"Experimental design and analysis.\" Online at: [http://www.stat.cmu.edu/~hseltman/309/Book/Book.pdf](http://www.stat.cmu.edu/~hseltman/309/Book/Book.pdf) (2012).*"
   ]
  },
  {
   "cell_type": "markdown",
   "metadata": {
    "collapsed": true
   },
   "source": [
    "### Pruebas de Rangos Múltiples "
   ]
  },
  {
   "cell_type": "markdown",
   "metadata": {},
   "source": [
    "> Multiple comparison procedures are commonly used in an analysis of variance after obtaining a significant **omnibus test** result, like the ANOVA F-test. The significant ANOVA result suggests rejecting the global null hypothesis `H0` that the means are the same across the groups being compared. **Multiple comparison procedures are then used to determine which means differ.** In a one-way ANOVA involving `K` group means, there are `K(K − 1)/2` pairwise comparisons.\n",
    ">> - [Multiple comparisons problem,*wiki*](https://en.wikipedia.org/wiki/Multiple_comparisons_problem#Post-hoc_testing_of_ANOVAs)\n",
    "Ver también: [Post hoc analysis,*wiki*](https://en.wikipedia.org/wiki/Post_hoc_analysis)"
   ]
  },
  {
   "cell_type": "code",
   "execution_count": 34,
   "metadata": {
    "collapsed": false
   },
   "outputs": [
    {
     "data": {
      "text/plain": [
       "RCall.RObject{RCall.VecSxp}\n",
       "Call:\n",
       "   aov(formula = value ~ variable, data = `#JL`$sdonuts)\n",
       "\n",
       "Terms:\n",
       "                variable Residuals\n",
       "Sum of Squares    1636.5    2018.0\n",
       "Deg. of Freedom        3        20\n",
       "\n",
       "Residual standard error: 10.0449\n",
       "Estimated effects may be unbalanced\n"
      ]
     },
     "execution_count": 34,
     "metadata": {},
     "output_type": "execute_result"
    }
   ],
   "source": [
    "R\"modelo <- aov(value ~ variable, $sdonuts)\""
   ]
  },
  {
   "cell_type": "markdown",
   "metadata": {},
   "source": [
    "#### [Bonferroni](https://en.wikipedia.org/wiki/Bonferroni_correction)"
   ]
  },
  {
   "cell_type": "code",
   "execution_count": 35,
   "metadata": {
    "collapsed": false
   },
   "outputs": [
    {
     "data": {
      "text/plain": [
       "RCall.RObject{RCall.VecSxp}\n",
       "\n",
       "\tPairwise comparisons using t tests with pooled SD \n",
       "\n",
       "data:  sdonuts$value and sdonuts$variable \n",
       "\n",
       "     Fat1   Fat2   Fat3  \n",
       "Fat2 0.2189 -      -     \n",
       "Fat3 1.0000 0.8182 -     \n",
       "Fat4 0.6005 0.0046 0.1529\n",
       "\n",
       "P value adjustment method: bonferroni \n"
      ]
     },
     "execution_count": 35,
     "metadata": {},
     "output_type": "execute_result"
    }
   ],
   "source": [
    "@rput sdonuts # Copies variables from Julia to R using the same name.\n",
    "\n",
    "R\"\"\"\n",
    "pairwise.t.test(sdonuts$value, sdonuts$variable, p.adj = \"bonf\")\n",
    "\"\"\""
   ]
  },
  {
   "cell_type": "code",
   "execution_count": 36,
   "metadata": {
    "collapsed": false
   },
   "outputs": [
    {
     "data": {
      "text/plain": [
       "4"
      ]
     },
     "execution_count": 36,
     "metadata": {},
     "output_type": "execute_result"
    }
   ],
   "source": [
    "K = 4"
   ]
  },
  {
   "cell_type": "code",
   "execution_count": 37,
   "metadata": {
    "collapsed": false
   },
   "outputs": [
    {
     "data": {
      "text/plain": [
       "3x3 DataArrays.DataArray{Float64,2}:\n",
       " 0.0364883   NA           NA     \n",
       " 0.498294   0.136372      NA     \n",
       " 0.100075   0.000761889  0.025484"
      ]
     },
     "execution_count": 37,
     "metadata": {},
     "output_type": "execute_result"
    }
   ],
   "source": [
    "none = rcopy(R\"\"\"\n",
    "             pairwise.t.test(sdonuts$value, sdonuts$variable, p.adj = \"none\")$p.value\n",
    "             \"\"\")"
   ]
  },
  {
   "cell_type": "code",
   "execution_count": 38,
   "metadata": {
    "collapsed": false
   },
   "outputs": [
    {
     "data": {
      "text/plain": [
       "6.0"
      ]
     },
     "execution_count": 38,
     "metadata": {},
     "output_type": "execute_result"
    }
   ],
   "source": [
    "N_pares = K*(K-1) / 2"
   ]
  },
  {
   "cell_type": "code",
   "execution_count": 39,
   "metadata": {
    "collapsed": false
   },
   "outputs": [
    {
     "data": {
      "text/plain": [
       "3x3 DataArrays.DataArray{Float64,2}:\n",
       " 0.21893    NA          NA     \n",
       " 2.98976   0.818235     NA     \n",
       " 0.600452  0.00457133  0.152904"
      ]
     },
     "execution_count": 39,
     "metadata": {},
     "output_type": "execute_result"
    }
   ],
   "source": [
    "none .* N_pares"
   ]
  },
  {
   "cell_type": "markdown",
   "metadata": {},
   "source": [
    "#### [Tukey's HSD](https://en.wikipedia.org/wiki/Tukey%27s_range_test)"
   ]
  },
  {
   "cell_type": "markdown",
   "metadata": {},
   "source": [
    "> When doing all pairwise comparisons, this method is considered the best available when confidence intervals are needed or sample sizes are not equal. When samples sizes are equal and confidence intervals are not needed Tukey’s test is slightly less powerful than the [stepdown procedures](https://en.wikipedia.org/wiki/Family-wise_error_rate), but if they are not available Tukey’s is the next-best choice, and unless the number of groups is large, the loss in power will be slight. In the general case when many or all contrasts might be of interest, **Scheffé's method** tends to give narrower confidence limits and is therefore the preferred method."
   ]
  },
  {
   "cell_type": "code",
   "execution_count": 40,
   "metadata": {
    "collapsed": false
   },
   "outputs": [
    {
     "data": {
      "text/plain": [
       "RCall.RObject{RCall.VecSxp}\n",
       "  Tukey multiple comparisons of means\n",
       "    95% family-wise confidence level\n",
       "\n",
       "Fit: aov(formula = value ~ variable, data = `#JL`$sdonuts)\n",
       "\n",
       "$variable\n",
       "          diff        lwr       upr     p adj\n",
       "Fat2-Fat1   13  -3.232221 29.232221 0.1461929\n",
       "Fat3-Fat1    4 -12.232221 20.232221 0.8998057\n",
       "Fat4-Fat1  -10 -26.232221  6.232221 0.3378150\n",
       "Fat3-Fat2   -9 -25.232221  7.232221 0.4270717\n",
       "Fat4-Fat2  -23 -39.232221 -6.767779 0.0039064\n",
       "Fat4-Fat3  -14 -30.232221  2.232221 0.1065573\n",
       "\n"
      ]
     },
     "execution_count": 40,
     "metadata": {},
     "output_type": "execute_result"
    }
   ],
   "source": [
    "R\"TukeyHSD(modelo)\""
   ]
  },
  {
   "cell_type": "code",
   "execution_count": 41,
   "metadata": {
    "collapsed": false
   },
   "outputs": [
    {
     "data": {
      "text/plain": [
       "RCall.RObject{RCall.VecSxp}\n",
       "$statistics\n",
       "    Mean       CV MSerror      HSD\n",
       "  173.75 5.781237   100.9 16.23222\n",
       "\n",
       "$parameters\n",
       "  Df ntr StudentizedRange alpha  test   name.t\n",
       "  20   4         3.958293  0.05 Tukey variable\n",
       "\n",
       "$means\n",
       "     value       std r Min Max\n",
       "Fat1   172 13.341664 6 156 195\n",
       "Fat2   185  7.771744 6 177 197\n",
       "Fat3   176  9.879271 6 163 193\n",
       "Fat4   162  8.221922 6 149 170\n",
       "\n",
       "$comparison\n",
       "NULL\n",
       "\n",
       "$groups\n",
       "   trt means  M\n",
       "1 Fat2   185  a\n",
       "2 Fat3   176 ab\n",
       "3 Fat1   172 ab\n",
       "4 Fat4   162  b\n",
       "\n"
      ]
     },
     "execution_count": 41,
     "metadata": {},
     "output_type": "execute_result"
    }
   ],
   "source": [
    "R\"\"\"\n",
    "# install.packages(\"agricolae\")\n",
    "\n",
    "library(agricolae)\n",
    "\n",
    "HSD.test(modelo, \"variable\")\n",
    "\"\"\""
   ]
  },
  {
   "cell_type": "markdown",
   "metadata": {},
   "source": [
    "### [Scheffé's test](https://en.wikipedia.org/wiki/Scheff%C3%A9%27s_method)"
   ]
  },
  {
   "cell_type": "markdown",
   "metadata": {},
   "source": [
    "> Scheffé's method applies to the set of estimates of all possible contrasts among the factor level means, not just the pairwise differences. Having an advantage of flexibility, it can be used to test any number of post hoc simple and/or complex comparisons that appear interesting. However, the drawback of this flexibility is a low type I error rate, and a low power."
   ]
  },
  {
   "cell_type": "code",
   "execution_count": 42,
   "metadata": {
    "collapsed": false
   },
   "outputs": [
    {
     "data": {
      "text/plain": [
       "RCall.RObject{RCall.VecSxp}\n",
       "$statistics\n",
       "    Mean       CV MSerror CriticalDifference\n",
       "  173.75 5.781237   100.9           17.68128\n",
       "\n",
       "$parameters\n",
       "  Df ntr        F  Scheffe alpha    test   name.t\n",
       "  20   4 3.098391 3.048799  0.05 Scheffe variable\n",
       "\n",
       "$means\n",
       "     value       std r Min Max\n",
       "Fat1   172 13.341664 6 156 195\n",
       "Fat2   185  7.771744 6 177 197\n",
       "Fat3   176  9.879271 6 163 193\n",
       "Fat4   162  8.221922 6 149 170\n",
       "\n",
       "$comparison\n",
       "NULL\n",
       "\n",
       "$groups\n",
       "   trt means  M\n",
       "1 Fat2   185  a\n",
       "2 Fat3   176 ab\n",
       "3 Fat1   172 ab\n",
       "4 Fat4   162  b\n",
       "\n"
      ]
     },
     "execution_count": 42,
     "metadata": {},
     "output_type": "execute_result"
    }
   ],
   "source": [
    "R\"\"\"\n",
    "# install.packages(\"agricolae\")\n",
    "# library(agricolae)\n",
    "\n",
    "scheffe.test(modelo, \"variable\")\n",
    "\"\"\""
   ]
  },
  {
   "cell_type": "code",
   "execution_count": 43,
   "metadata": {
    "collapsed": false
   },
   "outputs": [
    {
     "data": {
      "text/html": [
       "<table class=\"data-frame\"><tr><th></th><th>variable</th><th>mean</th><th>min</th><th>max</th></tr><tr><th>1</th><td>Fat1</td><td>172.0</td><td>157.99878223558633</td><td>186.00121776441367</td></tr><tr><th>2</th><td>Fat2</td><td>185.0</td><td>176.8440551864332</td><td>193.1559448135668</td></tr><tr><th>3</th><td>Fat3</td><td>176.0</td><td>165.63234067694603</td><td>186.36765932305397</td></tr><tr><th>4</th><td>Fat4</td><td>162.0</td><td>153.3716221124483</td><td>170.6283778875517</td></tr></table>"
      ],
      "text/plain": [
       "4×4 DataFrames.DataFrame\n",
       "│ Row │ variable │ mean  │ min     │ max     │\n",
       "├─────┼──────────┼───────┼─────────┼─────────┤\n",
       "│ 1   │ \"Fat1\"   │ 172.0 │ 157.999 │ 186.001 │\n",
       "│ 2   │ \"Fat2\"   │ 185.0 │ 176.844 │ 193.156 │\n",
       "│ 3   │ \"Fat3\"   │ 176.0 │ 165.632 │ 186.368 │\n",
       "│ 4   │ \"Fat4\"   │ 162.0 │ 153.372 │ 170.628 │"
      ]
     },
     "execution_count": 43,
     "metadata": {},
     "output_type": "execute_result"
    }
   ],
   "source": [
    "medias = by(sdonuts, :variable) do df\n",
    "    valores = df[:value]\n",
    "    CI = ci(OneSampleTTest(valores))\n",
    "    DataFrame(\n",
    "        mean = mean(valores),\n",
    "        min   = CI[1],\n",
    "        max   = CI[2]\n",
    "    )\n",
    "end"
   ]
  },
  {
   "cell_type": "code",
   "execution_count": 46,
   "metadata": {
    "collapsed": false
   },
   "outputs": [
    {
     "data": {
      "text/html": [
       "<img src=\"data:image/png;base64,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\" />"
      ]
     },
     "execution_count": 46,
     "metadata": {},
     "output_type": "execute_result"
    }
   ],
   "source": [
    "bar(1:4, medias[:mean], xticks=(1:4,medias[:variable]), \n",
    "bar_width=0.25, yerror=(medias[:mean].-medias[:min],medias[:max].-medias[:mean]))"
   ]
  },
  {
   "cell_type": "markdown",
   "metadata": {},
   "source": [
    "#### Contrastes ortogonales"
   ]
  },
  {
   "cell_type": "code",
   "execution_count": 47,
   "metadata": {
    "collapsed": false
   },
   "outputs": [],
   "source": [
    "@rput sdonuts;"
   ]
  },
  {
   "cell_type": "markdown",
   "metadata": {},
   "source": [
    "Solo hay $K-1$ contrastes ortogonales, donde $K$ es el número de niveles. Por defecto, todos se comparan contra la primera categoría (`Fat1`)."
   ]
  },
  {
   "cell_type": "code",
   "execution_count": 48,
   "metadata": {
    "collapsed": false
   },
   "outputs": [
    {
     "data": {
      "text/plain": [
       "RCall.RObject{RCall.RealSxp}\n",
       "     Fat2 Fat3 Fat4\n",
       "Fat1    0    0    0\n",
       "Fat2    1    0    0\n",
       "Fat3    0    1    0\n",
       "Fat4    0    0    1\n"
      ]
     },
     "execution_count": 48,
     "metadata": {},
     "output_type": "execute_result"
    }
   ],
   "source": [
    "R\"\"\"\n",
    "contrasts(sdonuts$variable)\n",
    "\"\"\""
   ]
  },
  {
   "cell_type": "code",
   "execution_count": 49,
   "metadata": {
    "collapsed": false
   },
   "outputs": [
    {
     "data": {
      "text/plain": [
       "RCall.RObject{RCall.VecSxp}\n",
       "\n",
       "Call:\n",
       "aov(formula = value ~ variable, data = sdonuts)\n",
       "\n",
       "Residuals:\n",
       "   Min     1Q Median     3Q    Max \n",
       "-16.00  -7.00   0.00   5.25  23.00 \n",
       "\n",
       "Coefficients:\n",
       "             Estimate Std. Error t value Pr(>|t|)    \n",
       "(Intercept)   172.000      4.101  41.943   <2e-16 ***\n",
       "variableFat2   13.000      5.799   2.242   0.0365 *  \n",
       "variableFat3    4.000      5.799   0.690   0.4983    \n",
       "variableFat4  -10.000      5.799  -1.724   0.1001    \n",
       "---\n",
       "Signif. codes:  0 ‘***’ 0.001 ‘**’ 0.01 ‘*’ 0.05 ‘.’ 0.1 ‘ ’ 1\n",
       "\n",
       "Residual standard error: 10.04 on 20 degrees of freedom\n",
       "Multiple R-squared:  0.4478,\tAdjusted R-squared:  0.365 \n",
       "F-statistic: 5.406 on 3 and 20 DF,  p-value: 0.006876\n",
       "\n"
      ]
     },
     "execution_count": 49,
     "metadata": {},
     "output_type": "execute_result"
    }
   ],
   "source": [
    "R\"summary.lm(aov(value~variable,data=sdonuts))\""
   ]
  },
  {
   "cell_type": "markdown",
   "metadata": {},
   "source": [
    "Si en lugar de eso queremos comparar contra el último nivel (`Fat4`). Todos los contrastes deben sumar `0`:"
   ]
  },
  {
   "cell_type": "code",
   "execution_count": 50,
   "metadata": {
    "collapsed": false
   },
   "outputs": [
    {
     "data": {
      "text/plain": [
       "RCall.RObject{RCall.RealSxp}\n",
       "     [,1] [,2] [,3]\n",
       "[1,]    1    0    0\n",
       "[2,]    0    1    0\n",
       "[3,]    0    0    1\n",
       "[4,]   -1   -1   -1\n"
      ]
     },
     "execution_count": 50,
     "metadata": {},
     "output_type": "execute_result"
    }
   ],
   "source": [
    "R\"contrastmatrix <- cbind( c(1,0,0,-1), c(0,1,0,-1), c(0,0,1,-1) )\""
   ]
  },
  {
   "cell_type": "code",
   "execution_count": 51,
   "metadata": {
    "collapsed": false
   },
   "outputs": [
    {
     "data": {
      "text/plain": [
       "RCall.RObject{RCall.RealSxp}\n",
       "     [,1] [,2] [,3]\n",
       "Fat1    1    0    0\n",
       "Fat2    0    1    0\n",
       "Fat3    0    0    1\n",
       "Fat4   -1   -1   -1\n"
      ]
     },
     "execution_count": 51,
     "metadata": {},
     "output_type": "execute_result"
    }
   ],
   "source": [
    "R\"\"\"\n",
    "contrasts(sdonuts$variable) <- contrastmatrix\n",
    "\n",
    "contrasts(sdonuts$variable)\n",
    "\"\"\""
   ]
  },
  {
   "cell_type": "code",
   "execution_count": 52,
   "metadata": {
    "collapsed": false
   },
   "outputs": [
    {
     "data": {
      "text/plain": [
       "RCall.RObject{RCall.VecSxp}\n",
       "\n",
       "Call:\n",
       "aov(formula = value ~ variable, data = sdonuts)\n",
       "\n",
       "Residuals:\n",
       "   Min     1Q Median     3Q    Max \n",
       "-16.00  -7.00   0.00   5.25  23.00 \n",
       "\n",
       "Coefficients:\n",
       "            Estimate Std. Error t value Pr(>|t|)    \n",
       "(Intercept)  173.750      2.050  84.739  < 2e-16 ***\n",
       "variable1     -1.750      3.551  -0.493  0.62755    \n",
       "variable2     11.250      3.551   3.168  0.00484 ** \n",
       "variable3      2.250      3.551   0.634  0.53355    \n",
       "---\n",
       "Signif. codes:  0 ‘***’ 0.001 ‘**’ 0.01 ‘*’ 0.05 ‘.’ 0.1 ‘ ’ 1\n",
       "\n",
       "Residual standard error: 10.04 on 20 degrees of freedom\n",
       "Multiple R-squared:  0.4478,\tAdjusted R-squared:  0.365 \n",
       "F-statistic: 5.406 on 3 and 20 DF,  p-value: 0.006876\n",
       "\n"
      ]
     },
     "execution_count": 52,
     "metadata": {},
     "output_type": "execute_result"
    }
   ],
   "source": [
    "R\"summary.lm(aov(value~variable,data=sdonuts))\""
   ]
  },
  {
   "cell_type": "code",
   "execution_count": 53,
   "metadata": {
    "collapsed": false
   },
   "outputs": [
    {
     "data": {
      "text/html": [
       "<table class=\"data-frame\"><tr><th></th><th>variable</th><th>mean</th><th>min</th><th>max</th><th>diff</th></tr><tr><th>1</th><td>Fat1</td><td>172.0</td><td>157.99878223558633</td><td>186.00121776441367</td><td>-1.75</td></tr><tr><th>2</th><td>Fat2</td><td>185.0</td><td>176.8440551864332</td><td>193.1559448135668</td><td>11.25</td></tr><tr><th>3</th><td>Fat3</td><td>176.0</td><td>165.63234067694603</td><td>186.36765932305397</td><td>2.25</td></tr><tr><th>4</th><td>Fat4</td><td>162.0</td><td>153.3716221124483</td><td>170.6283778875517</td><td>-11.75</td></tr></table>"
      ],
      "text/plain": [
       "4×5 DataFrames.DataFrame\n",
       "│ Row │ variable │ mean  │ min     │ max     │ diff   │\n",
       "├─────┼──────────┼───────┼─────────┼─────────┼────────┤\n",
       "│ 1   │ \"Fat1\"   │ 172.0 │ 157.999 │ 186.001 │ -1.75  │\n",
       "│ 2   │ \"Fat2\"   │ 185.0 │ 176.844 │ 193.156 │ 11.25  │\n",
       "│ 3   │ \"Fat3\"   │ 176.0 │ 165.632 │ 186.368 │ 2.25   │\n",
       "│ 4   │ \"Fat4\"   │ 162.0 │ 153.372 │ 170.628 │ -11.75 │"
      ]
     },
     "execution_count": 53,
     "metadata": {},
     "output_type": "execute_result"
    }
   ],
   "source": [
    "medias[:diff] = medias[:mean] .- 173.750\n",
    "medias"
   ]
  },
  {
   "cell_type": "markdown",
   "metadata": {},
   "source": [
    "### Alternativa no paramétricas al ANOVA"
   ]
  },
  {
   "cell_type": "markdown",
   "metadata": {},
   "source": [
    "> In case normality is violated a rank type of test is more appropriate. In\n",
    "particular, to test the null-hypothesis of equal distributions of groups *[...]* the [**Kruskal-Wallis rank sum test**](https://en.wikipedia.org/wiki/Kruskal%E2%80%93Wallis_one-way_analysis_of_variance) is recommended. This\n",
    "    test can very well be seen as a generalization of the [**Wilcoxon test**](https://en.wikipedia.org/wiki/Mann%E2%80%93Whitney_U_test) for testing\n",
    "the equality of two distributions. Because it is based on ranking the data,\n",
    "it is highly robust against non-normality, it, however, does not estimate the\n",
    "size of experimental effects.\n",
    ">> *Krijnen, Wim P. \"Applied statistics for bioinformatics using R.\" Institute for Life Science and Technology, Hanze University (2009).*"
   ]
  },
  {
   "cell_type": "code",
   "execution_count": 54,
   "metadata": {
    "collapsed": false
   },
   "outputs": [
    {
     "data": {
      "text/html": [
       "<table class=\"data-frame\"><tr><th></th><th>Fat1</th><th>Fat2</th><th>Fat3</th><th>Fat4</th></tr><tr><th>1</th><td>164.0</td><td>178.0</td><td>175.0</td><td>155.0</td></tr><tr><th>2</th><td>172.0</td><td>191.0</td><td>193.0</td><td>166.0</td></tr><tr><th>3</th><td>168.0</td><td>197.0</td><td>178.0</td><td>149.0</td></tr><tr><th>4</th><td>177.0</td><td>182.0</td><td>171.0</td><td>164.0</td></tr><tr><th>5</th><td>156.0</td><td>185.0</td><td>163.0</td><td>170.0</td></tr><tr><th>6</th><td>195.0</td><td>177.0</td><td>176.0</td><td>168.0</td></tr></table>"
      ],
      "text/plain": [
       "6×4 DataFrames.DataFrame\n",
       "│ Row │ Fat1  │ Fat2  │ Fat3  │ Fat4  │\n",
       "├─────┼───────┼───────┼───────┼───────┤\n",
       "│ 1   │ 164.0 │ 178.0 │ 175.0 │ 155.0 │\n",
       "│ 2   │ 172.0 │ 191.0 │ 193.0 │ 166.0 │\n",
       "│ 3   │ 168.0 │ 197.0 │ 178.0 │ 149.0 │\n",
       "│ 4   │ 177.0 │ 182.0 │ 171.0 │ 164.0 │\n",
       "│ 5   │ 156.0 │ 185.0 │ 163.0 │ 170.0 │\n",
       "│ 6   │ 195.0 │ 177.0 │ 176.0 │ 168.0 │"
      ]
     },
     "execution_count": 54,
     "metadata": {},
     "output_type": "execute_result"
    }
   ],
   "source": [
    "donuts"
   ]
  },
  {
   "cell_type": "code",
   "execution_count": 55,
   "metadata": {
    "collapsed": false
   },
   "outputs": [
    {
     "data": {
      "text/plain": [
       "Kruskal-Wallis rank sum test (chi-square approximation)\n",
       "-------------------------------------------------------\n",
       "Population details:\n",
       "    parameter of interest:   Location parameters\n",
       "    value under h_0:         all equal\n",
       "    point estimate:          NaN\n",
       "\n",
       "Test summary:\n",
       "    outcome with 95% confidence: reject h_0\n",
       "    two-sided p-value:           0.007980479499903971 (very significant)\n",
       "\n",
       "Details:\n",
       "    number of observation in each group: [6,6,6,6]\n",
       "    χ²-statistic:                        11.832244483159132\n",
       "    rank sums:                           [67.5,117.0,81.5,34.0]\n",
       "    degrees of freedom:                  3\n",
       "    adjustment for ties:                 0.9982608695652174\n"
      ]
     },
     "execution_count": 55,
     "metadata": {},
     "output_type": "execute_result"
    }
   ],
   "source": [
    "KruskalWallisTest(donuts[:Fat1],donuts[:Fat2],donuts[:Fat3],donuts[:Fat4])"
   ]
  },
  {
   "cell_type": "code",
   "execution_count": 56,
   "metadata": {
    "collapsed": false
   },
   "outputs": [
    {
     "data": {
      "text/plain": [
       "RCall.RObject{RCall.VecSxp}\n",
       "\n",
       "\tKruskal-Wallis rank sum test\n",
       "\n",
       "data:  sdonuts$value and sdonuts$variable\n",
       "Kruskal-Wallis chi-squared = 11.832, df = 3, p-value = 0.00798\n",
       "\n"
      ]
     },
     "execution_count": 56,
     "metadata": {},
     "output_type": "execute_result"
    }
   ],
   "source": [
    "R\"kruskal.test(sdonuts$value, sdonuts$variable)\""
   ]
  },
  {
   "cell_type": "code",
   "execution_count": 57,
   "metadata": {
    "collapsed": false
   },
   "outputs": [
    {
     "name": "stderr",
     "output_type": "stream",
     "text": [
      "WARNING: RCall.jl \n",
      "Attaching package: ‘PMCMR’\n",
      "\n",
      "The following object is masked from ‘package:agricolae’:\n",
      "\n",
      "    durbin.test\n",
      "\n",
      "WARNING: RCall.jl Warning in posthoc.kruskal.nemenyi.test.default(sdonuts$value, sdonuts$variable) :\n",
      "  Ties are present, p-values are not corrected.\n"
     ]
    },
    {
     "data": {
      "text/plain": [
       "RCall.RObject{RCall.VecSxp}\n",
       "\n",
       "\tPairwise comparisons using Tukey and Kramer (Nemenyi) test\t\n",
       "                   with Tukey-Dist approximation for independent samples \n",
       "\n",
       "data:  sdonuts$value and sdonuts$variable \n",
       "\n",
       "     Fat1   Fat2   Fat3  \n",
       "Fat2 0.1802 -      -     \n",
       "Fat3 0.9406 0.4685 -     \n",
       "Fat4 0.5198 0.0039 0.2117\n",
       "\n",
       "P value adjustment method: none \n"
      ]
     },
     "execution_count": 57,
     "metadata": {},
     "output_type": "execute_result"
    }
   ],
   "source": [
    "R\"\"\"\n",
    "# install.packages(\"PMCMR\")\n",
    "library(PMCMR)\n",
    "posthoc.kruskal.nemenyi.test(sdonuts$value, sdonuts$variable)\n",
    "\"\"\""
   ]
  },
  {
   "cell_type": "markdown",
   "metadata": {},
   "source": [
    "#### [Friedman test](https://en.wikipedia.org/wiki/Friedman_test)"
   ]
  },
  {
   "cell_type": "markdown",
   "metadata": {},
   "source": [
    "> Similar to the parametric repeated measures ANOVA, it is used to detect differences in treatments across multiple test attempts. The procedure involves ranking each row (or block) together, then considering the values of ranks by columns. Applicable to complete block designs *[...]* example *[...]*:  \n",
    "$n$ wine judges each rate $k$ different wines. Are any wines ranked consistently higher or lower than the others?  \n",
    "The Friedman test is used for one-way repeated measures analysis of variance by ranks."
   ]
  },
  {
   "cell_type": "markdown",
   "metadata": {},
   "source": [
    "#### [Cochran's Q test](https://en.wikipedia.org/wiki/Cochran%27s_Q_test)"
   ]
  },
  {
   "cell_type": "markdown",
   "metadata": {},
   "source": [
    "> In statistics, in the analysis of two-way randomized block designs where the response variable can take only two possible outcomes (coded as 0 and 1), Cochran's Q test is a non-parametric statistical test to verify whether k treatments have identical effects.*[...]*   \n",
    "> Requires that there only be a binary response (success/failure or 1/0) and that there be 2 or more matched groups (groups of the same size). The test assesses whether the proportion of successes is the same between groups."
   ]
  },
  {
   "cell_type": "markdown",
   "metadata": {},
   "source": [
    "> Cochran's Q test is based on the following assumptions:  \n",
    "1 - A large sample approximation; in particular, it assumes that b is \"large\".  \n",
    "2 - The blocks were randomly selected from the population of all possible blocks.  \n",
    "3 - The outcomes of the treatments can be coded as binary responses (i.e., a \"0\" or \"1\") in a way that is common to all treatments within each block."
   ]
  },
  {
   "cell_type": "markdown",
   "metadata": {},
   "source": [
    "[Cochran’s Q test en Python](http://statsmodels.sourceforge.net/stable/generated/statsmodels.sandbox.stats.runs.cochrans_q.html#statsmodels.sandbox.stats.runs.cochrans_q)\n",
    "\n",
    "> Rows are blocks and columns are treatments."
   ]
  },
  {
   "cell_type": "code",
   "execution_count": 58,
   "metadata": {
    "collapsed": true
   },
   "outputs": [],
   "source": [
    "using PyCall"
   ]
  },
  {
   "cell_type": "code",
   "execution_count": 59,
   "metadata": {
    "collapsed": true
   },
   "outputs": [],
   "source": [
    "@pyimport statsmodels.sandbox.stats.runs as py_stats"
   ]
  },
  {
   "cell_type": "code",
   "execution_count": 60,
   "metadata": {
    "collapsed": false
   },
   "outputs": [
    {
     "data": {
      "text/plain": [
       "8x3 Array{Int64,2}:\n",
       " 1  0  0\n",
       " 1  1  0\n",
       " 1  0  0\n",
       " 1  0  0\n",
       " 1  1  0\n",
       " 1  1  0\n",
       " 1  1  0\n",
       " 0  0  1"
      ]
     },
     "execution_count": 60,
     "metadata": {},
     "output_type": "execute_result"
    }
   ],
   "source": [
    "mat = [ 1  0  0\n",
    "        1  1  0\n",
    "        1  0  0\n",
    "        1  0  0\n",
    "        1  1  0\n",
    "        1  1  0\n",
    "        1  1  0\n",
    "        0  0  1 ]"
   ]
  },
  {
   "cell_type": "code",
   "execution_count": 61,
   "metadata": {
    "collapsed": false
   },
   "outputs": [
    {
     "data": {
      "text/plain": [
       "(6.75,0.034218118311666025)"
      ]
     },
     "execution_count": 61,
     "metadata": {},
     "output_type": "execute_result"
    }
   ],
   "source": [
    "py_stats.cochrans_q(mat)"
   ]
  }
 ],
 "metadata": {
  "kernelspec": {
   "display_name": "Julia 0.4.5",
   "language": "julia",
   "name": "julia-0.4"
  },
  "language_info": {
   "file_extension": ".jl",
   "mimetype": "application/julia",
   "name": "julia",
   "version": "0.4.5"
  }
 },
 "nbformat": 4,
 "nbformat_minor": 0
}
