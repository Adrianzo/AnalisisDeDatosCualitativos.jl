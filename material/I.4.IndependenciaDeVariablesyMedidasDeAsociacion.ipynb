{
 "cells": [
  {
   "cell_type": "markdown",
   "metadata": {},
   "source": [
    "### Unidad I. Regresiones y reducción de dimensionalidad.\n",
    "\n",
    "## Independencia de variables y medidas de asociación.\n",
    "\n",
    "- Distribución conjunta de variables aleatorias. \n",
    " - Tablas de Contingencia.\n",
    " - Concepto de independencia. "
   ]
  },
  {
   "cell_type": "markdown",
   "metadata": {},
   "source": [
    "Llamamos [**distribución conjunta**](https://en.wikipedia.org/wiki/Joint_probability_distribution) (o *multivariada*) de dos (*distribución bivariada*) o más variables aleatorias a la distribución de la **intersección** de las variables. En el caso de dos variables aleatorias $X$ e $Y$:"
   ]
  },
  {
   "cell_type": "markdown",
   "metadata": {},
   "source": [
    "$$P(X=x, Y=y) = P(X=x|Y=y) \\cdot P(Y=y) = P(Y=y|X=x) \\cdot P(X=x)$$"
   ]
  },
  {
   "cell_type": "markdown",
   "metadata": {},
   "source": [
    "Donde $P(x|y)$ es la [**probabilidad condicional**](https://en.wikipedia.org/wiki/Conditional_probability) de $x$ dado $y$.  \n",
    "La probabilidad conjunta cumple:  \n",
    "$$\\sum_{i}\\sum_{j} P(X=x_{i}, Y=y_{j}) = 1$$"
   ]
  },
  {
   "cell_type": "markdown",
   "metadata": {},
   "source": [
    "Si $X$ e $Y$ son <a href=\"https://en.wikipedia.org/wiki/Independence_(probability_theory)\">variables **independientes**</a>, se cumple que:"
   ]
  },
  {
   "cell_type": "markdown",
   "metadata": {},
   "source": [
    "$$P(X=x, Y=y) = P(X=x) \\cdot P(Y=y)$$"
   ]
  },
  {
   "cell_type": "markdown",
   "metadata": {},
   "source": [
    "Las definiciones anteriores son para dos variables categóricas, sin embargo la misma idea se extiende para variables continuas, donde la función de densidad de probabilidad (*PDF*) conjunta se define como:\n"
   ]
  },
  {
   "cell_type": "markdown",
   "metadata": {},
   "source": [
    "$$PDF_{X,Y}(x,y) = PDF_{X|Y}(x|y) \\cdot PDF_{Y}(y) = PDF_{Y|X}(y|x) \\cdot PDF_{X}(x)$$"
   ]
  },
  {
   "cell_type": "markdown",
   "metadata": {},
   "source": [
    "Donde $PDF_{X}(x)$ es la función de densidad de probabilidad marginal o [**distribución marginal**](https://en.wikipedia.org/wiki/Marginal_distribution)."
   ]
  },
  {
   "cell_type": "markdown",
   "metadata": {},
   "source": [
    "$$PDF_{X}(x) = \\int_{y} PDF_{X,Y}(x,y) dy = \\int_{y} PDF_{X|Y}(x|y) \\cdot PDF_{Y}(y) dy$$"
   ]
  },
  {
   "cell_type": "markdown",
   "metadata": {},
   "source": [
    "En el caso de variables categóricas:"
   ]
  },
  {
   "cell_type": "markdown",
   "metadata": {},
   "source": [
    "$$ P(X=x) = \\sum_{y} P(X=x, Y=y) = \\sum_{y} P(X=x|Y=y) \\cdot P(Y=y)$$"
   ]
  },
  {
   "cell_type": "markdown",
   "metadata": {},
   "source": [
    "La función de densidad de probabilidad acumulada (*CDF*) para dos variables se define como:"
   ]
  },
  {
   "cell_type": "markdown",
   "metadata": {},
   "source": [
    "$$CDF_{X,Y}(x,y) = P(X \\le x, Y \\le y)$$"
   ]
  },
  {
   "cell_type": "markdown",
   "metadata": {},
   "source": [
    "### Tablas de Contingencia"
   ]
  },
  {
   "cell_type": "markdown",
   "metadata": {},
   "source": [
    "Las [**tablas de contingencia**](https://en.wikipedia.org/wiki/Contingency_table) representan todas las combinaciones de valores posibles para un determinado número de variables categóricas. Si por ejemplo tenemos tres variables categóricas $X$, $Y$ y $Z$, cada una con $i$, $j$ y $k$ niveles respectivamente. La tabla de contingencia que contiene la clasificación cruzada entre $X$ e $Y$ será una tabla $i \\times j$ (*two-way table*). La tabla que además incluya a la variable $Z$ será una tabla $i \\times j \\times k$ (*three-way contingency table*)."
   ]
  },
  {
   "cell_type": "code",
   "execution_count": 1,
   "metadata": {
    "collapsed": false
   },
   "outputs": [
    {
     "data": {
      "text/html": [
       "<table class=\"data-frame\"><tr><th></th><th>Sex</th><th>WrHnd</th><th>NWHnd</th><th>WHnd</th><th>Fold</th><th>Pulse</th><th>Clap</th><th>Exer</th><th>Smoke</th><th>Height</th><th>MI</th><th>Age</th></tr><tr><th>1</th><td>Female</td><td>18.5</td><td>18.0</td><td>Right</td><td>R on L</td><td>92</td><td>Left</td><td>Some</td><td>Never</td><td>173.0</td><td>Metric</td><td>18.25</td></tr><tr><th>2</th><td>Male</td><td>19.5</td><td>20.5</td><td>Left</td><td>R on L</td><td>104</td><td>Left</td><td>None</td><td>Regul</td><td>177.8</td><td>Imperial</td><td>17.583</td></tr><tr><th>3</th><td>Male</td><td>18.0</td><td>13.3</td><td>Right</td><td>L on R</td><td>87</td><td>Neither</td><td>None</td><td>Occas</td><td>NaN</td><td>NA</td><td>16.917</td></tr><tr><th>4</th><td>Male</td><td>18.8</td><td>18.9</td><td>Right</td><td>R on L</td><td>NA</td><td>Neither</td><td>None</td><td>Never</td><td>160.0</td><td>Metric</td><td>20.333</td></tr><tr><th>5</th><td>Male</td><td>20.0</td><td>20.0</td><td>Right</td><td>Neither</td><td>35</td><td>Right</td><td>Some</td><td>Never</td><td>165.0</td><td>Metric</td><td>23.667</td></tr><tr><th>6</th><td>Female</td><td>18.0</td><td>17.7</td><td>Right</td><td>L on R</td><td>64</td><td>Right</td><td>Some</td><td>Never</td><td>172.72</td><td>Imperial</td><td>21.0</td></tr></table>"
      ],
      "text/plain": [
       "6×12 DataFrames.DataFrame\n",
       "│ Row │ Sex      │ WrHnd │ NWHnd │ WHnd    │ Fold      │ Pulse │ Clap      │\n",
       "├─────┼──────────┼───────┼───────┼─────────┼───────────┼───────┼───────────┤\n",
       "│ 1   │ \"Female\" │ 18.5  │ 18.0  │ \"Right\" │ \"R on L\"  │ 92    │ \"Left\"    │\n",
       "│ 2   │ \"Male\"   │ 19.5  │ 20.5  │ \"Left\"  │ \"R on L\"  │ 104   │ \"Left\"    │\n",
       "│ 3   │ \"Male\"   │ 18.0  │ 13.3  │ \"Right\" │ \"L on R\"  │ 87    │ \"Neither\" │\n",
       "│ 4   │ \"Male\"   │ 18.8  │ 18.9  │ \"Right\" │ \"R on L\"  │ NA    │ \"Neither\" │\n",
       "│ 5   │ \"Male\"   │ 20.0  │ 20.0  │ \"Right\" │ \"Neither\" │ 35    │ \"Right\"   │\n",
       "│ 6   │ \"Female\" │ 18.0  │ 17.7  │ \"Right\" │ \"L on R\"  │ 64    │ \"Right\"   │\n",
       "\n",
       "│ Row │ Exer   │ Smoke   │ Height │ MI         │ Age    │\n",
       "├─────┼────────┼─────────┼────────┼────────────┼────────┤\n",
       "│ 1   │ \"Some\" │ \"Never\" │ 173.0  │ \"Metric\"   │ 18.25  │\n",
       "│ 2   │ \"None\" │ \"Regul\" │ 177.8  │ \"Imperial\" │ 17.583 │\n",
       "│ 3   │ \"None\" │ \"Occas\" │ NaN    │ NA         │ 16.917 │\n",
       "│ 4   │ \"None\" │ \"Never\" │ 160.0  │ \"Metric\"   │ 20.333 │\n",
       "│ 5   │ \"Some\" │ \"Never\" │ 165.0  │ \"Metric\"   │ 23.667 │\n",
       "│ 6   │ \"Some\" │ \"Never\" │ 172.72 │ \"Imperial\" │ 21.0   │"
      ]
     },
     "execution_count": 1,
     "metadata": {},
     "output_type": "execute_result"
    }
   ],
   "source": [
    "using RDatasets\n",
    "survey = dataset(\"MASS\", \"survey\")\n",
    "\n",
    "head(survey)"
   ]
  },
  {
   "cell_type": "code",
   "execution_count": 7,
   "metadata": {
    "collapsed": false,
    "scrolled": true
   },
   "outputs": [],
   "source": [
    "using FreqTables;"
   ]
  },
  {
   "cell_type": "code",
   "execution_count": 8,
   "metadata": {
    "collapsed": false
   },
   "outputs": [
    {
     "data": {
      "text/plain": [
       "2-element NamedArray{Int64,1}:\n",
       "Sex    │ \n",
       "───────┼────\n",
       "Female │ 118\n",
       "Male   │ 118"
      ]
     },
     "execution_count": 8,
     "metadata": {},
     "output_type": "execute_result"
    }
   ],
   "source": [
    "freqtable(survey, :Sex)"
   ]
  },
  {
   "cell_type": "code",
   "execution_count": 9,
   "metadata": {
    "collapsed": false
   },
   "outputs": [
    {
     "data": {
      "text/plain": [
       "2-element NamedArray{Int64,1}:\n",
       "WHnd  │ \n",
       "──────┼────\n",
       "Left  │  18\n",
       "Right │ 218"
      ]
     },
     "execution_count": 9,
     "metadata": {},
     "output_type": "execute_result"
    }
   ],
   "source": [
    "freqtable(survey, :WHnd)"
   ]
  },
  {
   "cell_type": "code",
   "execution_count": 22,
   "metadata": {
    "collapsed": false
   },
   "outputs": [
    {
     "data": {
      "text/plain": [
       "2x2 NamedArray{Int64,2}:\n",
       "Sex ╲ WHnd │  Left  Right\n",
       "───────────┼─────────────\n",
       "Female     │     7    110\n",
       "Male       │    10    108"
      ]
     },
     "execution_count": 22,
     "metadata": {},
     "output_type": "execute_result"
    }
   ],
   "source": [
    "# Nxy\n",
    "conteos = freqtable(survey, :Sex, :WHnd)"
   ]
  },
  {
   "cell_type": "code",
   "execution_count": 23,
   "metadata": {
    "collapsed": false
   },
   "outputs": [
    {
     "data": {
      "text/plain": [
       "2x1 NamedArray{Int64,2}:\n",
       "Sex ╲ WHnd │ sum(WHnd)\n",
       "───────────┼──────────\n",
       "Female     │       117\n",
       "Male       │       118"
      ]
     },
     "execution_count": 23,
     "metadata": {},
     "output_type": "execute_result"
    }
   ],
   "source": [
    "# Nx.\n",
    "marginal_Sex = sum(conteos,2)"
   ]
  },
  {
   "cell_type": "code",
   "execution_count": 24,
   "metadata": {
    "collapsed": false
   },
   "outputs": [
    {
     "data": {
      "text/plain": [
       "1x2 NamedArray{Int64,2}:\n",
       "Sex ╲ WHnd │  Left  Right\n",
       "───────────┼─────────────\n",
       "sum(Sex)   │    17    218"
      ]
     },
     "execution_count": 24,
     "metadata": {},
     "output_type": "execute_result"
    }
   ],
   "source": [
    "# N.y\n",
    "marginal_WHnd = sum(conteos,1)"
   ]
  },
  {
   "cell_type": "code",
   "execution_count": 25,
   "metadata": {
    "collapsed": false
   },
   "outputs": [
    {
     "data": {
      "text/plain": [
       "235"
      ]
     },
     "execution_count": 25,
     "metadata": {},
     "output_type": "execute_result"
    }
   ],
   "source": [
    "# N\n",
    "total = sum(conteos)"
   ]
  },
  {
   "cell_type": "markdown",
   "metadata": {},
   "source": [
    "$$ P(Right,Female) = \\frac{N_{Right,Female}}{N}$$"
   ]
  },
  {
   "cell_type": "code",
   "execution_count": 26,
   "metadata": {
    "collapsed": false
   },
   "outputs": [
    {
     "data": {
      "text/plain": [
       "2x2 NamedArray{Float64,2}:\n",
       "Sex ╲ WHnd │      Left      Right\n",
       "───────────┼─────────────────────\n",
       "Female     │ 0.0297872   0.468085\n",
       "Male       │ 0.0425532   0.459574"
      ]
     },
     "execution_count": 26,
     "metadata": {},
     "output_type": "execute_result"
    }
   ],
   "source": [
    "# P(x,y)\n",
    "probabilidades = conteos ./ total"
   ]
  },
  {
   "cell_type": "code",
   "execution_count": 27,
   "metadata": {
    "collapsed": false
   },
   "outputs": [
    {
     "data": {
      "text/plain": [
       "1.0"
      ]
     },
     "execution_count": 27,
     "metadata": {},
     "output_type": "execute_result"
    }
   ],
   "source": [
    "sum(probabilidades)"
   ]
  },
  {
   "cell_type": "markdown",
   "metadata": {},
   "source": [
    "$$ P(Right|Female) = \\frac{N_{Right,Female}}{N_{Female}}$$"
   ]
  },
  {
   "cell_type": "code",
   "execution_count": 31,
   "metadata": {
    "collapsed": false
   },
   "outputs": [
    {
     "name": "stderr",
     "output_type": "stream",
     "text": [
      "WARNING: Dropping mismatching names\n"
     ]
    },
    {
     "data": {
      "text/plain": [
       "2x2 Array{Float64,2}:\n",
       " 0.0598291  0.940171\n",
       " 0.0847458  0.915254"
      ]
     },
     "execution_count": 31,
     "metadata": {},
     "output_type": "execute_result"
    }
   ],
   "source": [
    "# P(y|x)\n",
    "condicionales_Sex = conteos ./ marginal_Sex"
   ]
  },
  {
   "cell_type": "code",
   "execution_count": 33,
   "metadata": {
    "collapsed": false
   },
   "outputs": [
    {
     "data": {
      "text/plain": [
       "2x1 Array{Float64,2}:\n",
       " 1.0\n",
       " 1.0"
      ]
     },
     "execution_count": 33,
     "metadata": {},
     "output_type": "execute_result"
    }
   ],
   "source": [
    "sum(condicionales_Sex,2)"
   ]
  },
  {
   "cell_type": "markdown",
   "metadata": {},
   "source": [
    "### Pearson's Chi-square Test"
   ]
  },
  {
   "cell_type": "code",
   "execution_count": 10,
   "metadata": {
    "collapsed": false
   },
   "outputs": [
    {
     "data": {
      "text/plain": [
       "4x3 NamedArray{Int64,2}:\n",
       "Smoke ╲ Exer │ Freq  None  Some\n",
       "─────────────┼─────────────────\n",
       "Heavy        │    7     1     3\n",
       "Never        │   87    18    84\n",
       "Occas        │   12     3     4\n",
       "Regul        │    9     1     7"
      ]
     },
     "execution_count": 10,
     "metadata": {},
     "output_type": "execute_result"
    }
   ],
   "source": [
    "tabla = freqtable(survey, :Smoke, :Exer)"
   ]
  },
  {
   "cell_type": "code",
   "execution_count": 11,
   "metadata": {
    "collapsed": false
   },
   "outputs": [
    {
     "name": "stderr",
     "output_type": "stream",
     "text": [
      "WARNING: Method definition call(Polynomials.Poly, Any) in module Polynomials at /home/dzea/.julia/v0.4/Polynomials/src/Polynomials.jl:302 overwritten in module CurveFit at /home/dzea/.julia/v0.4/CurveFit/src/linfit.jl:124.\n"
     ]
    }
   ],
   "source": [
    "using HypothesisTests;"
   ]
  },
  {
   "cell_type": "code",
   "execution_count": 12,
   "metadata": {
    "collapsed": false
   },
   "outputs": [
    {
     "data": {
      "text/plain": [
       "Pearson's Chi-square Test\n",
       "-------------------------\n",
       "Population details:\n",
       "    parameter of interest:   Multinomial Probabilities\n",
       "    value under h_0:         [0.022712582591209424,0.3902434645216892,0.039230824475725366,0.03510126400459638,0.004542516518241884,0.07804869290433784,0.007846164895145074,0.0070202528009192765,0.019355070382074117,0.33255530020109164,0.03343148520540075,0.02991238149956909]\n",
       "    point estimate:          [0.029661016949152543,0.3686440677966102,0.05084745762711865,0.038135593220338986,0.00423728813559322,0.07627118644067797,0.012711864406779662,0.00423728813559322,0.012711864406779662,0.3559322033898305,0.01694915254237288,0.029661016949152543]\n",
       "    95% confidence interval: [(0.0,0.1779660476915742),(0.21186440677966104,0.5169490985390318),(0.0,0.1991524883695403),(0.0,0.18644062396276065),(0.0,0.15254231887801487),(0.0,0.2245762171830996),(0.0,0.1610168951492013),(0.0,0.15254231887801487),(0.0,0.1610168951492013),(0.19915254237288135,0.5042372341322521),(0.0,0.16525418328479455),(0.0,0.1779660476915742)]\n",
       "\n",
       "Test summary:\n",
       "    outcome with 95% confidence: fail to reject h_0\n",
       "    two-sided p-value:           0.48284216946545644 (not significant)\n",
       "\n",
       "Details:\n",
       "    Sample size:        236\n",
       "    statistic:          5.48854589058423\n",
       "    degrees of freedom: 6\n",
       "    residuals:          [0.7082877012980027,-0.5311654319941755,0.9009953685088453,0.24880397941805482,-0.06957170700620106,-0.0977427093187574,0.8438642157170421,-0.5102550574730208,-0.7335611828990947,0.6227461378599878,-1.3848312058631418,-0.022327214034455433]\n",
       "    std. residuals:     [1.0130660454929008,-1.6622647389405631,1.3122361854001932,0.36070701012551437,-0.07500040377814932,-0.23054602852749886,0.9263282423374414,-0.5575546752141621,-0.9824660296422416,1.8248811013786144,-1.8885976034042409,-0.030309930323156473]\n"
      ]
     },
     "execution_count": 12,
     "metadata": {},
     "output_type": "execute_result"
    }
   ],
   "source": [
    "ChisqTest(tabla)"
   ]
  },
  {
   "cell_type": "code",
   "execution_count": 27,
   "metadata": {
    "collapsed": true
   },
   "outputs": [],
   "source": [
    "using RCall"
   ]
  },
  {
   "cell_type": "code",
   "execution_count": 28,
   "metadata": {
    "collapsed": false
   },
   "outputs": [
    {
     "name": "stderr",
     "output_type": "stream",
     "text": [
      "WARNING: RCall.jl Warning in chisq.test(`##RCall##11004`) :\n",
      "  Chi-squared approximation may be incorrect\n"
     ]
    },
    {
     "data": {
      "text/plain": [
       "RCall.RObject{RCall.VecSxp}\n",
       "\n",
       "\tPearson's Chi-squared test\n",
       "\n",
       "data:  ##RCall##11004\n",
       "X-squared = 5.4885, df = 6, p-value = 0.4828\n",
       "\n"
      ]
     },
     "execution_count": 28,
     "metadata": {},
     "output_type": "execute_result"
    }
   ],
   "source": [
    "R\"chisq.test($tabla)\""
   ]
  },
  {
   "cell_type": "markdown",
   "metadata": {},
   "source": [
    "### Fisher's Exact Test "
   ]
  },
  {
   "cell_type": "code",
   "execution_count": 29,
   "metadata": {
    "collapsed": false
   },
   "outputs": [
    {
     "data": {
      "text/plain": [
       "2x2 NamedArray{Int64,2}:\n",
       "Sex ╲ WHnd │  Left  Right\n",
       "───────────┼─────────────\n",
       "Female     │     7    110\n",
       "Male       │    10    108"
      ]
     },
     "execution_count": 29,
     "metadata": {},
     "output_type": "execute_result"
    }
   ],
   "source": [
    "tabla = freqtable(survey, :Sex, :WHnd)"
   ]
  },
  {
   "cell_type": "code",
   "execution_count": 33,
   "metadata": {
    "collapsed": false
   },
   "outputs": [
    {
     "data": {
      "text/plain": [
       "Fisher's exact test\n",
       "-------------------\n",
       "Population details:\n",
       "    parameter of interest:   Odds ratio\n",
       "    value under h_0:         1.0\n",
       "    point estimate:          0.6883618650408287\n",
       "    95% confidence interval: (0.2140339458713404,2.0876577726326677)\n",
       "\n",
       "Test summary:\n",
       "    outcome with 95% confidence: fail to reject h_0\n",
       "    two-sided p-value:           0.6287994157715476 (not significant)\n",
       "\n",
       "Details:\n",
       "    contingency table:\n",
       "         7  110\n",
       "        10  108\n"
      ]
     },
     "execution_count": 33,
     "metadata": {},
     "output_type": "execute_result"
    }
   ],
   "source": [
    "FisherExactTest(tabla'...)"
   ]
  },
  {
   "cell_type": "code",
   "execution_count": 32,
   "metadata": {
    "collapsed": false
   },
   "outputs": [
    {
     "data": {
      "text/plain": [
       "RCall.RObject{RCall.VecSxp}\n",
       "\n",
       "\tFisher's Exact Test for Count Data\n",
       "\n",
       "data:  ##RCall##11378\n",
       "p-value = 0.6158\n",
       "alternative hypothesis: true odds ratio is not equal to 1\n",
       "95 percent confidence interval:\n",
       " 0.2140244 2.0876656\n",
       "sample estimates:\n",
       "odds ratio \n",
       " 0.6883665 \n",
       "\n"
      ]
     },
     "execution_count": 32,
     "metadata": {},
     "output_type": "execute_result"
    }
   ],
   "source": [
    "R\"fisher.test($tabla)\""
   ]
  },
  {
   "cell_type": "code",
   "execution_count": null,
   "metadata": {
    "collapsed": true
   },
   "outputs": [],
   "source": []
  }
 ],
 "metadata": {
  "kernelspec": {
   "display_name": "Julia 0.4.5",
   "language": "julia",
   "name": "julia-0.4"
  },
  "language_info": {
   "file_extension": ".jl",
   "mimetype": "application/julia",
   "name": "julia",
   "version": "0.4.5"
  }
 },
 "nbformat": 4,
 "nbformat_minor": 0
}
