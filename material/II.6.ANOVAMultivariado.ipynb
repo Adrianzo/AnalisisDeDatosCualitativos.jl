{
 "cells": [
  {
   "cell_type": "markdown",
   "metadata": {},
   "source": [
    "### Unidad II. Regresiones y reducción de dimensionalidad.\n",
    "\n",
    "## Comparación de dos o más poblaciones atendiendo a un conjunto de variables correlacionadas. \n",
    "\n",
    "- El análisis de varianza multivariado."
   ]
  },
  {
   "cell_type": "code",
   "execution_count": 1,
   "metadata": {
    "collapsed": false
   },
   "outputs": [
    {
     "ename": "LoadError",
     "evalue": "LoadError: unknown package RegTools\n in error at ./error.jl:21\n [inlined code] from pkg/entry.jl:49\n in anonymous at task.jl:447\nwhile loading In[1], in expression starting on line 1",
     "output_type": "error",
     "traceback": [
      "LoadError: unknown package RegTools\n in error at ./error.jl:21\n [inlined code] from pkg/entry.jl:49\n in anonymous at task.jl:447\nwhile loading In[1], in expression starting on line 1",
      "",
      " in sync_end at ./task.jl:413",
      " [inlined code] from task.jl:422",
      " in add at pkg/entry.jl:64",
      " in add at pkg/entry.jl:73",
      " in anonymous at pkg/dir.jl:31",
      " in cd at file.jl:22",
      " in cd at pkg/dir.jl:31",
      " in add at pkg.jl:23"
     ]
    }
   ],
   "source": [
    "Pkg.add(\"RegTools\")"
   ]
  },
  {
   "cell_type": "code",
   "execution_count": null,
   "metadata": {
    "collapsed": true
   },
   "outputs": [],
   "source": []
  }
 ],
 "metadata": {
  "kernelspec": {
   "display_name": "Julia 0.4.5",
   "language": "julia",
   "name": "julia-0.4"
  },
  "language_info": {
   "file_extension": ".jl",
   "mimetype": "application/julia",
   "name": "julia",
   "version": "0.4.5"
  }
 },
 "nbformat": 4,
 "nbformat_minor": 0
}
