{
 "cells": [
  {
   "cell_type": "markdown",
   "metadata": {},
   "source": [
    "### Unidad II. Regresiones y reducción de dimensionalidad.\n",
    "\n",
    "## Reducción de datos. \n",
    "\n",
    "- Análisis de correspondencia.\n"
   ]
  },
  {
   "cell_type": "markdown",
   "metadata": {},
   "source": [
    "### Análisis de componentes principales (PCA)"
   ]
  },
  {
   "cell_type": "code",
   "execution_count": null,
   "metadata": {
    "collapsed": true
   },
   "outputs": [],
   "source": []
  },
  {
   "cell_type": "code",
   "execution_count": null,
   "metadata": {
    "collapsed": true
   },
   "outputs": [],
   "source": []
  },
  {
   "cell_type": "markdown",
   "metadata": {},
   "source": [
    "### [Análisis de correspondencia (CA)](https://en.wikipedia.org/wiki/Correspondence_analysis)"
   ]
  },
  {
   "cell_type": "markdown",
   "metadata": {},
   "source": [
    "> Distribution of hair and eye color and sex in 592 statistics students.  \n",
    "> A 3-dimensional array resulting from cross-tabulating 592\n",
    "> observations on 3 variables.  The variables and their levels are\n",
    "> as follows:  \n",
    "```\n",
    " No  Name  Levels                    \n",
    "  1  Hair  Black, Brown, Red, Blond  \n",
    "  2  Eye   Brown, Blue, Hazel, Green  \n",
    "  3  Sex   Male, Female              \n",
    "```   \n",
    "> The Hair x Eye table comes rom a survey of students at the\n",
    "> University of Delaware reported by Snee (1974).  The split by\n",
    "> ‘Sex’ was added by Friendly (1992a) for didactic purposes."
   ]
  },
  {
   "cell_type": "code",
   "execution_count": 28,
   "metadata": {
    "collapsed": false
   },
   "outputs": [
    {
     "data": {
      "text/plain": [
       "RCall.RObject{RCall.RealSxp}\n",
       ", , Sex = Male\n",
       "\n",
       "       Eye\n",
       "Hair    Brown Blue Hazel Green\n",
       "  Black    32   11    10     3\n",
       "  Brown    53   50    25    15\n",
       "  Red      10   10     7     7\n",
       "  Blond     3   30     5     8\n",
       "\n",
       ", , Sex = Female\n",
       "\n",
       "       Eye\n",
       "Hair    Brown Blue Hazel Green\n",
       "  Black    36    9     5     2\n",
       "  Brown    66   34    29    14\n",
       "  Red      16    7     7     7\n",
       "  Blond     4   64     5     8\n",
       "\n"
      ]
     },
     "execution_count": 28,
     "metadata": {},
     "output_type": "execute_result"
    }
   ],
   "source": [
    "using RCall\n",
    "R\"\"\"\n",
    "data(\"HairEyeColor\")\n",
    "HairEyeColor\n",
    "\"\"\""
   ]
  },
  {
   "cell_type": "code",
   "execution_count": 34,
   "metadata": {
    "collapsed": false
   },
   "outputs": [
    {
     "data": {
      "text/plain": [
       "RCall.RObject{RCall.RealSxp}\n",
       "       Eye\n",
       "Hair    Brown Blue Hazel Green\n",
       "  Black    68   20    15     5\n",
       "  Brown   119   84    54    29\n",
       "  Red      26   17    14    14\n",
       "  Blond     7   94    10    16\n"
      ]
     },
     "execution_count": 34,
     "metadata": {},
     "output_type": "execute_result"
    }
   ],
   "source": [
    "R\"\"\"\n",
    "HairEye <- margin.table(HairEyeColor,1:2)\n",
    "\"\"\""
   ]
  },
  {
   "cell_type": "markdown",
   "metadata": {},
   "source": [
    "> 1. Correspondence analysis is applicable to a **table of nonnegative data**, the primary example being a \n",
    "cross-tabulation of two categorical variables, that is a\n",
    "contingency table.\n",
    "2. The method can be thought of as an **analysis of row or column profiles** of the data matrix—these are \n",
    "the rows or columns expressed relative to their marginal totals.\n",
    "3. Each profile receives a **weight** equal to the relative **marginal total**, called a **mass**.\n",
    "4. **Distances between profiles are defined by the chi-square metric.** This is essentially a type of \n",
    "standardization of the profile values similar to that used in PCA, but using the average profile \n",
    "element as an estimate of variance rather than the variance itself.\n",
    "5. The **total variance**, called **inertia**, in the data is numerically equal to the **chi-square statistic \n",
    "for the table divided by the table's grand total**.\n",
    ">> - *Greenacre, Michael J. Biplots in practice. Fundacion BBVA, 2010.*"
   ]
  },
  {
   "cell_type": "code",
   "execution_count": 35,
   "metadata": {
    "collapsed": false
   },
   "outputs": [
    {
     "data": {
      "text/plain": [
       "RCall.RObject{RCall.VecSxp}\n",
       "\n",
       " Principal inertias (eigenvalues):\n",
       "           1        2        3       \n",
       "Value      0.208773 0.022227 0.002598\n",
       "Percentage 89.37%   9.52%    1.11%   \n",
       "\n",
       "\n",
       " Rows:\n",
       "            Black     Brown       Red    Blond\n",
       "Mass     0.182432  0.483108  0.119932 0.214527\n",
       "ChiDist  0.551192  0.159461  0.354770 0.838397\n",
       "Inertia  0.055425  0.012284  0.015095 0.150793\n",
       "Dim. 1  -1.104277 -0.324463 -0.283473 1.828229\n",
       "Dim. 2   1.440917 -0.219111 -2.144015 0.466706\n",
       "\n",
       "\n",
       " Columns:\n",
       "            Brown     Blue     Hazel     Green\n",
       "Mass     0.371622 0.363176  0.157095  0.108108\n",
       "ChiDist  0.500487 0.553684  0.288654  0.385727\n",
       "Inertia  0.093086 0.111337  0.013089  0.016085\n",
       "Dim. 1  -1.077128 1.198061 -0.465286  0.354011\n",
       "Dim. 2   0.592420 0.556419 -1.122783 -2.274122\n"
      ]
     },
     "execution_count": 35,
     "metadata": {},
     "output_type": "execute_result"
    }
   ],
   "source": [
    "R\"\"\"\n",
    "# install.packages(\"ca\")\n",
    "library(ca)\n",
    "CA <- ca(HairEye)\n",
    "\"\"\""
   ]
  },
  {
   "cell_type": "code",
   "execution_count": 36,
   "metadata": {
    "collapsed": false
   },
   "outputs": [
    {
     "data": {
      "image/png": "[encoded data removed]"
     },
     "metadata": {},
     "output_type": "display_data"
    },
    {
     "data": {
      "text/plain": [
       "RCall.RObject{RCall.VecSxp}\n",
       "$rows\n",
       "            Dim1        Dim2\n",
       "Black -0.5045624  0.21482046\n",
       "Brown -0.1482527 -0.03266635\n",
       "Red   -0.1295233 -0.31964240\n",
       "Blond  0.8353478  0.06957934\n",
       "\n",
       "$cols\n",
       "            Dim1        Dim2\n",
       "Brown -0.4921577  0.08832151\n",
       "Blue   0.5474139  0.08295428\n",
       "Hazel -0.2125969 -0.16739109\n",
       "Green  0.1617534 -0.33903957\n",
       "\n"
      ]
     },
     "execution_count": 36,
     "metadata": {},
     "output_type": "execute_result"
    }
   ],
   "source": [
    "R\"plot(CA)\""
   ]
  },
  {
   "cell_type": "markdown",
   "metadata": {},
   "source": [
    "> Row points (column points) that are closer together have more similar column profiles (row profiles). Keep in mind that you can not interpret the distance between row and column points directly.\n",
    ">> [Quick-R](http://www.statmethods.net/advstats/ca.html)"
   ]
  },
  {
   "cell_type": "markdown",
   "metadata": {},
   "source": [
    "> Possibly the simplest way to determine the relationship between a **row (column) level** and a\n",
    "**column (row) level** is to draw lines from their corresponding points in the plot to the origin. If the\n",
    "angle between the two lines is *acute*, then the **column (row) level** occurs more often in the sample\n",
    "than it does on average in the  **rows (columns)** as a whole. \n",
    ">> *Yelland, Phillip M. \"An introduction to correspondence analysis.\" The Mathematica Journal 12 (2010): 1-23*"
   ]
  },
  {
   "cell_type": "code",
   "execution_count": null,
   "metadata": {
    "collapsed": true
   },
   "outputs": [],
   "source": []
  }
 ],
 "metadata": {
  "kernelspec": {
   "display_name": "Julia 0.4.5",
   "language": "julia",
   "name": "julia-0.4"
  },
  "language_info": {
   "file_extension": ".jl",
   "mimetype": "application/julia",
   "name": "julia",
   "version": "0.4.5"
  }
 },
 "nbformat": 4,
 "nbformat_minor": 0
}
