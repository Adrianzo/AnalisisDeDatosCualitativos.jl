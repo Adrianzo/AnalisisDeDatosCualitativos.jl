{
 "cells": [
  {
   "cell_type": "markdown",
   "metadata": {},
   "source": [
    "### Unidad I. Variables, distribuciones y pruebas de hipótesis. \n",
    "\n",
    "## Prueba de Hipótesis. Verificación estadística de hipótesis estadística.\n",
    "\n",
    "- Prueba de bondad de ajuste a una distribución. \n",
    "- Procedimientos no paramétricos chi cuadrado y Kolmogorov–Smirnov\n",
    "- Comparación de dos poblaciones.\n",
    " - Test de Student y Fischer para comparar variables independientes con distribución normal. Test de Student para comparar variables apareadas.\n",
    " - Alternativas no paramétricas de comparación transversal y longitudinal. Los tests de Mann Whitney y Wicolxon.\n",
    " - Otras pruebas de comparación no paramétricas: El test de Kolmogorov-Smirnov y de la Mediana. Test de los signos y de McNemar.\n"
   ]
  },
  {
   "cell_type": "markdown",
   "metadata": {},
   "source": [
    "### Estadística inferencial"
   ]
  },
  {
   "cell_type": "markdown",
   "metadata": {},
   "source": [
    "La [estadística inferencial](https://en.wikipedia.org/wiki/Statistical_inference) trata de inferir información acerca de la distribución de probabilidad de una población, partiendo de la información de una muestra. Se diferencia de la [estadística descriptiva](https://en.wikipedia.org/wiki/Descriptive_statistics) en que en lugar de simplemente describir la muestra, trata de describir algo acerca de la población. Uno puede realizar diferentes estimaciones acerca de la población, la cual normalmente se conduce haciendo uso de la [estadística frecuentista](https://en.wikipedia.org/wiki/Frequentist_inference):  \n",
    "- [**Estimación puntual**](https://en.wikipedia.org/wiki/Point_estimation): Estimación de un parámetro poblacional haciendo uso del valor que mejor lo aproxime.  \n",
    "- [**Estimación por intervalos**](https://en.wikipedia.org/wiki/Interval_estimation): Estimación de un intervalo de valores para un parámetro poblacional desconocido. Por ejemplo, la estimación de un [intervalo de confianza](https://en.wikipedia.org/wiki/Confidence_interval) para un parámetro poblacional.  \n",
    "- [**Test de hipótesis**](https://en.wikipedia.org/wiki/Statistical_hypothesis_testing)  "
   ]
  },
  {
   "cell_type": "markdown",
   "metadata": {},
   "source": [
    "### Test de hipótesis."
   ]
  },
  {
   "cell_type": "markdown",
   "metadata": {},
   "source": [
    "Una prueba de hipótesis es análoga a una [demostración matemática por contradicción](https://en.wikipedia.org/wiki/Proof_by_contradiction) (en particular es un tipo de [*reductio ad absurdum*](https://en.wikipedia.org/wiki/Reductio_ad_absurdum)), aunque no debe considerarse en ningún caso una demostración matemática. Ambos métodos, parten de considerar una <a href=”https://en.wikipedia.org/wiki/Statement_(logic)”>declaración</a> verdadera, en el caso del test de hipótesis, [la hipótesis nula](https://en.wikipedia.org/wiki/Null_hypothesis) ó H₀. En ambos métodos se trata de llegar a una contradicción, dado que una implicación solo puede ser falsa si partiendo de una premisa verdadera llegamos a una conclusión falsa ([tabla de verdad](https://en.wikipedia.org/wiki/Truth_table)):"
   ]
  },
  {
   "cell_type": "markdown",
   "metadata": {
    "collapsed": true
   },
   "source": [
    "| *p*      | *q*       | *p → q*   |\n",
    "|----------|-----------|-----------|\n",
    "| *true*   | *true*    | *true*    |\n",
    "| **true** | **false** | **false** |\n",
    "| *false*  | *true*    | *true*    |\n",
    "| *false*  | *false*   | *true*    |"
   ]
  },
  {
   "cell_type": "markdown",
   "metadata": {
    "collapsed": true
   },
   "source": [
    "Acá es donde ambos métodos divergen, dado que la demostración matemática lo hace siguiendo reglas lógicas determinadas y procedimientos matemáticos permitidos, llegando a un resultado determinado no azaroso. Finalmente, si se llega a una contradicción, se concluye que la declaración original es falsa, aceptando la negación de dicha declaración. En el caso de la prueba de hipótesis, rechazar H₀ implica aceptar la hipótesis alternativa Hₐ. Sin embargo, no rechazar H₀ no implica aceptarla, decimos simplemente que no hay evidencia suficiente para rechazar la hipótesis nula. En cualquier caso, una prueba de hipótesis no demuestra una hipótesis, sólo la soporta con un cierto grado de confianza. Acumular evidencia a favor de una hipótesis ([razonamiento inductivo](https://es.wikipedia.org/wiki/Razonamiento_inductivo)) no es suficiente para demostrarla, la evidencia acumulada solo puede soportar dicha hipótesis.  \n",
    "Las pruebas de hipótesis fueron propuestas para solucionar [el problema de la inducción](https://es.wikipedia.org/wiki/Problema_de_la_inducci%C3%B3n) e incluir el análisis estadístico dentro de un [modelo hipotético deductivo](https://en.wikipedia.org/wiki/Hypothetico-deductive_model) *(Kaplan 2019, capítulo 13)*.  \n",
    "Existen dos tipos de errores que podemos cometer *(Neyman & Pearson, 1933)*:  "
   ]
  },
  {
   "cell_type": "markdown",
   "metadata": {
    "collapsed": true
   },
   "source": [
    "|                   | **H₀ es cierta**  | **Hₐ es cierta**   |\n",
    "|-------------------|-------------------|--------------------|\n",
    "| **Se escogió Hₐ** | *Error de tipo I* | Decisión correcta  |\n",
    "| **Se escogió H₀** | Decisión correcta | *Error de tipo II* |"
   ]
  },
  {
   "cell_type": "markdown",
   "metadata": {},
   "source": [
    "El riesgo o probabilidad de caer en un [error del tipo I](https://en.wikipedia.org/wiki/Type_I_and_type_II_errors) se conoce como [nivel de significación estadistica](https://en.wikipedia.org/wiki/Statistical_significance), normalmente indicado con la letra griega $\\alpha$. La probabilidad de caer en un [error del tipo II](https://en.wikipedia.org/wiki/Type_I_and_type_II_errors) normalmente se anota con la letra griega $\\beta$. Siendo $1-\\beta$ la [potencia o poder del test](https://en.wikipedia.org/wiki/Statistical_power)."
   ]
  },
  {
   "cell_type": "markdown",
   "metadata": {},
   "source": [
    "$$P(escoger H_a | H_0 cierta) = \\alpha$$  "
   ]
  },
  {
   "cell_type": "markdown",
   "metadata": {},
   "source": [
    "$$P(escoger H_0 | H_a cierta) = \\beta$$  "
   ]
  },
  {
   "cell_type": "markdown",
   "metadata": {},
   "source": [
    "$$P(escoger H_a | H_a cierta) = 1 - \\beta$$  "
   ]
  },
  {
   "cell_type": "markdown",
   "metadata": {},
   "source": [
    "Se habla de [errores de tipo III](https://en.wikipedia.org/wiki/Type_III_error) cuando se da la respuesta correcta (rechazar una hipótesis nula) para una pregunta incorrecta o errónea. "
   ]
  },
  {
   "cell_type": "markdown",
   "metadata": {},
   "source": [
    "##### Referencias\n",
    "\n",
    "- *Kaplan, D. (2009). Statistical modeling: A fresh approach.*  \n",
    "- *Neyman, J., & Pearson, E. S. (1992). On the problem of the most efficient tests of statistical hypotheses (pp. 73-108). Springer New York.*  \n",
    "- *Lehmann, E. L. (2012). The Fisher, Neyman-Peerson Theories of Testing Hypotheses: One Theory or Two?. In Selected Works of EL Lehmann (pp. 201-208). Springer US.*  \n",
    "- *Biau, D. J., Jolles, B. M., & Porcher, R. (2010). P value and the theory of hypothesis testing: an explanation for new researchers. Clinical Orthopaedics and Related Research®, 468(3), 885-892.*  \n",
    "- *Nickerson, R. S. (2000). Null hypothesis significance testing: a review of an old and continuing controversy. Psychological methods, 5(2), 241.*"
   ]
  },
  {
   "cell_type": "markdown",
   "metadata": {},
   "source": [
    "### Valor P"
   ]
  },
  {
   "cell_type": "markdown",
   "metadata": {},
   "source": [
    "El [valor P](https://en.wikipedia.org/wiki/P-value) (*p value*) es la probabilidad de observar un determinado valor (o uno más extremo) dado que H₀ es correcta. En ningún caso debe interpretarse como una probabilidad de la hipótesis nula. Un valor P bajo indica que los datos son inconsistentes con la hipótesis nula, permitiéndonos rechazar la hipótesis nula ante esa observación. Para decidir que es un valor bajo, uno puede recurrir al [valor de significación α](http://www.itl.nist.gov/div898/handbook/prc/section1/prc131.htm)."
   ]
  },
  {
   "cell_type": "markdown",
   "metadata": {},
   "source": [
    "$$P(escoger H_a | H_0 cierta) = P(p \\le \\alpha | H_0 cierta) = \\alpha$$  "
   ]
  },
  {
   "cell_type": "markdown",
   "metadata": {},
   "source": [
    "#### T de Student para una muestra "
   ]
  },
  {
   "cell_type": "markdown",
   "metadata": {
    "collapsed": true
   },
   "source": [
    "La [prueba de T de Student](https://en.wikipedia.org/wiki/Student%27s_t-test) para una muestra permite probar si  la media de una muestra es diferente de una media $\\mu_0$. Algo que tenemos que tener en cuenta, es que no podemos testear que la media poblacional sea un determinado valor. Ésto se debe a que no podemos saber cuál es la media poblacional sin analizar toda la población. Es decir, no podemos saber dónde se encuentra localizada la distribución *T Student* correspondiente a la media poblacional. Para determinar probabilidades necesitamos un parámetro de ubicación exacto. Es por esto que la hipótesis nula será la ubicación de la media poblacional en un lugar determinado. De hecho, las hipótesis nulas se caracterizan normalmente por tener igualdades (uno supone una distribución con parámetros determinados).  "
   ]
  },
  {
   "cell_type": "markdown",
   "metadata": {
    "collapsed": true
   },
   "source": [
    "$$H_0 : \\mu = \\mu_0$$"
   ]
  },
  {
   "cell_type": "markdown",
   "metadata": {},
   "source": [
    "Si ara una muestra de tamaño $n$ se cumplen las asunciones del test:  \n",
    "\n",
    "- Distribución normal de la variable (continua) en la población  \n",
    "- Muestreo al azar (cada observación es independiente)  \n",
    "\n",
    "Entonces el estadístico $t$ sigue una distribución *T de Student* con $n - 1$ grados de libertad.  "
   ]
  },
  {
   "cell_type": "markdown",
   "metadata": {},
   "source": [
    "$$ t = \\frac{ \\bar{x} - \\mu }{ \\frac{s}{\\sqrt{n}} }$$"
   ]
  },
  {
   "cell_type": "markdown",
   "metadata": {},
   "source": [
    "Supongamos una variable aleatoria $X$ que en la población se distribuye con una distribución `Normal(0.2,0.1)`. Y supongamos que estamos interesados en demostrar que la media de esa variable $X$ en la población es mayor a 0. Es decir:"
   ]
  },
  {
   "cell_type": "markdown",
   "metadata": {},
   "source": [
    "$$H_0 : \\mu = 0$$  "
   ]
  },
  {
   "cell_type": "markdown",
   "metadata": {},
   "source": [
    "$$H_a : \\mu > 0$$"
   ]
  },
  {
   "cell_type": "markdown",
   "metadata": {},
   "source": [
    "Otras dos hipótesis alternativas son posibles; $H_a \\ne 0$ ó $H_a < 0$. Podemos elegir cualquiera de éstas dependiendo de nuestro hipótesis de trabajo, determinando si el test será [a una o dos colas](https://en.wikipedia.org/wiki/One-_and_two-tailed_tests). En este caso el test será a una cola y el *p value* para un valor observado $T$ será: "
   ]
  },
  {
   "cell_type": "markdown",
   "metadata": {},
   "source": [
    "$$P(t \\ge T|H_0)$$"
   ]
  },
  {
   "cell_type": "code",
   "execution_count": 275,
   "metadata": {
    "collapsed": false
   },
   "outputs": [
    {
     "data": {
      "text/plain": [
       "5-element Array{Float64,1}:\n",
       " 0.066544 \n",
       " 0.0449967\n",
       " 0.0647516\n",
       " 0.147259 \n",
       " 0.0222407"
      ]
     },
     "execution_count": 275,
     "metadata": {},
     "output_type": "execute_result"
    }
   ],
   "source": [
    "using Distributions\n",
    "\n",
    "μ = 0.1\n",
    "población = Normal(μ,0.1)\n",
    "\n",
    "n = 5\n",
    "muestra   = rand(población, n)"
   ]
  },
  {
   "cell_type": "code",
   "execution_count": 276,
   "metadata": {
    "collapsed": false
   },
   "outputs": [
    {
     "data": {
      "text/plain": [
       "Distributions.TDist(ν=4.0)"
      ]
     },
     "execution_count": 276,
     "metadata": {},
     "output_type": "execute_result"
    }
   ],
   "source": [
    "# H₀\n",
    "μ₀ = 0 \n",
    "H₀ = TDist(n-1)"
   ]
  },
  {
   "cell_type": "code",
   "execution_count": 277,
   "metadata": {
    "collapsed": false
   },
   "outputs": [
    {
     "data": {
      "text/plain": [
       "0.06915835359427455"
      ]
     },
     "execution_count": 277,
     "metadata": {},
     "output_type": "execute_result"
    }
   ],
   "source": [
    "x̄ = mean(muestra)"
   ]
  },
  {
   "cell_type": "code",
   "execution_count": 278,
   "metadata": {
    "collapsed": false
   },
   "outputs": [
    {
     "data": {
      "text/plain": [
       "0.047199059632040255"
      ]
     },
     "execution_count": 278,
     "metadata": {},
     "output_type": "execute_result"
    }
   ],
   "source": [
    "s = std(muestra)"
   ]
  },
  {
   "cell_type": "code",
   "execution_count": 279,
   "metadata": {
    "collapsed": false
   },
   "outputs": [
    {
     "data": {
      "text/plain": [
       "3.276395357330134"
      ]
     },
     "execution_count": 279,
     "metadata": {},
     "output_type": "execute_result"
    }
   ],
   "source": [
    "T = (x̄-μ₀)/(s/sqrt(n))"
   ]
  },
  {
   "cell_type": "code",
   "execution_count": 280,
   "metadata": {
    "collapsed": false
   },
   "outputs": [
    {
     "data": {
      "text/plain": [
       "0.01530216987128046"
      ]
     },
     "execution_count": 280,
     "metadata": {},
     "output_type": "execute_result"
    }
   ],
   "source": [
    "p = ccdf(H₀,T)"
   ]
  },
  {
   "cell_type": "markdown",
   "metadata": {},
   "source": [
    "Obtenemos el mismo resultado que utilizando `OneSampleTTest` de la biblioteca *HypothesisTests* de **Julia**:"
   ]
  },
  {
   "cell_type": "code",
   "execution_count": 281,
   "metadata": {
    "collapsed": false
   },
   "outputs": [],
   "source": [
    "using HypothesisTests"
   ]
  },
  {
   "cell_type": "code",
   "execution_count": 282,
   "metadata": {
    "collapsed": false
   },
   "outputs": [
    {
     "data": {
      "text/plain": [
       "One sample t-test\n",
       "-----------------\n",
       "Population details:\n",
       "    parameter of interest:   Mean\n",
       "    value under h_0:         0\n",
       "    point estimate:          0.06915835359427455\n",
       "    95% confidence interval: (0.010552980500097571,0.12776372668845154)\n",
       "\n",
       "Test summary:\n",
       "    outcome with 95% confidence: reject h_0\n",
       "    two-sided p-value:           0.03060433974256092 (significant)\n",
       "\n",
       "Details:\n",
       "    number of observations:   5\n",
       "    t-statistic:              3.276395357330134\n",
       "    degrees of freedom:       4\n",
       "    empirical standard error: 0.021108061162261643\n"
      ]
     },
     "execution_count": 282,
     "metadata": {},
     "output_type": "execute_result"
    }
   ],
   "source": [
    "ttest = OneSampleTTest(muestra, 0)"
   ]
  },
  {
   "cell_type": "code",
   "execution_count": 283,
   "metadata": {
    "collapsed": false
   },
   "outputs": [
    {
     "data": {
      "text/plain": [
       "0.01530216987128046"
      ]
     },
     "execution_count": 283,
     "metadata": {},
     "output_type": "execute_result"
    }
   ],
   "source": [
    "pvalue(ttest, tail=:right)"
   ]
  },
  {
   "cell_type": "markdown",
   "metadata": {},
   "source": [
    "El *p value* depende de si el test es a una o dos colas, en este caso, como la distribución es simétrica alrededor del 0, es obvio que el *p value* para el test a dos colas es el doble del *p value* que obtuvimos. Pero calcular el *p value* a dos colas no es trivial, principalmente puede ser un problema para distribuciones asimétricas *(Kulinskaya, 2008; Agresti & Kateri, 2011)*. Pero en general se toma la idea de doblar el valor del P value menor al testear las dos opciones a una cola (es como si hiciéramos una [corrección de Bonferroni](https://en.wikipedia.org/wiki/Bonferroni_correction) al haber realizado dos pruebas).  \n",
    "\n",
    "*Kulinskaya, Elena. \"On two-sided p-values for non-symmetric distributions.\" arXiv preprint arXiv:0810.2124 (2008).*  \n",
    "*Agresti, Alan, and Maria Kateri. Categorical data analysis. Springer Berlin Heidelberg, 2011.*"
   ]
  },
  {
   "cell_type": "markdown",
   "metadata": {},
   "source": [
    "En particular, para una variable aleatoria $X$, que sigue una determinada distribución si $H_0$ es cierta, dado un estimador $x_0$, el *p value* es:"
   ]
  },
  {
   "cell_type": "markdown",
   "metadata": {},
   "source": [
    "$P(X \\geq x|H_0)$ prueba de una cola hacia la derecha (*right-tail event*) "
   ]
  },
  {
   "cell_type": "code",
   "execution_count": 284,
   "metadata": {
    "collapsed": false
   },
   "outputs": [
    {
     "data": {
      "text/plain": [
       "0.01530216987128046"
      ]
     },
     "execution_count": 284,
     "metadata": {},
     "output_type": "execute_result"
    }
   ],
   "source": [
    "p_right = pvalue(ttest, tail=:right)"
   ]
  },
  {
   "cell_type": "code",
   "execution_count": 285,
   "metadata": {
    "collapsed": false
   },
   "outputs": [
    {
     "data": {
      "text/html": [
       "<img src=\"data:image/png;base64,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\" />"
      ]
     },
     "execution_count": 285,
     "metadata": {},
     "output_type": "execute_result"
    }
   ],
   "source": [
    "using Plots\n",
    "pyplot(size=(400,200))\n",
    "\n",
    "PDF = plot(t -> pdf(H₀,t), -10, T, legend=false)\n",
    "plot!(PDF, t -> pdf(H₀,t), T, 10, fill=0)\n",
    "\n",
    "CCDF = plot(t -> ccdf(H₀,t), -10, 10, legend=false)\n",
    "scatter!(CCDF, [T], [p_right])\n",
    "\n",
    "plot(PDF, CCDF)"
   ]
  },
  {
   "cell_type": "markdown",
   "metadata": {},
   "source": [
    "$P(X \\leq x|H_0)$ prueba de una cola hacia la izquierda (*left-tail event*) "
   ]
  },
  {
   "cell_type": "code",
   "execution_count": 286,
   "metadata": {
    "collapsed": false
   },
   "outputs": [
    {
     "data": {
      "text/plain": [
       "0.9846978301287195"
      ]
     },
     "execution_count": 286,
     "metadata": {},
     "output_type": "execute_result"
    }
   ],
   "source": [
    "p_left = pvalue(ttest, tail=:left)"
   ]
  },
  {
   "cell_type": "code",
   "execution_count": 287,
   "metadata": {
    "collapsed": false
   },
   "outputs": [
    {
     "data": {
      "text/html": [
       "<img src=\"data:image/png;base64,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\" />"
      ]
     },
     "execution_count": 287,
     "metadata": {},
     "output_type": "execute_result"
    }
   ],
   "source": [
    "PDF = plot(t -> pdf(H₀,t),   T, 10, legend=false)\n",
    "plot!(PDF, t -> pdf(H₀,t), -10,  T, fill=0)\n",
    "\n",
    "CDF = plot(t -> cdf(H₀,t), -10, 10, legend=false)\n",
    "scatter!(CDF, [T], [p_left])\n",
    "\n",
    "plot(PDF, CDF)"
   ]
  },
  {
   "cell_type": "markdown",
   "metadata": {},
   "source": [
    "$2 min{P(X \\leq x|H_0), P(X \\geq x|H_0)}$ para el test a dos colas (*double-tailed event*)"
   ]
  },
  {
   "cell_type": "code",
   "execution_count": 288,
   "metadata": {
    "collapsed": false
   },
   "outputs": [
    {
     "data": {
      "text/plain": [
       "0.03060433974256092"
      ]
     },
     "execution_count": 288,
     "metadata": {},
     "output_type": "execute_result"
    }
   ],
   "source": [
    "pvalue(ttest, tail=:both)"
   ]
  },
  {
   "cell_type": "code",
   "execution_count": 289,
   "metadata": {
    "collapsed": false
   },
   "outputs": [
    {
     "data": {
      "text/plain": [
       "0.03060433974256092"
      ]
     },
     "execution_count": 289,
     "metadata": {},
     "output_type": "execute_result"
    }
   ],
   "source": [
    "2*min(p_left,p_right)"
   ]
  },
  {
   "cell_type": "code",
   "execution_count": 290,
   "metadata": {
    "collapsed": false
   },
   "outputs": [
    {
     "data": {
      "text/html": [
       "<img src=\"data:image/png;base64,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\" />"
      ]
     },
     "execution_count": 290,
     "metadata": {},
     "output_type": "execute_result"
    }
   ],
   "source": [
    "PDF = plot(t -> pdf(H₀,t), -T,  T, legend=false)\n",
    "plot!(PDF, t -> pdf(H₀,t), -10, -T, fill=0)\n",
    "plot!(PDF, t -> pdf(H₀,t),  T,  10, fill=0)\n",
    "\n",
    "CCDF = plot(t -> ccdf(H₀,t), -10, 10, legend=false)\n",
    "scatter!(CCDF, [-T, T], [p_left,p_right])\n",
    "\n",
    "plot(PDF, CCDF)"
   ]
  },
  {
   "cell_type": "markdown",
   "metadata": {},
   "source": [
    "Para facilitar ésto, la biblioteca **HypothesisTests** define la función `pvalue` para tomar directamente una distribución de probabilidad (no solamente un test estadístico), y calcular el *p value* para un determinado estadístico."
   ]
  },
  {
   "cell_type": "code",
   "execution_count": 291,
   "metadata": {
    "collapsed": false
   },
   "outputs": [
    {
     "data": {
      "text/plain": [
       "0.01530216987128046"
      ]
     },
     "execution_count": 291,
     "metadata": {},
     "output_type": "execute_result"
    }
   ],
   "source": [
    "pvalue(TDist(n-1), T, tail=:right)"
   ]
  },
  {
   "cell_type": "markdown",
   "metadata": {},
   "source": [
    "### Intervalo de confianza"
   ]
  },
  {
   "cell_type": "markdown",
   "metadata": {},
   "source": [
    "El [intervalo de confianza](https://en.wikipedia.org/wiki/Confidence_interval) es un tipo de estimador por intervalo para un parámetro de la población. Se calcula a partir de una o más muestras de la población, y posee un **nivel de confianza** que determina qué tan frecuentemente una serie de intervalos estimados de la misma manera contiene al parámetro poblacional. Es importante notar que el intervalo de confianza calculado a partir de una única muestra puede no contener al parámetro a estimar, pero aún así es una buena estimación intervalar del mismo. Así un intervalo con una confianza del 95%, significa que de un número `N` de intervalos calculados, `0.95N` contendrán al parámetro a estimar. No debe interpretarse nunca como un intervalo con una probabilidad del 95% de contener el parámetro."
   ]
  },
  {
   "cell_type": "markdown",
   "metadata": {},
   "source": [
    "El intervalo para una media se calcula utilizando el valor crítico de $t$ si la desviación estándar proviene de la muestra o $Z$ si se conoce la desviación estándar de la población. Los valores críticos son aquellos valores de $t$ o  $Z$ que dejan un área de $\\frac{\\alpha}{2}$ hacia la izquierda del menor valor crítico, y el mismo hacia la derecha (dejando un área $1-\\alpha$ en el intervalo)."
   ]
  },
  {
   "cell_type": "markdown",
   "metadata": {},
   "source": [
    "Así el valor crítico, utilizando la distribución T de Student con $n-1$ grados de libertad, para una confianza del 95% ($\\alpha = 5%$) puede calcularse con la función `quantile` de **Distributions**"
   ]
  },
  {
   "cell_type": "code",
   "execution_count": 292,
   "metadata": {
    "collapsed": false
   },
   "outputs": [
    {
     "data": {
      "text/plain": [
       "-2.7764451051977943"
      ]
     },
     "execution_count": 292,
     "metadata": {},
     "output_type": "execute_result"
    }
   ],
   "source": [
    "t_left = quantile(TDist(n-1),0.05/2)"
   ]
  },
  {
   "cell_type": "code",
   "execution_count": 293,
   "metadata": {
    "collapsed": false
   },
   "outputs": [
    {
     "data": {
      "text/plain": [
       "2.7764451051977934"
      ]
     },
     "execution_count": 293,
     "metadata": {},
     "output_type": "execute_result"
    }
   ],
   "source": [
    "t_right = quantile(TDist(n-1),1-0.05/2)"
   ]
  },
  {
   "cell_type": "markdown",
   "metadata": {},
   "source": [
    "Los valores son iguales en módulo dada la simetría de la distribución T de Student. Siendo $t$ ese módulo, el intervalo de confianza para la media de la población sería:"
   ]
  },
  {
   "cell_type": "markdown",
   "metadata": {},
   "source": [
    "$$(\\bar{x}-t\\frac{s}{\\sqrt{n}} , \\bar{x}+t\\frac{s}{\\sqrt{n}})$$"
   ]
  },
  {
   "cell_type": "code",
   "execution_count": 294,
   "metadata": {
    "collapsed": false
   },
   "outputs": [
    {
     "data": {
      "text/plain": [
       "0.021108061162261643"
      ]
     },
     "execution_count": 294,
     "metadata": {},
     "output_type": "execute_result"
    }
   ],
   "source": [
    "t  = abs(t_left)\n",
    "\n",
    "se = s/sqrt(n) # Error estándar de la media"
   ]
  },
  {
   "cell_type": "code",
   "execution_count": 295,
   "metadata": {
    "collapsed": false
   },
   "outputs": [
    {
     "data": {
      "text/plain": [
       "(0.01055298050009755,0.12776372668845154)"
      ]
     },
     "execution_count": 295,
     "metadata": {},
     "output_type": "execute_result"
    }
   ],
   "source": [
    "( x̄ - t*se, x̄ + t*se )"
   ]
  },
  {
   "cell_type": "markdown",
   "metadata": {},
   "source": [
    "Para facilitar ésto, la biblioteca [**HypothesisTests**](http://hypothesistestsjl.readthedocs.io/en/latest/api/ci.html) define la función `ci`."
   ]
  },
  {
   "cell_type": "code",
   "execution_count": 296,
   "metadata": {
    "collapsed": false
   },
   "outputs": [
    {
     "data": {
      "text/plain": [
       "(0.010552980500097571,0.12776372668845154)"
      ]
     },
     "execution_count": 296,
     "metadata": {},
     "output_type": "execute_result"
    }
   ],
   "source": [
    "ci(ttest) # usando ci de HypothesisTests sobre el T test"
   ]
  },
  {
   "cell_type": "markdown",
   "metadata": {},
   "source": [
    "#### Nivel de confianza"
   ]
  },
  {
   "cell_type": "code",
   "execution_count": 297,
   "metadata": {
    "collapsed": false
   },
   "outputs": [
    {
     "data": {
      "text/plain": [
       "50-element Array{Array{Float64,1},1}:\n",
       " [0.02772531773467625,0.15807676820862226]   \n",
       " [0.13572345756262993,0.21573984023136622]   \n",
       " [0.014995184096110684,0.10137325934812201]  \n",
       " [0.055900551945134214,0.23963617583217778]  \n",
       " [0.01500967232325795,0.2408280682453764]    \n",
       " [0.04865790637740938,0.18429807083214614]   \n",
       " [0.0495226328585219,0.21827067122207375]    \n",
       " [-0.0041865354261206855,0.22913410270538176]\n",
       " [0.11699419501754524,0.40043136234729515]   \n",
       " [0.03558929031134815,0.20906716659010338]   \n",
       " [-0.04131926697665611,0.11263546101685237]  \n",
       " [0.07990439930023044,0.2167724497381087]    \n",
       " [0.02062236593945968,0.1638094148316655]    \n",
       " ⋮                                           \n",
       " [0.07894536467109656,0.20853107715589506]   \n",
       " [-0.06079471437531647,0.12822249227546012]  \n",
       " [0.0402735571065979,0.19827125577330146]    \n",
       " [-0.03352355859437538,0.2536492719232231]   \n",
       " [0.10178395077566237,0.22998255033113485]   \n",
       " [0.019320118525941274,0.1867037399428152]   \n",
       " [0.02278308996946614,0.13978073232512633]   \n",
       " [-0.10368112647716332,0.27330519721433394]  \n",
       " [0.0072241738062519475,0.10117209220212989] \n",
       " [0.04476589298596539,0.14683634284816116]   \n",
       " [0.061009307036424223,0.25449431981568976]  \n",
       " [0.03108003356661837,0.23822033988010127]   "
      ]
     },
     "execution_count": 297,
     "metadata": {},
     "output_type": "execute_result"
    }
   ],
   "source": [
    "n_experimentos = 50\n",
    "\n",
    "intervalos = map(1:n_experimentos) do N\n",
    "    muestra = rand(población, n)\n",
    "    t_test  = OneSampleTTest(muestra)\n",
    "    intervalo = ci(t_test, 0.1) # α = 0.1\n",
    "    [intervalo[1], intervalo[2]] # retorno un vector [inicio, fin]\n",
    "end"
   ]
  },
  {
   "cell_type": "code",
   "execution_count": 298,
   "metadata": {
    "collapsed": false
   },
   "outputs": [
    {
     "data": {
      "text/plain": [
       "2x50 Array{Float64,2}:\n",
       " 0.0277253  0.135723  0.0149952  0.0559006  …  0.0447659  0.0610093  0.03108\n",
       " 0.158077   0.21574   0.101373   0.239636      0.146836   0.254494   0.23822"
      ]
     },
     "execution_count": 298,
     "metadata": {},
     "output_type": "execute_result"
    }
   ],
   "source": [
    "intervalos = hcat(intervalos...)"
   ]
  },
  {
   "cell_type": "code",
   "execution_count": 299,
   "metadata": {
    "collapsed": false
   },
   "outputs": [
    {
     "data": {
      "text/html": [
       "<img src=\"data:image/png;base64,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\" />"
      ]
     },
     "execution_count": 299,
     "metadata": {},
     "output_type": "execute_result"
    }
   ],
   "source": [
    "plot(intervalos, hcat(map(N -> [N,N],1:n_experimentos)...), size=(300,300), legend=false, c=:gray)\n",
    "vline!([μ])"
   ]
  },
  {
   "cell_type": "code",
   "execution_count": 300,
   "metadata": {
    "collapsed": false
   },
   "outputs": [
    {
     "data": {
      "text/plain": [
       "50-element Array{Any,1}:\n",
       "  true\n",
       " false\n",
       "  true\n",
       "  true\n",
       "  true\n",
       "  true\n",
       "  true\n",
       "  true\n",
       " false\n",
       "  true\n",
       "  true\n",
       "  true\n",
       "  true\n",
       "     ⋮\n",
       "  true\n",
       "  true\n",
       "  true\n",
       "  true\n",
       " false\n",
       "  true\n",
       "  true\n",
       "  true\n",
       "  true\n",
       "  true\n",
       "  true\n",
       "  true"
      ]
     },
     "execution_count": 300,
     "metadata": {},
     "output_type": "execute_result"
    }
   ],
   "source": [
    "contiene_μ = [ intervalos[1,i] ≤ μ ≤ intervalos[2,i] for i in 1:n_experimentos ]"
   ]
  },
  {
   "cell_type": "code",
   "execution_count": 301,
   "metadata": {
    "collapsed": false
   },
   "outputs": [
    {
     "data": {
      "text/plain": [
       "0.9"
      ]
     },
     "execution_count": 301,
     "metadata": {},
     "output_type": "execute_result"
    }
   ],
   "source": [
    "mean(contiene_μ) # ~ 90% ( α = 0.1, confianza = 1 - α = 0.9 )"
   ]
  },
  {
   "cell_type": "markdown",
   "metadata": {
    "collapsed": true
   },
   "source": [
    "### Prueba de bondad de ajuste a una distribución."
   ]
  },
  {
   "cell_type": "markdown",
   "metadata": {},
   "source": [
    "Muchas veces es necesario saber cuando los datos de una muestra se ajustan a una determinada distribución. En ese sentido uno se puede preguntar si la distribución observada es igual o no a la distribución observada. "
   ]
  },
  {
   "cell_type": "code",
   "execution_count": null,
   "metadata": {
    "collapsed": true
   },
   "outputs": [],
   "source": []
  }
 ],
 "metadata": {
  "kernelspec": {
   "display_name": "Julia 0.4.5",
   "language": "julia",
   "name": "julia-0.4"
  },
  "language_info": {
   "file_extension": ".jl",
   "mimetype": "application/julia",
   "name": "julia",
   "version": "0.4.5"
  }
 },
 "nbformat": 4,
 "nbformat_minor": 0
}
