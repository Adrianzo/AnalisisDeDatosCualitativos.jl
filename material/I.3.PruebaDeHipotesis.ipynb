{
 "cells": [
  {
   "cell_type": "markdown",
   "metadata": {},
   "source": [
    "### Unidad I. Variables, distribuciones y pruebas de hipótesis. \n",
    "\n",
    "## Prueba de Hipótesis. Verificación estadística de hipótesis estadística.\n",
    "\n",
    "- Prueba de bondad de ajuste a una distribución. \n",
    "    - Procedimientos no paramétricos chi cuadrado y Kolmogorov–Smirnov\n",
    "- Comparación de dos poblaciones.\n",
    " - Test de Student y Fischer para comparar variables independientes con distribución normal. Test de Student para comparar variables apareadas.\n",
    " - Alternativas no paramétricas de comparación transversal y longitudinal. Los tests de Mann Whitney y Wicolxon.\n",
    " - Otras pruebas de comparación no paramétricas: El test de Kolmogorov-Smirnov y de la Mediana. Test de los signos y de McNemar.\n"
   ]
  },
  {
   "cell_type": "markdown",
   "metadata": {},
   "source": [
    "### Estadística inferencial"
   ]
  },
  {
   "cell_type": "markdown",
   "metadata": {},
   "source": [
    "La [estadística inferencial](https://en.wikipedia.org/wiki/Statistical_inference) trata de inferir información acerca de la distribución de probabilidad de una población, partiendo de la información de una muestra. Se diferencia de la [estadística descriptiva](https://en.wikipedia.org/wiki/Descriptive_statistics) en que en lugar de simplemente describir la muestra, trata de describir algo acerca de la población. Uno puede realizar diferentes estimaciones acerca de la población, la cual normalmente se conduce haciendo uso de la [estadística frecuentista](https://en.wikipedia.org/wiki/Frequentist_inference):  \n",
    "- [**Estimación puntual**](https://en.wikipedia.org/wiki/Point_estimation): Estimación de un parámetro poblacional haciendo uso del valor que mejor lo aproxime.  \n",
    "- [**Estimación por intervalos**](https://en.wikipedia.org/wiki/Interval_estimation): Estimación de un intervalo de valores para un parámetro poblacional desconocido. Por ejemplo, la estimación de un [intervalo de confianza](https://en.wikipedia.org/wiki/Confidence_interval) para un parámetro poblacional.  \n",
    "- [**Test de hipótesis**](https://en.wikipedia.org/wiki/Statistical_hypothesis_testing)  "
   ]
  },
  {
   "cell_type": "markdown",
   "metadata": {},
   "source": [
    "### Test de hipótesis."
   ]
  },
  {
   "cell_type": "markdown",
   "metadata": {},
   "source": [
    "Una prueba de hipótesis es análoga a una [demostración matemática por contradicción](https://en.wikipedia.org/wiki/Proof_by_contradiction) (en particular es un tipo de [*reductio ad absurdum*](https://en.wikipedia.org/wiki/Reductio_ad_absurdum)), aunque no debe considerarse en ningún caso una demostración matemática. Ambos métodos, parten de considerar una <a href=”https://en.wikipedia.org/wiki/Statement_(logic)”>declaración</a> verdadera, en el caso del test de hipótesis, [la hipótesis nula](https://en.wikipedia.org/wiki/Null_hypothesis) ó H₀. En ambos métodos se trata de llegar a una contradicción, dado que una implicación solo puede ser falsa si partiendo de una premisa verdadera llegamos a una conclusión falsa ([tabla de verdad](https://en.wikipedia.org/wiki/Truth_table)):"
   ]
  },
  {
   "cell_type": "markdown",
   "metadata": {
    "collapsed": true
   },
   "source": [
    "| *p*      | *q*       | *p → q*   |\n",
    "|----------|-----------|-----------|\n",
    "| *true*   | *true*    | *true*    |\n",
    "| **true** | **false** | **false** |\n",
    "| *false*  | *true*    | *true*    |\n",
    "| *false*  | *false*   | *true*    |"
   ]
  },
  {
   "cell_type": "markdown",
   "metadata": {
    "collapsed": true
   },
   "source": [
    "Acá es donde ambos métodos divergen, dado que la demostración matemática lo hace siguiendo reglas lógicas determinadas y procedimientos matemáticos permitidos, llegando a un resultado determinado no azaroso. Finalmente, si se llega a una contradicción, se concluye que la declaración original es falsa, aceptando la negación de dicha declaración. En el caso de la prueba de hipótesis, rechazar H₀ implica aceptar la hipótesis alternativa Hₐ. Sin embargo, no rechazar H₀ no implica aceptarla, decimos simplemente que no hay evidencia suficiente para rechazar la hipótesis nula. En cualquier caso, una prueba de hipótesis no demuestra una hipótesis, sólo la soporta con un cierto grado de confianza. Acumular evidencia a favor de una hipótesis ([razonamiento inductivo](https://es.wikipedia.org/wiki/Razonamiento_inductivo)) no es suficiente para demostrarla, la evidencia acumulada solo puede soportar dicha hipótesis.  \n",
    "Las pruebas de hipótesis fueron propuestas para solucionar [el problema de la inducción](https://es.wikipedia.org/wiki/Problema_de_la_inducci%C3%B3n) e incluir el análisis estadístico dentro de un [modelo hipotético deductivo](https://en.wikipedia.org/wiki/Hypothetico-deductive_model) *(Kaplan 2019, capítulo 13)*.  \n",
    "Existen dos tipos de errores que podemos cometer *(Neyman & Pearson, 1933)*:  "
   ]
  },
  {
   "cell_type": "markdown",
   "metadata": {
    "collapsed": true
   },
   "source": [
    "|                   | **H₀ es cierta**  | **Hₐ es cierta**   |\n",
    "|-------------------|-------------------|--------------------|\n",
    "| **Se escogió Hₐ** | *Error de tipo I* | Decisión correcta  |\n",
    "| **Se escogió H₀** | Decisión correcta | *Error de tipo II* |"
   ]
  },
  {
   "cell_type": "markdown",
   "metadata": {},
   "source": [
    "El riesgo o probabilidad de caer en un [error del tipo I](https://en.wikipedia.org/wiki/Type_I_and_type_II_errors) se conoce como [nivel de significación estadistica](https://en.wikipedia.org/wiki/Statistical_significance), normalmente indicado con la letra griega $\\alpha$. La probabilidad de caer en un [error del tipo II](https://en.wikipedia.org/wiki/Type_I_and_type_II_errors) normalmente se anota con la letra griega $\\beta$. Siendo $1-\\beta$ la [potencia o poder del test](https://en.wikipedia.org/wiki/Statistical_power)."
   ]
  },
  {
   "cell_type": "markdown",
   "metadata": {},
   "source": [
    "$$P(escoger H_a | H_0 cierta) = \\alpha$$  "
   ]
  },
  {
   "cell_type": "markdown",
   "metadata": {},
   "source": [
    "$$P(escoger H_0 | H_a cierta) = \\beta$$  "
   ]
  },
  {
   "cell_type": "markdown",
   "metadata": {},
   "source": [
    "$$P(escoger H_a | H_a cierta) = 1 - \\beta$$  "
   ]
  },
  {
   "cell_type": "markdown",
   "metadata": {},
   "source": [
    "Se habla de [errores de tipo III](https://en.wikipedia.org/wiki/Type_III_error) cuando se da la respuesta correcta (rechazar una hipótesis nula) para una pregunta incorrecta o errónea. "
   ]
  },
  {
   "cell_type": "markdown",
   "metadata": {},
   "source": [
    "##### Referencias\n",
    "\n",
    "- *Kaplan, D. (2009). Statistical modeling: A fresh approach.*  \n",
    "- *Neyman, J., & Pearson, E. S. (1992). On the problem of the most efficient tests of statistical hypotheses (pp. 73-108). Springer New York.*  \n",
    "- *Lehmann, E. L. (2012). The Fisher, Neyman-Peerson Theories of Testing Hypotheses: One Theory or Two?. In Selected Works of EL Lehmann (pp. 201-208). Springer US.*  \n",
    "- *Biau, D. J., Jolles, B. M., & Porcher, R. (2010). P value and the theory of hypothesis testing: an explanation for new researchers. Clinical Orthopaedics and Related Research®, 468(3), 885-892.*  \n",
    "- *Nickerson, R. S. (2000). Null hypothesis significance testing: a review of an old and continuing controversy. Psychological methods, 5(2), 241.*"
   ]
  },
  {
   "cell_type": "markdown",
   "metadata": {},
   "source": [
    "### Valor P"
   ]
  },
  {
   "cell_type": "markdown",
   "metadata": {},
   "source": [
    "El [valor P](https://en.wikipedia.org/wiki/P-value) (*p value*) es la probabilidad de observar un determinado valor (o uno más extremo) dado que H₀ es correcta. En ningún caso debe interpretarse como una probabilidad de la hipótesis nula. Un valor P bajo indica que los datos son inconsistentes con la hipótesis nula, permitiéndonos rechazar la hipótesis nula ante esa observación. Para decidir que es un valor bajo, uno puede recurrir al [valor de significación α](http://www.itl.nist.gov/div898/handbook/prc/section1/prc131.htm)."
   ]
  },
  {
   "cell_type": "markdown",
   "metadata": {},
   "source": [
    "$$P(escoger H_a | H_0 cierta) = P(p \\le \\alpha | H_0 cierta) = \\alpha$$  "
   ]
  },
  {
   "cell_type": "markdown",
   "metadata": {},
   "source": [
    "#### T de Student para una muestra "
   ]
  },
  {
   "cell_type": "markdown",
   "metadata": {
    "collapsed": true
   },
   "source": [
    "La [prueba de T de Student](https://en.wikipedia.org/wiki/Student%27s_t-test) para una muestra permite probar si  la media de una muestra es diferente de una media $\\mu_0$. Algo que tenemos que tener en cuenta, es que no podemos testear que la media poblacional sea un determinado valor. Ésto se debe a que no podemos saber cuál es la media poblacional sin analizar toda la población. Es decir, no podemos saber dónde se encuentra localizada la distribución *T Student* correspondiente a la media poblacional. Para determinar probabilidades necesitamos un parámetro de ubicación exacto. Es por esto que la hipótesis nula será la ubicación de la media poblacional en un lugar determinado. De hecho, las hipótesis nulas se caracterizan normalmente por tener igualdades (uno supone una distribución con parámetros determinados).  "
   ]
  },
  {
   "cell_type": "markdown",
   "metadata": {
    "collapsed": true
   },
   "source": [
    "$$H_0 : \\mu = \\mu_0$$"
   ]
  },
  {
   "cell_type": "markdown",
   "metadata": {},
   "source": [
    "Si ara una muestra de tamaño $n$ se cumplen las supuestos del test:  \n",
    "\n",
    "- Distribución normal de la variable (continua) en la población  \n",
    "- Muestreo al azar (cada observación es independiente)  \n",
    "\n",
    "Entonces el estadístico $t$ sigue una distribución *T de Student* con $n - 1$ grados de libertad.  "
   ]
  },
  {
   "cell_type": "markdown",
   "metadata": {},
   "source": [
    "$$ t = \\frac{ \\bar{x} - \\mu }{ \\frac{s}{\\sqrt{n}} }$$"
   ]
  },
  {
   "cell_type": "markdown",
   "metadata": {},
   "source": [
    "Supongamos una variable aleatoria $X$ que en la población se distribuye con una distribución `Normal(0.2,0.1)`. Y supongamos que estamos interesados en demostrar que la media de esa variable $X$ en la población es mayor a 0. Es decir:"
   ]
  },
  {
   "cell_type": "markdown",
   "metadata": {},
   "source": [
    "$$H_0 : \\mu = 0$$  "
   ]
  },
  {
   "cell_type": "markdown",
   "metadata": {},
   "source": [
    "$$H_a : \\mu > 0$$"
   ]
  },
  {
   "cell_type": "markdown",
   "metadata": {},
   "source": [
    "Otras dos hipótesis alternativas son posibles; $H_a \\ne 0$ ó $H_a < 0$. Podemos elegir cualquiera de éstas dependiendo de nuestro hipótesis de trabajo, determinando si el test será [a una o dos colas](https://en.wikipedia.org/wiki/One-_and_two-tailed_tests). En este caso el test será a una cola y el *p value* para un valor observado $T$ será: "
   ]
  },
  {
   "cell_type": "markdown",
   "metadata": {},
   "source": [
    "$$P(t \\ge T|H_0)$$"
   ]
  },
  {
   "cell_type": "code",
   "execution_count": 1,
   "metadata": {
    "collapsed": false
   },
   "outputs": [
    {
     "data": {
      "text/plain": [
       "5-element Array{Float64,1}:\n",
       "  0.0114836\n",
       "  0.155208 \n",
       "  0.145073 \n",
       " -0.0200276\n",
       "  0.197514 "
      ]
     },
     "execution_count": 1,
     "metadata": {},
     "output_type": "execute_result"
    }
   ],
   "source": [
    "using Distributions\n",
    "\n",
    "μ = 0.1\n",
    "población = Normal(μ,0.1)\n",
    "\n",
    "n = 5\n",
    "muestra   = rand(población, n)"
   ]
  },
  {
   "cell_type": "code",
   "execution_count": 2,
   "metadata": {
    "collapsed": false
   },
   "outputs": [
    {
     "data": {
      "text/plain": [
       "Distributions.TDist(ν=4.0)"
      ]
     },
     "execution_count": 2,
     "metadata": {},
     "output_type": "execute_result"
    }
   ],
   "source": [
    "# H₀\n",
    "μ₀ = 0 \n",
    "H₀ = TDist(n-1)"
   ]
  },
  {
   "cell_type": "code",
   "execution_count": 3,
   "metadata": {
    "collapsed": false
   },
   "outputs": [
    {
     "data": {
      "text/plain": [
       "0.0978501910093478"
      ]
     },
     "execution_count": 3,
     "metadata": {},
     "output_type": "execute_result"
    }
   ],
   "source": [
    "x̄ = mean(muestra)"
   ]
  },
  {
   "cell_type": "code",
   "execution_count": 4,
   "metadata": {
    "collapsed": false
   },
   "outputs": [
    {
     "data": {
      "text/plain": [
       "0.09592586548990156"
      ]
     },
     "execution_count": 4,
     "metadata": {},
     "output_type": "execute_result"
    }
   ],
   "source": [
    "s = std(muestra)"
   ]
  },
  {
   "cell_type": "code",
   "execution_count": 5,
   "metadata": {
    "collapsed": false
   },
   "outputs": [
    {
     "data": {
      "text/plain": [
       "2.2809247285996523"
      ]
     },
     "execution_count": 5,
     "metadata": {},
     "output_type": "execute_result"
    }
   ],
   "source": [
    "T = (x̄-μ₀)/(s/sqrt(n))"
   ]
  },
  {
   "cell_type": "code",
   "execution_count": 6,
   "metadata": {
    "collapsed": false
   },
   "outputs": [
    {
     "data": {
      "text/plain": [
       "0.0423500649638771"
      ]
     },
     "execution_count": 6,
     "metadata": {},
     "output_type": "execute_result"
    }
   ],
   "source": [
    "p = ccdf(H₀,T)"
   ]
  },
  {
   "cell_type": "markdown",
   "metadata": {},
   "source": [
    "Obtenemos el mismo resultado que utilizando `OneSampleTTest` de la biblioteca *HypothesisTests* de **Julia**:"
   ]
  },
  {
   "cell_type": "code",
   "execution_count": 7,
   "metadata": {
    "collapsed": false
   },
   "outputs": [
    {
     "name": "stderr",
     "output_type": "stream",
     "text": [
      "WARNING: Method definition call(Polynomials.Poly, Any) in module Polynomials at /home/dzea/.julia/v0.4/Polynomials/src/Polynomials.jl:302 overwritten in module CurveFit at /home/dzea/.julia/v0.4/CurveFit/src/linfit.jl:124.\n"
     ]
    }
   ],
   "source": [
    "using HypothesisTests"
   ]
  },
  {
   "cell_type": "code",
   "execution_count": 8,
   "metadata": {
    "collapsed": false
   },
   "outputs": [
    {
     "data": {
      "text/plain": [
       "One sample t-test\n",
       "-----------------\n",
       "Population details:\n",
       "    parameter of interest:   Mean\n",
       "    value under h_0:         0\n",
       "    point estimate:          0.0978501910093478\n",
       "    95% confidence interval: (-0.02125750266599985,0.21695788468469546)\n",
       "\n",
       "Test summary:\n",
       "    outcome with 95% confidence: fail to reject h_0\n",
       "    two-sided p-value:           0.0847001299277542 (not significant)\n",
       "\n",
       "Details:\n",
       "    number of observations:   5\n",
       "    t-statistic:              2.2809247285996523\n",
       "    degrees of freedom:       4\n",
       "    empirical standard error: 0.04289935120718421\n"
      ]
     },
     "execution_count": 8,
     "metadata": {},
     "output_type": "execute_result"
    }
   ],
   "source": [
    "ttest = OneSampleTTest(muestra, 0)"
   ]
  },
  {
   "cell_type": "code",
   "execution_count": 9,
   "metadata": {
    "collapsed": false
   },
   "outputs": [
    {
     "data": {
      "text/plain": [
       "0.0423500649638771"
      ]
     },
     "execution_count": 9,
     "metadata": {},
     "output_type": "execute_result"
    }
   ],
   "source": [
    "pvalue(ttest, tail=:right)"
   ]
  },
  {
   "cell_type": "markdown",
   "metadata": {},
   "source": [
    "El *p value* depende de si el test es a una o dos colas, en este caso, como la distribución es simétrica alrededor del 0, es obvio que el *p value* para el test a dos colas es el doble del *p value* que obtuvimos. Pero calcular el *p value* a dos colas no es trivial, principalmente puede ser un problema para distribuciones asimétricas *(Kulinskaya, 2008; Agresti & Kateri, 2011)*. Pero en general se toma la idea de doblar el valor del P value menor al testear las dos opciones a una cola (es como si hiciéramos una [corrección de Bonferroni](https://en.wikipedia.org/wiki/Bonferroni_correction) al haber realizado dos pruebas).  \n",
    "\n",
    "*Kulinskaya, Elena. \"On two-sided p-values for non-symmetric distributions.\" arXiv preprint arXiv:0810.2124 (2008).*  \n",
    "*Agresti, Alan, and Maria Kateri. Categorical data analysis. Springer Berlin Heidelberg, 2011.*"
   ]
  },
  {
   "cell_type": "markdown",
   "metadata": {},
   "source": [
    "En particular, para una variable aleatoria $X$, que sigue una determinada distribución si $H_0$ es cierta, dado un estimador $x_0$, el *p value* es:"
   ]
  },
  {
   "cell_type": "markdown",
   "metadata": {},
   "source": [
    "$P(X \\geq x|H_0)$ prueba de una cola hacia la derecha (*right-tail event*) "
   ]
  },
  {
   "cell_type": "code",
   "execution_count": 10,
   "metadata": {
    "collapsed": false
   },
   "outputs": [
    {
     "data": {
      "text/plain": [
       "0.0423500649638771"
      ]
     },
     "execution_count": 10,
     "metadata": {},
     "output_type": "execute_result"
    }
   ],
   "source": [
    "p_right = pvalue(ttest, tail=:right)"
   ]
  },
  {
   "cell_type": "code",
   "execution_count": 11,
   "metadata": {
    "collapsed": false
   },
   "outputs": [
    {
     "name": "stdout",
     "output_type": "stream",
     "text": [
      "[Plots.jl] Initializing backend: pyplot\n"
     ]
    },
    {
     "data": {
      "text/html": [
       "<img src=\"data:image/png;base64,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\" />"
      ]
     },
     "execution_count": 11,
     "metadata": {},
     "output_type": "execute_result"
    }
   ],
   "source": [
    "using Plots\n",
    "pyplot(size=(400,200))\n",
    "\n",
    "PDF = plot(t -> pdf(H₀,t), -10, T, legend=false)\n",
    "plot!(PDF, t -> pdf(H₀,t), T, 10, fill=0)\n",
    "\n",
    "CCDF = plot(t -> ccdf(H₀,t), -10, 10, legend=false)\n",
    "scatter!(CCDF, [T], [p_right])\n",
    "\n",
    "plot(PDF, CCDF)"
   ]
  },
  {
   "cell_type": "markdown",
   "metadata": {},
   "source": [
    "$P(X \\leq x|H_0)$ prueba de una cola hacia la izquierda (*left-tail event*) "
   ]
  },
  {
   "cell_type": "code",
   "execution_count": 12,
   "metadata": {
    "collapsed": false
   },
   "outputs": [
    {
     "data": {
      "text/plain": [
       "0.957649935036123"
      ]
     },
     "execution_count": 12,
     "metadata": {},
     "output_type": "execute_result"
    }
   ],
   "source": [
    "p_left = pvalue(ttest, tail=:left)"
   ]
  },
  {
   "cell_type": "code",
   "execution_count": 13,
   "metadata": {
    "collapsed": false
   },
   "outputs": [
    {
     "data": {
      "text/html": [
       "<img src=\"data:image/png;base64,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\" />"
      ]
     },
     "execution_count": 13,
     "metadata": {},
     "output_type": "execute_result"
    }
   ],
   "source": [
    "PDF = plot(t -> pdf(H₀,t),   T, 10, legend=false)\n",
    "plot!(PDF, t -> pdf(H₀,t), -10,  T, fill=0)\n",
    "\n",
    "CDF = plot(t -> cdf(H₀,t), -10, 10, legend=false)\n",
    "scatter!(CDF, [T], [p_left])\n",
    "\n",
    "plot(PDF, CDF)"
   ]
  },
  {
   "cell_type": "markdown",
   "metadata": {},
   "source": [
    "$2 min{P(X \\leq x|H_0), P(X \\geq x|H_0)}$ para el test a dos colas (*double-tailed event*)"
   ]
  },
  {
   "cell_type": "code",
   "execution_count": 14,
   "metadata": {
    "collapsed": false
   },
   "outputs": [
    {
     "data": {
      "text/plain": [
       "0.0847001299277542"
      ]
     },
     "execution_count": 14,
     "metadata": {},
     "output_type": "execute_result"
    }
   ],
   "source": [
    "pvalue(ttest, tail=:both)"
   ]
  },
  {
   "cell_type": "code",
   "execution_count": 15,
   "metadata": {
    "collapsed": false
   },
   "outputs": [
    {
     "data": {
      "text/plain": [
       "0.0847001299277542"
      ]
     },
     "execution_count": 15,
     "metadata": {},
     "output_type": "execute_result"
    }
   ],
   "source": [
    "2*min(p_left,p_right)"
   ]
  },
  {
   "cell_type": "code",
   "execution_count": 16,
   "metadata": {
    "collapsed": false
   },
   "outputs": [
    {
     "data": {
      "text/html": [
       "<img src=\"data:image/png;base64,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\" />"
      ]
     },
     "execution_count": 16,
     "metadata": {},
     "output_type": "execute_result"
    }
   ],
   "source": [
    "PDF = plot(t -> pdf(H₀,t), -T,  T, legend=false)\n",
    "plot!(PDF, t -> pdf(H₀,t), -10, -T, fill=0)\n",
    "plot!(PDF, t -> pdf(H₀,t),  T,  10, fill=0)\n",
    "\n",
    "CCDF = plot(t -> ccdf(H₀,t), -10, 10, legend=false)\n",
    "scatter!(CCDF, [-T, T], [p_left,p_right])\n",
    "\n",
    "plot(PDF, CCDF)"
   ]
  },
  {
   "cell_type": "markdown",
   "metadata": {},
   "source": [
    "Para facilitar ésto, la biblioteca **HypothesisTests** define la función `pvalue` para tomar directamente una distribución de probabilidad (no solamente un test estadístico), y calcular el *p value* para un determinado estadístico."
   ]
  },
  {
   "cell_type": "code",
   "execution_count": 17,
   "metadata": {
    "collapsed": false
   },
   "outputs": [
    {
     "data": {
      "text/plain": [
       "0.0423500649638771"
      ]
     },
     "execution_count": 17,
     "metadata": {},
     "output_type": "execute_result"
    }
   ],
   "source": [
    "pvalue(TDist(n-1), T, tail=:right)"
   ]
  },
  {
   "cell_type": "markdown",
   "metadata": {},
   "source": [
    "### Intervalo de confianza"
   ]
  },
  {
   "cell_type": "markdown",
   "metadata": {},
   "source": [
    "El [intervalo de confianza](https://en.wikipedia.org/wiki/Confidence_interval) es un tipo de estimador por intervalo para un parámetro de la población. Se calcula a partir de una o más muestras de la población, y posee un **nivel de confianza** que determina qué tan frecuentemente una serie de intervalos estimados de la misma manera contiene al parámetro poblacional. Es importante notar que el intervalo de confianza calculado a partir de una única muestra puede no contener al parámetro a estimar, pero aún así es una buena estimación intervalar del mismo. Así un intervalo con una confianza del 95%, significa que de un número `N` de intervalos calculados, `0.95N` contendrán al parámetro a estimar. No debe interpretarse nunca como un intervalo con una probabilidad del 95% de contener el parámetro."
   ]
  },
  {
   "cell_type": "markdown",
   "metadata": {},
   "source": [
    "El intervalo para una media se calcula utilizando el valor crítico de $t$ si la desviación estándar proviene de la muestra o $Z$ si se conoce la desviación estándar de la población. Los valores críticos son aquellos valores de $t$ o  $Z$ que dejan un área de $\\frac{\\alpha}{2}$ hacia la izquierda del menor valor crítico, y el mismo hacia la derecha (dejando un área $1-\\alpha$ en el intervalo)."
   ]
  },
  {
   "cell_type": "markdown",
   "metadata": {},
   "source": [
    "Así el valor crítico, utilizando la distribución T de Student con $n-1$ grados de libertad, para una confianza del 95% ($\\alpha = 5%$) puede calcularse con la función `quantile` de **Distributions**"
   ]
  },
  {
   "cell_type": "code",
   "execution_count": 18,
   "metadata": {
    "collapsed": false
   },
   "outputs": [
    {
     "data": {
      "text/plain": [
       "-2.7764451051977943"
      ]
     },
     "execution_count": 18,
     "metadata": {},
     "output_type": "execute_result"
    }
   ],
   "source": [
    "t_left = quantile(TDist(n-1),0.05/2)"
   ]
  },
  {
   "cell_type": "code",
   "execution_count": 19,
   "metadata": {
    "collapsed": false
   },
   "outputs": [
    {
     "data": {
      "text/plain": [
       "2.7764451051977934"
      ]
     },
     "execution_count": 19,
     "metadata": {},
     "output_type": "execute_result"
    }
   ],
   "source": [
    "t_right = quantile(TDist(n-1),1-0.05/2)"
   ]
  },
  {
   "cell_type": "markdown",
   "metadata": {},
   "source": [
    "Los valores son iguales en módulo dada la simetría de la distribución T de Student. Siendo $t$ ese módulo, el intervalo de confianza para la media de la población sería:"
   ]
  },
  {
   "cell_type": "markdown",
   "metadata": {},
   "source": [
    "$$(\\bar{x}-t\\frac{s}{\\sqrt{n}} , \\bar{x}+t\\frac{s}{\\sqrt{n}})$$"
   ]
  },
  {
   "cell_type": "code",
   "execution_count": 20,
   "metadata": {
    "collapsed": false
   },
   "outputs": [
    {
     "data": {
      "text/plain": [
       "0.04289935120718421"
      ]
     },
     "execution_count": 20,
     "metadata": {},
     "output_type": "execute_result"
    }
   ],
   "source": [
    "t  = abs(t_left)\n",
    "\n",
    "se = s/sqrt(n) # Error estándar de la media"
   ]
  },
  {
   "cell_type": "code",
   "execution_count": 21,
   "metadata": {
    "collapsed": false
   },
   "outputs": [
    {
     "data": {
      "text/plain": [
       "(-0.021257502665999878,0.21695788468469548)"
      ]
     },
     "execution_count": 21,
     "metadata": {},
     "output_type": "execute_result"
    }
   ],
   "source": [
    "( x̄ - t*se, x̄ + t*se )"
   ]
  },
  {
   "cell_type": "markdown",
   "metadata": {},
   "source": [
    "Para facilitar ésto, la biblioteca [**HypothesisTests**](http://hypothesistestsjl.readthedocs.io/en/latest/api/ci.html) define la función `ci`."
   ]
  },
  {
   "cell_type": "code",
   "execution_count": 22,
   "metadata": {
    "collapsed": false
   },
   "outputs": [
    {
     "data": {
      "text/plain": [
       "(-0.02125750266599985,0.21695788468469546)"
      ]
     },
     "execution_count": 22,
     "metadata": {},
     "output_type": "execute_result"
    }
   ],
   "source": [
    "ci(ttest) # usando ci de HypothesisTests sobre el T test"
   ]
  },
  {
   "cell_type": "markdown",
   "metadata": {},
   "source": [
    "#### Nivel de confianza"
   ]
  },
  {
   "cell_type": "code",
   "execution_count": 23,
   "metadata": {
    "collapsed": false
   },
   "outputs": [
    {
     "data": {
      "text/plain": [
       "50-element Array{Array{Float64,1},1}:\n",
       " [0.10516028078232864,0.22688107299764632]   \n",
       " [0.031094862612911923,0.15268356681323228]  \n",
       " [0.11976040808813819,0.2503573582631599]    \n",
       " [-0.007116250862693976,0.22930328360675017] \n",
       " [-0.024176980970403675,0.1967229510210991]  \n",
       " [0.027641575468384624,0.11571828245651998]  \n",
       " [0.06127447553640834,0.29016313574239466]   \n",
       " [0.034666463387579984,0.11883088985555479]  \n",
       " [-0.0697591445991668,0.2392628606230068]    \n",
       " [-0.00483982981434819,0.16583944627860359]  \n",
       " [0.013559108525468863,0.17245365575808602]  \n",
       " [0.09519504469308032,0.20827221762458203]   \n",
       " [-0.02133452261589227,0.13443871161347945]  \n",
       " ⋮                                           \n",
       " [-0.0016881138176070704,0.14600898021711373]\n",
       " [-0.028791516262194852,0.19401947540409292] \n",
       " [-0.03908264658912344,0.1454941631267196]   \n",
       " [-0.009293378475715819,0.12072225375162912] \n",
       " [0.029081731258959104,0.15471225357192836]  \n",
       " [0.13342701811168595,0.23216698413538844]   \n",
       " [-0.1483441291416074,0.2116901548050226]    \n",
       " [0.07641385665456393,0.24803694608066237]   \n",
       " [-0.060685155505119236,0.1545282212090178]  \n",
       " [-0.01652886343526397,0.17346977645090078]  \n",
       " [0.07536465687710364,0.16860521790818017]   \n",
       " [-0.07357353398564478,0.10867027864923728]  "
      ]
     },
     "execution_count": 23,
     "metadata": {},
     "output_type": "execute_result"
    }
   ],
   "source": [
    "n_experimentos = 50\n",
    "\n",
    "intervalos = map(1:n_experimentos) do N\n",
    "    muestra = rand(población, n)\n",
    "    t_test  = OneSampleTTest(muestra)\n",
    "    intervalo = ci(t_test, 0.1) # α = 0.1\n",
    "    [intervalo[1], intervalo[2]] # retorno un vector [inicio, fin]\n",
    "end"
   ]
  },
  {
   "cell_type": "code",
   "execution_count": 24,
   "metadata": {
    "collapsed": false
   },
   "outputs": [
    {
     "data": {
      "text/plain": [
       "2x50 Array{Float64,2}:\n",
       " 0.10516   0.0310949  0.11976   …  -0.0165289  0.0753647  -0.0735735\n",
       " 0.226881  0.152684   0.250357      0.17347    0.168605    0.10867  "
      ]
     },
     "execution_count": 24,
     "metadata": {},
     "output_type": "execute_result"
    }
   ],
   "source": [
    "intervalos = hcat(intervalos...)"
   ]
  },
  {
   "cell_type": "code",
   "execution_count": 25,
   "metadata": {
    "collapsed": false
   },
   "outputs": [
    {
     "data": {
      "text/html": [
       "<img src=\"data:image/png;base64,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\" />"
      ]
     },
     "execution_count": 25,
     "metadata": {},
     "output_type": "execute_result"
    }
   ],
   "source": [
    "plot(intervalos, hcat(map(N -> [N,N],1:n_experimentos)...), size=(300,300), legend=false, c=:gray)\n",
    "vline!([μ])"
   ]
  },
  {
   "cell_type": "code",
   "execution_count": 26,
   "metadata": {
    "collapsed": false
   },
   "outputs": [
    {
     "data": {
      "text/plain": [
       "50-element Array{Any,1}:\n",
       " false\n",
       "  true\n",
       " false\n",
       "  true\n",
       "  true\n",
       "  true\n",
       "  true\n",
       "  true\n",
       "  true\n",
       "  true\n",
       "  true\n",
       "  true\n",
       "  true\n",
       "     ⋮\n",
       "  true\n",
       "  true\n",
       "  true\n",
       "  true\n",
       "  true\n",
       " false\n",
       "  true\n",
       "  true\n",
       "  true\n",
       "  true\n",
       "  true\n",
       "  true"
      ]
     },
     "execution_count": 26,
     "metadata": {},
     "output_type": "execute_result"
    }
   ],
   "source": [
    "contiene_μ = [ intervalos[1,i] ≤ μ ≤ intervalos[2,i] for i in 1:n_experimentos ]"
   ]
  },
  {
   "cell_type": "code",
   "execution_count": 27,
   "metadata": {
    "collapsed": false
   },
   "outputs": [
    {
     "data": {
      "text/plain": [
       "0.92"
      ]
     },
     "execution_count": 27,
     "metadata": {},
     "output_type": "execute_result"
    }
   ],
   "source": [
    "mean(contiene_μ) # ~ 90% ( α = 0.1, confianza = 1 - α = 0.9 )"
   ]
  },
  {
   "cell_type": "markdown",
   "metadata": {},
   "source": [
    "### Bootstrap"
   ]
  },
  {
   "cell_type": "markdown",
   "metadata": {},
   "source": [
    "<a href=”https://en.wikipedia.org/wiki/Bootstrapping_(statistics)”>**Bootstrap**</a> nos permite obtener estimaciones puntuales o por intervalos, en particular, intervalos de confianza, para parámetros poblacionales sin necesidad de conocer la distribución subyacente.  \n",
    "Básicamente la técnica de *bootstrap* se basa en hacer un muestreo aleatorio con reemplazo de nuestra muestra (<a href=\"https://en.wikipedia.org/wiki/Resampling_(statistics)\">remuestreo</a>), calculando el parámetro de interés en cada muestra. La muestra de la que se parte debe ser una muestra representativa, en particular debe complir con ser una muestra de valores [independientes e idénticamente distribuidos (*iid*)](https://en.wikipedia.org/wiki/Independent_and_identically_distributed_random_variables). Si bien la distribución de la variable de interés en la población no forma parte de los supuestos del método, una implementación *naïve* puede generar resultados incorrectos con [distribuciones con colas pesadas](https://en.wikipedia.org/wiki/Heavy-tailed_distribution). *Bootstrap* también puede presentar problemas con distribuciones discretas y poco densas."
   ]
  },
  {
   "cell_type": "code",
   "execution_count": 28,
   "metadata": {
    "collapsed": false
   },
   "outputs": [
    {
     "data": {
      "text/html": [
       "<img src=\"data:image/png;base64,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\" />"
      ]
     },
     "execution_count": 28,
     "metadata": {},
     "output_type": "execute_result"
    }
   ],
   "source": [
    "# Se hacen muchos remuestreos\n",
    "medias = map(1:10_000) do i\n",
    "\n",
    "    # Se toma una muestra al azar (con reemplazo) del mismo tamaño que la muestra\n",
    "    resampling = sample(muestra, replace=true, n)\n",
    "    \n",
    "    # Se calcula el estadístico de interés\n",
    "    mean(resampling)    \n",
    "    \n",
    "end\n",
    "\n",
    "# Bootstrap distribution of the statistic\n",
    "histogram(medias, legend=false)"
   ]
  },
  {
   "cell_type": "code",
   "execution_count": 29,
   "metadata": {
    "collapsed": false
   },
   "outputs": [
    {
     "data": {
      "text/plain": [
       "2-element Array{Float64,1}:\n",
       " 0.0297829\n",
       " 0.159615 "
      ]
     },
     "execution_count": 29,
     "metadata": {},
     "output_type": "execute_result"
    }
   ],
   "source": [
    "quantile(medias,[0.05,0.95]) # α = 0.05 + 0.95 = 0.1, confianza = 1 - α = 0.9"
   ]
  },
  {
   "cell_type": "markdown",
   "metadata": {},
   "source": [
    "A pesar de que ésta implementación *naïve* es super sencilla, la biblioteca [**Bootstrap**](http://bootstrapjl.readthedocs.io/en/release/) de *Julia* ofrece herramientas para facilitar el proceso de *bootstraping*, así como implementaciones más complejas para reducir el error en algunas situaciones. Herramientas similares son ofrecidas por la biblioteca *boot* de *R*."
   ]
  },
  {
   "cell_type": "code",
   "execution_count": 30,
   "metadata": {
    "collapsed": false
   },
   "outputs": [
    {
     "name": "stderr",
     "output_type": "stream",
     "text": [
      "WARNING: using Bootstrap.ci in module Main conflicts with an existing identifier.\n",
      "WARNING: using Bootstrap.se in module Main conflicts with an existing identifier.\n"
     ]
    }
   ],
   "source": [
    "using Bootstrap"
   ]
  },
  {
   "cell_type": "code",
   "execution_count": 31,
   "metadata": {
    "collapsed": false
   },
   "outputs": [
    {
     "data": {
      "text/plain": [
       "Bootstrap Sampling\n",
       "  Estimate: 0.09785\n",
       "  Bias:     -0.00039378\n",
       "  StdError: 0.037973\n",
       "  Samples:  10000\n",
       "  Method:   basic\n",
       "  Data:     Array{Float64,1}: { 5 }\n"
      ]
     },
     "execution_count": 31,
     "metadata": {},
     "output_type": "execute_result"
    }
   ],
   "source": [
    "bootstrap = boot_basic(muestra, mean, 10_000)"
   ]
  },
  {
   "cell_type": "code",
   "execution_count": 32,
   "metadata": {
    "collapsed": false
   },
   "outputs": [
    {
     "data": {
      "text/plain": [
       "Bootstrap Confidence Interval\n",
       "  Estimate: 0.09785\n",
       "  Interval: [0.035392856957173896,0.1659175062584969]\n",
       "  Level:    0.9\n",
       "  Method:   basic\n"
      ]
     },
     "execution_count": 32,
     "metadata": {},
     "output_type": "execute_result"
    }
   ],
   "source": [
    "ci_basic(bootstrap, 0.9) # α = 0.1, confianza = 0.9"
   ]
  },
  {
   "cell_type": "markdown",
   "metadata": {},
   "source": [
    "Una ventaja de hacerlo con estas bibliotecas es que podemos tener intervalos de confianza con corrección del sesgo, *BCa*:"
   ]
  },
  {
   "cell_type": "code",
   "execution_count": 33,
   "metadata": {
    "collapsed": false
   },
   "outputs": [
    {
     "data": {
      "text/plain": [
       "Bootstrap Confidence Interval\n",
       "  Estimate: 0.09785\n",
       "  Interval: [0.027623992056066464,0.15556149877006947]\n",
       "  Level:    0.9\n",
       "  Method:   bca\n"
      ]
     },
     "execution_count": 33,
     "metadata": {},
     "output_type": "execute_result"
    }
   ],
   "source": [
    "ci_bca(bootstrap, 0.9) # Bias-Corrected and accelerated (BCa) "
   ]
  },
  {
   "cell_type": "markdown",
   "metadata": {},
   "source": [
    "##### Referencias\n",
    "\n",
    "- *Efron, B. (1992). Bootstrap methods: another look at the jackknife. In Breakthroughs in Statistics (pp. 569-593). Springer New York.* [link](http://projecteuclid.org/euclid.aos/1176344552)\n",
    "- *Gleason, J. R. (1988). Algorithms for balanced bootstrap simulations. The American Statistician, 42(4), 263-266.*  \n",
    "- *Carpenter, J., & Bithell, J. (2000). Bootstrap con\" dence intervals: when, which, what? A practical guide for medical statisticians.* [link](http://www.tau.ac.il/~saharon/Boot/10.1.1.133.8405.pdf)\n",
    "- *Singh, K., & Xie, M. (2008). Bootstrap: a statistical method. Unpublished manuscript, Rutgers University, USA.* [link](http://www.stat.rutgers.edu/home/mxie/stat586/handout/Bootstrap1.pdf)"
   ]
  },
  {
   "cell_type": "markdown",
   "metadata": {
    "collapsed": true
   },
   "source": [
    "### Prueba de bondad de ajuste a una distribución."
   ]
  },
  {
   "cell_type": "markdown",
   "metadata": {},
   "source": [
    "Muchas veces es necesario saber cuando los datos de una muestra se ajustan a una determinada distribución. En ese sentido uno se puede preguntar si la distribución observada (en general, para una muestra) es igual, o no, a una distribución esperada (en general, para la población). Para testear ésto, disponemos de las siguientes pruebas:"
   ]
  },
  {
   "cell_type": "markdown",
   "metadata": {},
   "source": [
    "#### Prueba χ²"
   ]
  },
  {
   "cell_type": "markdown",
   "metadata": {},
   "source": [
    "La [prueba χ²](http://www.itl.nist.gov/div898/handbook/eda/section3/eda35f.htm) se puede utilizar para testear la bondad de ajuste de cualquier distribución univariada para la cual se pueda calcular la *CDF*. Dado que requiere datos en grupos, por lo que puede utilizarse para testear distribución para datos categóricos (a diferencia de  *KS*). Para poder utilizar el test en una distribución de probabilidad para datos continuos, debemos [discretizar/agrupar](https://en.wikipedia.org/wiki/Data_binning) los datos de la misma manera en que lo hacemos al calcular un [histograma](https://en.wikipedia.org/wiki/Histogram). Debemos tener en cuenta q el test es sensible a la elección de los *bins*. Una desventaja de este test es que requiere de un [tamaño muestral de al menos 1000](http://www.biostathandbook.com/small.html) para que la aproximación χ² sea válida. "
   ]
  },
  {
   "cell_type": "code",
   "execution_count": 34,
   "metadata": {
    "collapsed": false
   },
   "outputs": [
    {
     "data": {
      "text/plain": [
       "Distributions.Binomial(n=100, p=0.05)"
      ]
     },
     "execution_count": 34,
     "metadata": {},
     "output_type": "execute_result"
    }
   ],
   "source": [
    "población = Binomial(100, 0.055)\n",
    "expected  = Binomial(100, 0.05 ) # H₀: expected == observed"
   ]
  },
  {
   "cell_type": "code",
   "execution_count": 35,
   "metadata": {
    "collapsed": false
   },
   "outputs": [
    {
     "data": {
      "text/html": [
       "<img src=\"data:image/png;base64,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\" />"
      ]
     },
     "execution_count": 35,
     "metadata": {},
     "output_type": "execute_result"
    }
   ],
   "source": [
    "observed = rand(población, 1000) # muestra\n",
    "\n",
    "histogram(observed, legend=false, bins=-0.5:1:maximum(observed))"
   ]
  },
  {
   "cell_type": "code",
   "execution_count": 36,
   "metadata": {
    "collapsed": false
   },
   "outputs": [
    {
     "data": {
      "text/html": [
       "<img src=\"data:image/png;base64,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\" />"
      ]
     },
     "execution_count": 36,
     "metadata": {},
     "output_type": "execute_result"
    }
   ],
   "source": [
    "using StatsBase\n",
    "cdf_observed = ecdf(observed)\n",
    "\n",
    "scatter( 0:1:maximum(observed),      cdf_observed,     alpha=0.7, label=\"observed\")\n",
    "scatter!(0:1:maximum(observed), x -> cdf(expected, x), alpha=0.7, label=\"expected\")"
   ]
  },
  {
   "cell_type": "markdown",
   "metadata": {},
   "source": [
    "Dadas $k$ categorías, para la categoría $i$, $O_i$ representa la frecuencia observada para esa categoría, mientras $E_i$ representa la frecuencia esperada (nuestra hipótesis nula). "
   ]
  },
  {
   "cell_type": "markdown",
   "metadata": {},
   "source": [
    "$$ χ^{2} = \\sum_{i=1}^{k}{\\frac{(O_i - E_i)^{2}}{E_i}} $$"
   ]
  },
  {
   "cell_type": "markdown",
   "metadata": {},
   "source": [
    "Ésta última, en el caso de haber generado *bins* para una variable continua, la calculamos usando la *CDF* evaluada en el extremo superior *bin*, menos su valor en el extremo inferior del *bin*. N es el tamaño de la muestra."
   ]
  },
  {
   "cell_type": "markdown",
   "metadata": {},
   "source": [
    "$$Ei=N(CDF(X_f)−CDF(X_i))$$"
   ]
  },
  {
   "cell_type": "code",
   "execution_count": 37,
   "metadata": {
    "collapsed": false
   },
   "outputs": [
    {
     "data": {
      "text/plain": [
       "101-element Array{Float64,1}:\n",
       "   5.92053     \n",
       "  31.1607      \n",
       "  81.1818      \n",
       " 139.576       \n",
       " 178.143       \n",
       " 180.018       \n",
       " 150.015       \n",
       " 106.026       \n",
       "  64.8709      \n",
       "  34.9013      \n",
       "  16.7159      \n",
       "   7.19823     \n",
       "   2.80983     \n",
       "   ⋮           \n",
       "   1.3015e-99  \n",
       "   8.37223e-102\n",
       "   4.84224e-104\n",
       "   2.49314e-106\n",
       "   1.12876e-108\n",
       "   4.42402e-111\n",
       "   1.47059e-113\n",
       "   4.03122e-116\n",
       "   8.74926e-119\n",
       "   1.40965e-121\n",
       "   1.49884e-124\n",
       "   7.88861e-128"
      ]
     },
     "execution_count": 37,
     "metadata": {},
     "output_type": "execute_result"
    }
   ],
   "source": [
    "N  = length(observed)\n",
    "Oᵢ = Float64[ sum(observed .== x) for x in 0:1:100 ]\n",
    "Eᵢ = Float64[ pdf(expected,x) for x in 0:1:100 ] .* N"
   ]
  },
  {
   "cell_type": "code",
   "execution_count": 38,
   "metadata": {
    "collapsed": false
   },
   "outputs": [
    {
     "data": {
      "text/plain": [
       "100.6663008175492"
      ]
     },
     "execution_count": 38,
     "metadata": {},
     "output_type": "execute_result"
    }
   ],
   "source": [
    "χ² = sum( ( (Oᵢ .- Eᵢ) .^ 2 ) ./ Eᵢ )"
   ]
  },
  {
   "cell_type": "code",
   "execution_count": 39,
   "metadata": {
    "collapsed": false
   },
   "outputs": [
    {
     "data": {
      "text/plain": [
       "0.4066057024480398"
      ]
     },
     "execution_count": 39,
     "metadata": {},
     "output_type": "execute_result"
    }
   ],
   "source": [
    "k = 101 # Número de bins/categorías\n",
    "c = 2 + 1 # Parámetros estimados para la distribución más uno\n",
    "# k - c grados de libertad\n",
    "# Se testea a una cola, a la derecha χ²\n",
    "pvalue(Chisq(k-c), χ², tail=:right)"
   ]
  },
  {
   "cell_type": "code",
   "execution_count": 40,
   "metadata": {
    "collapsed": false
   },
   "outputs": [
    {
     "data": {
      "text/html": [
       "<img src=\"data:image/png;base64,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\" />"
      ]
     },
     "execution_count": 40,
     "metadata": {},
     "output_type": "execute_result"
    }
   ],
   "source": [
    "H₀ = Chisq(k-c)\n",
    "\n",
    "PDF = plot(x -> pdf(H₀,x),  0, χ², legend=false)\n",
    "plot!(PDF, x -> pdf(H₀,x), χ², χ²+100, fill=0)"
   ]
  },
  {
   "cell_type": "code",
   "execution_count": 41,
   "metadata": {
    "collapsed": false
   },
   "outputs": [],
   "source": [
    "# ChisqTest(convert(Vector{Int}, Oᵢ), Eᵢ./sum(Eᵢ))"
   ]
  },
  {
   "cell_type": "markdown",
   "metadata": {},
   "source": [
    "#### Prueba de Kolmogórov-Smirnov"
   ]
  },
  {
   "cell_type": "markdown",
   "metadata": {},
   "source": [
    "La [prueba de Kolmogorov-Smirnov](https://en.wikipedia.org/wiki/Kolmogorov%E2%80%93Smirnov_test) es otra prueba de ajuste a una distribución que usa la función de densidad acumulada (*CDF*). En particular, su estadístico, $D$ mide la distancia entre la *CDF* de la distribución, que suponemos correcta en la hipótesis nula, y la [*ECDF*](https://en.wikipedia.org/wiki/Empirical_distribution_function) de la muestra. En particular, el estadístico $D$ es [el valor máximo de las diferencias](http://www.itl.nist.gov/div898/handbook/eda/section3/eda35g.htm). Si la función de densidad acumulada empírica es igual a la función de densidad de nuestra distribución a ajustar, el estadístico $D$ será 0 ($H_0$: $D = 0$).  \n",
    "Éste es un test paramétrico, por lo que hace pocas supuestos, pero debe tenerse en cuenta que la distribución que suponemos en nuestra $H_0$ no puede tener parámetros libres, debe estar completamente determinada y debe ser **continua**. Es sensible tanto a cambios en la ubicación como en la forma de la distribución, pero no tiene gran poder, por lo que puede requerir un tamaño muestral grande para rechazar correctamente la hipótesis nula."
   ]
  },
  {
   "cell_type": "code",
   "execution_count": 43,
   "metadata": {
    "collapsed": false
   },
   "outputs": [
    {
     "name": "stderr",
     "output_type": "stream",
     "text": [
      "WARNING: This test is inaccurate with ties\n"
     ]
    },
    {
     "data": {
      "text/plain": [
       "Exact one sample Kolmogorov-Smirnov test\n",
       "----------------------------------------\n",
       "Population details:\n",
       "    parameter of interest:   Supremum of CDF differences\n",
       "    value under h_0:         0.0\n",
       "    point estimate:          0.3159991279561414\n",
       "\n",
       "Test summary:\n",
       "    outcome with 95% confidence: fail to reject h_0\n",
       "    two-sided p-value:           0.2189613080208579 (not significant)\n",
       "\n",
       "Details:\n",
       "    number of observations:   10\n"
      ]
     },
     "execution_count": 43,
     "metadata": {},
     "output_type": "execute_result"
    }
   ],
   "source": [
    "población = Binomial(100, 0.05)\n",
    "muestra   = rand(población, 10)\n",
    "\n",
    "ExactOneSampleKSTest(muestra, población)"
   ]
  },
  {
   "cell_type": "markdown",
   "metadata": {},
   "source": [
    "### Comparación de dos poblaciones."
   ]
  },
  {
   "cell_type": "markdown",
   "metadata": {},
   "source": [
    "> *sleep dataset*  \n",
    ">\n",
    "> Data which show the effect of two soporific drugs (increase in hours of sleep compared to control) on 10 patients.  \n",
    "> \n",
    ">- **Extra**: increase in hours of sleep\n",
    ">- **Group**: drug given\n",
    ">- **ID**: patient ID"
   ]
  },
  {
   "cell_type": "code",
   "execution_count": 83,
   "metadata": {
    "collapsed": false
   },
   "outputs": [
    {
     "data": {
      "text/html": [
       "<table class=\"data-frame\"><tr><th></th><th>Extra</th><th>Group</th><th>ID</th></tr><tr><th>1</th><td>0.7</td><td>1</td><td>1</td></tr><tr><th>2</th><td>-1.6</td><td>1</td><td>2</td></tr><tr><th>3</th><td>-0.2</td><td>1</td><td>3</td></tr><tr><th>4</th><td>-1.2</td><td>1</td><td>4</td></tr><tr><th>5</th><td>-0.1</td><td>1</td><td>5</td></tr><tr><th>6</th><td>3.4</td><td>1</td><td>6</td></tr><tr><th>7</th><td>3.7</td><td>1</td><td>7</td></tr><tr><th>8</th><td>0.8</td><td>1</td><td>8</td></tr><tr><th>9</th><td>0.0</td><td>1</td><td>9</td></tr><tr><th>10</th><td>2.0</td><td>1</td><td>10</td></tr><tr><th>11</th><td>1.9</td><td>2</td><td>1</td></tr><tr><th>12</th><td>0.8</td><td>2</td><td>2</td></tr><tr><th>13</th><td>1.1</td><td>2</td><td>3</td></tr><tr><th>14</th><td>0.1</td><td>2</td><td>4</td></tr><tr><th>15</th><td>-0.1</td><td>2</td><td>5</td></tr><tr><th>16</th><td>4.4</td><td>2</td><td>6</td></tr><tr><th>17</th><td>5.5</td><td>2</td><td>7</td></tr><tr><th>18</th><td>1.6</td><td>2</td><td>8</td></tr><tr><th>19</th><td>4.6</td><td>2</td><td>9</td></tr><tr><th>20</th><td>3.4</td><td>2</td><td>10</td></tr></table>"
      ],
      "text/plain": [
       "20×3 DataFrames.DataFrame\n",
       "│ Row │ Extra │ Group │ ID   │\n",
       "├─────┼───────┼───────┼──────┤\n",
       "│ 1   │ 0.7   │ \"1\"   │ \"1\"  │\n",
       "│ 2   │ -1.6  │ \"1\"   │ \"2\"  │\n",
       "│ 3   │ -0.2  │ \"1\"   │ \"3\"  │\n",
       "│ 4   │ -1.2  │ \"1\"   │ \"4\"  │\n",
       "│ 5   │ -0.1  │ \"1\"   │ \"5\"  │\n",
       "│ 6   │ 3.4   │ \"1\"   │ \"6\"  │\n",
       "│ 7   │ 3.7   │ \"1\"   │ \"7\"  │\n",
       "│ 8   │ 0.8   │ \"1\"   │ \"8\"  │\n",
       "│ 9   │ 0.0   │ \"1\"   │ \"9\"  │\n",
       "│ 10  │ 2.0   │ \"1\"   │ \"10\" │\n",
       "│ 11  │ 1.9   │ \"2\"   │ \"1\"  │\n",
       "│ 12  │ 0.8   │ \"2\"   │ \"2\"  │\n",
       "│ 13  │ 1.1   │ \"2\"   │ \"3\"  │\n",
       "│ 14  │ 0.1   │ \"2\"   │ \"4\"  │\n",
       "│ 15  │ -0.1  │ \"2\"   │ \"5\"  │\n",
       "│ 16  │ 4.4   │ \"2\"   │ \"6\"  │\n",
       "│ 17  │ 5.5   │ \"2\"   │ \"7\"  │\n",
       "│ 18  │ 1.6   │ \"2\"   │ \"8\"  │\n",
       "│ 19  │ 4.6   │ \"2\"   │ \"9\"  │\n",
       "│ 20  │ 3.4   │ \"2\"   │ \"10\" │"
      ]
     },
     "execution_count": 83,
     "metadata": {},
     "output_type": "execute_result"
    }
   ],
   "source": [
    "using RDatasets\n",
    "sleep_long = dataset(\"datasets\",\"sleep\")"
   ]
  },
  {
   "cell_type": "code",
   "execution_count": 123,
   "metadata": {
    "collapsed": false
   },
   "outputs": [
    {
     "data": {
      "text/html": [
       "<table class=\"data-frame\"><tr><th></th><th>ID</th><th>1</th><th>2</th></tr><tr><th>1</th><td>1</td><td>0.7</td><td>1.9</td></tr><tr><th>2</th><td>2</td><td>-1.6</td><td>0.8</td></tr><tr><th>3</th><td>3</td><td>-0.2</td><td>1.1</td></tr><tr><th>4</th><td>4</td><td>-1.2</td><td>0.1</td></tr><tr><th>5</th><td>5</td><td>-0.1</td><td>-0.1</td></tr><tr><th>6</th><td>6</td><td>3.4</td><td>4.4</td></tr><tr><th>7</th><td>7</td><td>3.7</td><td>5.5</td></tr><tr><th>8</th><td>8</td><td>0.8</td><td>1.6</td></tr><tr><th>9</th><td>9</td><td>0.0</td><td>4.6</td></tr><tr><th>10</th><td>10</td><td>2.0</td><td>3.4</td></tr></table>"
      ],
      "text/plain": [
       "10×3 DataFrames.DataFrame\n",
       "│ Row │ ID   │ 1    │ 2    │\n",
       "├─────┼──────┼──────┼──────┤\n",
       "│ 1   │ \"1\"  │ 0.7  │ 1.9  │\n",
       "│ 2   │ \"2\"  │ -1.6 │ 0.8  │\n",
       "│ 3   │ \"3\"  │ -0.2 │ 1.1  │\n",
       "│ 4   │ \"4\"  │ -1.2 │ 0.1  │\n",
       "│ 5   │ \"5\"  │ -0.1 │ -0.1 │\n",
       "│ 6   │ \"6\"  │ 3.4  │ 4.4  │\n",
       "│ 7   │ \"7\"  │ 3.7  │ 5.5  │\n",
       "│ 8   │ \"8\"  │ 0.8  │ 1.6  │\n",
       "│ 9   │ \"9\"  │ 0.0  │ 4.6  │\n",
       "│ 10  │ \"10\" │ 2.0  │ 3.4  │"
      ]
     },
     "execution_count": 123,
     "metadata": {},
     "output_type": "execute_result"
    }
   ],
   "source": [
    "sleep_wide = unstack(sleep_long, :ID, :Group, :Extra)"
   ]
  },
  {
   "cell_type": "code",
   "execution_count": 124,
   "metadata": {
    "collapsed": false
   },
   "outputs": [
    {
     "data": {
      "text/html": [
       "<table class=\"data-frame\"><tr><th></th><th>ID</th><th>G1</th><th>G2</th></tr><tr><th>1</th><td>1</td><td>0.7</td><td>1.9</td></tr><tr><th>2</th><td>2</td><td>-1.6</td><td>0.8</td></tr><tr><th>3</th><td>3</td><td>-0.2</td><td>1.1</td></tr><tr><th>4</th><td>4</td><td>-1.2</td><td>0.1</td></tr><tr><th>5</th><td>5</td><td>-0.1</td><td>-0.1</td></tr><tr><th>6</th><td>6</td><td>3.4</td><td>4.4</td></tr><tr><th>7</th><td>7</td><td>3.7</td><td>5.5</td></tr><tr><th>8</th><td>8</td><td>0.8</td><td>1.6</td></tr><tr><th>9</th><td>9</td><td>0.0</td><td>4.6</td></tr><tr><th>10</th><td>10</td><td>2.0</td><td>3.4</td></tr></table>"
      ],
      "text/plain": [
       "10×3 DataFrames.DataFrame\n",
       "│ Row │ ID   │ G1   │ G2   │\n",
       "├─────┼──────┼──────┼──────┤\n",
       "│ 1   │ \"1\"  │ 0.7  │ 1.9  │\n",
       "│ 2   │ \"2\"  │ -1.6 │ 0.8  │\n",
       "│ 3   │ \"3\"  │ -0.2 │ 1.1  │\n",
       "│ 4   │ \"4\"  │ -1.2 │ 0.1  │\n",
       "│ 5   │ \"5\"  │ -0.1 │ -0.1 │\n",
       "│ 6   │ \"6\"  │ 3.4  │ 4.4  │\n",
       "│ 7   │ \"7\"  │ 3.7  │ 5.5  │\n",
       "│ 8   │ \"8\"  │ 0.8  │ 1.6  │\n",
       "│ 9   │ \"9\"  │ 0.0  │ 4.6  │\n",
       "│ 10  │ \"10\" │ 2.0  │ 3.4  │"
      ]
     },
     "execution_count": 124,
     "metadata": {},
     "output_type": "execute_result"
    }
   ],
   "source": [
    "names!(sleep_wide, [:ID,:G1,:G2])"
   ]
  },
  {
   "cell_type": "markdown",
   "metadata": {},
   "source": [
    "#### ¿Son variables independientes con distribución normal?"
   ]
  },
  {
   "cell_type": "code",
   "execution_count": 101,
   "metadata": {
    "collapsed": false
   },
   "outputs": [
    {
     "data": {
      "text/html": [
       "<table class=\"data-frame\"><tr><th></th><th>Group</th><th>P_AD</th><th>P_Shapiro</th></tr><tr><th>1</th><td>1</td><td>0.4019278195142005</td><td>0.40792879642998914</td></tr><tr><th>2</th><td>2</td><td>0.3784707224362564</td><td>0.35113468540765047</td></tr></table>"
      ],
      "text/plain": [
       "2×3 DataFrames.DataFrame\n",
       "│ Row │ Group │ P_AD     │ P_Shapiro │\n",
       "├─────┼───────┼──────────┼───────────┤\n",
       "│ 1   │ \"1\"   │ 0.401928 │ 0.407929  │\n",
       "│ 2   │ \"2\"   │ 0.378471 │ 0.351135  │"
      ]
     },
     "execution_count": 101,
     "metadata": {},
     "output_type": "execute_result"
    }
   ],
   "source": [
    "using RCall \n",
    "\n",
    "by(sleep_long, :Group) do df\n",
    "    extra = df[:Extra]\n",
    "    DataFrame(\n",
    "        P_AD = pvalue(OneSampleADTest(extra, Normal())),\n",
    "        P_Shapiro = rcopy(R\"shapiro.test($extra)\")[symbol(\"p.value\")]\n",
    "    )\n",
    "end"
   ]
  },
  {
   "cell_type": "markdown",
   "metadata": {},
   "source": [
    "#### ¿Hay igualdad de varianza?"
   ]
  },
  {
   "cell_type": "code",
   "execution_count": 111,
   "metadata": {
    "collapsed": false
   },
   "outputs": [
    {
     "data": {
      "text/html": [
       "<img src=\"data:image/png;base64,iVBORw0KGgoAAAANSUhEUgAAAZAAAADICAYAAADGFbfiAAAABHNCSVQICAgIfAhkiAAAAAlwSFlzAAAPYQAAD2EBqD+naQAAGgdJREFUeJzt3XtQVOf9BvBnQa2QUC81Ctps3FQsRFGR5KcYLRgxscSuadVBixcgYCJoJDbaGi/gWGwxrdICIQbUtUo31dgaJ9NpCI7LSFshZRE1QsEWxYZFLpkmWhKj8v7+sJy6XGRdzp6zl+czc8bl5ex5vweW83iur0YIIUBERPSAvNQugIiIXBMDhIiI7MIAISIiuzBAiIjILgwQIiKyCwOEiIjsMkDtAnpisVhgsVjULoOIyKMFBAQgICCg9xmEk2lsbBQRERECACdOnDhxUnGKiIgQjY2NvW6vnW4PxGKxoKSkBIcPH0ZwcLDa5biF1NRUZGVlqV0GkcPxsy6f6upqLFu2DBaLpde9EKcLkE7BwcGYOnWq2mW4haFDh/JnSR6Bn3VlOW2AENFdJ0+eRH19vdpluITa2loUFBSoXYbT0+l0mDNnTr+XwwAhcmI1NTWIiopSuwyXkpSUpHYJLuHdd9+FTqeTvvbz80NgYOADLYMB4gHOnj2rdglkp6CgIBQXF3MPxAaFhYUwmUyIjIxEbGysIn1eu3YNW7ZsUaQvuS1atKhbW21t7QOFCAPEAyxYsEDtEqgf5DjU4ClMJhNiY2ORmJioSH9msxlbtmxx+Yt+Ok+YX79+/YHexwDxANnZ2WqXQOTWPPWiH96JTkREduEeCBGRzOrq6h74cJAt7DnR7UiKBsjSpUthNpvh6+sLAEhPT+fxeQWUlpZi5syZapdB5BHq6uowfvx4hy3/QU9038tgMKCkpAQHDhyQpRZFA6SiogLl5eUYOnSokt16vF27djFAiBQi7Xm8aAD8ZTyx3lQN7Iuza8/m5s2bSE9Px5tvvomFCxfKVpJiAdLW1oaWlhYsWbIEFosFCxcuxLZt25Tq3qO98847apdA5Hn8g4HHQhXvNiEhAU899RRWr14NAJg/fz6Sk5PR0dGBzMxMlJWVydaXYifRm5ubMXfuXBw+fBhnzpzB6dOnZduNovvrPGRIRO4vPj4ehw4dAnD3PpW///3viI6ORmZmJgYPHixrX4oFSHBwMI4cOYIRI0bAx8cHa9aswfvvv69U90REHmHWrFloa2vDpUuXcPjwYSxbtsxhfSkWIGazGSdOnJC+vn37NgYM6P0IWnR0NPR6vdUUHh6O48ePW81XVFQEvV7f7f0pKSnYt29ftxr0ej1aW1ut2tPS0pCZmWnV1tDQAL1ej5qaGqv27OxsbNiwwaqtvb0der0epaWlVu1GoxHx8fHdaouJieF6cD24Hg5ajytXrii6Hs4oLi4OhYWFMBqNiIuLk9o1Gs1933fvdjc1NbXvjpQa5+Ovf/2r0Ol04rPPPhM3b94Uc+fOFe+88063+SoqKgQAUVFRoVRpbu+1115TuwQih8vPzxcARH5+vmJ99rS96mzD5jKBt7+Sb9pcZvO28ZNPPhFjx44VzzzzjFX7gQMHRFxc3AOtx/36U+wk+vTp07FmzRpMnz4dt2/fxuLFixETE6NU9x5Nq9WqXQKR52mqVm15o0ePhk6n67aHp9Fo+twLeRCKXsa7fv16rF+/XskuCcDatWvVLoHIY/j5+d19sS/Oscu/j5aWFly9erXbAxNXrlyJlStXylYL70QnIpJRYGAgamtrVbsT/ejRo1izZg127dol+1VXXTFAiIhkpubjRhYvXozFixcr0hcfpugBul5hQkQkBwaIB9i4caPaJRCRG+IhLA+Qk5OjdglEbq26WuYrrhRmb/0MEA/Ay3iJHKPziihH3u2tJFuu8LoXA4SIyE6OvOJKafaMNcIAISLqB2ca4ElpPInuAbo+/4eISA4MEA/Q3t6udglE5IYYIB5g+/btapdARG5I8QDZsGFDj49wJiIi16LoSfSTJ0/i4MGDmD9/vpLdErm0uro6t7jKx9HMZrP0b+dr6pk9V1z1RLEA+fTTT7Flyxa8/vrrqKqqUqpbAtDa2ooRI0aoXQbZoa6uDuPHj1e7DJeSl5eHvLw8tctwerW1tf0OEcUC5OWXX8bOnTvR0NCgVJf0XwkJCVajQZLrkPY8XjQA/sGq1uISmmoA/yC1q3BuTdXAvjhZ9moVCZCCggI8+uijmD17NgwGgxJd0j3S09PVLoH6yz8YeCxU7SqcH39GilLkJPqRI0dQVFSE0NBQpKWl4cSJE32Ot8sx0eVbj/T0dLdYD3f5fTzIetg0LjWRHSorK6XXRqMRYWFh0Gq1DzQmukYIIRxZZFcHDx6EyWTCgQMHevy+2WxGWFgYKioqMHXqVCVLI3I6nX8P2FzG/12TPK5UAhnT+tzG2rItVuU+EDnH5CUiInUoHiArV67E/v37le7Wo3U95EJEJAfeie4BeE08ETmCSz+N9+TJk6ivr1e7DKcXEBCAgoICtctwCTqdDnPmzFG7DCKX4LIBUlNTg6ioKLXLIDdUXV2NoCDeS0DUF5cNkKCgIBQXF3MPpA+FhYUwmUyIjIxEbGys2uU4PZ1Ox/AgspHLBggAHmqwkclkQmxsLBITE9UuhYjcCE+iExGRXRggRERkFwYIERHZhQFCRER2YYAQEZFdGCBERGQXBggREdlF0QD5yU9+ggkTJmDixInYs2ePkl0TEZHMFLuR8I9//CPOnDmD8+fP4+bNm5gwYQLmz58vy8DuRESkPMX2QKKjo1FcXAwvLy9cu3YNd+7cwUMPPaRU90REJDNFD2ENGDAAW7ZswYQJEzBnzhyMHj1aye6JiEhGip9E/+lPf4rW1lZcvXoV+fn5SndPREQyUSxALl68iAsXLgAAfHx88P3vfx/nzp3rdf7o6GhpcPfOKTw8HMePH7ear6ioCHq9vtv7U1JSuo3EZzabodfr0draatWelpaGzMxMq7aGhgbo9XrU1NRYtWdnZ2PDhg1Wbe3t7dDr9SgtLbVqNxqNiI+P71ZbTEyMYuvR1tYGALBYLC69Hu7y+3jQ9UhNTe1WA5EcKisrpddGoxFhYWHQarXS9taWz55GCCEcWWSnY8eOYc+ePTh16hQ6Ojrw/PPP4+WXX8aiRYus5rNlIHeyXUFBAZKSkpCfn8+n8bqgzr8HbC4DHgtVuxxyB1cqgYxpfW5jbdkWK3YV1sKFC2E2mzFlyhR4e3sjJiamW3gQEZHrUHQ8kIyMDGRkZCjZJREROQjvRCciIrswQIiIyC5Wh7Cqqqpw4cIF3LlzBwAghMCXX36J8vLybleeEBGRZ5MC5Ne//nWPl20NHDgQkZGRStZEREQuQDqElZ2djU2bNuHLL7/EyJEjcfXqVVRVVWH8+PHYuHGjmjUSEZETkgKkoaEBL774IgYNGoQpU6bgb3/7G0JCQvDLX/4SaWlpatZIREROSAqQhx9+GLdu3QIAjBs3Dh9//DEAICgoCBUVFepUR0RETksKkFmzZiEjIwM3btzA5MmT8d577+HOnTsoLS3F0KFD1ayRiIickBQgGRkZ+PDDD5GXl4clS5agubkZw4cPx4oVKxAXF6diiURE5Iykq7C++c1v4h//+Afa29vh5+eHM2fOoLCwEFqtlo8cISKibqQAmTJlCo4dOyY9NGvUqFFYv369aoUREZFzkw5hffHFF/D19VWzFiIiciHSHsjatWvxgx/8AMnJyQgMDISPj4/VjN/5znf63dnu3buxf/9+aDQaPPXUU9i7dy8GDhzY7+USEZHypADZunUrAOCVV17pccaOjo5+dVReXg6DwYCPPvoIPj4+WLFiBXJzczlgDhGRi5ICpL6+Hr2NLaXRaPrd0fDhw5Gbmyvt2UyaNAkNDQ39Xi4REalDOgeyfft2fOMb38DYsWOtpiFDhuDVV1/td0fjxo3DrFmzAADNzc3Izc3FggUL+r1cIiJSx4Df/OY3EELAYDAgNDQUQ4YMsZrh4sWL+OCDD2Tr8PLly3j++eexatUqREREyLZcIiJSlldcXBzi4+MBAOvWrUNcXJzV9Oabb8r2MMWzZ89i5syZSE5OxqZNm+47b3R0tDS4e+cUHh6O48ePW81XVFQEvV7f7f0pKSndHkFvNpuh1+vR2tpq1Z6WlobMzEyrtoaGBuj1etTU1Fi1Z2dnY8OGDVZt7e3t0Ov1KC0ttWo3Go3Sz/ZeMTExiq1HW1sbAMBisbj0erjL7+NB14PnCMlRKisrpddGoxFhYWHQarXS9taWz55G3AVvb29YLBaMGjXKIcW2tLQgJCQEb731Fl544YVe57NlIHeyXUFBAZKSkpCfn4/ExES1y6EH1Pn3gM1lwGOhapdD7uBKJZAxrc9trC3bYi/g7knyf/7zn72Gx/vvv9/vmrOysnDjxg1s374doaGhCA0Nla78IiIi12N1J/revXsRExMjffM///kPXn31VRQUFPT7Mt6MjAxkZGT0axlEROQ8rG4kXLZsGYqKipCTk4OqqiosX74cN27cwNGjR9WskYjKjUBDZd/zEfWlqabveWwkBciOHTvw3HPPIS4uDkFBQbBYLPjhD3+IPXv2YNiwYbJ1KKe6ujpcv35d7TKcmtlslv7tfE298/PzQ2BgoNplSJqamu6++DBL3ULI7UifrX4YcO8Xo0ePhlarRWlpKYQQ0Gq18PPz63cnjlBXV4fx48erXYbLyMvLQ15entpluITa2lqnCRF/f/+7L+amAv5B6hZD7qGpBvgw63+frX6QAmT37t3Ytm0bnnjiCVy4cAHnzp3DSy+9hPfeew8HDhxwuiuipD2PFw2Af7CqtTi9phpufGzRVA3si3POvdr/W8qrsEgeVypl26OVAmTjxo3YvHkztm3bBm9vb4wfPx5PP/00EhISMH36dHz11VeydCg7/2D+YfWFPx8icoABQghoNBr8+c9/xrRp06y+GRAQgD/84Q/YvXu3SuUREZGz8mppaQEAKTxiY2PR3NwszfDvf/+b92sQEVE3Xl0bTpw4gRs3bli19faUXiIi8lzdAoSIiMgWDBAiIrILA4SIiOzSZ4DIMRphV9evX0dISAhHJCQicmED1q1bJw0zK4TAzZs38eMf/1i6A729vV3WDsvKyvDSSy+hrq5O1uUSEZGyBnR9HsqMGTPQ0tIiDY4jhJB15MC9e/ciJycHy5cvl22ZRESkvAGnTp1StMP9+/cr2h8RETkGT6ITEZFdnDZAbB0TncgROCY6uTvZxkR3ZJG90el0KCkpgVartWq3dUx0jhVNsrNxrGgl8XNOspNxTPQBPbYSkXNpqla7AtfAoQv6JuNnSbUAqa+vV6trIpchDei2L07VOsj9yDFYIPdAiJxYYGAgamtrnXOQKydTUFCAvLw8rF69GomJiWqX49TkGrqZAULk5JxleF1n13mcfurUqU5zDsvdOe1VWERE5NwYIEREZBcGCBER2YUBQkREdmGAEBGRXRggRERkFwYIERHZxfXvAyk3Ag2Vfc9H1Jemmr7nISKJywaINBDWh1nqFkJup+sga0TUM5cNEH9//7sv5qby4Wkkj6Ya4MOs/322iOi+FA2Q3/72t8jIyMBXX32F1NRUpKSk9H+h/7eUj7kmeVyp5B4t0QNQLEA++eQTvP7666isrMTXvvY1zJgxAxEREZg4caJSJRARkYwUuwqruLgYUVFRGDZsGHx9fbFo0SK8++67SnVPREQyUyxALBYLAgICpK8DAgJgsViU6p6IiGSmWID0NHKulxdvQyEiclWKbcHHjBljdXlkY2MjxowZ0+v80dHR0uDunVN4eDiOHz+uRLnk4YqKiqDX67u1p6SkYN++fVZtZrMZer0era2tVu1paWnIzMy0amtoaIBer0dNjfU9J9nZ2diwYYNVW3t7O/R6PUpLS63ajUYj4uPju9UWExPT7e/DE9fjypUrbrEeSv4+jEYjwsLCoNVqpe1tampqtzq70oiedg0coLGxEU8//TTKy8vh6+uLGTNmYN++fXjyySet5rNlIPd758PmMl6FRfK4UglkTOvzs6e0kydPcghoGxQWFsJkMiEyMhKxsbFql+PUdDod5syZc995bNkWK3YV1ujRo7Fz507Mnj0bt27dQlJSUrfwICJrNTU1iIqKUrsMl2IymWAymdQuw+lVV1cjKKh/99Apeh/I0qVLsXTpUnkX2lQt7/LcUVMNb7a0hRN+loKCglBcXMw9EBudP38eISEhapfh9HQ6Xb/DA3DhO9H9/PzuvtgXp2od5H6kz5aT6OtQA/2PXq/Hr371K7XL8BguGyCBgYGora3F9evX1S7FqRUUFCAvLw+rV69GYmKi2uU4PT8/PwQGBqpdBtkpJydH7RI8issGCAD+odug8+TX1KlTnerEMJEjaLVatUvwKLwRg4iI7MIAISIiuzBAiMhtdL3BjhyLAUJEbqO9vV3tEjwKA4SI3Mb27dvVLsGjMECIiMguDBAiIrILA4SI3EbXJ9eSYzFAiMhtJCQkqF2CR1ElQAwGQ4/Pzyci6o/09HS1S/AoigbIzZs3sWnTJqxbtw4ajUbJronIA/BxPcpSNEBOnTqFjo4OZGZm9jjELRERuQ5FA2TevHnIzMzE4MGDleyWiIgcwCEB8rvf/Q4BAQFW07Rp0xzRFRGRpOu44uRYDgmQmJgYWCwWq6msrEz6vi3nP6Kjo6XB3Tun8PBwlxmkHrg7UH1PFwvExMQoth5tbW0AAIvF4tLr4S6/D66HY9fDbDa7xXp0rotS62E0GhEWFgatVittb1NTU7vV2ZVGqHAywmAwoKSkBAcOHOj2PVsGcifbFRQUICkpCfn5+RxQiohsZsu2WJXLeDUaDa/CIiJycaqMSLhy5UqsXLlSja6JiEgmvBOdiIjswgAhIrfR0wlqchwGCBG5jTVr1qhdgkdhgBCR23j22WfVLsGjMECIiMguDBAiIrILA4SI3EbXO7/JsVS5D0QuJ0+eRH19vdplOLXCwkKrf+n+dDod5syZo3YZZKfMzEy88MILapfhMVw2QGpqahAVFaV2GS7DZDLBZDKpXYZLqK6uRlBQkNplkB0eeeQRtUvwKC4bIEFBQSguLuYeiA1+8Ytf4LXXXlO7DJeg0+kYHkQ2ctkAAcBDDTY6ceIEH6RIRLLjSXQiIrKL0+6BVFdXq12C2ygvL4fZbFa7DCKH42ddPjZtg4WTaWxsFBEREQIAJ06cOHFScYqIiBCNjY29bq9VGVCqL52jGBIRkXo6hyTvjVMGCBEROT+eRCciIrswQIiIyC4MEA9w/fp1hISEoKGhQe1SiBxi9+7dmDhxIkJCQpCQkIBbt26pXZJHYIC4ubKyMsyaNQt1dXVql0LkEOXl5TAYDPjoo49w/vx53L59G7m5uWqX5REYIG5u7969yMnJue+VFESubPjw4cjNzYWPjw8AYNKkSdzbVgivwvIQOp0OJSUl0Gq1apdC5DDNzc2YNm0aDAYDIiIi1C7H7XEPhIjcwuXLlzF79mysWrWK4aEQBggRubyzZ89i5syZSE5OxqZNm9Qux2M47bOwiIhs0dLSgnnz5uGtt97iYFIK4x4IEbm0rKws3LhxA9u3b0doaChCQ0OxdetWtcvyCDyJTkREduEeCBER2YUBQkREdmGAEBGRXRggRERkFwYIERHZhQFCRER2YYAQEZFdGCBERGQXBgjRPYQQMBgMiIyMxMiRIzF48GCMGzcOa9euhcViUbs8IqfCACH6rzt37mDBggX40Y9+hAULFqCkpASXLl1CdnY2Kioq8OSTT6K5uVntMomcBh9lQvRfb7zxBjZv3ozy8nJMmTLF6ntffPEFgoODsWTJEvz85z9XqUIi58I9ECLcPXSVnZ2NFStWdAsPAPDx8cHp06exY8cOXL58GV5eXsjIyIC/vz90Oh0+//xzfPrpp0hJSYFWq4Wvry9mzZqF0tJSaRnp6enQ6XRWyzUYDPDy+t+f4dixY7Fz505ER0fD19cXgYGB2L9/v+NWnKgfGCBEAOrr6/Gvf/0LUVFRvc7z6KOPYuDAgdLXhYWFMJlMOHbsGB5++GE8++yzKC0txaFDh1BZWYnJkycjKioKFRUV0ns0Gk2ftezYsQPh4eGoqqpCSkoKVq1ahSNHjvRvBYkcgAFCBODatWsAgEceecSq/Xvf+x78/PykaeLEiVIIJCcnIygoCFOnTsUHH3wAs9kMo9GIiIgIfPvb30ZOTg5CQkLwxhtvSMuz5Yjxc889h61btyIwMBCpqalYvHgxsrKyZFxbInkwQIgAjBgxAgDQ1tZm1f7222+jqqoKZ8+eRUJCAtrb26XvBQYGSq/Pnz+PIUOG4IknnrB6/8yZM3Hu3Dmb69BoNIiMjLRqmz59Os6fP2/zMoiUwgAhAvD4448jICAAJpPJqj0gIACPP/44vvWtb2HYsGFWexA+Pj7S6972LO7cuYNBgwb1Ot+tW7e6vefew2QA0NHRAW9vb5vXhUgpDBAiAN7e3njllVdw8ODBXv+3f/Xq1V7PYUyaNAmfffYZPv74Y6lNCIHS0lJpr2TQoEH4/PPPrd536dKlbssqLy+3+vovf/kLwsLCHmh9iBQhiEgIIURHR4eIiYkRX//618XOnTvF2bNnRX19vThx4oSYO3eu0Gg0IjExUVy+fFloNBpRUlIivff27dti8uTJYtKkScJkMomLFy+K5ORkMWjQIFFWViaEEKKkpERoNBrxs5/9TNTX14vCwkIxcuRIodFopOU89thjYuDAgSI3N1fU1taKXbt2CW9vb/GnP/1J8Z8HUV8YIERdHD16VHz3u98Vo0aNEoMGDRJarVYsX75cnD59WgghRH19vfDy8rIKECGEaG5uFitWrBDDhw8XDz30kIiIiJDe02nnzp1izJgxwsfHR8ybN08cOnRIeHl5Sd8fO3asSEpKEs8884wYPHiwmDRpkvj973/v+JUmsgNvJCRyIjqdDvHx8di2bZvapRD1iedAiJwI/z9HroQBQuREbLnRkMhZ/D8dUye4MjCPsQAAAABJRU5ErkJggg==\" />"
      ]
     },
     "execution_count": 111,
     "metadata": {},
     "output_type": "execute_result"
    }
   ],
   "source": [
    "boxplot(sleep_long, :Group, :Extra)"
   ]
  },
  {
   "cell_type": "code",
   "execution_count": 96,
   "metadata": {
    "collapsed": false
   },
   "outputs": [
    {
     "data": {
      "text/html": [
       "<table class=\"data-frame\"><tr><th></th><th>Group</th><th>x1</th></tr><tr><th>1</th><td>1</td><td>3.200555555555556</td></tr><tr><th>2</th><td>2</td><td>4.0089999999999995</td></tr></table>"
      ],
      "text/plain": [
       "2×2 DataFrames.DataFrame\n",
       "│ Row │ Group │ x1      │\n",
       "├─────┼───────┼─────────┤\n",
       "│ 1   │ \"1\"   │ 3.20056 │\n",
       "│ 2   │ \"2\"   │ 4.009   │"
      ]
     },
     "execution_count": 96,
     "metadata": {},
     "output_type": "execute_result"
    }
   ],
   "source": [
    "by(sleep_long, :Group) do df\n",
    "    var( df[:Extra] )\n",
    "end"
   ]
  },
  {
   "cell_type": "markdown",
   "metadata": {},
   "source": [
    "Todos los **test de igualdad de varianza** tienen como hipótesis nula que las varianzas son iguales.  \n",
    "  \n",
    "El [**test F de igualdad de varianzas**](https://en.wikipedia.org/wiki/F-test_of_equality_of_variances) tiene como supuesto que las distribuciones son normales. "
   ]
  },
  {
   "cell_type": "code",
   "execution_count": 102,
   "metadata": {
    "collapsed": false
   },
   "outputs": [
    {
     "data": {
      "text/plain": [
       "RCall.RObject{RCall.VecSxp}\n",
       "\n",
       "\tF test to compare two variances\n",
       "\n",
       "data:  Extra by Group\n",
       "F = 0.79834, num df = 9, denom df = 9, p-value = 0.7427\n",
       "alternative hypothesis: true ratio of variances is not equal to 1\n",
       "95 percent confidence interval:\n",
       " 0.198297 3.214123\n",
       "sample estimates:\n",
       "ratio of variances \n",
       "         0.7983426 \n",
       "\n"
      ]
     },
     "execution_count": 102,
     "metadata": {},
     "output_type": "execute_result"
    }
   ],
   "source": [
    "R\"var.test(Extra ~ Group, $sleep_long)\""
   ]
  },
  {
   "cell_type": "markdown",
   "metadata": {},
   "source": [
    "El [**test de Bartlett**](https://en.wikipedia.org/wiki/Bartlett%27s_test) es sensible a las desviaciones de la normalidad, por lo que no es recomendable usarlo con distribuciones no normales."
   ]
  },
  {
   "cell_type": "code",
   "execution_count": 100,
   "metadata": {
    "collapsed": false
   },
   "outputs": [
    {
     "data": {
      "text/plain": [
       "RCall.RObject{RCall.VecSxp}\n",
       "\n",
       "\tBartlett test of homogeneity of variances\n",
       "\n",
       "data:  Extra by Group\n",
       "Bartlett's K-squared = 0.10789, df = 1, p-value = 0.7426\n",
       "\n"
      ]
     },
     "execution_count": 100,
     "metadata": {},
     "output_type": "execute_result"
    }
   ],
   "source": [
    "R\"bartlett.test(Extra ~ Group, $sleep_long)\""
   ]
  },
  {
   "cell_type": "markdown",
   "metadata": {},
   "source": [
    "El [**test de Levene**](https://en.wikipedia.org/wiki/Levene%27s_test) es robusto ante distribuciones no normales. "
   ]
  },
  {
   "cell_type": "code",
   "execution_count": 99,
   "metadata": {
    "collapsed": false
   },
   "outputs": [
    {
     "data": {
      "text/plain": [
       "RCall.RObject{RCall.VecSxp}\n",
       "Levene's Test for Homogeneity of Variance (center = median)\n",
       "      Df F value Pr(>F)\n",
       "group  1  0.2482 0.6244\n",
       "      18               \n"
      ]
     },
     "execution_count": 99,
     "metadata": {},
     "output_type": "execute_result"
    }
   ],
   "source": [
    "R\"\"\"\n",
    "library(car)\n",
    "leveneTest(Extra ~ Group, $sleep_long)\n",
    "\"\"\""
   ]
  },
  {
   "cell_type": "markdown",
   "metadata": {},
   "source": [
    "##### [Test de Student](http://www.biostathandbook.com/twosamplettest.html)"
   ]
  },
  {
   "cell_type": "code",
   "execution_count": 125,
   "metadata": {
    "collapsed": false
   },
   "outputs": [
    {
     "data": {
      "text/plain": [
       "Two sample t-test (equal variance)\n",
       "----------------------------------\n",
       "Population details:\n",
       "    parameter of interest:   Mean difference\n",
       "    value under h_0:         0\n",
       "    point estimate:          -1.5799999999999996\n",
       "    95% confidence interval: (-3.363874032287598,0.2038740322875987)\n",
       "\n",
       "Test summary:\n",
       "    outcome with 95% confidence: fail to reject h_0\n",
       "    two-sided p-value:           0.07918671421593818 (not significant)\n",
       "\n",
       "Details:\n",
       "    number of observations:   [10,10]\n",
       "    t-statistic:              -1.8608134674868528\n",
       "    degrees of freedom:       18\n",
       "    empirical standard error: 0.8490910172387619\n"
      ]
     },
     "execution_count": 125,
     "metadata": {},
     "output_type": "execute_result"
    }
   ],
   "source": [
    "EqualVarianceTTest(sleep_wide[:G1], sleep_wide[:G2])"
   ]
  },
  {
   "cell_type": "code",
   "execution_count": 127,
   "metadata": {
    "collapsed": false
   },
   "outputs": [
    {
     "data": {
      "text/plain": [
       "Two sample t-test (unequal variance)\n",
       "------------------------------------\n",
       "Population details:\n",
       "    parameter of interest:   Mean difference\n",
       "    value under h_0:         0\n",
       "    point estimate:          -1.5799999999999996\n",
       "    95% confidence interval: (-3.3654832307117104,0.20548323071171093)\n",
       "\n",
       "Test summary:\n",
       "    outcome with 95% confidence: fail to reject h_0\n",
       "    two-sided p-value:           0.07939414018735824 (not significant)\n",
       "\n",
       "Details:\n",
       "    number of observations:   [10,10]\n",
       "    t-statistic:              -1.8608134674868526\n",
       "    degrees of freedom:       17.776473516178495\n",
       "    empirical standard error: 0.849091017238762\n"
      ]
     },
     "execution_count": 127,
     "metadata": {},
     "output_type": "execute_result"
    }
   ],
   "source": [
    "UnequalVarianceTTest(sleep_wide[:G1], sleep_wide[:G2]) # Welch’s t-test"
   ]
  },
  {
   "cell_type": "markdown",
   "metadata": {},
   "source": [
    "###### [Test de Student para variables apareadas](http://www.biostathandbook.com/pairedttest.html)"
   ]
  },
  {
   "cell_type": "code",
   "execution_count": 132,
   "metadata": {
    "collapsed": false
   },
   "outputs": [
    {
     "data": {
      "text/plain": [
       "One sample t-test\n",
       "-----------------\n",
       "Population details:\n",
       "    parameter of interest:   Mean\n",
       "    value under h_0:         0\n",
       "    point estimate:          -1.58\n",
       "    95% confidence interval: (-2.4598857632769824,-0.7001142367230176)\n",
       "\n",
       "Test summary:\n",
       "    outcome with 95% confidence: reject h_0\n",
       "    two-sided p-value:           0.00283289019738427 (very significant)\n",
       "\n",
       "Details:\n",
       "    number of observations:   10\n",
       "    t-statistic:              -4.062127683382037\n",
       "    degrees of freedom:       9\n",
       "    empirical standard error: 0.3889587238883952\n"
      ]
     },
     "execution_count": 132,
     "metadata": {},
     "output_type": "execute_result"
    }
   ],
   "source": [
    "OneSampleTTest(\n",
    "    convert(Vector{Float64}, sleep_wide[:G1]), \n",
    "    convert(Vector{Float64}, sleep_wide[:G2])\n",
    ") # H₀: mean(x) - mean(y) = 0"
   ]
  },
  {
   "cell_type": "markdown",
   "metadata": {},
   "source": [
    "#### Alternativas no paramétricas"
   ]
  },
  {
   "cell_type": "markdown",
   "metadata": {},
   "source": [
    "##### [Mann Whitney](https://en.wikipedia.org/wiki/Mann%E2%80%93Whitney_U_test)"
   ]
  },
  {
   "cell_type": "code",
   "execution_count": 136,
   "metadata": {
    "collapsed": false
   },
   "outputs": [
    {
     "data": {
      "text/plain": [
       "Approximate Mann-Whitney U test\n",
       "-------------------------------\n",
       "Population details:\n",
       "    parameter of interest:   Location parameter (pseudomedian)\n",
       "    value under h_0:         0\n",
       "    point estimate:          -1.4\n",
       "\n",
       "Test summary:\n",
       "    outcome with 95% confidence: fail to reject h_0\n",
       "    two-sided p-value:           0.06932757543362658 (not significant)\n",
       "\n",
       "Details:\n",
       "    number of observations in each group: [10,10]\n",
       "    Mann-Whitney-U statistic:             25.5\n",
       "    rank sums:                            [80.5,129.5]\n",
       "    adjustment for ties:                  18.0\n",
       "    normal approximation (μ, σ):          (-24.5,13.213828482233858)\n"
      ]
     },
     "execution_count": 136,
     "metadata": {},
     "output_type": "execute_result"
    }
   ],
   "source": [
    "MannWhitneyUTest(sleep_wide[:G1], sleep_wide[:G2]) # H₀: P(x > y) = P(y > x)"
   ]
  },
  {
   "cell_type": "markdown",
   "metadata": {},
   "source": [
    "##### [*Wicolxon (signed rank) test*](https://en.wikipedia.org/wiki/Wilcoxon_signed-rank_test)"
   ]
  },
  {
   "cell_type": "code",
   "execution_count": 135,
   "metadata": {
    "collapsed": false
   },
   "outputs": [
    {
     "data": {
      "text/plain": [
       "Exact Wilcoxon signed rank test\n",
       "-------------------------------\n",
       "Population details:\n",
       "    parameter of interest:   Location parameter (pseudomedian)\n",
       "    value under h_0:         0\n",
       "    point estimate:          -1.3\n",
       "    95% confidence interval: (-2.6999999999999997,-0.8999999999999999)\n",
       "\n",
       "Test summary:\n",
       "    outcome with 95% confidence: reject h_0\n",
       "    two-sided p-value:           0.00390625 (very significant)\n",
       "\n",
       "Details:\n",
       "    number of observations:      10\n",
       "    Wilcoxon rank-sum statistic: 0.0\n",
       "    rank sums:                   [0.0,45.0]\n",
       "    adjustment for ties:         6.0\n"
      ]
     },
     "execution_count": 135,
     "metadata": {},
     "output_type": "execute_result"
    }
   ],
   "source": [
    "SignedRankTest(\n",
    "    convert(Vector{Float64}, sleep_wide[:G1]), \n",
    "    convert(Vector{Float64}, sleep_wide[:G2])\n",
    ") # H₀:  median(x - y) = 0"
   ]
  },
  {
   "cell_type": "markdown",
   "metadata": {},
   "source": [
    "##### Kolmogorov-Smirnov"
   ]
  },
  {
   "cell_type": "code",
   "execution_count": 141,
   "metadata": {
    "collapsed": false
   },
   "outputs": [
    {
     "name": "stderr",
     "output_type": "stream",
     "text": [
      "WARNING: This test is inaccurate with ties\n"
     ]
    },
    {
     "data": {
      "text/plain": [
       "Approximate two sample Kolmogorov-Smirnov test\n",
       "----------------------------------------------\n",
       "Population details:\n",
       "    parameter of interest:   Supremum of CDF differences\n",
       "    value under h_0:         0.0\n",
       "    point estimate:          0.5\n",
       "\n",
       "Test summary:\n",
       "    outcome with 95% confidence: fail to reject h_0\n",
       "    two-sided p-value:           0.1640791977266521 (not significant)\n",
       "\n",
       "Details:\n",
       "    number of observations:   [10,10]\n",
       "    KS-statistic:              1.118033988749895\n"
      ]
     },
     "execution_count": 141,
     "metadata": {},
     "output_type": "execute_result"
    }
   ],
   "source": [
    "ApproximateTwoSampleKSTest(sleep_wide[:G1], sleep_wide[:G2]) # H₀: x e y provienen de la misma distribución"
   ]
  },
  {
   "cell_type": "markdown",
   "metadata": {},
   "source": [
    "##### [Test de los signos](https://en.wikipedia.org/wiki/Sign_test)"
   ]
  },
  {
   "cell_type": "markdown",
   "metadata": {},
   "source": [
    "> *Then let W be the number of pairs for which yi − xi > 0. Assuming that H0 is true, then W follows a binomial distribution W ~ b(m, 0.5).*\n",
    "\n",
    "$m$ es el número de pares que muestran diferencias."
   ]
  },
  {
   "cell_type": "code",
   "execution_count": 145,
   "metadata": {
    "collapsed": false
   },
   "outputs": [
    {
     "data": {
      "text/plain": [
       "Sign Test\n",
       "---------\n",
       "Population details:\n",
       "    parameter of interest:   Median\n",
       "    value under h_0:         0.0\n",
       "    point estimate:          -1.3\n",
       "    95% confidence interval: (-1.7999999999999998,-1.0000000000000004)\n",
       "\n",
       "Test summary:\n",
       "    outcome with 95% confidence: reject h_0\n",
       "    two-sided p-value:           0.0039062500000000035 (very significant)\n",
       "\n",
       "Details:\n",
       "    number of observations:       9\n",
       "    observations larger than 0.0: 0\n"
      ]
     },
     "execution_count": 145,
     "metadata": {},
     "output_type": "execute_result"
    }
   ],
   "source": [
    "SignTest(sleep_wide[:G1], sleep_wide[:G2]) # H₀: P(x > y) = 0.5"
   ]
  },
  {
   "cell_type": "markdown",
   "metadata": {},
   "source": [
    "##### [Test de la mediana](https://en.wikipedia.org/wiki/Median_test)"
   ]
  },
  {
   "cell_type": "markdown",
   "metadata": {},
   "source": [
    "Es un caso especial de la prueba de **chi-cuadrado**. Esta prueba posee poco poder.  \n",
    "Se calcula la mediana para todos los datos ($x$ e $y$), estableciéndose dos grupos (por encima o por debajo de ésta). Luego se arma una tabla de contingencia con esta nueva variable versus las dos variables anteriores ($x$ e $y$)."
   ]
  },
  {
   "cell_type": "code",
   "execution_count": 164,
   "metadata": {
    "collapsed": false
   },
   "outputs": [
    {
     "data": {
      "text/plain": [
       "0.9500000000000001"
      ]
     },
     "execution_count": 164,
     "metadata": {},
     "output_type": "execute_result"
    }
   ],
   "source": [
    "median_xy = median(sleep_long[:Extra])"
   ]
  },
  {
   "cell_type": "code",
   "execution_count": 165,
   "metadata": {
    "collapsed": false
   },
   "outputs": [
    {
     "data": {
      "text/plain": [
       "20-element DataArrays.DataArray{Bool,1}:\n",
       "  true\n",
       "  true\n",
       "  true\n",
       "  true\n",
       "  true\n",
       " false\n",
       " false\n",
       "  true\n",
       "  true\n",
       " false\n",
       " false\n",
       "  true\n",
       " false\n",
       "  true\n",
       "  true\n",
       " false\n",
       " false\n",
       " false\n",
       " false\n",
       " false"
      ]
     },
     "execution_count": 165,
     "metadata": {},
     "output_type": "execute_result"
    }
   ],
   "source": [
    "sleep_long[:Side] = sleep_long[:Extra] .<= median_xy"
   ]
  },
  {
   "cell_type": "code",
   "execution_count": 166,
   "metadata": {
    "collapsed": false,
    "scrolled": true
   },
   "outputs": [],
   "source": [
    "using FreqTables"
   ]
  },
  {
   "cell_type": "code",
   "execution_count": 167,
   "metadata": {
    "collapsed": false
   },
   "outputs": [
    {
     "data": {
      "text/plain": [
       "2x2 NamedArray{Int64,2}:\n",
       "Side ╲ Group │ 1  2\n",
       "─────────────┼─────\n",
       "false        │ 3  7\n",
       "true         │ 7  3"
      ]
     },
     "execution_count": 167,
     "metadata": {},
     "output_type": "execute_result"
    }
   ],
   "source": [
    "tabla = freqtable(sleep_long, :Side, :Group)"
   ]
  },
  {
   "cell_type": "code",
   "execution_count": 168,
   "metadata": {
    "collapsed": false
   },
   "outputs": [
    {
     "data": {
      "text/plain": [
       "Pearson's Chi-square Test\n",
       "-------------------------\n",
       "Population details:\n",
       "    parameter of interest:   Multinomial Probabilities\n",
       "    value under h_0:         [0.25,0.25,0.25,0.25]\n",
       "    point estimate:          [0.15,0.35,0.35,0.15]\n",
       "    95% confidence interval: [(0.0,0.44967890060742266),(0.0,0.6496789006074226),(0.0,0.6496789006074226),(0.0,0.44967890060742266)]\n",
       "\n",
       "Test summary:\n",
       "    outcome with 95% confidence: fail to reject h_0\n",
       "    two-sided p-value:           0.07363827012030282 (not significant)\n",
       "\n",
       "Details:\n",
       "    Sample size:        20\n",
       "    statistic:          3.1999999999999984\n",
       "    degrees of freedom: 1\n",
       "    residuals:          [-0.8944271909999159,0.8944271909999159,0.8944271909999159,-0.8944271909999159]\n",
       "    std. residuals:     [-1.7888543819998317,1.7888543819998317,1.7888543819998317,-1.7888543819998317]\n"
      ]
     },
     "execution_count": 168,
     "metadata": {},
     "output_type": "execute_result"
    }
   ],
   "source": [
    "ChisqTest(tabla)"
   ]
  },
  {
   "cell_type": "markdown",
   "metadata": {},
   "source": [
    "#### Comparar frecuencias"
   ]
  },
  {
   "cell_type": "markdown",
   "metadata": {},
   "source": [
    "##### [Test de Fischer](http://www.biostathandbook.com/fishers.html) [wiki](https://en.wikipedia.org/wiki/Fisher%27s_exact_test)"
   ]
  },
  {
   "cell_type": "markdown",
   "metadata": {},
   "source": [
    "> *Use Fisher's exact test when you have two nominal variables. You want to know whether the proportions for one variable are different among values of the other variable. *"
   ]
  },
  {
   "cell_type": "code",
   "execution_count": 170,
   "metadata": {
    "collapsed": false
   },
   "outputs": [
    {
     "data": {
      "text/plain": [
       "Fisher's exact test\n",
       "-------------------\n",
       "Population details:\n",
       "    parameter of interest:   Odds ratio\n",
       "    value under h_0:         1.0\n",
       "    point estimate:          0.20204490697560082\n",
       "    95% confidence interval: (0.01798928197893331,1.6833921322245327)\n",
       "\n",
       "Test summary:\n",
       "    outcome with 95% confidence: fail to reject h_0\n",
       "    two-sided p-value:           0.1788954079975756 (not significant)\n",
       "\n",
       "Details:\n",
       "    contingency table:\n",
       "        3  7\n",
       "        7  3\n"
      ]
     },
     "execution_count": 170,
     "metadata": {},
     "output_type": "execute_result"
    }
   ],
   "source": [
    "FisherExactTest(tabla...)"
   ]
  },
  {
   "cell_type": "markdown",
   "metadata": {},
   "source": [
    "##### [McNemar](https://en.wikipedia.org/wiki/McNemar%27s_test)"
   ]
  },
  {
   "cell_type": "markdown",
   "metadata": {},
   "source": [
    "Se utiliza para tablas de contingencia 2x2 de variables dicotómicas en medidas pareadas.   \n",
    "\n",
    "| X / Y | true | false |\n",
    "|-------|------|-------|\n",
    "| true  |  a   |   b   |\n",
    "| false |  c   |   d   |\n",
    "  \n",
    "$$H0: Pb = Pc$$\n",
    "$$Ha: Pb \\neq Pc$$\n",
    "\n",
    "$$Q = \\frac{(b-c)^{2}}{b+c}$$\n",
    "\n",
    "Q sigue una distribución χ²con 1 grado de libertad para muestras grandes, es posible hacer una corrección por continuidad para conseguir una mejor aproximación a χ²:"
   ]
  },
  {
   "cell_type": "markdown",
   "metadata": {},
   "source": [
    "$$Q_{c} = \\frac{(|b-c|-1)^{2}}{b+c}$$"
   ]
  },
  {
   "cell_type": "code",
   "execution_count": 212,
   "metadata": {
    "collapsed": false
   },
   "outputs": [
    {
     "data": {
      "text/plain": [
       "2x2 NamedArray{Int64,2}:\n",
       "Dim1 ╲ Dim2 │  0   1\n",
       "────────────┼───────\n",
       "0           │ 27  19\n",
       "1           │ 32  22"
      ]
     },
     "execution_count": 212,
     "metadata": {},
     "output_type": "execute_result"
    }
   ],
   "source": [
    "X = rand(Binomial(1,0.6),100)\n",
    "Y = rand(Binomial(1,0.4),100)\n",
    "\n",
    "tabla = freqtable(X, Y)"
   ]
  },
  {
   "cell_type": "code",
   "execution_count": 213,
   "metadata": {
    "collapsed": false
   },
   "outputs": [
    {
     "data": {
      "text/plain": [
       "19"
      ]
     },
     "execution_count": 213,
     "metadata": {},
     "output_type": "execute_result"
    }
   ],
   "source": [
    "b = tabla[0,1]"
   ]
  },
  {
   "cell_type": "code",
   "execution_count": 214,
   "metadata": {
    "collapsed": false
   },
   "outputs": [
    {
     "data": {
      "text/plain": [
       "32"
      ]
     },
     "execution_count": 214,
     "metadata": {},
     "output_type": "execute_result"
    }
   ],
   "source": [
    "c = tabla[1,0]"
   ]
  },
  {
   "cell_type": "code",
   "execution_count": 215,
   "metadata": {
    "collapsed": false
   },
   "outputs": [
    {
     "data": {
      "text/plain": [
       "3.3137254901960786"
      ]
     },
     "execution_count": 215,
     "metadata": {},
     "output_type": "execute_result"
    }
   ],
   "source": [
    "Q = ((b-c)^2)/(b+c)"
   ]
  },
  {
   "cell_type": "code",
   "execution_count": 216,
   "metadata": {
    "collapsed": false
   },
   "outputs": [
    {
     "data": {
      "text/plain": [
       "2.823529411764706"
      ]
     },
     "execution_count": 216,
     "metadata": {},
     "output_type": "execute_result"
    }
   ],
   "source": [
    "Qc = ((abs(b-c)-1)^2)/(b+c)"
   ]
  },
  {
   "cell_type": "code",
   "execution_count": 222,
   "metadata": {
    "collapsed": false
   },
   "outputs": [
    {
     "data": {
      "text/plain": [
       "0.06870357432287831"
      ]
     },
     "execution_count": 222,
     "metadata": {},
     "output_type": "execute_result"
    }
   ],
   "source": [
    "pvalue(Chisq(1), Q, tail=:right)"
   ]
  },
  {
   "cell_type": "code",
   "execution_count": 223,
   "metadata": {
    "collapsed": false
   },
   "outputs": [
    {
     "data": {
      "text/plain": [
       "0.09289194088370509"
      ]
     },
     "execution_count": 223,
     "metadata": {},
     "output_type": "execute_result"
    }
   ],
   "source": [
    "pvalue(Chisq(1), Qc, tail=:right)"
   ]
  },
  {
   "cell_type": "code",
   "execution_count": 219,
   "metadata": {
    "collapsed": false
   },
   "outputs": [
    {
     "data": {
      "text/plain": [
       "RCall.RObject{RCall.VecSxp}\n",
       "\n",
       "\tMcNemar's Chi-squared test with continuity correction\n",
       "\n",
       "data:  ##RCall##21037\n",
       "McNemar's chi-squared = 2.8235, df = 1, p-value = 0.09289\n",
       "\n"
      ]
     },
     "execution_count": 219,
     "metadata": {},
     "output_type": "execute_result"
    }
   ],
   "source": [
    "R\"mcnemar.test($tabla)\""
   ]
  }
 ],
 "metadata": {
  "kernelspec": {
   "display_name": "Julia 0.4.5",
   "language": "julia",
   "name": "julia-0.4"
  },
  "language_info": {
   "file_extension": ".jl",
   "mimetype": "application/julia",
   "name": "julia",
   "version": "0.4.5"
  }
 },
 "nbformat": 4,
 "nbformat_minor": 0
}
