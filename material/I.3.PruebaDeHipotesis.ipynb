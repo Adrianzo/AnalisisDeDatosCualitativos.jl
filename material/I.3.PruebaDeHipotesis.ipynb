{
 "cells": [
  {
   "cell_type": "markdown",
   "metadata": {},
   "source": [
    "### Unidad I. Variables, distribuciones y pruebas de hipótesis. \n",
    "\n",
    "## Prueba de Hipótesis. Verificación estadística de hipótesis estadística.\n",
    "\n",
    "- Prueba de bondad de ajuste a una distribución. \n",
    "    - Procedimientos no paramétricos chi cuadrado y Kolmogorov–Smirnov\n",
    "- Comparación de dos poblaciones.\n",
    " - Test de Student y Fischer para comparar variables independientes con distribución normal. Test de Student para comparar variables apareadas.\n",
    " - Alternativas no paramétricas de comparación transversal y longitudinal. Los tests de Mann Whitney y Wicolxon.\n",
    " - Otras pruebas de comparación no paramétricas: El test de Kolmogorov-Smirnov y de la Mediana. Test de los signos y de McNemar.\n"
   ]
  },
  {
   "cell_type": "markdown",
   "metadata": {},
   "source": [
    "### Estadística inferencial"
   ]
  },
  {
   "cell_type": "markdown",
   "metadata": {},
   "source": [
    "La [estadística inferencial](https://en.wikipedia.org/wiki/Statistical_inference) trata de inferir información acerca de la distribución de probabilidad de una población, partiendo de la información de una muestra. Se diferencia de la [estadística descriptiva](https://en.wikipedia.org/wiki/Descriptive_statistics) en que en lugar de simplemente describir la muestra, trata de describir algo acerca de la población. Uno puede realizar diferentes estimaciones acerca de la población, la cual normalmente se conduce haciendo uso de la [estadística frecuentista](https://en.wikipedia.org/wiki/Frequentist_inference):  \n",
    "- [**Estimación puntual**](https://en.wikipedia.org/wiki/Point_estimation): Estimación de un parámetro poblacional haciendo uso del valor que mejor lo aproxime.  \n",
    "- [**Estimación por intervalos**](https://en.wikipedia.org/wiki/Interval_estimation): Estimación de un intervalo de valores para un parámetro poblacional desconocido. Por ejemplo, la estimación de un [intervalo de confianza](https://en.wikipedia.org/wiki/Confidence_interval) para un parámetro poblacional.  \n",
    "- [**Test de hipótesis**](https://en.wikipedia.org/wiki/Statistical_hypothesis_testing)  "
   ]
  },
  {
   "cell_type": "markdown",
   "metadata": {},
   "source": [
    "### Test de hipótesis."
   ]
  },
  {
   "cell_type": "markdown",
   "metadata": {},
   "source": [
    "Una prueba de hipótesis es análoga a una [demostración matemática por contradicción](https://en.wikipedia.org/wiki/Proof_by_contradiction) (en particular es un tipo de [*reductio ad absurdum*](https://en.wikipedia.org/wiki/Reductio_ad_absurdum)), aunque no debe considerarse en ningún caso una demostración matemática. Ambos métodos, parten de considerar una <a href=”https://en.wikipedia.org/wiki/Statement_(logic)”>declaración</a> verdadera, en el caso del test de hipótesis, [la hipótesis nula](https://en.wikipedia.org/wiki/Null_hypothesis) ó H₀. En ambos métodos se trata de llegar a una contradicción, dado que una implicación solo puede ser falsa si partiendo de una premisa verdadera llegamos a una conclusión falsa ([tabla de verdad](https://en.wikipedia.org/wiki/Truth_table)):"
   ]
  },
  {
   "cell_type": "markdown",
   "metadata": {
    "collapsed": true
   },
   "source": [
    "| *p*      | *q*       | *p → q*   |\n",
    "|----------|-----------|-----------|\n",
    "| *true*   | *true*    | *true*    |\n",
    "| **true** | **false** | **false** |\n",
    "| *false*  | *true*    | *true*    |\n",
    "| *false*  | *false*   | *true*    |"
   ]
  },
  {
   "cell_type": "markdown",
   "metadata": {
    "collapsed": true
   },
   "source": [
    "Acá es donde ambos métodos divergen, dado que la demostración matemática lo hace siguiendo reglas lógicas determinadas y procedimientos matemáticos permitidos, llegando a un resultado determinado no azaroso. Finalmente, si se llega a una contradicción, se concluye que la declaración original es falsa, aceptando la negación de dicha declaración. En el caso de la prueba de hipótesis, rechazar H₀ implica aceptar la hipótesis alternativa Hₐ. Sin embargo, no rechazar H₀ no implica aceptarla, decimos simplemente que no hay evidencia suficiente para rechazar la hipótesis nula. En cualquier caso, una prueba de hipótesis no demuestra una hipótesis, sólo la soporta con un cierto grado de confianza. Acumular evidencia a favor de una hipótesis ([razonamiento inductivo](https://es.wikipedia.org/wiki/Razonamiento_inductivo)) no es suficiente para demostrarla, la evidencia acumulada solo puede soportar dicha hipótesis.  \n",
    "Las pruebas de hipótesis fueron propuestas para solucionar [el problema de la inducción](https://es.wikipedia.org/wiki/Problema_de_la_inducci%C3%B3n) e incluir el análisis estadístico dentro de un [modelo hipotético deductivo](https://en.wikipedia.org/wiki/Hypothetico-deductive_model) *(Kaplan 2019, capítulo 13)*.  \n",
    "Existen dos tipos de errores que podemos cometer *(Neyman & Pearson, 1933)*:  "
   ]
  },
  {
   "cell_type": "markdown",
   "metadata": {
    "collapsed": true
   },
   "source": [
    "|                   | **H₀ es cierta**  | **Hₐ es cierta**   |\n",
    "|-------------------|-------------------|--------------------|\n",
    "| **Se escogió Hₐ** | *Error de tipo I* | Decisión correcta  |\n",
    "| **Se escogió H₀** | Decisión correcta | *Error de tipo II* |"
   ]
  },
  {
   "cell_type": "markdown",
   "metadata": {},
   "source": [
    "El riesgo o probabilidad de caer en un [error del tipo I](https://en.wikipedia.org/wiki/Type_I_and_type_II_errors) se conoce como [nivel de significación estadistica](https://en.wikipedia.org/wiki/Statistical_significance), normalmente indicado con la letra griega $\\alpha$. La probabilidad de caer en un [error del tipo II](https://en.wikipedia.org/wiki/Type_I_and_type_II_errors) normalmente se anota con la letra griega $\\beta$. Siendo $1-\\beta$ la [potencia o poder del test](https://en.wikipedia.org/wiki/Statistical_power)."
   ]
  },
  {
   "cell_type": "markdown",
   "metadata": {},
   "source": [
    "$$P(escoger H_a | H_0 cierta) = \\alpha$$  "
   ]
  },
  {
   "cell_type": "markdown",
   "metadata": {},
   "source": [
    "$$P(escoger H_0 | H_a cierta) = \\beta$$  "
   ]
  },
  {
   "cell_type": "markdown",
   "metadata": {},
   "source": [
    "$$P(escoger H_a | H_a cierta) = 1 - \\beta$$  "
   ]
  },
  {
   "cell_type": "markdown",
   "metadata": {},
   "source": [
    "Se habla de [errores de tipo III](https://en.wikipedia.org/wiki/Type_III_error) cuando se da la respuesta correcta (rechazar una hipótesis nula) para una pregunta incorrecta o errónea. "
   ]
  },
  {
   "cell_type": "markdown",
   "metadata": {},
   "source": [
    "##### Referencias\n",
    "\n",
    "- *Kaplan, D. (2009). Statistical modeling: A fresh approach.*  \n",
    "- *Neyman, J., & Pearson, E. S. (1992). On the problem of the most efficient tests of statistical hypotheses (pp. 73-108). Springer New York.*  \n",
    "- *Lehmann, E. L. (2012). The Fisher, Neyman-Peerson Theories of Testing Hypotheses: One Theory or Two?. In Selected Works of EL Lehmann (pp. 201-208). Springer US.*  \n",
    "- *Biau, D. J., Jolles, B. M., & Porcher, R. (2010). P value and the theory of hypothesis testing: an explanation for new researchers. Clinical Orthopaedics and Related Research®, 468(3), 885-892.*  \n",
    "- *Nickerson, R. S. (2000). Null hypothesis significance testing: a review of an old and continuing controversy. Psychological methods, 5(2), 241.*"
   ]
  },
  {
   "cell_type": "markdown",
   "metadata": {},
   "source": [
    "### Valor P"
   ]
  },
  {
   "cell_type": "markdown",
   "metadata": {},
   "source": [
    "El [valor P](https://en.wikipedia.org/wiki/P-value) (*p value*) es la probabilidad de observar un determinado valor (o uno más extremo) dado que H₀ es correcta. En ningún caso debe interpretarse como una probabilidad de la hipótesis nula. Un valor P bajo indica que los datos son inconsistentes con la hipótesis nula, permitiéndonos rechazar la hipótesis nula ante esa observación. Para decidir que es un valor bajo, uno puede recurrir al [valor de significación α](http://www.itl.nist.gov/div898/handbook/prc/section1/prc131.htm)."
   ]
  },
  {
   "cell_type": "markdown",
   "metadata": {},
   "source": [
    "$$P(escoger H_a | H_0 cierta) = P(p \\le \\alpha | H_0 cierta) = \\alpha$$  "
   ]
  },
  {
   "cell_type": "markdown",
   "metadata": {},
   "source": [
    "#### T de Student para una muestra "
   ]
  },
  {
   "cell_type": "markdown",
   "metadata": {
    "collapsed": true
   },
   "source": [
    "La [prueba de T de Student](https://en.wikipedia.org/wiki/Student%27s_t-test) para una muestra permite probar si  la media de una muestra es diferente de una media $\\mu_0$. Algo que tenemos que tener en cuenta, es que no podemos testear que la media poblacional sea un determinado valor. Ésto se debe a que no podemos saber cuál es la media poblacional sin analizar toda la población. Es decir, no podemos saber dónde se encuentra localizada la distribución *T Student* correspondiente a la media poblacional. Para determinar probabilidades necesitamos un parámetro de ubicación exacto. Es por esto que la hipótesis nula será la ubicación de la media poblacional en un lugar determinado. De hecho, las hipótesis nulas se caracterizan normalmente por tener igualdades (uno supone una distribución con parámetros determinados).  "
   ]
  },
  {
   "cell_type": "markdown",
   "metadata": {
    "collapsed": true
   },
   "source": [
    "$$H_0 : \\mu = \\mu_0$$"
   ]
  },
  {
   "cell_type": "markdown",
   "metadata": {},
   "source": [
    "Si para una muestra de tamaño $n$ se cumplen las supuestos del test:  \n",
    "\n",
    "- Distribución normal de la variable (continua) en la población  \n",
    "- Muestreo al azar (cada observación es independiente)  \n",
    "\n",
    "Entonces el estadístico $t$ sigue una distribución *T de Student* con $n - 1$ grados de libertad.  "
   ]
  },
  {
   "cell_type": "markdown",
   "metadata": {},
   "source": [
    "$$ t = \\frac{ \\bar{x} - \\mu }{ \\frac{s}{\\sqrt{n}} }$$"
   ]
  },
  {
   "cell_type": "markdown",
   "metadata": {},
   "source": [
    "Supongamos una variable aleatoria $X$ que en la población se distribuye con una distribución `Normal(0.1,0.1)`. Y supongamos que estamos interesados en demostrar que la media de esa variable $X$ en la población es mayor a 0. Es decir:"
   ]
  },
  {
   "cell_type": "markdown",
   "metadata": {},
   "source": [
    "$$H_0 : \\mu = 0$$  "
   ]
  },
  {
   "cell_type": "markdown",
   "metadata": {},
   "source": [
    "$$H_a : \\mu > 0$$"
   ]
  },
  {
   "cell_type": "markdown",
   "metadata": {},
   "source": [
    "Otras dos hipótesis alternativas son posibles; $H_a \\ne 0$ ó $H_a < 0$. Podemos elegir cualquiera de éstas dependiendo de nuestro hipótesis de trabajo, determinando si el test será [a una o dos colas](https://en.wikipedia.org/wiki/One-_and_two-tailed_tests). En este caso el test será a una cola y el *p value* para un valor observado $T$ será: "
   ]
  },
  {
   "cell_type": "markdown",
   "metadata": {},
   "source": [
    "$$P(t \\ge T|H_0)$$"
   ]
  },
  {
   "cell_type": "code",
   "execution_count": 1,
   "metadata": {
    "collapsed": false
   },
   "outputs": [
    {
     "data": {
      "text/plain": [
       "5-element Array{Float64,1}:\n",
       "  0.133009 \n",
       " -0.0209208\n",
       " -0.046207 \n",
       "  0.051295 \n",
       "  0.096264 "
      ]
     },
     "execution_count": 1,
     "metadata": {},
     "output_type": "execute_result"
    }
   ],
   "source": [
    "using Distributions\n",
    "\n",
    "μ = 0.1\n",
    "población = Normal(μ,0.1)\n",
    "\n",
    "n = 5\n",
    "muestra   = rand(población, n)"
   ]
  },
  {
   "cell_type": "code",
   "execution_count": 2,
   "metadata": {
    "collapsed": false
   },
   "outputs": [
    {
     "data": {
      "text/plain": [
       "Distributions.TDist{Float64}(ν=4.0)"
      ]
     },
     "execution_count": 2,
     "metadata": {},
     "output_type": "execute_result"
    }
   ],
   "source": [
    "# H₀\n",
    "μ₀ = 0 \n",
    "H₀ = TDist(n-1)"
   ]
  },
  {
   "cell_type": "code",
   "execution_count": 3,
   "metadata": {
    "collapsed": false
   },
   "outputs": [
    {
     "data": {
      "text/plain": [
       "0.042688016494693275"
      ]
     },
     "execution_count": 3,
     "metadata": {},
     "output_type": "execute_result"
    }
   ],
   "source": [
    "x̄ = mean(muestra)"
   ]
  },
  {
   "cell_type": "code",
   "execution_count": 4,
   "metadata": {
    "collapsed": false
   },
   "outputs": [
    {
     "data": {
      "text/plain": [
       "0.07591236375417096"
      ]
     },
     "execution_count": 4,
     "metadata": {},
     "output_type": "execute_result"
    }
   ],
   "source": [
    "s = std(muestra)"
   ]
  },
  {
   "cell_type": "code",
   "execution_count": 5,
   "metadata": {
    "collapsed": false
   },
   "outputs": [
    {
     "data": {
      "text/plain": [
       "1.257414497273138"
      ]
     },
     "execution_count": 5,
     "metadata": {},
     "output_type": "execute_result"
    }
   ],
   "source": [
    "T = (x̄-μ₀)/(s/sqrt(n))"
   ]
  },
  {
   "cell_type": "code",
   "execution_count": 6,
   "metadata": {
    "collapsed": false
   },
   "outputs": [
    {
     "data": {
      "text/plain": [
       "0.138505654299523"
      ]
     },
     "execution_count": 6,
     "metadata": {},
     "output_type": "execute_result"
    }
   ],
   "source": [
    "p = ccdf(H₀,T)"
   ]
  },
  {
   "cell_type": "markdown",
   "metadata": {},
   "source": [
    "Obtenemos el mismo resultado que utilizando `OneSampleTTest` de la biblioteca *HypothesisTests* de **Julia**:"
   ]
  },
  {
   "cell_type": "code",
   "execution_count": 7,
   "metadata": {
    "collapsed": false
   },
   "outputs": [],
   "source": [
    "using HypothesisTests"
   ]
  },
  {
   "cell_type": "code",
   "execution_count": 8,
   "metadata": {
    "collapsed": false
   },
   "outputs": [
    {
     "data": {
      "text/plain": [
       "One sample t-test\n",
       "-----------------\n",
       "Population details:\n",
       "    parameter of interest:   Mean\n",
       "    value under h_0:         0\n",
       "    point estimate:          0.042688016494693275\n",
       "    95% confidence interval: (-0.05156963259740913,0.1369456655867957)\n",
       "\n",
       "Test summary:\n",
       "    outcome with 95% confidence: fail to reject h_0\n",
       "    two-sided p-value:           0.277011308599046 (not significant)\n",
       "\n",
       "Details:\n",
       "    number of observations:   5\n",
       "    t-statistic:              1.257414497273138\n",
       "    degrees of freedom:       4\n",
       "    empirical standard error: 0.03394904113740348\n"
      ]
     },
     "execution_count": 8,
     "metadata": {},
     "output_type": "execute_result"
    }
   ],
   "source": [
    "ttest = OneSampleTTest(muestra, 0)"
   ]
  },
  {
   "cell_type": "code",
   "execution_count": 9,
   "metadata": {
    "collapsed": false
   },
   "outputs": [
    {
     "data": {
      "text/html": [
       "0.138505654299523"
      ],
      "text/plain": [
       "0.138505654299523"
      ]
     },
     "execution_count": 9,
     "metadata": {},
     "output_type": "execute_result"
    }
   ],
   "source": [
    "pvalue(ttest, tail=:right)"
   ]
  },
  {
   "cell_type": "markdown",
   "metadata": {},
   "source": [
    "El *p value* depende de si el test es a una o dos colas, en este caso, como la distribución es simétrica alrededor del 0, es obvio que el *p value* para el test a dos colas es el doble del *p value* que obtuvimos. Pero calcular el *p value* a dos colas no es trivial, principalmente puede ser un problema para distribuciones asimétricas *(Kulinskaya, 2008; Agresti & Kateri, 2011)*. Pero en general se toma la idea de doblar el valor del P value menor al testear las dos opciones a una cola (es como si hiciéramos una [corrección de Bonferroni](https://en.wikipedia.org/wiki/Bonferroni_correction) al haber realizado dos pruebas).  \n",
    "\n",
    "*Kulinskaya, Elena. \"On two-sided p-values for non-symmetric distributions.\" arXiv preprint arXiv:0810.2124 (2008).*  \n",
    "*Agresti, Alan, and Maria Kateri. Categorical data analysis. Springer Berlin Heidelberg, 2011.*"
   ]
  },
  {
   "cell_type": "markdown",
   "metadata": {},
   "source": [
    "En particular, para una variable aleatoria $X$, que sigue una determinada distribución si $H_0$ es cierta, dado un estimador $x_0$, el *p value* es:"
   ]
  },
  {
   "cell_type": "markdown",
   "metadata": {},
   "source": [
    "$P(X \\geq x|H_0)$ prueba de una cola hacia la derecha (*right-tail event*) "
   ]
  },
  {
   "cell_type": "code",
   "execution_count": 10,
   "metadata": {
    "collapsed": false
   },
   "outputs": [
    {
     "data": {
      "text/html": [
       "0.138505654299523"
      ],
      "text/plain": [
       "0.138505654299523"
      ]
     },
     "execution_count": 10,
     "metadata": {},
     "output_type": "execute_result"
    }
   ],
   "source": [
    "p_right = pvalue(ttest, tail=:right)"
   ]
  },
  {
   "cell_type": "code",
   "execution_count": 11,
   "metadata": {
    "collapsed": false
   },
   "outputs": [
    {
     "data": {
      "text/html": [
       "<img src=\"data:image/png;base64,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\" />"
      ]
     },
     "execution_count": 11,
     "metadata": {},
     "output_type": "execute_result"
    }
   ],
   "source": [
    "using Plots\n",
    "pyplot(size=(400,200))\n",
    "\n",
    "PDF = plot(t -> pdf(H₀,t), -10, T, legend=false)\n",
    "plot!(PDF, t -> pdf(H₀,t), T, 10, fill=0)\n",
    "\n",
    "CCDF = plot(t -> ccdf(H₀,t), -10, 10, legend=false)\n",
    "scatter!(CCDF, [T], [p_right])\n",
    "\n",
    "plot(PDF, CCDF)"
   ]
  },
  {
   "cell_type": "markdown",
   "metadata": {},
   "source": [
    "$P(X \\leq x|H_0)$ prueba de una cola hacia la izquierda (*left-tail event*) "
   ]
  },
  {
   "cell_type": "code",
   "execution_count": 12,
   "metadata": {
    "collapsed": false
   },
   "outputs": [
    {
     "data": {
      "text/html": [
       "0.861494345700477"
      ],
      "text/plain": [
       "0.861494345700477"
      ]
     },
     "execution_count": 12,
     "metadata": {},
     "output_type": "execute_result"
    }
   ],
   "source": [
    "p_left = pvalue(ttest, tail=:left)"
   ]
  },
  {
   "cell_type": "code",
   "execution_count": 13,
   "metadata": {
    "collapsed": false
   },
   "outputs": [
    {
     "data": {
      "text/html": [
       "<img src=\"data:image/png;base64,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\" />"
      ]
     },
     "execution_count": 13,
     "metadata": {},
     "output_type": "execute_result"
    }
   ],
   "source": [
    "PDF = plot(t -> pdf(H₀,t),   T, 10, legend=false)\n",
    "plot!(PDF, t -> pdf(H₀,t), -10,  T, fill=0)\n",
    "\n",
    "CDF = plot(t -> cdf(H₀,t), -10, 10, legend=false)\n",
    "scatter!(CDF, [T], [p_left])\n",
    "\n",
    "plot(PDF, CDF)"
   ]
  },
  {
   "cell_type": "markdown",
   "metadata": {},
   "source": [
    "$2 min{P(X \\leq x|H_0), P(X \\geq x|H_0)}$ para el test a dos colas (*double-tailed event*)"
   ]
  },
  {
   "cell_type": "code",
   "execution_count": 14,
   "metadata": {
    "collapsed": false
   },
   "outputs": [
    {
     "data": {
      "text/html": [
       "0.277011308599046"
      ],
      "text/plain": [
       "0.277011308599046"
      ]
     },
     "execution_count": 14,
     "metadata": {},
     "output_type": "execute_result"
    }
   ],
   "source": [
    "pvalue(ttest, tail=:both)"
   ]
  },
  {
   "cell_type": "code",
   "execution_count": 15,
   "metadata": {
    "collapsed": false
   },
   "outputs": [
    {
     "data": {
      "text/html": [
       "0.277011308599046"
      ],
      "text/plain": [
       "0.277011308599046"
      ]
     },
     "execution_count": 15,
     "metadata": {},
     "output_type": "execute_result"
    }
   ],
   "source": [
    "2*min(p_left,p_right)"
   ]
  },
  {
   "cell_type": "code",
   "execution_count": 16,
   "metadata": {
    "collapsed": false
   },
   "outputs": [
    {
     "data": {
      "text/html": [
       "<img src=\"data:image/png;base64,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\" />"
      ]
     },
     "execution_count": 16,
     "metadata": {},
     "output_type": "execute_result"
    }
   ],
   "source": [
    "PDF = plot(t -> pdf(H₀,t), -T,  T, legend=false)\n",
    "plot!(PDF, t -> pdf(H₀,t), -10, -T, fill=0)\n",
    "plot!(PDF, t -> pdf(H₀,t),  T,  10, fill=0)\n",
    "\n",
    "CCDF = plot(t -> ccdf(H₀,t), -10, 10, legend=false)\n",
    "scatter!(CCDF, [-T, T], [p_left,p_right])\n",
    "\n",
    "plot(PDF, CCDF)"
   ]
  },
  {
   "cell_type": "markdown",
   "metadata": {},
   "source": [
    "Para facilitar ésto, la biblioteca **HypothesisTests** define la función `pvalue` para tomar directamente una distribución de probabilidad (no solamente un test estadístico), y calcular el *p value* para un determinado estadístico."
   ]
  },
  {
   "cell_type": "code",
   "execution_count": 17,
   "metadata": {
    "collapsed": false
   },
   "outputs": [
    {
     "data": {
      "text/html": [
       "0.138505654299523"
      ],
      "text/plain": [
       "0.138505654299523"
      ]
     },
     "execution_count": 17,
     "metadata": {},
     "output_type": "execute_result"
    }
   ],
   "source": [
    "pvalue(TDist(n-1), T, tail=:right)"
   ]
  },
  {
   "cell_type": "markdown",
   "metadata": {},
   "source": [
    "### Intervalo de confianza"
   ]
  },
  {
   "cell_type": "markdown",
   "metadata": {},
   "source": [
    "El [intervalo de confianza](https://en.wikipedia.org/wiki/Confidence_interval) es un tipo de estimador por intervalo para un parámetro de la población. Se calcula a partir de una o más muestras de la población, y posee un **nivel de confianza** que determina qué tan frecuentemente una serie de intervalos estimados de la misma manera contiene al parámetro poblacional. Es importante notar que el intervalo de confianza calculado a partir de una única muestra puede no contener al parámetro a estimar, pero aún así es una buena estimación intervalar del mismo. Así un intervalo con una confianza del 95%, significa que de un número `N` de intervalos calculados, `0.95N` contendrán al parámetro a estimar. No debe interpretarse nunca como un intervalo con una probabilidad del 95% de contener el parámetro."
   ]
  },
  {
   "cell_type": "markdown",
   "metadata": {},
   "source": [
    "El intervalo para una media se calcula utilizando el valor crítico de $t$ si la desviación estándar proviene de la muestra o $Z$ si se conoce la desviación estándar de la población. Los valores críticos son aquellos valores de $t$ o  $Z$ que dejan un área de $\\frac{\\alpha}{2}$ hacia la izquierda del menor valor crítico, y el mismo hacia la derecha (dejando un área $1-\\alpha$ en el intervalo)."
   ]
  },
  {
   "cell_type": "markdown",
   "metadata": {},
   "source": [
    "Así el valor crítico, utilizando la distribución T de Student con $n-1$ grados de libertad, para una confianza del 95% ($\\alpha = 5%$) puede calcularse con la función `quantile` de **Distributions**"
   ]
  },
  {
   "cell_type": "code",
   "execution_count": 18,
   "metadata": {
    "collapsed": false
   },
   "outputs": [
    {
     "data": {
      "text/html": [
       "-2.7764451051977943"
      ],
      "text/plain": [
       "-2.7764451051977943"
      ]
     },
     "execution_count": 18,
     "metadata": {},
     "output_type": "execute_result"
    }
   ],
   "source": [
    "t_left = quantile(TDist(n-1),0.05/2)"
   ]
  },
  {
   "cell_type": "code",
   "execution_count": 19,
   "metadata": {
    "collapsed": false
   },
   "outputs": [
    {
     "data": {
      "text/html": [
       "2.7764451051977934"
      ],
      "text/plain": [
       "2.7764451051977934"
      ]
     },
     "execution_count": 19,
     "metadata": {},
     "output_type": "execute_result"
    }
   ],
   "source": [
    "t_right = quantile(TDist(n-1),1-0.05/2)"
   ]
  },
  {
   "cell_type": "markdown",
   "metadata": {},
   "source": [
    "Los valores son iguales en módulo dada la simetría de la distribución T de Student. Siendo $t$ ese módulo, el intervalo de confianza para la media de la población sería:"
   ]
  },
  {
   "cell_type": "markdown",
   "metadata": {},
   "source": [
    "$$(\\bar{x}-t\\frac{s}{\\sqrt{n}} , \\bar{x}+t\\frac{s}{\\sqrt{n}})$$"
   ]
  },
  {
   "cell_type": "code",
   "execution_count": 20,
   "metadata": {
    "collapsed": false
   },
   "outputs": [
    {
     "data": {
      "text/html": [
       "0.03394904113740348"
      ],
      "text/plain": [
       "0.03394904113740348"
      ]
     },
     "execution_count": 20,
     "metadata": {},
     "output_type": "execute_result"
    }
   ],
   "source": [
    "t  = abs(t_left)\n",
    "\n",
    "se = s/sqrt(n) # Error estándar de la media"
   ]
  },
  {
   "cell_type": "code",
   "execution_count": 21,
   "metadata": {
    "collapsed": false
   },
   "outputs": [
    {
     "data": {
      "text/plain": [
       "(-0.05156963259740916,0.13694566558679572)"
      ]
     },
     "execution_count": 21,
     "metadata": {},
     "output_type": "execute_result"
    }
   ],
   "source": [
    "( x̄ - t*se, x̄ + t*se )"
   ]
  },
  {
   "cell_type": "markdown",
   "metadata": {},
   "source": [
    "Para facilitar ésto, la biblioteca [**HypothesisTests**](http://hypothesistestsjl.readthedocs.io/en/latest/api/ci.html) define la función `ci`."
   ]
  },
  {
   "cell_type": "code",
   "execution_count": 22,
   "metadata": {
    "collapsed": false
   },
   "outputs": [
    {
     "data": {
      "text/plain": [
       "(-0.05156963259740913,0.1369456655867957)"
      ]
     },
     "execution_count": 22,
     "metadata": {},
     "output_type": "execute_result"
    }
   ],
   "source": [
    "confint(ttest) # usando ci de HypothesisTests sobre el T test"
   ]
  },
  {
   "cell_type": "markdown",
   "metadata": {},
   "source": [
    "#### Nivel de confianza"
   ]
  },
  {
   "cell_type": "code",
   "execution_count": 23,
   "metadata": {
    "collapsed": false
   },
   "outputs": [
    {
     "data": {
      "text/plain": [
       "50-element Array{Array{Float64,1},1}:\n",
       " [0.10444,0.167928]   \n",
       " [0.00226236,0.24267] \n",
       " [0.033861,0.20915]   \n",
       " [0.120587,0.280967]  \n",
       " [-0.0323041,0.239351]\n",
       " [0.0760238,0.256807] \n",
       " [0.0232045,0.18654]  \n",
       " [0.0113195,0.221061] \n",
       " [-0.0151557,0.160663]\n",
       " [-0.0181343,0.208701]\n",
       " [-0.0215792,0.207693]\n",
       " [0.056575,0.175543]  \n",
       " [0.0961303,0.254531] \n",
       " ⋮                    \n",
       " [-0.0166307,0.10352] \n",
       " [0.060759,0.244057]  \n",
       " [-0.00596191,0.19468]\n",
       " [0.00354181,0.16571] \n",
       " [0.0096855,0.23366]  \n",
       " [-0.0694735,0.241097]\n",
       " [-0.017344,0.146808] \n",
       " [0.0652223,0.227261] \n",
       " [0.0645839,0.223697] \n",
       " [0.0886298,0.217953] \n",
       " [0.0385181,0.130664] \n",
       " [-0.0133689,0.263237]"
      ]
     },
     "execution_count": 23,
     "metadata": {},
     "output_type": "execute_result"
    }
   ],
   "source": [
    "n_experimentos = 50\n",
    "\n",
    "intervalos = map(1:n_experimentos) do N\n",
    "    \n",
    "    muestra = rand(población, n)\n",
    "    \n",
    "    t_test  = OneSampleTTest(muestra)\n",
    "    intervalo = confint(t_test, 0.1) # α = 0.1\n",
    "    \n",
    "    [intervalo[1], intervalo[2]] # retorno un vector [inicio, fin]\n",
    "end"
   ]
  },
  {
   "cell_type": "code",
   "execution_count": 24,
   "metadata": {
    "collapsed": false
   },
   "outputs": [
    {
     "data": {
      "text/plain": [
       "2×50 Array{Float64,2}:\n",
       " 0.10444   0.00226236  0.033861  …  0.0886298  0.0385181  -0.0133689\n",
       " 0.167928  0.24267     0.20915      0.217953   0.130664    0.263237 "
      ]
     },
     "execution_count": 24,
     "metadata": {},
     "output_type": "execute_result"
    }
   ],
   "source": [
    "intervalos = hcat(intervalos...)"
   ]
  },
  {
   "cell_type": "code",
   "execution_count": 25,
   "metadata": {
    "collapsed": false
   },
   "outputs": [
    {
     "data": {
      "text/plain": [
       "2×50 Array{Int64,2}:\n",
       " 1  2  3  4  5  6  7  8  9  10  11  12  …  42  43  44  45  46  47  48  49  50\n",
       " 1  2  3  4  5  6  7  8  9  10  11  12     42  43  44  45  46  47  48  49  50"
      ]
     },
     "execution_count": 25,
     "metadata": {},
     "output_type": "execute_result"
    }
   ],
   "source": [
    "y = hcat(map(N -> [N,N],1:n_experimentos)...)"
   ]
  },
  {
   "cell_type": "code",
   "execution_count": 30,
   "metadata": {
    "collapsed": false
   },
   "outputs": [
    {
     "data": {
      "text/html": [
       "<img src=\"data:image/png;base64,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\" />"
      ]
     },
     "execution_count": 30,
     "metadata": {},
     "output_type": "execute_result"
    }
   ],
   "source": [
    "plot(intervalos, y, size=(600,600), legend=false, linecolor=:darkgrey, ylim=(-1,51), grid=false)\n",
    "vline!([μ])"
   ]
  },
  {
   "cell_type": "code",
   "execution_count": 31,
   "metadata": {
    "collapsed": false
   },
   "outputs": [
    {
     "data": {
      "text/plain": [
       "50-element Array{Bool,1}:\n",
       " false\n",
       "  true\n",
       "  true\n",
       " false\n",
       "  true\n",
       "  true\n",
       "  true\n",
       "  true\n",
       "  true\n",
       "  true\n",
       "  true\n",
       "  true\n",
       "  true\n",
       "     ⋮\n",
       "  true\n",
       "  true\n",
       "  true\n",
       "  true\n",
       "  true\n",
       "  true\n",
       "  true\n",
       "  true\n",
       "  true\n",
       "  true\n",
       "  true\n",
       "  true"
      ]
     },
     "execution_count": 31,
     "metadata": {},
     "output_type": "execute_result"
    }
   ],
   "source": [
    "contiene_μ = [ intervalos[1,i] ≤ μ ≤ intervalos[2,i] for i in 1:n_experimentos ]"
   ]
  },
  {
   "cell_type": "code",
   "execution_count": 32,
   "metadata": {
    "collapsed": false
   },
   "outputs": [
    {
     "data": {
      "text/html": [
       "0.92"
      ],
      "text/plain": [
       "0.92"
      ]
     },
     "execution_count": 32,
     "metadata": {},
     "output_type": "execute_result"
    }
   ],
   "source": [
    "mean(contiene_μ) # ~ 90% ( α = 0.1, confianza = 1 - α = 0.9 )"
   ]
  },
  {
   "cell_type": "markdown",
   "metadata": {},
   "source": [
    "### Bootstrap"
   ]
  },
  {
   "cell_type": "markdown",
   "metadata": {},
   "source": [
    "<a href=”https://en.wikipedia.org/wiki/Bootstrapping_(statistics)”>**Bootstrap**</a> nos permite obtener estimaciones puntuales o por intervalos, en particular, intervalos de confianza, para parámetros poblacionales sin necesidad de conocer la distribución subyacente.  \n",
    "Básicamente la técnica de *bootstrap* se basa en hacer un muestreo aleatorio con reemplazo de nuestra muestra (<a href=\"https://en.wikipedia.org/wiki/Resampling_(statistics)\">remuestreo</a>), calculando el parámetro de interés en cada muestra. La muestra de la que se parte debe ser una muestra representativa, en particular debe complir con ser una muestra de valores [independientes e idénticamente distribuidos (*iid*)](https://en.wikipedia.org/wiki/Independent_and_identically_distributed_random_variables). Si bien la distribución de la variable de interés en la población no forma parte de los supuestos del método, una implementación *naïve* puede generar resultados incorrectos con [distribuciones con colas pesadas](https://en.wikipedia.org/wiki/Heavy-tailed_distribution). *Bootstrap* también puede presentar problemas con distribuciones discretas y poco densas."
   ]
  },
  {
   "cell_type": "code",
   "execution_count": 33,
   "metadata": {
    "collapsed": false
   },
   "outputs": [
    {
     "data": {
      "text/html": [
       "<img src=\"data:image/png;base64,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\" />"
      ]
     },
     "execution_count": 33,
     "metadata": {},
     "output_type": "execute_result"
    }
   ],
   "source": [
    "# Se hacen muchos remuestreos\n",
    "medias = map(1:10_000) do i\n",
    "\n",
    "    # Se toma una muestra al azar (con reemplazo) del mismo tamaño que la muestra\n",
    "    resampling = sample(muestra, replace=true, n)\n",
    "    \n",
    "    # Se calcula el estadístico de interés\n",
    "    mean(resampling)    \n",
    "    \n",
    "end\n",
    "\n",
    "# Bootstrap distribution of the statistic\n",
    "histogram(medias, legend=false)"
   ]
  },
  {
   "cell_type": "code",
   "execution_count": 47,
   "metadata": {
    "collapsed": false
   },
   "outputs": [
    {
     "data": {
      "text/plain": [
       "2-element Array{Float64,1}:\n",
       " -0.00759833\n",
       "  0.0929744 "
      ]
     },
     "execution_count": 47,
     "metadata": {},
     "output_type": "execute_result"
    }
   ],
   "source": [
    "quantile(medias,[0.05,0.95]) # α = 0.05 + 0.95 = 0.1, confianza = 1 - α = 0.9"
   ]
  },
  {
   "cell_type": "code",
   "execution_count": 48,
   "metadata": {
    "collapsed": false
   },
   "outputs": [
    {
     "data": {
      "text/html": [
       "0.04268801649469327"
      ],
      "text/plain": [
       "0.04268801649469327"
      ]
     },
     "execution_count": 48,
     "metadata": {},
     "output_type": "execute_result"
    }
   ],
   "source": [
    "median(medias)"
   ]
  },
  {
   "cell_type": "markdown",
   "metadata": {},
   "source": [
    "A pesar de que ésta implementación *naïve* es super sencilla, la biblioteca [**Bootstrap**](http://bootstrapjl.readthedocs.io/en/release/) de *Julia* ofrece herramientas para facilitar el proceso de *bootstraping*, así como implementaciones más complejas para reducir el error en algunas situaciones. Herramientas similares son ofrecidas por la biblioteca *boot* de *R*."
   ]
  },
  {
   "cell_type": "code",
   "execution_count": 49,
   "metadata": {
    "collapsed": false
   },
   "outputs": [],
   "source": [
    "using Bootstrap"
   ]
  },
  {
   "cell_type": "code",
   "execution_count": 50,
   "metadata": {
    "collapsed": false
   },
   "outputs": [
    {
     "data": {
      "text/plain": [
       "Bootstrap Sampling\n",
       "  Estimates:\n",
       "    │ Var │ Estimate │ Bias         │ StdError  │\n",
       "    ├─────┼──────────┼──────────────┼───────────┤\n",
       "    │ 1   │ 0.042688 │ -0.000532175 │ 0.0303866 │\n",
       "  Sampling: BasicSampling\n",
       "  Samples:  10000\n",
       "  Data:     Array{Float64,1}: { 5 }\n"
      ]
     },
     "execution_count": 50,
     "metadata": {},
     "output_type": "execute_result"
    }
   ],
   "source": [
    "bootstrapped_mean = bootstrap(muestra, mean, BasicSampling(10_000))"
   ]
  },
  {
   "cell_type": "code",
   "execution_count": 51,
   "metadata": {
    "collapsed": false
   },
   "outputs": [
    {
     "data": {
      "text/plain": [
       "((0.042688016494693275,-0.007598328498678794,0.09297436148806536),)"
      ]
     },
     "execution_count": 51,
     "metadata": {},
     "output_type": "execute_result"
    }
   ],
   "source": [
    "Bootstrap.ci(bootstrapped_mean, BasicConfInt(0.9)) # α = 0.1, confianza = 0.9"
   ]
  },
  {
   "cell_type": "markdown",
   "metadata": {},
   "source": [
    "Una ventaja de hacerlo con estas bibliotecas es que podemos tener intervalos de confianza con corrección del sesgo, *BCa*:"
   ]
  },
  {
   "cell_type": "code",
   "execution_count": 52,
   "metadata": {
    "collapsed": false
   },
   "outputs": [
    {
     "data": {
      "text/plain": [
       "((0.042688016494693275,-0.007598328498678803,0.09297436148806534),)"
      ]
     },
     "execution_count": 52,
     "metadata": {},
     "output_type": "execute_result"
    }
   ],
   "source": [
    "Bootstrap.ci(bootstrapped_mean, BCaConfInt(0.9)) # Bias-Corrected and accelerated (BCa) "
   ]
  },
  {
   "cell_type": "markdown",
   "metadata": {},
   "source": [
    "##### Referencias\n",
    "\n",
    "- *Efron, B. (1992). Bootstrap methods: another look at the jackknife. In Breakthroughs in Statistics (pp. 569-593). Springer New York.* [link](http://projecteuclid.org/euclid.aos/1176344552)\n",
    "- *Gleason, J. R. (1988). Algorithms for balanced bootstrap simulations. The American Statistician, 42(4), 263-266.*  \n",
    "- *Carpenter, J., & Bithell, J. (2000). Bootstrap con\" dence intervals: when, which, what? A practical guide for medical statisticians.* [link](http://www.tau.ac.il/~saharon/Boot/10.1.1.133.8405.pdf)\n",
    "- *Singh, K., & Xie, M. (2008). Bootstrap: a statistical method. Unpublished manuscript, Rutgers University, USA.* [link](http://www.stat.rutgers.edu/home/mxie/stat586/handout/Bootstrap1.pdf)"
   ]
  },
  {
   "cell_type": "markdown",
   "metadata": {
    "collapsed": true
   },
   "source": [
    "### Prueba de bondad de ajuste a una distribución."
   ]
  },
  {
   "cell_type": "markdown",
   "metadata": {},
   "source": [
    "Muchas veces es necesario saber cuando los datos de una muestra se ajustan a una determinada distribución. En ese sentido uno se puede preguntar si la distribución observada (en general, para una muestra) es igual, o no, a una distribución esperada (en general, para la población). Para testear ésto, disponemos de las siguientes pruebas:"
   ]
  },
  {
   "cell_type": "markdown",
   "metadata": {},
   "source": [
    "#### Prueba χ²"
   ]
  },
  {
   "cell_type": "markdown",
   "metadata": {},
   "source": [
    "La [prueba χ²](http://www.itl.nist.gov/div898/handbook/eda/section3/eda35f.htm) se puede utilizar para testear la bondad de ajuste de cualquier distribución univariada para la cual se pueda calcular la *CDF*. Dado que requiere datos en grupos, por lo que puede utilizarse para testear distribución para datos categóricos (a diferencia de  *KS*). Para poder utilizar el test en una distribución de probabilidad para datos continuos, debemos [discretizar/agrupar](https://en.wikipedia.org/wiki/Data_binning) los datos de la misma manera en que lo hacemos al calcular un [histograma](https://en.wikipedia.org/wiki/Histogram). Debemos tener en cuenta q el test es sensible a la elección de los *bins*. Una desventaja de este test es que requiere de un [tamaño muestral de al menos 1000](http://www.biostathandbook.com/small.html) para que la aproximación χ² sea válida. "
   ]
  },
  {
   "cell_type": "code",
   "execution_count": 53,
   "metadata": {
    "collapsed": false
   },
   "outputs": [
    {
     "data": {
      "text/plain": [
       "Distributions.Binomial{Float64}(n=100, p=0.05)"
      ]
     },
     "execution_count": 53,
     "metadata": {},
     "output_type": "execute_result"
    }
   ],
   "source": [
    "población = Binomial(100, 0.055)\n",
    "expected  = Binomial(100, 0.05 ) # H₀: expected == observed"
   ]
  },
  {
   "cell_type": "code",
   "execution_count": 54,
   "metadata": {
    "collapsed": false
   },
   "outputs": [
    {
     "data": {
      "text/html": [
       "<img src=\"data:image/png;base64,iVBORw0KGgoAAAANSUhEUgAAAZAAAADICAYAAADGFbfiAAAABHNCSVQICAgIfAhkiAAAAAlwSFlzAAAPYQAAD2EBqD+naQAAEz9JREFUeJzt3V9oVGf+x/FPYy9qoKRgCjGYaeKFaVhaycgSg155YcCL85MNIpLoRIsYMGJuzMUu1HixhaRQuqiQvci6bWVHawrRUkrdi10wSitkdKXsxJKmbYZyap1SSstYtjTnd2GdOuZPnXnmzHPy5P2CufDMzHm+R2e+H8+cP88TQRAEAgCgSFW2CwAALE8ECACgJE/aGDSbzeqDDz5QY2OjVq9ebaMEAEAR7t27p88//1wdHR2qra2VZClAPvjgA3V3d9sYGgBg4OzZs+rq6pJkKUAaGxvzhbS0tIQyRn9/v15//fVQ1g170un0/f987PijVNcc7mDffCZdHAz1cwp76BHFefDde9C/JUsB8uBnq5aWFsXj8VDGeOaZZ0JbNyKg9f+k51rDHeOLG9LFwVA/p7CHHlGahw87OHsQ/X//+5/tEgBEGD3CnLMBcvPmTdslAIgweoQ5ZwOkuTnk38cBLGv0CHPOBkhvb6/tEgBEGD3CnLMBsmfPHtslAIgweoQ5ZwMEABAuZwNkdHTUdgkAIoweYc7KdSCVkEql9NJLL9kuY0XxfV++74c6RjqdDnX9WDnoEeacDZDTp0/bLmFF8X1f9fX1tssAHhs9wpyzAYLKyu957B2RYiFeIf7x+9LFwfDWD+CxESAor1hruLcY8afCWzeAojh7EB0AEC5nA8TzPNslAIgweoQ5ZwOkr6/PdgkAIoweYc7ZYyDbt2+3XQIcUalTh2traxWLxSoyFugR5eBsgADGvs9KUsVmz3xqdbVuT6UJESwbBAiwmB/uB0jopyZL0ldp/Tjao2w2S4Bg2XA2QMbHx7Vz507bZcAFYZ+aDCvoEeYWPIh+9OhRNTU1qaqqSrdu3covb2xsVEtLi1pbWxWPx3XhwoX8c9PT09qyZYuam5vV1tZm/ZYTyWTS6vgAoo0eYW7BANm1a5euXr1aMHm6JFVVVentt9/WjRs3lEqltGvXrvxzhw4dUm9vr27fvq2BgQElEolQC/8t58+ftzo+gGijR5hbMEC2bt2q+vp6BUFQsDwIgnnLJOnu3buanJxUV1eXJKmzs1OZTEYzMzMhlAwAiIKirwPZt2+fNm7cqIMHDyqbvX+QMZPJaO3ataqq+nV1sVhMs7Oz5asUABApRQXIlStXdPPmTaVSKa1Zs2bJn6kW2lMBALijqABZt26dJGnVqlXq7+/XxMSEJKmhoUG+72tubi7/2kwm85unI+7YsUOe5xU82tvbNT4+XvC6y5cvL3jbgcOHD8+bFCaVSsnzvHnTVR4/flxDQ0MFy2ZnZ+V5nqamCm/Qd/LkSR07dqxgWS6Xk+d5+W1+IJlMav/+/fNq2717d1m248Fe3nLYDpQPn6vwt2Pz5s1ObEcY/x7JZFLt7e2qq6vL9+b+/v5573siWGJXoampSRcvXtSLL76oXC6nn376STU1NZKk1157TZcuXdK///1vSdK2bduUSCSUSCQ0Njam4eFhXb9+fcH1plIpbdq0SZOTk4rH44sNbySZTDLncQU9+DfVnz4K95TXD5PS3xLhj1Ppsb64If25LdTvBArRI4qzUN9e8DqQ3t5evffee7pz5446Ojr09NNP6/Lly/rDH/6gubk5BUGg9evX680338y/Z2RkRD09PXrllVdUU1OjM2fOVGarFsEHA8BS6BHmFgyQkZGRBV+cSqUWXdGGDRt07dq18lQFAIg8Z+/GCwAIl7MB8ujBIwB4GD3CnLMBMjw8bLsEABFGjzDnbICcO3fOdgkAIoweYc7ZAKmurrZdAoAIo0eYczZAAADhIkAAACVxNkAevbQfAB5GjzDnbIAwLSiApdAjzDkbIEeOHLFdAoAIo0eYczZAAADhIkAAACVZ8GaKLpiamtLzzz9vuwygKOl0OvQxamtr+f1f9IhycDZABgYGdOnSJdtlAI/n+/sTCnV3d4c+1FOrq3V7Kr3iQ4QeYc7ZADl16pTtEoDH98MvM9LtHZFiIU5e9VVaP472KJvNrvgAoUeYczZAVvqXA8tUrDX82Q8hiR5RDhxEBwCUhAABAJTE2QAZGhqyXQKACKNHmHM2QHK5nO0SAEQYPcKcswFy4sQJ2yUAiDB6hDlnAwQAEC4CBABQEmcDJJvN2i4BQITRI8w5GyAHDhywXQKACKNHmHM2QAYHB22XACDC6BHmnA2QeDxuuwQAEUaPMOdsgAAAwkWAAABK4myAjI6O2i4BQITRI8w5GyCpVMp2CQAijB5hztkAOX36tO0SAEQYPcKcswECAAgXAQIAKAkBAgAoibMB4nme7RIARBg9wpyzAdLX12e7BAARRo8w96TtAsKyfft22yVEgu/78n0/9HHS6XToYwDlRI8w52yA4H541NfX2y4DgKMIEIfl9zz2jkix1nAH+/h96eJguGMAiBRnA2R8fFw7d+60XUY0xFql50IOEH8q3PUDZUaPMLfgQfSjR4+qqalJVVVVunXrVn759PS0tmzZoubmZrW1tem///3vos/Z/k08mUxaHR9AtNEjzC0YILt27dLVq1fV2NhYsPzQoUPq7e3V7du3NTAwoJ6enkWfSyQSYdb9m86fP291fADRRo8wt2CAbN26VfX19QqCIL/s7t27mpycVFdXlySps7NTmUxGMzMzSz4HAHDTY18HkslktHbtWlVV/fqWWCym2dnZJZ8DALjJ6ELCh/dQinkOALD8PXaANDQ0yPd9zc3N5ZdlMhnFYrEln1vKjh075HlewaO9vV3j4+MFr7t8+fKCtx04fPjwvElhUqmUPM/Tnj17CpYfP35cQ0NDBctmZ2fleZ6mpgrPIDp58qSOHTtWsCyXy8nzPE1MTBQsTyaT2r9//7zadu/eXZbtyGazJW/HuXPn5o0FSNK3335b8OeV+P3YvHmzE9sRxr9HMplUe3u76urq8r25v79/3vueCJbYVWhqatLFixf14osvSpK2bdumRCKhRCKhsbExDQ8P6/r167/53KNSqZQ2bdqkycnJ0Ca2TyaT80JkpXnw96w/fRT+abwfJqW/JcIfq1LjuDrWFzekP7eF+t1bLugRxVmoby+4B9Lb26uGhgZ9+eWX6ujo0IYNGyRJIyMj+utf/6rm5mYNDw/rzJkz+fcs9ZwNfDAALIUeYW7BCwlHRkYWfPGGDRt07dq1op8DALjH2bvxAgDC5WyAPHrwCAAeRo8w52yADA8P2y4BQITRI8w5GyCcwgpgKfQIc84GSHV1te0SAEQYPcKcswECAAgXAQIAKImzE0odO3ZMr776qu0ygEiq1Hw9tbW1v3lLI1voEeacDZCofmgBq76/f8+l7u7uigz31Opq3Z5KR/L7GMWalhtnA+TIkSO2SwCi54dfbtq3d+T+VMdh+iqtH0d7lM1mI9ms6RHmnA0QAEuItYZ/g0g4j4PoAICSOBsgj94zHwAeRo8w52yADAwM2C4BQITRI8w5GyCnTp2yXQKACKNHmHM2QKJ41geA6KBHmHM2QAAA4SJAAAAlcTZAhoaGbJcAIMLoEeacDZBcLme7BAARRo8w52yAnDhxwnYJACKMHmHO2QABAISLAAEAlMTZAMlms7ZLABBh9AhzzgbIgQMHbJcAIMLoEeacDZDBwUHbJQCIMHqEOWcDJB6P2y4BQITRI8w5GyAAgHARIACAkjgbIKOjo7ZLABBh9AhzzgZIKpWyXQKACKNHmHM2QE6fPm27BAARRo8w52yAAADCRYAAAEpCgAAASvKk7QLC4nmeLl26ZLuMRfm+L9/3Qx0jnU6Hun5gOYt6j1gOnA2Qvr4+2yUsyvd91dfX2y4DWNGi3COWC2cDZPv27bZLWFR+z2PviBRrDW+gj9+XLg6Gt35gGYtyj1gunA2QZSHWKj0XYoD4U+GtG8CKx0F0AEBJnA2Q8fFx2yUAiDB6hLmSAqSxsVEtLS1qbW1VPB7XhQsXJEnT09PasmWLmpub1dbWZvUsoGQyaW1sANFHjzBX0jGQqqoqvf3223rhhRcKlh86dEi9vb3au3ev3nnnHSUSCV2/fr0shRbr/PnzVsYFsDzQI8yVtAcSBIGCIChYdvfuXU1OTqqrq0uS1NnZqUwmo5mZGfMqAQCRU/IxkH379mnjxo06ePCgstmsMpmM1q5dq6qqX1cZi8U0OztblkIBANFSUoBcuXJFN2/eVCqV0po1a5RIJCRp3l7Jo38GALijpABZt26dJGnVqlXq7+/XxMSEYrGYfN/X3Nxc/nWZTEaxWGzR9ezYsUOe5xU82tvb550dcfnyZXmeN+/9hw8fnjcpTCqVkud52rNnT8Hy48ePa2hoqGDZ7OysPM/T1FTh9RInT57UsWPHCpblcjl5nqeJiYmC5clkUvv3759X2+7dux97OwCXDQ4OzltWzPdjqe95NpstWF7M93zz5s0V/Z6HtR1h9KtkMqn29nbV1dXle3N/f/+89z0RFLmbkMvl9NNPP6mmpkaS9Nprr+ndd9/Vv/71L23btk2JREKJREJjY2MaHh5e8CB6KpXSpk2bNDk5GdrE9slkcl6IRMWD7defPgr3QsIPk9LfEuGPU8mxXNymSo5VyW364ob057ZQv+cmotwjomihvl30WVh37txRZ2en5ubmFASB1q9frzfeeEOSNDIyop6eHr3yyiuqqanRmTNnyrsFReCDAWAp9AhzRQdIU1PTolNBbtiwQdeuXTMuCgAQfdwLC0CoKnFBcW1t7ZLHWxEOZwNkYmJCW7dutV0GsHJ9f//AcHd3d+hDPbW6Wren0kWFCD3CnLMBMjw8zIcDsOmHX84sCnvagq/S+nG0R9lstqgAoUeYczZAzp07Z7sEAFL40xaUiB5hztm78VZXV9suAUCE0SPMORsgAIBwESAAgJI4GyCPXtoPAA+jR5hzNkA4JxzAUugR5pwNkCNHjtguAUCE0SPMORsgAIBwESAAgJI4GyCP3jMfAB5GjzDnbIAMDAzYLgFAhNEjzDkbIKdOnbJdAoAIo0eYczZAOEUPwFLoEeacDRAAQLgIEABASZwNkKGhIdslAIgweoQ5ZwMkl8vZLgFAhNEjzDkbICdOnLBdAoAIo0eYczZAAADhIkAAACVxNkCy2aztEgBEGD3C3JO2CwjLgQMHdOnSJdtlAKiQdDpd1Ov7+/v1+uuvFz1ObW0tFyH+wtkAGRwcLPo9vu/L9/3yF/OIYj/oAJbw/f09ie7u7qLfumnTpqLf89Tqat2eShMicjhA4vF4Ua/3fV/19fUhVQMgND/88lPU3hEp1hruWF+l9eNoj7LZLAEihwOkWPk9j0p8CD9+X7o4GO4YwEoTa5WeC/m7iwIEyKMq8SH0mYcAwPLn7FlYo6OjtksAAKc5uweSSqX00ksv2S4DgIMqcSLMcjjby9kAOX36tO0SALjG4IyvYi2Hs72cDRAAKLtKnfG1TM72IkAAoFic8SXJ4YPoAIBwORsgnufZLgEAnOZsgPT19dkuAQCc5myAbN++3XYJAOA0DqIDQERV6sarpV5zQoAAQNRU8HoTqfRrTpwNkPHxce3cudN2GQBQvGVyh+FlESClzNPx8ssvF/WXwRwdACIn4teblD1ApqenlUgklM1m9cwzz+jvf/+7WlpaSl6fyTwdpUwWAwB4PGUPkEOHDqm3t1d79+7VO++8o0QioevXr5e8vorN08EcHQBQlLIGyN27dzU5Oal//vOfkqTOzk719fVpZmZG69evN1t52LtyzNEBAEUp63UgmUxGa9euVVXVr6uNxWKanZ0t5zAAgAgI/SB6EATzlt27d0/S4x24zr/m4/fD3Uv49GplxqnkWGwTY9kap5JjsU1mvvlM0m/34wfPP+jfkqSgjL7++uugpqYm+Pnnn/PL6urqgk8//bTgdWfPng0k8eDBgwePZfY4e/ZsvpeXdQ/k2WefVTwe11tvvaVEIqGxsTE1NDTMO/7R0dGhs2fPqrGxUatXry5nCQCAENy7d0+ff/65Ojo68sueCBb6jcnAJ598op6eHn3zzTeqqanRmTNn9Lvf/a6cQwAAIqDsAQIAWBmcvRsvACBczgXI9PS0tmzZoubmZrW1tXGLEqixsVEtLS1qbW1VPB7XhQsXbJeECjt69KiamppUVVWlW7du5ZfTLwyV8yysKNi2bVvw5ptvBkEQBGNjY8Hvf/97yxXBtqampuDWrVu2y4BFV65cCb788sugqakp+M9//pNfTr8w49QeyIMr4bu6uiTdvxI+k8loZmbGcmWwKQiCBa9HwsqxdetW1dfXF3wO6BfmnAoQroTHYvbt26eNGzfq4MGDymaztstBBNAvzDkVIAvhf564cuWKbt68qVQqpTVr1iiRSNguCRFFvyjOspgP5HE1NDTI933Nzc3l/1eRyWRKmqoR7li3bp0kadWqVerv71dzc7PlihAF9AtzTu2BPHwlvKRFr4THypHL5fTdd9/l//yPf/xDra3RnaAHlUO/MOfchYRcCY+HffbZZ+rs7NTc3JyCIND69ev1l7/8hf9lrjC9vb167733dOfOHa1Zs0ZPP/20PvnkE/qFIecCBABQGU79hAUAqBwCBABQEgIEAFASAgQAUBICBABQkv8HxFPk6AW5d0gAAAAASUVORK5CYII=\" />"
      ]
     },
     "execution_count": 54,
     "metadata": {},
     "output_type": "execute_result"
    }
   ],
   "source": [
    "observed = rand(población, 1000) # muestra\n",
    "\n",
    "histogram(observed, legend=false, bins=-0.5:1:maximum(observed))"
   ]
  },
  {
   "cell_type": "code",
   "execution_count": 55,
   "metadata": {
    "collapsed": false
   },
   "outputs": [
    {
     "data": {
      "text/html": [
       "<img src=\"data:image/png;base64,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\" />"
      ]
     },
     "execution_count": 55,
     "metadata": {},
     "output_type": "execute_result"
    }
   ],
   "source": [
    "using StatsBase\n",
    "cdf_observed = ecdf(observed)\n",
    "\n",
    "scatter( 0:1:maximum(observed),      cdf_observed,     alpha=0.7, label=\"observed\")\n",
    "scatter!(0:1:maximum(observed), x -> cdf(expected, x), alpha=0.7, label=\"expected\")"
   ]
  },
  {
   "cell_type": "markdown",
   "metadata": {},
   "source": [
    "Dadas $k$ categorías, para la categoría $i$, $O_i$ representa la frecuencia observada para esa categoría, mientras $E_i$ representa la frecuencia esperada (nuestra hipótesis nula). "
   ]
  },
  {
   "cell_type": "markdown",
   "metadata": {},
   "source": [
    "$$ χ^{2} = \\sum_{i=1}^{k}{\\frac{(O_i - E_i)^{2}}{E_i}} $$"
   ]
  },
  {
   "cell_type": "markdown",
   "metadata": {},
   "source": [
    "Ésta última, en el caso de haber generado *bins* para una variable continua, la calculamos usando la *CDF* evaluada en el extremo superior *bin*, menos su valor en el extremo inferior del *bin*. N es el tamaño de la muestra."
   ]
  },
  {
   "cell_type": "markdown",
   "metadata": {},
   "source": [
    "$$Ei=N(CDF(X_f)−CDF(X_i))$$"
   ]
  },
  {
   "cell_type": "code",
   "execution_count": 56,
   "metadata": {
    "collapsed": false
   },
   "outputs": [
    {
     "data": {
      "text/plain": [
       "101-element Array{Float64,1}:\n",
       "   5.92053     \n",
       "  31.1607      \n",
       "  81.1818      \n",
       " 139.576       \n",
       " 178.143       \n",
       " 180.018       \n",
       " 150.015       \n",
       " 106.026       \n",
       "  64.8709      \n",
       "  34.9013      \n",
       "  16.7159      \n",
       "   7.19823     \n",
       "   2.80983     \n",
       "   ⋮           \n",
       "   1.3015e-99  \n",
       "   8.37223e-102\n",
       "   4.84224e-104\n",
       "   2.49314e-106\n",
       "   1.12876e-108\n",
       "   4.42402e-111\n",
       "   1.47059e-113\n",
       "   4.03122e-116\n",
       "   8.74926e-119\n",
       "   1.40965e-121\n",
       "   1.49884e-124\n",
       "   7.88861e-128"
      ]
     },
     "execution_count": 56,
     "metadata": {},
     "output_type": "execute_result"
    }
   ],
   "source": [
    "N  = length(observed)\n",
    "Oᵢ = Float64[ sum(observed .== x) for x in 0:1:100 ]\n",
    "Eᵢ = Float64[ pdf(expected,x) for x in 0:1:100 ] .* N"
   ]
  },
  {
   "cell_type": "code",
   "execution_count": 57,
   "metadata": {
    "collapsed": false
   },
   "outputs": [
    {
     "data": {
      "text/html": [
       "51.31857616265398"
      ],
      "text/plain": [
       "51.31857616265398"
      ]
     },
     "execution_count": 57,
     "metadata": {},
     "output_type": "execute_result"
    }
   ],
   "source": [
    "χ² = sum( ( (Oᵢ .- Eᵢ) .^ 2 ) ./ Eᵢ )"
   ]
  },
  {
   "cell_type": "code",
   "execution_count": 58,
   "metadata": {
    "collapsed": false
   },
   "outputs": [
    {
     "data": {
      "text/html": [
       "0.9999731212168578"
      ],
      "text/plain": [
       "0.9999731212168578"
      ]
     },
     "execution_count": 58,
     "metadata": {},
     "output_type": "execute_result"
    }
   ],
   "source": [
    "k = 101 # Número de bins/categorías\n",
    "c = 2 + 1 # Parámetros estimados para la distribución más uno\n",
    "# k - c grados de libertad\n",
    "# Se testea a una cola, a la derecha χ²\n",
    "pvalue(Chisq(k-c), χ², tail=:right)"
   ]
  },
  {
   "cell_type": "code",
   "execution_count": 59,
   "metadata": {
    "collapsed": false
   },
   "outputs": [
    {
     "data": {
      "text/html": [
       "<img src=\"data:image/png;base64,iVBORw0KGgoAAAANSUhEUgAAAZAAAADICAYAAADGFbfiAAAABHNCSVQICAgIfAhkiAAAAAlwSFlzAAAPYQAAD2EBqD+naQAAIABJREFUeJzt3XtwVFWiLvCvO51AwlMgkqBpEmaEwdHjGK6FyPFUSd0BxusJ1DA1yNWZDDpUouKVqXt51Jk7ClXXg+SceweOMKPM5Aj4CIxRcRQ0UQF5CiRNeEgSIG9DgCTk0a/dj73X/aMxGvIg2cnO6t39/aosTXov+oub5Ev3XnstixBCgIiIqJ+ssgMQEZE5sUCIiEgXm+wAANDU1ISCggKkpqYiPj5edhwioqji9XpRXV2NefPmYcKECX0eFxYFUlBQgCeffFJ2DCKiqPbWW2/hiSee6PPxYVEgqampAELhp0+fLjcMDZoVK1Zg48aNsmPQ94hgAK1/z4W/6mvYklKhtTdDc7d3Oc4SOxwi6MOo/7oYCff9Y8fneU4j029/+1ucOnWq42dxX4VFgXz7ttX06dORnp4uOQ0NlrFjx/J8hhER9KP5jZcxUWlA7IwZCNReAEYAGDG6hxFxwOm9GDl+BMb881OwWCw8pxFq5MiRANDvSwi8iE6G8fv9siPQDSIYQPO2f4VSVozYSWmh8ugj17534fwsDwDPaaQKBoO6xoXFKxCKTCUlJbIj0A1te7ZBKS1C7B0/QKC2vN/j2/fuQOwdP+A5jVDl5f3/OwHwFQgZaNq0abIjEABf1Xm4DryPuMk/0lUe37q+fT3+6R9+NIjJKFxMnjxZ1zgWCBkmOztbdoSop/kVtLzzf2GbaIe/8usB/Vki4MP/Sb8dQtX3dgeFr1/84he6xrFAyDBLliyRHSHqte/ZjmDLNQifF8AAVy0SAglKO5z73huUbBQ+5s+fr2scC4QoQvmqS+E6uBtxk38EteXaoP257Z/uQLD5yqD9eWReLBAyTG5uruwIUa19z3bYJiTDX3FucP9gVUVL3h/BdVgjx+7du3WNY4GQYRwOh+wIUctXcRa+iyWwxCVgwG9ddffnXzoN5cyRQf9zSY6ysjJd41ggZJgtW7bIjhC12j95E7bEOxCov2TYc7S+/xqEphr259PQWbNmja5xLBCiCKNcPA3fpTNA3HBDn0dta4KnaJ+hz0HhjQVCFEGEEGj/9C3Ybr8TwfoKw5+v7e9/5bTeKMYCIYogvoun4a84C8TGDcnzaa42uI99OiTPReGHBUKGycjIkB0h6jg/33nj1UflkD1n255tEAGukWVmK1as0DWOBUKGWb58uewIUSVwtQ6+CyWwGHzt42bC64L7K74KMbPFixfrGscCIcPMnTtXdoSo4j72CSzxIxEYgmsfN2svzIPQtCF/Xhocs2bN0jWOBUIUAYTfB8+Jz2C7PQWQcIOf5myBcv7EkD8vycUCIYoAnpJD0DxOBJsbpGVo37tD2nOTHCwQMoze5RGo/9xH9yB2UhqEq1VahsDlSvjrLkp7ftJv//79usaxQMgweXl5siNEBX99JfzVpQYsWNJ/7Z++JTsC6VBQUKBrHAuEDLNr1y7ZEaKC++heWEeOQfBylewoUM6fgNraJDsG9dMrr7yiaxwLhMjENJ8CT9E+xEyYJDtKiBBwHfq77BQ0RFggRCamnDsG4fMgeO0b2VE6uI7u5SKLUYIFQmRiHscB2G5PgfA4ZUfpILwuKKVFsmPQEGCBkGGWLl0qO0JE09xOKGXFsAyLlx2lC+fnvP5lJmvXrtU1jgVChuGd6MbynDkMaBoCV+tkR+nCX3UewZZG2TGojx588EFd41ggZJglS5bIjhDRvI4DsCXZAb9XdpRuuQ5+KDsC9dH8+fN1jWOBEJmQ2toU2jQqJkZ2lB65j33Ci+kRjgVCZEKekoOANQbBhhrZUXokFDd85adkxyADsUDIMIcPH5YdIWJ5HAcQmzwZCPPdAJ0H3pcdgfrg1Cl9Rc8CIcPk5OTIjhCRAo31CNReMMXy6b6LJdC8btkx6Ba2b9+uaxwLhAyzc+dO2REikrfkECxxwxBsqJYd5dY0DZ7ifbJT0C2sX79e1zgWCBkmISFBdoSI5D17VNq+H3pwNlb4i4/Xdy8RC4TIRIKtjaG3r1TzzG4KXvsGwcbLsmOQAVggRCainD0Wmn0VhjcP9oYLLEYmFggZZuXKlbIjRBzv2WOwTUwBtPCefXUzd9HnECZ5yy0abdy4Udc4FggZxm63y44QUTSPE75LZ2CJscmO0m/C44K/ulR2DOpBUlKSrnEsEDLM888/LztCRFHOnwQ0FYHG8Fm6vT9chz+WHYF68Pjjj+saxwIhMonQ7Ks7AZ8iO4ouytmjXNokwrBAiExA+H1QSotgGW7eqdHCr4TW76KIwQIhw5SVlcmOEDGUiyUQfgXB5iuyowwIZ2OFp6qqKl3jWCBkmFWrVsmOEDG8Z48iZmwihLtddpQBUUqLIIIB2THoJps2bdI1jgVChtm8ebPsCBFBaBqUr0/AOnqc7CgDFwzAy+1uw87q1at1jWOBkGE4jXdwBOoroDlboLpaZUcZFG6+jRV2kpOTdY1jgRCFOaW0CJa44dCuX5UdZVD4Lp2B5jfnTDLqjAVCFOaU0pOwJd4hO8bg0VR4zxyTnYIGAQuEDLNhwwbZEUxPczvhry5DpC0C4j7Mt7HCybZt23SN67FALl26hNmzZ2PatGmYOXMmSku7X4YgNzcXU6dOxV133YWsrCyoN1YJ3b9/P2bOnIl77rkH9957L9asWaMrIJmXx+ORHcH0lHIHIDQEG+tlRxlU/poyaB6X7Bh0g6Loe0uxxwLJyspCdnY2ysvLsWrVKmRmZnY5prq6Gi+++CKOHDmCixcv4sqVK9i6dSsAYNy4cdi1axfOnTuH4uJiHDlyBDt27NAVksxp3bp1siOYnlJ6EjHjkoBIu2YgRGhfdwoL2dnZusZ1WyCNjY0oLi7GE088AQBYtGgR6urqUFlZ2em4/Px8LFiwAImJiR0h8vLyAAD33XcfUlNTAQBxcXH4yU9+gurqal0hiaKR0DQopUWwjhwtO4oh3Fwby/S6LZC6ujokJyfDav3uYbvdjtra2k7H1dbWYvLkyR0fp6amdjkGAK5cuYL8/Hw89thjg5WbKOIF6iuguVqhOttkRzFE4HIlVGdkTE2OVn2+iN6Xtfy7O6a9vR0ZGRlYs2YN0tPT+5eOTK2pqUl2BFNTSk+Gpu+2RMb03e54ir6QHYEAtLS06BrXbYGkpKSgoaEBmqZ1fK6urq7LjWF2ux01NTUdH9fU1HQ6xuVy4Wc/+xkWLlyIF1544ZZhHn30UWRkZHT6Z9asWdi9e3en4woLC5GRkdFl/HPPPYfc3NxOn3M4HMjIyOjyw+yll17qMkuotrYWGRkZXdZwevXVV7tsjuTxeJCRkYHDhw93+nxeXh6WLl3aJdvixYuj7ut44IEHIuLrkHU+lPMRNn23G+5jnwAwx/n4PjP/vcrLy+v4+TpjxgzY7Xb88pe/7JKvLyyih5cWc+bMQWZmJjIzM5Gfn4+cnBycOHGi0zFVVVV4+OGH4XA4kJiYiIULF2LevHl49tln4Xa7MXfuXMyfPx9/+MMfeg3hcDgwY8YMFBcX81VKBHE4HDyfOmluJy7/78WwJacieLny1gNMLHnd24gZM152jKj29ttv48knn+z3z+Ae38J67bXX8Prrr2PatGnIycnpmCe8bNkyfPxx6OJXWloa1q1bh4ceeghTp07FxIkTkZWVBSC0OFdRURE++OAD3H///UhPT8f69esH8CWS2bA89FPKi0PTd5suy45iOE/xftkRot706dN1jevxFchQ4isQos6uv/3v8FWeg2ry5dv7wnb7nUj6l7/KjhHV9P4M5p3oRGEmNH33JKwjInP67s2C176B2tYsOwbpwAIhw9x8gZD6JvDNJWiuNmhRNMXVXbRPdoSodvOF/75igZBhHA6H7AimpJSehGVYPNSWa7KjDBnP8QLZEaKa3t1DWSBkmC1btsiOYErK+ZOwTZgkO8aQ4ttYculdq5AFQhRGVHc7/LXlEEK79cERhm9jmQ8LhCiM+MqKASEQbIz86bs383z1qewI1E8sEKIwopQVI2Z8MhDwyY4y5IKN9VBbufyNmbBAyDDdLd9APRNCQCkvhnXEKNlRpHEX820sGVasWKFrHAuEDLN8+XLZEUwl0FAFrb0FmisyV9/tC/dXnI0lw+LFi3WNY4GQYebOnSs7gqn4yoqB2Dio1yN39d1bUfk2lhSzZs3SNY4FQhQmlDIHbBMie/XdvnBziXfTYIEQhQHNr8BXeQ6WmBjZUaRzHy+UHYH6iAVChtG7PEI08lecA4IBBK9H/uKJt6I21iPY2ig7RlTZv1/fisgsEDJMXl6e7AimoZQVwzrqNgiPS3aUsOA5ydlYQ6mgQN/kBRYIGWbXrl2yI5iGUl6MmLETZMcIG27eVDikXnnlFV3jWCBEkgVbGhG8Ugvhj76bB3uiNjcgGAV7oZgdC4RIMl+5A7BYEGyslx0lrLhPfCY7At0CC4RIMqWsOLT6rqbKjhJWPJyNFfZYIGSYpUuXyo4Q9oSmwnfhFCzDR8iOEnbU1kYE+KpsSKxdu1bXOBYIGYZ3ot9aoO4SNI8TmvO67ChhiRfTh8aDDz6oaxwLhAyzZMkS2RHCnlJeHNp9kMt3dMtzknelD4X58+frGscCIZJIKSuGbXyy7BhhS2u/jkBDtewY1AMWCJEkmuKGv7oUsMhOEt7cx/g2VrhigZBhDh8+LDtCWPNdOA1oGgKNDbKjhDVP8X4IIWTHiGinTp3SNY4FQobJycmRHSGsKeUOxIyZAPi9sqOENc3dhkB9hewYEW379u26xrFAyDA7d+6UHSGsKWXFsI6+TXYMU3Af3Ss7QkRbv369rnEsEDJMQkKC7AhhK9h0GWpzA4TikR3FFDynDvJtLAPFx8frGscCIZJAKS0CrDEINl2WHcUUhNcFf0257Bh0ExYIkQRKWTFsiXcA/K26z9xH98iOQDdhgZBhVq5cKTtCWBIBP3wXS2CJHSY7iql4Tx+B0DTZMSLSxo0bdY1jgZBh7Ha77AhhyVd5DsLvQ7DlquwopiJ8HvirzsuOEZGSkpJ0jWOBkGGef/552RHCknL+JKwjx0K422VHMR3X4Y9kR4hIjz/+uK5xLBCiIaaUFiHmtkTZMUzJe+4YRDAgOwbdwAIhGkLB5isIXquD8Cmyo5hTwA/v18dlp6AbWCBkmLKyMtkRwo5SVgxYrdx9cABcB96XHSHiVFVV6RrHAiHDrFq1SnaEsKOUnrwxfZezifTyV5dCdbXJjhFRNm3apGscC4QMs3nzZtkRwooI+uG7UAJL3HDZUcxNCHhOfi47RURZvXq1rnEsEDIMp/F25qv8GsKvQG1plB3F9Dgba3AlJ+vbk4YFQjRElNIiWEeMhuZqlR3F9NTmKwhcqZUdI+qxQIiGiFJahJhxE2XHiBh8FSIfC4QMs2HDBtkRwkawpRHBKzUQfp/sKBHDU/QFhKbKjhERtm3bpmscC4QM4/FwqfJvKaUnAQun7w4moXjgu3RGdoyIoCj67ktigZBh1q1bJztC2FBKi0LTd/kb86DiPSGDIzs7W9c4FgiRwUQwEJq+O4zTdwebUuaA5uOWwLKwQIgM5qs6D+HzcPquETQV3pKDslNELRYIGaapqUl2hLCglBbBmjCK03cN4jqwW3YE02tpadE1jgVChnnqqadkRwgLyvkTiBmnb78FurVAQxWCfHU3IHqvV7JAyDBr166VHUG6YOPl0PTdAKfvGsl97BPZEUwtKytL1zgWCBkmPT1ddgTpvOeOAbZYBK/VyY4S0dxH90Jwf3ndpk+frmscC4TIQN6zRxE7MQXgDzdDaa5W+CvOyo4RdVggRAZRna3wV50Hq2NotBfmyY4QdVggZJjc3FzZEaRSvv4KgAXBq9/IjhIVfBdLoLY1y45hSrt365vJ1mOBXLp0CbNnz8a0adMwc+ZMlJaWdntcbm4upk6dirvuugtZWVlQ1dCdtjU1NXjkkUcwduxYvhcepRwOh+wIUnnPHoPt9juBoF92lOggBFwHP5SdwpT07h7aY4FkZWUhOzsb5eXlWLVqFTIzM7scU11djRdffBFHjhzBxYsXceXKFWzduhUAMHr0aLz88svIy+PLymi1ZcsW2RGk0XxeKOUOWOKGyY4SVVxHPoZQg7JjmM6aNWt0jeu2QBobG1FcXIwnnngCALBo0SLU1dWhsrKy03H5+flYsGABEhMTAYTWU/m2MG677TY89NBDSEhI0BWMyMx8ZcVAMIBgU4PsKFFFKB54z30lO0bU6LZA6urqkJycDKv1u4ftdjtqaztv4FJbW4vJkyd3fJyamtrlGKJo5D17DDHjkiC8LtlRoo6z4B3ZEaJGny+i92WONedhEwFCVeE9fxzWkaNlR4lKgcuV3K1wiHRbICkpKWhoaICmaR2fq6ur67LHtd1uR01NTcfHNTU1A9oH+9FHH0VGRkanf2bNmtVlhkBhYSEyMjK6jH/uuee6zPxxOBzIyMjosi7TSy+91GXDo9raWmRkZHS5oPTqq69i5cqVnT7n8XiQkZGBw4cPd/p8Xl4eli5d2iXb4sWLo+7rSEtLi4ivo7/nY/vLv4fwuKC2ci0wWZz78gFE1t+rwfo68vLyOn6+zpgxA3a7HT/96U+75OsLi+jhZcOcOXOQmZmJzMxM5OfnIycnBydOnOh0TFVVFR5++GE4HA4kJiZi4cKFmDdvHp599tmOYw4cOIDf/e53OHXqVI8hHA4HZsyYgeLiYs7YiiCFhYWYO3eu7BhDrvX9P8Nz6ktoTi6eKI0tFpNe/husw+JlJzGFLVu2YPny5f3+GdzjW1ivvfYaXn/9dUybNg05OTkdWx4uW7YMH3/8MYDQb5jr1q3DQw89hKlTp2LixIkda6p4vV6kpKRg8eLFKC0thd1ux+9///sBfIlkNtFYHkKI0PWP27j3uVTBADwnP5edwjRmzZqla5ytpwemTp2Ko0ePdvn8X/7yl04fP/3003j66ae7HBcfH4+6Oq7/Q9ElUF8BteUaYI2RHSXqOb/4G0bMfgwWi0V2lIjFO9GJBpH37DFYhidAbeb0XdnUlkb4q87LjhHRWCBkGL3LI5iZcvZYaO9zCgvtn+2UHcEU9u/fr2scC4QME22rEASbGhC4XMm9P8KIr6wIwVZuNnUrBQUFusaxQMgwu3btkh1hSHlOfQlL7DAunhhOhEA7byy8pVdeeUXXOBYI0SDxOg7AlmQHhHbrg2nIeI4XQnXq2/ObescCIRoEgYZqBBqqIfx8+yrsaCqcvBZiCBYI0SDwOA7AMnwEgle5hEY4ch3ZA83tlB0j4rBAyDDdLfUQiYQQ8Di+hO12zr4KW2oQ7fvelZ0ibK1du1bXOBYIGSZa7kT315RDbW6A5uFvuOHMdXA3NMUtO0ZYevDBB3WNY4GQYZYsWSI7wpDwOg7AOnIMVO79Ed4Cfji/jL57k/pi/vz5usaxQIgGQGgqPCUHYRufLDsK9YHri3eh+RTZMSIGC4RoAHzlp6C1X4fafl12FOoD4VfgPvKR7BgRgwVChrl5D4VI5D5eiJjxSaEFFMkU2gt3QgT8smOEld622+gNC4QMk5OTIzuCoVR3O7xnj8E6cozsKNQPQnHD/ZW+pTsi1fbt23WNY4GQYXbujOybt7zF+wGhIdDAez/Mpv3TNyGCfBXyrfXr1+saxwIhwyQkJMiOYCj38ULETkoD/F7ZUaifNHc7nPvflx0jbMTH69u5kQVCpIP/m0sI1FfwvXQTa//0bahtzbJjmBoLhEgH9/FCWEeM4dIlZqYG0Pr+a7JTmBoLhAyzcuVK2REMIfw+eIr3wTaB936Ynff0Ifi4ayE2btyoaxwLhAxjt9tlRzCEx3EAwutGoPmK7Cg0CFry/gihqbJjSJWUlKRrHAuEDPP888/LjjDohBBwHfwQsXdMgXC1yo5DgyB4rQ7u44WyY0j1+OOP6xrHAiHqB3/luRvb1vLieSRp270VmsclO4bpsECI+sF18EPEjJuI4NU62VFoEAmfF2173pAdw3RYIGSYsrIy2REGVbDlGrxnjsI6cqzsKGQA95G9CDRUy44hRVVVla5xLBAyzKpVq2RHGFTuwx/DMmw4At9UyI5ChhBo2bUJQgjZQYbcpk2bdI1jgZBhNm/eLDvCoNEUD9zHPkHsxMmAFpQdhwziry6Fp3if7BhDbvXq1brGsUDIMJE0jdd9ZA80nxeBpsuyo5DBWnZuRLAxus5zcrK+e5pYIES3oPkVOPe/h7iUuyDcbbLjkNHUIJpy13GxxT5ggRDdgvvoJ9A87QjyxsHoIASCV2rQ+vdc2UnCHguEDLNhwwbZEQZMBPxw7nsXcSlToTlbZMehIeQ++CG8Xx+XHWNIbNu2Tdc4FggZxuPxyI4wYO6vPoXmbEWQOw5Gpes7XkGwtVF2DMMpir594lkgZJh169bJjjAgml+B84u/Ic5+FzTueR6VhF/B9Tdejvi1srKzs3WNY4EQ9cB14H2ozlYEW5tkRyFZhIC/pgztBe/IThKWWCBE3VDbmuH8/G+ImzwNGjcdinrOgnegXDwtO0bYYYGQYZqazPube9snOwBbLPz1lbKjUFgQaP7rS/Bfjsy/Dy0t+iaIsEDIME899ZTsCLr46yvhOV6I2IkpgI/7nVOI8PvRtHl1RN5kqPd6JQuEDLN27VrZEfpNaCpa8zcj5raJ8FeXyo5D4URo0LxuXNu8CmqEXRfLysrSNY4FQoZJT0+XHaHfXIc+gr/qPCzDhgFRuKge3YLQoLVfR+OW1VDd7bLTDJrp06frGscCIboh2NSA9j1vIG7KPQg21MiOQ+FKaAg2NaDpz/8CTTH/vU4DwQIhQmir2pZdG2GJHwl/3UXZcSjcCQ2B+ko0vf6HqN7JkAVChsnNNc9aQq4vP4Dv4mnEjBwLBHyy45AZCA3+mjJc++MLCJp8lebdu3frGscCIcM4HA7ZEfrEV3kObX/PRdwP/wGBem4WRf2gqQhev4qr/+9/wFf5tew0uundPZQFQobZsmWL7Ai3pDpb0LztXxGbZIe/4pzsOGRGahBC8aJx8yp4isy5GdWaNWt0jWOBUNQSwQCub18f+i2yvQUQmuxIZFaaCggN19/KQdsnb0b82lnfYoFQVBKaiutv/zt8VedhHT0ewtUqOxKZ3Y1p386Ct9H4H/8LgYZqqXGGAguEoo4QAq35f4K35BDi7vwhghG6PAXJ46+vwNV/ey70aiSCdzZkgZBhMjIyZEfoQqgq2nZvhfvoHsSl3Q1/jb6Lh0S9CvgBIeAsfAdXc56Dr+q87ES9WrFiha5xLBAyzPLly2VH6ER1tqLptd/DdfBDxP3gXvgredGcDCS00Pa4LVfRuOl/oiV/CzTFLTtVtxYvXqxrnG2QcxB1mDt3ruwIHXzVpaGNgYIBxE5Kg7/irOxIFC0CfgAWuI/uhafoC4yc/RhG/tMCxIwZLztZh1mzZukaxwKhiCaEgPvwR2jdvRW22++EcLXxXg+SQACaCqEG4TzwAZwH3kfCf5mDUY/8ArFJdtnhdGOBUMTSfApa3/0PeIr2hd6yqjofmm5JJEvgxgX1mBh4Tx2E53ghhv94JkY9sghxU+6BxWquqwosEDLM7t27sXDhwiF/XqGq8J45gvaCt6A2X0Vs2t18y4rCi6pCqCpgscBXcRbK18dhHTMe8fc+hPj7/hHDptwDS0zMkMXZv3+/rnEsEDLMhg0bhrRANMUD91cFcH35AdSWa7BNSoN19DgEwnwGDEUxISBurOgrAn54ir6A+/BHsI4Yg/h7Z2H4vbMwbMo9sMaPMDTG9u3bdY3rsUAuXbqEzMxMNDU1YezYsdi2bVu3a8bn5uZiw4YNEEJgzpw5+NOf/oSYG83Z22MU+RITE4fkedTWJjgPfgj30b0QfgWxKT8EYEHwctWQPD/RYBAe53f/ranwnD4E91efAhYLYpMmIy7tbsSlTkdc2t2wTZgEi8UyaM89duxYXeN6LJCsrCxkZ2fjV7/6Fd577z1kZmbixIkTnY6prq7Giy++iJKSEiQmJmLBggXYunUrnnnmGVRVVfX4GJFeIhhA4EoNAt9cgv+bitC/ay/AEhuH2ElpCFz9BoGactkxiQZEeL+3RLwtDqrHBe+ZI3Af3QsAsI4YDdvtd8I2Phm2CZNgS5yEmPHJsCVOgjVh1KCWS2+6LZDGxkYUFxfjs88+AwAsWrQIy5cvR2VlJaZMmdJxXH5+PhYsWNDxm2Z2djbWr1+PZ555Bu+9916PjxH1heZTELhcGSqJ+lBZBBpqADUIWCyIGTsB1oRRiE1OReBqXegiOVGkCfigtX1/iwELYLVCbb+OYMs1iHPHOt4GAwDL8BGwJU6CbcIkxNyWCGvCaMSMGAXriNGwJnz/36NgscUNKFq3BVJXV4fk5GRYvzcjwG63o7a2tlOB1NbWYvLkyR0fp6amora29paP9aS8VcDazG1Ew8nNu7qKmx4TEB2fEwLQROgYTQDN4+7GgcsaRsYC98deh7++AiLgg1C80BQPhM8DzeeFULzf/bfvxmNeN4LNV0I3Y1ljQt8Iw0fAlngHNFcrNFcb1JZGqC2NQ/R/gihcCGjOHtZui42DJW4YNLcTflcpxMUSCL8Pwq90e7glbjisCaPw9MQgDulI0ueL6KIP+0P3dkxvj3m9XgDAf3/7a2Afp1lGjDt/jkf+VASrBfgI22GpOPXdYzE2WGyxsNhiAWsMEBMDi8UKWKzAty+/xXBorjYIfztwpUXO10BkOk23PsQWC0vsMFhsfqC9FVXXQoX07c/ivuq2QFJSUtDQ0ABN0zpehdTV1cFu73zDi91uR2XldwvR1dTUdBzT22M3q66uDv3Hf2b2KzyZgwbgv8kOQUS3VF1djdmzZ/f5eIvo4aXBnDlzkJmZiczMTOTn5yMnJ6fLRfSqqio8/PDDcDgcSExMxMKFCzFv3jw8++yzvT52s6amJhQUFCA1NRXx8fH9/JKJiGggvF73PZqfAAACfklEQVQvqqurMW/ePEyYMKHP43oskAsXLuA3v/kNmpubMWbMGGzbtg133303li1bhgULFuCxxx4DEJqqu379elgsFjzyyCP485//3Gkab0+PERGRufVYIERERL0x18IrREQUNlggNGCpqamYPn067r//fqSnp+Pdd98FEFrNYPbs2Zg2bRpmzpyJ0tJSyUmpNy+88ALS0tJgtVpx5syZjs/ffB7Pnz/f42M8x+Glp3Pa0/cs0M9zKogGKC0tTZw5c6bL5+fMmSN27NghhBAiPz9fPPDAA0Mdjfrh0KFDor6+XqSlpYnTp093fL6388hzHN56Oqc9fc8K0b9zygKhAUtNTe30l1MIIa5duybGjBkjVFXt+FxSUpKoqKgY6njUT98/n72dR55j87j5e7S771kh+v99y7ewaFD8+te/xn333Ydly5ahqamp19UMyDx6O488x+Z28/cs0Pv57g4LhAbs0KFDKCkpgcPhwPjx45GZGbohVNw0we/mj8mcejuPPMfm0NP3bHd6O6fcD4QG7M477wQAxMTEYMWKFZg2bRrsdnufVjOg8NbbqhSjRo3iOTap7r5ngb6vQvItvgKhAfF4PGhra+v4+J133kF6ejomTJiAGTNm4M033wQQWrk5JSWl02KcFP4SExORnp7e7Xns7TEKX919z95///0Aej/f3eGNhDQgVVVVWLRoETRNgxACU6ZMwaZNm2C327usZvDGG2/gxz/+sezI1IPs7Gzs2bMHV69exfjx4zFq1ChcuHCh1/PIcxzeujunhYWF+PnPf97t9yzQv3PKAiEiIl34FhYREenCAiEiIl1YIEREpAsLhIiIdGGBEBGRLv8f4V9DomFZO9kAAAAASUVORK5CYII=\" />"
      ]
     },
     "execution_count": 59,
     "metadata": {},
     "output_type": "execute_result"
    }
   ],
   "source": [
    "H₀ = Chisq(k-c)\n",
    "\n",
    "PDF = plot(x -> pdf(H₀,x),  0, χ², legend=false)\n",
    "plot!(PDF, x -> pdf(H₀,x), χ², χ²+100, fill=0)"
   ]
  },
  {
   "cell_type": "code",
   "execution_count": 61,
   "metadata": {
    "collapsed": false
   },
   "outputs": [
    {
     "data": {
      "text/plain": [
       "Pearson's Chi-square Test\n",
       "-------------------------\n",
       "Population details:\n",
       "    parameter of interest:   Multinomial Probabilities\n",
       "    value under h_0:         [0.00592053,0.0311607,0.0811818,0.139576,0.178143,0.180018,0.150015,0.106026,0.0648709,0.0349013,0.0167159,0.00719823,0.00280983,0.00100107,0.000327419,9.88002e-5,2.7625e-5,7.18422e-6,1.74354e-6,3.96039e-7,8.44189e-8,1.69261e-8,3.19895e-9,5.7098e-10,9.64155e-11,1.54265e-11,2.34208e-12,3.37843e-13,4.63582e-14,6.0577e-15,7.54555e-16,8.96755e-17,1.0177e-17,1.10372e-18,1.14473e-19,1.13612e-20,1.07965e-21,9.82895e-23,8.57651e-24,7.17603e-25,5.7597e-26,4.43623e-27,3.27992e-28,2.32846e-29,1.58759e-30,1.03982e-31,6.54351e-33,3.95688e-34,2.2995e-35,1.28436e-36,6.895e-38,3.55779e-39,1.76449e-40,8.41069e-42,3.85285e-43,1.69599e-44,7.17289e-46,2.9142e-47,1.13712e-48,4.26039e-50,1.53224e-51,5.28816e-53,1.75075e-54,5.55794e-56,1.69115e-57,4.92966e-59,1.3759e-60,3.67484e-62,9.3862e-64,2.29106e-65,5.34007e-67,1.18756e-68,2.51749e-70,5.08218e-72,9.75951e-74,1.78068e-75,3.0829e-77,5.05739e-79,7.84885e-81,1.1504e-82,1.58937e-84,2.06545e-86,2.51884e-88,2.87503e-90,3.06237e-92,3.03393e-94,2.78513e-96,2.35885e-98,1.83403e-100,1.3015e-102,8.37223e-105,4.84224e-107,2.49314e-109,1.12876e-111,4.42402e-114,1.47059e-116,4.03122e-119,8.74926e-122,1.40965e-124,1.49884e-127,7.88861e-131]\n",
       "    point estimate:          [0.004,0.02,0.06,0.108,0.165,0.176,0.158,0.133,0.088,0.045,0.021,0.015,0.004,0.003,0.0,0.0,0.0,0.0,0.0,0.0,0.0,0.0,0.0,0.0,0.0,0.0,0.0,0.0,0.0,0.0,0.0,0.0,0.0,0.0,0.0,0.0,0.0,0.0,0.0,0.0,0.0,0.0,0.0,0.0,0.0,0.0,0.0,0.0,0.0,0.0,0.0,0.0,0.0,0.0,0.0,0.0,0.0,0.0,0.0,0.0,0.0,0.0,0.0,0.0,0.0,0.0,0.0,0.0,0.0,0.0,0.0,0.0,0.0,0.0,0.0,0.0,0.0,0.0,0.0,0.0,0.0,0.0,0.0,0.0,0.0,0.0,0.0,0.0,0.0,0.0,0.0,0.0,0.0,0.0,0.0,0.0,0.0,0.0,0.0,0.0,0.0]\n",
       "    95% confidence interval: Tuple{Float64,Float64}[(0.0,1.0),(0.0,1.0),(0.0,1.0),(0.0,1.0),(0.045,1.0),(0.056,1.0),(0.038,1.0),(0.013,1.0),(0.0,1.0),(0.0,1.0),(0.0,1.0),(0.0,1.0),(0.0,1.0),(0.0,1.0),(0.0,1.0),(0.0,1.0),(0.0,1.0),(0.0,1.0),(0.0,1.0),(0.0,1.0),(0.0,1.0),(0.0,1.0),(0.0,1.0),(0.0,1.0),(0.0,1.0),(0.0,1.0),(0.0,1.0),(0.0,1.0),(0.0,1.0),(0.0,1.0),(0.0,1.0),(0.0,1.0),(0.0,1.0),(0.0,1.0),(0.0,1.0),(0.0,1.0),(0.0,1.0),(0.0,1.0),(0.0,1.0),(0.0,1.0),(0.0,1.0),(0.0,1.0),(0.0,1.0),(0.0,1.0),(0.0,1.0),(0.0,1.0),(0.0,1.0),(0.0,1.0),(0.0,1.0),(0.0,1.0),(0.0,1.0),(0.0,1.0),(0.0,1.0),(0.0,1.0),(0.0,1.0),(0.0,1.0),(0.0,1.0),(0.0,1.0),(0.0,1.0),(0.0,1.0),(0.0,1.0),(0.0,1.0),(0.0,1.0),(0.0,1.0),(0.0,1.0),(0.0,1.0),(0.0,1.0),(0.0,1.0),(0.0,1.0),(0.0,1.0),(0.0,1.0),(0.0,1.0),(0.0,1.0),(0.0,1.0),(0.0,1.0),(0.0,1.0),(0.0,1.0),(0.0,1.0),(0.0,1.0),(0.0,1.0),(0.0,1.0),(0.0,1.0),(0.0,1.0),(0.0,1.0),(0.0,1.0),(0.0,1.0),(0.0,1.0),(0.0,1.0),(0.0,1.0),(0.0,1.0),(0.0,1.0),(0.0,1.0),(0.0,1.0),(0.0,1.0),(0.0,1.0),(0.0,1.0),(0.0,1.0),(0.0,1.0),(0.0,1.0),(0.0,1.0),(0.0,1.0)]\n",
       "\n",
       "Test summary:\n",
       "    outcome with 95% confidence: fail to reject h_0\n",
       "    two-sided p-value:           0.9999864623721593 (not significant)\n",
       "\n",
       "Details:\n",
       "    Sample size:        1000\n",
       "    statistic:          51.31857616265393\n",
       "    degrees of freedom: 100\n",
       "    residuals:          [-0.789297,-1.99934,-2.35089,-2.67269,-0.984688,-0.299456,0.651952,2.61968,2.87167,1.7094,1.04784,2.90791,0.710014,1.99785,-0.572206,-0.314325,-0.166208,-0.0847598,-0.0417557,-0.0199007,-0.00918798,-0.00411413,-0.00178856,-0.000755632,-0.000310508,-0.000124203,-4.8395e-5,-1.83805e-5,-6.80869e-6,-2.46124e-6,-8.68651e-7,-2.99459e-7,-1.00881e-7,-3.32223e-8,-1.06992e-8,-3.37064e-9,-1.03906e-9,-3.13512e-10,-9.26094e-11,-2.67881e-11,-7.58927e-12,-2.10624e-12,-5.72706e-13,-1.52593e-13,-3.98445e-14,-1.01972e-14,-2.55803e-15,-6.29038e-16,-1.51641e-16,-3.5838e-17,-8.30361e-18,-1.88621e-18,-4.20059e-19,-9.17098e-20,-1.96287e-20,-4.11824e-21,-8.46929e-22,-1.7071e-22,-3.37212e-23,-6.52717e-24,-1.23784e-24,-2.2996e-25,-4.1842e-26,-7.45516e-27,-1.30044e-27,-2.22028e-28,-3.70932e-29,-6.06204e-30,-9.68824e-31,-1.51363e-31,-2.31086e-32,-3.4461e-33,-5.01746e-34,-7.12894e-35,-9.87903e-36,-1.33442e-36,-1.75582e-37,-2.24886e-38,-2.80158e-39,-3.39175e-40,-3.98668e-41,-4.54472e-42,-5.01881e-43,-5.36193e-44,-5.53387e-45,-5.50811e-46,-5.27743e-47,-4.8568e-48,-4.28256e-49,-3.60763e-50,-2.89348e-51,-2.20051e-52,-1.57897e-53,-1.06243e-54,-6.65133e-56,-3.83483e-57,-2.00779e-58,-9.35375e-60,-3.75454e-61,-1.22427e-62,-2.80867e-64]\n",
       "    std. residuals:     [-0.791644,-2.03124,-2.45255,-2.88132,-1.08618,-0.330698,0.707147,2.77067,2.9696,1.74004,1.05671,2.91843,0.711014,1.99885,-0.572299,-0.31434,-0.16621,-0.0847601,-0.0417557,-0.0199007,-0.00918798,-0.00411413,-0.00178856,-0.000755632,-0.000310508,-0.000124203,-4.8395e-5,-1.83805e-5,-6.80869e-6,-2.46124e-6,-8.68651e-7,-2.99459e-7,-1.00881e-7,-3.32223e-8,-1.06992e-8,-3.37064e-9,-1.03906e-9,-3.13512e-10,-9.26094e-11,-2.67881e-11,-7.58927e-12,-2.10624e-12,-5.72706e-13,-1.52593e-13,-3.98445e-14,-1.01972e-14,-2.55803e-15,-6.29038e-16,-1.51641e-16,-3.5838e-17,-8.30361e-18,-1.88621e-18,-4.20059e-19,-9.17098e-20,-1.96287e-20,-4.11824e-21,-8.46929e-22,-1.7071e-22,-3.37212e-23,-6.52717e-24,-1.23784e-24,-2.2996e-25,-4.1842e-26,-7.45516e-27,-1.30044e-27,-2.22028e-28,-3.70932e-29,-6.06204e-30,-9.68824e-31,-1.51363e-31,-2.31086e-32,-3.4461e-33,-5.01746e-34,-7.12894e-35,-9.87903e-36,-1.33442e-36,-1.75582e-37,-2.24886e-38,-2.80158e-39,-3.39175e-40,-3.98668e-41,-4.54472e-42,-5.01881e-43,-5.36193e-44,-5.53387e-45,-5.50811e-46,-5.27743e-47,-4.8568e-48,-4.28256e-49,-3.60763e-50,-2.89348e-51,-2.20051e-52,-1.57897e-53,-1.06243e-54,-6.65133e-56,-3.83483e-57,-2.00779e-58,-9.35375e-60,-3.75454e-61,-1.22427e-62,-2.80867e-64]\n"
      ]
     },
     "execution_count": 61,
     "metadata": {},
     "output_type": "execute_result"
    }
   ],
   "source": [
    "ChisqTest(convert(Vector{Int}, Oᵢ), Eᵢ./sum(Eᵢ))"
   ]
  },
  {
   "cell_type": "markdown",
   "metadata": {},
   "source": [
    "#### Prueba de Kolmogórov-Smirnov"
   ]
  },
  {
   "cell_type": "markdown",
   "metadata": {},
   "source": [
    "La [prueba de Kolmogorov-Smirnov](https://en.wikipedia.org/wiki/Kolmogorov%E2%80%93Smirnov_test) es otra prueba de ajuste a una distribución que usa la función de densidad acumulada (*CDF*). En particular, su estadístico, $D$ mide la distancia entre la *CDF* de la distribución, que suponemos correcta en la hipótesis nula, y la [*ECDF*](https://en.wikipedia.org/wiki/Empirical_distribution_function) de la muestra. En particular, el estadístico $D$ es [el valor máximo de las diferencias](http://www.itl.nist.gov/div898/handbook/eda/section3/eda35g.htm). Si la función de densidad acumulada empírica es igual a la función de densidad de nuestra distribución a ajustar, el estadístico $D$ será 0 ($H_0$: $D = 0$).  \n",
    "Éste es un test paramétrico, por lo que hace pocas supuestos, pero debe tenerse en cuenta que la distribución que suponemos en nuestra $H_0$ no puede tener parámetros libres, debe estar completamente determinada y debe ser **continua**. Es sensible tanto a cambios en la ubicación como en la forma de la distribución, pero no tiene gran poder, por lo que puede requerir un tamaño muestral grande para rechazar correctamente la hipótesis nula."
   ]
  },
  {
   "cell_type": "code",
   "execution_count": 62,
   "metadata": {
    "collapsed": false
   },
   "outputs": [
    {
     "name": "stderr",
     "output_type": "stream",
     "text": [
      "\u001b[1m\u001b[31mWARNING: This test is inaccurate with ties\u001b[0m\n"
     ]
    },
    {
     "data": {
      "text/plain": [
       "Exact one sample Kolmogorov-Smirnov test\n",
       "----------------------------------------\n",
       "Population details:\n",
       "    parameter of interest:   Supremum of CDF differences\n",
       "    value under h_0:         0.0\n",
       "    point estimate:          0.25783865911601617\n",
       "\n",
       "Test summary:\n",
       "    outcome with 95% confidence: fail to reject h_0\n",
       "    two-sided p-value:           0.44548344820197927 (not significant)\n",
       "\n",
       "Details:\n",
       "    number of observations:   10\n"
      ]
     },
     "execution_count": 62,
     "metadata": {},
     "output_type": "execute_result"
    }
   ],
   "source": [
    "población = Binomial(100, 0.05)\n",
    "muestra   = rand(población, 10)\n",
    "\n",
    "ExactOneSampleKSTest(muestra, población)"
   ]
  },
  {
   "cell_type": "markdown",
   "metadata": {},
   "source": [
    "### Comparación de dos poblaciones."
   ]
  },
  {
   "cell_type": "markdown",
   "metadata": {},
   "source": [
    "> *sleep dataset*  \n",
    ">\n",
    "> Data which show the effect of two soporific drugs (increase in hours of sleep compared to control) on 10 patients.  \n",
    "> \n",
    ">- **Extra**: increase in hours of sleep\n",
    ">- **Group**: drug given\n",
    ">- **ID**: patient ID"
   ]
  },
  {
   "cell_type": "code",
   "execution_count": 63,
   "metadata": {
    "collapsed": false
   },
   "outputs": [
    {
     "data": {
      "text/html": [
       "<table class=\"data-frame\"><thead><tr><th></th><th>Extra</th><th>Group</th><th>ID</th></tr></thead><tbody><tr><th>1</th><td>0.7</td><td>1</td><td>1</td></tr><tr><th>2</th><td>-1.6</td><td>1</td><td>2</td></tr><tr><th>3</th><td>-0.2</td><td>1</td><td>3</td></tr><tr><th>4</th><td>-1.2</td><td>1</td><td>4</td></tr><tr><th>5</th><td>-0.1</td><td>1</td><td>5</td></tr><tr><th>6</th><td>3.4</td><td>1</td><td>6</td></tr><tr><th>7</th><td>3.7</td><td>1</td><td>7</td></tr><tr><th>8</th><td>0.8</td><td>1</td><td>8</td></tr><tr><th>9</th><td>0.0</td><td>1</td><td>9</td></tr><tr><th>10</th><td>2.0</td><td>1</td><td>10</td></tr><tr><th>11</th><td>1.9</td><td>2</td><td>1</td></tr><tr><th>12</th><td>0.8</td><td>2</td><td>2</td></tr><tr><th>13</th><td>1.1</td><td>2</td><td>3</td></tr><tr><th>14</th><td>0.1</td><td>2</td><td>4</td></tr><tr><th>15</th><td>-0.1</td><td>2</td><td>5</td></tr><tr><th>16</th><td>4.4</td><td>2</td><td>6</td></tr><tr><th>17</th><td>5.5</td><td>2</td><td>7</td></tr><tr><th>18</th><td>1.6</td><td>2</td><td>8</td></tr><tr><th>19</th><td>4.6</td><td>2</td><td>9</td></tr><tr><th>20</th><td>3.4</td><td>2</td><td>10</td></tr></tbody></table>"
      ],
      "text/plain": [
       "20×3 DataFrames.DataFrame\n",
       "│ Row │ Extra │ Group │ ID   │\n",
       "├─────┼───────┼───────┼──────┤\n",
       "│ 1   │ 0.7   │ \"1\"   │ \"1\"  │\n",
       "│ 2   │ -1.6  │ \"1\"   │ \"2\"  │\n",
       "│ 3   │ -0.2  │ \"1\"   │ \"3\"  │\n",
       "│ 4   │ -1.2  │ \"1\"   │ \"4\"  │\n",
       "│ 5   │ -0.1  │ \"1\"   │ \"5\"  │\n",
       "│ 6   │ 3.4   │ \"1\"   │ \"6\"  │\n",
       "│ 7   │ 3.7   │ \"1\"   │ \"7\"  │\n",
       "│ 8   │ 0.8   │ \"1\"   │ \"8\"  │\n",
       "│ 9   │ 0.0   │ \"1\"   │ \"9\"  │\n",
       "│ 10  │ 2.0   │ \"1\"   │ \"10\" │\n",
       "│ 11  │ 1.9   │ \"2\"   │ \"1\"  │\n",
       "│ 12  │ 0.8   │ \"2\"   │ \"2\"  │\n",
       "│ 13  │ 1.1   │ \"2\"   │ \"3\"  │\n",
       "│ 14  │ 0.1   │ \"2\"   │ \"4\"  │\n",
       "│ 15  │ -0.1  │ \"2\"   │ \"5\"  │\n",
       "│ 16  │ 4.4   │ \"2\"   │ \"6\"  │\n",
       "│ 17  │ 5.5   │ \"2\"   │ \"7\"  │\n",
       "│ 18  │ 1.6   │ \"2\"   │ \"8\"  │\n",
       "│ 19  │ 4.6   │ \"2\"   │ \"9\"  │\n",
       "│ 20  │ 3.4   │ \"2\"   │ \"10\" │"
      ]
     },
     "execution_count": 63,
     "metadata": {},
     "output_type": "execute_result"
    }
   ],
   "source": [
    "using RDatasets\n",
    "sleep_long = dataset(\"datasets\",\"sleep\")"
   ]
  },
  {
   "cell_type": "code",
   "execution_count": 66,
   "metadata": {
    "collapsed": false
   },
   "outputs": [
    {
     "data": {
      "text/markdown": [
       "Unstacks a DataFrame; convert from a long to wide format\n",
       "\n",
       "```julia\n",
       "unstack(df::AbstractDataFrame, rowkey, colkey, value)\n",
       "unstack(df::AbstractDataFrame, colkey, value)\n",
       "unstack(df::AbstractDataFrame)\n",
       "```\n",
       "\n",
       "### Arguments\n",
       "\n",
       "  * `df` : the AbstractDataFrame to be unstacked\n",
       "  * `rowkey` : the column with a unique key for each row, if not given, find a key by grouping on anything not a `colkey` or `value`\n",
       "  * `colkey` : the column holding the column names in wide format, defaults to `:variable`\n",
       "  * `value` : the value column, defaults to `:value`\n",
       "\n",
       "### Result\n",
       "\n",
       "  * `::DataFrame` : the wide-format dataframe\n",
       "\n",
       "### Examples\n",
       "\n",
       "```julia\n",
       "wide = DataFrame(id = 1:12,\n",
       "                 a  = repeat([1:3;], inner = [4]),\n",
       "                 b  = repeat([1:4;], inner = [3]),\n",
       "                 c  = randn(12),\n",
       "                 d  = randn(12))\n",
       "\n",
       "long = stack(wide)\n",
       "wide0 = unstack(long)\n",
       "wide1 = unstack(long, :variable, :value)\n",
       "wide2 = unstack(long, :id, :variable, :value)\n",
       "```\n",
       "\n",
       "Note that there are some differences between the widened results above.\n"
      ],
      "text/plain": [
       "Unstacks a DataFrame; convert from a long to wide format\n",
       "\n",
       "```julia\n",
       "unstack(df::AbstractDataFrame, rowkey, colkey, value)\n",
       "unstack(df::AbstractDataFrame, colkey, value)\n",
       "unstack(df::AbstractDataFrame)\n",
       "```\n",
       "\n",
       "### Arguments\n",
       "\n",
       "  * `df` : the AbstractDataFrame to be unstacked\n",
       "  * `rowkey` : the column with a unique key for each row, if not given, find a key by grouping on anything not a `colkey` or `value`\n",
       "  * `colkey` : the column holding the column names in wide format, defaults to `:variable`\n",
       "  * `value` : the value column, defaults to `:value`\n",
       "\n",
       "### Result\n",
       "\n",
       "  * `::DataFrame` : the wide-format dataframe\n",
       "\n",
       "### Examples\n",
       "\n",
       "```julia\n",
       "wide = DataFrame(id = 1:12,\n",
       "                 a  = repeat([1:3;], inner = [4]),\n",
       "                 b  = repeat([1:4;], inner = [3]),\n",
       "                 c  = randn(12),\n",
       "                 d  = randn(12))\n",
       "\n",
       "long = stack(wide)\n",
       "wide0 = unstack(long)\n",
       "wide1 = unstack(long, :variable, :value)\n",
       "wide2 = unstack(long, :id, :variable, :value)\n",
       "```\n",
       "\n",
       "Note that there are some differences between the widened results above.\n"
      ]
     },
     "execution_count": 66,
     "metadata": {},
     "output_type": "execute_result"
    }
   ],
   "source": [
    "?DataFrames.unstack"
   ]
  },
  {
   "cell_type": "code",
   "execution_count": 67,
   "metadata": {
    "collapsed": false
   },
   "outputs": [
    {
     "data": {
      "text/html": [
       "<table class=\"data-frame\"><thead><tr><th></th><th>ID</th><th>1</th><th>2</th></tr></thead><tbody><tr><th>1</th><td>1</td><td>0.7</td><td>1.9</td></tr><tr><th>2</th><td>2</td><td>-1.6</td><td>0.8</td></tr><tr><th>3</th><td>3</td><td>-0.2</td><td>1.1</td></tr><tr><th>4</th><td>4</td><td>-1.2</td><td>0.1</td></tr><tr><th>5</th><td>5</td><td>-0.1</td><td>-0.1</td></tr><tr><th>6</th><td>6</td><td>3.4</td><td>4.4</td></tr><tr><th>7</th><td>7</td><td>3.7</td><td>5.5</td></tr><tr><th>8</th><td>8</td><td>0.8</td><td>1.6</td></tr><tr><th>9</th><td>9</td><td>0.0</td><td>4.6</td></tr><tr><th>10</th><td>10</td><td>2.0</td><td>3.4</td></tr></tbody></table>"
      ],
      "text/plain": [
       "10×3 DataFrames.DataFrame\n",
       "│ Row │ ID   │ 1    │ 2    │\n",
       "├─────┼──────┼──────┼──────┤\n",
       "│ 1   │ \"1\"  │ 0.7  │ 1.9  │\n",
       "│ 2   │ \"2\"  │ -1.6 │ 0.8  │\n",
       "│ 3   │ \"3\"  │ -0.2 │ 1.1  │\n",
       "│ 4   │ \"4\"  │ -1.2 │ 0.1  │\n",
       "│ 5   │ \"5\"  │ -0.1 │ -0.1 │\n",
       "│ 6   │ \"6\"  │ 3.4  │ 4.4  │\n",
       "│ 7   │ \"7\"  │ 3.7  │ 5.5  │\n",
       "│ 8   │ \"8\"  │ 0.8  │ 1.6  │\n",
       "│ 9   │ \"9\"  │ 0.0  │ 4.6  │\n",
       "│ 10  │ \"10\" │ 2.0  │ 3.4  │"
      ]
     },
     "execution_count": 67,
     "metadata": {},
     "output_type": "execute_result"
    }
   ],
   "source": [
    "sleep_wide = unstack(sleep_long, :ID, :Group, :Extra)"
   ]
  },
  {
   "cell_type": "code",
   "execution_count": 68,
   "metadata": {
    "collapsed": false
   },
   "outputs": [
    {
     "data": {
      "text/html": [
       "<table class=\"data-frame\"><thead><tr><th></th><th>ID</th><th>G1</th><th>G2</th></tr></thead><tbody><tr><th>1</th><td>1</td><td>0.7</td><td>1.9</td></tr><tr><th>2</th><td>2</td><td>-1.6</td><td>0.8</td></tr><tr><th>3</th><td>3</td><td>-0.2</td><td>1.1</td></tr><tr><th>4</th><td>4</td><td>-1.2</td><td>0.1</td></tr><tr><th>5</th><td>5</td><td>-0.1</td><td>-0.1</td></tr><tr><th>6</th><td>6</td><td>3.4</td><td>4.4</td></tr><tr><th>7</th><td>7</td><td>3.7</td><td>5.5</td></tr><tr><th>8</th><td>8</td><td>0.8</td><td>1.6</td></tr><tr><th>9</th><td>9</td><td>0.0</td><td>4.6</td></tr><tr><th>10</th><td>10</td><td>2.0</td><td>3.4</td></tr></tbody></table>"
      ],
      "text/plain": [
       "10×3 DataFrames.DataFrame\n",
       "│ Row │ ID   │ G1   │ G2   │\n",
       "├─────┼──────┼──────┼──────┤\n",
       "│ 1   │ \"1\"  │ 0.7  │ 1.9  │\n",
       "│ 2   │ \"2\"  │ -1.6 │ 0.8  │\n",
       "│ 3   │ \"3\"  │ -0.2 │ 1.1  │\n",
       "│ 4   │ \"4\"  │ -1.2 │ 0.1  │\n",
       "│ 5   │ \"5\"  │ -0.1 │ -0.1 │\n",
       "│ 6   │ \"6\"  │ 3.4  │ 4.4  │\n",
       "│ 7   │ \"7\"  │ 3.7  │ 5.5  │\n",
       "│ 8   │ \"8\"  │ 0.8  │ 1.6  │\n",
       "│ 9   │ \"9\"  │ 0.0  │ 4.6  │\n",
       "│ 10  │ \"10\" │ 2.0  │ 3.4  │"
      ]
     },
     "execution_count": 68,
     "metadata": {},
     "output_type": "execute_result"
    }
   ],
   "source": [
    "names!(sleep_wide, [:ID,:G1,:G2])"
   ]
  },
  {
   "cell_type": "markdown",
   "metadata": {},
   "source": [
    "#### ¿Son variables independientes con distribución normal?"
   ]
  },
  {
   "cell_type": "code",
   "execution_count": 70,
   "metadata": {
    "collapsed": false
   },
   "outputs": [
    {
     "data": {
      "text/html": [
       "<table class=\"data-frame\"><thead><tr><th></th><th>Group</th><th>P_AD</th><th>P_Shapiro</th></tr></thead><tbody><tr><th>1</th><td>1</td><td>0.4019278195142005</td><td>0.40792879642998914</td></tr><tr><th>2</th><td>2</td><td>0.3784707224362564</td><td>0.35113468540765047</td></tr></tbody></table>"
      ],
      "text/plain": [
       "2×3 DataFrames.DataFrame\n",
       "│ Row │ Group │ P_AD     │ P_Shapiro │\n",
       "├─────┼───────┼──────────┼───────────┤\n",
       "│ 1   │ \"1\"   │ 0.401928 │ 0.407929  │\n",
       "│ 2   │ \"2\"   │ 0.378471 │ 0.351135  │"
      ]
     },
     "execution_count": 70,
     "metadata": {},
     "output_type": "execute_result"
    }
   ],
   "source": [
    "using RCall \n",
    "\n",
    "by(sleep_long, :Group) do df\n",
    "    \n",
    "    extra = df[:Extra]\n",
    "    \n",
    "    DataFrame(\n",
    "    \n",
    "        P_AD = pvalue(OneSampleADTest(extra, Normal())),\n",
    "    \n",
    "        P_Shapiro = rcopy(R\"shapiro.test($extra)\")[Symbol(\"p.value\")]\n",
    "    )\n",
    "end"
   ]
  },
  {
   "cell_type": "markdown",
   "metadata": {},
   "source": [
    "#### ¿Hay igualdad de varianza?"
   ]
  },
  {
   "cell_type": "code",
   "execution_count": 73,
   "metadata": {
    "collapsed": false
   },
   "outputs": [
    {
     "data": {
      "text/html": [
       "<img src=\"data:image/png;base64,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\" />"
      ]
     },
     "execution_count": 73,
     "metadata": {},
     "output_type": "execute_result"
    }
   ],
   "source": [
    "using StatPlots\n",
    "boxplot(sleep_long, :Group, :Extra, legend=false)"
   ]
  },
  {
   "cell_type": "code",
   "execution_count": 74,
   "metadata": {
    "collapsed": false
   },
   "outputs": [
    {
     "data": {
      "text/html": [
       "<table class=\"data-frame\"><thead><tr><th></th><th>Group</th><th>x1</th></tr></thead><tbody><tr><th>1</th><td>1</td><td>3.200555555555556</td></tr><tr><th>2</th><td>2</td><td>4.0089999999999995</td></tr></tbody></table>"
      ],
      "text/plain": [
       "2×2 DataFrames.DataFrame\n",
       "│ Row │ Group │ x1      │\n",
       "├─────┼───────┼─────────┤\n",
       "│ 1   │ \"1\"   │ 3.20056 │\n",
       "│ 2   │ \"2\"   │ 4.009   │"
      ]
     },
     "execution_count": 74,
     "metadata": {},
     "output_type": "execute_result"
    }
   ],
   "source": [
    "by(sleep_long, :Group) do df\n",
    "    var( df[:Extra] )\n",
    "end"
   ]
  },
  {
   "cell_type": "markdown",
   "metadata": {},
   "source": [
    "Todos los **test de igualdad de varianza** tienen como hipótesis nula que las varianzas son iguales.  \n",
    "  \n",
    "El [**test F de igualdad de varianzas**](https://en.wikipedia.org/wiki/F-test_of_equality_of_variances) tiene como supuesto que las distribuciones son normales. "
   ]
  },
  {
   "cell_type": "code",
   "execution_count": 75,
   "metadata": {
    "collapsed": false
   },
   "outputs": [
    {
     "data": {
      "text/plain": [
       "RCall.RObject{RCall.VecSxp}\n",
       "\n",
       "\tF test to compare two variances\n",
       "\n",
       "data:  Extra by Group\n",
       "F = 0.79834, num df = 9, denom df = 9, p-value = 0.7427\n",
       "alternative hypothesis: true ratio of variances is not equal to 1\n",
       "95 percent confidence interval:\n",
       " 0.198297 3.214123\n",
       "sample estimates:\n",
       "ratio of variances \n",
       "         0.7983426 \n",
       "\n"
      ]
     },
     "execution_count": 75,
     "metadata": {},
     "output_type": "execute_result"
    }
   ],
   "source": [
    "R\"var.test(Extra ~ Group, $sleep_long)\""
   ]
  },
  {
   "cell_type": "markdown",
   "metadata": {},
   "source": [
    "El [**test de Bartlett**](https://en.wikipedia.org/wiki/Bartlett%27s_test) es sensible a las desviaciones de la normalidad, por lo que no es recomendable usarlo con distribuciones no normales."
   ]
  },
  {
   "cell_type": "code",
   "execution_count": 76,
   "metadata": {
    "collapsed": false
   },
   "outputs": [
    {
     "data": {
      "text/plain": [
       "RCall.RObject{RCall.VecSxp}\n",
       "\n",
       "\tBartlett test of homogeneity of variances\n",
       "\n",
       "data:  Extra by Group\n",
       "Bartlett's K-squared = 0.10789, df = 1, p-value = 0.7426\n",
       "\n"
      ]
     },
     "execution_count": 76,
     "metadata": {},
     "output_type": "execute_result"
    }
   ],
   "source": [
    "R\"bartlett.test(Extra ~ Group, $sleep_long)\""
   ]
  },
  {
   "cell_type": "markdown",
   "metadata": {},
   "source": [
    "El [**test de Levene**](https://en.wikipedia.org/wiki/Levene%27s_test) es robusto ante distribuciones no normales. "
   ]
  },
  {
   "cell_type": "code",
   "execution_count": 79,
   "metadata": {
    "collapsed": false
   },
   "outputs": [
    {
     "name": "stderr",
     "output_type": "stream",
     "text": [
      "\u001b[1m\u001b[31mWARNING: RCall.jl: Warning in leveneTest.default(y = y, group = group, ...) :\n",
      "  group coerced to factor.\u001b[0m\n"
     ]
    },
    {
     "data": {
      "text/plain": [
       "RCall.RObject{RCall.VecSxp}\n",
       "Levene's Test for Homogeneity of Variance (center = median)\n",
       "      Df F value Pr(>F)\n",
       "group  1  0.2482 0.6244\n",
       "      18               \n"
      ]
     },
     "execution_count": 79,
     "metadata": {},
     "output_type": "execute_result"
    }
   ],
   "source": [
    "# install.packages(\"car\")\n",
    "\n",
    "R\"\"\"\n",
    "library(car)\n",
    "leveneTest(Extra ~ Group, $sleep_long)\n",
    "\"\"\""
   ]
  },
  {
   "cell_type": "markdown",
   "metadata": {},
   "source": [
    "##### [Test de Student](http://www.biostathandbook.com/twosamplettest.html)"
   ]
  },
  {
   "cell_type": "code",
   "execution_count": 80,
   "metadata": {
    "collapsed": false
   },
   "outputs": [
    {
     "data": {
      "text/plain": [
       "Two sample t-test (equal variance)\n",
       "----------------------------------\n",
       "Population details:\n",
       "    parameter of interest:   Mean difference\n",
       "    value under h_0:         0\n",
       "    point estimate:          -1.5799999999999996\n",
       "    95% confidence interval: (-3.363874032287598,0.2038740322875987)\n",
       "\n",
       "Test summary:\n",
       "    outcome with 95% confidence: fail to reject h_0\n",
       "    two-sided p-value:           0.07918671421593818 (not significant)\n",
       "\n",
       "Details:\n",
       "    number of observations:   [10,10]\n",
       "    t-statistic:              -1.8608134674868528\n",
       "    degrees of freedom:       18\n",
       "    empirical standard error: 0.8490910172387619\n"
      ]
     },
     "execution_count": 80,
     "metadata": {},
     "output_type": "execute_result"
    }
   ],
   "source": [
    "EqualVarianceTTest(sleep_wide[:G1], sleep_wide[:G2])"
   ]
  },
  {
   "cell_type": "code",
   "execution_count": 81,
   "metadata": {
    "collapsed": false
   },
   "outputs": [
    {
     "data": {
      "text/plain": [
       "Two sample t-test (unequal variance)\n",
       "------------------------------------\n",
       "Population details:\n",
       "    parameter of interest:   Mean difference\n",
       "    value under h_0:         0\n",
       "    point estimate:          -1.5799999999999996\n",
       "    95% confidence interval: (-3.3654832307117104,0.20548323071171093)\n",
       "\n",
       "Test summary:\n",
       "    outcome with 95% confidence: fail to reject h_0\n",
       "    two-sided p-value:           0.07939414018735824 (not significant)\n",
       "\n",
       "Details:\n",
       "    number of observations:   [10,10]\n",
       "    t-statistic:              -1.8608134674868526\n",
       "    degrees of freedom:       17.776473516178495\n",
       "    empirical standard error: 0.849091017238762\n"
      ]
     },
     "execution_count": 81,
     "metadata": {},
     "output_type": "execute_result"
    }
   ],
   "source": [
    "UnequalVarianceTTest(sleep_wide[:G1], sleep_wide[:G2]) # Welch’s t-test"
   ]
  },
  {
   "cell_type": "markdown",
   "metadata": {},
   "source": [
    "###### [Test de Student para variables apareadas](http://www.biostathandbook.com/pairedttest.html)"
   ]
  },
  {
   "cell_type": "code",
   "execution_count": 82,
   "metadata": {
    "collapsed": false
   },
   "outputs": [
    {
     "data": {
      "text/plain": [
       "One sample t-test\n",
       "-----------------\n",
       "Population details:\n",
       "    parameter of interest:   Mean\n",
       "    value under h_0:         0\n",
       "    point estimate:          -1.58\n",
       "    95% confidence interval: (-2.4598857632769824,-0.7001142367230176)\n",
       "\n",
       "Test summary:\n",
       "    outcome with 95% confidence: reject h_0\n",
       "    two-sided p-value:           0.00283289019738427 (very significant)\n",
       "\n",
       "Details:\n",
       "    number of observations:   10\n",
       "    t-statistic:              -4.062127683382037\n",
       "    degrees of freedom:       9\n",
       "    empirical standard error: 0.3889587238883952\n"
      ]
     },
     "execution_count": 82,
     "metadata": {},
     "output_type": "execute_result"
    }
   ],
   "source": [
    "OneSampleTTest(\n",
    "    convert(Vector{Float64}, sleep_wide[:G1]), \n",
    "    convert(Vector{Float64}, sleep_wide[:G2])\n",
    ") # H₀: mean(x) - mean(y) = 0"
   ]
  },
  {
   "cell_type": "markdown",
   "metadata": {},
   "source": [
    "#### Alternativas no paramétricas"
   ]
  },
  {
   "cell_type": "markdown",
   "metadata": {},
   "source": [
    "##### [Mann Whitney](https://en.wikipedia.org/wiki/Mann%E2%80%93Whitney_U_test)"
   ]
  },
  {
   "cell_type": "code",
   "execution_count": 83,
   "metadata": {
    "collapsed": false
   },
   "outputs": [
    {
     "data": {
      "text/plain": [
       "Approximate Mann-Whitney U test\n",
       "-------------------------------\n",
       "Population details:\n",
       "    parameter of interest:   Location parameter (pseudomedian)\n",
       "    value under h_0:         0\n",
       "    point estimate:          -1.4\n",
       "\n",
       "Test summary:\n",
       "    outcome with 95% confidence: fail to reject h_0\n",
       "    two-sided p-value:           0.06932757543362658 (not significant)\n",
       "\n",
       "Details:\n",
       "    number of observations in each group: [10,10]\n",
       "    Mann-Whitney-U statistic:             25.5\n",
       "    rank sums:                            [80.5,129.5]\n",
       "    adjustment for ties:                  18.0\n",
       "    normal approximation (μ, σ):          (-24.5,13.213828482233858)\n"
      ]
     },
     "execution_count": 83,
     "metadata": {},
     "output_type": "execute_result"
    }
   ],
   "source": [
    "MannWhitneyUTest(sleep_wide[:G1], sleep_wide[:G2]) # H₀: P(x > y) = P(y > x)"
   ]
  },
  {
   "cell_type": "markdown",
   "metadata": {},
   "source": [
    "##### [*Wicolxon (signed rank) test*](https://en.wikipedia.org/wiki/Wilcoxon_signed-rank_test)"
   ]
  },
  {
   "cell_type": "code",
   "execution_count": 84,
   "metadata": {
    "collapsed": false
   },
   "outputs": [
    {
     "data": {
      "text/plain": [
       "Exact Wilcoxon signed rank test\n",
       "-------------------------------\n",
       "Population details:\n",
       "    parameter of interest:   Location parameter (pseudomedian)\n",
       "    value under h_0:         0\n",
       "    point estimate:          -1.3\n",
       "    95% confidence interval: (-2.6999999999999997,-0.8999999999999999)\n",
       "\n",
       "Test summary:\n",
       "    outcome with 95% confidence: reject h_0\n",
       "    two-sided p-value:           0.00390625 (very significant)\n",
       "\n",
       "Details:\n",
       "    number of observations:      10\n",
       "    Wilcoxon rank-sum statistic: 0.0\n",
       "    rank sums:                   [0.0,45.0]\n",
       "    adjustment for ties:         6.0\n"
      ]
     },
     "execution_count": 84,
     "metadata": {},
     "output_type": "execute_result"
    }
   ],
   "source": [
    "SignedRankTest(\n",
    "    convert(Vector{Float64}, sleep_wide[:G1]), \n",
    "    convert(Vector{Float64}, sleep_wide[:G2])\n",
    ") # H₀:  median(x - y) = 0"
   ]
  },
  {
   "cell_type": "markdown",
   "metadata": {},
   "source": [
    "##### Kolmogorov-Smirnov"
   ]
  },
  {
   "cell_type": "code",
   "execution_count": 85,
   "metadata": {
    "collapsed": false
   },
   "outputs": [
    {
     "name": "stderr",
     "output_type": "stream",
     "text": [
      "\u001b[1m\u001b[31mWARNING: This test is inaccurate with ties\u001b[0m\n"
     ]
    },
    {
     "data": {
      "text/plain": [
       "Approximate two sample Kolmogorov-Smirnov test\n",
       "----------------------------------------------\n",
       "Population details:\n",
       "    parameter of interest:   Supremum of CDF differences\n",
       "    value under h_0:         0.0\n",
       "    point estimate:          0.5\n",
       "\n",
       "Test summary:\n",
       "    outcome with 95% confidence: fail to reject h_0\n",
       "    two-sided p-value:           0.1640791977266521 (not significant)\n",
       "\n",
       "Details:\n",
       "    number of observations:   [10,10]\n",
       "    KS-statistic:              1.118033988749895\n"
      ]
     },
     "execution_count": 85,
     "metadata": {},
     "output_type": "execute_result"
    }
   ],
   "source": [
    "ApproximateTwoSampleKSTest(sleep_wide[:G1], sleep_wide[:G2]) # H₀: x e y provienen de la misma distribución"
   ]
  },
  {
   "cell_type": "markdown",
   "metadata": {},
   "source": [
    "##### [Test de los signos](https://en.wikipedia.org/wiki/Sign_test)"
   ]
  },
  {
   "cell_type": "markdown",
   "metadata": {},
   "source": [
    "> *Then let W be the number of pairs for which yi − xi > 0. Assuming that H0 is true, then W follows a binomial distribution W ~ b(m, 0.5).*\n",
    "\n",
    "$m$ es el número de pares que muestran diferencias."
   ]
  },
  {
   "cell_type": "code",
   "execution_count": 86,
   "metadata": {
    "collapsed": false
   },
   "outputs": [
    {
     "data": {
      "text/plain": [
       "Sign Test\n",
       "---------\n",
       "Population details:\n",
       "    parameter of interest:   Median\n",
       "    value under h_0:         0.0\n",
       "    point estimate:          -1.3\n",
       "    95% confidence interval: (-1.7999999999999998,-1.0000000000000004)\n",
       "\n",
       "Test summary:\n",
       "    outcome with 95% confidence: reject h_0\n",
       "    two-sided p-value:           0.0039062500000000035 (very significant)\n",
       "\n",
       "Details:\n",
       "    number of observations:       9\n",
       "    observations larger than 0.0: 0\n"
      ]
     },
     "execution_count": 86,
     "metadata": {},
     "output_type": "execute_result"
    }
   ],
   "source": [
    "SignTest(sleep_wide[:G1], sleep_wide[:G2]) # H₀: P(x > y) = 0.5"
   ]
  },
  {
   "cell_type": "markdown",
   "metadata": {},
   "source": [
    "##### [Test de la mediana](https://en.wikipedia.org/wiki/Median_test)"
   ]
  },
  {
   "cell_type": "markdown",
   "metadata": {},
   "source": [
    "Es un caso especial de la prueba de **chi-cuadrado**. Esta prueba posee poco poder.  \n",
    "Se calcula la mediana para todos los datos ($x$ e $y$), estableciéndose dos grupos (por encima o por debajo de ésta). Luego se arma una tabla de contingencia con esta nueva variable versus las dos variables anteriores ($x$ e $y$)."
   ]
  },
  {
   "cell_type": "code",
   "execution_count": 87,
   "metadata": {
    "collapsed": false
   },
   "outputs": [
    {
     "data": {
      "text/html": [
       "0.9500000000000001"
      ],
      "text/plain": [
       "0.9500000000000001"
      ]
     },
     "execution_count": 87,
     "metadata": {},
     "output_type": "execute_result"
    }
   ],
   "source": [
    "median_xy = median(sleep_long[:Extra])"
   ]
  },
  {
   "cell_type": "code",
   "execution_count": 88,
   "metadata": {
    "collapsed": false
   },
   "outputs": [
    {
     "data": {
      "text/plain": [
       "20-element DataArrays.DataArray{Bool,1}:\n",
       "  true\n",
       "  true\n",
       "  true\n",
       "  true\n",
       "  true\n",
       " false\n",
       " false\n",
       "  true\n",
       "  true\n",
       " false\n",
       " false\n",
       "  true\n",
       " false\n",
       "  true\n",
       "  true\n",
       " false\n",
       " false\n",
       " false\n",
       " false\n",
       " false"
      ]
     },
     "execution_count": 88,
     "metadata": {},
     "output_type": "execute_result"
    }
   ],
   "source": [
    "sleep_long[:Side] = sleep_long[:Extra] .<= median_xy"
   ]
  },
  {
   "cell_type": "code",
   "execution_count": 90,
   "metadata": {
    "collapsed": false,
    "scrolled": true
   },
   "outputs": [],
   "source": [
    "using FreqTables"
   ]
  },
  {
   "cell_type": "code",
   "execution_count": 91,
   "metadata": {
    "collapsed": false
   },
   "outputs": [
    {
     "data": {
      "text/plain": [
       "2×2 Named Array{Int64,2}\n",
       "Side ╲ Group │ 1  2\n",
       "─────────────┼─────\n",
       "false        │ 3  7\n",
       "true         │ 7  3"
      ]
     },
     "execution_count": 91,
     "metadata": {},
     "output_type": "execute_result"
    }
   ],
   "source": [
    "tabla = freqtable(sleep_long, :Side, :Group)"
   ]
  },
  {
   "cell_type": "code",
   "execution_count": 92,
   "metadata": {
    "collapsed": false
   },
   "outputs": [
    {
     "data": {
      "text/plain": [
       "Pearson's Chi-square Test\n",
       "-------------------------\n",
       "Population details:\n",
       "    parameter of interest:   Multinomial Probabilities\n",
       "    value under h_0:         [0.25,0.25,0.25,0.25]\n",
       "    point estimate:          [0.15,0.35,0.35,0.15]\n",
       "    95% confidence interval: Tuple{Float64,Float64}[(0.0,0.449679),(0.0,0.649679),(0.0,0.649679),(0.0,0.449679)]\n",
       "\n",
       "Test summary:\n",
       "    outcome with 95% confidence: fail to reject h_0\n",
       "    two-sided p-value:           0.07363827012030282 (not significant)\n",
       "\n",
       "Details:\n",
       "    Sample size:        20\n",
       "    statistic:          3.1999999999999984\n",
       "    degrees of freedom: 1\n",
       "    residuals:          [-0.894427,0.894427,0.894427,-0.894427]\n",
       "    std. residuals:     [-1.78885,1.78885,1.78885,-1.78885]\n"
      ]
     },
     "execution_count": 92,
     "metadata": {},
     "output_type": "execute_result"
    }
   ],
   "source": [
    "ChisqTest(tabla)"
   ]
  },
  {
   "cell_type": "markdown",
   "metadata": {},
   "source": [
    "#### Comparar frecuencias"
   ]
  },
  {
   "cell_type": "markdown",
   "metadata": {},
   "source": [
    "##### [Test de Fischer](http://www.biostathandbook.com/fishers.html) [wiki](https://en.wikipedia.org/wiki/Fisher%27s_exact_test)"
   ]
  },
  {
   "cell_type": "markdown",
   "metadata": {},
   "source": [
    "> *Use Fisher's exact test when you have two nominal variables. You want to know whether the proportions for one variable are different among values of the other variable. *"
   ]
  },
  {
   "cell_type": "code",
   "execution_count": 93,
   "metadata": {
    "collapsed": false
   },
   "outputs": [
    {
     "data": {
      "text/plain": [
       "Fisher's exact test\n",
       "-------------------\n",
       "Population details:\n",
       "    parameter of interest:   Odds ratio\n",
       "    value under h_0:         1.0\n",
       "    point estimate:          0.20204490697560082\n",
       "    95% confidence interval: (0.017989281978933312,1.6833921322245327)\n",
       "\n",
       "Test summary:\n",
       "    outcome with 95% confidence: fail to reject h_0\n",
       "    two-sided p-value:           0.1788954079975756 (not significant)\n",
       "\n",
       "Details:\n",
       "    contingency table:\n",
       "        3  7\n",
       "        7  3\n"
      ]
     },
     "execution_count": 93,
     "metadata": {},
     "output_type": "execute_result"
    }
   ],
   "source": [
    "FisherExactTest(tabla...)"
   ]
  },
  {
   "cell_type": "markdown",
   "metadata": {},
   "source": [
    "##### [McNemar](https://en.wikipedia.org/wiki/McNemar%27s_test)"
   ]
  },
  {
   "cell_type": "markdown",
   "metadata": {},
   "source": [
    "Se utiliza para tablas de contingencia 2x2 de variables dicotómicas en medidas pareadas.   \n",
    "\n",
    "| X / Y | true | false |\n",
    "|-------|------|-------|\n",
    "| true  |  a   |   b   |\n",
    "| false |  c   |   d   |\n",
    "  \n",
    "$$H0: Pb = Pc$$\n",
    "$$Ha: Pb \\neq Pc$$\n",
    "\n",
    "$$Q = \\frac{(b-c)^{2}}{b+c}$$\n",
    "\n",
    "Q sigue una distribución χ²con 1 grado de libertad para muestras grandes, es posible hacer una corrección por continuidad para conseguir una mejor aproximación a χ²:"
   ]
  },
  {
   "cell_type": "markdown",
   "metadata": {},
   "source": [
    "$$Q_{c} = \\frac{(|b-c|-1)^{2}}{b+c}$$"
   ]
  },
  {
   "cell_type": "code",
   "execution_count": 125,
   "metadata": {
    "collapsed": false
   },
   "outputs": [
    {
     "data": {
      "text/plain": [
       "2×2 Named Array{Int64,2}\n",
       "Dim1 ╲ Dim2 │  0   1\n",
       "────────────┼───────\n",
       "0           │ 20  15\n",
       "1           │ 39  26"
      ]
     },
     "execution_count": 125,
     "metadata": {},
     "output_type": "execute_result"
    }
   ],
   "source": [
    "X = rand(Binomial(1,0.6),100)\n",
    "Y = rand(Binomial(1,0.4),100)\n",
    "\n",
    "tabla = freqtable(X, Y)"
   ]
  },
  {
   "cell_type": "code",
   "execution_count": 127,
   "metadata": {
    "collapsed": false
   },
   "outputs": [
    {
     "data": {
      "text/html": [
       "15"
      ],
      "text/plain": [
       "15"
      ]
     },
     "execution_count": 127,
     "metadata": {},
     "output_type": "execute_result"
    }
   ],
   "source": [
    "b = tabla[0,1]"
   ]
  },
  {
   "cell_type": "code",
   "execution_count": 128,
   "metadata": {
    "collapsed": false
   },
   "outputs": [
    {
     "data": {
      "text/html": [
       "39"
      ],
      "text/plain": [
       "39"
      ]
     },
     "execution_count": 128,
     "metadata": {},
     "output_type": "execute_result"
    }
   ],
   "source": [
    "c = tabla[1,0]"
   ]
  },
  {
   "cell_type": "code",
   "execution_count": 129,
   "metadata": {
    "collapsed": false
   },
   "outputs": [
    {
     "data": {
      "text/html": [
       "10.666666666666666"
      ],
      "text/plain": [
       "10.666666666666666"
      ]
     },
     "execution_count": 129,
     "metadata": {},
     "output_type": "execute_result"
    }
   ],
   "source": [
    "Q = ((b-c)^2)/(b+c)"
   ]
  },
  {
   "cell_type": "code",
   "execution_count": 130,
   "metadata": {
    "collapsed": false
   },
   "outputs": [
    {
     "data": {
      "text/html": [
       "9.796296296296296"
      ],
      "text/plain": [
       "9.796296296296296"
      ]
     },
     "execution_count": 130,
     "metadata": {},
     "output_type": "execute_result"
    }
   ],
   "source": [
    "Qc = ((abs(b-c)-1)^2)/(b+c)"
   ]
  },
  {
   "cell_type": "code",
   "execution_count": 131,
   "metadata": {
    "collapsed": false
   },
   "outputs": [
    {
     "data": {
      "text/html": [
       "0.0010908351761252978"
      ],
      "text/plain": [
       "0.0010908351761252978"
      ]
     },
     "execution_count": 131,
     "metadata": {},
     "output_type": "execute_result"
    }
   ],
   "source": [
    "pvalue(Chisq(1), Q, tail=:right)"
   ]
  },
  {
   "cell_type": "code",
   "execution_count": 132,
   "metadata": {
    "collapsed": false
   },
   "outputs": [
    {
     "data": {
      "text/html": [
       "0.001748637004975699"
      ],
      "text/plain": [
       "0.001748637004975699"
      ]
     },
     "execution_count": 132,
     "metadata": {},
     "output_type": "execute_result"
    }
   ],
   "source": [
    "pvalue(Chisq(1), Qc, tail=:right)"
   ]
  },
  {
   "cell_type": "code",
   "execution_count": 133,
   "metadata": {
    "collapsed": false
   },
   "outputs": [
    {
     "data": {
      "text/plain": [
       "(DataStructures.OrderedDict(1=>1,2=>2),DataStructures.OrderedDict(1=>1,2=>2))"
      ]
     },
     "execution_count": 133,
     "metadata": {},
     "output_type": "execute_result"
    }
   ],
   "source": [
    "NamedArrays.setnames!(tabla, [1,2], 1)\n",
    "NamedArrays.setnames!(tabla, [1,2], 2)"
   ]
  },
  {
   "cell_type": "code",
   "execution_count": 134,
   "metadata": {
    "collapsed": false
   },
   "outputs": [
    {
     "data": {
      "text/plain": [
       "RCall.RObject{RCall.VecSxp}\n",
       "\n",
       "\tMcNemar's Chi-squared test with continuity correction\n",
       "\n",
       "data:  `#JL`$tabla\n",
       "McNemar's chi-squared = 9.7963, df = 1, p-value = 0.001749\n",
       "\n"
      ]
     },
     "execution_count": 134,
     "metadata": {},
     "output_type": "execute_result"
    }
   ],
   "source": [
    "R\"mcnemar.test($tabla)\""
   ]
  }
 ],
 "metadata": {
  "kernelspec": {
   "display_name": "Julia 0.5.0",
   "language": "julia",
   "name": "julia-0.5"
  },
  "language_info": {
   "file_extension": ".jl",
   "mimetype": "application/julia",
   "name": "julia",
   "version": "0.5.0"
  }
 },
 "nbformat": 4,
 "nbformat_minor": 0
}
