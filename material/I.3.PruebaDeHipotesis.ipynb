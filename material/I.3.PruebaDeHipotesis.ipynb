{
 "cells": [
  {
   "cell_type": "markdown",
   "metadata": {},
   "source": [
    "### Unidad I. Variables, distribuciones y pruebas de hipótesis. \n",
    "\n",
    "## Prueba de Hipótesis. Verificación estadística de hipótesis estadística.\n",
    "\n",
    "- Prueba de bondad de ajuste a una distribución. \n",
    "    - Procedimientos no paramétricos chi cuadrado y Kolmogorov–Smirnov\n",
    "- Comparación de dos poblaciones.\n",
    " - Test de Student y Fischer para comparar variables independientes con distribución normal. Test de Student para comparar variables apareadas.\n",
    " - Alternativas no paramétricas de comparación transversal y longitudinal. Los tests de Mann Whitney y Wicolxon.\n",
    " - Otras pruebas de comparación no paramétricas: El test de Kolmogorov-Smirnov y de la Mediana. Test de los signos y de McNemar.\n"
   ]
  },
  {
   "cell_type": "markdown",
   "metadata": {},
   "source": [
    "### Estadística inferencial"
   ]
  },
  {
   "cell_type": "markdown",
   "metadata": {},
   "source": [
    "La [estadística inferencial](https://en.wikipedia.org/wiki/Statistical_inference) trata de inferir información acerca de la distribución de probabilidad de una población, partiendo de la información de una muestra. Se diferencia de la [estadística descriptiva](https://en.wikipedia.org/wiki/Descriptive_statistics) en que en lugar de simplemente describir la muestra, trata de describir algo acerca de la población. Uno puede realizar diferentes estimaciones acerca de la población, la cual normalmente se conduce haciendo uso de la [estadística frecuentista](https://en.wikipedia.org/wiki/Frequentist_inference):  \n",
    "- [**Estimación puntual**](https://en.wikipedia.org/wiki/Point_estimation): Estimación de un parámetro poblacional haciendo uso del valor que mejor lo aproxime.  \n",
    "- [**Estimación por intervalos**](https://en.wikipedia.org/wiki/Interval_estimation): Estimación de un intervalo de valores para un parámetro poblacional desconocido. Por ejemplo, la estimación de un [intervalo de confianza](https://en.wikipedia.org/wiki/Confidence_interval) para un parámetro poblacional.  \n",
    "- [**Test de hipótesis**](https://en.wikipedia.org/wiki/Statistical_hypothesis_testing)  "
   ]
  },
  {
   "cell_type": "markdown",
   "metadata": {},
   "source": [
    "### Test de hipótesis."
   ]
  },
  {
   "cell_type": "markdown",
   "metadata": {},
   "source": [
    "Una prueba de hipótesis es análoga a una [demostración matemática por contradicción](https://en.wikipedia.org/wiki/Proof_by_contradiction) (en particular es un tipo de [*reductio ad absurdum*](https://en.wikipedia.org/wiki/Reductio_ad_absurdum)), aunque no debe considerarse en ningún caso una demostración matemática. Ambos métodos, parten de considerar una <a href=”https://en.wikipedia.org/wiki/Statement_(logic)”>declaración</a> verdadera, en el caso del test de hipótesis, [la hipótesis nula](https://en.wikipedia.org/wiki/Null_hypothesis) ó H₀. En ambos métodos se trata de llegar a una contradicción, dado que una implicación solo puede ser falsa si partiendo de una premisa verdadera llegamos a una conclusión falsa ([tabla de verdad](https://en.wikipedia.org/wiki/Truth_table)):"
   ]
  },
  {
   "cell_type": "markdown",
   "metadata": {
    "collapsed": true
   },
   "source": [
    "| *p*      | *q*       | *p → q*   |\n",
    "|----------|-----------|-----------|\n",
    "| *true*   | *true*    | *true*    |\n",
    "| **true** | **false** | **false** |\n",
    "| *false*  | *true*    | *true*    |\n",
    "| *false*  | *false*   | *true*    |"
   ]
  },
  {
   "cell_type": "markdown",
   "metadata": {
    "collapsed": true
   },
   "source": [
    "Acá es donde ambos métodos divergen, dado que la demostración matemática lo hace siguiendo reglas lógicas determinadas y procedimientos matemáticos permitidos, llegando a un resultado determinado no azaroso. Finalmente, si se llega a una contradicción, se concluye que la declaración original es falsa, aceptando la negación de dicha declaración. En el caso de la prueba de hipótesis, rechazar H₀ implica aceptar la hipótesis alternativa Hₐ. Sin embargo, no rechazar H₀ no implica aceptarla, decimos simplemente que no hay evidencia suficiente para rechazar la hipótesis nula. En cualquier caso, una prueba de hipótesis no demuestra una hipótesis, sólo la soporta con un cierto grado de confianza. Acumular evidencia a favor de una hipótesis ([razonamiento inductivo](https://es.wikipedia.org/wiki/Razonamiento_inductivo)) no es suficiente para demostrarla, la evidencia acumulada solo puede soportar dicha hipótesis.  \n",
    "Las pruebas de hipótesis fueron propuestas para solucionar [el problema de la inducción](https://es.wikipedia.org/wiki/Problema_de_la_inducci%C3%B3n) e incluir el análisis estadístico dentro de un [modelo hipotético deductivo](https://en.wikipedia.org/wiki/Hypothetico-deductive_model) *(Kaplan 2019, capítulo 13)*.  \n",
    "Existen dos tipos de errores que podemos cometer *(Neyman & Pearson, 1933)*:  "
   ]
  },
  {
   "cell_type": "markdown",
   "metadata": {
    "collapsed": true
   },
   "source": [
    "|                   | **H₀ es cierta**  | **Hₐ es cierta**   |\n",
    "|-------------------|-------------------|--------------------|\n",
    "| **Se escogió Hₐ** | *Error de tipo I* | Decisión correcta  |\n",
    "| **Se escogió H₀** | Decisión correcta | *Error de tipo II* |"
   ]
  },
  {
   "cell_type": "markdown",
   "metadata": {},
   "source": [
    "El riesgo o probabilidad de caer en un [error del tipo I](https://en.wikipedia.org/wiki/Type_I_and_type_II_errors) se conoce como [nivel de significación estadistica](https://en.wikipedia.org/wiki/Statistical_significance), normalmente indicado con la letra griega $\\alpha$. La probabilidad de caer en un [error del tipo II](https://en.wikipedia.org/wiki/Type_I_and_type_II_errors) normalmente se anota con la letra griega $\\beta$. Siendo $1-\\beta$ la [potencia o poder del test](https://en.wikipedia.org/wiki/Statistical_power)."
   ]
  },
  {
   "cell_type": "markdown",
   "metadata": {},
   "source": [
    "$$P(escoger H_a | H_0 cierta) = \\alpha$$  "
   ]
  },
  {
   "cell_type": "markdown",
   "metadata": {},
   "source": [
    "$$P(escoger H_0 | H_a cierta) = \\beta$$  "
   ]
  },
  {
   "cell_type": "markdown",
   "metadata": {},
   "source": [
    "$$P(escoger H_a | H_a cierta) = 1 - \\beta$$  "
   ]
  },
  {
   "cell_type": "markdown",
   "metadata": {},
   "source": [
    "Se habla de [errores de tipo III](https://en.wikipedia.org/wiki/Type_III_error) cuando se da la respuesta correcta (rechazar una hipótesis nula) para una pregunta incorrecta o errónea. "
   ]
  },
  {
   "cell_type": "markdown",
   "metadata": {},
   "source": [
    "##### Referencias\n",
    "\n",
    "- *Kaplan, D. (2009). Statistical modeling: A fresh approach.*  \n",
    "- *Neyman, J., & Pearson, E. S. (1992). On the problem of the most efficient tests of statistical hypotheses (pp. 73-108). Springer New York.*  \n",
    "- *Lehmann, E. L. (2012). The Fisher, Neyman-Peerson Theories of Testing Hypotheses: One Theory or Two?. In Selected Works of EL Lehmann (pp. 201-208). Springer US.*  \n",
    "- *Biau, D. J., Jolles, B. M., & Porcher, R. (2010). P value and the theory of hypothesis testing: an explanation for new researchers. Clinical Orthopaedics and Related Research®, 468(3), 885-892.*  \n",
    "- *Nickerson, R. S. (2000). Null hypothesis significance testing: a review of an old and continuing controversy. Psychological methods, 5(2), 241.*"
   ]
  },
  {
   "cell_type": "markdown",
   "metadata": {},
   "source": [
    "### Valor P"
   ]
  },
  {
   "cell_type": "markdown",
   "metadata": {},
   "source": [
    "El [valor P](https://en.wikipedia.org/wiki/P-value) (*p value*) es la probabilidad de observar un determinado valor (o uno más extremo) dado que H₀ es correcta. En ningún caso debe interpretarse como una probabilidad de la hipótesis nula. Un valor P bajo indica que los datos son inconsistentes con la hipótesis nula, permitiéndonos rechazar la hipótesis nula ante esa observación. Para decidir que es un valor bajo, uno puede recurrir al [valor de significación α](http://www.itl.nist.gov/div898/handbook/prc/section1/prc131.htm)."
   ]
  },
  {
   "cell_type": "markdown",
   "metadata": {},
   "source": [
    "$$P(escoger H_a | H_0 cierta) = P(p \\le \\alpha | H_0 cierta) = \\alpha$$  "
   ]
  },
  {
   "cell_type": "markdown",
   "metadata": {},
   "source": [
    "#### T de Student para una muestra "
   ]
  },
  {
   "cell_type": "markdown",
   "metadata": {
    "collapsed": true
   },
   "source": [
    "La [prueba de T de Student](https://en.wikipedia.org/wiki/Student%27s_t-test) para una muestra permite probar si  la media de una muestra es diferente de una media $\\mu_0$. Algo que tenemos que tener en cuenta, es que no podemos testear que la media poblacional sea un determinado valor. Ésto se debe a que no podemos saber cuál es la media poblacional sin analizar toda la población. Es decir, no podemos saber dónde se encuentra localizada la distribución *T Student* correspondiente a la media poblacional. Para determinar probabilidades necesitamos un parámetro de ubicación exacto. Es por esto que la hipótesis nula será la ubicación de la media poblacional en un lugar determinado. De hecho, las hipótesis nulas se caracterizan normalmente por tener igualdades (uno supone una distribución con parámetros determinados).  "
   ]
  },
  {
   "cell_type": "markdown",
   "metadata": {
    "collapsed": true
   },
   "source": [
    "$$H_0 : \\mu = \\mu_0$$"
   ]
  },
  {
   "cell_type": "markdown",
   "metadata": {},
   "source": [
    "Si ara una muestra de tamaño $n$ se cumplen las asunciones del test:  \n",
    "\n",
    "- Distribución normal de la variable (continua) en la población  \n",
    "- Muestreo al azar (cada observación es independiente)  \n",
    "\n",
    "Entonces el estadístico $t$ sigue una distribución *T de Student* con $n - 1$ grados de libertad.  "
   ]
  },
  {
   "cell_type": "markdown",
   "metadata": {},
   "source": [
    "$$ t = \\frac{ \\bar{x} - \\mu }{ \\frac{s}{\\sqrt{n}} }$$"
   ]
  },
  {
   "cell_type": "markdown",
   "metadata": {},
   "source": [
    "Supongamos una variable aleatoria $X$ que en la población se distribuye con una distribución `Normal(0.2,0.1)`. Y supongamos que estamos interesados en demostrar que la media de esa variable $X$ en la población es mayor a 0. Es decir:"
   ]
  },
  {
   "cell_type": "markdown",
   "metadata": {},
   "source": [
    "$$H_0 : \\mu = 0$$  "
   ]
  },
  {
   "cell_type": "markdown",
   "metadata": {},
   "source": [
    "$$H_a : \\mu > 0$$"
   ]
  },
  {
   "cell_type": "markdown",
   "metadata": {},
   "source": [
    "Otras dos hipótesis alternativas son posibles; $H_a \\ne 0$ ó $H_a < 0$. Podemos elegir cualquiera de éstas dependiendo de nuestro hipótesis de trabajo, determinando si el test será [a una o dos colas](https://en.wikipedia.org/wiki/One-_and_two-tailed_tests). En este caso el test será a una cola y el *p value* para un valor observado $T$ será: "
   ]
  },
  {
   "cell_type": "markdown",
   "metadata": {},
   "source": [
    "$$P(t \\ge T|H_0)$$"
   ]
  },
  {
   "cell_type": "code",
   "execution_count": 1,
   "metadata": {
    "collapsed": false
   },
   "outputs": [
    {
     "data": {
      "text/plain": [
       "5-element Array{Float64,1}:\n",
       " -0.105864 \n",
       "  0.0573901\n",
       "  0.12249  \n",
       " -0.0929943\n",
       "  0.18601  "
      ]
     },
     "execution_count": 1,
     "metadata": {},
     "output_type": "execute_result"
    }
   ],
   "source": [
    "using Distributions\n",
    "\n",
    "μ = 0.1\n",
    "población = Normal(μ,0.1)\n",
    "\n",
    "n = 5\n",
    "muestra   = rand(población, n)"
   ]
  },
  {
   "cell_type": "code",
   "execution_count": 2,
   "metadata": {
    "collapsed": false
   },
   "outputs": [
    {
     "data": {
      "text/plain": [
       "Distributions.TDist(ν=4.0)"
      ]
     },
     "execution_count": 2,
     "metadata": {},
     "output_type": "execute_result"
    }
   ],
   "source": [
    "# H₀\n",
    "μ₀ = 0 \n",
    "H₀ = TDist(n-1)"
   ]
  },
  {
   "cell_type": "code",
   "execution_count": 3,
   "metadata": {
    "collapsed": false
   },
   "outputs": [
    {
     "data": {
      "text/plain": [
       "0.03340626323236044"
      ]
     },
     "execution_count": 3,
     "metadata": {},
     "output_type": "execute_result"
    }
   ],
   "source": [
    "x̄ = mean(muestra)"
   ]
  },
  {
   "cell_type": "code",
   "execution_count": 4,
   "metadata": {
    "collapsed": false
   },
   "outputs": [
    {
     "data": {
      "text/plain": [
       "0.12958809444083755"
      ]
     },
     "execution_count": 4,
     "metadata": {},
     "output_type": "execute_result"
    }
   ],
   "source": [
    "s = std(muestra)"
   ]
  },
  {
   "cell_type": "code",
   "execution_count": 5,
   "metadata": {
    "collapsed": false
   },
   "outputs": [
    {
     "data": {
      "text/plain": [
       "0.5764316219335481"
      ]
     },
     "execution_count": 5,
     "metadata": {},
     "output_type": "execute_result"
    }
   ],
   "source": [
    "T = (x̄-μ₀)/(s/sqrt(n))"
   ]
  },
  {
   "cell_type": "code",
   "execution_count": 6,
   "metadata": {
    "collapsed": false
   },
   "outputs": [
    {
     "data": {
      "text/plain": [
       "0.2976031850939975"
      ]
     },
     "execution_count": 6,
     "metadata": {},
     "output_type": "execute_result"
    }
   ],
   "source": [
    "p = ccdf(H₀,T)"
   ]
  },
  {
   "cell_type": "markdown",
   "metadata": {},
   "source": [
    "Obtenemos el mismo resultado que utilizando `OneSampleTTest` de la biblioteca *HypothesisTests* de **Julia**:"
   ]
  },
  {
   "cell_type": "code",
   "execution_count": 7,
   "metadata": {
    "collapsed": false
   },
   "outputs": [
    {
     "name": "stderr",
     "output_type": "stream",
     "text": [
      "WARNING: Method definition call(Polynomials.Poly, Any) in module Polynomials at /home/dzea/.julia/v0.4/Polynomials/src/Polynomials.jl:302 overwritten in module CurveFit at /home/dzea/.julia/v0.4/CurveFit/src/linfit.jl:124.\n"
     ]
    }
   ],
   "source": [
    "using HypothesisTests"
   ]
  },
  {
   "cell_type": "code",
   "execution_count": 8,
   "metadata": {
    "collapsed": false
   },
   "outputs": [
    {
     "data": {
      "text/plain": [
       "One sample t-test\n",
       "-----------------\n",
       "Population details:\n",
       "    parameter of interest:   Mean\n",
       "    value under h_0:         0\n",
       "    point estimate:          0.03340626323236044\n",
       "    95% confidence interval: (-0.1274986082306569,0.19431113469537775)\n",
       "\n",
       "Test summary:\n",
       "    outcome with 95% confidence: fail to reject h_0\n",
       "    two-sided p-value:           0.595206370187995 (not significant)\n",
       "\n",
       "Details:\n",
       "    number of observations:   5\n",
       "    t-statistic:              0.5764316219335481\n",
       "    degrees of freedom:       4\n",
       "    empirical standard error: 0.05795355764887507\n"
      ]
     },
     "execution_count": 8,
     "metadata": {},
     "output_type": "execute_result"
    }
   ],
   "source": [
    "ttest = OneSampleTTest(muestra, 0)"
   ]
  },
  {
   "cell_type": "code",
   "execution_count": 9,
   "metadata": {
    "collapsed": false
   },
   "outputs": [
    {
     "data": {
      "text/plain": [
       "0.2976031850939975"
      ]
     },
     "execution_count": 9,
     "metadata": {},
     "output_type": "execute_result"
    }
   ],
   "source": [
    "pvalue(ttest, tail=:right)"
   ]
  },
  {
   "cell_type": "markdown",
   "metadata": {},
   "source": [
    "El *p value* depende de si el test es a una o dos colas, en este caso, como la distribución es simétrica alrededor del 0, es obvio que el *p value* para el test a dos colas es el doble del *p value* que obtuvimos. Pero calcular el *p value* a dos colas no es trivial, principalmente puede ser un problema para distribuciones asimétricas *(Kulinskaya, 2008; Agresti & Kateri, 2011)*. Pero en general se toma la idea de doblar el valor del P value menor al testear las dos opciones a una cola (es como si hiciéramos una [corrección de Bonferroni](https://en.wikipedia.org/wiki/Bonferroni_correction) al haber realizado dos pruebas).  \n",
    "\n",
    "*Kulinskaya, Elena. \"On two-sided p-values for non-symmetric distributions.\" arXiv preprint arXiv:0810.2124 (2008).*  \n",
    "*Agresti, Alan, and Maria Kateri. Categorical data analysis. Springer Berlin Heidelberg, 2011.*"
   ]
  },
  {
   "cell_type": "markdown",
   "metadata": {},
   "source": [
    "En particular, para una variable aleatoria $X$, que sigue una determinada distribución si $H_0$ es cierta, dado un estimador $x_0$, el *p value* es:"
   ]
  },
  {
   "cell_type": "markdown",
   "metadata": {},
   "source": [
    "$P(X \\geq x|H_0)$ prueba de una cola hacia la derecha (*right-tail event*) "
   ]
  },
  {
   "cell_type": "code",
   "execution_count": 10,
   "metadata": {
    "collapsed": false
   },
   "outputs": [
    {
     "data": {
      "text/plain": [
       "0.2976031850939975"
      ]
     },
     "execution_count": 10,
     "metadata": {},
     "output_type": "execute_result"
    }
   ],
   "source": [
    "p_right = pvalue(ttest, tail=:right)"
   ]
  },
  {
   "cell_type": "code",
   "execution_count": 11,
   "metadata": {
    "collapsed": false
   },
   "outputs": [
    {
     "name": "stdout",
     "output_type": "stream",
     "text": [
      "[Plots.jl] Initializing backend: pyplot\n"
     ]
    },
    {
     "data": {
      "text/html": [
       "<img src=\"data:image/png;base64,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\" />"
      ]
     },
     "execution_count": 11,
     "metadata": {},
     "output_type": "execute_result"
    }
   ],
   "source": [
    "using Plots\n",
    "pyplot(size=(400,200))\n",
    "\n",
    "PDF = plot(t -> pdf(H₀,t), -10, T, legend=false)\n",
    "plot!(PDF, t -> pdf(H₀,t), T, 10, fill=0)\n",
    "\n",
    "CCDF = plot(t -> ccdf(H₀,t), -10, 10, legend=false)\n",
    "scatter!(CCDF, [T], [p_right])\n",
    "\n",
    "plot(PDF, CCDF)"
   ]
  },
  {
   "cell_type": "markdown",
   "metadata": {},
   "source": [
    "$P(X \\leq x|H_0)$ prueba de una cola hacia la izquierda (*left-tail event*) "
   ]
  },
  {
   "cell_type": "code",
   "execution_count": 12,
   "metadata": {
    "collapsed": false
   },
   "outputs": [
    {
     "data": {
      "text/plain": [
       "0.7023968149060025"
      ]
     },
     "execution_count": 12,
     "metadata": {},
     "output_type": "execute_result"
    }
   ],
   "source": [
    "p_left = pvalue(ttest, tail=:left)"
   ]
  },
  {
   "cell_type": "code",
   "execution_count": 13,
   "metadata": {
    "collapsed": false
   },
   "outputs": [
    {
     "data": {
      "text/html": [
       "<img src=\"data:image/png;base64,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\" />"
      ]
     },
     "execution_count": 13,
     "metadata": {},
     "output_type": "execute_result"
    }
   ],
   "source": [
    "PDF = plot(t -> pdf(H₀,t),   T, 10, legend=false)\n",
    "plot!(PDF, t -> pdf(H₀,t), -10,  T, fill=0)\n",
    "\n",
    "CDF = plot(t -> cdf(H₀,t), -10, 10, legend=false)\n",
    "scatter!(CDF, [T], [p_left])\n",
    "\n",
    "plot(PDF, CDF)"
   ]
  },
  {
   "cell_type": "markdown",
   "metadata": {},
   "source": [
    "$2 min{P(X \\leq x|H_0), P(X \\geq x|H_0)}$ para el test a dos colas (*double-tailed event*)"
   ]
  },
  {
   "cell_type": "code",
   "execution_count": 14,
   "metadata": {
    "collapsed": false
   },
   "outputs": [
    {
     "data": {
      "text/plain": [
       "0.595206370187995"
      ]
     },
     "execution_count": 14,
     "metadata": {},
     "output_type": "execute_result"
    }
   ],
   "source": [
    "pvalue(ttest, tail=:both)"
   ]
  },
  {
   "cell_type": "code",
   "execution_count": 15,
   "metadata": {
    "collapsed": false
   },
   "outputs": [
    {
     "data": {
      "text/plain": [
       "0.595206370187995"
      ]
     },
     "execution_count": 15,
     "metadata": {},
     "output_type": "execute_result"
    }
   ],
   "source": [
    "2*min(p_left,p_right)"
   ]
  },
  {
   "cell_type": "code",
   "execution_count": 16,
   "metadata": {
    "collapsed": false
   },
   "outputs": [
    {
     "data": {
      "text/html": [
       "<img src=\"data:image/png;base64,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\" />"
      ]
     },
     "execution_count": 16,
     "metadata": {},
     "output_type": "execute_result"
    }
   ],
   "source": [
    "PDF = plot(t -> pdf(H₀,t), -T,  T, legend=false)\n",
    "plot!(PDF, t -> pdf(H₀,t), -10, -T, fill=0)\n",
    "plot!(PDF, t -> pdf(H₀,t),  T,  10, fill=0)\n",
    "\n",
    "CCDF = plot(t -> ccdf(H₀,t), -10, 10, legend=false)\n",
    "scatter!(CCDF, [-T, T], [p_left,p_right])\n",
    "\n",
    "plot(PDF, CCDF)"
   ]
  },
  {
   "cell_type": "markdown",
   "metadata": {},
   "source": [
    "Para facilitar ésto, la biblioteca **HypothesisTests** define la función `pvalue` para tomar directamente una distribución de probabilidad (no solamente un test estadístico), y calcular el *p value* para un determinado estadístico."
   ]
  },
  {
   "cell_type": "code",
   "execution_count": 17,
   "metadata": {
    "collapsed": false
   },
   "outputs": [
    {
     "data": {
      "text/plain": [
       "0.2976031850939975"
      ]
     },
     "execution_count": 17,
     "metadata": {},
     "output_type": "execute_result"
    }
   ],
   "source": [
    "pvalue(TDist(n-1), T, tail=:right)"
   ]
  },
  {
   "cell_type": "markdown",
   "metadata": {},
   "source": [
    "### Intervalo de confianza"
   ]
  },
  {
   "cell_type": "markdown",
   "metadata": {},
   "source": [
    "El [intervalo de confianza](https://en.wikipedia.org/wiki/Confidence_interval) es un tipo de estimador por intervalo para un parámetro de la población. Se calcula a partir de una o más muestras de la población, y posee un **nivel de confianza** que determina qué tan frecuentemente una serie de intervalos estimados de la misma manera contiene al parámetro poblacional. Es importante notar que el intervalo de confianza calculado a partir de una única muestra puede no contener al parámetro a estimar, pero aún así es una buena estimación intervalar del mismo. Así un intervalo con una confianza del 95%, significa que de un número `N` de intervalos calculados, `0.95N` contendrán al parámetro a estimar. No debe interpretarse nunca como un intervalo con una probabilidad del 95% de contener el parámetro."
   ]
  },
  {
   "cell_type": "markdown",
   "metadata": {},
   "source": [
    "El intervalo para una media se calcula utilizando el valor crítico de $t$ si la desviación estándar proviene de la muestra o $Z$ si se conoce la desviación estándar de la población. Los valores críticos son aquellos valores de $t$ o  $Z$ que dejan un área de $\\frac{\\alpha}{2}$ hacia la izquierda del menor valor crítico, y el mismo hacia la derecha (dejando un área $1-\\alpha$ en el intervalo)."
   ]
  },
  {
   "cell_type": "markdown",
   "metadata": {},
   "source": [
    "Así el valor crítico, utilizando la distribución T de Student con $n-1$ grados de libertad, para una confianza del 95% ($\\alpha = 5%$) puede calcularse con la función `quantile` de **Distributions**"
   ]
  },
  {
   "cell_type": "code",
   "execution_count": 18,
   "metadata": {
    "collapsed": false
   },
   "outputs": [
    {
     "data": {
      "text/plain": [
       "-2.7764451051977943"
      ]
     },
     "execution_count": 18,
     "metadata": {},
     "output_type": "execute_result"
    }
   ],
   "source": [
    "t_left = quantile(TDist(n-1),0.05/2)"
   ]
  },
  {
   "cell_type": "code",
   "execution_count": 19,
   "metadata": {
    "collapsed": false
   },
   "outputs": [
    {
     "data": {
      "text/plain": [
       "2.7764451051977934"
      ]
     },
     "execution_count": 19,
     "metadata": {},
     "output_type": "execute_result"
    }
   ],
   "source": [
    "t_right = quantile(TDist(n-1),1-0.05/2)"
   ]
  },
  {
   "cell_type": "markdown",
   "metadata": {},
   "source": [
    "Los valores son iguales en módulo dada la simetría de la distribución T de Student. Siendo $t$ ese módulo, el intervalo de confianza para la media de la población sería:"
   ]
  },
  {
   "cell_type": "markdown",
   "metadata": {},
   "source": [
    "$$(\\bar{x}-t\\frac{s}{\\sqrt{n}} , \\bar{x}+t\\frac{s}{\\sqrt{n}})$$"
   ]
  },
  {
   "cell_type": "code",
   "execution_count": 20,
   "metadata": {
    "collapsed": false
   },
   "outputs": [
    {
     "data": {
      "text/plain": [
       "0.05795355764887507"
      ]
     },
     "execution_count": 20,
     "metadata": {},
     "output_type": "execute_result"
    }
   ],
   "source": [
    "t  = abs(t_left)\n",
    "\n",
    "se = s/sqrt(n) # Error estándar de la media"
   ]
  },
  {
   "cell_type": "code",
   "execution_count": 21,
   "metadata": {
    "collapsed": false
   },
   "outputs": [
    {
     "data": {
      "text/plain": [
       "(-0.12749860823065695,0.1943111346953778)"
      ]
     },
     "execution_count": 21,
     "metadata": {},
     "output_type": "execute_result"
    }
   ],
   "source": [
    "( x̄ - t*se, x̄ + t*se )"
   ]
  },
  {
   "cell_type": "markdown",
   "metadata": {},
   "source": [
    "Para facilitar ésto, la biblioteca [**HypothesisTests**](http://hypothesistestsjl.readthedocs.io/en/latest/api/ci.html) define la función `ci`."
   ]
  },
  {
   "cell_type": "code",
   "execution_count": 22,
   "metadata": {
    "collapsed": false
   },
   "outputs": [
    {
     "data": {
      "text/plain": [
       "(-0.1274986082306569,0.19431113469537775)"
      ]
     },
     "execution_count": 22,
     "metadata": {},
     "output_type": "execute_result"
    }
   ],
   "source": [
    "ci(ttest) # usando ci de HypothesisTests sobre el T test"
   ]
  },
  {
   "cell_type": "markdown",
   "metadata": {},
   "source": [
    "#### Nivel de confianza"
   ]
  },
  {
   "cell_type": "code",
   "execution_count": 23,
   "metadata": {
    "collapsed": false
   },
   "outputs": [
    {
     "data": {
      "text/plain": [
       "50-element Array{Array{Float64,1},1}:\n",
       " [0.05370849525925448,0.12200590678537301] \n",
       " [0.061733954590428186,0.21340108511874195]\n",
       " [-0.03962945714559235,0.24093516872393994]\n",
       " [0.026228789145144246,0.21070427425013433]\n",
       " [-0.06657707816434284,0.22070131110907426]\n",
       " [0.04780439979890373,0.2173743448695662]  \n",
       " [0.045383976853836834,0.1398353766098675] \n",
       " [0.10861627378798407,0.1889241948124532]  \n",
       " [-0.0602795260500744,0.23882018163873242] \n",
       " [-0.07242811299966957,0.22216043454549034]\n",
       " [0.05781948386374648,0.24925817905609182] \n",
       " [0.0335293284228088,0.17310185828460095]  \n",
       " [0.04729970720435181,0.15289956196935056] \n",
       " ⋮                                         \n",
       " [-0.006815276679070503,0.1351368283197445]\n",
       " [0.03919941269963531,0.17114937070100386] \n",
       " [0.06395456278868136,0.1503656437294398]  \n",
       " [-0.03826356611009489,0.1975754773209939] \n",
       " [0.049226016041371654,0.1984508377905943] \n",
       " [0.00702854235309041,0.12631718944719725] \n",
       " [0.026178710886375557,0.1127029781589968] \n",
       " [0.015358793472262836,0.15989557383803438]\n",
       " [-0.004479815962252047,0.1153353778702918]\n",
       " [0.039960963958017806,0.20233773593086746]\n",
       " [0.04986084858216,0.30004251273020144]    \n",
       " [0.05587268819795144,0.16035326234511676] "
      ]
     },
     "execution_count": 23,
     "metadata": {},
     "output_type": "execute_result"
    }
   ],
   "source": [
    "n_experimentos = 50\n",
    "\n",
    "intervalos = map(1:n_experimentos) do N\n",
    "    muestra = rand(población, n)\n",
    "    t_test  = OneSampleTTest(muestra)\n",
    "    intervalo = ci(t_test, 0.1) # α = 0.1\n",
    "    [intervalo[1], intervalo[2]] # retorno un vector [inicio, fin]\n",
    "end"
   ]
  },
  {
   "cell_type": "code",
   "execution_count": 24,
   "metadata": {
    "collapsed": false
   },
   "outputs": [
    {
     "data": {
      "text/plain": [
       "2x50 Array{Float64,2}:\n",
       " 0.0537085  0.061734  -0.0396295  …  0.039961  0.0498608  0.0558727\n",
       " 0.122006   0.213401   0.240935      0.202338  0.300043   0.160353 "
      ]
     },
     "execution_count": 24,
     "metadata": {},
     "output_type": "execute_result"
    }
   ],
   "source": [
    "intervalos = hcat(intervalos...)"
   ]
  },
  {
   "cell_type": "code",
   "execution_count": 25,
   "metadata": {
    "collapsed": false
   },
   "outputs": [
    {
     "data": {
      "text/html": [
       "<img src=\"data:image/png;base64,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\" />"
      ]
     },
     "execution_count": 25,
     "metadata": {},
     "output_type": "execute_result"
    }
   ],
   "source": [
    "plot(intervalos, hcat(map(N -> [N,N],1:n_experimentos)...), size=(300,300), legend=false, c=:gray)\n",
    "vline!([μ])"
   ]
  },
  {
   "cell_type": "code",
   "execution_count": 26,
   "metadata": {
    "collapsed": false
   },
   "outputs": [
    {
     "data": {
      "text/plain": [
       "50-element Array{Any,1}:\n",
       "  true\n",
       "  true\n",
       "  true\n",
       "  true\n",
       "  true\n",
       "  true\n",
       "  true\n",
       " false\n",
       "  true\n",
       "  true\n",
       "  true\n",
       "  true\n",
       "  true\n",
       "     ⋮\n",
       "  true\n",
       "  true\n",
       "  true\n",
       "  true\n",
       "  true\n",
       "  true\n",
       "  true\n",
       "  true\n",
       "  true\n",
       "  true\n",
       "  true\n",
       "  true"
      ]
     },
     "execution_count": 26,
     "metadata": {},
     "output_type": "execute_result"
    }
   ],
   "source": [
    "contiene_μ = [ intervalos[1,i] ≤ μ ≤ intervalos[2,i] for i in 1:n_experimentos ]"
   ]
  },
  {
   "cell_type": "code",
   "execution_count": 27,
   "metadata": {
    "collapsed": false
   },
   "outputs": [
    {
     "data": {
      "text/plain": [
       "0.96"
      ]
     },
     "execution_count": 27,
     "metadata": {},
     "output_type": "execute_result"
    }
   ],
   "source": [
    "mean(contiene_μ) # ~ 90% ( α = 0.1, confianza = 1 - α = 0.9 )"
   ]
  },
  {
   "cell_type": "markdown",
   "metadata": {},
   "source": [
    "### Bootstrap"
   ]
  },
  {
   "cell_type": "markdown",
   "metadata": {},
   "source": [
    "<a href=”https://en.wikipedia.org/wiki/Bootstrapping_(statistics)”>**Bootstrap**</a> nos permite obtener estimaciones puntuales o por intervalos, en particular, intervalos de confianza, para parámetros poblacionales sin necesidad de conocer la distribución subyacente.  \n",
    "Básicamente la técnica de *bootstrap* se basa en hacer un muestreo aleatorio con reemplazo de nuestra muestra (<a href=\"https://en.wikipedia.org/wiki/Resampling_(statistics)\">remuestreo</a>), calculando el parámetro de interés en cada muestra. La muestra de la que se parte debe ser una muestra representativa, en particular debe complir con ser una muestra de valores [independientes e idénticamente distribuidos (*iid*)](https://en.wikipedia.org/wiki/Independent_and_identically_distributed_random_variables). Si bien la distribución de la variable de interés en la población no forma parte de las asunciones del método, una implementación *naïve* puede generar resultados incorrectos con [distribuciones con colas pesadas](https://en.wikipedia.org/wiki/Heavy-tailed_distribution). *Bootstrap* también puede presentar problemas con distribuciones discretas y poco densas."
   ]
  },
  {
   "cell_type": "code",
   "execution_count": 40,
   "metadata": {
    "collapsed": false
   },
   "outputs": [
    {
     "data": {
      "text/html": [
       "<img src=\"data:image/png;base64,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\" />"
      ]
     },
     "execution_count": 40,
     "metadata": {},
     "output_type": "execute_result"
    }
   ],
   "source": [
    "# Se hacen muchos remuestreos\n",
    "medias = map(1:10_000) do i\n",
    "\n",
    "    # Se toma una muestra al azar (con reemplazo) del mismo tamaño que la muestra\n",
    "    resampling = sample(muestra, replace=true, n)\n",
    "    \n",
    "    # Se calcula el estadístico de interés\n",
    "    mean(resampling)    \n",
    "    \n",
    "end\n",
    "\n",
    "# Bootstrap distribution of the statistic\n",
    "histogram(medias, legend=false)"
   ]
  },
  {
   "cell_type": "code",
   "execution_count": 61,
   "metadata": {
    "collapsed": false
   },
   "outputs": [
    {
     "data": {
      "text/plain": [
       "2-element Array{Float64,1}:\n",
       " -0.0550454\n",
       "  0.117505 "
      ]
     },
     "execution_count": 61,
     "metadata": {},
     "output_type": "execute_result"
    }
   ],
   "source": [
    "quantile(medias,[0.05,0.95]) # α = 0.05 + 0.95 = 0.1, confianza = 1 - α = 0.9"
   ]
  },
  {
   "cell_type": "markdown",
   "metadata": {},
   "source": [
    "A pesar de que ésta implementación *naïve* es super sencilla, la biblioteca [**Bootstrap**](http://bootstrapjl.readthedocs.io/en/release/) de *Julia* ofrece herramientas para facilitar el proceso de *bootstraping*, así como implementaciones más complejas para reducir el error en algunas situaciones. Herramientas similares son ofrecidas por la biblioteca *boot* de *R*."
   ]
  },
  {
   "cell_type": "code",
   "execution_count": 28,
   "metadata": {
    "collapsed": false
   },
   "outputs": [
    {
     "name": "stderr",
     "output_type": "stream",
     "text": [
      "WARNING: using Bootstrap.se in module Main conflicts with an existing identifier.\n",
      "WARNING: using Bootstrap.ci in module Main conflicts with an existing identifier.\n"
     ]
    }
   ],
   "source": [
    "using Bootstrap"
   ]
  },
  {
   "cell_type": "code",
   "execution_count": 54,
   "metadata": {
    "collapsed": false
   },
   "outputs": [
    {
     "data": {
      "text/plain": [
       "Bootstrap Sampling\n",
       "  Estimate: 0.033406\n",
       "  Bias:     -0.00043765\n",
       "  StdError: 0.051921\n",
       "  Samples:  10000\n",
       "  Method:   basic\n",
       "  Data:     Array{Float64,1}: { 5 }\n"
      ]
     },
     "execution_count": 54,
     "metadata": {},
     "output_type": "execute_result"
    }
   ],
   "source": [
    "bootstrap = boot_basic(muestra, mean, 10_000)"
   ]
  },
  {
   "cell_type": "code",
   "execution_count": 60,
   "metadata": {
    "collapsed": false
   },
   "outputs": [
    {
     "data": {
      "text/plain": [
       "Bootstrap Confidence Interval\n",
       "  Estimate: 0.033406\n",
       "  Interval: [-0.05504543869956546,0.12185796516428636]\n",
       "  Level:    0.9\n",
       "  Method:   basic\n"
      ]
     },
     "execution_count": 60,
     "metadata": {},
     "output_type": "execute_result"
    }
   ],
   "source": [
    "ci_basic(bootstrap, 0.9) # α = 0.1, confianza = 0.9"
   ]
  },
  {
   "cell_type": "markdown",
   "metadata": {},
   "source": [
    "Una ventaja de hacerlo con estas bibliotecas es que podemos tener intervalos de confianza con corrección del sesgo, *BCa*:"
   ]
  },
  {
   "cell_type": "code",
   "execution_count": 71,
   "metadata": {
    "collapsed": false
   },
   "outputs": [
    {
     "data": {
      "text/plain": [
       "Bootstrap Confidence Interval\n",
       "  Estimate: 0.033406\n",
       "  Interval: [-0.058702466191327435,0.10915386006412706]\n",
       "  Level:    0.9\n",
       "  Method:   bca\n"
      ]
     },
     "execution_count": 71,
     "metadata": {},
     "output_type": "execute_result"
    }
   ],
   "source": [
    "ci_bca(bootstrap, 0.9) # Bias-Corrected and accelerated (BCa) "
   ]
  },
  {
   "cell_type": "markdown",
   "metadata": {},
   "source": [
    "##### Referencias\n",
    "\n",
    "- *Efron, B. (1992). Bootstrap methods: another look at the jackknife. In Breakthroughs in Statistics (pp. 569-593). Springer New York.* [link](http://projecteuclid.org/euclid.aos/1176344552)\n",
    "- *Gleason, J. R. (1988). Algorithms for balanced bootstrap simulations. The American Statistician, 42(4), 263-266.*  \n",
    "- *Carpenter, J., & Bithell, J. (2000). Bootstrap con\" dence intervals: when, which, what? A practical guide for medical statisticians.* [link](http://www.tau.ac.il/~saharon/Boot/10.1.1.133.8405.pdf)\n",
    "- *Singh, K., & Xie, M. (2008). Bootstrap: a statistical method. Unpublished manuscript, Rutgers University, USA.* [link](http://www.stat.rutgers.edu/home/mxie/stat586/handout/Bootstrap1.pdf)"
   ]
  },
  {
   "cell_type": "markdown",
   "metadata": {
    "collapsed": true
   },
   "source": [
    "### Prueba de bondad de ajuste a una distribución."
   ]
  },
  {
   "cell_type": "markdown",
   "metadata": {},
   "source": [
    "Muchas veces es necesario saber cuando los datos de una muestra se ajustan a una determinada distribución. En ese sentido uno se puede preguntar si la distribución observada (en general, para una muestra) es igual, o no, a una distribución esperada (en general, para la población). Para testear ésto, disponemos de las siguientes pruebas:"
   ]
  },
  {
   "cell_type": "markdown",
   "metadata": {},
   "source": [
    "#### Prueba χ²"
   ]
  },
  {
   "cell_type": "markdown",
   "metadata": {},
   "source": [
    "La [prueba χ²](http://www.itl.nist.gov/div898/handbook/eda/section3/eda35f.htm) se puede utilizar para testear la bondad de ajuste de cualquier distribución univariada para la cual se pueda calcular la *CDF*. Dado que requiere datos en grupos, por lo que puede utilizarse para testear distribución para datos categóricos (a diferencia de  *KS*) [*(McDonald, J.H. 2014. Handbook of Biological Statistics)*](http://www.biostathandbook.com/chigof.html). Para poder utilizar el test en una distribución de probabilidad para datos continuos, debemos [discretizar/agrupar](https://en.wikipedia.org/wiki/Data_binning) los datos de la misma manera en que lo hacemos al calcular un [histograma](https://en.wikipedia.org/wiki/Histogram). Debemos tener en cuenta q el test es sensible a la elección de los *bins*. "
   ]
  },
  {
   "cell_type": "code",
   "execution_count": 396,
   "metadata": {
    "collapsed": false
   },
   "outputs": [
    {
     "data": {
      "text/plain": [
       "Distributions.Binomial(n=100, p=0.05)"
      ]
     },
     "execution_count": 396,
     "metadata": {},
     "output_type": "execute_result"
    }
   ],
   "source": [
    "población = Binomial(100, 0.055)\n",
    "expected  = Binomial(100, 0.05 ) # H₀: expected == observed"
   ]
  },
  {
   "cell_type": "code",
   "execution_count": 397,
   "metadata": {
    "collapsed": false
   },
   "outputs": [
    {
     "data": {
      "text/html": [
       "<img src=\"data:image/png;base64,iVBORw0KGgoAAAANSUhEUgAAAZAAAADICAYAAADGFbfiAAAABHNCSVQICAgIfAhkiAAAAAlwSFlzAAAPYQAAD2EBqD+naQAAGLVJREFUeJzt3X9sVWf9B/B3W+ZYDVG2TvsDOu7ibekvLi1VVlasbMosLAcUCT/SZf0Bi0qZDaQ4NmbLzGbYjLK0HUMt0uBWmE3WwaKGNJsk3UI7ua3RpKwVsc12L8GCxuKtyNXz/aNyv9z+AHp6n/M85zzvV3Kz9Kz3PJ/3zjnPZ6fnnnPjTNM0QURENE3xsgsgIiJnYgMhIiJL2ECIiMgSNhAiIrKEDYSIiCxhAyEiIktmiVpxMBhEMBgUtXoiIhIsJSUFKSkpU/+CKUAgEDBLSkpMAHzxxRdffDn0VVJSYgYCgSnneiFnIMFgEKdOncIvfvELZGVlTeu9NTU12L9/v4iylOGUjH19fSgrKwPW1AP3eOwZ9NJ54K16S/uO3ZyyHWeCGd3BSsbrx38wGJzyLETYn7AAICsrCwUFBdN6T2Ji4rTf4zSOy5hbCtyXb89Ygz3AW/WW9h27OW47WsCM7iAqo3IX0Xt7e2WXIJwOGXWgw3ZkRncQlVG5BpKZmSm7BOF0yKgDHbYjM7qDqIzKNZBPfepTsksQToeMOtBhOzKjO4jKqFwD2bRpk+wShNMhow502I7M6A6iMrKBSKBDRh3osB2Z0R20aSDNzc2ySxBOh4w60GE7MqM7iMqoXAPx+/2ySxBOh4w60GE7MqM7iMoo9D4QK5qammSXIJwOGWeqr6/PtrHmzJkDr9c77ffpsB2Z0R1EZVSugZDmLg8BwNgd8Dbq7++31ESIdMYGQmq5Ghr7Z9VhINmGR5lc6AOayzEyMiJ+LCKXYQMhNSVn2ff4FCKyRLmL6IZhyC5BOB0y6kCH7ciM7iAqo3INpLq6WnYJwumQUQc6bEdmdAdRGZVrICtXrpRdgnA6ZNSBDtuRGd1BVEblGggRETkDGwgREVmiXANpb2+XXYJwOmTUgQ7bkRndQVRG5RpIa2ur7BKE0yGjDnTYjszoDqIyKtdAjh07JrsE4XTIqAMdtiMzuoOojMo1ECIicgY2ECIisoQNhIiILIkHgJGREeTl5WFoaOxJqLt374bH40F+fj7y8/Nx4MABAEBvby8KCwuRmZmJLVu2IBwOx7ygioqKmK9TNTpk1IEO25EZ3UFUxviuri4sX74cAwMDkYUffPAB2tvb0dPTg56eHnzrW98CMPaI7YaGBnz44YcAgFdffTXmBfGuUHIKHbYjM7qDsDvRDx48iMbGRqSkpAAATNNET08Pvve978Hn86Gmpgb//ve/MTg4iNHRURQVFQEAysvL0dbWFvOC+P3E5BQ6bEdmdAdRGWcdOnQoasGlS5ewbNky7N+/H+np6aisrMTzzz+P0tJSpKamRn4vOTkZwWBQSFFEdnPCNyASqWbC94EkJSXhxIkTkZ937NiByspKfPWrX53w5vh4XoMnh+M3IBJZNqEDnDt3DkeOHIn8HA6HMWvWLKSlpeHChQuR5cFgMOqMZDKrVq2CYRhRr6Kiogm31Z88eTLyvPrOzs7I8m3btqG5uTnqd/1+PwzDwPDwcNTyuro67Nu3L2rZ0NAQDMPA2bNno5Y3NDSgtrY2alkoFIJhGFHjA2N3cE52AWrDhg03zXGj8Tk6OzsdmcOVbvwGxGe6xL+qDgMAfvnLX8Z8vwJif3xc34/sPD5E5LhushydnZ2uyAFMvT0efvjhm+ZobW2NzNEejweLFy9GTU3NhPWMF2eapgkAHo8Hp06dAgAsWbIEfr8f8+bNQ0VFBbKysvDd734XeXl5OHDgAIqLi1FVVYXs7Gzs3Llzwkr9fj+WLFmCM2fOoKCg4JZF3MgwDBw/fnxa73Eap2S8vh3xTJd93w54uhU49Lh9Y9o93mAP8PxSS8eGDE7ZV2eCGSd3O/P4hDOQ9PR0vPzyyygtLcXChQtxxx13RJrEa6+9hp07dyIrKwtXr17Fk08+aSHKzR09ejTm61SNDhnJHXTYV5nRusg1kPPnz0cWbt68GZs3b57wy4sWLUJXV5eQQq5LTEwUun4V6JCR3EGHfZUZreNVcCIisoQNhIiILFGugYz/tIEb6ZCR3EGHfZUZrVOugaSnp8suQTgdMpI76LCvMqN1yjWQ7du3yy5BOB0ykjvosK8yo3XKNRAiInIGNhAiIrJEuQYy/jZ+N9IhI7mDDvsqM1qnXAPZtWuX7BKE0yEjuYMO+yozWqdcA2lsbJRdgnA6ZCR30GFfZUbrlGsg/EgdkTp02FeZ0TrlGggRETkDGwgREVmiXAMZ/yUrbqRDRnIHHfZVZrROuQYSCoVklyCcDhnJHXTYV5nROuUayN69e2WXIJwOGckddNhXmdE65RoIERE5AxsIERFZolwDGR4ell2CcDpkJHfQYV9lRuuUayCVlZWySxBOh4zkDjrsq8xonXINpL6+XnYJwumQkdxBh32VGa1TroEUFBTILkE4HTKSO+iwrzKjdbOErJWIbqqvr8/W8ebMmQOv12vrmOR+bCBEdro8BAAoKyuzfej+/n42EYop5RpIc3MzqqqqZJchlA4ZaQpX/3dHcNVhIDnLnjEv9AHN5RgZGZn2W3XYV5nROuUaiN/vd/3G1CEj3UJyFnBfvuwqbkmHfZUZrVPuInpTU5PsEoTTISO5gw77KjNap1wDISIiZ2ADISIiS9hAiIjIEuUaiGEYsksQToeM5A467KvMaJ1yDaS6ulp2CcLpkJHcQYd9lRmtU66BrFy5UnYJwumQkdxBh32VGa1T7j4QurmBgQFLN4RZYffjNojIWdhAHGRgYAAZGRmyyyAiAqBgA2lvb8fatWtllyGU1YyRMw+7HoPxx18Db9WLH4eUxePRHURlVK6BtLa2un5jzjijXY/BCJ4VPwYpjcejO4jKqNxF9GPHjskuQTgdMpI76LCvMqN1yjUQIiJyBjYQIiKyJB4Yuzibl5eHoaGxL7vp6OiAz+dDRkYG9uzZE/nl3t5eFBYWIjMzE1u2bEE4HJZTNRERSRff1dWF5cuXY2BgAAAwOjqKyspKtLe3o6+vD7/73e/w9ttvAxj7FrWGhgZ8+OGHAIBXX3015gVVVFTEfJ2q0SEjuYMO+yozWhd/8OBBNDY2IiUlBQDQ3d0Nr9cLj8eDhIQElJWVoa2tDUNDQxgdHUVRUREAoLy8HG1tbTEviHeFEqlDh32VGa2bdejQocgPpmkiEAggNTU1siw5ORnBYHDK5bG2adOmmK9TNTpkJHfQYV9lRutu6yJ6fHw8TNOcdDkREekpqgPExcUhLS0NFy5ciCwLBoNIS0ubdPmNZySTWbVqFQzDiHoVFRWhvb096vdOnjw56eOGt23bhubm5qhlfr8fhmFgeHg4anldXR327dsXtWxoaAiGYeDs2egb4hoaGlBbWxu1LBQKwTAMdHZ2Ri1vbW2d9O+HGzZssD3H+fPnJ6yb6HYdPnw46me3HR/MYT1Ha2trZI72eDxYvHgxampqJqxnvDjzf6cWHo8Hp06dwmc+8xl4vV688847uP/++7F69Wps3boV69atQ15eHg4cOIDi4mJUVVUhOzsbO3funLBSv9+PJUuW4MyZMygoKLhlETfq7OxEcXHxtN7jNFYzXv/vime67LkT/XQrcOhx+8aTMabbxwOAwR7g+aU8HqfAjJO7nXl8wt+gZs+ejZaWFqxfvx7Z2dnIycnBunXrAACvvfYadu7ciaysLFy9ehVPPvmkhSg39+KLL8Z8narRISO5gw77KjNaF3kW1o1/HnnooYfQ29s74ZcXLVqErq4uIYVcd/ToUaHrV4EOGckddNhXmdE65a6CJyYmyi5BOB0ykjvosK8yo3XKNRAiInIG5R7nTkRi2PkNk3PmzIHX67VtPJJDuQZSW1uLl156SXYZQumQkRRyeewZd2VlZbYO29/f74gmosPxKCqjcg0kPT1ddgnC6ZCRFHI1NPZPu77J8kIf0Fz+/9+gqTgdjkdRGZVrINu3b5ddgnA6ZCQF2fVNlg6jw/EoKiMvohMRkSVsIEREZIlyDWT8c2DcSIeMRE6hw/EoKqNyDWTXrl2ySxBOh4xETqHD8Sgqo3INpLGxUXYJwumQkcgpdDgeRWVUroHwI3VEZCcdjkdRGZVrIERE5AxsIEREZIlyDWT8t3S5kQ4ZiZxCh+NRVEblGkgoFJJdgnA6ZCRyCh2OR1EZlWsge/fulV2CcDpkJHIKHY5HURmVayBEROQMbCBERGSJcg1keHhYdgnC6ZCRyCl0OB5FZVSugVRWVsouQTgdMhI5hQ7Ho6iMyjWQ+vp62SUIp0NGIqfQ4XgUlVG5BlJQUCC7BOF0yEjkFDocj6IyKtdAiIjIGdhAiIjIEuUaSHNzs+wShNMhI5FT6HA8isqoXAPx+/2ySxBOh4xETqHD8Sgqo3INpKmpSXYJwumQkcgpdDgeRWVUroEQEZEzsIEQEZElbCBERGSJcg3EMAzZJQinQ0Yip9DheBSVUbkGUl1dLbsE4XTISOQUOhyPojIq10BWrlwpuwThdMhI5BQ6HI+iMs4SslZNDAwMYGRkxLbx+vr6bBuLiOhW2EAsGhgYQEZGhuwyiIikUa6BtLe3Y+3atbLLuKXImUfVYSA5y55B//hr4K16e8Yi0oRT5pyZEJVRuQbS2trqrI2ZnAXcl2/PWMGz9oxDpBHHzTkWiMqo3EX0Y8eOyS6BiDSiw5wjKqNyDYSIiJxhygayadMmZGZmIj8/H/n5+Whvb0dHRwd8Ph8yMjKwZ88eO+skIiLFTHkN5MyZM+ju7sanP/1pAMDo6CgyMzNx6tQppKenY/Xq1Xj77bfx6KOP2lYsERGpY9IzkEuXLuGvf/0rNm7cCJ/Ph+eeew7d3d3wer3weDxISEhAWVkZ2traYl5QRUVFzNdJRDQVHeYcURknPQO5ePEivvKVr+CVV17BJz/5SRiGgVmzZiE1NTXyO8nJyQgGgzEvSIe7QolIHTrMOaIyTnoGkpWVhTfeeANJSUm46667UF1djWeffRZxcXHRb46P/TX4TZs2xXydRERT0WHOEZVx0g7g9/tx/PjxyM/hcBglJSVRZxzBYDDqjGQyq1atgmEYUa+ioiK0t7dH/d7JkycnfVrktm3bJnyXr9/vh2EYGB4ejlpeV1eHffv2RS0bGhqCYRg4ezb6/omGhgbU1tZGLQuFQjAMA52dnVHLW1tbJz39e+qpp6ZITUQA8O6770b97MTjfMOGDa6Yr26Vo7W1NTJHezweLF68GDU1NRPWM16caZrm+IWnT5/G5s2b0dvbi9mzZ+PRRx9FZWUlamtr8c477+D+++/H6tWrsXXrVqxbt27CSv1+P5YsWYIzZ86goKDglkU40fWMeKbLvhsJT7cChx63b0y7x5MxptvHkzHmYA/w/FJXH/86uJ15fNIzkAceeADV1dV44IEHkJubi89//vPYuHEjWlpasH79emRnZyMnJ2fS5jFT4zsqEZFIOsw5ojJO+THeHTt2YMeOHVHLHnroIfT29gop5LoXX3wRxcXFQscgIrpOhzlHVEbl7kQ/evSo7BKISCM6zDmiMirXQBITE2WXQEQa0WHOEZVRuQZCRETOwAZCRESWKPd9ILW1tXjppZdkl0FEM2T3VzDPmTMHXq932u/TYc4RlVG5BpKeni67BCKaictDAICysjLbh+7v7592E9FhzhGVUbkGsn37dtklENFMXA2N/dPOr3u+0Ac0l///V01Pgw5zjqiMyjUQInIJO7/umaTgRXQiIrJEuQYy/kFiREQi6TDniMqoXAPZtWuX7BKISCM6zDmiMirXQBobG2WXQEQa0WHOEZVRuQaiw0fqiEgdOsw5ojIq10CIiMgZ2ECIiMgS5RrI+K95JCISSYc5R1RG5RpIKBSSXQIRaUSHOUdURuXuRN+7d6/sEojIoaw8wHHNmjXw+/3Tfp/VhzfKIGpeVa6BEBFNm6QHOFp5eKObsIEQkfPZ/QDHGTy80U2UayDDw8NISkqSXQYROREf4DgpUfOqchfRKysrZZdAROQqouZV5RpIfX297BKIiFxF1LyqXAMpKCiQXQIRkauImleVayBEROQMbCBERGSJcg2kublZdglERK4ial5VroFYuSOUiIimJmpeVe4+kKamJtklEBHdFiuPTpkJq49PETWvKtdAZmJgYMC2O0Pt3nGISCGSHp0CqPX4FNc0kIGBAWRkZMgug4h0YPejUwAlH5/imgYS+Y9q1wb946+Bt+rFj0NE6tL80SnKNRDDMHD8+HHrK7BrgwbPih+DiCgGZjyvTkG5T2FVV1fLLoGIyFVEzavKNZCVK1fKLoGIyFVEzavK/QmLiIimZtcnQG9nHDYQIiInkPjR4ako10Da29uxdu1a2WUQEanF7o8O38YnTZVrIPv27WMDISKaikKfNLV0Ef31119HTk4OvF5vzG+Rv/fee2O6PiIiEmPaZyAff/wxnn76afT09ODOO+/EsmXLUFJSgtzcXBH1ERGRoqZ9BtLR0YEvf/nLmDt3LhITE/GNb3wDbW1tImojIiKFTfsMJBgMIiUlJfJzSkoKuru7J/3d3//+9/jXv/41rfVfvnwZ77///nTLwp/+9Kdpv4eIiKybdgMxTXPCsvj4yU9kKisrp18RgAcffNDS+wCMfXLAjseMnHvP3vFkjMmMzh9PxpjM6I4xr493M+Y0tbS0mFu2bIn8/Nxzz5nf//73o34nEAiYCxcuNAHwxRdffPHl0NfChQvNQCAwZT+IMyc7pbiJQCCABx98EN3d3UhMTMSyZcvQ3NyMwsLCqN8LBoMIBoPTWTURESkkJSUl6pLFeNP+E1ZqaipeeOEFrFixAteuXcPWrVsnNI/bGZiIiJxt2mcgREREgIJP4yUiImdgAyEiIkuUaiAiH5Giih/96EfIzc1FXl4eKisrce3aNdklCVNbW4uKigrZZQhx4sQJFBYWIjs7GzU1NbLLibmWlhbk5OQgNzcXtbW1ssuJqZGREeTl5WFoaOzpth0dHfD5fMjIyMCePXskVxcb4zO+/vrr8Pl88Pl8+PrXv46///3vsRlouh/jFeWjjz4y77vvPvPy5cvmP//5T9Pn85l/+MMfZJcVU11dXWZeXp4ZCoVM0zTNxx57zPzxj38suSoxOjo6zHvvvdesqKiQXUrMnTt3zkxLSzMDgYAZDofNL37xi+avfvUr2WXFzJUrV8y5c+ealy5dMsPhsLl06VKzo6NDdlkxcfr0adPn85l33nmnOTg4aIZCIXP+/Pnmn//8ZzMcDpuPPPKIeeLECdllzsj4jB999JE5b948c3h42DRN03zmmWfM73znOzEZS5kzEB0ekXL33XejqakJd911FwBg0aJFkf9DcJPLly9jz549ePrppye98dTp3nzzTWzcuBEpKSlISEjA0aNHsXTpUtllxUxcXBzuuOMOXLlyBdeuXUM4HEZiYqLssmLi4MGDaGxsjHxCtLu7G16vFx6PBwkJCSgrK3P8vDM+Y0JCAn7yk5/gnnvuAQAsXrw4ZvOOMg1kskekuO0+ks997nNYvnw5AODixYtoamrCmjVrJFcVe9/85jfxwgsvYO7cubJLEeLcuXP4z3/+g9LSUvh8Przyyiu4++67ZZcVM4mJidi9ezcWLlyIefPmYcGCBSgqKpJdVkwcOnQIxcXFAADTNBEIBJCamhr598nJyY6fd27MCIxlKi0tBQCEQiH84Ac/iNm8o0wDmez/VKd6RIrT/eUvf8GKFSvwxBNPoKSkRHY5MfWzn/0M8+fPx4oVK1x59gEA165dw29+8xscOXIEXV1d6OrqQktLi+yyYua9997DT3/6UwwNDSEQCAAAfvjDH0quyj5unXcuXbqERx55BIWFhXj88cdjsk5l/kulpaXhwoULkZ8DgQDS0tIkViRGb28viouL8e1vfxu7d++WXU7MvfHGGzh58iTy8/NRV1eH48ePu+4ic0pKCh5++GEkJSVh9uzZ+NrXvjblA0Wd6P3330dpaSmSkpLwiU98AuXl5fjtb38ru6yYi4uLmzDvBIPBqDMStxgcHERxcTGKi4tx8ODB2K04JldSYuDjjz82FyxYYF68eNG8cuWKuWjRIvODDz6QXVZMXbx40fzsZz9rvvnmm7JLscXhw4fN8vJy2WXEXFdXl+n1es2//e1vZjgcNg3DMJubm2WXFTPvvvuumZuba/7jH/8w//vf/5pPPPGEWVdXJ7usmFqwYIE5ODhojo6OmvPmzTP7+/sjF9Hb2tpklxcTN2bMzMw0X3755ZiPocwZyI2PSCkoKMBjjz026SNSnGz//v24cuUK9u7di/z8fOTn5+PZZ5+VXZZQcXFxskuIuS984QvYvXs3li9fjpycHMyfP99VH1f+0pe+hPLychQWFsLn8yEcDuOpp56SXZYQs2fPRktLC9avX4/s7Gzk5ORg3bp1ssuKievH3pEjR3Du3Dn8/Oc/j8w7VVVVsRnDNF36h2oiIhJKmTMQIiJylv8DjOc9CXE+DvUAAAAASUVORK5CYII=\" />"
      ]
     },
     "execution_count": 397,
     "metadata": {},
     "output_type": "execute_result"
    }
   ],
   "source": [
    "observed = rand(población, 1000) # muestra\n",
    "\n",
    "histogram(observed, legend=false, bins=-0.5:1:maximum(observed))"
   ]
  },
  {
   "cell_type": "code",
   "execution_count": 398,
   "metadata": {
    "collapsed": false
   },
   "outputs": [
    {
     "data": {
      "text/html": [
       "<img src=\"data:image/png;base64,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\" />"
      ]
     },
     "execution_count": 398,
     "metadata": {},
     "output_type": "execute_result"
    }
   ],
   "source": [
    "using StatsBase\n",
    "cdf_observed = ecdf(observed)\n",
    "\n",
    "scatter( 0:1:maximum(observed),      cdf_observed,     alpha=0.7, label=\"observed\")\n",
    "scatter!(0:1:maximum(observed), x -> cdf(expected, x), alpha=0.7, label=\"expected\")"
   ]
  },
  {
   "cell_type": "markdown",
   "metadata": {},
   "source": [
    "Dadas $k$ categorías, para la categoría $i$, $O_i$ representa la frecuencia observada para esa categoría, mientras $E_i$ representa la frecuencia esperada (nuestra hipótesis nula). "
   ]
  },
  {
   "cell_type": "markdown",
   "metadata": {},
   "source": [
    "$$ χ^{2} = \\sum_{i=1}^{k}{\\frac{(O_i - E_i)^{2}}{E_i}} $$"
   ]
  },
  {
   "cell_type": "markdown",
   "metadata": {},
   "source": [
    "Ésta última, en el caso de haber generado *bins* para una variable continua, la calculamos usando la *CDF* evaluada en el extremo superior *bin*, menos su valor en el extremo inferior del *bin*. N es el tamaño de la muestra."
   ]
  },
  {
   "cell_type": "markdown",
   "metadata": {},
   "source": [
    "$$Ei=N(CDF(X_f)−CDF(X_i))$$"
   ]
  },
  {
   "cell_type": "code",
   "execution_count": 399,
   "metadata": {
    "collapsed": false
   },
   "outputs": [
    {
     "data": {
      "text/plain": [
       "101-element Array{Float64,1}:\n",
       "   5.92053     \n",
       "  31.1607      \n",
       "  81.1818      \n",
       " 139.576       \n",
       " 178.143       \n",
       " 180.018       \n",
       " 150.015       \n",
       " 106.026       \n",
       "  64.8709      \n",
       "  34.9013      \n",
       "  16.7159      \n",
       "   7.19823     \n",
       "   2.80983     \n",
       "   ⋮           \n",
       "   1.3015e-99  \n",
       "   8.37223e-102\n",
       "   4.84224e-104\n",
       "   2.49314e-106\n",
       "   1.12876e-108\n",
       "   4.42402e-111\n",
       "   1.47059e-113\n",
       "   4.03122e-116\n",
       "   8.74926e-119\n",
       "   1.40965e-121\n",
       "   1.49884e-124\n",
       "   7.88861e-128"
      ]
     },
     "execution_count": 399,
     "metadata": {},
     "output_type": "execute_result"
    }
   ],
   "source": [
    "N  = length(observed)\n",
    "Oᵢ = Float64[ sum(observed .== x) for x in 0:1:100 ]\n",
    "Eᵢ = Float64[ pdf(expected,x) for x in 0:1:100 ] .* N"
   ]
  },
  {
   "cell_type": "code",
   "execution_count": 400,
   "metadata": {
    "collapsed": false
   },
   "outputs": [
    {
     "data": {
      "text/plain": [
       "79.9805058015647"
      ]
     },
     "execution_count": 400,
     "metadata": {},
     "output_type": "execute_result"
    }
   ],
   "source": [
    "χ² = sum( ( (Oᵢ .- Eᵢ) .^ 2 ) ./ Eᵢ )"
   ]
  },
  {
   "cell_type": "code",
   "execution_count": 401,
   "metadata": {
    "collapsed": false
   },
   "outputs": [
    {
     "data": {
      "text/plain": [
       "0.9077951854310389"
      ]
     },
     "execution_count": 401,
     "metadata": {},
     "output_type": "execute_result"
    }
   ],
   "source": [
    "k = 101 # Número de bins/categorías\n",
    "c = 2 + 1 # Parámetros estimados para la distribución más uno\n",
    "# k - c grados de libertad\n",
    "# Se testea a una cola, a la derecha χ²\n",
    "pvalue(Chisq(k-c), χ², tail=:right)"
   ]
  },
  {
   "cell_type": "code",
   "execution_count": 402,
   "metadata": {
    "collapsed": false
   },
   "outputs": [
    {
     "data": {
      "text/html": [
       "<img src=\"data:image/png;base64,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\" />"
      ]
     },
     "execution_count": 402,
     "metadata": {},
     "output_type": "execute_result"
    }
   ],
   "source": [
    "H₀ = Chisq(k-c)\n",
    "\n",
    "PDF = plot(x -> pdf(H₀,x),  0, χ², legend=false)\n",
    "plot!(PDF, x -> pdf(H₀,x), χ², χ²+100, fill=0)"
   ]
  },
  {
   "cell_type": "code",
   "execution_count": 395,
   "metadata": {
    "collapsed": false
   },
   "outputs": [],
   "source": [
    "#ChisqTest(convert(Vector{Int}, Oᵢ), Eᵢ./sum(Eᵢ))"
   ]
  },
  {
   "cell_type": "markdown",
   "metadata": {},
   "source": [
    "#### Prueba de Kolmogórov-Smirnov"
   ]
  },
  {
   "cell_type": "code",
   "execution_count": null,
   "metadata": {
    "collapsed": true
   },
   "outputs": [],
   "source": []
  },
  {
   "cell_type": "code",
   "execution_count": 98,
   "metadata": {
    "collapsed": false
   },
   "outputs": [
    {
     "data": {
      "text/plain": [
       "Exact one sample Kolmogorov-Smirnov test\n",
       "----------------------------------------\n",
       "Population details:\n",
       "    parameter of interest:   Supremum of CDF differences\n",
       "    value under h_0:         0.0\n",
       "    point estimate:          0.16452234837712226\n",
       "\n",
       "Test summary:\n",
       "    outcome with 95% confidence: fail to reject h_0\n",
       "    two-sided p-value:           0.910483277490135 (not significant)\n",
       "\n",
       "Details:\n",
       "    number of observations:   10\n"
      ]
     },
     "execution_count": 98,
     "metadata": {},
     "output_type": "execute_result"
    }
   ],
   "source": [
    "ExactOneSampleKSTest(muestra, población)"
   ]
  },
  {
   "cell_type": "code",
   "execution_count": null,
   "metadata": {
    "collapsed": true
   },
   "outputs": [],
   "source": []
  }
 ],
 "metadata": {
  "kernelspec": {
   "display_name": "Julia 0.4.5",
   "language": "julia",
   "name": "julia-0.4"
  },
  "language_info": {
   "file_extension": ".jl",
   "mimetype": "application/julia",
   "name": "julia",
   "version": "0.4.5"
  }
 },
 "nbformat": 4,
 "nbformat_minor": 0
}
