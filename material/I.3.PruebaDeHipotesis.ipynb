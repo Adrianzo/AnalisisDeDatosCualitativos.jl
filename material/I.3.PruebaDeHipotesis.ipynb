{
 "cells": [
  {
   "cell_type": "markdown",
   "metadata": {},
   "source": [
    "### Unidad I. Variables, distribuciones y pruebas de hipótesis. \n",
    "\n",
    "## Prueba de Hipótesis. Verificación estadística de hipótesis estadística.\n",
    "\n",
    "- Prueba de bondad de ajuste a una distribución. \n",
    "- Procedimientos no paramétricos chi cuadrado y Kolmogorov–Smirnov\n",
    "- Comparación de dos poblaciones.\n",
    " - Test de Student y Fischer para comparar variables independientes con distribución normal. Test de Student para comparar variables apareadas.\n",
    " - Alternativas no paramétricas de comparación transversal y longitudinal. Los tests de Mann Whitney y Wicolxon.\n",
    " - Otras pruebas de comparación no paramétricas: El test de Kolmogorov-Smirnov y de la Mediana. Test de los signos y de McNemar.\n"
   ]
  },
  {
   "cell_type": "code",
   "execution_count": null,
   "metadata": {
    "collapsed": true
   },
   "outputs": [],
   "source": []
  }
 ],
 "metadata": {
  "kernelspec": {
   "display_name": "Julia 0.4.5",
   "language": "julia",
   "name": "julia-0.4"
  },
  "language_info": {
   "file_extension": ".jl",
   "mimetype": "application/julia",
   "name": "julia",
   "version": "0.4.5"
  }
 },
 "nbformat": 4,
 "nbformat_minor": 0
}
