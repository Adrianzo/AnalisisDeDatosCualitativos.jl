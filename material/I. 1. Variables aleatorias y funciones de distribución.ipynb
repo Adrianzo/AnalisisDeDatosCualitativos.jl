{
 "cells": [
  {
   "cell_type": "markdown",
   "metadata": {},
   "source": [
    "### Unidad I. Variables, distribuciones y pruebas de hipótesis. \n",
    "\n",
    "## Variables aleatorias y funciones de distribución. \n",
    "\n",
    "- [Conceptos de variables aleatorias](#Conceptos-de-variables-aleatorias), funciones de distribución, variables aleatorias discretas y continuas, niveles de medición.  \n",
    "- Distribuciones importantes  \n",
    "- Generación de distribuciones a partir de operaciones con variables aleatorias conocidas.  "
   ]
  },
  {
   "cell_type": "markdown",
   "metadata": {
    "collapsed": true
   },
   "source": [
    "## Conceptos de variables aleatorias"
   ]
  },
  {
   "cell_type": "markdown",
   "metadata": {},
   "source": [
    "- **Variable categórica o cualitativas:** Variables que representan *grupos* o *categorías*. Puede tener escala **nominal** u **ordinal**. Las variables *nomilanes* no tienen un orden definido, mientras las *ordinales* o *casi cuantitativas* tienen un orden definido. Es importante notar que los métodos desarrollados para variables *ordinales* no pueden ser utilizados con variables *nominales*. Los métodos para variables *nominales* pueden ser utilizados con variables *ordinales*, pero se pierde **poder** en el proceso, debido a que no se utiliza la información relativa al orden.\n",
    "- **Variable cuantitativas:** Pueden ser **discretas** o **continuas**."
   ]
  },
  {
   "cell_type": "code",
   "execution_count": null,
   "metadata": {
    "collapsed": true
   },
   "outputs": [],
   "source": []
  }
 ],
 "metadata": {
  "kernelspec": {
   "display_name": "Julia 0.4.5",
   "language": "julia",
   "name": "julia-0.4"
  },
  "language_info": {
   "file_extension": ".jl",
   "mimetype": "application/julia",
   "name": "julia",
   "version": "0.4.5"
  }
 },
 "nbformat": 4,
 "nbformat_minor": 0
}
