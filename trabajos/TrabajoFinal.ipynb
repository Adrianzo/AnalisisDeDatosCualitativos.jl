{
 "cells": [
  {
   "cell_type": "markdown",
   "metadata": {},
   "source": [
    ">**H1**: Hipótesis alternativa que desean demostrar. [4 puntos]  \n",
    "**ML**: Técnica a aplicar. Realizarla sobre el dataset teniendo en cuenta que no es posible obtener nuevos datos. En los casos de métodos predictivos o de clasificación, dar un idea del error que se comente con el modelo elegido sobre el dataset. Deberá interpretar los resultados de manera extensa. [6 puntos]  \n",
    "  \n",
    ">**Justificar todos los pasos realizados.**"
   ]
  },
  {
   "cell_type": "markdown",
   "metadata": {},
   "source": [
    "**msleep**\n",
    "\n",
    "- **Name** Common name  \n",
    "- **Genus**  \n",
    "- **Vore** Carnivore, omnivore or herbivore?  \n",
    "- **Order**  \n",
    "- **Conservation** [The conservation status of the animal](https://en.wikipedia.org/wiki/Conservation_status) \n",
    "- **SleepTotal** Total amount of sleep, in hours  \n",
    "- **SleepRem** REM sleep, in hours  \n",
    "- **SleepCycle** Length of sleep cycle, in hours  \n",
    "- **Awake** Amount of time spent awake, in hours  \n",
    "- **BrainWt** Brain weight in kilograms  \n",
    "- **BodyWt** Body weight in kilograms  "
   ]
  },
  {
   "cell_type": "code",
   "execution_count": 1,
   "metadata": {
    "collapsed": false
   },
   "outputs": [
    {
     "data": {
      "text/html": [
       "<table class=\"data-frame\"><tr><th></th><th>Name</th><th>Genus</th><th>Vore</th><th>Order</th><th>Conservation</th><th>SleepTotal</th><th>SleepRem</th><th>SleepCycle</th><th>Awake</th><th>BrainWt</th><th>BodyWt</th></tr><tr><th>1</th><td>Cheetah</td><td>Acinonyx</td><td>carni</td><td>Carnivora</td><td>lc</td><td>12.1</td><td>NaN</td><td>NaN</td><td>11.9</td><td>NaN</td><td>50.0</td></tr><tr><th>2</th><td>Owl monkey</td><td>Aotus</td><td>omni</td><td>Primates</td><td>NA</td><td>17.0</td><td>1.8</td><td>NaN</td><td>7.0</td><td>0.0155</td><td>0.48</td></tr><tr><th>3</th><td>Mountain beaver</td><td>Aplodontia</td><td>herbi</td><td>Rodentia</td><td>nt</td><td>14.4</td><td>2.4</td><td>NaN</td><td>9.6</td><td>NaN</td><td>1.35</td></tr><tr><th>4</th><td>Greater short-tailed shrew</td><td>Blarina</td><td>omni</td><td>Soricomorpha</td><td>lc</td><td>14.9</td><td>2.3</td><td>0.133333333</td><td>9.1</td><td>0.00029</td><td>0.019</td></tr><tr><th>5</th><td>Cow</td><td>Bos</td><td>herbi</td><td>Artiodactyla</td><td>domesticated</td><td>4.0</td><td>0.7</td><td>0.666666667</td><td>20.0</td><td>0.423</td><td>600.0</td></tr><tr><th>6</th><td>Three-toed sloth</td><td>Bradypus</td><td>herbi</td><td>Pilosa</td><td>NA</td><td>14.4</td><td>2.2</td><td>0.766666667</td><td>9.6</td><td>NaN</td><td>3.85</td></tr></table>"
      ],
      "text/plain": [
       "6×11 DataFrames.DataFrame\n",
       "│ Row │ Name                         │ Genus        │ Vore    │ Order          │\n",
       "├─────┼──────────────────────────────┼──────────────┼─────────┼────────────────┤\n",
       "│ 1   │ \"Cheetah\"                    │ \"Acinonyx\"   │ \"carni\" │ \"Carnivora\"    │\n",
       "│ 2   │ \"Owl monkey\"                 │ \"Aotus\"      │ \"omni\"  │ \"Primates\"     │\n",
       "│ 3   │ \"Mountain beaver\"            │ \"Aplodontia\" │ \"herbi\" │ \"Rodentia\"     │\n",
       "│ 4   │ \"Greater short-tailed shrew\" │ \"Blarina\"    │ \"omni\"  │ \"Soricomorpha\" │\n",
       "│ 5   │ \"Cow\"                        │ \"Bos\"        │ \"herbi\" │ \"Artiodactyla\" │\n",
       "│ 6   │ \"Three-toed sloth\"           │ \"Bradypus\"   │ \"herbi\" │ \"Pilosa\"       │\n",
       "\n",
       "│ Row │ Conservation   │ SleepTotal │ SleepRem │ SleepCycle │ Awake │ BrainWt │\n",
       "├─────┼────────────────┼────────────┼──────────┼────────────┼───────┼─────────┤\n",
       "│ 1   │ \"lc\"           │ 12.1       │ NaN      │ NaN        │ 11.9  │ NaN     │\n",
       "│ 2   │ NA             │ 17.0       │ 1.8      │ NaN        │ 7.0   │ 0.0155  │\n",
       "│ 3   │ \"nt\"           │ 14.4       │ 2.4      │ NaN        │ 9.6   │ NaN     │\n",
       "│ 4   │ \"lc\"           │ 14.9       │ 2.3      │ 0.133333   │ 9.1   │ 0.00029 │\n",
       "│ 5   │ \"domesticated\" │ 4.0        │ 0.7      │ 0.666667   │ 20.0  │ 0.423   │\n",
       "│ 6   │ NA             │ 14.4       │ 2.2      │ 0.766667   │ 9.6   │ NaN     │\n",
       "\n",
       "│ Row │ BodyWt │\n",
       "├─────┼────────┤\n",
       "│ 1   │ 50.0   │\n",
       "│ 2   │ 0.48   │\n",
       "│ 3   │ 1.35   │\n",
       "│ 4   │ 0.019  │\n",
       "│ 5   │ 600.0  │\n",
       "│ 6   │ 3.85   │"
      ]
     },
     "execution_count": 1,
     "metadata": {},
     "output_type": "execute_result"
    }
   ],
   "source": [
    "using RDatasets\n",
    "msleep = dataset(\"ggplot2\",\"msleep\")\n",
    "head(msleep)"
   ]
  },
  {
   "cell_type": "markdown",
   "metadata": {},
   "source": [
    "**Agustín**  \n",
    "\n",
    "**H1**: El tamaño del animal tiene un efecto mayor sobre las horas de sueño que del tamaño de su cerebro.   \n",
    "**ML**: LDA o regresión logística para lograr un clasificador de la dieta del animal dependiendo de las variables cuantitativas del dataset.  "
   ]
  },
  {
   "cell_type": "markdown",
   "metadata": {},
   "source": [
    "**Miguel**  \n",
    "\n",
    "**H1**: La cantidad de horas de sueño de un animal está relacionado con su dieta.   \n",
    "**ML**: Realizar un clustering jerárquico de los animales utilizando las variables cuantitativas del dataset. Realizar además un clustering jerárquico de las variables cualitativas del dataset.  "
   ]
  },
  {
   "cell_type": "markdown",
   "metadata": {},
   "source": [
    "**Cecilia**  \n",
    "\n",
    "**H1**: La dieta del animal diferencia tanto a su cantidad de horas de sueño como al tiempo que pasa en sueño REM.   \n",
    "**ML**: Lograr un modelo que permita predecir la cantidad de horas de sueño REM dependiendo de la cantidad de sueño total, del peso del animal y del peso de su cerebro.  "
   ]
  },
  {
   "cell_type": "markdown",
   "metadata": {},
   "source": [
    "**Eloy**  \n",
    "\n",
    "**H1**: El tamaño del animal tiene un efecto mayor sobre las horas de sueño que del tamaño de su cerebro.   \n",
    "**ML**: LDA o regresión logística para lograr un clasificador de la dieta del animal dependiendo de las variables cuantitativas del dataset   "
   ]
  },
  {
   "cell_type": "markdown",
   "metadata": {},
   "source": [
    "**Julia**  \n",
    "\n",
    "**H1**: Los animales con un mayor tamaño corporal duermen más horas.   \n",
    "**ML**: CA utilizando la dieta y el estado de conservación   "
   ]
  },
  {
   "cell_type": "markdown",
   "metadata": {},
   "source": [
    "**Lorena**  \n",
    "\n",
    "**H1**: La dieta del animal diferencia tanto a su cantidad de horas de sueño como al tiempo que pasa en sueño REM.   \n",
    "**ML**: PCA de las variables cuantitativas del dataset    "
   ]
  },
  {
   "cell_type": "markdown",
   "metadata": {},
   "source": [
    "**Sol**  \n",
    "\n",
    "**H1**: La cantidad de horas de sueño de un animal está relacionado con su dieta.  \n",
    "**ML**: Realizar un clustering jerárquico de los animales utilizando las variables cuantitativas del dataset. Realizar además un clustering jerárquico de las variables cualitativas del dataset.  "
   ]
  },
  {
   "cell_type": "markdown",
   "metadata": {},
   "source": [
    "**Victorio**  \n",
    "\n",
    "**H1**: Los animales con cerebros más grandes pasan más horas en sueño REM.   \n",
    "**ML**: CA utilizando la dieta y el estado de conservación   "
   ]
  },
  {
   "cell_type": "markdown",
   "metadata": {},
   "source": [
    "**Carina**  \n",
    "\n",
    "**H1**: Los animales con cerebros más grandes pasan más horas en sueño REM.   \n",
    "**ML**: Lograr un modelo que permita predecir la cantidad de horas de sueño REM dependiendo de la cantidad de sueño total, del peso del animal y del peso de su cerebro.   "
   ]
  },
  {
   "cell_type": "markdown",
   "metadata": {},
   "source": [
    "**Ana**  \n",
    "\n",
    "**H1**: Los animales con un mayor tamaño corporal duermen más horas.   \n",
    "**ML**: PCA de las variables cuantitativas del dataset   "
   ]
  },
  {
   "cell_type": "markdown",
   "metadata": {},
   "source": [
    "### Bonus [1 punto]:"
   ]
  },
  {
   "cell_type": "code",
   "execution_count": 2,
   "metadata": {
    "collapsed": false
   },
   "outputs": [
    {
     "name": "stdout",
     "output_type": "stream",
     "text": [
      "[Plots.jl] Initializing backend: pyplot\n"
     ]
    },
    {
     "data": {
      "text/html": [
       "<img src=\"data:image/png;base64,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\" />"
      ]
     },
     "execution_count": 2,
     "metadata": {},
     "output_type": "execute_result"
    }
   ],
   "source": [
    "using Plots\n",
    "\n",
    "subset = msleep[:,[:BodyWt, :BrainWt]]\n",
    "\n",
    "subset[isnan(subset[:BodyWt]), :BodyWt] = NA\n",
    "subset[isnan(subset[:BrainWt]), :BrainWt] = NA\n",
    "complete_cases!(subset)\n",
    "\n",
    "scatter(subset, :BodyWt, :BrainWt, scale=:log, legend=:none)"
   ]
  },
  {
   "cell_type": "markdown",
   "metadata": {},
   "source": [
    "El [coeficiente de correlación lineal de Pearson](https://en.wikipedia.org/wiki/Pearson_product-moment_correlation_coefficient) entre el logaritmo del peso de un animal y el logaritmo del peso de su cerebro es (la relación entre las variables es lineal en escala logarítmica):"
   ]
  },
  {
   "cell_type": "code",
   "execution_count": 3,
   "metadata": {
    "collapsed": false
   },
   "outputs": [
    {
     "data": {
      "text/plain": [
       "0.9653246165758779"
      ]
     },
     "execution_count": 3,
     "metadata": {},
     "output_type": "execute_result"
    }
   ],
   "source": [
    "r = cor(log(subset[:BodyWt]), log(subset[:BrainWt]))"
   ]
  },
  {
   "cell_type": "markdown",
   "metadata": {},
   "source": [
    "Dado que la hipótesis nula es la ausencia de correlación (`r == 0.0`), y que [el siguiente estadístico sigue una distribución T de Student](https://en.wikipedia.org/wiki/Pearson_product-moment_correlation_coefficient#Testing_using_Student.27s_t-distribution) con `n-2` grados de libertdad (siendo `n` el número de puntos) bajo esa H0, **determinar el P value asociado a la H1: `r != 0.0`**\n",
    "  \n",
    "$$ t = r\\sqrt{\\frac{n-2}{1-r^{2}}} $$"
   ]
  }
 ],
 "metadata": {
  "kernelspec": {
   "display_name": "Julia 0.4.5",
   "language": "julia",
   "name": "julia-0.4"
  },
  "language_info": {
   "file_extension": ".jl",
   "mimetype": "application/julia",
   "name": "julia",
   "version": "0.4.5"
  }
 },
 "nbformat": 4,
 "nbformat_minor": 0
}
