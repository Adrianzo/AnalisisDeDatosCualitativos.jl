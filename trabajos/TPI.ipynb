{
 "cells": [
  {
   "cell_type": "markdown",
   "metadata": {},
   "source": [
    "# Trabajo práctico I\n",
    "## Análisis exploratorio de datos"
   ]
  },
  {
   "cell_type": "markdown",
   "metadata": {},
   "source": [
    "Deberán entregar está *IJulia notebook* con el análisis exploratorio del *dataset* asignado. Deberán leer la guía de [Análisis descriptivo de datos](http://nbviewer.jupyter.org/github/diegozea/AnalisisDeDatosCualitativos.jl/blob/96630dec6d6b0583e3793acf0fbda8413b03c210/material/I.2.AnalisisDescriptivoDeDatos.ipynb), en la cual encontrarán información para guiarse durante el análisis.  "
   ]
  },
  {
   "cell_type": "markdown",
   "metadata": {},
   "source": [
    "Sus comentarios deben escribirlos en celdas del tipo *Markdown* o *Raw NBConvert* preferentemente. Aunque también pueden escribir comentarios en celdas de código usando `#`."
   ]
  },
  {
   "cell_type": "markdown",
   "metadata": {},
   "source": [
    "Celda **Markdown**"
   ]
  },
  {
   "cell_type": "raw",
   "metadata": {},
   "source": [
    "Celda Raw NBConvert"
   ]
  },
  {
   "cell_type": "code",
   "execution_count": 1,
   "metadata": {
    "collapsed": true
   },
   "outputs": [],
   "source": [
    "# Celda Code (comentario en celda de código estándar)"
   ]
  },
  {
   "cell_type": "markdown",
   "metadata": {},
   "source": [
    "La siguiente celda cargará una serie de bibliotecas de *Julia* que les serán útiles para resolver los problemas, comento al lado algunas cosas de interés..."
   ]
  },
  {
   "cell_type": "code",
   "execution_count": 2,
   "metadata": {
    "collapsed": false
   },
   "outputs": [
    {
     "name": "stderr",
     "output_type": "stream",
     "text": [
      "WARNING: Method definition call(Polynomials.Poly, Any) in module Polynomials at /home/dzea/.julia/v0.4/Polynomials/src/Polynomials.jl:302 overwritten in module CurveFit at /home/dzea/.julia/v0.4/CurveFit/src/linfit.jl:124.\n"
     ]
    }
   ],
   "source": [
    "using DataFrames\n",
    "using StatsBase\n",
    "using Distributions\n",
    "using HypothesisTests\n",
    "using RDatasets\n",
    "using RCall # Si saben hacer algo de ésto con R, pueden acceder R desde Julia con RCall\n",
    "using PyCall # Si saben hacer algo de ésto con Python, pueden acceder Python desde Julia con PyCall\n",
    "using Plots # Para usar Plots.plot(...)\n",
    "pyplot()\n",
    "using Gadfly # Para usar Gadfly.plot(...), es necesario para hacer el QQ plot "
   ]
  },
  {
   "cell_type": "markdown",
   "metadata": {},
   "source": [
    "A continuación se cargan los *datasets* a utilizar por cada uno. Con una breve descripción comentada. **Solo tienen que analizar el que les corresponde.**"
   ]
  },
  {
   "cell_type": "code",
   "execution_count": 3,
   "metadata": {
    "collapsed": false
   },
   "outputs": [],
   "source": [
    "# Agustín: msleep\n",
    "# ---------------\n",
    "\n",
    "# An updated and expanded version of the mammals sleep dataset.\n",
    "# This is an updated and expanded version of the mammals sleep dataset. \n",
    "# Updated sleep times and weights were taken from V. M. Savage and G. B. West. \n",
    "# A quantitative, theoretical framework for understanding mammalian sleep. \n",
    "# Proceedings of the National Academy of Sciences, 104 (3):1051-1056, 2007.\n",
    "# A data frame with 83 rows and 11 variables\n",
    "# Aditional variables order, conservation status and vore were added from wikipedia.\n",
    "# name. common name\n",
    "# genus.\n",
    "# vore. carnivore, omnivore or herbivore?\n",
    "# order.\n",
    "# conservation. the conservation status of the animal\n",
    "# sleep\\_total. total amount of sleep, in hours\n",
    "# sleep\\_rem. rem sleep, in hours\n",
    "# sleep\\_cycle. length of sleep cycle, in hours\n",
    "# awake. amount of time spent awake, in hours\n",
    "# brainwt. brain weight in kilograms\n",
    "# bodywt. body weight in kilograms\n",
    "\n",
    "msleep = dataset(\"ggplot2\",\"msleep\")\n",
    "\n",
    "# Miguel: mammals\n",
    "# ---------------\n",
    "\n",
    "# Brain and Body Weights for 62 Species of Land Mammals\n",
    "# A data frame with average brain and body weights for 62 species of land mammals.\n",
    "# body: body weight in kg.\n",
    "# brain: brain weight in g.\n",
    "# name: Common name of species. (Rock hyrax-a = Heterohyrax brucci, Rock hyrax-b = Procavia habessinic..)\n",
    "\n",
    "mammals = dataset(\"MASS\",\"mammals\")\n",
    "\n",
    "# Cecilia: Butterfly\n",
    "# ------------------\n",
    "\n",
    "# Butterfly Species in Malaya\n",
    "# Data from Fisher et al. (1943) giving the number of tokens found for each of \n",
    "# 501 species of butterflies collected in Malaya.\n",
    "# A 1-way table giving the number of tokens for 501 species of butterflies. \n",
    "# The variable and its levels are:\n",
    "# No Name    Levels\n",
    "# 1  nTokens 0, 1, ..., 24\n",
    "\n",
    "Butterfly = dataset(\"vcd\",\"Butterfly\")\n",
    "\n",
    "# Eloy: poisons\n",
    "# -------------\n",
    "\n",
    "# The poisons data frame has 48 rows and 3 columns.\n",
    "# The data form a 3x4 factorial experiment, the factors being three poisons and four treatments. \n",
    "# Each combination of the two factors was used for four animals, \n",
    "# the allocation to animals having been completely randomized.\n",
    "# This data frame contains the following columns:\n",
    "# time: The survival time of the animal in units of 10 hours.\n",
    "# poison: A factor with levels 1, 2 and 3 giving the type of poison used.\n",
    "# treat: A factor with levels A, B, C and D giving the treatment.\n",
    "\n",
    "poisons = dataset(\"boot\",\"poisons\")\n",
    "\n",
    "# Julia: flower\n",
    "# -------------\n",
    "\n",
    "# 8 characteristics for 18 popular flowers.\n",
    "# A data frame with 18 observations on 8 variables:\n",
    "# V1: winters, is binary and indicates whether the plant may be left in the garden when it freezes.\n",
    "# V2: shadow, is binary and shows whether the plant needs to stand in the shadow.\n",
    "# V3: tubers, is asymmetric binary and distinguishes between plants \n",
    "#     with tubers and plants that grow in any other way.\n",
    "# V4: color, is nominal and specifies the flower's color \n",
    "#     (1 = white, 2 = yellow, 3 = pink, 4 = red, 5 = blue).\n",
    "# V5: soil, is ordinal and indicates whether the plant grows in dry (1), normal (2), or wet (3) soil.\n",
    "# V6: preference, is ordinal and gives someone's preference ranking going from 1 to 18.\n",
    "# V7: height, is interval scaled, the plant's height in centimeters.\n",
    "# V8: distance, is interval scaled, the distance in centimeters that should be left between the plants.\n",
    "\n",
    "flower = dataset(\"cluster\",\"flower\")\n",
    "\n",
    "# Lorena: fsnps\n",
    "# -------------\n",
    "\n",
    "# A case-control data involving four SNPs with missing genotype\n",
    "# This is a simulated data of four SNPs with their alleles coded in characters. \n",
    "# The variable y contains phenotypes (1=case, 0=control).\n",
    "\n",
    "fsnps = dataset(\"gap\",\"fsnps\")\n",
    "\n",
    "# Sol: animals\n",
    "# ------------\n",
    "\n",
    "# This data set considers 6 binary attributes for 20 animals.\n",
    "# A data frame with 20 observations on 6 variables:\n",
    "# [:,1] war: warm-blooded\n",
    "# [:,2] fly: can fly\n",
    "# [:,3] ver: vertebrate\n",
    "# [:,4] end: endangered\n",
    "# [:,5] gro: live in groups\n",
    "# [:,6] hai: have hair\n",
    "# All variables are encoded as 1 = ‘no’, 2 = ‘yes’.\n",
    "\n",
    "animals = dataset(\"cluster\",\"animals\")\n",
    "\n",
    "# Victorio: genotype\n",
    "# ------------------\n",
    "\n",
    "# Rat Genotype Data\n",
    "# Data from a foster feeding experiment with rat mothers and litters of four different genotypes: \n",
    "# A, B, I and J. Rat litters were separated from their \n",
    "# natural mothers at birth and given to foster mothers to rear.\n",
    "# The data frame has the following components:\n",
    "# Litter: genotype of the litter.\n",
    "# Mother: genotype of the foster mother.\n",
    "# Wt: Litter average weight gain of the litter, in grams at age 28 days. \n",
    "# (The source states that the within-litter variability is negligible.)\n",
    "\n",
    "genotype = dataset(\"MASS\",\"genotype\")\n",
    "\n",
    "# Carina: bacteria\n",
    "# ----------------\n",
    "\n",
    "# Presence of Bacteria after Drug Treatments\n",
    "# Tests of the presence of the bacteria H. influenzae in \n",
    "# children with otitis media in the Northern Territory of Australia.\n",
    "# This data frame has 220 rows and the following columns:\n",
    "# y: presence or absence: a factor with levels n and y.\n",
    "# ap: active/placebo: a factor with levels a and p.\n",
    "# hilo: hi/low compliance: a factor with levels hi amd lo.\n",
    "# week: numeric: week of test.\n",
    "# ID: subject ID: a factor.\n",
    "# trt: a factor with levels placebo, drug and drug+, a re-coding of ap and hilo.\n",
    "# Dr A. Leach tested the effects of a drug on 50 children with a history of otitis media \n",
    "# in the Northern Territory of Australia. \n",
    "# The children were randomized to the drug or the a placebo, and \n",
    "# also to receive active encouragement to comply with taking the drug.\n",
    "\n",
    "bacteria = dataset(\"MASS\",\"bacteria\")\n",
    "\n",
    "# Ana: claridge\n",
    "# -------------\n",
    "\n",
    "# Genetic Links to Left-handedness\n",
    "# The claridge data frame has 37 rows and 2 columns.\n",
    "# The data are from an experiment which was designed to look \n",
    "# for a relationship between a certain genetic characteristic and handedness. \n",
    "# The 37 subjects were women who had a son with mental retardation due to \n",
    "# inheriting a defective X-chromosome. \n",
    "# For each such mother a genetic measurement of their DNA was made. \n",
    "# Larger values of this measurement are known to be linked to the defective gene and \n",
    "# it was hypothesized that larger values might also be linked to \n",
    "# a progressive shift away from right-handednesss. \n",
    "# Each woman also filled in a questionnaire regarding which hand they used for various tasks. \n",
    "# From these questionnaires a measure of hand preference was found for each mother. \n",
    "# The scale of this measure goes from 1, \n",
    "# indicating someone who always favours their right hand, to 8, \n",
    "# indicating someone who always favours their left hand. \n",
    "# Between these two extremes are people who favour one hand for some tasks and the other for other tasks.\n",
    "# This data frame contains the following columns:\n",
    "# dnan: The genetic measurement on each woman's DNA.\n",
    "# hand: The measure of left-handedness on an integer scale from 1 to 8.\n",
    "\n",
    "claridge  = dataset(\"boot\",\"claridge\");"
   ]
  },
  {
   "cell_type": "markdown",
   "metadata": {},
   "source": [
    "**1 -** Realice una descripción de las variables de su dataset. ¿Son cualitativas o cuantitativas? ¿Ordinales o nominales? ¿Discretas o continuas? ¿Cuales son los niveles de medición utilizados?"
   ]
  },
  {
   "cell_type": "code",
   "execution_count": null,
   "metadata": {
    "collapsed": true
   },
   "outputs": [],
   "source": []
  },
  {
   "cell_type": "markdown",
   "metadata": {},
   "source": [
    "**2 -** ¿Es posible reconocer algún tipo de muestreo?"
   ]
  },
  {
   "cell_type": "code",
   "execution_count": null,
   "metadata": {
    "collapsed": true
   },
   "outputs": [],
   "source": []
  },
  {
   "cell_type": "markdown",
   "metadata": {},
   "source": [
    "**3 -** ¿Cómo dividiría el *dataset* en dos sub conjunto de datos al azar de manera de evitar la teorización *post hoc*?"
   ]
  },
  {
   "cell_type": "code",
   "execution_count": null,
   "metadata": {
    "collapsed": true
   },
   "outputs": [],
   "source": []
  },
  {
   "cell_type": "markdown",
   "metadata": {},
   "source": [
    "**4 -** ¿Cuáles son los estadísticos de resumen para cada una de las variables?"
   ]
  },
  {
   "cell_type": "code",
   "execution_count": null,
   "metadata": {
    "collapsed": true
   },
   "outputs": [],
   "source": []
  },
  {
   "cell_type": "markdown",
   "metadata": {},
   "source": [
    "**5 -** Realice gráficos descriptivos para ganar una idea de cómo se distribuyen las variables."
   ]
  },
  {
   "cell_type": "code",
   "execution_count": null,
   "metadata": {
    "collapsed": true
   },
   "outputs": [],
   "source": []
  },
  {
   "cell_type": "markdown",
   "metadata": {},
   "source": [
    "**6 -** Sugiera una distribución de probabilidad para al menos dos variables."
   ]
  },
  {
   "cell_type": "code",
   "execution_count": null,
   "metadata": {
    "collapsed": true
   },
   "outputs": [],
   "source": []
  },
  {
   "cell_type": "markdown",
   "metadata": {},
   "source": [
    "**7 -** Para una de esas variables, ajuste la distribución de probabilidad propuesta."
   ]
  },
  {
   "cell_type": "code",
   "execution_count": null,
   "metadata": {
    "collapsed": true
   },
   "outputs": [],
   "source": []
  },
  {
   "cell_type": "markdown",
   "metadata": {},
   "source": [
    "**8 -** Testee la normalidad de alguna de las variables. Use `shapiro.test` de R desde Julia."
   ]
  },
  {
   "cell_type": "code",
   "execution_count": null,
   "metadata": {
    "collapsed": true
   },
   "outputs": [],
   "source": []
  }
 ],
 "metadata": {
  "kernelspec": {
   "display_name": "Julia 0.4.5",
   "language": "julia",
   "name": "julia-0.4"
  },
  "language_info": {
   "file_extension": ".jl",
   "mimetype": "application/julia",
   "name": "julia",
   "version": "0.4.5"
  }
 },
 "nbformat": 4,
 "nbformat_minor": 0
}
